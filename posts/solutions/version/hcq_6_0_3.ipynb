{
 "cells": [
  {
   "cell_type": "code",
   "execution_count": null,
   "metadata": {},
   "outputs": [],
   "source": []
  },
  {
   "cell_type": "markdown",
   "metadata": {},
   "source": [
    "## Import libraries"
   ]
  },
  {
   "cell_type": "code",
   "execution_count": 1,
   "metadata": {},
   "outputs": [],
   "source": [
    "import pandas as pd\n",
    "import spacy\n",
    "from spacy.matcher import Matcher\n",
    "from spacy import displacy"
   ]
  },
  {
   "cell_type": "code",
   "execution_count": 2,
   "metadata": {},
   "outputs": [
    {
     "name": "stderr",
     "output_type": "stream",
     "text": [
      "/Users/gerdgrasshoff/opt/anaconda3/lib/python3.7/site-packages/spacy/util.py:271: UserWarning: [W031] Model 'en_core_web_sm' (2.2.5) requires spaCy v2.2 and is incompatible with the current spaCy version (2.3.0). This may lead to unexpected results or runtime errors. To resolve this, download a newer compatible model or retrain your custom model with the current spaCy version. For more details and available updates, run: python -m spacy validate\n",
      "  warnings.warn(warn_msg)\n"
     ]
    }
   ],
   "source": [
    "# Import English Library\n",
    "nlp = spacy.load(\"en_core_web_sm\")"
   ]
  },
  {
   "cell_type": "markdown",
   "metadata": {},
   "source": [
    "## Load dataframe"
   ]
  },
  {
   "cell_type": "code",
   "execution_count": 3,
   "metadata": {},
   "outputs": [
    {
     "data": {
      "text/html": [
       "<div>\n",
       "<style scoped>\n",
       "    .dataframe tbody tr th:only-of-type {\n",
       "        vertical-align: middle;\n",
       "    }\n",
       "\n",
       "    .dataframe tbody tr th {\n",
       "        vertical-align: top;\n",
       "    }\n",
       "\n",
       "    .dataframe thead th {\n",
       "        text-align: right;\n",
       "    }\n",
       "</style>\n",
       "<table border=\"1\" class=\"dataframe\">\n",
       "  <thead>\n",
       "    <tr style=\"text-align: right;\">\n",
       "      <th></th>\n",
       "      <th>Publication ID</th>\n",
       "      <th>title</th>\n",
       "      <th>abstract</th>\n",
       "      <th>abstract_clean</th>\n",
       "    </tr>\n",
       "  </thead>\n",
       "  <tbody>\n",
       "    <tr>\n",
       "      <th>0</th>\n",
       "      <td>pub.1126880632</td>\n",
       "      <td>COVID-19 and what pediatric rheumatologists sh...</td>\n",
       "      <td>On March 11th, 2020 the World Health Organizat...</td>\n",
       "      <td>On March 11th, 2020 the World Health Organizat...</td>\n",
       "    </tr>\n",
       "    <tr>\n",
       "      <th>1</th>\n",
       "      <td>pub.1127834352</td>\n",
       "      <td>Hydroxychloroquine or chloroquine with or with...</td>\n",
       "      <td>BACKGROUND: Hydroxychloroquine or chloroquine,...</td>\n",
       "      <td>BACKGROUND: Hydroxychloroquine or chloroquine,...</td>\n",
       "    </tr>\n",
       "    <tr>\n",
       "      <th>2</th>\n",
       "      <td>pub.1126667578</td>\n",
       "      <td>Hydroxychloroquine in patients mainly with mil...</td>\n",
       "      <td>Abstract Objectives To assess the efficacy and...</td>\n",
       "      <td>Abstract Objectives To assess the efficacy and...</td>\n",
       "    </tr>\n",
       "    <tr>\n",
       "      <th>3</th>\n",
       "      <td>pub.1125404383</td>\n",
       "      <td>Of chloroquine and COVID-19</td>\n",
       "      <td>Recent publications have brought attention to ...</td>\n",
       "      <td>Recent publications have brought attention to ...</td>\n",
       "    </tr>\n",
       "    <tr>\n",
       "      <th>4</th>\n",
       "      <td>pub.1127182972</td>\n",
       "      <td>An independent appraisal and re-analysis of hy...</td>\n",
       "      <td>A recent open-label study claimed that hydroxy...</td>\n",
       "      <td>A recent open-label study claimed that hydroxy...</td>\n",
       "    </tr>\n",
       "  </tbody>\n",
       "</table>\n",
       "</div>"
      ],
      "text/plain": [
       "   Publication ID                                              title  \\\n",
       "0  pub.1126880632  COVID-19 and what pediatric rheumatologists sh...   \n",
       "1  pub.1127834352  Hydroxychloroquine or chloroquine with or with...   \n",
       "2  pub.1126667578  Hydroxychloroquine in patients mainly with mil...   \n",
       "3  pub.1125404383                        Of chloroquine and COVID-19   \n",
       "4  pub.1127182972  An independent appraisal and re-analysis of hy...   \n",
       "\n",
       "                                            abstract  \\\n",
       "0  On March 11th, 2020 the World Health Organizat...   \n",
       "1  BACKGROUND: Hydroxychloroquine or chloroquine,...   \n",
       "2  Abstract Objectives To assess the efficacy and...   \n",
       "3  Recent publications have brought attention to ...   \n",
       "4  A recent open-label study claimed that hydroxy...   \n",
       "\n",
       "                                      abstract_clean  \n",
       "0  On March 11th, 2020 the World Health Organizat...  \n",
       "1  BACKGROUND: Hydroxychloroquine or chloroquine,...  \n",
       "2  Abstract Objectives To assess the efficacy and...  \n",
       "3  Recent publications have brought attention to ...  \n",
       "4  A recent open-label study claimed that hydroxy...  "
      ]
     },
     "execution_count": 3,
     "metadata": {},
     "output_type": "execute_result"
    }
   ],
   "source": [
    "df = pd.read_json(\"df_HCQ.json\")\n",
    "df.head()"
   ]
  },
  {
   "cell_type": "code",
   "execution_count": 4,
   "metadata": {},
   "outputs": [
    {
     "name": "stdout",
     "output_type": "stream",
     "text": [
      "<class 'pandas.core.frame.DataFrame'>\n",
      "Int64Index: 17 entries, 0 to 16\n",
      "Data columns (total 4 columns):\n",
      " #   Column          Non-Null Count  Dtype \n",
      "---  ------          --------------  ----- \n",
      " 0   Publication ID  17 non-null     object\n",
      " 1   title           17 non-null     object\n",
      " 2   abstract        17 non-null     object\n",
      " 3   abstract_clean  17 non-null     object\n",
      "dtypes: object(4)\n",
      "memory usage: 680.0+ bytes\n"
     ]
    }
   ],
   "source": [
    "df.info()"
   ]
  },
  {
   "cell_type": "markdown",
   "metadata": {},
   "source": [
    "## Reshape dataframe"
   ]
  },
  {
   "cell_type": "code",
   "execution_count": 5,
   "metadata": {},
   "outputs": [],
   "source": [
    "# Make new dataframe from 'df': df_HCQ\n",
    "df_HCQ = df[[\"Publication ID\", \"title\", \"abstract_clean\"]]"
   ]
  },
  {
   "cell_type": "code",
   "execution_count": 6,
   "metadata": {},
   "outputs": [],
   "source": [
    "# Add column 'doc' to 'df_HCQ'\n",
    "# 'df_HCQ[\"doc\"]' shall contain Doc-objects made from abstracts\n",
    "df_HCQ[\"doc\"] = df_HCQ[\"abstract_clean\"].apply(nlp)"
   ]
  },
  {
   "cell_type": "code",
   "execution_count": 7,
   "metadata": {},
   "outputs": [
    {
     "name": "stdout",
     "output_type": "stream",
     "text": [
      "<class 'pandas.core.frame.DataFrame'>\n",
      "Int64Index: 17 entries, 0 to 16\n",
      "Data columns (total 4 columns):\n",
      " #   Column          Non-Null Count  Dtype \n",
      "---  ------          --------------  ----- \n",
      " 0   Publication ID  17 non-null     object\n",
      " 1   title           17 non-null     object\n",
      " 2   abstract_clean  17 non-null     object\n",
      " 3   doc             17 non-null     object\n",
      "dtypes: object(4)\n",
      "memory usage: 680.0+ bytes\n"
     ]
    }
   ],
   "source": [
    "df_HCQ.info()"
   ]
  },
  {
   "cell_type": "code",
   "execution_count": 8,
   "metadata": {},
   "outputs": [
    {
     "data": {
      "text/html": [
       "<div>\n",
       "<style scoped>\n",
       "    .dataframe tbody tr th:only-of-type {\n",
       "        vertical-align: middle;\n",
       "    }\n",
       "\n",
       "    .dataframe tbody tr th {\n",
       "        vertical-align: top;\n",
       "    }\n",
       "\n",
       "    .dataframe thead th {\n",
       "        text-align: right;\n",
       "    }\n",
       "</style>\n",
       "<table border=\"1\" class=\"dataframe\">\n",
       "  <thead>\n",
       "    <tr style=\"text-align: right;\">\n",
       "      <th></th>\n",
       "      <th>Publication ID</th>\n",
       "      <th>title</th>\n",
       "      <th>abstract_clean</th>\n",
       "      <th>doc</th>\n",
       "    </tr>\n",
       "  </thead>\n",
       "  <tbody>\n",
       "    <tr>\n",
       "      <th>0</th>\n",
       "      <td>pub.1126880632</td>\n",
       "      <td>COVID-19 and what pediatric rheumatologists sh...</td>\n",
       "      <td>On March 11th, 2020 the World Health Organizat...</td>\n",
       "      <td>(On, March, 11th, ,, 2020, the, World, Health,...</td>\n",
       "    </tr>\n",
       "    <tr>\n",
       "      <th>1</th>\n",
       "      <td>pub.1127834352</td>\n",
       "      <td>Hydroxychloroquine or chloroquine with or with...</td>\n",
       "      <td>BACKGROUND: Hydroxychloroquine or chloroquine,...</td>\n",
       "      <td>(BACKGROUND, :, Hydroxychloroquine, or, chloro...</td>\n",
       "    </tr>\n",
       "    <tr>\n",
       "      <th>2</th>\n",
       "      <td>pub.1126667578</td>\n",
       "      <td>Hydroxychloroquine in patients mainly with mil...</td>\n",
       "      <td>Abstract Objectives To assess the efficacy and...</td>\n",
       "      <td>(Abstract, Objectives, To, assess, the, effica...</td>\n",
       "    </tr>\n",
       "    <tr>\n",
       "      <th>3</th>\n",
       "      <td>pub.1125404383</td>\n",
       "      <td>Of chloroquine and COVID-19</td>\n",
       "      <td>Recent publications have brought attention to ...</td>\n",
       "      <td>(Recent, publications, have, brought, attentio...</td>\n",
       "    </tr>\n",
       "    <tr>\n",
       "      <th>4</th>\n",
       "      <td>pub.1127182972</td>\n",
       "      <td>An independent appraisal and re-analysis of hy...</td>\n",
       "      <td>A recent open-label study claimed that hydroxy...</td>\n",
       "      <td>(A, recent, open, -, label, study, claimed, th...</td>\n",
       "    </tr>\n",
       "  </tbody>\n",
       "</table>\n",
       "</div>"
      ],
      "text/plain": [
       "   Publication ID                                              title  \\\n",
       "0  pub.1126880632  COVID-19 and what pediatric rheumatologists sh...   \n",
       "1  pub.1127834352  Hydroxychloroquine or chloroquine with or with...   \n",
       "2  pub.1126667578  Hydroxychloroquine in patients mainly with mil...   \n",
       "3  pub.1125404383                        Of chloroquine and COVID-19   \n",
       "4  pub.1127182972  An independent appraisal and re-analysis of hy...   \n",
       "\n",
       "                                      abstract_clean  \\\n",
       "0  On March 11th, 2020 the World Health Organizat...   \n",
       "1  BACKGROUND: Hydroxychloroquine or chloroquine,...   \n",
       "2  Abstract Objectives To assess the efficacy and...   \n",
       "3  Recent publications have brought attention to ...   \n",
       "4  A recent open-label study claimed that hydroxy...   \n",
       "\n",
       "                                                 doc  \n",
       "0  (On, March, 11th, ,, 2020, the, World, Health,...  \n",
       "1  (BACKGROUND, :, Hydroxychloroquine, or, chloro...  \n",
       "2  (Abstract, Objectives, To, assess, the, effica...  \n",
       "3  (Recent, publications, have, brought, attentio...  \n",
       "4  (A, recent, open, -, label, study, claimed, th...  "
      ]
     },
     "execution_count": 8,
     "metadata": {},
     "output_type": "execute_result"
    }
   ],
   "source": [
    "df_HCQ.head()"
   ]
  },
  {
   "cell_type": "code",
   "execution_count": 9,
   "metadata": {},
   "outputs": [],
   "source": [
    "def get_sentences(doc):\n",
    "    sents_list = [sent for sent in doc.sents]\n",
    "    \n",
    "    return sents_list"
   ]
  },
  {
   "cell_type": "code",
   "execution_count": 10,
   "metadata": {},
   "outputs": [
    {
     "name": "stdout",
     "output_type": "stream",
     "text": [
      "<class 'pandas.core.frame.DataFrame'>\n",
      "Int64Index: 17 entries, 0 to 16\n",
      "Data columns (total 5 columns):\n",
      " #   Column          Non-Null Count  Dtype \n",
      "---  ------          --------------  ----- \n",
      " 0   Publication ID  17 non-null     object\n",
      " 1   title           17 non-null     object\n",
      " 2   abstract_clean  17 non-null     object\n",
      " 3   doc             17 non-null     object\n",
      " 4   sentences       17 non-null     object\n",
      "dtypes: object(5)\n",
      "memory usage: 816.0+ bytes\n"
     ]
    }
   ],
   "source": [
    "df_HCQ[\"sentences\"] = df_HCQ[\"doc\"].apply(get_sentences)\n",
    "df_HCQ.info()"
   ]
  },
  {
   "cell_type": "code",
   "execution_count": 11,
   "metadata": {},
   "outputs": [
    {
     "data": {
      "text/html": [
       "<div>\n",
       "<style scoped>\n",
       "    .dataframe tbody tr th:only-of-type {\n",
       "        vertical-align: middle;\n",
       "    }\n",
       "\n",
       "    .dataframe tbody tr th {\n",
       "        vertical-align: top;\n",
       "    }\n",
       "\n",
       "    .dataframe thead th {\n",
       "        text-align: right;\n",
       "    }\n",
       "</style>\n",
       "<table border=\"1\" class=\"dataframe\">\n",
       "  <thead>\n",
       "    <tr style=\"text-align: right;\">\n",
       "      <th></th>\n",
       "      <th>Publication ID</th>\n",
       "      <th>title</th>\n",
       "      <th>abstract_clean</th>\n",
       "      <th>doc</th>\n",
       "      <th>sentences</th>\n",
       "    </tr>\n",
       "  </thead>\n",
       "  <tbody>\n",
       "    <tr>\n",
       "      <th>0</th>\n",
       "      <td>pub.1126880632</td>\n",
       "      <td>COVID-19 and what pediatric rheumatologists sh...</td>\n",
       "      <td>On March 11th, 2020 the World Health Organizat...</td>\n",
       "      <td>(On, March, 11th, ,, 2020, the, World, Health,...</td>\n",
       "      <td>[(On, March, 11th, ,, 2020, the, World, Health...</td>\n",
       "    </tr>\n",
       "    <tr>\n",
       "      <th>1</th>\n",
       "      <td>pub.1127834352</td>\n",
       "      <td>Hydroxychloroquine or chloroquine with or with...</td>\n",
       "      <td>BACKGROUND: Hydroxychloroquine or chloroquine,...</td>\n",
       "      <td>(BACKGROUND, :, Hydroxychloroquine, or, chloro...</td>\n",
       "      <td>[(BACKGROUND, :), (Hydroxychloroquine, or, chl...</td>\n",
       "    </tr>\n",
       "    <tr>\n",
       "      <th>2</th>\n",
       "      <td>pub.1126667578</td>\n",
       "      <td>Hydroxychloroquine in patients mainly with mil...</td>\n",
       "      <td>Abstract Objectives To assess the efficacy and...</td>\n",
       "      <td>(Abstract, Objectives, To, assess, the, effica...</td>\n",
       "      <td>[(Abstract, Objectives, To, assess, the, effic...</td>\n",
       "    </tr>\n",
       "  </tbody>\n",
       "</table>\n",
       "</div>"
      ],
      "text/plain": [
       "   Publication ID                                              title  \\\n",
       "0  pub.1126880632  COVID-19 and what pediatric rheumatologists sh...   \n",
       "1  pub.1127834352  Hydroxychloroquine or chloroquine with or with...   \n",
       "2  pub.1126667578  Hydroxychloroquine in patients mainly with mil...   \n",
       "\n",
       "                                      abstract_clean  \\\n",
       "0  On March 11th, 2020 the World Health Organizat...   \n",
       "1  BACKGROUND: Hydroxychloroquine or chloroquine,...   \n",
       "2  Abstract Objectives To assess the efficacy and...   \n",
       "\n",
       "                                                 doc  \\\n",
       "0  (On, March, 11th, ,, 2020, the, World, Health,...   \n",
       "1  (BACKGROUND, :, Hydroxychloroquine, or, chloro...   \n",
       "2  (Abstract, Objectives, To, assess, the, effica...   \n",
       "\n",
       "                                           sentences  \n",
       "0  [(On, March, 11th, ,, 2020, the, World, Health...  \n",
       "1  [(BACKGROUND, :), (Hydroxychloroquine, or, chl...  \n",
       "2  [(Abstract, Objectives, To, assess, the, effic...  "
      ]
     },
     "execution_count": 11,
     "metadata": {},
     "output_type": "execute_result"
    }
   ],
   "source": [
    "df_HCQ.head(3)"
   ]
  },
  {
   "cell_type": "markdown",
   "metadata": {},
   "source": [
    "### Example abstracts"
   ]
  },
  {
   "cell_type": "code",
   "execution_count": 12,
   "metadata": {},
   "outputs": [
    {
     "name": "stdout",
     "output_type": "stream",
     "text": [
      "(0) Background Treatments are urgently needed to prevent respiratory failure and deaths from coronavirus disease 2019 (COVID-19).\n",
      "(1) Hydroxychloroquine (HCQ) has received worldwide attention because of positive results from small studies.\n",
      "(2) Methods We used data collected from routine care of all adults in 4 French hospitals with documented SARS-CoV-2 pneumonia and requiring oxygen ≥ 2 L/min to emulate a target trial aimed at assessing the effectiveness of HCQ at 600 mg/day.\n",
      "(3) The composite primary endpoint was transfer to intensive care unit (ICU) within 7 days from inclusion and/or death from any cause.\n",
      "(4) Analyses were adjusted for confounding factors by inverse probability of treatment weighting.\n",
      "(5) Results This study included 181 patients with SARS-CoV-2 pneumonia; 84 received HCQ within 48 hours of admission (HCQ group) and 97 did not (no-HCQ group).\n",
      "(6) Initial severity was well balanced between the groups.\n",
      "(7) In the weighted analysis, 20.2% patients in the HCQ group were transferred to the ICU or died within 7 days vs 22.1% in the no-HCQ group (16 vs 21 events, relative risk [RR] 0.91, 95% CI 0.47-1.80).\n",
      "(8) In the HCQ group, 2.8% of the patients died within 7 days vs 4.6% in the no-HCQ group (3 vs 4 events, RR 0.61, 95% CI 0.13-2.89), and 27.4% and 24.1%, respectively, developed acute respiratory distress syndrome within 7 days (24 vs 23 events, RR 1.14, 95% CI 0.65-2.00).\n",
      "(9) Eight patients receiving HCQ (9.5%) experienced electrocardiogram modifications requiring HCQ discontinuation.\n",
      "(10) Interpretation\n",
      "(11) These results do not support the use of HCQ in patients hospitalised for documented SARS-CoV-2-positive hypoxic pneumonia.\n"
     ]
    }
   ],
   "source": [
    "sentences_6 = df_HCQ[\"sentences\"].iloc[6]\n",
    "for i, sentence in enumerate(sentences_6):\n",
    "    print(f\"({i}) {sentence}\")"
   ]
  },
  {
   "cell_type": "code",
   "execution_count": 13,
   "metadata": {},
   "outputs": [
    {
     "name": "stdout",
     "output_type": "stream",
     "text": [
      "(0) The coronavirus disease 2019 (COVID-19) virus is spreading rapidly, and scientists are endeavoring to discover drugs for its efficacious treatment in China.\n",
      "(1) Chloroquine phosphate, an old drug for treatment of malaria, is shown to have apparent efficacy and acceptable safety against COVID-19 associated pneumonia in multicenter clinical trials conducted in China.\n",
      "(2) The drug is recommended to be included in the next version of the Guidelines for the Prevention, Diagnosis, and Treatment of Pneumonia Caused by COVID-19 issued by the National Health Commission of the People's Republic of China for treatment of COVID-19 infection in larger populations in the future.\n"
     ]
    }
   ],
   "source": [
    "sentences_14 = df_HCQ[\"sentences\"].iloc[14]\n",
    "for i, sentence in enumerate(sentences_14):\n",
    "    print(f\"({i}) {sentence}\")"
   ]
  },
  {
   "cell_type": "markdown",
   "metadata": {},
   "source": [
    "### Example of disagreement-sentences (from different abstracts)"
   ]
  },
  {
   "cell_type": "code",
   "execution_count": 14,
   "metadata": {},
   "outputs": [
    {
     "name": "stdout",
     "output_type": "stream",
     "text": [
      "(PRO) The drug is recommended to be included in the next version of the Guidelines for the Prevention, Diagnosis, and Treatment of Pneumonia Caused by COVID-19 issued by the National Health Commission of the People's Republic of China for treatment of COVID-19 infection in larger populations in the future.\n",
      "\n",
      "\n",
      "(CON) These results do not support the use of HCQ in patients hospitalised for documented SARS-CoV-2-positive hypoxic pneumonia.\n"
     ]
    }
   ],
   "source": [
    "pro_example = sentences_14[2]\n",
    "con_example= sentences_6[-1] # also: sentences_6[15]; '[-1]' shall point out, that the disagreeing sentence is the last\n",
    "                             # sentence in the abstract\n",
    "\n",
    "print(f\"(PRO) {pro_example}\")\n",
    "print(\"\\n\")\n",
    "print(f\"(CON) {con_example}\")"
   ]
  },
  {
   "cell_type": "markdown",
   "metadata": {},
   "source": [
    "* The debated statement is a statement of causal relevancy. \"Chloroquine phosphate\"/\"HCQ\" is said to be effective against COVID-19 related pneumonia. AND it is safe enough to do no harm to patients. I.e. (Hydroxy)chloroquine is suitable for giving it to patients. So HCQ is said to heal patients that suffer form COVID-19 related pneumonia. Thus, the debated statement is this: (CR) \"Treatment with (Hydroxy)chloroquine ist causally relevant for healing COVID-19 related pneumonia\". If CR is true, then (Hydroxy)chloroquine could or should be used to treat COVID-19 related pneumonia. CR is the debated statement.\n",
    "* PRO claims that some body of evidence \"show[s]\" CR. (The body of evidence is not stated in PRO, but I suppose some evidence is assumed that is suitable for \"showing\" CR.) CON claims that some body of evidence (\"[t]hese results\") \"support[s]\" CR. (Let's ignore for a moment that there is a negation in CON). Both PRO and CON say that there is a relation between some body of evidence and CR. Let's call that relation \"support-relation\", or SUP(x,y) for short. PRO states that the support-relation obtains between some body of evidence and CR (SUP(E,CR)), whereas CON denies that this relation obtains (NOT SUP(E,CR)).\n",
    "* Claiming that the support-relation obtains between some body of evidence and CR means that one claims, that CR is true (or at least might well be true). But denying that the support-relation obtains is **not** to say that CR is false.\n",
    "* There is disagreement between PRO and CON. The disagreement is **not**: PRO states that CR is true while CON states that CR is NOT true. The disagreement rather seems to be: PRO states SUP(E,CR) while CON states NOT SUP(E,CR). It seems to be promising to search for expressions (verbs) that express SUP."
   ]
  },
  {
   "cell_type": "markdown",
   "metadata": {},
   "source": [
    "### Alternative 1: Search for verbs (POS)"
   ]
  },
  {
   "cell_type": "code",
   "execution_count": 15,
   "metadata": {},
   "outputs": [],
   "source": [
    "pattern_1 = [{\"POS\": \"VERB\"}]\n",
    "\n",
    "matcher_pro_1 = Matcher(nlp.vocab)\n",
    "matcher_pro_1.add(\"verb_pro_id\", None, pattern_1)\n",
    "\n",
    "matcher_con_1 = Matcher(nlp.vocab)\n",
    "matcher_con_1.add(\"verb_con_id\", None, pattern_1)\n",
    "\n",
    "matches_pro_1 = matcher_pro_1(pro_example)\n",
    "matches_con_1 = matcher_con_1(con_example)"
   ]
  },
  {
   "cell_type": "code",
   "execution_count": 16,
   "metadata": {},
   "outputs": [
    {
     "name": "stdout",
     "output_type": "stream",
     "text": [
      "The the DET\n",
      "drug drug NOUN\n",
      "is be AUX\n",
      "recommended recommend VERB\n",
      "to to PART\n",
      "be be AUX\n",
      "included include VERB\n",
      "in in ADP\n",
      "the the DET\n",
      "next next ADJ\n",
      "version version NOUN\n",
      "of of ADP\n",
      "the the DET\n",
      "Guidelines Guidelines PROPN\n",
      "for for ADP\n",
      "the the DET\n",
      "Prevention Prevention PROPN\n",
      ", , PUNCT\n",
      "Diagnosis Diagnosis PROPN\n",
      ", , PUNCT\n",
      "and and CCONJ\n",
      "Treatment Treatment PROPN\n",
      "of of ADP\n",
      "Pneumonia Pneumonia PROPN\n",
      "Caused cause VERB\n",
      "by by ADP\n",
      "COVID-19 covid-19 ADV\n",
      "issued issue VERB\n",
      "by by ADP\n",
      "the the DET\n",
      "National National PROPN\n",
      "Health Health PROPN\n",
      "Commission Commission PROPN\n",
      "of of ADP\n",
      "the the DET\n",
      "People People PROPN\n",
      "'s 's PART\n",
      "Republic Republic PROPN\n",
      "of of ADP\n",
      "China China PROPN\n",
      "for for ADP\n",
      "treatment treatment NOUN\n",
      "of of ADP\n",
      "COVID-19 covid-19 ADJ\n",
      "infection infection NOUN\n",
      "in in ADP\n",
      "larger large ADJ\n",
      "populations population NOUN\n",
      "in in ADP\n",
      "the the DET\n",
      "future future NOUN\n",
      ". . PUNCT\n"
     ]
    }
   ],
   "source": [
    "for token in pro_example:\n",
    "    print(token.text, token.lemma_, token.pos_)"
   ]
  },
  {
   "cell_type": "code",
   "execution_count": 17,
   "metadata": {},
   "outputs": [
    {
     "name": "stdout",
     "output_type": "stream",
     "text": [
      "(PRO) The drug is recommended to be included in the next version of the Guidelines for the Prevention, Diagnosis, and Treatment of Pneumonia Caused by COVID-19 issued by the National Health Commission of the People's Republic of China for treatment of COVID-19 infection in larger populations in the future.\n",
      "\n",
      "Verb found in (PRO): recommend\n",
      "\n",
      "Verb found in (PRO): include\n",
      "\n",
      "Verb found in (PRO): cause\n",
      "\n",
      "Verb found in (PRO): issue\n",
      "\n"
     ]
    }
   ],
   "source": [
    "print(f\"(PRO) {pro_example}\\n\")\n",
    "for verb_pro_id, start, end in matches_pro_1:\n",
    "    print(f\"Verb found in (PRO): {pro_example[start:end].lemma_}\\n\")"
   ]
  },
  {
   "cell_type": "markdown",
   "metadata": {},
   "source": [
    "Searching for verbs as part of speech (POS) yields \"show\" which expresses SUP in the context of PRO. But it also gives \"conduct\" which in the context of PRO does not express SUP. (\"conduct\" here means that a certain kind of trials were executed in China.)"
   ]
  },
  {
   "cell_type": "code",
   "execution_count": 18,
   "metadata": {},
   "outputs": [
    {
     "name": "stdout",
     "output_type": "stream",
     "text": [
      "These these DET\n",
      "results result NOUN\n",
      "do do AUX\n",
      "not not PART\n",
      "support support VERB\n",
      "the the DET\n",
      "use use NOUN\n",
      "of of ADP\n",
      "HCQ HCQ PROPN\n",
      "in in ADP\n",
      "patients patient NOUN\n",
      "hospitalised hospitalise VERB\n",
      "for for ADP\n",
      "documented document VERB\n",
      "SARS SARS PROPN\n",
      "- - PUNCT\n",
      "CoV-2-positive CoV-2-positive PROPN\n",
      "hypoxic hypoxic ADJ\n",
      "pneumonia pneumonia NOUN\n",
      ". . PUNCT\n"
     ]
    }
   ],
   "source": [
    "for token in con_example:\n",
    "    print(token.text, token.lemma_, token.pos_)"
   ]
  },
  {
   "cell_type": "code",
   "execution_count": 19,
   "metadata": {},
   "outputs": [
    {
     "name": "stdout",
     "output_type": "stream",
     "text": [
      "(CON) These results do not support the use of HCQ in patients hospitalised for documented SARS-CoV-2-positive hypoxic pneumonia.\n",
      "\n",
      "Verb found in (CON): support\n",
      "\n",
      "Verb found in (CON): hospitalise\n",
      "\n",
      "Verb found in (CON): document\n",
      "\n"
     ]
    }
   ],
   "source": [
    "print(f\"(CON) {con_example}\\n\")\n",
    "for verb_con_id, start, end in matches_con_1:\n",
    "    print(f\"Verb found in (CON): {con_example[start:end].lemma_}\\n\")"
   ]
  },
  {
   "cell_type": "markdown",
   "metadata": {},
   "source": [
    "Searching for verbs as part of speech (POS) yields:\n",
    "* \"support\", which in the context of CON expresses SUP\n",
    "* verbs that do not express SUP in the context of CON\n",
    "  - \"hospitalise\": Saying that patients were in hospital\n",
    "  - \"document\": Saying that patients were tested positive for SARS-CoV-2 (and had pneumonia)"
   ]
  },
  {
   "cell_type": "markdown",
   "metadata": {},
   "source": [
    "### Alternative 2: Search for \"ROOT\" (DEP)"
   ]
  },
  {
   "cell_type": "code",
   "execution_count": 20,
   "metadata": {},
   "outputs": [],
   "source": [
    "pattern_2 = [{\"DEP\": \"ROOT\"}]\n",
    "\n",
    "matcher_pro_2 = Matcher(nlp.vocab)\n",
    "matcher_pro_2.add(\"root_pro_id\", None, pattern_2)\n",
    "\n",
    "matcher_con_2 = Matcher(nlp.vocab)\n",
    "matcher_con_2.add(\"root_con_id\", None, pattern_2)\n",
    "\n",
    "matches_pro_2 = matcher_pro_2(pro_example)\n",
    "matches_con_2 = matcher_con_2(con_example)"
   ]
  },
  {
   "cell_type": "code",
   "execution_count": 21,
   "metadata": {},
   "outputs": [
    {
     "name": "stdout",
     "output_type": "stream",
     "text": [
      "The the det\n",
      "drug drug nsubjpass\n",
      "is be auxpass\n",
      "recommended recommend ROOT\n",
      "to to aux\n",
      "be be auxpass\n",
      "included include xcomp\n",
      "in in prep\n",
      "the the det\n",
      "next next amod\n",
      "version version pobj\n",
      "of of prep\n",
      "the the det\n",
      "Guidelines Guidelines pobj\n",
      "for for prep\n",
      "the the det\n",
      "Prevention Prevention pobj\n",
      ", , punct\n",
      "Diagnosis Diagnosis conj\n",
      ", , punct\n",
      "and and cc\n",
      "Treatment Treatment conj\n",
      "of of prep\n",
      "Pneumonia Pneumonia pobj\n",
      "Caused cause acl\n",
      "by by agent\n",
      "COVID-19 covid-19 pobj\n",
      "issued issue acl\n",
      "by by agent\n",
      "the the det\n",
      "National National compound\n",
      "Health Health compound\n",
      "Commission Commission pobj\n",
      "of of prep\n",
      "the the det\n",
      "People People poss\n",
      "'s 's case\n",
      "Republic Republic pobj\n",
      "of of prep\n",
      "China China pobj\n",
      "for for prep\n",
      "treatment treatment pobj\n",
      "of of prep\n",
      "COVID-19 covid-19 amod\n",
      "infection infection pobj\n",
      "in in prep\n",
      "larger large amod\n",
      "populations population pobj\n",
      "in in prep\n",
      "the the det\n",
      "future future pobj\n",
      ". . punct\n"
     ]
    }
   ],
   "source": [
    "for token in pro_example:\n",
    "    print(token.text, token.lemma_, token.dep_)"
   ]
  },
  {
   "cell_type": "code",
   "execution_count": 22,
   "metadata": {},
   "outputs": [
    {
     "name": "stdout",
     "output_type": "stream",
     "text": [
      "(PRO) The drug is recommended to be included in the next version of the Guidelines for the Prevention, Diagnosis, and Treatment of Pneumonia Caused by COVID-19 issued by the National Health Commission of the People's Republic of China for treatment of COVID-19 infection in larger populations in the future.\n",
      "\n",
      "'ROOT' found in (PRO): recommend\n",
      "\n"
     ]
    }
   ],
   "source": [
    "print(f\"(PRO) {pro_example}\\n\")\n",
    "for root_pro_id, start, end in matches_pro_2:\n",
    "    print(f\"'ROOT' found in (PRO): {pro_example[start:end].lemma_}\\n\")"
   ]
  },
  {
   "cell_type": "markdown",
   "metadata": {},
   "source": [
    "DEP-search for \"ROOT\" gives \"show\" which expresses SUP in the context of PRO. This search finds exactly what I was looking for."
   ]
  },
  {
   "cell_type": "code",
   "execution_count": 23,
   "metadata": {},
   "outputs": [
    {
     "name": "stdout",
     "output_type": "stream",
     "text": [
      "These these det\n",
      "results result nsubj\n",
      "do do aux\n",
      "not not neg\n",
      "support support ROOT\n",
      "the the det\n",
      "use use dobj\n",
      "of of prep\n",
      "HCQ HCQ pobj\n",
      "in in prep\n",
      "patients patient pobj\n",
      "hospitalised hospitalise acl\n",
      "for for prep\n",
      "documented document amod\n",
      "SARS SARS npadvmod\n",
      "- - punct\n",
      "CoV-2-positive CoV-2-positive amod\n",
      "hypoxic hypoxic amod\n",
      "pneumonia pneumonia pobj\n",
      ". . punct\n"
     ]
    }
   ],
   "source": [
    "for token in con_example:\n",
    "    print(token.text, token.lemma_, token.dep_)"
   ]
  },
  {
   "cell_type": "code",
   "execution_count": 24,
   "metadata": {},
   "outputs": [
    {
     "name": "stdout",
     "output_type": "stream",
     "text": [
      "(CON) These results do not support the use of HCQ in patients hospitalised for documented SARS-CoV-2-positive hypoxic pneumonia.\n",
      "\n",
      "'ROOT' found in (CON): support\n",
      "\n"
     ]
    }
   ],
   "source": [
    "print(f\"(CON) {con_example}\\n\")\n",
    "for root_con_id, start, end in matches_con_2:\n",
    "    print(f\"'ROOT' found in (CON): {con_example[start:end].lemma_}\\n\")"
   ]
  },
  {
   "cell_type": "markdown",
   "metadata": {},
   "source": [
    "DEP-search for \"ROOT\" gives \"support\" which expresses SUP in the context of CON. This search finds exactly what I was looking for."
   ]
  },
  {
   "cell_type": "markdown",
   "metadata": {},
   "source": [
    "* POS-search for verbs gives SUP-expressions. But it also gives verbs that do not express SUP. Some search results are not relevent-\n",
    "* DEP-search for \"ROOT\" yields exactly those expressions that express SUP. All search results are relevant. (But perhaps it is too restrictive and finds not all SUP-expressions. This has to be investigated further.)\n",
    "* DEP-search for \"ROOT\" might be the more promising alternative to follow."
   ]
  },
  {
   "cell_type": "markdown",
   "metadata": {},
   "source": [
    "### Tentative search for patterns"
   ]
  },
  {
   "cell_type": "markdown",
   "metadata": {},
   "source": [
    "##### A first pattern: [{\"DEP\": \"ROOT\"}, {\"DEP\": \"det\"}]"
   ]
  },
  {
   "cell_type": "code",
   "execution_count": 25,
   "metadata": {},
   "outputs": [
    {
     "data": {
      "text/html": [
       "<span class=\"tex2jax_ignore\"><svg xmlns=\"http://www.w3.org/2000/svg\" xmlns:xlink=\"http://www.w3.org/1999/xlink\" xml:lang=\"en\" id=\"318718584c69429784798b0bdf8b798b-0\" class=\"displacy\" width=\"3200\" height=\"574.5\" direction=\"ltr\" style=\"max-width: none; height: 574.5px; color: #000000; background: #ffffff; font-family: Arial; direction: ltr\">\n",
       "<text class=\"displacy-token\" fill=\"currentColor\" text-anchor=\"middle\" y=\"484.5\">\n",
       "    <tspan class=\"displacy-word\" fill=\"currentColor\" x=\"50\">These</tspan>\n",
       "    <tspan class=\"displacy-tag\" dy=\"2em\" fill=\"currentColor\" x=\"50\">DET</tspan>\n",
       "</text>\n",
       "\n",
       "<text class=\"displacy-token\" fill=\"currentColor\" text-anchor=\"middle\" y=\"484.5\">\n",
       "    <tspan class=\"displacy-word\" fill=\"currentColor\" x=\"225\">results</tspan>\n",
       "    <tspan class=\"displacy-tag\" dy=\"2em\" fill=\"currentColor\" x=\"225\">NOUN</tspan>\n",
       "</text>\n",
       "\n",
       "<text class=\"displacy-token\" fill=\"currentColor\" text-anchor=\"middle\" y=\"484.5\">\n",
       "    <tspan class=\"displacy-word\" fill=\"currentColor\" x=\"400\">do</tspan>\n",
       "    <tspan class=\"displacy-tag\" dy=\"2em\" fill=\"currentColor\" x=\"400\">AUX</tspan>\n",
       "</text>\n",
       "\n",
       "<text class=\"displacy-token\" fill=\"currentColor\" text-anchor=\"middle\" y=\"484.5\">\n",
       "    <tspan class=\"displacy-word\" fill=\"currentColor\" x=\"575\">not</tspan>\n",
       "    <tspan class=\"displacy-tag\" dy=\"2em\" fill=\"currentColor\" x=\"575\">PART</tspan>\n",
       "</text>\n",
       "\n",
       "<text class=\"displacy-token\" fill=\"currentColor\" text-anchor=\"middle\" y=\"484.5\">\n",
       "    <tspan class=\"displacy-word\" fill=\"currentColor\" x=\"750\">support</tspan>\n",
       "    <tspan class=\"displacy-tag\" dy=\"2em\" fill=\"currentColor\" x=\"750\">VERB</tspan>\n",
       "</text>\n",
       "\n",
       "<text class=\"displacy-token\" fill=\"currentColor\" text-anchor=\"middle\" y=\"484.5\">\n",
       "    <tspan class=\"displacy-word\" fill=\"currentColor\" x=\"925\">the</tspan>\n",
       "    <tspan class=\"displacy-tag\" dy=\"2em\" fill=\"currentColor\" x=\"925\">DET</tspan>\n",
       "</text>\n",
       "\n",
       "<text class=\"displacy-token\" fill=\"currentColor\" text-anchor=\"middle\" y=\"484.5\">\n",
       "    <tspan class=\"displacy-word\" fill=\"currentColor\" x=\"1100\">use</tspan>\n",
       "    <tspan class=\"displacy-tag\" dy=\"2em\" fill=\"currentColor\" x=\"1100\">NOUN</tspan>\n",
       "</text>\n",
       "\n",
       "<text class=\"displacy-token\" fill=\"currentColor\" text-anchor=\"middle\" y=\"484.5\">\n",
       "    <tspan class=\"displacy-word\" fill=\"currentColor\" x=\"1275\">of</tspan>\n",
       "    <tspan class=\"displacy-tag\" dy=\"2em\" fill=\"currentColor\" x=\"1275\">ADP</tspan>\n",
       "</text>\n",
       "\n",
       "<text class=\"displacy-token\" fill=\"currentColor\" text-anchor=\"middle\" y=\"484.5\">\n",
       "    <tspan class=\"displacy-word\" fill=\"currentColor\" x=\"1450\">HCQ</tspan>\n",
       "    <tspan class=\"displacy-tag\" dy=\"2em\" fill=\"currentColor\" x=\"1450\">PROPN</tspan>\n",
       "</text>\n",
       "\n",
       "<text class=\"displacy-token\" fill=\"currentColor\" text-anchor=\"middle\" y=\"484.5\">\n",
       "    <tspan class=\"displacy-word\" fill=\"currentColor\" x=\"1625\">in</tspan>\n",
       "    <tspan class=\"displacy-tag\" dy=\"2em\" fill=\"currentColor\" x=\"1625\">ADP</tspan>\n",
       "</text>\n",
       "\n",
       "<text class=\"displacy-token\" fill=\"currentColor\" text-anchor=\"middle\" y=\"484.5\">\n",
       "    <tspan class=\"displacy-word\" fill=\"currentColor\" x=\"1800\">patients</tspan>\n",
       "    <tspan class=\"displacy-tag\" dy=\"2em\" fill=\"currentColor\" x=\"1800\">NOUN</tspan>\n",
       "</text>\n",
       "\n",
       "<text class=\"displacy-token\" fill=\"currentColor\" text-anchor=\"middle\" y=\"484.5\">\n",
       "    <tspan class=\"displacy-word\" fill=\"currentColor\" x=\"1975\">hospitalised</tspan>\n",
       "    <tspan class=\"displacy-tag\" dy=\"2em\" fill=\"currentColor\" x=\"1975\">VERB</tspan>\n",
       "</text>\n",
       "\n",
       "<text class=\"displacy-token\" fill=\"currentColor\" text-anchor=\"middle\" y=\"484.5\">\n",
       "    <tspan class=\"displacy-word\" fill=\"currentColor\" x=\"2150\">for</tspan>\n",
       "    <tspan class=\"displacy-tag\" dy=\"2em\" fill=\"currentColor\" x=\"2150\">ADP</tspan>\n",
       "</text>\n",
       "\n",
       "<text class=\"displacy-token\" fill=\"currentColor\" text-anchor=\"middle\" y=\"484.5\">\n",
       "    <tspan class=\"displacy-word\" fill=\"currentColor\" x=\"2325\">documented</tspan>\n",
       "    <tspan class=\"displacy-tag\" dy=\"2em\" fill=\"currentColor\" x=\"2325\">VERB</tspan>\n",
       "</text>\n",
       "\n",
       "<text class=\"displacy-token\" fill=\"currentColor\" text-anchor=\"middle\" y=\"484.5\">\n",
       "    <tspan class=\"displacy-word\" fill=\"currentColor\" x=\"2500\">SARS-</tspan>\n",
       "    <tspan class=\"displacy-tag\" dy=\"2em\" fill=\"currentColor\" x=\"2500\">PROPN</tspan>\n",
       "</text>\n",
       "\n",
       "<text class=\"displacy-token\" fill=\"currentColor\" text-anchor=\"middle\" y=\"484.5\">\n",
       "    <tspan class=\"displacy-word\" fill=\"currentColor\" x=\"2675\">CoV-2-positive</tspan>\n",
       "    <tspan class=\"displacy-tag\" dy=\"2em\" fill=\"currentColor\" x=\"2675\">PROPN</tspan>\n",
       "</text>\n",
       "\n",
       "<text class=\"displacy-token\" fill=\"currentColor\" text-anchor=\"middle\" y=\"484.5\">\n",
       "    <tspan class=\"displacy-word\" fill=\"currentColor\" x=\"2850\">hypoxic</tspan>\n",
       "    <tspan class=\"displacy-tag\" dy=\"2em\" fill=\"currentColor\" x=\"2850\">ADJ</tspan>\n",
       "</text>\n",
       "\n",
       "<text class=\"displacy-token\" fill=\"currentColor\" text-anchor=\"middle\" y=\"484.5\">\n",
       "    <tspan class=\"displacy-word\" fill=\"currentColor\" x=\"3025\">pneumonia.</tspan>\n",
       "    <tspan class=\"displacy-tag\" dy=\"2em\" fill=\"currentColor\" x=\"3025\">NOUN</tspan>\n",
       "</text>\n",
       "\n",
       "<g class=\"displacy-arrow\">\n",
       "    <path class=\"displacy-arc\" id=\"arrow-318718584c69429784798b0bdf8b798b-0-0\" stroke-width=\"2px\" d=\"M70,439.5 C70,352.0 205.0,352.0 205.0,439.5\" fill=\"none\" stroke=\"currentColor\"/>\n",
       "    <text dy=\"1.25em\" style=\"font-size: 0.8em; letter-spacing: 1px\">\n",
       "        <textPath xlink:href=\"#arrow-318718584c69429784798b0bdf8b798b-0-0\" class=\"displacy-label\" startOffset=\"50%\" side=\"left\" fill=\"currentColor\" text-anchor=\"middle\">det</textPath>\n",
       "    </text>\n",
       "    <path class=\"displacy-arrowhead\" d=\"M70,441.5 L62,429.5 78,429.5\" fill=\"currentColor\"/>\n",
       "</g>\n",
       "\n",
       "<g class=\"displacy-arrow\">\n",
       "    <path class=\"displacy-arc\" id=\"arrow-318718584c69429784798b0bdf8b798b-0-1\" stroke-width=\"2px\" d=\"M245,439.5 C245,177.0 740.0,177.0 740.0,439.5\" fill=\"none\" stroke=\"currentColor\"/>\n",
       "    <text dy=\"1.25em\" style=\"font-size: 0.8em; letter-spacing: 1px\">\n",
       "        <textPath xlink:href=\"#arrow-318718584c69429784798b0bdf8b798b-0-1\" class=\"displacy-label\" startOffset=\"50%\" side=\"left\" fill=\"currentColor\" text-anchor=\"middle\">nsubj</textPath>\n",
       "    </text>\n",
       "    <path class=\"displacy-arrowhead\" d=\"M245,441.5 L237,429.5 253,429.5\" fill=\"currentColor\"/>\n",
       "</g>\n",
       "\n",
       "<g class=\"displacy-arrow\">\n",
       "    <path class=\"displacy-arc\" id=\"arrow-318718584c69429784798b0bdf8b798b-0-2\" stroke-width=\"2px\" d=\"M420,439.5 C420,264.5 735.0,264.5 735.0,439.5\" fill=\"none\" stroke=\"currentColor\"/>\n",
       "    <text dy=\"1.25em\" style=\"font-size: 0.8em; letter-spacing: 1px\">\n",
       "        <textPath xlink:href=\"#arrow-318718584c69429784798b0bdf8b798b-0-2\" class=\"displacy-label\" startOffset=\"50%\" side=\"left\" fill=\"currentColor\" text-anchor=\"middle\">aux</textPath>\n",
       "    </text>\n",
       "    <path class=\"displacy-arrowhead\" d=\"M420,441.5 L412,429.5 428,429.5\" fill=\"currentColor\"/>\n",
       "</g>\n",
       "\n",
       "<g class=\"displacy-arrow\">\n",
       "    <path class=\"displacy-arc\" id=\"arrow-318718584c69429784798b0bdf8b798b-0-3\" stroke-width=\"2px\" d=\"M595,439.5 C595,352.0 730.0,352.0 730.0,439.5\" fill=\"none\" stroke=\"currentColor\"/>\n",
       "    <text dy=\"1.25em\" style=\"font-size: 0.8em; letter-spacing: 1px\">\n",
       "        <textPath xlink:href=\"#arrow-318718584c69429784798b0bdf8b798b-0-3\" class=\"displacy-label\" startOffset=\"50%\" side=\"left\" fill=\"currentColor\" text-anchor=\"middle\">neg</textPath>\n",
       "    </text>\n",
       "    <path class=\"displacy-arrowhead\" d=\"M595,441.5 L587,429.5 603,429.5\" fill=\"currentColor\"/>\n",
       "</g>\n",
       "\n",
       "<g class=\"displacy-arrow\">\n",
       "    <path class=\"displacy-arc\" id=\"arrow-318718584c69429784798b0bdf8b798b-0-4\" stroke-width=\"2px\" d=\"M945,439.5 C945,352.0 1080.0,352.0 1080.0,439.5\" fill=\"none\" stroke=\"currentColor\"/>\n",
       "    <text dy=\"1.25em\" style=\"font-size: 0.8em; letter-spacing: 1px\">\n",
       "        <textPath xlink:href=\"#arrow-318718584c69429784798b0bdf8b798b-0-4\" class=\"displacy-label\" startOffset=\"50%\" side=\"left\" fill=\"currentColor\" text-anchor=\"middle\">det</textPath>\n",
       "    </text>\n",
       "    <path class=\"displacy-arrowhead\" d=\"M945,441.5 L937,429.5 953,429.5\" fill=\"currentColor\"/>\n",
       "</g>\n",
       "\n",
       "<g class=\"displacy-arrow\">\n",
       "    <path class=\"displacy-arc\" id=\"arrow-318718584c69429784798b0bdf8b798b-0-5\" stroke-width=\"2px\" d=\"M770,439.5 C770,264.5 1085.0,264.5 1085.0,439.5\" fill=\"none\" stroke=\"currentColor\"/>\n",
       "    <text dy=\"1.25em\" style=\"font-size: 0.8em; letter-spacing: 1px\">\n",
       "        <textPath xlink:href=\"#arrow-318718584c69429784798b0bdf8b798b-0-5\" class=\"displacy-label\" startOffset=\"50%\" side=\"left\" fill=\"currentColor\" text-anchor=\"middle\">dobj</textPath>\n",
       "    </text>\n",
       "    <path class=\"displacy-arrowhead\" d=\"M1085.0,441.5 L1093.0,429.5 1077.0,429.5\" fill=\"currentColor\"/>\n",
       "</g>\n",
       "\n",
       "<g class=\"displacy-arrow\">\n",
       "    <path class=\"displacy-arc\" id=\"arrow-318718584c69429784798b0bdf8b798b-0-6\" stroke-width=\"2px\" d=\"M1120,439.5 C1120,352.0 1255.0,352.0 1255.0,439.5\" fill=\"none\" stroke=\"currentColor\"/>\n",
       "    <text dy=\"1.25em\" style=\"font-size: 0.8em; letter-spacing: 1px\">\n",
       "        <textPath xlink:href=\"#arrow-318718584c69429784798b0bdf8b798b-0-6\" class=\"displacy-label\" startOffset=\"50%\" side=\"left\" fill=\"currentColor\" text-anchor=\"middle\">prep</textPath>\n",
       "    </text>\n",
       "    <path class=\"displacy-arrowhead\" d=\"M1255.0,441.5 L1263.0,429.5 1247.0,429.5\" fill=\"currentColor\"/>\n",
       "</g>\n",
       "\n",
       "<g class=\"displacy-arrow\">\n",
       "    <path class=\"displacy-arc\" id=\"arrow-318718584c69429784798b0bdf8b798b-0-7\" stroke-width=\"2px\" d=\"M1295,439.5 C1295,352.0 1430.0,352.0 1430.0,439.5\" fill=\"none\" stroke=\"currentColor\"/>\n",
       "    <text dy=\"1.25em\" style=\"font-size: 0.8em; letter-spacing: 1px\">\n",
       "        <textPath xlink:href=\"#arrow-318718584c69429784798b0bdf8b798b-0-7\" class=\"displacy-label\" startOffset=\"50%\" side=\"left\" fill=\"currentColor\" text-anchor=\"middle\">pobj</textPath>\n",
       "    </text>\n",
       "    <path class=\"displacy-arrowhead\" d=\"M1430.0,441.5 L1438.0,429.5 1422.0,429.5\" fill=\"currentColor\"/>\n",
       "</g>\n",
       "\n",
       "<g class=\"displacy-arrow\">\n",
       "    <path class=\"displacy-arc\" id=\"arrow-318718584c69429784798b0bdf8b798b-0-8\" stroke-width=\"2px\" d=\"M1120,439.5 C1120,177.0 1615.0,177.0 1615.0,439.5\" fill=\"none\" stroke=\"currentColor\"/>\n",
       "    <text dy=\"1.25em\" style=\"font-size: 0.8em; letter-spacing: 1px\">\n",
       "        <textPath xlink:href=\"#arrow-318718584c69429784798b0bdf8b798b-0-8\" class=\"displacy-label\" startOffset=\"50%\" side=\"left\" fill=\"currentColor\" text-anchor=\"middle\">prep</textPath>\n",
       "    </text>\n",
       "    <path class=\"displacy-arrowhead\" d=\"M1615.0,441.5 L1623.0,429.5 1607.0,429.5\" fill=\"currentColor\"/>\n",
       "</g>\n",
       "\n",
       "<g class=\"displacy-arrow\">\n",
       "    <path class=\"displacy-arc\" id=\"arrow-318718584c69429784798b0bdf8b798b-0-9\" stroke-width=\"2px\" d=\"M1645,439.5 C1645,352.0 1780.0,352.0 1780.0,439.5\" fill=\"none\" stroke=\"currentColor\"/>\n",
       "    <text dy=\"1.25em\" style=\"font-size: 0.8em; letter-spacing: 1px\">\n",
       "        <textPath xlink:href=\"#arrow-318718584c69429784798b0bdf8b798b-0-9\" class=\"displacy-label\" startOffset=\"50%\" side=\"left\" fill=\"currentColor\" text-anchor=\"middle\">pobj</textPath>\n",
       "    </text>\n",
       "    <path class=\"displacy-arrowhead\" d=\"M1780.0,441.5 L1788.0,429.5 1772.0,429.5\" fill=\"currentColor\"/>\n",
       "</g>\n",
       "\n",
       "<g class=\"displacy-arrow\">\n",
       "    <path class=\"displacy-arc\" id=\"arrow-318718584c69429784798b0bdf8b798b-0-10\" stroke-width=\"2px\" d=\"M1120,439.5 C1120,2.0 1975.0,2.0 1975.0,439.5\" fill=\"none\" stroke=\"currentColor\"/>\n",
       "    <text dy=\"1.25em\" style=\"font-size: 0.8em; letter-spacing: 1px\">\n",
       "        <textPath xlink:href=\"#arrow-318718584c69429784798b0bdf8b798b-0-10\" class=\"displacy-label\" startOffset=\"50%\" side=\"left\" fill=\"currentColor\" text-anchor=\"middle\">acl</textPath>\n",
       "    </text>\n",
       "    <path class=\"displacy-arrowhead\" d=\"M1975.0,441.5 L1983.0,429.5 1967.0,429.5\" fill=\"currentColor\"/>\n",
       "</g>\n",
       "\n",
       "<g class=\"displacy-arrow\">\n",
       "    <path class=\"displacy-arc\" id=\"arrow-318718584c69429784798b0bdf8b798b-0-11\" stroke-width=\"2px\" d=\"M1995,439.5 C1995,352.0 2130.0,352.0 2130.0,439.5\" fill=\"none\" stroke=\"currentColor\"/>\n",
       "    <text dy=\"1.25em\" style=\"font-size: 0.8em; letter-spacing: 1px\">\n",
       "        <textPath xlink:href=\"#arrow-318718584c69429784798b0bdf8b798b-0-11\" class=\"displacy-label\" startOffset=\"50%\" side=\"left\" fill=\"currentColor\" text-anchor=\"middle\">prep</textPath>\n",
       "    </text>\n",
       "    <path class=\"displacy-arrowhead\" d=\"M2130.0,441.5 L2138.0,429.5 2122.0,429.5\" fill=\"currentColor\"/>\n",
       "</g>\n",
       "\n",
       "<g class=\"displacy-arrow\">\n",
       "    <path class=\"displacy-arc\" id=\"arrow-318718584c69429784798b0bdf8b798b-0-12\" stroke-width=\"2px\" d=\"M2345,439.5 C2345,89.5 3020.0,89.5 3020.0,439.5\" fill=\"none\" stroke=\"currentColor\"/>\n",
       "    <text dy=\"1.25em\" style=\"font-size: 0.8em; letter-spacing: 1px\">\n",
       "        <textPath xlink:href=\"#arrow-318718584c69429784798b0bdf8b798b-0-12\" class=\"displacy-label\" startOffset=\"50%\" side=\"left\" fill=\"currentColor\" text-anchor=\"middle\">amod</textPath>\n",
       "    </text>\n",
       "    <path class=\"displacy-arrowhead\" d=\"M2345,441.5 L2337,429.5 2353,429.5\" fill=\"currentColor\"/>\n",
       "</g>\n",
       "\n",
       "<g class=\"displacy-arrow\">\n",
       "    <path class=\"displacy-arc\" id=\"arrow-318718584c69429784798b0bdf8b798b-0-13\" stroke-width=\"2px\" d=\"M2520,439.5 C2520,352.0 2655.0,352.0 2655.0,439.5\" fill=\"none\" stroke=\"currentColor\"/>\n",
       "    <text dy=\"1.25em\" style=\"font-size: 0.8em; letter-spacing: 1px\">\n",
       "        <textPath xlink:href=\"#arrow-318718584c69429784798b0bdf8b798b-0-13\" class=\"displacy-label\" startOffset=\"50%\" side=\"left\" fill=\"currentColor\" text-anchor=\"middle\">npadvmod</textPath>\n",
       "    </text>\n",
       "    <path class=\"displacy-arrowhead\" d=\"M2520,441.5 L2512,429.5 2528,429.5\" fill=\"currentColor\"/>\n",
       "</g>\n",
       "\n",
       "<g class=\"displacy-arrow\">\n",
       "    <path class=\"displacy-arc\" id=\"arrow-318718584c69429784798b0bdf8b798b-0-14\" stroke-width=\"2px\" d=\"M2695,439.5 C2695,264.5 3010.0,264.5 3010.0,439.5\" fill=\"none\" stroke=\"currentColor\"/>\n",
       "    <text dy=\"1.25em\" style=\"font-size: 0.8em; letter-spacing: 1px\">\n",
       "        <textPath xlink:href=\"#arrow-318718584c69429784798b0bdf8b798b-0-14\" class=\"displacy-label\" startOffset=\"50%\" side=\"left\" fill=\"currentColor\" text-anchor=\"middle\">amod</textPath>\n",
       "    </text>\n",
       "    <path class=\"displacy-arrowhead\" d=\"M2695,441.5 L2687,429.5 2703,429.5\" fill=\"currentColor\"/>\n",
       "</g>\n",
       "\n",
       "<g class=\"displacy-arrow\">\n",
       "    <path class=\"displacy-arc\" id=\"arrow-318718584c69429784798b0bdf8b798b-0-15\" stroke-width=\"2px\" d=\"M2870,439.5 C2870,352.0 3005.0,352.0 3005.0,439.5\" fill=\"none\" stroke=\"currentColor\"/>\n",
       "    <text dy=\"1.25em\" style=\"font-size: 0.8em; letter-spacing: 1px\">\n",
       "        <textPath xlink:href=\"#arrow-318718584c69429784798b0bdf8b798b-0-15\" class=\"displacy-label\" startOffset=\"50%\" side=\"left\" fill=\"currentColor\" text-anchor=\"middle\">amod</textPath>\n",
       "    </text>\n",
       "    <path class=\"displacy-arrowhead\" d=\"M2870,441.5 L2862,429.5 2878,429.5\" fill=\"currentColor\"/>\n",
       "</g>\n",
       "\n",
       "<g class=\"displacy-arrow\">\n",
       "    <path class=\"displacy-arc\" id=\"arrow-318718584c69429784798b0bdf8b798b-0-16\" stroke-width=\"2px\" d=\"M2170,439.5 C2170,2.0 3025.0,2.0 3025.0,439.5\" fill=\"none\" stroke=\"currentColor\"/>\n",
       "    <text dy=\"1.25em\" style=\"font-size: 0.8em; letter-spacing: 1px\">\n",
       "        <textPath xlink:href=\"#arrow-318718584c69429784798b0bdf8b798b-0-16\" class=\"displacy-label\" startOffset=\"50%\" side=\"left\" fill=\"currentColor\" text-anchor=\"middle\">pobj</textPath>\n",
       "    </text>\n",
       "    <path class=\"displacy-arrowhead\" d=\"M3025.0,441.5 L3033.0,429.5 3017.0,429.5\" fill=\"currentColor\"/>\n",
       "</g>\n",
       "</svg></span>"
      ],
      "text/plain": [
       "<IPython.core.display.HTML object>"
      ]
     },
     "metadata": {},
     "output_type": "display_data"
    }
   ],
   "source": [
    "displacy.render(con_example, style=\"dep\", jupyter=True)"
   ]
  },
  {
   "cell_type": "code",
   "execution_count": 26,
   "metadata": {},
   "outputs": [
    {
     "name": "stdout",
     "output_type": "stream",
     "text": [
      "These these det\n",
      "results result nsubj\n",
      "do do aux\n",
      "not not neg\n",
      "support support ROOT\n",
      "the the det\n",
      "use use dobj\n",
      "of of prep\n",
      "HCQ HCQ pobj\n",
      "in in prep\n",
      "patients patient pobj\n",
      "hospitalised hospitalise acl\n",
      "for for prep\n",
      "documented document amod\n",
      "SARS SARS npadvmod\n",
      "- - punct\n",
      "CoV-2-positive CoV-2-positive amod\n",
      "hypoxic hypoxic amod\n",
      "pneumonia pneumonia pobj\n",
      ". . punct\n"
     ]
    }
   ],
   "source": [
    "for token in con_example:\n",
    "    print(token.text, token.lemma_, token.dep_)"
   ]
  },
  {
   "cell_type": "markdown",
   "metadata": {},
   "source": [
    "A first search pattern operates on the dependencies between tokens within the context of a sentence. The pattern combines the ROOT of a sentence and a determiner (\"det\") that is the direct successor of ROOT (see CON above). (It might be more specific to use a negation as a direct predessor of ROOT as in CON above. But at this point I don't want to exclude sentences that state a support-relation instead of denying it.)"
   ]
  },
  {
   "cell_type": "code",
   "execution_count": 27,
   "metadata": {},
   "outputs": [],
   "source": [
    "# Make pattern: pattern_dep\n",
    "pattern_dep = [{\"DEP\": \"ROOT\"}, {\"DEP\": \"det\"}]\n",
    "\n",
    "matcher_dep = Matcher(nlp.vocab)\n",
    "matcher_dep.add(\"dep_id\", None, pattern_dep)"
   ]
  },
  {
   "cell_type": "markdown",
   "metadata": {},
   "source": [
    "##### Search for patterns in abstracts"
   ]
  },
  {
   "cell_type": "code",
   "execution_count": 28,
   "metadata": {},
   "outputs": [],
   "source": [
    "def search_dep(sentences):\n",
    "    for sentence in sentences:\n",
    "        matches_sent = matcher_dep(sentence)\n",
    "\n",
    "        for _id, start, end in matches_sent:\n",
    "            print(f\"{sentence}\\n\\nExpression found: {sentence[start:end].lemma_}\\n\\n==========\\n\\n\")"
   ]
  },
  {
   "cell_type": "code",
   "execution_count": 29,
   "metadata": {},
   "outputs": [
    {
     "name": "stdout",
     "output_type": "stream",
     "text": [
      "We did a multinational registry analysis of the use of hydroxychloroquine or chloroquine with or without a macrolide for treatment of COVID-19.\n",
      "\n",
      "Expression found: do a\n",
      "\n",
      "==========\n",
      "\n",
      "\n",
      "The authors have declared no competing interest.     \n",
      "\n",
      "Expression found: declare no\n",
      "\n",
      "==========\n",
      "\n",
      "\n",
      "The funders played no role in study design, data collection, data analysis, data interpretation, or reporting.\n",
      "\n",
      "Expression found: play no\n",
      "\n",
      "==========\n",
      "\n",
      "\n",
      "Yes I have followed all appropriate research reporting guidelines and uploaded the relevant EQUATOR Network research reporting checklist(s) and other pertinent material as supplementary files, if applicable.\n",
      "\n",
      "Expression found: follow all\n",
      "\n",
      "==========\n",
      "\n",
      "\n",
      "The scientific community should consider this information in light of previous experiments with chloroquine in the field of antiviral research.\n",
      "\n",
      "Expression found: consider this\n",
      "\n",
      "==========\n",
      "\n",
      "\n",
      "This systematic review and meta-analysis not only indicated no clinical benefits regarding\n",
      "\n",
      "Expression found: indicate no\n",
      "\n",
      "==========\n",
      "\n",
      "\n",
      "The results of the meta-analysis on comparative studies indicated no significant clinical effectiveness (negative in RT-PCR evaluation) for HCQ regimen in the treatment of COVID-19 in comparison to control group (RR: 0.96, 95% CI, 0.76-1.22).\n",
      "\n",
      "Expression found: indicate no\n",
      "\n",
      "==========\n",
      "\n",
      "\n",
      "Conclusions and Relevance: This systematic review and meta-analysis not only showed no clinical benefits regarding HCQ treatment with/without azithromycin for COVID-19 patients, but according to multiple sensitivity analysis, the higher mortality rates were observed for both HCQ and HCQ+AZM regimen groups, especially in the latter.\n",
      "\n",
      "Expression found: show no\n",
      "\n",
      "==========\n",
      "\n",
      "\n",
      "These results do not support the use of HCQ in patients hospitalised for documented SARS-CoV-2-positive hypoxic pneumonia.\n",
      "\n",
      "Expression found: support the\n",
      "\n",
      "==========\n",
      "\n",
      "\n",
      " Background There is no specific antiviral therapy recommended for the disease caused by SARS-CoV-2 (COVID-19).\n",
      "\n",
      "Expression found: be no\n",
      "\n",
      "==========\n",
      "\n",
      "\n",
      "We performed a parallel, double-blinded, randomized, phase IIb clinical trial, aiming to assess safety and efficacy of two different CQ dosages as adjunctive therapy of hospitalized patients with SARS in Manaus, Brazilian Amazon.\n",
      "\n",
      "Expression found: perform a\n",
      "\n",
      "==========\n",
      "\n",
      "\n",
      "The ongoing pandemic coronavirus disease 19 (COVID-19) caused by the severe acute respiratory syndrome coronavirus 2 (SARS-CoV-2) is a matter of global concern.\n",
      "\n",
      "Expression found: be a\n",
      "\n",
      "==========\n",
      "\n",
      "\n",
      "likely increase the severity of COVID-19.\n",
      "\n",
      "Expression found: increase the\n",
      "\n",
      "==========\n",
      "\n",
      "\n",
      "Development of a vaccine may be the only effective long-term protection against this disease.\n",
      "\n",
      "Expression found: be the\n",
      "\n",
      "==========\n",
      "\n",
      "\n",
      "The novel severe acute respiratory syndrome coronavirus 2 (SARS-CoV-2), also called COVID-19, has caused a pandemic which has swiftly involved the entire world and raised great public health concerns.\n",
      "\n",
      "Expression found: cause a\n",
      "\n",
      "==========\n",
      "\n",
      "\n",
      "In addition, we analyzed the prevalence of COVID-19 in malaria pandemic and non-pandemic countries.\n",
      "\n",
      "Expression found: analyze the\n",
      "\n",
      "==========\n",
      "\n",
      "\n",
      "For this study, we identified a total of 09 published articles: 03 clinical trials with sample size 150; 03 in vitro studies and 03 expert consensus reports.\n",
      "\n",
      "Expression found: identify a\n",
      "\n",
      "==========\n",
      "\n",
      "\n",
      "The findings support the hypothesis that these drugs have efficacy in the treatment of COVID-19.\n",
      "\n",
      "Expression found: support the\n",
      "\n",
      "==========\n",
      "\n",
      "\n",
      "People are currently using these drugs for malaria.\n",
      "\n",
      "Expression found: use these\n",
      "\n",
      "==========\n",
      "\n",
      "\n",
      "We evaluate the role of hydroxychloroquine on respiratory viral loads.\n",
      "\n",
      "Expression found: evaluate the\n",
      "\n",
      "==========\n",
      "\n",
      "\n",
      "Presence and absence of virus at Day6-post inclusion was considered the end point.\n",
      "\n",
      "Expression found: consider the\n",
      "\n",
      "==========\n",
      "\n",
      "\n",
      "The COVID-19 pandemic represents the greatest global public health crisis since the pandemic influenza outbreak of 1918.\n",
      "\n",
      "Expression found: represent the\n",
      "\n",
      "==========\n",
      "\n",
      "\n",
      "We are facing a new virus, so several antiviral agents previously used to treat other coronavirus infections such as SARS and MERS are being considered as the first potential candidates to treat COVID-19.\n",
      "\n",
      "Expression found: face a\n",
      "\n",
      "==========\n",
      "\n",
      "\n",
      "Through PubMed, we explored the relevant articles published on treatment of COVID-19 and on trials ongoing up to April 15, 2020.\n",
      "\n",
      "Expression found: explore the\n",
      "\n",
      "==========\n",
      "\n",
      "\n"
     ]
    }
   ],
   "source": [
    "results = df_HCQ[\"sentences\"].apply(search_dep)"
   ]
  },
  {
   "cell_type": "code",
   "execution_count": 30,
   "metadata": {},
   "outputs": [
    {
     "data": {
      "text/plain": [
       "17"
      ]
     },
     "execution_count": 30,
     "metadata": {},
     "output_type": "execute_result"
    }
   ],
   "source": [
    "len(results)"
   ]
  },
  {
   "cell_type": "markdown",
   "metadata": {},
   "source": [
    "This search finds too much. But it gives hints which verbs may be important."
   ]
  },
  {
   "cell_type": "code",
   "execution_count": 31,
   "metadata": {},
   "outputs": [],
   "source": [
    "def list_dep(sentences):\n",
    "    dep_list = []\n",
    "    \n",
    "    for sentence in sentences:\n",
    "        matches_sent = matcher_dep(sentence)\n",
    "\n",
    "        for dep_id, start, end in matches_sent:\n",
    "            dep_list.append(sentence[start:end].lemma_)\n",
    "            \n",
    "    return dep_list"
   ]
  },
  {
   "cell_type": "code",
   "execution_count": 32,
   "metadata": {},
   "outputs": [],
   "source": [
    "results_list = df_HCQ[\"sentences\"].apply(list_dep)"
   ]
  },
  {
   "cell_type": "code",
   "execution_count": 33,
   "metadata": {},
   "outputs": [
    {
     "data": {
      "text/plain": [
       "0                                                    []\n",
       "1                                                [do a]\n",
       "2                     [declare no, play no, follow all]\n",
       "3                                       [consider this]\n",
       "4                                                    []\n",
       "5                   [indicate no, indicate no, show no]\n",
       "6                                         [support the]\n",
       "7                                    [be no, perform a]\n",
       "8                          [be a, increase the, be the]\n",
       "9                                                    []\n",
       "10    [cause a, analyze the, identify a, support the...\n",
       "11                                                   []\n",
       "12                                                   []\n",
       "13                         [evaluate the, consider the]\n",
       "14                                                   []\n",
       "15                                                   []\n",
       "16                 [represent the, face a, explore the]\n",
       "Name: sentences, dtype: object"
      ]
     },
     "execution_count": 33,
     "metadata": {},
     "output_type": "execute_result"
    }
   ],
   "source": [
    "results_list"
   ]
  },
  {
   "cell_type": "markdown",
   "metadata": {},
   "source": [
    "The search pattern should be a combination of a ROOT-verb of a certain kind and a \"det\". The most promising candidates are \"indicate\", \"show\" and \"support\"."
   ]
  },
  {
   "cell_type": "code",
   "execution_count": 34,
   "metadata": {},
   "outputs": [],
   "source": [
    "# New matcher\n",
    "\n",
    "pattern_indicate = [{\"LEMMA\": \"indicate\"}, {\"DEP\": \"det\"}]\n",
    "pattern_show = [{\"LEMMA\": \"show\"}, {\"DEP\": \"det\"}]\n",
    "pattern_support = [{\"LEMMA\": \"support\"}, {\"DEP\": \"det\"}]\n",
    "\n",
    "matcher_dep = Matcher(nlp.vocab)\n",
    "\n",
    "matcher_dep.add(\"dep_id\", None, pattern_indicate)\n",
    "matcher_dep.add(\"dep_id\", None, pattern_show)\n",
    "matcher_dep.add(\"dep_id\", None, pattern_support)"
   ]
  },
  {
   "cell_type": "code",
   "execution_count": 35,
   "metadata": {},
   "outputs": [
    {
     "name": "stdout",
     "output_type": "stream",
     "text": [
      "This systematic review and meta-analysis not only indicated no clinical benefits regarding\n",
      "\n",
      "Expression found: indicate no\n",
      "\n",
      "==========\n",
      "\n",
      "\n",
      "The results of the meta-analysis on comparative studies indicated no significant clinical effectiveness (negative in RT-PCR evaluation) for HCQ regimen in the treatment of COVID-19 in comparison to control group (RR: 0.96, 95% CI, 0.76-1.22).\n",
      "\n",
      "Expression found: indicate no\n",
      "\n",
      "==========\n",
      "\n",
      "\n",
      "Conclusions and Relevance: This systematic review and meta-analysis not only showed no clinical benefits regarding HCQ treatment with/without azithromycin for COVID-19 patients, but according to multiple sensitivity analysis, the higher mortality rates were observed for both HCQ and HCQ+AZM regimen groups, especially in the latter.\n",
      "\n",
      "Expression found: show no\n",
      "\n",
      "==========\n",
      "\n",
      "\n",
      "These results do not support the use of HCQ in patients hospitalised for documented SARS-CoV-2-positive hypoxic pneumonia.\n",
      "\n",
      "Expression found: support the\n",
      "\n",
      "==========\n",
      "\n",
      "\n",
      "The findings support the hypothesis that these drugs have efficacy in the treatment of COVID-19.\n",
      "\n",
      "Expression found: support the\n",
      "\n",
      "==========\n",
      "\n",
      "\n",
      "Twenty cases were treated in this study and showed a significant reduction of the viral carriage at D6-post inclusion compared to controls, and much lower average carrying duration than reported of untreated patients in the literature.\n",
      "\n",
      "Expression found: show a\n",
      "\n",
      "==========\n",
      "\n",
      "\n"
     ]
    }
   ],
   "source": [
    "results_2 = df_HCQ[\"sentences\"].apply(search_dep)"
   ]
  },
  {
   "cell_type": "markdown",
   "metadata": {},
   "source": [
    "This result is better, but still not ideal."
   ]
  },
  {
   "cell_type": "markdown",
   "metadata": {},
   "source": [
    "##### \"Critical objections\""
   ]
  },
  {
   "cell_type": "markdown",
   "metadata": {},
   "source": [
    "* In the example above I considered a pair of disagreeing sentences - I called them PRO and CON, respectively. PRO states a causal relevancy, or rather it states that some body of evidence supports a statement of causal relevancy. CON on the contrary negates that some body of evidence supports this statement. Sentences like CON are critical objections referring to PRO-like sentences.\n",
    "* Critical objections are one part of a disagreement. In the following I shall focus on Critical objections. I will assume that for a critical obejection there is a PRO-like sentence - even though I will not mention or state the PRO-like sentence.\n",
    "* Sentences like CON might be only one type of critical objection among others."
   ]
  },
  {
   "cell_type": "code",
   "execution_count": 36,
   "metadata": {},
   "outputs": [],
   "source": [
    "# Critical objection matcher\n",
    "\n",
    "pattern_neg = [{\"DEP\": \"neg\"}, {\"DEP\": \"ROOT\"}, {\"DEP\": \"det\"}]\n",
    "\n",
    "# \"no\" is a certain kind of \"det\". So I replaced '{\"DEP\": \"det\"}' with '{\"LEMMA\": \"no\"}'\n",
    "pattern_indicate = [{\"LEMMA\": \"indicate\"}, {\"LEMMA\": \"no\"}]\n",
    "pattern_show = [{\"LEMMA\": \"show\"}, {\"LEMMA\": \"no\"}]\n",
    "pattern_support = [{\"LEMMA\": \"support\"}, {\"LEMMA\": \"no\"}]\n",
    "\n",
    "matcher_dep = Matcher(nlp.vocab)\n",
    "\n",
    "matcher_dep.add(\"dep_id\", None, pattern_indicate)\n",
    "matcher_dep.add(\"dep_id\", None, pattern_show)\n",
    "matcher_dep.add(\"dep_id\", None, pattern_support)\n",
    "matcher_dep.add(\"dep_id\", None, pattern_neg)"
   ]
  },
  {
   "cell_type": "code",
   "execution_count": 37,
   "metadata": {},
   "outputs": [
    {
     "name": "stdout",
     "output_type": "stream",
     "text": [
      "This systematic review and meta-analysis not only indicated no clinical benefits regarding\n",
      "\n",
      "Expression found: indicate no\n",
      "\n",
      "==========\n",
      "\n",
      "\n",
      "The results of the meta-analysis on comparative studies indicated no significant clinical effectiveness (negative in RT-PCR evaluation) for HCQ regimen in the treatment of COVID-19 in comparison to control group (RR: 0.96, 95% CI, 0.76-1.22).\n",
      "\n",
      "Expression found: indicate no\n",
      "\n",
      "==========\n",
      "\n",
      "\n",
      "Conclusions and Relevance: This systematic review and meta-analysis not only showed no clinical benefits regarding HCQ treatment with/without azithromycin for COVID-19 patients, but according to multiple sensitivity analysis, the higher mortality rates were observed for both HCQ and HCQ+AZM regimen groups, especially in the latter.\n",
      "\n",
      "Expression found: show no\n",
      "\n",
      "==========\n",
      "\n",
      "\n",
      "These results do not support the use of HCQ in patients hospitalised for documented SARS-CoV-2-positive hypoxic pneumonia.\n",
      "\n",
      "Expression found: not support the\n",
      "\n",
      "==========\n",
      "\n",
      "\n"
     ]
    }
   ],
   "source": [
    "results_3 = df_HCQ[\"sentences\"].apply(search_dep)"
   ]
  }
 ],
 "metadata": {
  "kernelspec": {
   "display_name": "Python 3",
   "language": "python",
   "name": "python3"
  },
  "language_info": {
   "codemirror_mode": {
    "name": "ipython",
    "version": 3
   },
   "file_extension": ".py",
   "mimetype": "text/x-python",
   "name": "python",
   "nbconvert_exporter": "python",
   "pygments_lexer": "ipython3",
   "version": "3.7.7"
  }
 },
 "nbformat": 4,
 "nbformat_minor": 4
}
