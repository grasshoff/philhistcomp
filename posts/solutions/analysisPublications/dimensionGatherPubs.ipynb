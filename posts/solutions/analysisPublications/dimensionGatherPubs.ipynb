{
 "cells": [
  {
   "cell_type": "markdown",
   "metadata": {},
   "source": [
    "# Gather dimension search tables\n",
    "reads all *.xmlx files in the dimension directory, concats those tables and removes duplicate publications"
   ]
  },
  {
   "cell_type": "code",
   "execution_count": 2,
   "metadata": {},
   "outputs": [],
   "source": [
    "import pandas as pd\n",
    "import requests\n",
    "import json \n",
    "import glob"
   ]
  },
  {
   "cell_type": "code",
   "execution_count": 4,
   "metadata": {},
   "outputs": [
    {
     "data": {
      "text/plain": [
       "1"
      ]
     },
     "execution_count": 4,
     "metadata": {},
     "output_type": "execute_result"
    }
   ],
   "source": [
    "listfile=glob.glob(\"DimensionsR*.xlsx\")\n",
    "len(listfile)"
   ]
  },
  {
   "cell_type": "code",
   "execution_count": 6,
   "metadata": {},
   "outputs": [
    {
     "name": "stdout",
     "output_type": "stream",
     "text": [
      "Number of combined records: 2180\n"
     ]
    }
   ],
   "source": [
    "dfCov=pd.DataFrame()\n",
    "for path in listfile:\n",
    "    newcov=pd.read_excel(path,skiprows=[0])\n",
    "    newcov[\"sourcefile\"]=path\n",
    "    dfCov=pd.concat([dfCov,newcov])   \n",
    "print(f\"Number of combined records: {len(dfCov)}\")"
   ]
  },
  {
   "cell_type": "code",
   "execution_count": 7,
   "metadata": {},
   "outputs": [
    {
     "data": {
      "text/html": [
       "<div>\n",
       "<style scoped>\n",
       "    .dataframe tbody tr th:only-of-type {\n",
       "        vertical-align: middle;\n",
       "    }\n",
       "\n",
       "    .dataframe tbody tr th {\n",
       "        vertical-align: top;\n",
       "    }\n",
       "\n",
       "    .dataframe thead th {\n",
       "        text-align: right;\n",
       "    }\n",
       "</style>\n",
       "<table border=\"1\" class=\"dataframe\">\n",
       "  <thead>\n",
       "    <tr style=\"text-align: right;\">\n",
       "      <th></th>\n",
       "      <th>Rank</th>\n",
       "      <th>Publication ID</th>\n",
       "      <th>DOI</th>\n",
       "      <th>PMID</th>\n",
       "      <th>PMCID</th>\n",
       "      <th>Title</th>\n",
       "      <th>Source title</th>\n",
       "      <th>Anthology title</th>\n",
       "      <th>Publisher</th>\n",
       "      <th>MeSH terms</th>\n",
       "      <th>...</th>\n",
       "      <th>Dimensions URL</th>\n",
       "      <th>FOR (ANZSRC) Categories</th>\n",
       "      <th>RCDC Categories</th>\n",
       "      <th>HRCS HC Categories</th>\n",
       "      <th>HRCS RAC Categories</th>\n",
       "      <th>ICRP Cancer Types</th>\n",
       "      <th>ICRP CSO Categories</th>\n",
       "      <th>Units of Assessment</th>\n",
       "      <th>Sustainable Development Goals</th>\n",
       "      <th>sourcefile</th>\n",
       "    </tr>\n",
       "  </thead>\n",
       "  <tbody>\n",
       "    <tr>\n",
       "      <th>0</th>\n",
       "      <td>403</td>\n",
       "      <td>pub.1127864300</td>\n",
       "      <td>10.1186/s13063-020-04352-9</td>\n",
       "      <td>32448345.0</td>\n",
       "      <td>PMC7245636</td>\n",
       "      <td>Evaluation of the efficacy and safety of intra...</td>\n",
       "      <td>Trials</td>\n",
       "      <td>NaN</td>\n",
       "      <td>Springer Nature</td>\n",
       "      <td>Adenosine Monophosphate; Alanine; Antiviral Ag...</td>\n",
       "      <td>...</td>\n",
       "      <td>https://app.dimensions.ai/details/publication/...</td>\n",
       "      <td>11 Medical and Health Sciences; 1103 Clinical ...</td>\n",
       "      <td>Lung; Vaccine Related; Infectious Diseases; Cl...</td>\n",
       "      <td>Infection</td>\n",
       "      <td>6.1 Pharmaceuticals</td>\n",
       "      <td>NaN</td>\n",
       "      <td>NaN</td>\n",
       "      <td>A01 Clinical Medicine</td>\n",
       "      <td>3 Good Health and Well Being</td>\n",
       "      <td>DimensionsRemdesevier.xlsx</td>\n",
       "    </tr>\n",
       "    <tr>\n",
       "      <th>1</th>\n",
       "      <td>283</td>\n",
       "      <td>pub.1127401342</td>\n",
       "      <td>10.1186/s40779-020-00251-x</td>\n",
       "      <td>32370766.0</td>\n",
       "      <td>PMC7199873</td>\n",
       "      <td>Role of adjunctive treatment strategies in COV...</td>\n",
       "      <td>Military Medical Research</td>\n",
       "      <td>NaN</td>\n",
       "      <td>NaN</td>\n",
       "      <td>Betacoronavirus; Coronavirus Infections; Human...</td>\n",
       "      <td>...</td>\n",
       "      <td>https://app.dimensions.ai/details/publication/...</td>\n",
       "      <td>11 Medical and Health Sciences; 1103 Clinical ...</td>\n",
       "      <td>Rare Diseases</td>\n",
       "      <td>NaN</td>\n",
       "      <td>6.1 Pharmaceuticals</td>\n",
       "      <td>NaN</td>\n",
       "      <td>NaN</td>\n",
       "      <td>A03 Allied Health Professions, Dentistry, Nurs...</td>\n",
       "      <td>NaN</td>\n",
       "      <td>DimensionsRemdesevier.xlsx</td>\n",
       "    </tr>\n",
       "  </tbody>\n",
       "</table>\n",
       "<p>2 rows × 46 columns</p>\n",
       "</div>"
      ],
      "text/plain": [
       "   Rank  Publication ID                         DOI        PMID       PMCID  \\\n",
       "0   403  pub.1127864300  10.1186/s13063-020-04352-9  32448345.0  PMC7245636   \n",
       "1   283  pub.1127401342  10.1186/s40779-020-00251-x  32370766.0  PMC7199873   \n",
       "\n",
       "                                               Title  \\\n",
       "0  Evaluation of the efficacy and safety of intra...   \n",
       "1  Role of adjunctive treatment strategies in COV...   \n",
       "\n",
       "                Source title Anthology title        Publisher  \\\n",
       "0                     Trials             NaN  Springer Nature   \n",
       "1  Military Medical Research             NaN              NaN   \n",
       "\n",
       "                                          MeSH terms  ...  \\\n",
       "0  Adenosine Monophosphate; Alanine; Antiviral Ag...  ...   \n",
       "1  Betacoronavirus; Coronavirus Infections; Human...  ...   \n",
       "\n",
       "                                      Dimensions URL  \\\n",
       "0  https://app.dimensions.ai/details/publication/...   \n",
       "1  https://app.dimensions.ai/details/publication/...   \n",
       "\n",
       "                             FOR (ANZSRC) Categories  \\\n",
       "0  11 Medical and Health Sciences; 1103 Clinical ...   \n",
       "1  11 Medical and Health Sciences; 1103 Clinical ...   \n",
       "\n",
       "                                     RCDC Categories HRCS HC Categories  \\\n",
       "0  Lung; Vaccine Related; Infectious Diseases; Cl...          Infection   \n",
       "1                                      Rare Diseases                NaN   \n",
       "\n",
       "   HRCS RAC Categories ICRP Cancer Types ICRP CSO Categories  \\\n",
       "0  6.1 Pharmaceuticals               NaN                 NaN   \n",
       "1  6.1 Pharmaceuticals               NaN                 NaN   \n",
       "\n",
       "                                 Units of Assessment  \\\n",
       "0                              A01 Clinical Medicine   \n",
       "1  A03 Allied Health Professions, Dentistry, Nurs...   \n",
       "\n",
       "  Sustainable Development Goals                  sourcefile  \n",
       "0  3 Good Health and Well Being  DimensionsRemdesevier.xlsx  \n",
       "1                           NaN  DimensionsRemdesevier.xlsx  \n",
       "\n",
       "[2 rows x 46 columns]"
      ]
     },
     "execution_count": 7,
     "metadata": {},
     "output_type": "execute_result"
    }
   ],
   "source": [
    "dfCov.head(2)"
   ]
  },
  {
   "cell_type": "code",
   "execution_count": 8,
   "metadata": {},
   "outputs": [
    {
     "name": "stdout",
     "output_type": "stream",
     "text": [
      "Number of combined records: 2180\n"
     ]
    },
    {
     "data": {
      "text/plain": [
       "Index(['index', 'Rank', 'Publication ID', 'DOI', 'PMID', 'PMCID', 'Title',\n",
       "       'Source title', 'Anthology title', 'Publisher', 'MeSH terms',\n",
       "       'Publication Date', 'PubYear', 'Volume', 'Issue', 'Pagination',\n",
       "       'Open Access', 'Publication Type', 'Authors', 'Corresponding Author',\n",
       "       'Authors Affiliations', 'Research Organizations - standardized',\n",
       "       'GRID IDs', 'City of Research organization',\n",
       "       'State of Research organization', 'Country of Research organization',\n",
       "       'Funder', 'Funder Group', 'Funder Country', 'UIDs of supporting grants',\n",
       "       'Supporting Grants', 'Times cited', 'Recent citations', 'RCR', 'FCR',\n",
       "       'Altmetric', 'Source Linkout', 'Dimensions URL',\n",
       "       'FOR (ANZSRC) Categories', 'RCDC Categories', 'HRCS HC Categories',\n",
       "       'HRCS RAC Categories', 'ICRP Cancer Types', 'ICRP CSO Categories',\n",
       "       'Units of Assessment', 'Sustainable Development Goals', 'sourcefile'],\n",
       "      dtype='object')"
      ]
     },
     "execution_count": 8,
     "metadata": {},
     "output_type": "execute_result"
    }
   ],
   "source": [
    "dfCov=dfCov.drop_duplicates(subset='Publication ID',keep=\"first\")\n",
    "dfCov.reset_index(inplace=True)\n",
    "print(f\"Number of combined records: {len(dfCov)}\")\n",
    "dfCov.keys()"
   ]
  },
  {
   "cell_type": "code",
   "execution_count": 9,
   "metadata": {},
   "outputs": [
    {
     "data": {
      "text/plain": [
       "index                                                                                   44\n",
       "Rank                                                                                   122\n",
       "Publication ID                                                              pub.1127419160\n",
       "DOI                                                             10.1016/j.mehy.2020.109815\n",
       "PMID                                                                           3.24081e+07\n",
       "PMCID                                                                           PMC7202847\n",
       "Title                                    Does zinc supplementation enhance the clinical...\n",
       "Source title                                                            Medical Hypotheses\n",
       "Anthology title                                                                        NaN\n",
       "Publisher                                                                         Elsevier\n",
       "MeSH terms                                                                             NaN\n",
       "Publication Date                                                                   2020-09\n",
       "PubYear                                                                               2020\n",
       "Volume                                                                                 142\n",
       "Issue                                                                                  NaN\n",
       "Pagination                                                                          109815\n",
       "Open Access                                                                 All OA; Hybrid\n",
       "Publication Type                                                                   Article\n",
       "Authors                                                            Derwand, R.; Scholz, M.\n",
       "Corresponding Author                                                           Scholz, M. \n",
       "Authors Affiliations                        Derwand, R. (Alexion (Germany)); Scholz, M. ()\n",
       "Research Organizations - standardized                                    Alexion (Germany)\n",
       "GRID IDs                                                                     grid.491604.e\n",
       "City of Research organization                                                       Munich\n",
       "State of Research organization                                                         NaN\n",
       "Country of Research organization                                                   Germany\n",
       "Funder                                                                                 NaN\n",
       "Funder Group                                                                           NaN\n",
       "Funder Country                                                                         NaN\n",
       "UIDs of supporting grants                                                              NaN\n",
       "Supporting Grants                                                                      NaN\n",
       "Times cited                                                                              0\n",
       "Recent citations                                                                         0\n",
       "RCR                                                                                    NaN\n",
       "FCR                                                                                    NaN\n",
       "Altmetric                                                                             1935\n",
       "Source Linkout                                  https://doi.org/10.1016/j.mehy.2020.109815\n",
       "Dimensions URL                           https://app.dimensions.ai/details/publication/...\n",
       "FOR (ANZSRC) Categories                  1108 Medical Microbiology; 11 Medical and Heal...\n",
       "RCDC Categories                          Emerging Infectious Diseases; Lung; Rare Disea...\n",
       "HRCS HC Categories                                                                     NaN\n",
       "HRCS RAC Categories                                                    6.1 Pharmaceuticals\n",
       "ICRP Cancer Types                                                                      NaN\n",
       "ICRP CSO Categories                                                                    NaN\n",
       "Units of Assessment                                                  A01 Clinical Medicine\n",
       "Sustainable Development Goals                                 3 Good Health and Well Being\n",
       "sourcefile                                                      DimensionsRemdesevier.xlsx\n",
       "Name: 44, dtype: object"
      ]
     },
     "execution_count": 9,
     "metadata": {},
     "output_type": "execute_result"
    }
   ],
   "source": [
    "# example\n",
    "dfCov.iloc[44]"
   ]
  },
  {
   "cell_type": "code",
   "execution_count": 10,
   "metadata": {},
   "outputs": [],
   "source": [
    "# save json file for further extension. E.g. use .LoadJournals for adding abstract\n",
    "dfCov.to_json(\"dfpubl.json\")"
   ]
  },
  {
   "cell_type": "code",
   "execution_count": null,
   "metadata": {},
   "outputs": [],
   "source": []
  }
 ],
 "metadata": {
  "kernelspec": {
   "display_name": "Python 3",
   "language": "python",
   "name": "python3"
  },
  "language_info": {
   "codemirror_mode": {
    "name": "ipython",
    "version": 3
   },
   "file_extension": ".py",
   "mimetype": "text/x-python",
   "name": "python",
   "nbconvert_exporter": "python",
   "pygments_lexer": "ipython3",
   "version": "3.7.7"
  }
 },
 "nbformat": 4,
 "nbformat_minor": 4
}
