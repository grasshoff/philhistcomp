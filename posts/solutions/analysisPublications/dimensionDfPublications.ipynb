{
 "cells": [
  {
   "cell_type": "markdown",
   "metadata": {},
   "source": [
    "# Collect abstractes and its sentences"
   ]
  },
  {
   "cell_type": "code",
   "execution_count": 1,
   "metadata": {},
   "outputs": [],
   "source": [
    "import json \n",
    "from datetime import datetime"
   ]
  },
  {
   "cell_type": "code",
   "execution_count": 2,
   "metadata": {},
   "outputs": [],
   "source": [
    "import datetime\n",
    "import numpy as np\n",
    "import pandas as pd"
   ]
  },
  {
   "cell_type": "code",
   "execution_count": 3,
   "metadata": {},
   "outputs": [],
   "source": [
    "dfCov=pd.read_json(\"fullpubl.json\")"
   ]
  },
  {
   "cell_type": "code",
   "execution_count": 4,
   "metadata": {},
   "outputs": [
    {
     "data": {
      "text/plain": [
       "2891"
      ]
     },
     "execution_count": 4,
     "metadata": {},
     "output_type": "execute_result"
    }
   ],
   "source": [
    "len(dfCov)"
   ]
  },
  {
   "cell_type": "code",
   "execution_count": 5,
   "metadata": {},
   "outputs": [
    {
     "data": {
      "text/plain": [
       "Index(['index', 'Rank', 'Publication ID', 'DOI', 'PMID', 'PMCID', 'Title',\n",
       "       'Source title', 'Anthology title', 'Publisher', 'MeSH terms',\n",
       "       'Publication Date', 'PubYear', 'Volume', 'Issue', 'Pagination',\n",
       "       'Open Access', 'Publication Type', 'Authors', 'Corresponding Author',\n",
       "       'Authors Affiliations', 'Research Organizations - standardized',\n",
       "       'GRID IDs', 'City of Research organization',\n",
       "       'State of Research organization', 'Country of Research organization',\n",
       "       'Funder', 'Funder Group', 'Funder Country', 'UIDs of supporting grants',\n",
       "       'Supporting Grants', 'Times cited', 'Recent citations', 'RCR', 'FCR',\n",
       "       'Altmetric', 'Source Linkout', 'Dimensions URL',\n",
       "       'FOR (ANZSRC) Categories', 'RCDC Categories', 'HRCS HC Categories',\n",
       "       'HRCS RAC Categories', 'ICRP Cancer Types', 'ICRP CSO Categories',\n",
       "       'Units of Assessment', 'Sustainable Development Goals', 'sourcefile',\n",
       "       'htmldimension', 'soup', 'dimdict'],\n",
       "      dtype='object')"
      ]
     },
     "execution_count": 5,
     "metadata": {},
     "output_type": "execute_result"
    }
   ],
   "source": [
    "dfCov.keys()"
   ]
  },
  {
   "cell_type": "code",
   "execution_count": 7,
   "metadata": {},
   "outputs": [
    {
     "data": {
      "text/html": [
       "<div>\n",
       "<style scoped>\n",
       "    .dataframe tbody tr th:only-of-type {\n",
       "        vertical-align: middle;\n",
       "    }\n",
       "\n",
       "    .dataframe tbody tr th {\n",
       "        vertical-align: top;\n",
       "    }\n",
       "\n",
       "    .dataframe thead th {\n",
       "        text-align: right;\n",
       "    }\n",
       "</style>\n",
       "<table border=\"1\" class=\"dataframe\">\n",
       "  <thead>\n",
       "    <tr style=\"text-align: right;\">\n",
       "      <th></th>\n",
       "      <th>index</th>\n",
       "      <th>Rank</th>\n",
       "      <th>Publication ID</th>\n",
       "      <th>DOI</th>\n",
       "      <th>PMID</th>\n",
       "      <th>PMCID</th>\n",
       "      <th>Title</th>\n",
       "      <th>Source title</th>\n",
       "      <th>Anthology title</th>\n",
       "      <th>Publisher</th>\n",
       "      <th>...</th>\n",
       "      <th>HRCS HC Categories</th>\n",
       "      <th>HRCS RAC Categories</th>\n",
       "      <th>ICRP Cancer Types</th>\n",
       "      <th>ICRP CSO Categories</th>\n",
       "      <th>Units of Assessment</th>\n",
       "      <th>Sustainable Development Goals</th>\n",
       "      <th>sourcefile</th>\n",
       "      <th>htmldimension</th>\n",
       "      <th>soup</th>\n",
       "      <th>dimdict</th>\n",
       "    </tr>\n",
       "  </thead>\n",
       "  <tbody>\n",
       "    <tr>\n",
       "      <th>0</th>\n",
       "      <td>0</td>\n",
       "      <td>17</td>\n",
       "      <td>pub.1127831613</td>\n",
       "      <td>10.1016/j.atmosres.2020.105062</td>\n",
       "      <td>NaN</td>\n",
       "      <td>None</td>\n",
       "      <td>Integrating an hourly weather generator with a...</td>\n",
       "      <td>Atmospheric Research</td>\n",
       "      <td>None</td>\n",
       "      <td>Elsevier</td>\n",
       "      <td>...</td>\n",
       "      <td>None</td>\n",
       "      <td>None</td>\n",
       "      <td>None</td>\n",
       "      <td>None</td>\n",
       "      <td>C14 Geography and Environmental Studies</td>\n",
       "      <td>13 Climate Action</td>\n",
       "      <td>Dimensions-Publication-2020-06-01_20-12-05.csv</td>\n",
       "      <td>\\n\\n&lt;!DOCTYPE html&gt;\\n&lt;html lang=\"en\"&gt;\\n&lt;head&gt;\\...</td>\n",
       "      <td>NaN</td>\n",
       "      <td>{'title': 'Integrating an hourly weather gener...</td>\n",
       "    </tr>\n",
       "    <tr>\n",
       "      <th>1</th>\n",
       "      <td>1</td>\n",
       "      <td>20</td>\n",
       "      <td>pub.1126696366</td>\n",
       "      <td>10.1016/j.gsd.2020.100390</td>\n",
       "      <td>NaN</td>\n",
       "      <td>None</td>\n",
       "      <td>Synthesizing existing frameworks to identify t...</td>\n",
       "      <td>Groundwater for Sustainable Development</td>\n",
       "      <td>None</td>\n",
       "      <td>Elsevier</td>\n",
       "      <td>...</td>\n",
       "      <td>None</td>\n",
       "      <td>None</td>\n",
       "      <td>None</td>\n",
       "      <td>None</td>\n",
       "      <td>B12 Engineering</td>\n",
       "      <td>None</td>\n",
       "      <td>Dimensions-Publication-2020-06-01_20-12-05.csv</td>\n",
       "      <td>\\n\\n&lt;!DOCTYPE html&gt;\\n&lt;html lang=\"en\"&gt;\\n&lt;head&gt;\\...</td>\n",
       "      <td>NaN</td>\n",
       "      <td>{'title': 'Synthesizing existing frameworks to...</td>\n",
       "    </tr>\n",
       "  </tbody>\n",
       "</table>\n",
       "<p>2 rows × 50 columns</p>\n",
       "</div>"
      ],
      "text/plain": [
       "   index  Rank  Publication ID                             DOI  PMID PMCID  \\\n",
       "0      0    17  pub.1127831613  10.1016/j.atmosres.2020.105062   NaN  None   \n",
       "1      1    20  pub.1126696366       10.1016/j.gsd.2020.100390   NaN  None   \n",
       "\n",
       "                                               Title  \\\n",
       "0  Integrating an hourly weather generator with a...   \n",
       "1  Synthesizing existing frameworks to identify t...   \n",
       "\n",
       "                              Source title Anthology title Publisher  ...  \\\n",
       "0                     Atmospheric Research            None  Elsevier  ...   \n",
       "1  Groundwater for Sustainable Development            None  Elsevier  ...   \n",
       "\n",
       "  HRCS HC Categories HRCS RAC Categories  ICRP Cancer Types  \\\n",
       "0               None                None               None   \n",
       "1               None                None               None   \n",
       "\n",
       "  ICRP CSO Categories                      Units of Assessment  \\\n",
       "0                None  C14 Geography and Environmental Studies   \n",
       "1                None                          B12 Engineering   \n",
       "\n",
       "  Sustainable Development Goals  \\\n",
       "0             13 Climate Action   \n",
       "1                          None   \n",
       "\n",
       "                                       sourcefile  \\\n",
       "0  Dimensions-Publication-2020-06-01_20-12-05.csv   \n",
       "1  Dimensions-Publication-2020-06-01_20-12-05.csv   \n",
       "\n",
       "                                       htmldimension soup  \\\n",
       "0  \\n\\n<!DOCTYPE html>\\n<html lang=\"en\">\\n<head>\\...  NaN   \n",
       "1  \\n\\n<!DOCTYPE html>\\n<html lang=\"en\">\\n<head>\\...  NaN   \n",
       "\n",
       "                                             dimdict  \n",
       "0  {'title': 'Integrating an hourly weather gener...  \n",
       "1  {'title': 'Synthesizing existing frameworks to...  \n",
       "\n",
       "[2 rows x 50 columns]"
      ]
     },
     "execution_count": 7,
     "metadata": {},
     "output_type": "execute_result"
    }
   ],
   "source": [
    "dfCov.head(2)"
   ]
  },
  {
   "cell_type": "code",
   "execution_count": 6,
   "metadata": {},
   "outputs": [
    {
     "ename": "AttributeError",
     "evalue": "'float' object has no attribute 'find'",
     "output_type": "error",
     "traceback": [
      "\u001b[0;31m---------------------------------------------------------------------------\u001b[0m",
      "\u001b[0;31mAttributeError\u001b[0m                            Traceback (most recent call last)",
      "\u001b[0;32m<ipython-input-6-e7ac7f657dae>\u001b[0m in \u001b[0;36m<module>\u001b[0;34m\u001b[0m\n\u001b[1;32m     10\u001b[0m         \u001b[0md\u001b[0m\u001b[0;34m=\u001b[0m\u001b[0mjson\u001b[0m\u001b[0;34m.\u001b[0m\u001b[0mloads\u001b[0m\u001b[0;34m(\u001b[0m\u001b[0mattr\u001b[0m\u001b[0;34m)\u001b[0m\u001b[0;34m\u001b[0m\u001b[0;34m\u001b[0m\u001b[0m\n\u001b[1;32m     11\u001b[0m     \u001b[0;32mreturn\u001b[0m\u001b[0;34m(\u001b[0m\u001b[0md\u001b[0m\u001b[0;34m)\u001b[0m\u001b[0;34m\u001b[0m\u001b[0;34m\u001b[0m\u001b[0m\n\u001b[0;32m---> 12\u001b[0;31m \u001b[0mdfCov\u001b[0m\u001b[0;34m[\u001b[0m\u001b[0;34m\"dimdict\"\u001b[0m\u001b[0;34m]\u001b[0m\u001b[0;34m=\u001b[0m\u001b[0mdfCov\u001b[0m\u001b[0;34m.\u001b[0m\u001b[0mapply\u001b[0m\u001b[0;34m(\u001b[0m\u001b[0;32mlambda\u001b[0m \u001b[0mx\u001b[0m\u001b[0;34m:\u001b[0m\u001b[0mgetdimdict\u001b[0m\u001b[0;34m(\u001b[0m\u001b[0mx\u001b[0m\u001b[0;34m)\u001b[0m\u001b[0;34m,\u001b[0m\u001b[0maxis\u001b[0m\u001b[0;34m=\u001b[0m\u001b[0;36m1\u001b[0m\u001b[0;34m)\u001b[0m\u001b[0;34m\u001b[0m\u001b[0;34m\u001b[0m\u001b[0m\n\u001b[0m",
      "\u001b[0;32m~/opt/anaconda3/lib/python3.7/site-packages/pandas/core/frame.py\u001b[0m in \u001b[0;36mapply\u001b[0;34m(self, func, axis, raw, result_type, args, **kwds)\u001b[0m\n\u001b[1;32m   6876\u001b[0m             \u001b[0mkwds\u001b[0m\u001b[0;34m=\u001b[0m\u001b[0mkwds\u001b[0m\u001b[0;34m,\u001b[0m\u001b[0;34m\u001b[0m\u001b[0;34m\u001b[0m\u001b[0m\n\u001b[1;32m   6877\u001b[0m         )\n\u001b[0;32m-> 6878\u001b[0;31m         \u001b[0;32mreturn\u001b[0m \u001b[0mop\u001b[0m\u001b[0;34m.\u001b[0m\u001b[0mget_result\u001b[0m\u001b[0;34m(\u001b[0m\u001b[0;34m)\u001b[0m\u001b[0;34m\u001b[0m\u001b[0;34m\u001b[0m\u001b[0m\n\u001b[0m\u001b[1;32m   6879\u001b[0m \u001b[0;34m\u001b[0m\u001b[0m\n\u001b[1;32m   6880\u001b[0m     \u001b[0;32mdef\u001b[0m \u001b[0mapplymap\u001b[0m\u001b[0;34m(\u001b[0m\u001b[0mself\u001b[0m\u001b[0;34m,\u001b[0m \u001b[0mfunc\u001b[0m\u001b[0;34m)\u001b[0m \u001b[0;34m->\u001b[0m \u001b[0;34m\"DataFrame\"\u001b[0m\u001b[0;34m:\u001b[0m\u001b[0;34m\u001b[0m\u001b[0;34m\u001b[0m\u001b[0m\n",
      "\u001b[0;32m~/opt/anaconda3/lib/python3.7/site-packages/pandas/core/apply.py\u001b[0m in \u001b[0;36mget_result\u001b[0;34m(self)\u001b[0m\n\u001b[1;32m    184\u001b[0m             \u001b[0;32mreturn\u001b[0m \u001b[0mself\u001b[0m\u001b[0;34m.\u001b[0m\u001b[0mapply_raw\u001b[0m\u001b[0;34m(\u001b[0m\u001b[0;34m)\u001b[0m\u001b[0;34m\u001b[0m\u001b[0;34m\u001b[0m\u001b[0m\n\u001b[1;32m    185\u001b[0m \u001b[0;34m\u001b[0m\u001b[0m\n\u001b[0;32m--> 186\u001b[0;31m         \u001b[0;32mreturn\u001b[0m \u001b[0mself\u001b[0m\u001b[0;34m.\u001b[0m\u001b[0mapply_standard\u001b[0m\u001b[0;34m(\u001b[0m\u001b[0;34m)\u001b[0m\u001b[0;34m\u001b[0m\u001b[0;34m\u001b[0m\u001b[0m\n\u001b[0m\u001b[1;32m    187\u001b[0m \u001b[0;34m\u001b[0m\u001b[0m\n\u001b[1;32m    188\u001b[0m     \u001b[0;32mdef\u001b[0m \u001b[0mapply_empty_result\u001b[0m\u001b[0;34m(\u001b[0m\u001b[0mself\u001b[0m\u001b[0;34m)\u001b[0m\u001b[0;34m:\u001b[0m\u001b[0;34m\u001b[0m\u001b[0;34m\u001b[0m\u001b[0m\n",
      "\u001b[0;32m~/opt/anaconda3/lib/python3.7/site-packages/pandas/core/apply.py\u001b[0m in \u001b[0;36mapply_standard\u001b[0;34m(self)\u001b[0m\n\u001b[1;32m    294\u001b[0m             \u001b[0;32mtry\u001b[0m\u001b[0;34m:\u001b[0m\u001b[0;34m\u001b[0m\u001b[0;34m\u001b[0m\u001b[0m\n\u001b[1;32m    295\u001b[0m                 result = libreduction.compute_reduction(\n\u001b[0;32m--> 296\u001b[0;31m                     \u001b[0mvalues\u001b[0m\u001b[0;34m,\u001b[0m \u001b[0mself\u001b[0m\u001b[0;34m.\u001b[0m\u001b[0mf\u001b[0m\u001b[0;34m,\u001b[0m \u001b[0maxis\u001b[0m\u001b[0;34m=\u001b[0m\u001b[0mself\u001b[0m\u001b[0;34m.\u001b[0m\u001b[0maxis\u001b[0m\u001b[0;34m,\u001b[0m \u001b[0mdummy\u001b[0m\u001b[0;34m=\u001b[0m\u001b[0mdummy\u001b[0m\u001b[0;34m,\u001b[0m \u001b[0mlabels\u001b[0m\u001b[0;34m=\u001b[0m\u001b[0mlabels\u001b[0m\u001b[0;34m\u001b[0m\u001b[0;34m\u001b[0m\u001b[0m\n\u001b[0m\u001b[1;32m    297\u001b[0m                 )\n\u001b[1;32m    298\u001b[0m             \u001b[0;32mexcept\u001b[0m \u001b[0mValueError\u001b[0m \u001b[0;32mas\u001b[0m \u001b[0merr\u001b[0m\u001b[0;34m:\u001b[0m\u001b[0;34m\u001b[0m\u001b[0;34m\u001b[0m\u001b[0m\n",
      "\u001b[0;32mpandas/_libs/reduction.pyx\u001b[0m in \u001b[0;36mpandas._libs.reduction.compute_reduction\u001b[0;34m()\u001b[0m\n",
      "\u001b[0;32mpandas/_libs/reduction.pyx\u001b[0m in \u001b[0;36mpandas._libs.reduction.Reducer.get_result\u001b[0;34m()\u001b[0m\n",
      "\u001b[0;32m<ipython-input-6-e7ac7f657dae>\u001b[0m in \u001b[0;36m<lambda>\u001b[0;34m(x)\u001b[0m\n\u001b[1;32m     10\u001b[0m         \u001b[0md\u001b[0m\u001b[0;34m=\u001b[0m\u001b[0mjson\u001b[0m\u001b[0;34m.\u001b[0m\u001b[0mloads\u001b[0m\u001b[0;34m(\u001b[0m\u001b[0mattr\u001b[0m\u001b[0;34m)\u001b[0m\u001b[0;34m\u001b[0m\u001b[0;34m\u001b[0m\u001b[0m\n\u001b[1;32m     11\u001b[0m     \u001b[0;32mreturn\u001b[0m\u001b[0;34m(\u001b[0m\u001b[0md\u001b[0m\u001b[0;34m)\u001b[0m\u001b[0;34m\u001b[0m\u001b[0;34m\u001b[0m\u001b[0m\n\u001b[0;32m---> 12\u001b[0;31m \u001b[0mdfCov\u001b[0m\u001b[0;34m[\u001b[0m\u001b[0;34m\"dimdict\"\u001b[0m\u001b[0;34m]\u001b[0m\u001b[0;34m=\u001b[0m\u001b[0mdfCov\u001b[0m\u001b[0;34m.\u001b[0m\u001b[0mapply\u001b[0m\u001b[0;34m(\u001b[0m\u001b[0;32mlambda\u001b[0m \u001b[0mx\u001b[0m\u001b[0;34m:\u001b[0m\u001b[0mgetdimdict\u001b[0m\u001b[0;34m(\u001b[0m\u001b[0mx\u001b[0m\u001b[0;34m)\u001b[0m\u001b[0;34m,\u001b[0m\u001b[0maxis\u001b[0m\u001b[0;34m=\u001b[0m\u001b[0;36m1\u001b[0m\u001b[0;34m)\u001b[0m\u001b[0;34m\u001b[0m\u001b[0;34m\u001b[0m\u001b[0m\n\u001b[0m",
      "\u001b[0;32m<ipython-input-6-e7ac7f657dae>\u001b[0m in \u001b[0;36mgetdimdict\u001b[0;34m(x)\u001b[0m\n\u001b[1;32m      2\u001b[0m \u001b[0;32mdef\u001b[0m \u001b[0mgetdimdict\u001b[0m\u001b[0;34m(\u001b[0m\u001b[0mx\u001b[0m\u001b[0;34m)\u001b[0m\u001b[0;34m:\u001b[0m\u001b[0;34m\u001b[0m\u001b[0;34m\u001b[0m\u001b[0m\n\u001b[1;32m      3\u001b[0m     \u001b[0ms\u001b[0m\u001b[0;34m=\u001b[0m\u001b[0mx\u001b[0m\u001b[0;34m[\u001b[0m\u001b[0;34m\"soup\"\u001b[0m\u001b[0;34m]\u001b[0m\u001b[0;34m\u001b[0m\u001b[0;34m\u001b[0m\u001b[0m\n\u001b[0;32m----> 4\u001b[0;31m     \u001b[0mdatadoc\u001b[0m\u001b[0;34m=\u001b[0m\u001b[0ms\u001b[0m\u001b[0;34m.\u001b[0m\u001b[0mfind\u001b[0m\u001b[0;34m(\u001b[0m\u001b[0;34m\"div\"\u001b[0m\u001b[0;34m)\u001b[0m\u001b[0;34m\u001b[0m\u001b[0;34m\u001b[0m\u001b[0m\n\u001b[0m\u001b[1;32m      5\u001b[0m     \u001b[0;32mif\u001b[0m \u001b[0mdatadoc\u001b[0m\u001b[0;34m==\u001b[0m\u001b[0;32mNone\u001b[0m\u001b[0;34m:\u001b[0m\u001b[0;34m\u001b[0m\u001b[0;34m\u001b[0m\u001b[0m\n\u001b[1;32m      6\u001b[0m         \u001b[0mattr\u001b[0m\u001b[0;34m=\u001b[0m\u001b[0;34m\"\"\u001b[0m\u001b[0;34m\u001b[0m\u001b[0;34m\u001b[0m\u001b[0m\n",
      "\u001b[0;31mAttributeError\u001b[0m: 'float' object has no attribute 'find'"
     ]
    }
   ],
   "source": [
    "## create a dict column\n",
    "def getdimdict(x):\n",
    "    s=x[\"soup\"]\n",
    "    datadoc=s.find(\"div\")\n",
    "    if datadoc==None:\n",
    "        attr=\"\"\n",
    "        d=\"\"\n",
    "    else:\n",
    "        attr=datadoc.get(\"data-doc\")\n",
    "        d=json.loads(attr)\n",
    "    return(d)\n",
    "dfCov[\"dimdict\"]=dfCov.apply(lambda x:getdimdict(x),axis=1)"
   ]
  },
  {
   "cell_type": "code",
   "execution_count": null,
   "metadata": {},
   "outputs": [],
   "source": [
    "likeys=list(dfCov[\"dimdict\"].loc[116].keys())"
   ]
  },
  {
   "cell_type": "code",
   "execution_count": null,
   "metadata": {},
   "outputs": [],
   "source": [
    "pubkeys=[\n",
    "    'title',\n",
    "    'aff_org_name',\n",
    "#    'affiliations_json',\n",
    "     'author_list',\n",
    "     'researcher_dim_id',\n",
    "     'researcher_dim_count',\n",
    "     'journal_title',\n",
    "     'language',\n",
    "     'abstract',\n",
    "     'open_access',\n",
    "     'publisher',\n",
    "#     'pub_class',\n",
    "#    'aff_city_geonames_ids',\n",
    "     'aff_city_name',\n",
    "     'aff_country_name',\n",
    "#     'aff_org_id',\n",
    "     'doi',\n",
    "#     'id',\n",
    "     'pub_date',\n",
    "     'pub_year',\n",
    "     'times_cited',\n",
    "     'altmetric_id',\n",
    "     'altmetric',\n",
    "#     'score',\n",
    "#     'affiliations_details',\n",
    "     'authors_full',\n",
    " #    'journal'\n",
    "        ]"
   ]
  },
  {
   "cell_type": "code",
   "execution_count": null,
   "metadata": {},
   "outputs": [],
   "source": [
    "\n",
    "def df2dic(y):\n",
    "    dicpub=dict()\n",
    "    dicpub[\"index\"]=y[\"index\"]\n",
    "    dicpub[\"PMID\"]=y[\"PMID\"]\n",
    "    x=y[\"dimdict\"]\n",
    "    for i in pubkeys:\n",
    "        v=x.get(i)\n",
    "        dicpub[i]=v\n",
    "    return(dicpub)"
   ]
  },
  {
   "cell_type": "code",
   "execution_count": null,
   "metadata": {},
   "outputs": [],
   "source": [
    "dfV=dfCov.loc[316]\n",
    "d=df2dic(dfV)\n",
    "d[\"abstract\"]"
   ]
  },
  {
   "cell_type": "code",
   "execution_count": null,
   "metadata": {},
   "outputs": [],
   "source": [
    "listDF=[df2dic(rows) for i,rows in dfCov.iterrows()]"
   ]
  },
  {
   "cell_type": "code",
   "execution_count": null,
   "metadata": {},
   "outputs": [],
   "source": [
    "dfPub=pd.DataFrame(listDF)\n",
    "len(dfPub)"
   ]
  },
  {
   "cell_type": "code",
   "execution_count": null,
   "metadata": {},
   "outputs": [],
   "source": [
    "dfPub.head(2)"
   ]
  },
  {
   "cell_type": "code",
   "execution_count": null,
   "metadata": {},
   "outputs": [],
   "source": [
    "dfPub.to_json(\"dfwaterpub.json\")"
   ]
  }
 ],
 "metadata": {
  "kernelspec": {
   "display_name": "Python 3",
   "language": "python",
   "name": "python3"
  },
  "language_info": {
   "codemirror_mode": {
    "name": "ipython",
    "version": 3
   },
   "file_extension": ".py",
   "mimetype": "text/x-python",
   "name": "python",
   "nbconvert_exporter": "python",
   "pygments_lexer": "ipython3",
   "version": "3.7.7"
  }
 },
 "nbformat": 4,
 "nbformat_minor": 4
}
