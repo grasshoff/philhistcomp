{
 "cells": [
  {
   "cell_type": "markdown",
   "metadata": {},
   "source": [
    "# Collect abstractes and its sentences"
   ]
  },
  {
   "cell_type": "code",
   "execution_count": 1,
   "metadata": {},
   "outputs": [],
   "source": [
    "import json \n",
    "from datetime import datetime"
   ]
  },
  {
   "cell_type": "code",
   "execution_count": 2,
   "metadata": {},
   "outputs": [],
   "source": [
    "import datetime\n",
    "import numpy as np\n",
    "import pandas as pd"
   ]
  },
  {
   "cell_type": "code",
   "execution_count": 7,
   "metadata": {},
   "outputs": [],
   "source": [
    "dfCov=pd.read_json(\"fullpubl.json\")"
   ]
  },
  {
   "cell_type": "code",
   "execution_count": 8,
   "metadata": {},
   "outputs": [
    {
     "data": {
      "text/plain": [
       "3189"
      ]
     },
     "execution_count": 8,
     "metadata": {},
     "output_type": "execute_result"
    }
   ],
   "source": [
    "len(dfCov)"
   ]
  },
  {
   "cell_type": "code",
   "execution_count": 9,
   "metadata": {},
   "outputs": [
    {
     "data": {
      "text/plain": [
       "Index(['index', 'Rank', 'Publication ID', 'DOI', 'PMID', 'PMCID', 'Title',\n",
       "       'Source title', 'Anthology title', 'Publisher', 'MeSH terms',\n",
       "       'Publication Date', 'PubYear', 'Volume', 'Issue', 'Pagination',\n",
       "       'Open Access', 'Publication Type', 'Authors', 'Corresponding Author',\n",
       "       'Authors Affiliations', 'Research Organizations - standardized',\n",
       "       'GRID IDs', 'City of Research organization',\n",
       "       'State of Research organization', 'Country of Research organization',\n",
       "       'Funder', 'Funder Group', 'Funder Country', 'UIDs of supporting grants',\n",
       "       'Supporting Grants', 'Times cited', 'Recent citations', 'RCR', 'FCR',\n",
       "       'Altmetric', 'Source Linkout', 'Dimensions URL',\n",
       "       'FOR (ANZSRC) Categories', 'RCDC Categories', 'HRCS HC Categories',\n",
       "       'HRCS RAC Categories', 'ICRP Cancer Types', 'ICRP CSO Categories',\n",
       "       'Units of Assessment', 'sourcefile', 'htmldimension', 'soup'],\n",
       "      dtype='object')"
      ]
     },
     "execution_count": 9,
     "metadata": {},
     "output_type": "execute_result"
    }
   ],
   "source": [
    "dfCov.keys()"
   ]
  },
  {
   "cell_type": "code",
   "execution_count": 11,
   "metadata": {},
   "outputs": [],
   "source": [
    "## create a dict column\n",
    "def getdimdict(x):\n",
    "    s=x[\"soup\"]\n",
    "    datadoc=s.find(\"div\")\n",
    "    if datadoc==None:\n",
    "        attr=\"\"\n",
    "        d=\"\"\n",
    "    else:\n",
    "        attr=datadoc.get(\"data-doc\")\n",
    "        d=json.loads(attr)\n",
    "    return(d)\n",
    "dfCov[\"dimdict\"]=dfCov.apply(lambda x:getdimdict(x),axis=1)"
   ]
  },
  {
   "cell_type": "code",
   "execution_count": 12,
   "metadata": {},
   "outputs": [],
   "source": [
    "likeys=list(dfCov[\"dimdict\"].loc[116].keys())"
   ]
  },
  {
   "cell_type": "code",
   "execution_count": 16,
   "metadata": {},
   "outputs": [],
   "source": [
    "pubkeys=[\n",
    "    'title',\n",
    "    'aff_org_name',\n",
    "#    'affiliations_json',\n",
    "     'author_list',\n",
    "     'researcher_dim_id',\n",
    "     'researcher_dim_count',\n",
    "     'journal_title',\n",
    "     'language',\n",
    "     'abstract',\n",
    "     'open_access',\n",
    "     'publisher',\n",
    "#     'pub_class',\n",
    "#    'aff_city_geonames_ids',\n",
    "     'aff_city_name',\n",
    "     'aff_country_name',\n",
    "#     'aff_org_id',\n",
    "     'doi',\n",
    "#     'id',\n",
    "     'pub_date',\n",
    "     'pub_year',\n",
    "     'times_cited',\n",
    "     'altmetric_id',\n",
    "     'altmetric',\n",
    "#     'score',\n",
    "#     'affiliations_details',\n",
    "     'authors_full',\n",
    " #    'journal'\n",
    "        ]"
   ]
  },
  {
   "cell_type": "code",
   "execution_count": 42,
   "metadata": {},
   "outputs": [],
   "source": [
    "\n",
    "def df2dic(y):\n",
    "    dicpub=dict()\n",
    "    dicpub[\"index\"]=y[\"index\"]\n",
    "    dicpub[\"PMID\"]=y[\"PMID\"]\n",
    "    x=y[\"dimdict\"]\n",
    "    for i in pubkeys:\n",
    "        v=x.get(i)\n",
    "        dicpub[i]=v\n",
    "    return(dicpub)"
   ]
  },
  {
   "cell_type": "code",
   "execution_count": 46,
   "metadata": {},
   "outputs": [
    {
     "data": {
      "text/plain": [
       "'<b>Objective:</b> To raise awareness about 2019 novel coronavirus pneumonia (NCP) and reduce missed diagnosis rate and misdiagnosis rate by comparing the clinical characteristics between RNA positive and negative patients clinically diagnosed with NCP. <b>Methods:</b> From January 2020 to February 2020, 54 patients who were newly diagnosed with NCP in Wuhan Fourth Hospital were included in this study. RT-PCR method was used to measure the level of 2019-nCov RNA in pharyngeal swab samples of these patients. The patients were divided into RNA positive and negative group, and the differences of clinical, laboratory, and radiological characteristics were compared. <b>Results:</b> There were 31 RNA of 2019-nCov positive cases, and 23 negative cases. Common clinical symptoms of two groups were fever (80.64% <i>vs.</i> 86.96%) , chills (61.29% <i>vs.</i>52.17%) , cough (80.64% <i>vs.</i>95.65%) , fatigue (61.30% <i>vs.</i>56.52%) , chest distress (77.42% <i>vs.</i>73.91%) . Some other symptoms were headache, myalgia, dyspnea, diarrhea, nausea and vomiting. The laboratory and radiological characteristics of two groups mainly were lymphopenia, increased erythrocyte sedimentation rate, increased C-reactive protein, increased lactate dehydrogenase, decreased oxygenation index, normal white blood cell count and bilateral chest CT involvement. There was no statistically significant difference in other clinical characteristics except for dyspnea between two groups. <b>Conclusions:</b> RNA positive and negative NCP patients shared similar clinical symptoms, while RNA positive NCP patients tended to have dyspnea. Therefore, we should improve the understanding of NCP to prevent missed diagnosis and misdiagnosis; In addition, more rapid and accurate NCP diagnostic approaches should be further developed.'"
      ]
     },
     "execution_count": 46,
     "metadata": {},
     "output_type": "execute_result"
    }
   ],
   "source": [
    "dfV=dfCov.loc[316]\n",
    "d=df2dic(dfV)\n",
    "d[\"abstract\"]"
   ]
  },
  {
   "cell_type": "code",
   "execution_count": 50,
   "metadata": {},
   "outputs": [],
   "source": [
    "listDF=[df2dic(rows) for i,rows in dfCov.iterrows()]"
   ]
  },
  {
   "cell_type": "code",
   "execution_count": 54,
   "metadata": {},
   "outputs": [
    {
     "data": {
      "text/plain": [
       "3189"
      ]
     },
     "execution_count": 54,
     "metadata": {},
     "output_type": "execute_result"
    }
   ],
   "source": [
    "dfPub=pd.DataFrame(listDF)\n",
    "len(dfPub)"
   ]
  },
  {
   "cell_type": "code",
   "execution_count": 55,
   "metadata": {},
   "outputs": [
    {
     "data": {
      "text/html": [
       "<div>\n",
       "<style scoped>\n",
       "    .dataframe tbody tr th:only-of-type {\n",
       "        vertical-align: middle;\n",
       "    }\n",
       "\n",
       "    .dataframe tbody tr th {\n",
       "        vertical-align: top;\n",
       "    }\n",
       "\n",
       "    .dataframe thead th {\n",
       "        text-align: right;\n",
       "    }\n",
       "</style>\n",
       "<table border=\"1\" class=\"dataframe\">\n",
       "  <thead>\n",
       "    <tr style=\"text-align: right;\">\n",
       "      <th></th>\n",
       "      <th>index</th>\n",
       "      <th>PMID</th>\n",
       "      <th>title</th>\n",
       "      <th>aff_org_name</th>\n",
       "      <th>researcher_dim_id</th>\n",
       "      <th>researcher_dim_count</th>\n",
       "      <th>journal_title</th>\n",
       "      <th>language</th>\n",
       "      <th>abstract</th>\n",
       "      <th>open_access</th>\n",
       "      <th>...</th>\n",
       "      <th>pub_class</th>\n",
       "      <th>aff_city_name</th>\n",
       "      <th>aff_country_name</th>\n",
       "      <th>doi</th>\n",
       "      <th>pub_date</th>\n",
       "      <th>pub_year</th>\n",
       "      <th>times_cited</th>\n",
       "      <th>altmetric_id</th>\n",
       "      <th>altmetric</th>\n",
       "      <th>authors_full</th>\n",
       "    </tr>\n",
       "  </thead>\n",
       "  <tbody>\n",
       "    <tr>\n",
       "      <th>0</th>\n",
       "      <td>0</td>\n",
       "      <td>31986264.0</td>\n",
       "      <td>Clinical features of patients infected with 20...</td>\n",
       "      <td>[Tsinghua University, Jin Yin-tan Hospital, Wu...</td>\n",
       "      <td>[ur.01323674617.33, ur.016017505455.78, ur.010...</td>\n",
       "      <td>4.0</td>\n",
       "      <td>The Lancet</td>\n",
       "      <td>en</td>\n",
       "      <td>BACKGROUND: A recent cluster of pneumonia case...</td>\n",
       "      <td>True</td>\n",
       "      <td>...</td>\n",
       "      <td>Article</td>\n",
       "      <td>[Wuhan, Beijing]</td>\n",
       "      <td>[China]</td>\n",
       "      <td>10.1016/s0140-6736(20)30183-5</td>\n",
       "      <td>2020-02</td>\n",
       "      <td>2020</td>\n",
       "      <td>495</td>\n",
       "      <td>74464078</td>\n",
       "      <td>11011.0</td>\n",
       "      <td>[Chaolin Huang, Yeming Wang, Xingwang Li, Lili...</td>\n",
       "    </tr>\n",
       "    <tr>\n",
       "      <th>1</th>\n",
       "      <td>1</td>\n",
       "      <td>31978945.0</td>\n",
       "      <td>A Novel Coronavirus from Patients with Pneumon...</td>\n",
       "      <td>[From the NHC Key Laboratory of Biosafety, Nat...</td>\n",
       "      <td>[ur.01301202165.60, ur.01102430436.06, ur.0123...</td>\n",
       "      <td>13.0</td>\n",
       "      <td>New England Journal of Medicine</td>\n",
       "      <td>en</td>\n",
       "      <td>In December 2019, a cluster of patients with p...</td>\n",
       "      <td>True</td>\n",
       "      <td>...</td>\n",
       "      <td>Article</td>\n",
       "      <td>[Belo Horizonte]</td>\n",
       "      <td>[Brazil]</td>\n",
       "      <td>10.1056/nejmoa2001017</td>\n",
       "      <td>2020-01-24</td>\n",
       "      <td>2020</td>\n",
       "      <td>360</td>\n",
       "      <td>74465228</td>\n",
       "      <td>4115.0</td>\n",
       "      <td>[Na Zhu, Dingyu Zhang, Wenling Wang, Xingwang ...</td>\n",
       "    </tr>\n",
       "  </tbody>\n",
       "</table>\n",
       "<p>2 rows × 21 columns</p>\n",
       "</div>"
      ],
      "text/plain": [
       "   index        PMID                                              title  \\\n",
       "0      0  31986264.0  Clinical features of patients infected with 20...   \n",
       "1      1  31978945.0  A Novel Coronavirus from Patients with Pneumon...   \n",
       "\n",
       "                                        aff_org_name  \\\n",
       "0  [Tsinghua University, Jin Yin-tan Hospital, Wu...   \n",
       "1  [From the NHC Key Laboratory of Biosafety, Nat...   \n",
       "\n",
       "                                   researcher_dim_id  researcher_dim_count  \\\n",
       "0  [ur.01323674617.33, ur.016017505455.78, ur.010...                   4.0   \n",
       "1  [ur.01301202165.60, ur.01102430436.06, ur.0123...                  13.0   \n",
       "\n",
       "                     journal_title language  \\\n",
       "0                       The Lancet       en   \n",
       "1  New England Journal of Medicine       en   \n",
       "\n",
       "                                            abstract  open_access  ...  \\\n",
       "0  BACKGROUND: A recent cluster of pneumonia case...         True  ...   \n",
       "1  In December 2019, a cluster of patients with p...         True  ...   \n",
       "\n",
       "  pub_class     aff_city_name aff_country_name                            doi  \\\n",
       "0   Article  [Wuhan, Beijing]          [China]  10.1016/s0140-6736(20)30183-5   \n",
       "1   Article  [Belo Horizonte]         [Brazil]          10.1056/nejmoa2001017   \n",
       "\n",
       "     pub_date pub_year  times_cited  altmetric_id  altmetric  \\\n",
       "0     2020-02     2020          495      74464078    11011.0   \n",
       "1  2020-01-24     2020          360      74465228     4115.0   \n",
       "\n",
       "                                        authors_full  \n",
       "0  [Chaolin Huang, Yeming Wang, Xingwang Li, Lili...  \n",
       "1  [Na Zhu, Dingyu Zhang, Wenling Wang, Xingwang ...  \n",
       "\n",
       "[2 rows x 21 columns]"
      ]
     },
     "execution_count": 55,
     "metadata": {},
     "output_type": "execute_result"
    }
   ],
   "source": [
    "dfPub.head(2)"
   ]
  },
  {
   "cell_type": "code",
   "execution_count": 53,
   "metadata": {},
   "outputs": [],
   "source": [
    "dfPub.to_json(\"dfwaterpub.json\")"
   ]
  }
 ],
 "metadata": {
  "kernelspec": {
   "display_name": "Python 3",
   "language": "python",
   "name": "python3"
  },
  "language_info": {
   "codemirror_mode": {
    "name": "ipython",
    "version": 3
   },
   "file_extension": ".py",
   "mimetype": "text/x-python",
   "name": "python",
   "nbconvert_exporter": "python",
   "pygments_lexer": "ipython3",
   "version": "3.7.7"
  }
 },
 "nbformat": 4,
 "nbformat_minor": 4
}
