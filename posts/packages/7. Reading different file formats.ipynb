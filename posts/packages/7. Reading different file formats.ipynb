{
 "cells": [
  {
   "cell_type": "markdown",
   "metadata": {},
   "source": [
    "# Reading Text Files"
   ]
  },
  {
   "cell_type": "code",
   "execution_count": 1,
   "metadata": {},
   "outputs": [],
   "source": [
    "import numpy as np\n",
    "import pandas as pd\n",
    "\n",
    "from pandas import Series, DataFrame"
   ]
  },
  {
   "cell_type": "code",
   "execution_count": 1,
   "metadata": {},
   "outputs": [],
   "source": [
    "diotima = open('diotima.txt')"
   ]
  },
  {
   "cell_type": "code",
   "execution_count": 2,
   "metadata": {},
   "outputs": [
    {
     "data": {
      "text/plain": [
       "' I said, \"O thou stranger woman, thou sayest well; but, assuming Love\\nto be such as you say, what is the use of him to men?\" \"That,\\nSocrates,\" she replied, \"I will attempt to unfold: of his nature and\\nbirth I have already spoken; and you acknowledge that love is of the\\nbeautiful. But some one will say: Of the beautiful in what, Socrates\\nand Diotima?-or rather let me put the question more dearly, and ask:\\nWhen a man loves the beautiful, what does he desire?\" I answered her\\n\"That the beautiful may be his.\" \"Still,\" she said, \"the answer\\nsuggests a further question: What is given by the possession of\\nbeauty?\" \"To what you have asked,\" I replied, \"I have no answer\\nready.\" \"Then,\" she said, \"Let me put the word \\'good\\' in the place\\nof the beautiful, and repeat the question once more: If he who loves\\ngood, what is it then that he loves? \"The possession of the good,\" I\\nsaid. \"And what does he gain who possesses the good?\" \"Happiness,\" I\\nreplied; \"there is less difficulty in answering that question.\" \"Yes,\"\\nshe said, \"the happy are made happy by the acquisition of good things.\\nNor is there any need to ask why a man desires happiness; the answer\\nis already final.\" \"You are right.\" I said. \"And is this wish and this\\ndesire common to all? and do all men always desire their own good,\\nor only some men?-what say you?\" \"All men,\" I replied; \"the desire\\nis common to all.\" \"Why, then,\" she rejoined, \"are not all men,\\nSocrates, said to love, but only some them? whereas you say that all\\nmen are always loving the same things.\" \"I myself wonder,\" I said,-why\\nthis is.\" \"There is nothing to wonder at,\" she replied; \"the reason is\\nthat one part of love is separated off and receives the name of the\\nwhole, but the other parts have other names.\" \"Give an\\nillustration,\" I said. She answered me as follows: \"There is poetry,\\nwhich, as you know, is complex; and manifold. All creation or\\npassage of non-being into being is poetry or making, and the processes\\nof all art are creative; and the masters of arts are all poets or\\nmakers.\" \"Very true.\" \"Still,\" she said, \"you know that they are not\\ncalled poets, but have other names; only that portion of the art which\\nis separated off from the rest, and is concerned with music and metre,\\nis termed poetry, and they who possess poetry in this sense of the\\nword are called poets.\" \"Very true,\" I said. \"And the same holds of\\nlove. For you may say generally that all desire of good and\\nhappiness is only the great and subtle power of love; but they who are\\ndrawn towards him by any other path, whether the path of\\nmoney-making or gymnastics or philosophy, are not called lovers -the\\nname of the whole is appropriated to those whose affection takes one\\nform only-they alone are said to love, or to be lovers.\" \"I dare say,\"\\nI replied, \"that you are right.\" \"Yes,\" she added, \"and you hear\\npeople say that lovers are seeking for their other half; but I say\\nthat they are seeking neither for the half of themselves, nor for\\nthe whole, unless the half or the whole be also a good. And they\\nwill cut off their own hands and feet and cast them away, if they\\nare evil; for they love not what is their own, unless perchance\\nthere be some one who calls what belongs to him the good, and what\\nbelongs to another the evil. For there is nothing which men love but\\nthe good. Is there anything?\" \"Certainly, I should say, that there\\nis nothing.\" \"Then,\" she said, \"the simple truth is, that men love the\\ngood.\" \"Yes,\" I said. \"To which must be added that they love the\\npossession of the good? \"Yes, that must be added.\" \"And not only the\\npossession, but the everlasting possession of the good?\" \"That must be\\nadded too.\" \"Then love,\" she said, \"may be described generally as\\nthe love of the everlasting possession of the good?\" \"That is most\\ntrue.\"\\n\\n  \"Then if this be the nature of love, can you tell me further,\" she\\nsaid, \"what is the manner of the pursuit? what are they doing who show\\nall this eagerness and heat which is called love? and what is the\\nobject which they have in view? Answer me.\" \"Nay, Diotima,\" I replied,\\n\"if I had known, I should not have wondered at your wisdom, neither\\nshould I have come to learn from you about this very matter.\"\\n\"Well,\" she said, \"I will teach you:-The object which they have in\\nview is birth in beauty, whether of body or, soul.\" \"I do not\\nunderstand you,\" I said; \"the oracle requires an explanation.\" \"I will\\nmake my meaning dearer,\" she replied. \"I mean to say, that all men are\\nbringing to the birth in their bodies and in their souls. There is a\\ncertain age at which human nature is desirous of\\nprocreation-procreation which must be in beauty and not in\\ndeformity; and this procreation is the union of man and woman, and\\nis a divine thing; for conception and generation are an immortal\\nprinciple in the mortal creature, and in the inharmonious they can\\nnever be. But the deformed is always inharmonious with the divine, and\\nthe beautiful harmonious. Beauty, then, is the destiny or goddess of\\nparturition who presides at birth, and therefore, when approaching\\nbeauty, the conceiving power is propitious, and diffusive, and benign,\\nand begets and bears fruit: at the sight of ugliness she frowns and\\ncontracts and has a sense of pain, and turns away, and shrivels up,\\nand not without a pang refrains from conception. And this is the\\nreason why, when the hour of conception arrives, and the teeming\\nnature is full, there is such a flutter and ecstasy about beauty whose\\napproach is the alleviation of the pain of travail. For love,\\nSocrates, is not, as you imagine, the love of the beautiful only.\"\\n\"What then?\" \"The love of generation and of birth in beauty.\" \"Yes,\" I\\nsaid. \"Yes, indeed,\" she replied. \"But why of generation?\" \"Because to\\nthe mortal creature, generation is a sort of eternity and\\nimmortality,\" she replied; \"and if, as has been already admitted, love\\nis of the everlasting possession of the good, all men will necessarily\\ndesire immortality together with good: Wherefore love is of\\nimmortality.\"\\n\\n  All this she taught me at various times when she spoke of love.\\nAnd I remember her once saying to me, \"What is the cause, Socrates, of\\nlove, and the attendant desire? See you not how all animals, birds, as\\nwell as beasts, in their desire of procreation, are in agony when they\\ntake the infection of love, which begins with the desire of union;\\nwhereto is added the care of offspring, on whose behalf the weakest\\nare ready to battle against the strongest even to the uttermost, and\\nto die for them, and will, let themselves be tormented with hunger\\nor suffer anything in order to maintain their young. Man may be\\nsupposed to act thus from reason; but why should animals have these\\npassionate feelings? Can you tell me why?\" Again I replied that I\\ndid not know. She said to me: \"And do you expect ever to become a\\nmaster in the art of love, if you do not know this?\" \"But I have\\ntold you already, Diotima, that my ignorance is the reason why I\\ncome to you; for I am conscious that I want a teacher; tell me then\\nthe cause of this and of the other mysteries of love.\" \"Marvel not,\"\\nshe said, \"if you believe that love is of the immortal, as we have\\nseveral times acknowledged; for here again, and on the same\\nprinciple too, the mortal nature is seeking as far as is possible to\\nbe everlasting and immortal: and this is only to be attained by\\ngeneration, because generation always leaves behind a new existence in\\nthe place of the old. Nay even in the life, of the same individual\\nthere is succession and not absolute unity: a man is called the\\nsame, and yet in the short interval which elapses between youth and\\nage, and in which every animal is said to have life and identity, he\\nis undergoing a perpetual process of loss and reparation-hair,\\nflesh, bones, blood, and the whole body are always changing. Which\\nis true not only of the body, but also of the soul, whose habits,\\ntempers, opinions, desires, pleasures, pains, fears, never remain\\nthe same in any one of us, but are always coming and going; and\\nequally true of knowledge, and what is still more surprising to us\\nmortals, not only do the sciences in general spring up and decay, so\\nthat in respect of them we are never the same; but each of them\\nindividually experiences a like change. For what is implied in the\\nword \\'recollection,\\' but the departure of knowledge, which is ever\\nbeing forgotten, and is renewed and preserved by recollection, and\\nappears to be the same although in reality new, according to that\\nlaw of succession by which all mortal things are preserved, not\\nabsolutely the same, but by substitution, the old worn-out mortality\\nleaving another new and similar existence behind unlike the divine,\\nwhich is always the same and not another? And in this way, Socrates,\\nthe mortal body, or mortal anything, partakes of immortality; but\\nthe immortal in another way. Marvel not then at the love which all men\\nhave of their offspring; for that universal love and interest is for\\nthe sake of immortality.\"\\n\\n  I was astonished at her words, and said: \"Is this really true, O\\nthou wise Diotima?\" And she answered with all the authority of an\\naccomplished sophist: \"Of that, Socrates, you may be assured;-think\\nonly of the ambition of men, and you will wonder at the\\nsenselessness of their ways, unless you consider how they are\\nstirred by the love of an immortality of fame. They are ready to run\\nall risks greater far than they would have for their children, and\\nto spend money and undergo any sort of toil, and even to die, for\\nthe sake of leaving behind them a name which shall be eternal. Do\\nyou imagine that Alcestis would have died to save Admetus, or Achilles\\nto avenge Patroclus, or your own Codrus in order to preserve the\\nkingdom for his sons, if they had not imagined that the memory of\\ntheir virtues, which still survives among us, would be immortal? Nay,\"\\nshe said, \"I am persuaded that all men do all things, and the better\\nthey are the more they do them, in hope of the glorious fame of\\nimmortal virtue; for they desire the immortal.\\n\\n  \"Those who are pregnant in the body only, betake themselves to women\\nand beget children-this is the character of their love; their\\noffspring, as they hope, will preserve their memory and giving them\\nthe blessedness and immortality which they desire in the future. But\\nsouls which are pregnant-for there certainly are men who are more\\ncreative in their souls than in their bodies conceive that which is\\nproper for the soul to conceive or contain. And what are these\\nconceptions?-wisdom and virtue in general. And such creators are poets\\nand all artists who are deserving of the name inventor. But the\\ngreatest and fairest sort of wisdom by far is that which is\\nconcerned with the ordering of states and families, and which is\\ncalled temperance and justice. And he who in youth has the seed of\\nthese implanted in him and is himself inspired, when he comes to\\nmaturity desires to beget and generate. He wanders about seeking\\nbeauty that he may beget offspring-for in deformity he will beget\\nnothing-and naturally embraces the beautiful rather than the\\ndeformed body; above all when he finds fair and noble and\\nwell-nurtured soul, he embraces the two in one person, and to such\\nan one he is full of speech about virtue and the nature and pursuits\\nof a good man; and he tries to educate him; and at the touch of the\\nbeautiful which is ever present to his memory, even when absent, he\\nbrings forth that which he had conceived long before, and in company\\nwith him tends that which he brings forth; and they are married by a\\nfar nearer tie and have a closer friendship than those who beget\\nmortal children, for the children who are their common offspring are\\nfairer and more immortal. Who, when he thinks of Homer and Hesiod\\nand other great poets, would not rather have their children than\\nordinary human ones? Who would not emulate them in the creation of\\nchildren such as theirs, which have preserved their memory and given\\nthem everlasting glory? Or who would not have such children as\\nLycurgus left behind him to be the saviours, not only of Lacedaemon,\\nbut of Hellas, as one may say? There is Solon, too, who is the revered\\nfather of Athenian laws; and many others there are in many other\\nplaces, both among hellenes and barbarians, who have given to the\\nworld many noble works, and have been the parents of virtue of every\\nkind; and many temples have been raised in their honour for the sake\\nof children such as theirs; which were never raised in honour of any\\none, for the sake of his mortal children.\\n\\n  \"These are the lesser mysteries of love, into which even you,\\nSocrates, may enter; to the greater and more hidden ones which are the\\ncrown of these, and to which, if you pursue them in a right spirit,\\nthey will lead, I know not whether you will be able to attain. But I\\nwill do my utmost to inform you, and do you follow if you can. For\\nhe who would proceed aright in this matter should begin in youth to\\nvisit beautiful forms; and first, if he be guided by his instructor\\naright, to love one such form only-out of that he should create fair\\nthoughts; and soon he will of himself perceive that the beauty of\\none form is akin to the beauty of another; and then if beauty of\\nform in general is his pursuit, how foolish would he be not to\\nrecognize that the beauty in every form is and the same! And when he\\nperceives this he will abate his violent love of the one, which he\\nwill despise and deem a small thing, and will become a lover of all\\nbeautiful forms; in the next stage he will consider that the beauty of\\nthe mind is more honourable than the beauty of the outward form. So\\nthat if a virtuous soul have but a little comeliness, he will be\\ncontent to love and tend him, and will search out and bring to the\\nbirth thoughts which may improve the young, until he is compelled to\\ncontemplate and see the beauty of institutions and laws, and to\\nunderstand that the beauty of them all is of one family, and that\\npersonal beauty is a trifle; and after laws and institutions he will\\ngo on to the sciences, that he may see their beauty, being not like\\na servant in love with the beauty of one youth or man or\\ninstitution, himself a slave mean and narrow-minded, but drawing\\ntowards and contemplating the vast sea of beauty, he will create\\nmany fair and noble thoughts and notions in boundless love of\\nwisdom; until on that shore he grows and waxes strong, and at last the\\nvision is revealed to him of a single science, which is the science of\\nbeauty everywhere. To this I will proceed; please to give me your very\\nbest attention:\\n\\n  \"He who has been instructed thus far in the things of love, and\\nwho has learned to see the beautiful in due order and succession, when\\nhe comes toward the end will suddenly perceive a nature of wondrous\\nbeauty (and this, Socrates, is the final cause of all our former\\ntoils)-a nature which in the first place is everlasting, not growing\\nand decaying, or waxing and waning; secondly, not fair in one point of\\nview and foul in another, or at one time or in one relation or at\\none place fair, at another time or in another relation or at another\\nplace foul, as if fair to some and-foul to others, or in the\\nlikeness of a face or hands or any other part of the bodily frame,\\nor in any form of speech or knowledge, or existing in any other being,\\nas for example, in an animal, or in heaven or in earth, or in any\\nother place; but beauty absolute, separate, simple, and everlasting,\\nwhich without diminution and without increase, or any change, is\\nimparted to the ever-growing and perishing beauties of all other\\nthings. He who from these ascending under the influence of true\\nlove, begins to perceive that beauty, is not far from the end. And the\\ntrue order of going, or being led by another, to the things of love,\\nis to begin from the beauties of earth and mount upwards for the\\nsake of that other beauty, using these as steps only, and from one\\ngoing on to two, and from two to all fair forms, and from fair forms\\nto fair practices, and from fair practices to fair notions, until from\\nfair notions he arrives at the notion of absolute beauty, and at\\nlast knows what the essence of beauty is. This, my dear Socrates,\"\\nsaid the stranger of Mantineia, \"is that life above all others which\\nman should live, in the contemplation of beauty absolute; a beauty\\nwhich if you once beheld, you would see not to be after the measure of\\ngold, and garments, and fair boys and youths, whose presence now\\nentrances you; and you and many a one would be content to live\\nseeing them only and conversing with them without meat or drink, if\\nthat were possible-you only want to look at them and to be with\\nthem. But what if man had eyes to see the true beauty-the divine\\nbeauty, I mean, pure and dear and unalloyed, not clogged with the\\npollutions of mortality and all the colours and vanities of human\\nlife-thither looking, and holding converse with the true beauty simple\\nand divine? Remember how in that communion only, beholding beauty with\\nthe eye of the mind, he will be enabled to bring forth, not images\\nof beauty, but realities (for he has hold not of an image but of a\\nreality), and bringing forth and nourishing true virtue to become\\nthe friend of God and be immortal, if mortal man may. Would that be an\\nignoble life?\"\\n\\n  Such, Phaedrus-and I speak not only to you, but to all of you-were\\nthe words of Diotima; and I am persuaded of their truth. And being\\npersuaded of them, I try to persuade others, that in the attainment of\\nthis end human nature will not easily find a helper better than\\nlove: And therefore, also, I say that every man ought to honour him as\\nI myself honour him, and walk in his ways, and exhort others to do the\\nsame, and praise the power and spirit of love according to the measure\\nof my ability now and ever.'"
      ]
     },
     "execution_count": 2,
     "metadata": {},
     "output_type": "execute_result"
    }
   ],
   "source": [
    "diotima.read()"
   ]
  },
  {
   "cell_type": "code",
   "execution_count": null,
   "metadata": {},
   "outputs": [],
   "source": []
  },
  {
   "cell_type": "markdown",
   "metadata": {},
   "source": [
    "# CSV"
   ]
  },
  {
   "cell_type": "code",
   "execution_count": 2,
   "metadata": {},
   "outputs": [],
   "source": [
    "philosophers = pd.read_csv('philosophies.csv')"
   ]
  },
  {
   "cell_type": "code",
   "execution_count": 3,
   "metadata": {},
   "outputs": [
    {
     "data": {
      "text/html": [
       "<div>\n",
       "<style scoped>\n",
       "    .dataframe tbody tr th:only-of-type {\n",
       "        vertical-align: middle;\n",
       "    }\n",
       "\n",
       "    .dataframe tbody tr th {\n",
       "        vertical-align: top;\n",
       "    }\n",
       "\n",
       "    .dataframe thead th {\n",
       "        text-align: right;\n",
       "    }\n",
       "</style>\n",
       "<table border=\"1\" class=\"dataframe\">\n",
       "  <thead>\n",
       "    <tr style=\"text-align: right;\">\n",
       "      <th></th>\n",
       "      <th>Western philosophy</th>\n",
       "      <th>Indian philosophy</th>\n",
       "      <th>East Asian philosophy</th>\n",
       "      <th>Middle Eastern philosophy</th>\n",
       "    </tr>\n",
       "  </thead>\n",
       "  <tbody>\n",
       "    <tr>\n",
       "      <th>0</th>\n",
       "      <td>Plato</td>\n",
       "      <td>Buddha</td>\n",
       "      <td>Laozi</td>\n",
       "      <td>Mani</td>\n",
       "    </tr>\n",
       "    <tr>\n",
       "      <th>1</th>\n",
       "      <td>Nietzsche</td>\n",
       "      <td>Nagarjuna</td>\n",
       "      <td>Confucius</td>\n",
       "      <td>Avicenna</td>\n",
       "    </tr>\n",
       "    <tr>\n",
       "      <th>2</th>\n",
       "      <td>Wittgenstein</td>\n",
       "      <td>Krishnamurti</td>\n",
       "      <td>Zhuangzi</td>\n",
       "      <td>Averroes</td>\n",
       "    </tr>\n",
       "  </tbody>\n",
       "</table>\n",
       "</div>"
      ],
      "text/plain": [
       "  Western philosophy Indian philosophy East Asian philosophy  \\\n",
       "0              Plato            Buddha                 Laozi   \n",
       "1          Nietzsche         Nagarjuna             Confucius   \n",
       "2       Wittgenstein      Krishnamurti              Zhuangzi   \n",
       "\n",
       "  Middle Eastern philosophy  \n",
       "0                      Mani  \n",
       "1                  Avicenna  \n",
       "2                  Averroes  "
      ]
     },
     "execution_count": 3,
     "metadata": {},
     "output_type": "execute_result"
    }
   ],
   "source": [
    "philosophers"
   ]
  },
  {
   "cell_type": "markdown",
   "metadata": {},
   "source": [
    "# JSON"
   ]
  },
  {
   "cell_type": "code",
   "execution_count": 4,
   "metadata": {},
   "outputs": [],
   "source": [
    "# Example of what a JSON (JavaScript Object Notation) looks like:\n",
    "js = \"\"\"\n",
    "{   \"Branch\": [\"Metaphysics\",\"Aesthetics\",\"Ethics\",\"Logic\"],\n",
    "    \"Philosophers\": [\"Metaphysicians\",\"Aestheticians\",\"Ethicists\",\"Logicians\"],\n",
    "    \"Example\": [\"David Lewis\",\"Immanuel Kant\",\"Aristotle\",\"William of Ockham\"],\n",
    "    \"School\": [\"Analytic\",\"Continental\",\"Peripatetic\",\"Scholasticism\"]\n",
    "}\n",
    "\"\"\""
   ]
  },
  {
   "cell_type": "code",
   "execution_count": 5,
   "metadata": {},
   "outputs": [],
   "source": [
    "import json"
   ]
  },
  {
   "cell_type": "code",
   "execution_count": 6,
   "metadata": {},
   "outputs": [],
   "source": [
    "data = json.loads(js)"
   ]
  },
  {
   "cell_type": "code",
   "execution_count": 7,
   "metadata": {},
   "outputs": [
    {
     "data": {
      "text/plain": [
       "{'Branch': ['Metaphysics', 'Aesthetics', 'Ethics', 'Logic'],\n",
       " 'Philosophers': ['Metaphysicians', 'Aestheticians', 'Ethicists', 'Logicians'],\n",
       " 'Example': ['David Lewis', 'Immanuel Kant', 'Aristotle', 'William of Ockham'],\n",
       " 'School': ['Analytic', 'Continental', 'Peripatetic', 'Scholasticism']}"
      ]
     },
     "execution_count": 7,
     "metadata": {},
     "output_type": "execute_result"
    }
   ],
   "source": [
    "data"
   ]
  },
  {
   "cell_type": "code",
   "execution_count": 8,
   "metadata": {},
   "outputs": [
    {
     "data": {
      "text/plain": [
       "'{\"Branch\": [\"Metaphysics\", \"Aesthetics\", \"Ethics\", \"Logic\"], \"Philosophers\": [\"Metaphysicians\", \"Aestheticians\", \"Ethicists\", \"Logicians\"], \"Example\": [\"David Lewis\", \"Immanuel Kant\", \"Aristotle\", \"William of Ockham\"], \"School\": [\"Analytic\", \"Continental\", \"Peripatetic\", \"Scholasticism\"]}'"
      ]
     },
     "execution_count": 8,
     "metadata": {},
     "output_type": "execute_result"
    }
   ],
   "source": [
    "#Convert back to JSON\n",
    "json.dumps(data)"
   ]
  },
  {
   "cell_type": "code",
   "execution_count": 9,
   "metadata": {},
   "outputs": [],
   "source": [
    "dframe = DataFrame(data)"
   ]
  },
  {
   "cell_type": "code",
   "execution_count": 10,
   "metadata": {},
   "outputs": [
    {
     "data": {
      "text/html": [
       "<div>\n",
       "<style scoped>\n",
       "    .dataframe tbody tr th:only-of-type {\n",
       "        vertical-align: middle;\n",
       "    }\n",
       "\n",
       "    .dataframe tbody tr th {\n",
       "        vertical-align: top;\n",
       "    }\n",
       "\n",
       "    .dataframe thead th {\n",
       "        text-align: right;\n",
       "    }\n",
       "</style>\n",
       "<table border=\"1\" class=\"dataframe\">\n",
       "  <thead>\n",
       "    <tr style=\"text-align: right;\">\n",
       "      <th></th>\n",
       "      <th>Branch</th>\n",
       "      <th>Philosophers</th>\n",
       "      <th>Example</th>\n",
       "      <th>School</th>\n",
       "    </tr>\n",
       "  </thead>\n",
       "  <tbody>\n",
       "    <tr>\n",
       "      <th>0</th>\n",
       "      <td>Metaphysics</td>\n",
       "      <td>Metaphysicians</td>\n",
       "      <td>David Lewis</td>\n",
       "      <td>Analytic</td>\n",
       "    </tr>\n",
       "    <tr>\n",
       "      <th>1</th>\n",
       "      <td>Aesthetics</td>\n",
       "      <td>Aestheticians</td>\n",
       "      <td>Immanuel Kant</td>\n",
       "      <td>Continental</td>\n",
       "    </tr>\n",
       "    <tr>\n",
       "      <th>2</th>\n",
       "      <td>Ethics</td>\n",
       "      <td>Ethicists</td>\n",
       "      <td>Aristotle</td>\n",
       "      <td>Peripatetic</td>\n",
       "    </tr>\n",
       "    <tr>\n",
       "      <th>3</th>\n",
       "      <td>Logic</td>\n",
       "      <td>Logicians</td>\n",
       "      <td>William of Ockham</td>\n",
       "      <td>Scholasticism</td>\n",
       "    </tr>\n",
       "  </tbody>\n",
       "</table>\n",
       "</div>"
      ],
      "text/plain": [
       "        Branch    Philosophers            Example         School\n",
       "0  Metaphysics  Metaphysicians        David Lewis       Analytic\n",
       "1   Aesthetics   Aestheticians      Immanuel Kant    Continental\n",
       "2       Ethics       Ethicists          Aristotle    Peripatetic\n",
       "3        Logic       Logicians  William of Ockham  Scholasticism"
      ]
     },
     "execution_count": 10,
     "metadata": {},
     "output_type": "execute_result"
    }
   ],
   "source": [
    "dframe"
   ]
  },
  {
   "cell_type": "code",
   "execution_count": null,
   "metadata": {},
   "outputs": [],
   "source": []
  },
  {
   "cell_type": "code",
   "execution_count": null,
   "metadata": {},
   "outputs": [],
   "source": []
  }
 ],
 "metadata": {
  "kernelspec": {
   "display_name": "Python 3",
   "language": "python",
   "name": "python3"
  },
  "language_info": {
   "codemirror_mode": {
    "name": "ipython",
    "version": 3
   },
   "file_extension": ".py",
   "mimetype": "text/x-python",
   "name": "python",
   "nbconvert_exporter": "python",
   "pygments_lexer": "ipython3",
   "version": "3.7.1"
  }
 },
 "nbformat": 4,
 "nbformat_minor": 2
}
