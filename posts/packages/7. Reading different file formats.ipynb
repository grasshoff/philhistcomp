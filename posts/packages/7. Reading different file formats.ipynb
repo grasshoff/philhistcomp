{
 "cells": [
  {
   "cell_type": "markdown",
   "metadata": {},
   "source": [
    "# Reading Text Files"
   ]
  },
  {
   "cell_type": "code",
   "execution_count": 1,
   "metadata": {},
   "outputs": [],
   "source": [
    "import numpy as np\n",
    "import pandas as pd\n",
    "\n",
    "from pandas import Series, DataFrame"
   ]
  },
  {
   "cell_type": "code",
   "execution_count": 2,
   "metadata": {},
   "outputs": [],
   "source": [
    "philosophers = pd.read_csv('philosophies.csv')"
   ]
  },
  {
   "cell_type": "code",
   "execution_count": 3,
   "metadata": {},
   "outputs": [
    {
     "data": {
      "text/html": [
       "<div>\n",
       "<style scoped>\n",
       "    .dataframe tbody tr th:only-of-type {\n",
       "        vertical-align: middle;\n",
       "    }\n",
       "\n",
       "    .dataframe tbody tr th {\n",
       "        vertical-align: top;\n",
       "    }\n",
       "\n",
       "    .dataframe thead th {\n",
       "        text-align: right;\n",
       "    }\n",
       "</style>\n",
       "<table border=\"1\" class=\"dataframe\">\n",
       "  <thead>\n",
       "    <tr style=\"text-align: right;\">\n",
       "      <th></th>\n",
       "      <th>Western philosophy</th>\n",
       "      <th>Indian philosophy</th>\n",
       "      <th>East Asian philosophy</th>\n",
       "      <th>Middle Eastern philosophy</th>\n",
       "    </tr>\n",
       "  </thead>\n",
       "  <tbody>\n",
       "    <tr>\n",
       "      <th>0</th>\n",
       "      <td>Plato</td>\n",
       "      <td>Buddha</td>\n",
       "      <td>Laozi</td>\n",
       "      <td>Mani</td>\n",
       "    </tr>\n",
       "    <tr>\n",
       "      <th>1</th>\n",
       "      <td>Nietzsche</td>\n",
       "      <td>Nagarjuna</td>\n",
       "      <td>Confucius</td>\n",
       "      <td>Avicenna</td>\n",
       "    </tr>\n",
       "    <tr>\n",
       "      <th>2</th>\n",
       "      <td>Wittgenstein</td>\n",
       "      <td>Krishnamurti</td>\n",
       "      <td>Zhuangzi</td>\n",
       "      <td>Averroes</td>\n",
       "    </tr>\n",
       "  </tbody>\n",
       "</table>\n",
       "</div>"
      ],
      "text/plain": [
       "  Western philosophy Indian philosophy East Asian philosophy  \\\n",
       "0              Plato            Buddha                 Laozi   \n",
       "1          Nietzsche         Nagarjuna             Confucius   \n",
       "2       Wittgenstein      Krishnamurti              Zhuangzi   \n",
       "\n",
       "  Middle Eastern philosophy  \n",
       "0                      Mani  \n",
       "1                  Avicenna  \n",
       "2                  Averroes  "
      ]
     },
     "execution_count": 3,
     "metadata": {},
     "output_type": "execute_result"
    }
   ],
   "source": [
    "philosophers"
   ]
  },
  {
   "cell_type": "markdown",
   "metadata": {},
   "source": [
    "# JSON"
   ]
  },
  {
   "cell_type": "code",
   "execution_count": 4,
   "metadata": {},
   "outputs": [],
   "source": [
    "# Example of what a JSON (JavaScript Object Notation) looks like:\n",
    "js = \"\"\"\n",
    "{   \"Branch\": [\"Metaphysics\",\"Aesthetics\",\"Ethics\",\"Logic\"],\n",
    "    \"Philosophers\": [\"Metaphysicians\",\"Aestheticians\",\"Ethicists\",\"Logicians\"],\n",
    "    \"Example\": [\"David Lewis\",\"Immanuel Kant\",\"Aristotle\",\"William of Ockham\"],\n",
    "    \"School\": [\"Analytic\",\"Continental\",\"Peripatetic\",\"Scholasticism\"]\n",
    "}\n",
    "\"\"\""
   ]
  },
  {
   "cell_type": "code",
   "execution_count": 5,
   "metadata": {},
   "outputs": [],
   "source": [
    "import json"
   ]
  },
  {
   "cell_type": "code",
   "execution_count": 6,
   "metadata": {},
   "outputs": [],
   "source": [
    "data = json.loads(js)"
   ]
  },
  {
   "cell_type": "code",
   "execution_count": 7,
   "metadata": {},
   "outputs": [
    {
     "data": {
      "text/plain": [
       "{'Branch': ['Metaphysics', 'Aesthetics', 'Ethics', 'Logic'],\n",
       " 'Philosophers': ['Metaphysicians', 'Aestheticians', 'Ethicists', 'Logicians'],\n",
       " 'Example': ['David Lewis', 'Immanuel Kant', 'Aristotle', 'William of Ockham'],\n",
       " 'School': ['Analytic', 'Continental', 'Peripatetic', 'Scholasticism']}"
      ]
     },
     "execution_count": 7,
     "metadata": {},
     "output_type": "execute_result"
    }
   ],
   "source": [
    "data"
   ]
  },
  {
   "cell_type": "code",
   "execution_count": 8,
   "metadata": {},
   "outputs": [
    {
     "data": {
      "text/plain": [
       "'{\"Branch\": [\"Metaphysics\", \"Aesthetics\", \"Ethics\", \"Logic\"], \"Philosophers\": [\"Metaphysicians\", \"Aestheticians\", \"Ethicists\", \"Logicians\"], \"Example\": [\"David Lewis\", \"Immanuel Kant\", \"Aristotle\", \"William of Ockham\"], \"School\": [\"Analytic\", \"Continental\", \"Peripatetic\", \"Scholasticism\"]}'"
      ]
     },
     "execution_count": 8,
     "metadata": {},
     "output_type": "execute_result"
    }
   ],
   "source": [
    "#Convert back to JSON\n",
    "json.dumps(data)"
   ]
  },
  {
   "cell_type": "code",
   "execution_count": 9,
   "metadata": {},
   "outputs": [],
   "source": [
    "dframe = DataFrame(data)"
   ]
  },
  {
   "cell_type": "code",
   "execution_count": 10,
   "metadata": {},
   "outputs": [
    {
     "data": {
      "text/html": [
       "<div>\n",
       "<style scoped>\n",
       "    .dataframe tbody tr th:only-of-type {\n",
       "        vertical-align: middle;\n",
       "    }\n",
       "\n",
       "    .dataframe tbody tr th {\n",
       "        vertical-align: top;\n",
       "    }\n",
       "\n",
       "    .dataframe thead th {\n",
       "        text-align: right;\n",
       "    }\n",
       "</style>\n",
       "<table border=\"1\" class=\"dataframe\">\n",
       "  <thead>\n",
       "    <tr style=\"text-align: right;\">\n",
       "      <th></th>\n",
       "      <th>Branch</th>\n",
       "      <th>Philosophers</th>\n",
       "      <th>Example</th>\n",
       "      <th>School</th>\n",
       "    </tr>\n",
       "  </thead>\n",
       "  <tbody>\n",
       "    <tr>\n",
       "      <th>0</th>\n",
       "      <td>Metaphysics</td>\n",
       "      <td>Metaphysicians</td>\n",
       "      <td>David Lewis</td>\n",
       "      <td>Analytic</td>\n",
       "    </tr>\n",
       "    <tr>\n",
       "      <th>1</th>\n",
       "      <td>Aesthetics</td>\n",
       "      <td>Aestheticians</td>\n",
       "      <td>Immanuel Kant</td>\n",
       "      <td>Continental</td>\n",
       "    </tr>\n",
       "    <tr>\n",
       "      <th>2</th>\n",
       "      <td>Ethics</td>\n",
       "      <td>Ethicists</td>\n",
       "      <td>Aristotle</td>\n",
       "      <td>Peripatetic</td>\n",
       "    </tr>\n",
       "    <tr>\n",
       "      <th>3</th>\n",
       "      <td>Logic</td>\n",
       "      <td>Logicians</td>\n",
       "      <td>William of Ockham</td>\n",
       "      <td>Scholasticism</td>\n",
       "    </tr>\n",
       "  </tbody>\n",
       "</table>\n",
       "</div>"
      ],
      "text/plain": [
       "        Branch    Philosophers            Example         School\n",
       "0  Metaphysics  Metaphysicians        David Lewis       Analytic\n",
       "1   Aesthetics   Aestheticians      Immanuel Kant    Continental\n",
       "2       Ethics       Ethicists          Aristotle    Peripatetic\n",
       "3        Logic       Logicians  William of Ockham  Scholasticism"
      ]
     },
     "execution_count": 10,
     "metadata": {},
     "output_type": "execute_result"
    }
   ],
   "source": [
    "dframe"
   ]
  },
  {
   "cell_type": "code",
   "execution_count": null,
   "metadata": {},
   "outputs": [],
   "source": []
  },
  {
   "cell_type": "code",
   "execution_count": null,
   "metadata": {},
   "outputs": [],
   "source": []
  }
 ],
 "metadata": {
  "kernelspec": {
   "display_name": "Python 3",
   "language": "python",
   "name": "python3"
  },
  "language_info": {
   "codemirror_mode": {
    "name": "ipython",
    "version": 3
   },
   "file_extension": ".py",
   "mimetype": "text/x-python",
   "name": "python",
   "nbconvert_exporter": "python",
   "pygments_lexer": "ipython3",
   "version": "3.7.1"
  }
 },
 "nbformat": 4,
 "nbformat_minor": 2
}
