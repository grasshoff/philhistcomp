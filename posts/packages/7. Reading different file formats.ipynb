{
 "cells": [
  {
   "cell_type": "markdown",
   "metadata": {},
   "source": [
    "# Reading Text Files"
   ]
  },
  {
   "cell_type": "code",
   "execution_count": 1,
   "metadata": {},
   "outputs": [],
   "source": [
    "import numpy as np\n",
    "import pandas as pd\n",
    "\n",
    "from pandas import Series, DataFrame"
   ]
  },
  {
   "cell_type": "code",
   "execution_count": 3,
   "metadata": {},
   "outputs": [],
   "source": [
    "diotima = open('diotima.txt')"
   ]
  },
  {
   "cell_type": "code",
   "execution_count": 4,
   "metadata": {},
   "outputs": [
    {
     "data": {
      "text/plain": [
       "' I said, \"O thou stranger woman, thou sayest well; but, assuming Love\\nto be such as you say, what is the use of him to men?\" \"That,\\nSocrates,\" she replied, \"I will attempt to unfold: of his nature and\\nbirth I have already spoken; and you acknowledge that love is of the\\nbeautiful. But some one will say: Of the beautiful in what, Socrates\\nand Diotima?-or rather let me put the question more dearly, and ask:\\nWhen a man loves the beautiful, what does he desire?\" I answered her\\n\"That the beautiful may be his.\" \"Still,\" she said, \"the answer\\nsuggests a further question: What is given by the possession of\\nbeauty?\" \"To what you have asked,\" I replied, \"I have no answer\\nready.\" \"Then,\" she said, \"Let me put the word \\'good\\' in the place\\nof the beautiful, and repeat the question once more: If he who loves\\ngood, what is it then that he loves? \"The possession of the good,\" I\\nsaid. \"And what does he gain who possesses the good?\" \"Happiness,\" I\\nreplied; \"there is less difficulty in answering that question.\" \"Yes,\"\\nshe said, \"the happy are made happy by the acquisition of good things.\\nNor is there any need to ask why a man desires happiness; the answer\\nis already final.\" \"You are right.\" I said. \"And is this wish and this\\ndesire common to all? and do all men always desire their own good,\\nor only some men?-what say you?\" \"All men,\" I replied; \"the desire\\nis common to all.\" \"Why, then,\" she rejoined, \"are not all men,\\nSocrates, said to love, but only some them? whereas you say that all\\nmen are always loving the same things.\" \"I myself wonder,\" I said,-why\\nthis is.\" \"There is nothing to wonder at,\" she replied; \"the reason is\\nthat one part of love is separated off and receives the name of the\\nwhole, but the other parts have other names.\" \"Give an\\nillustration,\" I said. She answered me as follows: \"There is poetry,\\nwhich, as you know, is complex; and manifold. All creation or\\npassage of non-being into being is poetry or making, and the processes\\nof all art are creative; and the masters of arts are all poets or\\nmakers.\" \"Very true.\" \"Still,\" she said, \"you know that they are not\\ncalled poets, but have other names; only that portion of the art which\\nis separated off from the rest, and is concerned with music and metre,\\nis termed poetry, and they who possess poetry in this sense of the\\nword are called poets.\" \"Very true,\" I said. \"And the same holds of\\nlove. For you may say generally that all desire of good and\\nhappiness is only the great and subtle power of love; but they who are\\ndrawn towards him by any other path, whether the path of\\nmoney-making or gymnastics or philosophy, are not called lovers -the\\nname of the whole is appropriated to those whose affection takes one\\nform only-they alone are said to love, or to be lovers.\" \"I dare say,\"\\nI replied, \"that you are right.\" \"Yes,\" she added, \"and you hear\\npeople say that lovers are seeking for their other half; but I say\\nthat they are seeking neither for the half of themselves, nor for\\nthe whole, unless the half or the whole be also a good. And they\\nwill cut off their own hands and feet and cast them away, if they\\nare evil; for they love not what is their own, unless perchance\\nthere be some one who calls what belongs to him the good, and what\\nbelongs to another the evil. For there is nothing which men love but\\nthe good. Is there anything?\" \"Certainly, I should say, that there\\nis nothing.\" \"Then,\" she said, \"the simple truth is, that men love the\\ngood.\" \"Yes,\" I said. \"To which must be added that they love the\\npossession of the good? \"Yes, that must be added.\" \"And not only the\\npossession, but the everlasting possession of the good?\" \"That must be\\nadded too.\" \"Then love,\" she said, \"may be described generally as\\nthe love of the everlasting possession of the good?\" \"That is most\\ntrue.\"'"
      ]
     },
     "execution_count": 4,
     "metadata": {},
     "output_type": "execute_result"
    }
   ],
   "source": [
    "diotima.read()"
   ]
  },
  {
   "cell_type": "code",
   "execution_count": null,
   "metadata": {},
   "outputs": [],
   "source": []
  },
  {
   "cell_type": "markdown",
   "metadata": {},
   "source": [
    "# CSV"
   ]
  },
  {
   "cell_type": "code",
   "execution_count": 2,
   "metadata": {},
   "outputs": [],
   "source": [
    "philosophers = pd.read_csv('philosophies.csv')"
   ]
  },
  {
   "cell_type": "code",
   "execution_count": 3,
   "metadata": {},
   "outputs": [
    {
     "data": {
      "text/html": [
       "<div>\n",
       "<style scoped>\n",
       "    .dataframe tbody tr th:only-of-type {\n",
       "        vertical-align: middle;\n",
       "    }\n",
       "\n",
       "    .dataframe tbody tr th {\n",
       "        vertical-align: top;\n",
       "    }\n",
       "\n",
       "    .dataframe thead th {\n",
       "        text-align: right;\n",
       "    }\n",
       "</style>\n",
       "<table border=\"1\" class=\"dataframe\">\n",
       "  <thead>\n",
       "    <tr style=\"text-align: right;\">\n",
       "      <th></th>\n",
       "      <th>Western philosophy</th>\n",
       "      <th>Indian philosophy</th>\n",
       "      <th>East Asian philosophy</th>\n",
       "      <th>Middle Eastern philosophy</th>\n",
       "    </tr>\n",
       "  </thead>\n",
       "  <tbody>\n",
       "    <tr>\n",
       "      <th>0</th>\n",
       "      <td>Plato</td>\n",
       "      <td>Buddha</td>\n",
       "      <td>Laozi</td>\n",
       "      <td>Mani</td>\n",
       "    </tr>\n",
       "    <tr>\n",
       "      <th>1</th>\n",
       "      <td>Nietzsche</td>\n",
       "      <td>Nagarjuna</td>\n",
       "      <td>Confucius</td>\n",
       "      <td>Avicenna</td>\n",
       "    </tr>\n",
       "    <tr>\n",
       "      <th>2</th>\n",
       "      <td>Wittgenstein</td>\n",
       "      <td>Krishnamurti</td>\n",
       "      <td>Zhuangzi</td>\n",
       "      <td>Averroes</td>\n",
       "    </tr>\n",
       "  </tbody>\n",
       "</table>\n",
       "</div>"
      ],
      "text/plain": [
       "  Western philosophy Indian philosophy East Asian philosophy  \\\n",
       "0              Plato            Buddha                 Laozi   \n",
       "1          Nietzsche         Nagarjuna             Confucius   \n",
       "2       Wittgenstein      Krishnamurti              Zhuangzi   \n",
       "\n",
       "  Middle Eastern philosophy  \n",
       "0                      Mani  \n",
       "1                  Avicenna  \n",
       "2                  Averroes  "
      ]
     },
     "execution_count": 3,
     "metadata": {},
     "output_type": "execute_result"
    }
   ],
   "source": [
    "philosophers"
   ]
  },
  {
   "cell_type": "markdown",
   "metadata": {},
   "source": [
    "# JSON"
   ]
  },
  {
   "cell_type": "code",
   "execution_count": 4,
   "metadata": {},
   "outputs": [],
   "source": [
    "# Example of what a JSON (JavaScript Object Notation) looks like:\n",
    "js = \"\"\"\n",
    "{   \"Branch\": [\"Metaphysics\",\"Aesthetics\",\"Ethics\",\"Logic\"],\n",
    "    \"Philosophers\": [\"Metaphysicians\",\"Aestheticians\",\"Ethicists\",\"Logicians\"],\n",
    "    \"Example\": [\"David Lewis\",\"Immanuel Kant\",\"Aristotle\",\"William of Ockham\"],\n",
    "    \"School\": [\"Analytic\",\"Continental\",\"Peripatetic\",\"Scholasticism\"]\n",
    "}\n",
    "\"\"\""
   ]
  },
  {
   "cell_type": "code",
   "execution_count": 5,
   "metadata": {},
   "outputs": [],
   "source": [
    "import json"
   ]
  },
  {
   "cell_type": "code",
   "execution_count": 6,
   "metadata": {},
   "outputs": [],
   "source": [
    "data = json.loads(js)"
   ]
  },
  {
   "cell_type": "code",
   "execution_count": 7,
   "metadata": {},
   "outputs": [
    {
     "data": {
      "text/plain": [
       "{'Branch': ['Metaphysics', 'Aesthetics', 'Ethics', 'Logic'],\n",
       " 'Philosophers': ['Metaphysicians', 'Aestheticians', 'Ethicists', 'Logicians'],\n",
       " 'Example': ['David Lewis', 'Immanuel Kant', 'Aristotle', 'William of Ockham'],\n",
       " 'School': ['Analytic', 'Continental', 'Peripatetic', 'Scholasticism']}"
      ]
     },
     "execution_count": 7,
     "metadata": {},
     "output_type": "execute_result"
    }
   ],
   "source": [
    "data"
   ]
  },
  {
   "cell_type": "code",
   "execution_count": 8,
   "metadata": {},
   "outputs": [
    {
     "data": {
      "text/plain": [
       "'{\"Branch\": [\"Metaphysics\", \"Aesthetics\", \"Ethics\", \"Logic\"], \"Philosophers\": [\"Metaphysicians\", \"Aestheticians\", \"Ethicists\", \"Logicians\"], \"Example\": [\"David Lewis\", \"Immanuel Kant\", \"Aristotle\", \"William of Ockham\"], \"School\": [\"Analytic\", \"Continental\", \"Peripatetic\", \"Scholasticism\"]}'"
      ]
     },
     "execution_count": 8,
     "metadata": {},
     "output_type": "execute_result"
    }
   ],
   "source": [
    "#Convert back to JSON\n",
    "json.dumps(data)"
   ]
  },
  {
   "cell_type": "code",
   "execution_count": 9,
   "metadata": {},
   "outputs": [],
   "source": [
    "dframe = DataFrame(data)"
   ]
  },
  {
   "cell_type": "code",
   "execution_count": 10,
   "metadata": {},
   "outputs": [
    {
     "data": {
      "text/html": [
       "<div>\n",
       "<style scoped>\n",
       "    .dataframe tbody tr th:only-of-type {\n",
       "        vertical-align: middle;\n",
       "    }\n",
       "\n",
       "    .dataframe tbody tr th {\n",
       "        vertical-align: top;\n",
       "    }\n",
       "\n",
       "    .dataframe thead th {\n",
       "        text-align: right;\n",
       "    }\n",
       "</style>\n",
       "<table border=\"1\" class=\"dataframe\">\n",
       "  <thead>\n",
       "    <tr style=\"text-align: right;\">\n",
       "      <th></th>\n",
       "      <th>Branch</th>\n",
       "      <th>Philosophers</th>\n",
       "      <th>Example</th>\n",
       "      <th>School</th>\n",
       "    </tr>\n",
       "  </thead>\n",
       "  <tbody>\n",
       "    <tr>\n",
       "      <th>0</th>\n",
       "      <td>Metaphysics</td>\n",
       "      <td>Metaphysicians</td>\n",
       "      <td>David Lewis</td>\n",
       "      <td>Analytic</td>\n",
       "    </tr>\n",
       "    <tr>\n",
       "      <th>1</th>\n",
       "      <td>Aesthetics</td>\n",
       "      <td>Aestheticians</td>\n",
       "      <td>Immanuel Kant</td>\n",
       "      <td>Continental</td>\n",
       "    </tr>\n",
       "    <tr>\n",
       "      <th>2</th>\n",
       "      <td>Ethics</td>\n",
       "      <td>Ethicists</td>\n",
       "      <td>Aristotle</td>\n",
       "      <td>Peripatetic</td>\n",
       "    </tr>\n",
       "    <tr>\n",
       "      <th>3</th>\n",
       "      <td>Logic</td>\n",
       "      <td>Logicians</td>\n",
       "      <td>William of Ockham</td>\n",
       "      <td>Scholasticism</td>\n",
       "    </tr>\n",
       "  </tbody>\n",
       "</table>\n",
       "</div>"
      ],
      "text/plain": [
       "        Branch    Philosophers            Example         School\n",
       "0  Metaphysics  Metaphysicians        David Lewis       Analytic\n",
       "1   Aesthetics   Aestheticians      Immanuel Kant    Continental\n",
       "2       Ethics       Ethicists          Aristotle    Peripatetic\n",
       "3        Logic       Logicians  William of Ockham  Scholasticism"
      ]
     },
     "execution_count": 10,
     "metadata": {},
     "output_type": "execute_result"
    }
   ],
   "source": [
    "dframe"
   ]
  },
  {
   "cell_type": "code",
   "execution_count": null,
   "metadata": {},
   "outputs": [],
   "source": []
  },
  {
   "cell_type": "code",
   "execution_count": null,
   "metadata": {},
   "outputs": [],
   "source": []
  }
 ],
 "metadata": {
  "kernelspec": {
   "display_name": "Python 3",
   "language": "python",
   "name": "python3"
  },
  "language_info": {
   "codemirror_mode": {
    "name": "ipython",
    "version": 3
   },
   "file_extension": ".py",
   "mimetype": "text/x-python",
   "name": "python",
   "nbconvert_exporter": "python",
   "pygments_lexer": "ipython3",
   "version": "3.7.1"
  }
 },
 "nbformat": 4,
 "nbformat_minor": 2
}
