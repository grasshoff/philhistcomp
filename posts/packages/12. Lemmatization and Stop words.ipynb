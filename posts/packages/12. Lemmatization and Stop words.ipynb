{
 "cells": [
  {
   "cell_type": "markdown",
   "metadata": {},
   "source": [
    "# Lemmatization"
   ]
  },
  {
   "cell_type": "code",
   "execution_count": 1,
   "metadata": {},
   "outputs": [],
   "source": [
    "import spacy"
   ]
  },
  {
   "cell_type": "code",
   "execution_count": 2,
   "metadata": {},
   "outputs": [],
   "source": [
    "nlp = spacy.load('en_core_web_sm')"
   ]
  },
  {
   "cell_type": "code",
   "execution_count": 3,
   "metadata": {},
   "outputs": [],
   "source": [
    "doc = nlp('She thinks therefore she is.')"
   ]
  },
  {
   "cell_type": "code",
   "execution_count": 4,
   "metadata": {},
   "outputs": [
    {
     "name": "stdout",
     "output_type": "stream",
     "text": [
      "She -PRON-\n",
      "thinks think\n",
      "therefore therefore\n",
      "she -PRON-\n",
      "is be\n",
      ". .\n"
     ]
    }
   ],
   "source": [
    "for token in doc:\n",
    "    print(token.text, token.lemma_)"
   ]
  },
  {
   "cell_type": "code",
   "execution_count": 5,
   "metadata": {},
   "outputs": [],
   "source": [
    "# Defining a function\n",
    "def show_lemmas(text):\n",
    "    for token in text:\n",
    "        print(f'{token.text:{12}} {token.lemma_}')  "
   ]
  },
  {
   "cell_type": "code",
   "execution_count": 6,
   "metadata": {},
   "outputs": [],
   "source": [
    "doc1 = nlp('Liberty consists in doing what one desires.')"
   ]
  },
  {
   "cell_type": "code",
   "execution_count": 7,
   "metadata": {},
   "outputs": [
    {
     "name": "stdout",
     "output_type": "stream",
     "text": [
      "Liberty      liberty\n",
      "consists     consist\n",
      "in           in\n",
      "doing        do\n",
      "what         what\n",
      "one          one\n",
      "desires      desire\n",
      ".            .\n"
     ]
    }
   ],
   "source": [
    "show_lemmas(doc1)"
   ]
  },
  {
   "cell_type": "markdown",
   "metadata": {},
   "source": [
    "# Stop words"
   ]
  },
  {
   "cell_type": "code",
   "execution_count": 8,
   "metadata": {},
   "outputs": [
    {
     "name": "stdout",
     "output_type": "stream",
     "text": [
      "{'rather', 'sometimes', 'them', 'below', 'only', 'whatever', 'side', 'also', 'whereupon', 'take', 'toward', 'me', 'here', 'neither', 'what', 'once', 'anyone', 'via', 'being', 'under', 'except', 'could', 'while', 'few', 'back', 'him', 'get', 'done', \"'m\", 'everyone', 'it', \"'ll\", 'three', 'next', 'least', '’ll', 'as', 'any', 'itself', 'own', 'each', 'does', 'sixty', 'ca', 'now', 'thereupon', 'whose', 'full', 'this', 'nowhere', 'whether', 'might', 'should', \"'re\", 'ten', 'her', 'either', 'off', 'herself', 'because', 'yourself', 'forty', '‘ll', 'himself', 'again', 'move', 'even', 'keep', 'out', 'whenever', 'six', 'anything', 'nevertheless', 'top', 'they', 'from', 'about', 'these', 'moreover', 'nobody', 'using', 'into', 'ourselves', '’s', 'further', 'in', 'many', 'his', 'nor', 'thereby', 'anywhere', 'sometime', 'still', 'where', \"'d\", 'one', 'mine', 'above', 'eleven', 'almost', 'becomes', 'seems', 'twelve', 'would', 'used', 'those', 'hereupon', 'bottom', 'otherwise', 'both', 'all', 'most', 'put', 'together', 'through', 'between', 'hundred', 'less', 'really', 'she', 'give', 'another', 'much', 'whole', 'always', 'perhaps', 'so', 'are', 'us', 'doing', 'behind', 'down', 'whereafter', '‘ve', 'yourselves', 'front', 'namely', 'up', 'third', 'eight', 'who', 'may', 'therein', 'other', 'within', 'else', 'onto', 'fifteen', 'you', 'hereafter', 'latterly', 'then', 'five', 'seeming', 'became', 'myself', 'become', 'n’t', 'upon', 'though', 'has', 'amount', 'n‘t', 'until', 'do', 'often', 'noone', 'had', 'and', '’ve', 'beforehand', 'hers', 'been', 'must', 'a', 'everything', 'call', 'of', 'everywhere', 'already', 'just', 'be', 'he', 'several', 'someone', 'throughout', 'quite', 'is', 'whoever', 'serious', 'am', 'thence', 'we', 'will', 'my', 'by', 'besides', 'meanwhile', 'latter', 'without', 'elsewhere', 'ever', 'thus', 'whereby', '‘d', 'last', 'per', 'beside', 'why', 'across', '’d', 'for', 'themselves', 'afterwards', 'more', 'others', 'such', 'part', 'anyway', 'somehow', 'please', 'among', 'four', 'over', 'have', 'see', 'there', 'cannot', '’re', 'never', 're', 'was', 'their', 'did', 'along', 'empty', 'towards', \"n't\", 'anyhow', 'or', 'herein', 'very', 'however', 'none', 'made', 'since', 'its', 'becoming', 'can', 'show', 'on', 'former', 'two', '‘re', 'your', 'due', 'an', 'during', 'that', 'nothing', 'first', 'alone', 'say', 'various', \"'s\", '’m', 'not', 'our', 'regarding', 'after', 'seemed', 'amongst', 'whither', 'around', 'fifty', 'the', 'name', 'formerly', 'every', 'yours', 'than', 'indeed', 'whence', 'hence', 'twenty', 'but', 'although', 'same', 'beyond', 'against', 'at', 'how', '‘s', 'enough', 'seem', 'nine', 'with', 'were', '‘m', 'wherever', 'too', 'somewhere', 'before', 'whereas', 'ours', 'thereafter', 'well', 'i', \"'ve\", 'to', 'yet', 'therefore', 'wherein', 'when', 'thru', 'if', 'whom', 'go', 'mostly', 'some', 'which', 'no', 'something', 'make', 'hereby', 'unless'}\n"
     ]
    }
   ],
   "source": [
    "# Printing all the stop words of this English library\n",
    "print(nlp.Defaults.stop_words)"
   ]
  },
  {
   "cell_type": "code",
   "execution_count": 9,
   "metadata": {},
   "outputs": [
    {
     "data": {
      "text/plain": [
       "326"
      ]
     },
     "execution_count": 9,
     "metadata": {},
     "output_type": "execute_result"
    }
   ],
   "source": [
    "# How many stop words has this library?\n",
    "len(nlp.Defaults.stop_words)"
   ]
  },
  {
   "cell_type": "code",
   "execution_count": 15,
   "metadata": {},
   "outputs": [
    {
     "data": {
      "text/plain": [
       "True"
      ]
     },
     "execution_count": 15,
     "metadata": {},
     "output_type": "execute_result"
    }
   ],
   "source": [
    "# Are specific words stop words?\n",
    "nlp.vocab['first'].is_stop"
   ]
  },
  {
   "cell_type": "code",
   "execution_count": 13,
   "metadata": {},
   "outputs": [
    {
     "data": {
      "text/plain": [
       "False"
      ]
     },
     "execution_count": 13,
     "metadata": {},
     "output_type": "execute_result"
    }
   ],
   "source": [
    "nlp.vocab['fourth'].is_stop"
   ]
  },
  {
   "cell_type": "code",
   "execution_count": 16,
   "metadata": {},
   "outputs": [],
   "source": [
    "# Add stop words\n",
    "nlp.Defaults.stop_words.add('fourth')"
   ]
  },
  {
   "cell_type": "code",
   "execution_count": 18,
   "metadata": {},
   "outputs": [],
   "source": [
    "nlp.vocab['fourth'].is_stop = True"
   ]
  },
  {
   "cell_type": "code",
   "execution_count": 19,
   "metadata": {},
   "outputs": [
    {
     "data": {
      "text/plain": [
       "True"
      ]
     },
     "execution_count": 19,
     "metadata": {},
     "output_type": "execute_result"
    }
   ],
   "source": [
    "nlp.vocab['fourth'].is_stop"
   ]
  },
  {
   "cell_type": "code",
   "execution_count": 21,
   "metadata": {},
   "outputs": [],
   "source": [
    "# Remove stop words\n",
    "nlp.Defaults.stop_words.remove('go')"
   ]
  },
  {
   "cell_type": "code",
   "execution_count": 22,
   "metadata": {},
   "outputs": [],
   "source": [
    "nlp.vocab['go'].is_stop = False"
   ]
  },
  {
   "cell_type": "code",
   "execution_count": 23,
   "metadata": {},
   "outputs": [
    {
     "data": {
      "text/plain": [
       "False"
      ]
     },
     "execution_count": 23,
     "metadata": {},
     "output_type": "execute_result"
    }
   ],
   "source": [
    "nlp.vocab['go'].is_stop"
   ]
  }
 ],
 "metadata": {
  "kernelspec": {
   "display_name": "Python 3",
   "language": "python",
   "name": "python3"
  },
  "language_info": {
   "codemirror_mode": {
    "name": "ipython",
    "version": 3
   },
   "file_extension": ".py",
   "mimetype": "text/x-python",
   "name": "python",
   "nbconvert_exporter": "python",
   "pygments_lexer": "ipython3",
   "version": "3.7.1"
  }
 },
 "nbformat": 4,
 "nbformat_minor": 2
}
