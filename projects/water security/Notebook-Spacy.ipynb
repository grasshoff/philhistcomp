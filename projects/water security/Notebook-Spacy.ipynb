{
 "cells": [
  {
   "cell_type": "markdown",
   "metadata": {},
   "source": [
    "# Project Water (In)Security Spacy\n",
    "\n",
    "PT"
   ]
  },
  {
   "cell_type": "code",
   "execution_count": 6,
   "metadata": {},
   "outputs": [],
   "source": [
    "import pandas as pd\n",
    "import spacy\n",
    "from spacy import displacy\n",
    "from spacy.matcher import Matcher\n",
    "import re"
   ]
  },
  {
   "cell_type": "code",
   "execution_count": 8,
   "metadata": {},
   "outputs": [],
   "source": [
    "# Import English library\n",
    "nlp = spacy.load('en_core_web_sm')"
   ]
  },
  {
   "cell_type": "code",
   "execution_count": 18,
   "metadata": {},
   "outputs": [],
   "source": [
    "dfWater=pd.read_json(\"dfwaterpub.json\")[[\"title\",\"abstract\"]]\n",
    "#dfRem=dfRem[:10]"
   ]
  },
  {
   "cell_type": "code",
   "execution_count": 19,
   "metadata": {},
   "outputs": [
    {
     "data": {
      "text/plain": [
       "2891"
      ]
     },
     "execution_count": 19,
     "metadata": {},
     "output_type": "execute_result"
    }
   ],
   "source": [
    "len(dfWater)"
   ]
  },
  {
   "cell_type": "code",
   "execution_count": 20,
   "metadata": {},
   "outputs": [
    {
     "data": {
      "text/plain": [
       "['title', 'abstract']"
      ]
     },
     "execution_count": 20,
     "metadata": {},
     "output_type": "execute_result"
    }
   ],
   "source": [
    "list(dfWater.keys())"
   ]
  },
  {
   "cell_type": "code",
   "execution_count": 21,
   "metadata": {},
   "outputs": [],
   "source": [
    "dfWater=dfWater.dropna(subset=[\"abstract\"])"
   ]
  },
  {
   "cell_type": "markdown",
   "metadata": {},
   "source": [
    "# Filter"
   ]
  },
  {
   "cell_type": "code",
   "execution_count": 31,
   "metadata": {},
   "outputs": [],
   "source": [
    "suche=\"solidarity\"\n",
    "def filter(zeile):\n",
    "    cond=zeile[\"abstract\"].str.contains(suche,na=False)\n",
    "    return(cond)"
   ]
  },
  {
   "cell_type": "code",
   "execution_count": 32,
   "metadata": {},
   "outputs": [
    {
     "data": {
      "text/html": [
       "<div>\n",
       "<style scoped>\n",
       "    .dataframe tbody tr th:only-of-type {\n",
       "        vertical-align: middle;\n",
       "    }\n",
       "\n",
       "    .dataframe tbody tr th {\n",
       "        vertical-align: top;\n",
       "    }\n",
       "\n",
       "    .dataframe thead th {\n",
       "        text-align: right;\n",
       "    }\n",
       "</style>\n",
       "<table border=\"1\" class=\"dataframe\">\n",
       "  <thead>\n",
       "    <tr style=\"text-align: right;\">\n",
       "      <th></th>\n",
       "      <th>title</th>\n",
       "      <th>abstract</th>\n",
       "    </tr>\n",
       "  </thead>\n",
       "  <tbody>\n",
       "    <tr>\n",
       "      <th>1347</th>\n",
       "      <td>Water Security and Climate Change: The Need fo...</td>\n",
       "      <td>Climate change will bring about unprecedented ...</td>\n",
       "    </tr>\n",
       "    <tr>\n",
       "      <th>1851</th>\n",
       "      <td>Toward a critical water security: hydrosolidar...</td>\n",
       "      <td>Traditional approaches to water security presu...</td>\n",
       "    </tr>\n",
       "    <tr>\n",
       "      <th>2474</th>\n",
       "      <td>Tackling the global water crisis: unlocking in...</td>\n",
       "      <td>The world&amp;#x27;s finite supply of freshwater f...</td>\n",
       "    </tr>\n",
       "    <tr>\n",
       "      <th>2835</th>\n",
       "      <td>The Greatest Water Problem: The Inability to L...</td>\n",
       "      <td>The world is moving towards a dangerous situat...</td>\n",
       "    </tr>\n",
       "    <tr>\n",
       "      <th>441</th>\n",
       "      <td>Water Security, Riparian Identity and Korean N...</td>\n",
       "      <td>Environmental security has traditionally been ...</td>\n",
       "    </tr>\n",
       "  </tbody>\n",
       "</table>\n",
       "</div>"
      ],
      "text/plain": [
       "                                                  title  \\\n",
       "1347  Water Security and Climate Change: The Need fo...   \n",
       "1851  Toward a critical water security: hydrosolidar...   \n",
       "2474  Tackling the global water crisis: unlocking in...   \n",
       "2835  The Greatest Water Problem: The Inability to L...   \n",
       "441   Water Security, Riparian Identity and Korean N...   \n",
       "\n",
       "                                               abstract  \n",
       "1347  Climate change will bring about unprecedented ...  \n",
       "1851  Traditional approaches to water security presu...  \n",
       "2474  The world&#x27;s finite supply of freshwater f...  \n",
       "2835  The world is moving towards a dangerous situat...  \n",
       "441   Environmental security has traditionally been ...  "
      ]
     },
     "execution_count": 32,
     "metadata": {},
     "output_type": "execute_result"
    }
   ],
   "source": [
    "df=dfWater[filter]\n",
    "df"
   ]
  },
  {
   "cell_type": "markdown",
   "metadata": {},
   "source": [
    "# Pattern maching"
   ]
  },
  {
   "cell_type": "code",
   "execution_count": 33,
   "metadata": {},
   "outputs": [
    {
     "data": {
      "text/plain": [
       "'Climate change will bring about unprecedented economic, social and environmental effects, which require both the mitigation of greenhouse gas emissions and adaptation to its adverse effects. Water is the main element through which the impacts of climate change will be felt. Climate change results in increased uncertainties, complexities, stress and potential for conflicts within water management, both among and within states. New forms of governance are needed if the world is to respond to the need to adapt to changes in freshwater supply and to manage water security risks. This paper suggests that adaptive governance should to be main-streamed into all water regulation to ensure the availability of and access to safe water resources and to prevent water-related conflicts. The paper discusses the concept of water security in the context of climate change, the threats that climate change poses to water security, and the concept and implications of adaptive governance as a possible solution. The application of adaptive governance requires a certain degree of institutional and normative flexibility, instruments and institutions that can respond and adapt to changes and manage the level of uncertainty associated with the impacts of climate change. The governance institutions, methods and instruments should be responsive to new information and different kinds of uncertainties, while reflecting the vulnerabilities, capacities, needs and priorities of both societies and ecosystems in the face of climate change. Water security risks could be reduced by increased hydrosolidarity among states, which would present the challenges posed by climate change on water governance and security as primarily an opportunity for new forms of cooperation.'"
      ]
     },
     "execution_count": 33,
     "metadata": {},
     "output_type": "execute_result"
    }
   ],
   "source": [
    "a=df.iloc[0].abstract\n",
    "a"
   ]
  },
  {
   "cell_type": "code",
   "execution_count": 34,
   "metadata": {},
   "outputs": [],
   "source": [
    "abstract=nlp(a)"
   ]
  },
  {
   "cell_type": "code",
   "execution_count": 35,
   "metadata": {},
   "outputs": [
    {
     "name": "stdout",
     "output_type": "stream",
     "text": [
      " Satz 0= Climate change will bring about unprecedented economic, social and environmental effects, which require both the mitigation of greenhouse gas emissions and adaptation to its adverse effects.\n",
      " Satz 1= Water is the main element through which the impacts of climate change will be felt.\n",
      " Satz 2= Climate change results in increased uncertainties, complexities, stress and potential for conflicts within water management, both among and within states.\n",
      " Satz 3= New forms of governance are needed if the world is to respond to the need to adapt to changes in freshwater supply and to manage water security risks.\n",
      " Satz 4= This paper suggests that adaptive governance should to be main-streamed into all water regulation to ensure the availability of and access to safe water resources and to prevent water-related conflicts.\n",
      " Satz 5= The paper discusses the concept of water security in the context of climate change, the threats that climate change poses to water security, and the concept and implications of adaptive governance as a possible solution.\n",
      " Satz 6= The application of adaptive governance requires a certain degree of institutional and normative flexibility, instruments and institutions that can respond and adapt to changes and manage the level of uncertainty associated with the impacts of climate change.\n",
      " Satz 7= The governance institutions, methods and instruments should be responsive to new information and different kinds of uncertainties, while reflecting the vulnerabilities, capacities, needs and priorities of both societies and ecosystems in the face of climate change.\n",
      " Satz 8= Water security risks could be reduced by increased hydrosolidarity among states, which would present the challenges posed by climate change on water governance and security as primarily an opportunity for new forms of cooperation.\n"
     ]
    }
   ],
   "source": [
    "for i,sent in enumerate(abstract.sents):\n",
    "    print(f\" Satz {i}= {sent}\")"
   ]
  },
  {
   "cell_type": "code",
   "execution_count": 39,
   "metadata": {},
   "outputs": [
    {
     "data": {
      "text/plain": [
       "'This paper suggests that adaptive governance should to be main-streamed into all water regulation to ensure the availability of and access to safe water resources and to prevent water-related conflicts.'"
      ]
     },
     "execution_count": 39,
     "metadata": {},
     "output_type": "execute_result"
    }
   ],
   "source": [
    "sentences=[s for s in abstract.sents]\n",
    "s=sentences[4].text\n",
    "s"
   ]
  },
  {
   "cell_type": "code",
   "execution_count": 40,
   "metadata": {},
   "outputs": [
    {
     "name": "stdout",
     "output_type": "stream",
     "text": [
      "This this DET DT det Xxxx True True\n",
      "paper paper NOUN NN nsubj xxxx True False\n",
      "suggests suggest VERB VBZ ROOT xxxx True False\n",
      "that that ADP IN mark xxxx True True\n",
      "adaptive adaptive ADJ JJ amod xxxx True False\n",
      "governance governance NOUN NN nsubj xxxx True False\n",
      "should should VERB MD ccomp xxxx True True\n",
      "to to PART TO aux xx True True\n",
      "be be VERB VB xcomp xx True True\n",
      "main main ADV RB advmod xxxx True False\n",
      "- - PUNCT HYPH punct - False False\n",
      "streamed streamed ADJ JJ acomp xxxx True False\n",
      "into into ADP IN prep xxxx True True\n",
      "all all DET DT det xxx True True\n",
      "water water NOUN NN compound xxxx True False\n",
      "regulation regulation NOUN NN pobj xxxx True False\n",
      "to to PART TO aux xx True True\n",
      "ensure ensure VERB VB advcl xxxx True False\n",
      "the the DET DT det xxx True True\n",
      "availability availability NOUN NN dobj xxxx True False\n",
      "of of ADP IN prep xx True True\n",
      "and and CCONJ CC cc xxx True True\n",
      "access access NOUN NN conj xxxx True False\n",
      "to to ADP IN prep xx True True\n",
      "safe safe ADJ JJ amod xxxx True False\n",
      "water water NOUN NN compound xxxx True False\n",
      "resources resource NOUN NNS pobj xxxx True False\n",
      "and and CCONJ CC cc xxx True True\n",
      "to to PART TO aux xx True True\n",
      "prevent prevent VERB VB conj xxxx True False\n",
      "water water NOUN NN npadvmod xxxx True False\n",
      "- - PUNCT HYPH punct - False False\n",
      "related relate VERB VBN amod xxxx True False\n",
      "conflicts conflict NOUN NNS dobj xxxx True False\n",
      ". . PUNCT . punct . False False\n"
     ]
    }
   ],
   "source": [
    "# https://spacy.io/usage/linguistic-features\n",
    "doc=nlp(s)\n",
    "for token in doc:\n",
    "        print(token.text, token.lemma_, token.pos_, token.tag_, token.dep_,\n",
    "            token.shape_, token.is_alpha, token.is_stop)"
   ]
  },
  {
   "cell_type": "code",
   "execution_count": 41,
   "metadata": {},
   "outputs": [
    {
     "name": "stderr",
     "output_type": "stream",
     "text": [
      "/anaconda3/lib/python3.7/runpy.py:193: UserWarning: [W006] No entities to visualize found in Doc object. If this is surprising to you, make sure the Doc was processed using a model that supports named entity recognition, and check the `doc.ents` property manually if necessary.\n",
      "  \"__main__\", mod_spec)\n"
     ]
    },
    {
     "data": {
      "text/html": [
       "<div class=\"entities\" style=\"line-height: 2.5; direction: ltr\">This paper suggests that adaptive governance should to be main-streamed into all water regulation to ensure the availability of and access to safe water resources and to prevent water-related conflicts.</div>"
      ],
      "text/plain": [
       "<IPython.core.display.HTML object>"
      ]
     },
     "metadata": {},
     "output_type": "display_data"
    }
   ],
   "source": [
    "displacy.render(doc, style=\"ent\")"
   ]
  },
  {
   "cell_type": "markdown",
   "metadata": {},
   "source": [
    "# Pattern matching\n",
    "https://spacy.io/usage/rule-based-matching\n",
    "\n",
    "https://explosion.ai/demos/matcher?"
   ]
  },
  {
   "cell_type": "code",
   "execution_count": 42,
   "metadata": {},
   "outputs": [],
   "source": [
    "matcher = Matcher(nlp.vocab)"
   ]
  },
  {
   "cell_type": "code",
   "execution_count": 43,
   "metadata": {},
   "outputs": [],
   "source": [
    "pattern = [{\"LOWER\":\"we\"},{'POS': 'VERB'}]\n",
    "matcher.add(\"matching\",None,pattern)"
   ]
  },
  {
   "cell_type": "code",
   "execution_count": 44,
   "metadata": {},
   "outputs": [],
   "source": [
    "matches=matcher(doc)"
   ]
  },
  {
   "cell_type": "code",
   "execution_count": 45,
   "metadata": {},
   "outputs": [
    {
     "name": "stdout",
     "output_type": "stream",
     "text": [
      "[]\n"
     ]
    }
   ],
   "source": [
    "print(matches)"
   ]
  },
  {
   "cell_type": "code",
   "execution_count": 46,
   "metadata": {},
   "outputs": [],
   "source": [
    "for match_id, start, end in matches:\n",
    "    span = doc[start:end]  # The matched span\n",
    "    print(span.text)"
   ]
  },
  {
   "cell_type": "code",
   "execution_count": 47,
   "metadata": {},
   "outputs": [],
   "source": [
    "pattern1 = [{\"POS\":\"PRN\"},{\"LOWER\":\"showed\"}]\n",
    "matcher.add(\"m2\",None,pattern1)"
   ]
  },
  {
   "cell_type": "code",
   "execution_count": 48,
   "metadata": {},
   "outputs": [],
   "source": [
    "matches2=matcher(doc)"
   ]
  },
  {
   "cell_type": "code",
   "execution_count": 49,
   "metadata": {},
   "outputs": [],
   "source": [
    "for _, start, end in matches:\n",
    "    span = doc[start:end]  # The matched span\n",
    "    print(span.text)\n",
    "    span2=doc[end-1]\n",
    "    print(f\"das Verb ist: {span2.lemma_}\")"
   ]
  },
  {
   "cell_type": "code",
   "execution_count": 50,
   "metadata": {},
   "outputs": [],
   "source": [
    "matches=matcher(abstract)\n",
    "for _,start,end in matches:\n",
    "    verb=abstract[end-1]\n",
    "    print(verb)"
   ]
  },
  {
   "cell_type": "code",
   "execution_count": 51,
   "metadata": {},
   "outputs": [],
   "source": [
    "listverb=[]\n",
    "def actionverb(a):\n",
    "    abstract=nlp(a)\n",
    "    matches=matcher(abstract)\n",
    "    for _,start,end in matches:\n",
    "        verb=abstract[end-1]\n",
    "        listverb.append(verb.lemma_)"
   ]
  },
  {
   "cell_type": "code",
   "execution_count": 52,
   "metadata": {},
   "outputs": [
    {
     "data": {
      "text/plain": [
       "[]"
      ]
     },
     "execution_count": 52,
     "metadata": {},
     "output_type": "execute_result"
    }
   ],
   "source": [
    "actionverb(a)\n",
    "listverb"
   ]
  },
  {
   "cell_type": "code",
   "execution_count": null,
   "metadata": {},
   "outputs": [],
   "source": [
    "dfWater[\"abstract\"].apply(actionverb)\n",
    "len(listverb)"
   ]
  },
  {
   "cell_type": "code",
   "execution_count": 54,
   "metadata": {},
   "outputs": [
    {
     "data": {
      "text/plain": [
       "Counter({'envision': 3,\n",
       "         'assess': 14,\n",
       "         'find': 68,\n",
       "         'investigate': 9,\n",
       "         'examine': 24,\n",
       "         'identify': 20,\n",
       "         'suggest': 14,\n",
       "         'use': 33,\n",
       "         'develop': 16,\n",
       "         'test': 3,\n",
       "         'evaluate': 3,\n",
       "         'explore': 17,\n",
       "         'discuss': 21,\n",
       "         'propose': 16,\n",
       "         'present': 34,\n",
       "         'provide': 15,\n",
       "         'adapt': 1,\n",
       "         'have': 30,\n",
       "         'describe': 13,\n",
       "         'highlight': 7,\n",
       "         'live': 1,\n",
       "         'conclude': 23,\n",
       "         'recommend': 4,\n",
       "         'make': 4,\n",
       "         'be': 24,\n",
       "         'illustrate': 5,\n",
       "         'ask': 4,\n",
       "         'contend': 3,\n",
       "         'conduct': 11,\n",
       "         'observe': 4,\n",
       "         'show': 15,\n",
       "         'adopt': 1,\n",
       "         'quantify': 3,\n",
       "         'create': 1,\n",
       "         'introduce': 4,\n",
       "         'employ': 2,\n",
       "         'establish': 2,\n",
       "         'simulate': 4,\n",
       "         'review': 16,\n",
       "         'view': 1,\n",
       "         'argue': 23,\n",
       "         'submit': 1,\n",
       "         'put': 1,\n",
       "         'deem': 2,\n",
       "         'carry': 2,\n",
       "         'estimate': 11,\n",
       "         'select': 4,\n",
       "         'analyze': 9,\n",
       "         'combine': 3,\n",
       "         'utilize': 1,\n",
       "         'collate': 1,\n",
       "         'follow': 2,\n",
       "         'think': 1,\n",
       "         'anticipate': 1,\n",
       "         'draw': 3,\n",
       "         'implement': 2,\n",
       "         'cast': 1,\n",
       "         'demonstrate': 9,\n",
       "         'consider': 10,\n",
       "         'compare': 9,\n",
       "         'systematize': 1,\n",
       "         'seek': 9,\n",
       "         'focus': 6,\n",
       "         'see': 3,\n",
       "         'suspect': 1,\n",
       "         'model': 1,\n",
       "         'scale': 1,\n",
       "         'zoom': 1,\n",
       "         'note': 2,\n",
       "         'pilot': 1,\n",
       "         'synthesize': 1,\n",
       "         'gather': 1,\n",
       "         'study': 3,\n",
       "         'set': 3,\n",
       "         'measure': 3,\n",
       "         'build': 4,\n",
       "         'manage': 2,\n",
       "         'do': 3,\n",
       "         'know': 2,\n",
       "         'will': 11,\n",
       "         'produce': 2,\n",
       "         'can': 8,\n",
       "         'must': 2,\n",
       "         'apply': 8,\n",
       "         'expect': 3,\n",
       "         'survey': 2,\n",
       "         'attribute': 1,\n",
       "         'take': 2,\n",
       "         'address': 3,\n",
       "         'conceptualize': 3,\n",
       "         'need': 5,\n",
       "         'offer': 2,\n",
       "         'may': 3,\n",
       "         'face': 6,\n",
       "         'could': 3,\n",
       "         'outline': 4,\n",
       "         'attempt': 3,\n",
       "         'map': 2,\n",
       "         'believe': 2,\n",
       "         'derive': 1,\n",
       "         'urge': 1,\n",
       "         'define': 6,\n",
       "         'lack': 1,\n",
       "         'assert': 2,\n",
       "         'determine': 2,\n",
       "         'look': 1,\n",
       "         'achieve': 1,\n",
       "         'construct': 2,\n",
       "         'compile': 1,\n",
       "         'move': 2,\n",
       "         'practice': 1,\n",
       "         'gain': 1,\n",
       "         'uncover': 1,\n",
       "         'aim': 2,\n",
       "         'interview': 1,\n",
       "         'collect': 2,\n",
       "         'teach': 1,\n",
       "         'question': 1,\n",
       "         'fit': 1,\n",
       "         'reiterate': 1,\n",
       "         'hope': 2,\n",
       "         'would': 3,\n",
       "         'report': 2,\n",
       "         'call': 2,\n",
       "         'shall': 1,\n",
       "         'monitor': 1,\n",
       "         'contextualize': 1,\n",
       "         'add': 1,\n",
       "         'scrutinize': 1,\n",
       "         'indicate': 1,\n",
       "         'join': 1,\n",
       "         'want': 3,\n",
       "         'begin': 1,\n",
       "         'analyse': 2,\n",
       "         'advocate': 1,\n",
       "         'extend': 2,\n",
       "         'document': 1,\n",
       "         'learn': 1,\n",
       "         'chart': 1,\n",
       "         'undertake': 1,\n",
       "         'explain': 1,\n",
       "         'integrate': 1,\n",
       "         'experience': 1,\n",
       "         'should': 4,\n",
       "         'give': 1,\n",
       "         'calculate': 1,\n",
       "         'summarise': 1,\n",
       "         'pose': 1,\n",
       "         'qualify': 1})"
      ]
     },
     "execution_count": 54,
     "metadata": {},
     "output_type": "execute_result"
    }
   ],
   "source": [
    "from collections import Counter\n",
    "Counter(listverb)"
   ]
  },
  {
   "cell_type": "code",
   "execution_count": null,
   "metadata": {},
   "outputs": [],
   "source": []
  }
 ],
 "metadata": {
  "kernelspec": {
   "display_name": "Python 3",
   "language": "python",
   "name": "python3"
  },
  "language_info": {
   "codemirror_mode": {
    "name": "ipython",
    "version": 3
   },
   "file_extension": ".py",
   "mimetype": "text/x-python",
   "name": "python",
   "nbconvert_exporter": "python",
   "pygments_lexer": "ipython3",
   "version": "3.7.3"
  }
 },
 "nbformat": 4,
 "nbformat_minor": 4
}
