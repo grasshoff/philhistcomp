{
 "cells": [
  {
   "cell_type": "markdown",
   "metadata": {},
   "source": [
    "### Preparing and Analysing a Sample Text: Sydney Penner's (2011) English translation of Suárez' *De Anima, Disputation 12, Question 2*"
   ]
  },
  {
   "cell_type": "markdown",
   "metadata": {},
   "source": [
    "**1. Preparation**"
   ]
  },
  {
   "cell_type": "code",
   "execution_count": 129,
   "metadata": {},
   "outputs": [],
   "source": [
    "import pandas as pd\n",
    "import re"
   ]
  },
  {
   "cell_type": "code",
   "execution_count": 130,
   "metadata": {},
   "outputs": [],
   "source": [
    "import spacy"
   ]
  },
  {
   "cell_type": "code",
   "execution_count": 131,
   "metadata": {},
   "outputs": [],
   "source": [
    "DeAnima = open('DeAnima.txt', encoding=\"utf8\")"
   ]
  },
  {
   "cell_type": "code",
   "execution_count": 132,
   "metadata": {},
   "outputs": [],
   "source": [
    "sample = DeAnima.read()"
   ]
  },
  {
   "cell_type": "code",
   "execution_count": 133,
   "metadata": {},
   "outputs": [],
   "source": [
    "from spacy.lang.en import English\n",
    "\n",
    "raw_text = sample\n",
    "nlp = English()\n",
    "nlp.add_pipe(nlp.create_pipe('sentencizer'))\n",
    "doc = nlp(raw_text)\n",
    "sentences = [sent.string.strip() for sent in doc.sents]"
   ]
  },
  {
   "cell_type": "code",
   "execution_count": 134,
   "metadata": {},
   "outputs": [
    {
     "data": {
      "text/plain": [
       "['Whether the will is free in its acts.',\n",
       " '1.',\n",
       " 'After what was said about its object and acts, we should next\\ntalk about the power, about which (as I noted in previous disputations)\\nit is already clear that it is a spiritual power apart from a bodily organ.',\n",
       " 'One can, nevertheless, ask whether it is really distinct from the intel-\\nlect or not.',\n",
       " 'For many think that intellect and will are distinguished only\\nformally, as Durandus, Scotus, and others say in I, dist.',\n",
       " '3, q. 7.',\n",
       " 'And Augustine in De Trinitate X seems to place no stronger distinction between\\nintellect and will than between memory and intellect.',\n",
       " 'Nevertheless, we think along with St. Thomas that they are really\\ndistinguished.',\n",
       " 'Aristotle also seems to say this in De anima III, text.',\n",
       " '29.',\n",
       " 'And, of course, having supposed that they are really distinguished from\\nthe essence [of the soul], it is much more probable that they are also [re-\\nally] distinguished from each other.',\n",
       " 'Nothing disagreeable results from\\npositing this distinction, but all those things pertaining to these powers\\nare understood much more easily.',\n",
       " '2.',\n",
       " 'Assuming this, therefore, only the question about the freedom\\nof the will remains of those that can be discussed about the power itself.',\n",
       " 'And this question most strongly depends on theology, for a perfect\\ndivision of it requires knowing how God can ﬁrmly cognize free\\noperations without taking away freedom.',\n",
       " 'Also, how the providence\\nand concursus of God and, especially, how his prevenient grace stands\\nwith free will.',\n",
       " 'Also, how predestination and conﬁrmation in grace does\\nnot destroy freedom.',\n",
       " 'Nevertheless, refraining from all these matters,\\nweshould brieﬂy discuss the question according to its proper principles\\nalone.',\n",
       " 'Nor can I entirely omit it, since it is proper to the matter that\\nSt. Thomas discusses here.',\n",
       " '3.',\n",
       " 'It seems, therefore, that the negative answer to the question is\\ntrue.',\n",
       " 'First, because a power which deliberates towards one [object] is not\\nfree.',\n",
       " 'But the will is terminated in one [object], namely, the good.',\n",
       " 'There-\\nfore.',\n",
       " 'Second, that the same power act both freely and necessarily is con-\\ntradictory.',\n",
       " 'But out will acts necessarily in many things, for it necessarily\\nloves happiness and the clear vision of God.',\n",
       " 'Therefore.',\n",
       " 'Third, a free power for acting is one which, once all the requisites\\nfor acting are in place, can either act or not act.',\n",
       " 'But the will is not like\\nthis.',\n",
       " 'Therefore.',\n",
       " 'The minor premise is proven: for the will requires the\\nconcursus of the divine will so that it can issue an act.',\n",
       " 'But once the will\\nof Godis posited, our will cannot not act.',\n",
       " 'Therefore.',\n",
       " 'Fourth, for either God knows that I will do this thing or he does\\nnot know it.',\n",
       " 'If the former, then I will infallibly do it.',\n",
       " 'If the latter, then\\nI will infallibly not do it.',\n",
       " 'Therefore, in neither case is there the freedom\\nto act or not to act.',\n",
       " 'Fifth, if our power is free, then either [it is free] while it acts or\\nbefore it actually acts.',\n",
       " 'But not the latter, for in that case it has not yet\\nacted [at all] and therefore has not acted freely.',\n",
       " 'But neither when it is\\nacting, since then it acts necessarily.',\n",
       " 'For it is necessary that a thing be\\nwhenitis.',\n",
       " 'And when it is acting, it is necessary that it be acting.',\n",
       " 'Sixth, because our soul is the form of the body.',\n",
       " 'Therefore, it follows\\nthe condition of the body in its operations.',\n",
       " 'Therefore, just as other forms\\ndepend on the heavens in their operations and follow inﬂuence from it,\\nso also our soul and will.',\n",
       " 'But the heavens’ inﬂuence operates naturally.',\n",
       " 'Therefore, our will, which follows it, also operates naturally.',\n",
       " 'Seventh, will and sensitive appetite are powers rooted in the same\\nsoul.',\n",
       " 'Therefore, whatever one of these powers desires, the other also\\ndesires.',\n",
       " 'For it is the same soul desiring in either case.',\n",
       " 'Moreover, the\\nsame soul cannot at the same time desire contraries.',\n",
       " 'But the sensitive\\nappetite operates naturally.',\n",
       " 'Therefore, etc.',\n",
       " 'Eighth, if our will were free by its nature, it could not be necessi-\\ntated by God.',\n",
       " 'The consequent is false; therefore.',\n",
       " 'The consequence is\\nobvious, both because God cannot change the nature of thigns and because\\n God cannot bring it about that a power act freely that is not free by\\nits nature.',\n",
       " 'Therefore, neither can God bring it about that a free power\\nact necessarily.',\n",
       " 'The catholic faith is to the contrary.',\n",
       " '4.',\n",
       " 'All the ancient pagans who asserted that our soul is material\\nand mortal especially erred in this question.',\n",
       " 'And it is descended from\\nthe error of the Stoics who said that all our operations are subject to\\nthe necessity of fate, as is seen in Cicero, De fato;8 Plutarch, De placitis\\nphilosophorum I, cap.',\n",
       " '28 and 29; and Augustine, De civitate Dei V, cap.',\n",
       " '8\\nand 9, and De haeresibus cap.',\n",
       " '70.',\n",
       " 'Almost the same error was followed\\nbythePriscillians, who said that we necessarily operate according to the\\ninﬂuence of the stars, as is gathered from St. Leo, Letter 93; Jerome,\\nLetter to Ctesiphon; and the Council of Braga, cap.',\n",
       " '9.',\n",
       " 'The error of\\nthe Manichaeans was similar to this.',\n",
       " 'Just as they posited two gods, one\\nthe principle of goods, the other of bads, so also they posited two souls\\nin us, one which necessitates to good, the other to bad.',\n",
       " 'These three errors completely remove freedom from the will as a\\nresult of its intrinsic nature.',\n",
       " 'Otherheretics remove freedom as a result of other extrinsic causes.',\n",
       " 'Some say that the foreknowledge and providence of God remove\\nour freedom.',\n",
       " 'Abelard held this view, whom Wycliffe—condemned in\\nthe Council of Constance, sess.',\n",
       " '812—followed.',\n",
       " 'And the same view is\\nfollowed in part by Luther.',\n",
       " 'Others remove freewill, especially in the baptized, on account of\\nGod’s grace necessitating them.',\n",
       " 'Jovinian, against whom Jerome and\\nAugustine oftendisputed, held this error.',\n",
       " 'Others say that freewill was removed on account of original sin,\\nafter which human beings are necessitated to sinning.',\n",
       " 'Luther erred in\\nthis way, saying in art.',\n",
       " '36 to Leo X  that ‘freewill after sin is a matter of\\ntitle only’ and is imagined in things.',\n",
       " 'Many saints have already been cited against these heretics.',\n",
       " 'Also:\\nAugustine, De libero arbitrio; St. Bernard; Anselm; Origen; and\\nTertullian, under the same title.',\n",
       " 'And especially against Luther: John\\nFisher (c. 1469–1535), cap.',\n",
       " '36.',\n",
       " 'Merit is said to be the gift of grace and\\nfreedom: Albert Pighius; John Eck, Enchiridion locorum communium\\nadversusLutherum, cap.30; Soto, Denaturaetgratia, cap.15; and Castro,\\nDehaeresibus, s.v. ‘',\n",
       " 'liberum arbitrium’.',\n",
       " '5.',\n",
       " 'It should be known, nevertheless, that freedom is in one way\\nopposed to slavery, according to the passages John 8[:36] ‘If, therefore,\\nthe son shall make you free ...’ and Romans 6[:20] ‘When you were\\nslaves to sin, you were free [of justice]’.',\n",
       " 'In another way it is opposed\\nto necessity.',\n",
       " '1 Corinthians 7[:37]: ‘For he who stands steadfast, not\\nhaving necessity, but having the power of his own will’.',\n",
       " 'And it is also\\nopposed to compulsion, for he who is compelled is necessitated.',\n",
       " 'And\\nwe are asking about this freedom here, for freewill, as Soto, above, in\\ncap.',\n",
       " '15, lib.',\n",
       " '5, noted, with the word ‘libet’ having been said, he is said\\nto be free, as it were, who by his own will (sponte) does whatever pleases\\nhim.',\n",
       " 'Moreover, this freedom consists in this, namely, that a power can\\nissue an act or not issue the act, once all the requisites for acting have\\nbeen posited.',\n",
       " 'For example, if an eye was able both to see and not to see\\nwith a visible object in place and the eyelid open, it would be free.',\n",
       " 'The\\nphrase ‘once all the requisites ...’ is included because failing to do an\\naction because of a lack of the object or some other impediment where\\nsomething is lacking is also not freedom.',\n",
       " '6.',\n",
       " 'Second, it should be noted that this question can have two senses.',\n",
       " 'The ﬁrst: whether our will is absolutely free.',\n",
       " 'The second: whether,\\ngiven this, our will exercises this freedom in all its acts or only in some\\nandwhichonesthoseare.',\n",
       " '7.',\n",
       " 'With respect to the ﬁrst, the ﬁrst conclusion is that the will has\\nfreedomanddominionofitsoperationsoractions.',\n",
       " 'This conclusion is one from the foundations of our faith.',\n",
       " 'For He-\\nbrews 11[:6] says that ‘he who comes to God must believe that he is\\nand that is a rewarder of those who come to him’.',\n",
       " 'But there is no reward\\nwhere there is not freedom.',\n",
       " 'For necessary actions, moreover — Augustine\\nsays it well — we neither give credit nor take away credit.',\n",
       " 'Genesis 4[:7]\\nsays ‘If you do well, will you not receive?',\n",
       " 'But if you do ill, will sin not\\nbe at the door at once?’',\n",
       " 'And the same is gathered from Deuteronomy\\n30[:11–20].',\n",
       " 'And Sirach 15[:14] says that ‘[God] left him in the hand of\\nhis own counsel’.',\n",
       " 'And Sirach 31[:10]: ‘He that could have transgressed\\nand did not transgress; and could do bad things and did not.’',\n",
       " 'And 1\\nCorinthians 7[:37]: ‘having power of his own will ...’\\nIn addition, Holy Scripture is full of precepts, exhortations, warn-\\nings, and promises, none of which can be understood without freedom,\\nas St. Augustine well describes in Letter 46.',\n",
       " 'Also, God punishes the\\nwicked—Matthew 25[:41–46]—but if they were not free, they would be\\npunishedwithoutcause.',\n",
       " 'This is amost certain matter of the faith, for the\\ntestimony brought up speaks generally.',\n",
       " 'And this truth was established\\nagainst the Lutherans in the Council of Trent, sess.',\n",
       " '6, cap.',\n",
       " '5 and 6.',\n",
       " '8.',\n",
       " 'This conclusion is also evident to natural reason, which Epictetus\\nfollowed, who — as Agostino Steuco reports in cap.16 — says: ‘Not only\\ndid God give these faculties to us, by which we endure all adversities with\\ndignity ...But because it was of a good king and true father, he give this\\nto us free and unencumbered, not coerced, and he planted and placed\\neach one in us and did not wish any remaining force that could be an\\nimpediment.’',\n",
       " 'Furthermore, experience supports the conclusion: for we ourselves\\nsee that we act and we cease from that activity when we wish.',\n",
       " 'And in\\nthis human beings differ from brute animals and the judicious from the\\ninsane.',\n",
       " 'Furthermore, according to the sense of every human being, human\\noperations are deserving of praise and blame, reward and punishment.',\n",
       " 'Andthis is, as it were, a ﬁrst principle of rational nature.',\n",
       " 'Therefore, we\\nare free.',\n",
       " 'Also, human beings are by their nature ﬁt for counsel, admonition,\\nand precepts. [',\n",
       " 'If we were not free], counsel would be vain and laws su-\\nperﬂuous,whichisagainsttheinclinationofnature.',\n",
       " 'Moreover,ifhuman\\nbeings are not free, they are not useful, for human beings would always\\nact necessarily, as if counsel were given to brute animals or law imposed\\non them.',\n",
       " 'Hence, to remove freewill is to destroy the order of the state,\\nof religion, and of piety.',\n",
       " 'Furthermore, it is obvious according to the light of nature that hu-\\nman beings often sin and do evil.',\n",
       " 'Therefore, they act necessarily and\\nare necessitated by nature itself and consequently by the author of that\\nnature to doing evil.',\n",
       " 'The consequent is absurd.',\n",
       " 'Furthermore,human beings by thei rnature are lord of their actions.',\n",
       " 'This lordship consists in being able by their freedom to exercise or not\\nto exercise those actions.',\n",
       " 'Therefore, they are free.',\n",
       " 'The antecedent is\\nproven, for human beings are lords of other things, for every natural\\nreason dictates that human beings are capable of lordship and that it is\\nevil to take away from someone what is his.',\n",
       " 'But that lordship consists\\nin being free to use his things.',\n",
       " 'And lordship over his actions consists in\\nhuman beings being made in the image of God, as was noted by John\\nDamascene in Fideo lib.',\n",
       " 'II, cap.',\n",
       " '12, and Augustine in Psalm 57.',\n",
       " 'And for\\nthis reason after God said ‘let us make humankind in our image and in\\nour likeness’, he added ‘and may he rule’.',\n",
       " 'All these are a posteriori\\ndemonstrations.',\n",
       " '9.',\n",
       " 'But in order to demonstrate it a priori, it is necessary to explain\\nin what freedom formally and at root consists.',\n",
       " 'In what was said above:\\nFirst, this freedom is ﬁtting for human beings in accordance with\\ntheir being rational, which in no way is ﬁtting for any other animal.',\n",
       " 'This is evidence, therefore, that it is ﬁtting for human beings by reason\\nof that power in which they supersede other animals.',\n",
       " 'The same thing is evident by experience, for human beings do not\\nexperience freedom in themselves except insofar as they use reason.',\n",
       " 'Also, since this part is spiritual, freedom belongs to the spiritual\\npart.',\n",
       " 'Hence, St. Thomas in ST IaIIae.1.1 and the Teacher in Sent.',\n",
       " 'II,\\ndist.',\n",
       " '24, cap.',\n",
       " '5, say that freewill in its proper signiﬁcation refers to a\\ncertain act, yet the term is carried over to signifying the principle of the\\nact.',\n",
       " 'Hence, it now signiﬁes a power, as St. Thomas noted in ST Ia.83.2.',\n",
       " 'Andtherefore it is called a faculty, namely, natural.',\n",
       " 'For natural faculties\\nare powers.',\n",
       " 'Still, ‘of the will and of reason’ is added, because freedom\\nconsists partly in reason and partly in will; in reason as in a root and in\\nwill as in a formally free subject.',\n",
       " 'Each claim is proven.',\n",
       " 'For freedom consists formally in the will for\\nit consists formally in indifference of election.',\n",
       " 'A human being is free for\\nthereasonthathecanelecteitherthisorthat.',\n",
       " 'Italsoconsistsinafreeuse\\nof his own operations.',\n",
       " 'But to elect and to use other powers belongs to\\nthe will, as is obvious.',\n",
       " 'Therefore, freedom formally belongs to the will.',\n",
       " 'Andeveryoperation is thought free only insofar as it is subjected to the will.',\n",
       " 'But that this freedom arises from reason is obvious in the ﬁrst place,\\nbecause desire arises from cognition, as was shown above.',\n",
       " 'Therefore,\\nthe mode of desire and of that will also arise from the mode and proper-\\nties of the cognized.',\n",
       " '10.',\n",
       " 'But it is necessary to explain in particular how freedom in the\\nwill arises from reason.',\n",
       " 'The Thomists commonly explain that the freedom of the will arises\\nfrom the indifference of the intellect.',\n",
       " 'For that reason — they say — the will\\ncan love something or not love it, because the intellect is not necessitated\\nto judging that thing to be better.',\n",
       " 'Rather, the intellect can ﬁnd some\\naspect of good and some aspect of bad in the object.',\n",
       " 'St. Thomas seems\\nto teach this view in ST Ia.83.1, where he says that brute animals do not\\nhave freedom because they do not act by the judgement of reason.',\n",
       " 'But\\nhuman beings have free will, because they act by the judgement of reason\\nbecause it has the power for opposites.',\n",
       " 'It is also proven by reason, for freedom of the will consists in being\\nable to love and not to love an object once proposed as good.',\n",
       " 'But it\\ncannot do this as it pleases.',\n",
       " 'Rather, it can only love it insofar as it ﬁnds\\nsome aspect of good and it can only not love it insofar as it ﬁnds some\\naspect of bad.',\n",
       " 'Therefore, freedom consists in this, namely, that both\\naspects of good and of bad can be found in the same object.',\n",
       " 'It is conﬁrmed: for if the intellect were to cognize some good in the\\nlove for which it could ﬁnd no aspect of bad, the will would not be able\\nnot to love it.',\n",
       " 'Therefore.',\n",
       " 'Francis Sylvester of Ferrara holds this view in SCG III, the last chapter,\\nas does Soncinas in Metaphysics IX, q. 14.',\n",
       " 'And from this they infer\\nthat the will ought always to elect that which the intellect judges to be\\nbetter and more agreeable, since it cannot reject something except be-\\ncause it found in it some aspect of bad or of lesser good.',\n",
       " 'Their argument seems to be that the freedom of the will ought to be\\nwithin the latitude of its object, which is the good.',\n",
       " 'But that way has a difﬁculty, for if this is true, the will is not more\\nfree than the intellect.',\n",
       " 'For just as the intellect necessarily assents to the\\ntrue, so also the will loves the good to which no bad is communicated.',\n",
       " 'And just as the will can fail to love the good because it ﬁnds an aspect\\nof bad, so also the intellect can fail to assent if the true does not appear\\ncertain but is mixed with falsity in a certain way.',\n",
       " 'Furthermore, it follows that, absolutely speaking, the will is not\\nfree, for it always follows the judgement of the intellect and must elect\\nwhat the intellect judges to be better.',\n",
       " 'But the intellect is not free.',\n",
       " 'Therefore,\\nneither is the will free.',\n",
       " 'Furthermore, this opinion is soaked in the opinion of Durandus,\\nwhich almost all theologians disprove, namely, that freedom is formally\\nin the intellect.',\n",
       " 'For insofar as freedom in the will arises from the indifference\\nand freedom of the intellect’s judgement, freedom will be prior\\nandmoreperfectintheintellect.',\n",
       " 'Another way of speaking is that the freedom of the will arises from\\nthe intellect, yet not from its indifference but from its perfection and\\nuniversality.',\n",
       " 'For the intellect surpasses the other sensitive powers in this,\\nnamely, that it not just cognizes confusedly that this thing is agreeable,\\nbut that it distinctly perceives the aspect of agreeability, by separating\\nit from all the other aspects with which it is conjoined and considering\\nit insofar as it is desirable.',\n",
       " 'And from this perfection of cognition arises\\nthe perfection in the desire of the will.',\n",
       " 'For just as the intellect perceives\\nin each thing how much goodness or badness it has, so the will can love\\nit according to the goodness examined in it.',\n",
       " 'And for this reason those\\nthings which appear good are not loved necessarily but freely.',\n",
       " 'And all\\nthe particular things which occur in this life are of this sort.',\n",
       " 'For partic-\\nular things are never apprehended as necessary [goods], either because\\nhappiness is not placed in that in which it should be placed, because it is\\nnot actually considered, or, at least, because numerically these acts and\\nthis object are not deemed necessary.',\n",
       " 'From here, therefore, arises the\\nfreedom of the will.',\n",
       " 'And therefore whatever particular good is proposed\\nto the will, it can love the good for the sake of the goodness that it has\\nand it can fail to love it because it is not deemed necessary for happiness,\\nat least here and now.',\n",
       " 'But it should be responded that it is one thing [not] to love and\\nanother to pursue hatred.30 Not to love implies freedom with respect to\\nexercise.',\n",
       " 'And it is not necessary to ﬁnd an aspect of bad in the object\\nfor this; rather, it is sufﬁcient not to ﬁnd a necessary aspect of good.31\\nBut for hatred it is necessary to ﬁnd some aspect of bad.',\n",
       " 'And the ﬁrst\\nview — which should be explained rather than wholly repudiated — points\\nin this direction.',\n",
       " '11.',\n",
       " 'From all of this, an apriori argument for the conclusion: for the\\nwill follows the rational and discursive power.',\n",
       " 'Therefore it is free.',\n",
       " 'The\\nconclusion holds because free will follows on the intellect and reason, for,\\nas is proven from what was said, the intellect apprehends the aspects of\\ngood and bad and of each thing it judges by what aspect and way it is\\ndesirable and good.',\n",
       " 'Therefore, appetite, which follows such cognition,\\nwill be able to love each cognized good by that aspect and way by which\\nit is desirable and therefore [it will be able to love] freely.',\n",
       " 'It is conﬁrmed: for desire follows cognition.',\n",
       " 'Therefore, an appeti-\\ntive power in the highest grade follows the cognoscitive power existing\\nin the highest grade, and, therefore, freely.',\n",
       " 'But the intellect is such a\\npower among the cognoscitive powers; therefore, the will among appetitive\\npowers.',\n",
       " '12.',\n",
       " 'Whether the will and free will are really distinguished.',\n",
       " 'From which\\nit is also proven that the will and freewill are the same in thing and na-\\nture.',\n",
       " 'They are distinguished just like intellect and reason.',\n",
       " 'For just as\\nintellect is called intellect ﬁrst and absolutely, insofar as it understands\\nor insofar as it understands (intuetur) a thing, strictly speaking, but is\\ncalled reason insofar as it reasons discursively, so also the will is called\\nsuch either insofar as it wills or insofar as it tends in a simple way to the\\nend, but is called freewill insofar as it turns to means by free election.',\n",
       " '13.',\n",
       " 'In which acts or concerning which objects the will is free.',\n",
       " 'But\\nconcerning this conclusion we still need to explain in which acts and\\nconcerning which objects the will is free.',\n",
       " 'But this cannot be explained\\nwithout discussing multiple theological questions at the same time.',\n",
       " 'And\\nfor that reason I say brieﬂy that willing with respect to exercise is one\\nthing (it consists in being able to have an act and to cease from that act)\\nand willing with respect to speciﬁcation is another (it consists in being\\nable to have this act or its contrary, either love or hatred, or in being able\\nto love either this thing or its opposite).',\n",
       " 'I say, therefore, that the will is determined with respect to speci-\\nﬁcation to the good and happiness in general, but not with respect to\\nexercise.',\n",
       " 'The ﬁrst part is proven: for no aspect of bad appears in happiness\\nor in the good in general so that the will could pursue hatred of it.',\n",
       " 'Thesecondpartisproven: for a love of this good or of happiness is\\nnever offered in this life as strictly speaking necessary and therefore the\\nwill is not necessitated to exercising it.',\n",
       " 'On the other hand, the will is\\nnot necessitated to any particular good in this life, neither with respect\\nto exercise (because one does not plainly and clearly see a complete and\\nnecessary aspect of good in it) nor with respect to speciﬁcation (because\\nthere is no good in this life which is not mixed up with bads and difﬁculties).',\n",
       " 'Hence, the will differs in this respect from the intellect, for the\\nintellect is not free in itself with respect to exercise, but depends on the\\nmotion of the will, as was shown above.32 But with respect to speciﬁcation,\\nif the object appears evidently true, the intellect is necessitated to\\nassenting.',\n",
       " 'But the will is not necessitated to loving something even if it\\nappears evidently good.',\n",
       " 'This is because the aspect of truth is only one\\nin kind and so, if a thing has truth, all falsity is excluded.',\n",
       " 'On the other\\nhand, the aspect of goodness is not only one and so one goodness can\\nbe mixed up with other aspect of bad.',\n",
       " 'After this life, however, if a hu-\\nmanbeing attains the vision of God, it will be necessitated to a love for\\nGodbothwithrespect to exercise and with respect to speciﬁcation.',\n",
       " 'For\\nthere no aspect of bad can be found, but always the most supreme and\\nnecessary aspect of good.',\n",
       " 'But in all other acts the will is free, as much in\\nelection as in intention for the end, although in different ways.',\n",
       " 'For con-\\ncerning means it acts not only freely but with deliberation and counsel.',\n",
       " 'But concerning the end it acts without deliberation.',\n",
       " 'But about all these\\nthings one should talk about ST IaIIae, some of q. 1 and some of qq.',\n",
       " '9,\\n10, and 13.',\n",
       " '14.',\n",
       " 'Response to the ﬁrst and second arguments.',\n",
       " 'From here the so-\\nlution to the ﬁrst and second arguments is proven.',\n",
       " 'I respond that the\\nsame power which operates freely concerning some objects can operate\\nnaturally and necessarily concerning other objects.',\n",
       " 'This is because it is a\\nhigher power and operates according to the exigency of the objects, just\\nas the will of God necessarily loves his essence because that object is wor-\\nthy of being loved that way but loves creatures freely because they are\\nalso worthy of being loved in this way.',\n",
       " 'So also our will proportionately.',\n",
       " '15.',\n",
       " 'Response to the third.',\n",
       " 'How God concurs with our will.',\n",
       " 'The third\\nargument begs for a long treatise about the way in which God concurs\\nwithourwillinexercisingacts,naturalaswellassupernatural,whilepre-\\nserving our will’s freedom.',\n",
       " 'Many theologians speak about this matter,\\nwhichcanbeseeninST Ia.19, 22, and 23 and IaIIae.109.',\n",
       " 'Nevertheless, I\\nbrieﬂy say, along with St. Thomas in the mentioned places as well as IaI-\\nIae.10.3, that since the will is free by its nature, God, since he is inﬁnite\\nin wisdom and power, adjusts himself to the causes of things and concurs\\nwith each one in that way which its nature requires.',\n",
       " 'And thus he works\\nwith the will without necessitating it but leaving it to determine itself to\\nwhat it wished and offering assistance and counsel to it.',\n",
       " 'Therefore, I respond to the argument in form, that once everything\\nrequired has been posited in the ﬁrst act, the will can issue and not issue\\na second act.',\n",
       " 'For God, for his part, is prepared to concur with the will\\nfor the act which it wishes to effect.',\n",
       " 'It is in my power whether God\\nconcurs with me or does not concur.',\n",
       " 'And therefore, there is freedom\\nin election.',\n",
       " 'Hence, when it is said that once the divine will is posited,\\nthe will cannot not act, it still carries through, nevertheless, that the will\\nacts freely.',\n",
       " 'For that proposition has a compound sense and only posits a\\nconditional necessity.',\n",
       " '16.',\n",
       " 'Response to the fourth.',\n",
       " 'I respond to the fourth argument that the\\nwill, when it acts, acts freely strictly speaking.',\n",
       " 'And when it does not act,\\nit freely does not act.',\n",
       " 'For in that same instant in which it could act as\\nfar as it is concerned it could also not act.',\n",
       " 'In order to understand this\\nthe will should be considered in that instant in which it elicits an act as\\na nature prior to the act itself.',\n",
       " 'And this power as such freely determines\\nitself to eliciting this act.',\n",
       " 'And after it is already understood under the\\nact, it necessarily is under that act which then is, because the composite\\nhas been made.',\n",
       " 'And that is only the necessity of the consequence rather\\nthan the necessity of the consequent, since with that the freedom stands\\nstrictly speaking.',\n",
       " 'This argument is discussed more extensively in ST\\nIa.14.13 and 19.7.',\n",
       " 'And in this way freedom also remains.',\n",
       " '17.',\n",
       " 'Response to the ﬁfth. [',\n",
       " 'I respond to] the ﬁfth argument: for God\\ndoes not know my free acts except insofar as they are in some way present\\nto his eternity.',\n",
       " 'And in that way he knows them to be future, as they are,\\nand his knowledge does not imply necessity except conditionally.',\n",
       " '18.',\n",
       " 'Response to the sixth.',\n",
       " 'The sixth argument introduces another\\ndifﬁculty: in what way the heavens have dominion over the operations\\nof our will.',\n",
       " 'Concerning this matter, [see] ST IaIIae.9.5.',\n",
       " 'But this is not\\nthe place for discussing it in its entirety.',\n",
       " 'Nevertheless, I say brieﬂy that\\nthe heavens have an inﬂuence over the bodies of human being and over\\nall corporeal powers, which intrinsically in their dispositions depend on\\nthedispositionsofthebodies.',\n",
       " 'But,ontheotherhand,theheavensdonot\\ndirectly have an inﬂuence or dominion over the acts of the intellect and\\nwill.',\n",
       " 'For these powers are spiritual and of a higher order, for although\\nour soul is the form of the body it, nevertheless, is not wholly immersed\\nin the body but is raised from the body in some of its acts.',\n",
       " 'Indirectly and,\\nas it were, by consequence, insofar as reason follows sense and will fol-\\nlows appetite, the heavens, inﬂuencing these material powers, indirectly\\nand, as it were, by consequence, draw the will, not directly but by inclin-\\ning it.',\n",
       " 'Nevertheless, the will can through its freedom resist the inﬂuence\\nof the heavens and have dominion over it.',\n",
       " 'As it is said: ‘A wise person\\nwill have dominion over the stars’.',\n",
       " '19.',\n",
       " 'In response to the seventh argument, so that we may oppose\\nthe impiety of Luther’s assertion that the concupiscence of the sensitive\\nappetite is always a mortal sin and the will is always necessitated by the\\ndisordering of the appetite that remains after sin.',\n",
       " 'But the theologians\\nprovokethis and therefore it should be said brieﬂy that appetite and will\\nare two distinct powers following different cognitions.',\n",
       " 'And for this rea-\\nson they are inclined to different things.',\n",
       " 'And one draws the other after\\nitself not by necessitating the other power but by inclining it in some\\nway.',\n",
       " 'Nor is it repugnant that the same soul desire contraries through\\ndifferent powers, especially if it constrains the inclination of one power\\nthrough the other power.',\n",
       " 'Concerning this matter, see ST IaIIae.9.2.',\n",
       " '20.',\n",
       " 'The eighth argument raises another difﬁculty, namely, whether\\nGod necessitates or compels the will.',\n",
       " 'Concerning this matter, [see] St. Thomas,\\nST Ia.89.1 and IaIIae.6.4.',\n",
       " 'I answer brieﬂy—for it is a theo-\\nlogical matter—that although the will of itself is free, it can, nevertheless,\\nbe necessitated by God, for ‘the heart of the king is in the hand of God\\nand he can turn it wherever he wishes’.',\n",
       " 'For God is omnipotent and\\nhas dominion over the will.',\n",
       " 'Nor is what is brought up in the argument\\nsimilar.',\n",
       " 'For a thing which operates necessarily is material and of a lower\\norder and for that reason it is incapable of freedom of itself by its own\\nnature.',\n",
       " 'For that reason, freedom cannot be conferred on it by God, for\\nfreedom has to be from something intrinsic.',\n",
       " 'For freedom expresses a\\ncertain intrinsic dominion over one’s own acts and for that reason it in\\nunintelligible that freedom be attributed to something by an extrinsic\\nthing.',\n",
       " 'But, on the other hand, necessity is from something extrinsic and\\ntherefore God can impose necessity on a thing that is free according to\\nits own nature.',\n",
       " 'Nevertheless, God cannot impose violence on the will.',\n",
       " 'For violence express what is contrary to the will and inclination.',\n",
       " 'But the\\nwill cannot will something contrary to its own willing, for by the fact\\nthat it wills, it already has a willing and inclination to that.',\n",
       " 'And for that\\nreason compulsion in the will implies a contradiction.',\n",
       " 'But there is more\\nto be said about these matters in their places.',\n",
       " '']"
      ]
     },
     "execution_count": 134,
     "metadata": {},
     "output_type": "execute_result"
    }
   ],
   "source": [
    "sentences"
   ]
  },
  {
   "cell_type": "code",
   "execution_count": 135,
   "metadata": {},
   "outputs": [
    {
     "name": "stdout",
     "output_type": "stream",
     "text": [
      "['Whether the will is free in its acts.', '1.', 'After what was said about its object and acts, we should next talk about the power, about which (as I noted in previous disputations) it is already clear that it is a spiritual power apart from a bodily organ.', 'One can, nevertheless, ask whether it is really distinct from the intel- lect or not.', 'For many think that intellect and will are distinguished only formally, as Durandus, Scotus, and others say in I, dist.', '3, q. 7.', 'And Augustine in De Trinitate X seems to place no stronger distinction between intellect and will than between memory and intellect.', 'Nevertheless, we think along with St. Thomas that they are really distinguished.', 'Aristotle also seems to say this in De anima III, text.', '29.', 'And, of course, having supposed that they are really distinguished from the essence [of the soul], it is much more probable that they are also [re- ally] distinguished from each other.', 'Nothing disagreeable results from positing this distinction, but all those things pertaining to these powers are understood much more easily.', '2.', 'Assuming this, therefore, only the question about the freedom of the will remains of those that can be discussed about the power itself.', 'And this question most strongly depends on theology, for a perfect division of it requires knowing how God can ﬁrmly cognize free operations without taking away freedom.', 'Also, how the providence and concursus of God and, especially, how his prevenient grace stands with free will.', 'Also, how predestination and conﬁrmation in grace does not destroy freedom.', 'Nevertheless, refraining from all these matters, weshould brieﬂy discuss the question according to its proper principles alone.', 'Nor can I entirely omit it, since it is proper to the matter that St. Thomas discusses here.', '3.', 'It seems, therefore, that the negative answer to the question is true.', 'First, because a power which deliberates towards one [object] is not free.', 'But the will is terminated in one [object], namely, the good.', 'There- fore.', 'Second, that the same power act both freely and necessarily is con- tradictory.', 'But out will acts necessarily in many things, for it necessarily loves happiness and the clear vision of God.', 'Therefore.', 'Third, a free power for acting is one which, once all the requisites for acting are in place, can either act or not act.', 'But the will is not like this.', 'Therefore.', 'The minor premise is proven: for the will requires the concursus of the divine will so that it can issue an act.', 'But once the will of Godis posited, our will cannot not act.', 'Therefore.', 'Fourth, for either God knows that I will do this thing or he does not know it.', 'If the former, then I will infallibly do it.', 'If the latter, then I will infallibly not do it.', 'Therefore, in neither case is there the freedom to act or not to act.', 'Fifth, if our power is free, then either [it is free] while it acts or before it actually acts.', 'But not the latter, for in that case it has not yet acted [at all] and therefore has not acted freely.', 'But neither when it is acting, since then it acts necessarily.', 'For it is necessary that a thing be whenitis.', 'And when it is acting, it is necessary that it be acting.', 'Sixth, because our soul is the form of the body.', 'Therefore, it follows the condition of the body in its operations.', 'Therefore, just as other forms depend on the heavens in their operations and follow inﬂuence from it, so also our soul and will.', 'But the heavens’ inﬂuence operates naturally.', 'Therefore, our will, which follows it, also operates naturally.', 'Seventh, will and sensitive appetite are powers rooted in the same soul.', 'Therefore, whatever one of these powers desires, the other also desires.', 'For it is the same soul desiring in either case.', 'Moreover, the same soul cannot at the same time desire contraries.', 'But the sensitive appetite operates naturally.', 'Therefore, etc.', 'Eighth, if our will were free by its nature, it could not be necessi- tated by God.', 'The consequent is false; therefore.', 'The consequence is obvious, both because God cannot change the nature of thigns and because  God cannot bring it about that a power act freely that is not free by its nature.', 'Therefore, neither can God bring it about that a free power act necessarily.', 'The catholic faith is to the contrary.', '4.', 'All the ancient pagans who asserted that our soul is material and mortal especially erred in this question.', 'And it is descended from the error of the Stoics who said that all our operations are subject to the necessity of fate, as is seen in Cicero, De fato;8 Plutarch, De placitis philosophorum I, cap.', '28 and 29; and Augustine, De civitate Dei V, cap.', '8 and 9, and De haeresibus cap.', '70.', 'Almost the same error was followed bythePriscillians, who said that we necessarily operate according to the inﬂuence of the stars, as is gathered from St. Leo, Letter 93; Jerome, Letter to Ctesiphon; and the Council of Braga, cap.', '9.', 'The error of the Manichaeans was similar to this.', 'Just as they posited two gods, one the principle of goods, the other of bads, so also they posited two souls in us, one which necessitates to good, the other to bad.', 'These three errors completely remove freedom from the will as a result of its intrinsic nature.', 'Otherheretics remove freedom as a result of other extrinsic causes.', 'Some say that the foreknowledge and providence of God remove our freedom.', 'Abelard held this view, whom Wycliffe—condemned in the Council of Constance, sess.', '812—followed.', 'And the same view is followed in part by Luther.', 'Others remove freewill, especially in the baptized, on account of God’s grace necessitating them.', 'Jovinian, against whom Jerome and Augustine oftendisputed, held this error.', 'Others say that freewill was removed on account of original sin, after which human beings are necessitated to sinning.', 'Luther erred in this way, saying in art.', '36 to Leo X  that ‘freewill after sin is a matter of title only’ and is imagined in things.', 'Many saints have already been cited against these heretics.', 'Also: Augustine, De libero arbitrio; St. Bernard; Anselm; Origen; and Tertullian, under the same title.', 'And especially against Luther: John Fisher (c. 1469–1535), cap.', '36.', 'Merit is said to be the gift of grace and freedom: Albert Pighius; John Eck, Enchiridion locorum communium adversusLutherum, cap.30; Soto, Denaturaetgratia, cap.15; and Castro, Dehaeresibus, s.v. ‘', 'liberum arbitrium’.', '5.', 'It should be known, nevertheless, that freedom is in one way opposed to slavery, according to the passages John 8[:36] ‘If, therefore, the son shall make you free ...’ and Romans 6[:20] ‘When you were slaves to sin, you were free [of justice]’.', 'In another way it is opposed to necessity.', '1 Corinthians 7[:37]: ‘For he who stands steadfast, not having necessity, but having the power of his own will’.', 'And it is also opposed to compulsion, for he who is compelled is necessitated.', 'And we are asking about this freedom here, for freewill, as Soto, above, in cap.', '15, lib.', '5, noted, with the word ‘libet’ having been said, he is said to be free, as it were, who by his own will (sponte) does whatever pleases him.', 'Moreover, this freedom consists in this, namely, that a power can issue an act or not issue the act, once all the requisites for acting have been posited.', 'For example, if an eye was able both to see and not to see with a visible object in place and the eyelid open, it would be free.', 'The phrase ‘once all the requisites ...’ is included because failing to do an action because of a lack of the object or some other impediment where something is lacking is also not freedom.', '6.', 'Second, it should be noted that this question can have two senses.', 'The ﬁrst: whether our will is absolutely free.', 'The second: whether, given this, our will exercises this freedom in all its acts or only in some andwhichonesthoseare.', '7.', 'With respect to the ﬁrst, the ﬁrst conclusion is that the will has freedomanddominionofitsoperationsoractions.', 'This conclusion is one from the foundations of our faith.', 'For He- brews 11[:6] says that ‘he who comes to God must believe that he is and that is a rewarder of those who come to him’.', 'But there is no reward where there is not freedom.', 'For necessary actions, moreover — Augustine says it well — we neither give credit nor take away credit.', 'Genesis 4[:7] says ‘If you do well, will you not receive?', 'But if you do ill, will sin not be at the door at once?’', 'And the same is gathered from Deuteronomy 30[:11–20].', 'And Sirach 15[:14] says that ‘[God] left him in the hand of his own counsel’.', 'And Sirach 31[:10]: ‘He that could have transgressed and did not transgress; and could do bad things and did not.’', 'And 1 Corinthians 7[:37]: ‘having power of his own will ...’ In addition, Holy Scripture is full of precepts, exhortations, warn- ings, and promises, none of which can be understood without freedom, as St. Augustine well describes in Letter 46.', 'Also, God punishes the wicked—Matthew 25[:41–46]—but if they were not free, they would be punishedwithoutcause.', 'This is amost certain matter of the faith, for the testimony brought up speaks generally.', 'And this truth was established against the Lutherans in the Council of Trent, sess.', '6, cap.', '5 and 6.', '8.', 'This conclusion is also evident to natural reason, which Epictetus followed, who — as Agostino Steuco reports in cap.16 — says: ‘Not only did God give these faculties to us, by which we endure all adversities with dignity ...But because it was of a good king and true father, he give this to us free and unencumbered, not coerced, and he planted and placed each one in us and did not wish any remaining force that could be an impediment.’', 'Furthermore, experience supports the conclusion: for we ourselves see that we act and we cease from that activity when we wish.', 'And in this human beings differ from brute animals and the judicious from the insane.', 'Furthermore, according to the sense of every human being, human operations are deserving of praise and blame, reward and punishment.', 'Andthis is, as it were, a ﬁrst principle of rational nature.', 'Therefore, we are free.', 'Also, human beings are by their nature ﬁt for counsel, admonition, and precepts. [', 'If we were not free], counsel would be vain and laws su- perﬂuous,whichisagainsttheinclinationofnature.', 'Moreover,ifhuman beings are not free, they are not useful, for human beings would always act necessarily, as if counsel were given to brute animals or law imposed on them.', 'Hence, to remove freewill is to destroy the order of the state, of religion, and of piety.', 'Furthermore, it is obvious according to the light of nature that hu- man beings often sin and do evil.', 'Therefore, they act necessarily and are necessitated by nature itself and consequently by the author of that nature to doing evil.', 'The consequent is absurd.', 'Furthermore,human beings by thei rnature are lord of their actions.', 'This lordship consists in being able by their freedom to exercise or not to exercise those actions.', 'Therefore, they are free.', 'The antecedent is proven, for human beings are lords of other things, for every natural reason dictates that human beings are capable of lordship and that it is evil to take away from someone what is his.', 'But that lordship consists in being free to use his things.', 'And lordship over his actions consists in human beings being made in the image of God, as was noted by John Damascene in Fideo lib.', 'II, cap.', '12, and Augustine in Psalm 57.', 'And for this reason after God said ‘let us make humankind in our image and in our likeness’, he added ‘and may he rule’.', 'All these are a posteriori demonstrations.', '9.', 'But in order to demonstrate it a priori, it is necessary to explain in what freedom formally and at root consists.', 'In what was said above: First, this freedom is ﬁtting for human beings in accordance with their being rational, which in no way is ﬁtting for any other animal.', 'This is evidence, therefore, that it is ﬁtting for human beings by reason of that power in which they supersede other animals.', 'The same thing is evident by experience, for human beings do not experience freedom in themselves except insofar as they use reason.', 'Also, since this part is spiritual, freedom belongs to the spiritual part.', 'Hence, St. Thomas in ST IaIIae.1.1 and the Teacher in Sent.', 'II, dist.', '24, cap.', '5, say that freewill in its proper signiﬁcation refers to a certain act, yet the term is carried over to signifying the principle of the act.', 'Hence, it now signiﬁes a power, as St. Thomas noted in ST Ia.83.2.', 'Andtherefore it is called a faculty, namely, natural.', 'For natural faculties are powers.', 'Still, ‘of the will and of reason’ is added, because freedom consists partly in reason and partly in will; in reason as in a root and in will as in a formally free subject.', 'Each claim is proven.', 'For freedom consists formally in the will for it consists formally in indifference of election.', 'A human being is free for thereasonthathecanelecteitherthisorthat.', 'Italsoconsistsinafreeuse of his own operations.', 'But to elect and to use other powers belongs to the will, as is obvious.', 'Therefore, freedom formally belongs to the will.', 'Andeveryoperation is thought free only insofar as it is subjected to the will.', 'But that this freedom arises from reason is obvious in the ﬁrst place, because desire arises from cognition, as was shown above.', 'Therefore, the mode of desire and of that will also arise from the mode and proper- ties of the cognized.', '10.', 'But it is necessary to explain in particular how freedom in the will arises from reason.', 'The Thomists commonly explain that the freedom of the will arises from the indifference of the intellect.', 'For that reason — they say — the will can love something or not love it, because the intellect is not necessitated to judging that thing to be better.', 'Rather, the intellect can ﬁnd some aspect of good and some aspect of bad in the object.', 'St. Thomas seems to teach this view in ST Ia.83.1, where he says that brute animals do not have freedom because they do not act by the judgement of reason.', 'But human beings have free will, because they act by the judgement of reason because it has the power for opposites.', 'It is also proven by reason, for freedom of the will consists in being able to love and not to love an object once proposed as good.', 'But it cannot do this as it pleases.', 'Rather, it can only love it insofar as it ﬁnds some aspect of good and it can only not love it insofar as it ﬁnds some aspect of bad.', 'Therefore, freedom consists in this, namely, that both aspects of good and of bad can be found in the same object.', 'It is conﬁrmed: for if the intellect were to cognize some good in the love for which it could ﬁnd no aspect of bad, the will would not be able not to love it.', 'Therefore.', 'Francis Sylvester of Ferrara holds this view in SCG III, the last chapter, as does Soncinas in Metaphysics IX, q. 14.', 'And from this they infer that the will ought always to elect that which the intellect judges to be better and more agreeable, since it cannot reject something except be- cause it found in it some aspect of bad or of lesser good.', 'Their argument seems to be that the freedom of the will ought to be within the latitude of its object, which is the good.', 'But that way has a difﬁculty, for if this is true, the will is not more free than the intellect.', 'For just as the intellect necessarily assents to the true, so also the will loves the good to which no bad is communicated.', 'And just as the will can fail to love the good because it ﬁnds an aspect of bad, so also the intellect can fail to assent if the true does not appear certain but is mixed with falsity in a certain way.', 'Furthermore, it follows that, absolutely speaking, the will is not free, for it always follows the judgement of the intellect and must elect what the intellect judges to be better.', 'But the intellect is not free.', 'Therefore, neither is the will free.', 'Furthermore, this opinion is soaked in the opinion of Durandus, which almost all theologians disprove, namely, that freedom is formally in the intellect.', 'For insofar as freedom in the will arises from the indifference and freedom of the intellect’s judgement, freedom will be prior andmoreperfectintheintellect.', 'Another way of speaking is that the freedom of the will arises from the intellect, yet not from its indifference but from its perfection and universality.', 'For the intellect surpasses the other sensitive powers in this, namely, that it not just cognizes confusedly that this thing is agreeable, but that it distinctly perceives the aspect of agreeability, by separating it from all the other aspects with which it is conjoined and considering it insofar as it is desirable.', 'And from this perfection of cognition arises the perfection in the desire of the will.', 'For just as the intellect perceives in each thing how much goodness or badness it has, so the will can love it according to the goodness examined in it.', 'And for this reason those things which appear good are not loved necessarily but freely.', 'And all the particular things which occur in this life are of this sort.', 'For partic- ular things are never apprehended as necessary [goods], either because happiness is not placed in that in which it should be placed, because it is not actually considered, or, at least, because numerically these acts and this object are not deemed necessary.', 'From here, therefore, arises the freedom of the will.', 'And therefore whatever particular good is proposed to the will, it can love the good for the sake of the goodness that it has and it can fail to love it because it is not deemed necessary for happiness, at least here and now.', 'But it should be responded that it is one thing [not] to love and another to pursue hatred.30 Not to love implies freedom with respect to exercise.', 'And it is not necessary to ﬁnd an aspect of bad in the object for this; rather, it is sufﬁcient not to ﬁnd a necessary aspect of good.31 But for hatred it is necessary to ﬁnd some aspect of bad.', 'And the ﬁrst view — which should be explained rather than wholly repudiated — points in this direction.', '11.', 'From all of this, an apriori argument for the conclusion: for the will follows the rational and discursive power.', 'Therefore it is free.', 'The conclusion holds because free will follows on the intellect and reason, for, as is proven from what was said, the intellect apprehends the aspects of good and bad and of each thing it judges by what aspect and way it is desirable and good.', 'Therefore, appetite, which follows such cognition, will be able to love each cognized good by that aspect and way by which it is desirable and therefore [it will be able to love] freely.', 'It is conﬁrmed: for desire follows cognition.', 'Therefore, an appeti- tive power in the highest grade follows the cognoscitive power existing in the highest grade, and, therefore, freely.', 'But the intellect is such a power among the cognoscitive powers; therefore, the will among appetitive powers.', '12.', 'Whether the will and free will are really distinguished.', 'From which it is also proven that the will and freewill are the same in thing and na- ture.', 'They are distinguished just like intellect and reason.', 'For just as intellect is called intellect ﬁrst and absolutely, insofar as it understands or insofar as it understands (intuetur) a thing, strictly speaking, but is called reason insofar as it reasons discursively, so also the will is called such either insofar as it wills or insofar as it tends in a simple way to the end, but is called freewill insofar as it turns to means by free election.', '13.', 'In which acts or concerning which objects the will is free.', 'But concerning this conclusion we still need to explain in which acts and concerning which objects the will is free.', 'But this cannot be explained without discussing multiple theological questions at the same time.', 'And for that reason I say brieﬂy that willing with respect to exercise is one thing (it consists in being able to have an act and to cease from that act) and willing with respect to speciﬁcation is another (it consists in being able to have this act or its contrary, either love or hatred, or in being able to love either this thing or its opposite).', 'I say, therefore, that the will is determined with respect to speci- ﬁcation to the good and happiness in general, but not with respect to exercise.', 'The ﬁrst part is proven: for no aspect of bad appears in happiness or in the good in general so that the will could pursue hatred of it.', 'Thesecondpartisproven: for a love of this good or of happiness is never offered in this life as strictly speaking necessary and therefore the will is not necessitated to exercising it.', 'On the other hand, the will is not necessitated to any particular good in this life, neither with respect to exercise (because one does not plainly and clearly see a complete and necessary aspect of good in it) nor with respect to speciﬁcation (because there is no good in this life which is not mixed up with bads and difﬁculties).', 'Hence, the will differs in this respect from the intellect, for the intellect is not free in itself with respect to exercise, but depends on the motion of the will, as was shown above.32 But with respect to speciﬁcation, if the object appears evidently true, the intellect is necessitated to assenting.', 'But the will is not necessitated to loving something even if it appears evidently good.', 'This is because the aspect of truth is only one in kind and so, if a thing has truth, all falsity is excluded.', 'On the other hand, the aspect of goodness is not only one and so one goodness can be mixed up with other aspect of bad.', 'After this life, however, if a hu- manbeing attains the vision of God, it will be necessitated to a love for Godbothwithrespect to exercise and with respect to speciﬁcation.', 'For there no aspect of bad can be found, but always the most supreme and necessary aspect of good.', 'But in all other acts the will is free, as much in election as in intention for the end, although in different ways.', 'For con- cerning means it acts not only freely but with deliberation and counsel.', 'But concerning the end it acts without deliberation.', 'But about all these things one should talk about ST IaIIae, some of q. 1 and some of qq.', '9, 10, and 13.', '14.', 'Response to the ﬁrst and second arguments.', 'From here the so- lution to the ﬁrst and second arguments is proven.', 'I respond that the same power which operates freely concerning some objects can operate naturally and necessarily concerning other objects.', 'This is because it is a higher power and operates according to the exigency of the objects, just as the will of God necessarily loves his essence because that object is wor- thy of being loved that way but loves creatures freely because they are also worthy of being loved in this way.', 'So also our will proportionately.', '15.', 'Response to the third.', 'How God concurs with our will.', 'The third argument begs for a long treatise about the way in which God concurs withourwillinexercisingacts,naturalaswellassupernatural,whilepre- serving our will’s freedom.', 'Many theologians speak about this matter, whichcanbeseeninST Ia.19, 22, and 23 and IaIIae.109.', 'Nevertheless, I brieﬂy say, along with St. Thomas in the mentioned places as well as IaI- Iae.10.3, that since the will is free by its nature, God, since he is inﬁnite in wisdom and power, adjusts himself to the causes of things and concurs with each one in that way which its nature requires.', 'And thus he works with the will without necessitating it but leaving it to determine itself to what it wished and offering assistance and counsel to it.', 'Therefore, I respond to the argument in form, that once everything required has been posited in the ﬁrst act, the will can issue and not issue a second act.', 'For God, for his part, is prepared to concur with the will for the act which it wishes to effect.', 'It is in my power whether God concurs with me or does not concur.', 'And therefore, there is freedom in election.', 'Hence, when it is said that once the divine will is posited, the will cannot not act, it still carries through, nevertheless, that the will acts freely.', 'For that proposition has a compound sense and only posits a conditional necessity.', '16.', 'Response to the fourth.', 'I respond to the fourth argument that the will, when it acts, acts freely strictly speaking.', 'And when it does not act, it freely does not act.', 'For in that same instant in which it could act as far as it is concerned it could also not act.', 'In order to understand this the will should be considered in that instant in which it elicits an act as a nature prior to the act itself.', 'And this power as such freely determines itself to eliciting this act.', 'And after it is already understood under the act, it necessarily is under that act which then is, because the composite has been made.', 'And that is only the necessity of the consequence rather than the necessity of the consequent, since with that the freedom stands strictly speaking.', 'This argument is discussed more extensively in ST Ia.14.13 and 19.7.', 'And in this way freedom also remains.', '17.', 'Response to the ﬁfth. [', 'I respond to] the ﬁfth argument: for God does not know my free acts except insofar as they are in some way present to his eternity.', 'And in that way he knows them to be future, as they are, and his knowledge does not imply necessity except conditionally.', '18.', 'Response to the sixth.', 'The sixth argument introduces another difﬁculty: in what way the heavens have dominion over the operations of our will.', 'Concerning this matter, [see] ST IaIIae.9.5.', 'But this is not the place for discussing it in its entirety.', 'Nevertheless, I say brieﬂy that the heavens have an inﬂuence over the bodies of human being and over all corporeal powers, which intrinsically in their dispositions depend on thedispositionsofthebodies.', 'But,ontheotherhand,theheavensdonot directly have an inﬂuence or dominion over the acts of the intellect and will.', 'For these powers are spiritual and of a higher order, for although our soul is the form of the body it, nevertheless, is not wholly immersed in the body but is raised from the body in some of its acts.', 'Indirectly and, as it were, by consequence, insofar as reason follows sense and will fol- lows appetite, the heavens, inﬂuencing these material powers, indirectly and, as it were, by consequence, draw the will, not directly but by inclin- ing it.', 'Nevertheless, the will can through its freedom resist the inﬂuence of the heavens and have dominion over it.', 'As it is said: ‘A wise person will have dominion over the stars’.', '19.', 'In response to the seventh argument, so that we may oppose the impiety of Luther’s assertion that the concupiscence of the sensitive appetite is always a mortal sin and the will is always necessitated by the disordering of the appetite that remains after sin.', 'But the theologians provokethis and therefore it should be said brieﬂy that appetite and will are two distinct powers following different cognitions.', 'And for this rea- son they are inclined to different things.', 'And one draws the other after itself not by necessitating the other power but by inclining it in some way.', 'Nor is it repugnant that the same soul desire contraries through different powers, especially if it constrains the inclination of one power through the other power.', 'Concerning this matter, see ST IaIIae.9.2.', '20.', 'The eighth argument raises another difﬁculty, namely, whether God necessitates or compels the will.', 'Concerning this matter, [see] St. Thomas, ST Ia.89.1 and IaIIae.6.4.', 'I answer brieﬂy—for it is a theo- logical matter—that although the will of itself is free, it can, nevertheless, be necessitated by God, for ‘the heart of the king is in the hand of God and he can turn it wherever he wishes’.', 'For God is omnipotent and has dominion over the will.', 'Nor is what is brought up in the argument similar.', 'For a thing which operates necessarily is material and of a lower order and for that reason it is incapable of freedom of itself by its own nature.', 'For that reason, freedom cannot be conferred on it by God, for freedom has to be from something intrinsic.', 'For freedom expresses a certain intrinsic dominion over one’s own acts and for that reason it in unintelligible that freedom be attributed to something by an extrinsic thing.', 'But, on the other hand, necessity is from something extrinsic and therefore God can impose necessity on a thing that is free according to its own nature.', 'Nevertheless, God cannot impose violence on the will.', 'For violence express what is contrary to the will and inclination.', 'But the will cannot will something contrary to its own willing, for by the fact that it wills, it already has a willing and inclination to that.', 'And for that reason compulsion in the will implies a contradiction.', 'But there is more to be said about these matters in their places.', '']\n"
     ]
    }
   ],
   "source": [
    "sentences = [item.replace('\\n', \" \") for item in sentences]\n",
    "print (sentences)"
   ]
  },
  {
   "cell_type": "code",
   "execution_count": 136,
   "metadata": {},
   "outputs": [
    {
     "data": {
      "text/html": [
       "<div>\n",
       "<style scoped>\n",
       "    .dataframe tbody tr th:only-of-type {\n",
       "        vertical-align: middle;\n",
       "    }\n",
       "\n",
       "    .dataframe tbody tr th {\n",
       "        vertical-align: top;\n",
       "    }\n",
       "\n",
       "    .dataframe thead th {\n",
       "        text-align: right;\n",
       "    }\n",
       "</style>\n",
       "<table border=\"1\" class=\"dataframe\">\n",
       "  <thead>\n",
       "    <tr style=\"text-align: right;\">\n",
       "      <th></th>\n",
       "      <th>0</th>\n",
       "    </tr>\n",
       "  </thead>\n",
       "  <tbody>\n",
       "    <tr>\n",
       "      <th>0</th>\n",
       "      <td>Whether the will is free in its acts.</td>\n",
       "    </tr>\n",
       "    <tr>\n",
       "      <th>1</th>\n",
       "      <td>1.</td>\n",
       "    </tr>\n",
       "    <tr>\n",
       "      <th>2</th>\n",
       "      <td>After what was said about its object and acts,...</td>\n",
       "    </tr>\n",
       "    <tr>\n",
       "      <th>3</th>\n",
       "      <td>One can, nevertheless, ask whether it is reall...</td>\n",
       "    </tr>\n",
       "    <tr>\n",
       "      <th>4</th>\n",
       "      <td>For many think that intellect and will are dis...</td>\n",
       "    </tr>\n",
       "    <tr>\n",
       "      <th>...</th>\n",
       "      <td>...</td>\n",
       "    </tr>\n",
       "    <tr>\n",
       "      <th>296</th>\n",
       "      <td>For violence express what is contrary to the w...</td>\n",
       "    </tr>\n",
       "    <tr>\n",
       "      <th>297</th>\n",
       "      <td>But the will cannot will something contrary to...</td>\n",
       "    </tr>\n",
       "    <tr>\n",
       "      <th>298</th>\n",
       "      <td>And for that reason compulsion in the will imp...</td>\n",
       "    </tr>\n",
       "    <tr>\n",
       "      <th>299</th>\n",
       "      <td>But there is more to be said about these matte...</td>\n",
       "    </tr>\n",
       "    <tr>\n",
       "      <th>300</th>\n",
       "      <td></td>\n",
       "    </tr>\n",
       "  </tbody>\n",
       "</table>\n",
       "<p>301 rows × 1 columns</p>\n",
       "</div>"
      ],
      "text/plain": [
       "                                                     0\n",
       "0                Whether the will is free in its acts.\n",
       "1                                                   1.\n",
       "2    After what was said about its object and acts,...\n",
       "3    One can, nevertheless, ask whether it is reall...\n",
       "4    For many think that intellect and will are dis...\n",
       "..                                                 ...\n",
       "296  For violence express what is contrary to the w...\n",
       "297  But the will cannot will something contrary to...\n",
       "298  And for that reason compulsion in the will imp...\n",
       "299  But there is more to be said about these matte...\n",
       "300                                                   \n",
       "\n",
       "[301 rows x 1 columns]"
      ]
     },
     "execution_count": 136,
     "metadata": {},
     "output_type": "execute_result"
    }
   ],
   "source": [
    "df = pd.DataFrame(sentences) \n",
    "df "
   ]
  },
  {
   "cell_type": "markdown",
   "metadata": {},
   "source": [
    "**2. Analysis**"
   ]
  },
  {
   "cell_type": "code",
   "execution_count": 137,
   "metadata": {},
   "outputs": [],
   "source": [
    "from spacy.matcher import Matcher"
   ]
  },
  {
   "cell_type": "code",
   "execution_count": 138,
   "metadata": {},
   "outputs": [],
   "source": [
    "nlp = spacy.load(\"en_core_web_sm\")\n",
    "\n",
    "doc_sentence = nlp(sample)"
   ]
  },
  {
   "cell_type": "code",
   "execution_count": 139,
   "metadata": {
    "scrolled": true
   },
   "outputs": [],
   "source": [
    "matcher = Matcher(nlp.vocab)\n",
    "pattern = [{\"LEMMA\":\"soul\"}]\n",
    "matcher.add(\"Soul_PATTERN\", None, pattern)\n",
    "matches = matcher(doc_sentence)"
   ]
  },
  {
   "cell_type": "code",
   "execution_count": 140,
   "metadata": {},
   "outputs": [
    {
     "name": "stdout",
     "output_type": "stream",
     "text": [
      "Total matches found: 10\n",
      "Match found: soul 833 837\n",
      "Match found: soul 3189 3193\n",
      "Match found: soul 3400 3404\n",
      "Match found: soul 3592 3596\n",
      "Match found: soul 3690 3694\n",
      "Match found: soul 3739 3743\n",
      "Match found: soul 4310 4314\n",
      "Match found: souls 5043 5048\n",
      "Match found: soul 25898 25902\n",
      "Match found: soul 27068 27072\n"
     ]
    }
   ],
   "source": [
    "print(\"Total matches found:\", len(matches))\n",
    "\n",
    "for match_id, start, end in matches:\n",
    "    span = doc[start: end]\n",
    "    print(\"Match found:\", doc[start:end].text, span.start_char, span.end_char)"
   ]
  },
  {
   "cell_type": "code",
   "execution_count": 141,
   "metadata": {},
   "outputs": [
    {
     "data": {
      "text/html": [
       "<div>\n",
       "<style scoped>\n",
       "    .dataframe tbody tr th:only-of-type {\n",
       "        vertical-align: middle;\n",
       "    }\n",
       "\n",
       "    .dataframe tbody tr th {\n",
       "        vertical-align: top;\n",
       "    }\n",
       "\n",
       "    .dataframe thead th {\n",
       "        text-align: right;\n",
       "    }\n",
       "</style>\n",
       "<table border=\"1\" class=\"dataframe\">\n",
       "  <thead>\n",
       "    <tr style=\"text-align: right;\">\n",
       "      <th></th>\n",
       "      <th>0</th>\n",
       "      <th>1</th>\n",
       "      <th>2</th>\n",
       "    </tr>\n",
       "  </thead>\n",
       "  <tbody>\n",
       "    <tr>\n",
       "      <th>0</th>\n",
       "      <td>14564036968997165607</td>\n",
       "      <td>184</td>\n",
       "      <td>185</td>\n",
       "    </tr>\n",
       "    <tr>\n",
       "      <th>1</th>\n",
       "      <td>14564036968997165607</td>\n",
       "      <td>712</td>\n",
       "      <td>713</td>\n",
       "    </tr>\n",
       "    <tr>\n",
       "      <th>2</th>\n",
       "      <td>14564036968997165607</td>\n",
       "      <td>758</td>\n",
       "      <td>759</td>\n",
       "    </tr>\n",
       "    <tr>\n",
       "      <th>3</th>\n",
       "      <td>14564036968997165607</td>\n",
       "      <td>798</td>\n",
       "      <td>799</td>\n",
       "    </tr>\n",
       "    <tr>\n",
       "      <th>4</th>\n",
       "      <td>14564036968997165607</td>\n",
       "      <td>820</td>\n",
       "      <td>821</td>\n",
       "    </tr>\n",
       "    <tr>\n",
       "      <th>5</th>\n",
       "      <td>14564036968997165607</td>\n",
       "      <td>831</td>\n",
       "      <td>832</td>\n",
       "    </tr>\n",
       "    <tr>\n",
       "      <th>6</th>\n",
       "      <td>14564036968997165607</td>\n",
       "      <td>956</td>\n",
       "      <td>957</td>\n",
       "    </tr>\n",
       "    <tr>\n",
       "      <th>7</th>\n",
       "      <td>14564036968997165607</td>\n",
       "      <td>1125</td>\n",
       "      <td>1126</td>\n",
       "    </tr>\n",
       "    <tr>\n",
       "      <th>8</th>\n",
       "      <td>14564036968997165607</td>\n",
       "      <td>5668</td>\n",
       "      <td>5669</td>\n",
       "    </tr>\n",
       "    <tr>\n",
       "      <th>9</th>\n",
       "      <td>14564036968997165607</td>\n",
       "      <td>5914</td>\n",
       "      <td>5915</td>\n",
       "    </tr>\n",
       "  </tbody>\n",
       "</table>\n",
       "</div>"
      ],
      "text/plain": [
       "                      0     1     2\n",
       "0  14564036968997165607   184   185\n",
       "1  14564036968997165607   712   713\n",
       "2  14564036968997165607   758   759\n",
       "3  14564036968997165607   798   799\n",
       "4  14564036968997165607   820   821\n",
       "5  14564036968997165607   831   832\n",
       "6  14564036968997165607   956   957\n",
       "7  14564036968997165607  1125  1126\n",
       "8  14564036968997165607  5668  5669\n",
       "9  14564036968997165607  5914  5915"
      ]
     },
     "execution_count": 141,
     "metadata": {},
     "output_type": "execute_result"
    }
   ],
   "source": [
    "df = pd.DataFrame(matches) \n",
    "df "
   ]
  },
  {
   "cell_type": "code",
   "execution_count": 142,
   "metadata": {},
   "outputs": [],
   "source": [
    "sents = [sent for sent in doc.sents]"
   ]
  },
  {
   "cell_type": "code",
   "execution_count": 143,
   "metadata": {},
   "outputs": [
    {
     "name": "stdout",
     "output_type": "stream",
     "text": [
      "\n",
      "And, of course, having supposed that they are really distinguished from\n",
      "the essence [of the soul], it is much more probable that they are also [re-\n",
      "ally] distinguished from each other.\n"
     ]
    }
   ],
   "source": [
    "for sent in sents:\n",
    "    if matches[0][1] < sent.end:\n",
    "        print(sent)\n",
    "        break"
   ]
  },
  {
   "cell_type": "code",
   "execution_count": 144,
   "metadata": {},
   "outputs": [
    {
     "name": "stdout",
     "output_type": "stream",
     "text": [
      "\n",
      "Sixth, because our soul is the form of the body.\n"
     ]
    }
   ],
   "source": [
    "for sent in sents:\n",
    "    if matches[1][1] < sent.end:\n",
    "        print(sent)\n",
    "        break"
   ]
  },
  {
   "cell_type": "code",
   "execution_count": 145,
   "metadata": {},
   "outputs": [
    {
     "name": "stdout",
     "output_type": "stream",
     "text": [
      "Therefore, just as other forms\n",
      "depend on the heavens in their operations and follow inﬂuence from it,\n",
      "so also our soul and will.\n"
     ]
    }
   ],
   "source": [
    "for sent in sents:\n",
    "    if matches[2][1] < sent.end:\n",
    "        print(sent)\n",
    "        break"
   ]
  },
  {
   "cell_type": "code",
   "execution_count": 146,
   "metadata": {},
   "outputs": [
    {
     "name": "stdout",
     "output_type": "stream",
     "text": [
      "\n",
      "Seventh, will and sensitive appetite are powers rooted in the same\n",
      "soul.\n"
     ]
    }
   ],
   "source": [
    "for sent in sents:\n",
    "    if matches[3][1] < sent.end:\n",
    "        print(sent)\n",
    "        break"
   ]
  },
  {
   "cell_type": "code",
   "execution_count": 147,
   "metadata": {},
   "outputs": [
    {
     "name": "stdout",
     "output_type": "stream",
     "text": [
      "For it is the same soul desiring in either case.\n"
     ]
    }
   ],
   "source": [
    "for sent in sents:\n",
    "    if matches[4][1] < sent.end:\n",
    "        print(sent)\n",
    "        break"
   ]
  },
  {
   "cell_type": "code",
   "execution_count": 148,
   "metadata": {},
   "outputs": [
    {
     "name": "stdout",
     "output_type": "stream",
     "text": [
      "Moreover, the\n",
      "same soul cannot at the same time desire contraries.\n"
     ]
    }
   ],
   "source": [
    "for sent in sents:\n",
    "    if matches[5][1] < sent.end:\n",
    "        print(sent)\n",
    "        break"
   ]
  },
  {
   "cell_type": "code",
   "execution_count": 149,
   "metadata": {},
   "outputs": [
    {
     "name": "stdout",
     "output_type": "stream",
     "text": [
      "All the ancient pagans who asserted that our soul is material\n",
      "and mortal especially erred in this question.\n"
     ]
    }
   ],
   "source": [
    "for sent in sents:\n",
    "    if matches[6][1] < sent.end:\n",
    "        print(sent)\n",
    "        break"
   ]
  },
  {
   "cell_type": "code",
   "execution_count": 150,
   "metadata": {},
   "outputs": [
    {
     "name": "stdout",
     "output_type": "stream",
     "text": [
      "Just as they posited two gods, one\n",
      "the principle of goods, the other of bads, so also they posited two souls\n",
      "in us, one which necessitates to good, the other to bad.\n"
     ]
    }
   ],
   "source": [
    "for sent in sents:\n",
    "    if matches[7][1] < sent.end:\n",
    "        print(sent)\n",
    "        break"
   ]
  },
  {
   "cell_type": "code",
   "execution_count": 151,
   "metadata": {},
   "outputs": [
    {
     "name": "stdout",
     "output_type": "stream",
     "text": [
      "For these powers are spiritual and of a higher order, for although\n",
      "our soul is the form of the body it, nevertheless, is not wholly immersed\n",
      "in the body but is raised from the body in some of its acts.\n"
     ]
    }
   ],
   "source": [
    "for sent in sents:\n",
    "    if matches[8][1] < sent.end:\n",
    "        print(sent)\n",
    "        break"
   ]
  },
  {
   "cell_type": "code",
   "execution_count": 152,
   "metadata": {},
   "outputs": [
    {
     "name": "stdout",
     "output_type": "stream",
     "text": [
      "Nor is it repugnant that the same soul desire contraries through\n",
      "different powers, especially if it constrains the inclination of one power\n",
      "through the other power.\n"
     ]
    }
   ],
   "source": [
    "for sent in sents:\n",
    "    if matches[9][1] < sent.end:\n",
    "        print(sent)\n",
    "        break"
   ]
  },
  {
   "cell_type": "code",
   "execution_count": null,
   "metadata": {},
   "outputs": [],
   "source": []
  }
 ],
 "metadata": {
  "kernelspec": {
   "display_name": "Python 3",
   "language": "python",
   "name": "python3"
  },
  "language_info": {
   "codemirror_mode": {
    "name": "ipython",
    "version": 3
   },
   "file_extension": ".py",
   "mimetype": "text/x-python",
   "name": "python",
   "nbconvert_exporter": "python",
   "pygments_lexer": "ipython3",
   "version": "3.7.6"
  }
 },
 "nbformat": 4,
 "nbformat_minor": 4
}
