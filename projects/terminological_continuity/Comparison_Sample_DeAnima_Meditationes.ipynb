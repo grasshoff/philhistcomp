{
 "cells": [
  {
   "cell_type": "markdown",
   "metadata": {},
   "source": [
    "### Comparing semantic similarity between Penner's English translation of Suárez' *De Anima, Disputation 12, Question 2* and Haldane's English translation of Descartes' *Meditationes* with respect to characterisation of term *soul*  "
   ]
  },
  {
   "cell_type": "markdown",
   "metadata": {},
   "source": [
    "**1. Comparing set of sentences**"
   ]
  },
  {
   "cell_type": "code",
   "execution_count": 9,
   "metadata": {},
   "outputs": [],
   "source": [
    "import pandas as pd\n",
    "import re\n",
    "import spacy"
   ]
  },
  {
   "cell_type": "code",
   "execution_count": 10,
   "metadata": {},
   "outputs": [
    {
     "data": {
      "text/plain": [
       "['And, of course, having supposed that they are really distinguished from\\nthe essence [of the soul], it is much more probable that they are also \\n[really] distinguished from each other.',\n",
       " 'Sixth, because our soul is the form of the body.',\n",
       " 'Therefore, just as other forms\\ndepend on the heavens in their operations and follow inﬂuence from it,\\nso also our soul and will.',\n",
       " 'Seventh, will and sensitive appetite are powers rooted in the same\\nsoul.',\n",
       " 'For it is the same soul desiring in either case.',\n",
       " 'Moreover, the\\nsame soul cannot at the same time desire contraries.',\n",
       " 'All the ancient pagans who asserted that our soul is material\\nand mortal especially erred in this question.',\n",
       " 'Just as they posited two gods, one\\nthe principle of goods, the other of bads, so also they posited two souls\\nin us, one which necessitates to good, the other to bad.',\n",
       " 'For these powers are spiritual and of a higher order, for although our soul is the \\nform of the body it, nevertheless, is not wholly immersed in the body but is raised \\nfrom the body in some of its acts.',\n",
       " 'Nor is it repugnant that the same soul desire contraries through different powers, \\nespecially if it constrains the inclination of one power through the other power.']"
      ]
     },
     "execution_count": 10,
     "metadata": {},
     "output_type": "execute_result"
    }
   ],
   "source": [
    "DeAnima_Soul = open('DeAnima_soul.txt', encoding=\"utf8\")\n",
    "sample_DeAnima_Soul = DeAnima_Soul.read()\n",
    "\n",
    "from spacy.lang.en import English\n",
    "\n",
    "raw_text_1 = sample_DeAnima_Soul\n",
    "nlp = English()\n",
    "nlp.add_pipe(nlp.create_pipe('sentencizer'))\n",
    "doc_DeAnima_soul = nlp(raw_text_1)\n",
    "sentences = [sent.string.strip() for sent in doc_DeAnima_soul.sents]\n",
    "\n",
    "sentences"
   ]
  },
  {
   "cell_type": "code",
   "execution_count": 11,
   "metadata": {},
   "outputs": [
    {
     "name": "stdout",
     "output_type": "stream",
     "text": [
      "['And, of course, having supposed that they are really distinguished from the essence [of the soul], it is much more probable that they are also  [really] distinguished from each other.', 'Sixth, because our soul is the form of the body.', 'Therefore, just as other forms depend on the heavens in their operations and follow inﬂuence from it, so also our soul and will.', 'Seventh, will and sensitive appetite are powers rooted in the same soul.', 'For it is the same soul desiring in either case.', 'Moreover, the same soul cannot at the same time desire contraries.', 'All the ancient pagans who asserted that our soul is material and mortal especially erred in this question.', 'Just as they posited two gods, one the principle of goods, the other of bads, so also they posited two souls in us, one which necessitates to good, the other to bad.', 'For these powers are spiritual and of a higher order, for although our soul is the  form of the body it, nevertheless, is not wholly immersed in the body but is raised  from the body in some of its acts.', 'Nor is it repugnant that the same soul desire contraries through different powers,  especially if it constrains the inclination of one power through the other power.']\n"
     ]
    }
   ],
   "source": [
    "sentences = [item.replace('\\n', \" \") for item in sentences]\n",
    "print (sentences)"
   ]
  },
  {
   "cell_type": "code",
   "execution_count": 12,
   "metadata": {},
   "outputs": [
    {
     "data": {
      "text/plain": [
       "['In addition to this I considered that I was nourished, that I walked, that I\\nfelt, and that I thought, and I referred all these actions to\\nthe soul:  but I did not stop to consider what the soul was,\\nor if I did stop, I imagined that it was something extremely\\nrare and subtle like a wind, a flame, or an ether, which was\\nspread throughout my grosser parts.',\n",
       " 'Let us pass to the attributes of soul and see if there is any one which is in me?',\n",
       " 'I do not now admit anything which is not necessarily true:  to\\nspeak accurately I am not more than a thing which thinks, that\\nis to say a mind or a soul, or an understanding, or a reason,\\nwhich are terms whose significance was formerly unknown to me.',\n",
       " 'And although possibly (or rather certainly, as I shall say in a\\nmoment) I possess a body with which I am very intimately\\nconjoined, yet because, on the one side, I have a clear and\\ndistinct idea of myself inasmuch as I am only a thinking and\\nunextended thing, and as, on the other, I possess a distinct\\nidea of body, inasmuch as it is only an extended and\\nunthinking thing, it is certain that this I [that is to say,\\nmy soul by which I am what I am], is entirely and absolutely\\ndistinct from my body, and can exist without it.',\n",
       " 'And also from the fact that amongst these different sense-perceptions some\\nare very agreeable to me and others disagreeable, it is quite\\ncertain that my body (or rather myself in my entirety,\\ninasmuch as I am formed of body and soul) may receive\\ndifferent impressions agreeable and disagreeable from the\\nother bodies which surround it.',\n",
       " 'But certainly although in regard to the dropsical body it\\nis only so to speak to apply an extrinsic term when we say\\nthat its nature is corrupted, inasmuch as apart from the need\\nto drink, the throat is parched; yet in regard to the\\ncomposite whole, that is to say, to the mind or soul united to\\nthis body, it is not a purely verbal predicate, but a real\\nerror of nature, for it to have thirst when drinking would be\\nhurtful to it.',\n",
       " 'But it is quite otherwise with corporeal or extended objects, for there is not one of these\\nimaginable by me which my mind cannot easily divide into\\nparts, and which consequently I do not recognise as being\\ndivisible; this would be sufficient to teach me that the mind\\nor soul of man is entirely different from the body, if I had\\nnot already learned it from other sources.',\n",
       " '']"
      ]
     },
     "execution_count": 12,
     "metadata": {},
     "output_type": "execute_result"
    }
   ],
   "source": [
    "Meditationes_Soul = open('Meditationes_soul.txt', encoding=\"utf8\")\n",
    "sample_Meditationes_Soul = Meditationes_Soul.read()\n",
    "\n",
    "from spacy.lang.en import English\n",
    "\n",
    "raw_text_2 = sample_Meditationes_Soul\n",
    "nlp = English()\n",
    "nlp.add_pipe(nlp.create_pipe('sentencizer'))\n",
    "doc_Meditationes_soul = nlp(raw_text_2)\n",
    "sentences = [sent.string.strip() for sent in doc_Meditationes_soul.sents]\n",
    "\n",
    "sentences"
   ]
  },
  {
   "cell_type": "code",
   "execution_count": 13,
   "metadata": {},
   "outputs": [
    {
     "name": "stdout",
     "output_type": "stream",
     "text": [
      "['In addition to this I considered that I was nourished, that I walked, that I felt, and that I thought, and I referred all these actions to the soul:  but I did not stop to consider what the soul was, or if I did stop, I imagined that it was something extremely rare and subtle like a wind, a flame, or an ether, which was spread throughout my grosser parts.', 'Let us pass to the attributes of soul and see if there is any one which is in me?', 'I do not now admit anything which is not necessarily true:  to speak accurately I am not more than a thing which thinks, that is to say a mind or a soul, or an understanding, or a reason, which are terms whose significance was formerly unknown to me.', 'And although possibly (or rather certainly, as I shall say in a moment) I possess a body with which I am very intimately conjoined, yet because, on the one side, I have a clear and distinct idea of myself inasmuch as I am only a thinking and unextended thing, and as, on the other, I possess a distinct idea of body, inasmuch as it is only an extended and unthinking thing, it is certain that this I [that is to say, my soul by which I am what I am], is entirely and absolutely distinct from my body, and can exist without it.', 'And also from the fact that amongst these different sense-perceptions some are very agreeable to me and others disagreeable, it is quite certain that my body (or rather myself in my entirety, inasmuch as I am formed of body and soul) may receive different impressions agreeable and disagreeable from the other bodies which surround it.', 'But certainly although in regard to the dropsical body it is only so to speak to apply an extrinsic term when we say that its nature is corrupted, inasmuch as apart from the need to drink, the throat is parched; yet in regard to the composite whole, that is to say, to the mind or soul united to this body, it is not a purely verbal predicate, but a real error of nature, for it to have thirst when drinking would be hurtful to it.', 'But it is quite otherwise with corporeal or extended objects, for there is not one of these imaginable by me which my mind cannot easily divide into parts, and which consequently I do not recognise as being divisible; this would be sufficient to teach me that the mind or soul of man is entirely different from the body, if I had not already learned it from other sources.', '']\n"
     ]
    }
   ],
   "source": [
    "sentences = [item.replace('\\n', \" \") for item in sentences]\n",
    "print (sentences)"
   ]
  },
  {
   "cell_type": "code",
   "execution_count": 14,
   "metadata": {},
   "outputs": [],
   "source": [
    "nlp = spacy.load(\"en_core_web_md\")"
   ]
  },
  {
   "cell_type": "code",
   "execution_count": 21,
   "metadata": {},
   "outputs": [
    {
     "name": "stdout",
     "output_type": "stream",
     "text": [
      "0.9781099410397767\n"
     ]
    }
   ],
   "source": [
    "doc_DeAnima_soul = nlp(raw_text_1)\n",
    "doc_Meditationes_soul = nlp(raw_text_2)\n",
    "\n",
    "similarity = doc_DeAnima_soul.similarity(doc_Meditationes_soul)\n",
    "print(similarity)"
   ]
  },
  {
   "cell_type": "markdown",
   "metadata": {},
   "source": [
    "**Comments**: as predicted in *ideal_strategy*, comparing semantic similarity between entire sets of relevant sentences yields high degree of similarity since *all* sentences are dealing with the term \"soul\". Hence, this method is inadequate for the present purpose and was only carried out for educational reasons, i.e. in order to improve my understanding of the operation. \n",
    "\n",
    "Furthermore, I am less interested in the *absolute* degree of semantic similarity (which I regard as rather meaningless) than in the degree of semantic similarity *relative to* another degree of semantic similarity. One can then ask: is the degree of semantic similarity of comparison A (significantly) higher than the degee of semantic similarity of comparison B? This requires taking into account a third doc_object, i.e. the writings of Ockham, which - however - will not be done as long as the methodological problems encountered so far have not been solved. It must also be clarified what it means for a degree of similarity to be *significantly* higher than another one. "
   ]
  },
  {
   "cell_type": "markdown",
   "metadata": {},
   "source": [
    "**2. Comparing set of adjectives and verbs**"
   ]
  },
  {
   "cell_type": "code",
   "execution_count": 1,
   "metadata": {},
   "outputs": [
    {
     "data": {
      "text/plain": [
       "['distinguished\\nprobable\\nother\\nSixth\\nother\\nSeventh\\nsensitive\\nsame\\nsame\\nsame\\nsame\\nancient\\nmaterial\\nother\\nother\\nbad\\nspiritual\\nhigher\\nrepugnant\\nsame\\ndifferent\\nother\\n\\nhaving\\nsupposed\\ndistinguished\\ndepend\\nfollow\\nrooted\\ndesiring\\ncan\\nasserted\\nerred\\nposited\\nposited\\nnecessitates\\nimmersed\\nraised\\ndesire\\nconstrains']"
      ]
     },
     "execution_count": 1,
     "metadata": {},
     "output_type": "execute_result"
    }
   ],
   "source": [
    "DeAnima_AdjVrb = open('DeAnima_AdjVrb.txt', encoding=\"utf8\")\n",
    "sample_DeAnima_AdjVrb = DeAnima_AdjVrb.read()\n",
    "\n",
    "from spacy.lang.en import English\n",
    "\n",
    "raw_text_1 = sample_DeAnima_AdjVrb\n",
    "nlp = English()\n",
    "nlp.add_pipe(nlp.create_pipe('sentencizer'))\n",
    "doc_DeAnima_AdjVrb = nlp(raw_text_1)\n",
    "sentences = [sent.string.strip() for sent in doc_DeAnima_AdjVrb.sents]\n",
    "\n",
    "sentences"
   ]
  },
  {
   "cell_type": "code",
   "execution_count": 2,
   "metadata": {},
   "outputs": [
    {
     "name": "stdout",
     "output_type": "stream",
     "text": [
      "['distinguished, probable, other, Sixth, other, Seventh, sensitive, same, same, same, same, ancient, material, other, other, bad, spiritual, higher, repugnant, same, different, other, , having, supposed, distinguished, depend, follow, rooted, desiring, can, asserted, erred, posited, posited, necessitates, immersed, raised, desire, constrains']\n"
     ]
    }
   ],
   "source": [
    "sentences = [item.replace('\\n', \", \") for item in sentences]\n",
    "print (sentences)"
   ]
  },
  {
   "cell_type": "code",
   "execution_count": 3,
   "metadata": {},
   "outputs": [
    {
     "data": {
      "text/plain": [
       "['distinguished\\nprobable\\nother\\nSixth\\nother\\nSeventh\\nsensitive\\nsame\\nsame\\nsame\\nsame\\nancient\\nmaterial\\nother\\nother\\nbad\\nspiritual\\nhigher\\nrepugnant\\nsame\\ndifferent\\nother\\n\\nhaving\\nsupposed\\ndistinguished\\ndepend\\nfollow\\nrooted\\ndesiring\\ncan\\nasserted\\nerred\\nposited\\nposited\\nnecessitates\\nimmersed\\nraised\\ndesire\\nconstrains']"
      ]
     },
     "execution_count": 3,
     "metadata": {},
     "output_type": "execute_result"
    }
   ],
   "source": [
    "Meditationes_AdjVrb = open('Meditationes_AdjVrb.txt', encoding=\"utf8\")\n",
    "sample_Meditationes_AdjVrb = Meditationes_AdjVrb.read()\n",
    "\n",
    "from spacy.lang.en import English\n",
    "\n",
    "raw_text_2 = sample_Meditationes_AdjVrb\n",
    "nlp = English()\n",
    "nlp.add_pipe(nlp.create_pipe('sentencizer'))\n",
    "doc_Meditationes_AdjVrb = nlp(raw_text_1)\n",
    "sentences = [sent.string.strip() for sent in doc_Meditationes_AdjVrb.sents]\n",
    "\n",
    "sentences"
   ]
  },
  {
   "cell_type": "code",
   "execution_count": null,
   "metadata": {},
   "outputs": [],
   "source": []
  },
  {
   "cell_type": "code",
   "execution_count": null,
   "metadata": {},
   "outputs": [],
   "source": []
  },
  {
   "cell_type": "markdown",
   "metadata": {},
   "source": [
    "**Comment**: as I have not yet figured out how to extract only those adjectives and verbs that stand in *direct relation* to term \"soul\", the present operation compares semantic similarity between *all* adjectives and verbs used in the sentences in which a match has been found. The degree of semantic similarity (and the comparison as such) is thus meaningless and was, again, only carried out for educational reasons. \n",
    "\n",
    "Furthermore, as already indicated in the *Analysis_Sample*-notebooks, finding a method for extracting only the adjectives and verbs directly connected to the term \"soul\" will not solve the problem since the characterisation of the term \"soul\" is far more complex than this, i.e. it goes beyond the simple analysis of those adjectives and verbs."
   ]
  },
  {
   "cell_type": "code",
   "execution_count": null,
   "metadata": {},
   "outputs": [],
   "source": []
  }
 ],
 "metadata": {
  "kernelspec": {
   "display_name": "Python 3",
   "language": "python",
   "name": "python3"
  },
  "language_info": {
   "codemirror_mode": {
    "name": "ipython",
    "version": 3
   },
   "file_extension": ".py",
   "mimetype": "text/x-python",
   "name": "python",
   "nbconvert_exporter": "python",
   "pygments_lexer": "ipython3",
   "version": "3.7.6"
  }
 },
 "nbformat": 4,
 "nbformat_minor": 4
}
