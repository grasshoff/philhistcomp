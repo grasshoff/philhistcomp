{
 "cells": [
  {
   "cell_type": "markdown",
   "metadata": {},
   "source": [
    "Importieren der relevanten Packages\n",
    "======================================"
   ]
  },
  {
   "cell_type": "code",
   "execution_count": 1,
   "metadata": {},
   "outputs": [],
   "source": [
    "import numpy as np\n",
    "import pandas as pd\n",
    "import matplotlib.pyplot as plt\n",
    "import scipy.stats as stats\n",
    "from scipy.stats import chi2"
   ]
  },
  {
   "cell_type": "markdown",
   "metadata": {},
   "source": [
    "Importieren der öffentlich zugänglichen Daten von Awad et al. (2019)\n",
    "===================================================================="
   ]
  },
  {
   "cell_type": "code",
   "execution_count": 4,
   "metadata": {},
   "outputs": [
    {
     "data": {
      "text/html": [
       "<div>\n",
       "<style scoped>\n",
       "    .dataframe tbody tr th:only-of-type {\n",
       "        vertical-align: middle;\n",
       "    }\n",
       "\n",
       "    .dataframe tbody tr th {\n",
       "        vertical-align: top;\n",
       "    }\n",
       "\n",
       "    .dataframe thead th {\n",
       "        text-align: right;\n",
       "    }\n",
       "</style>\n",
       "<table border=\"1\" class=\"dataframe\">\n",
       "  <thead>\n",
       "    <tr style=\"text-align: right;\">\n",
       "      <th></th>\n",
       "      <th>UserIP_Anonymized</th>\n",
       "      <th>Scenario</th>\n",
       "      <th>survey.age</th>\n",
       "      <th>survey.gender</th>\n",
       "      <th>survey.education</th>\n",
       "      <th>survey.political</th>\n",
       "      <th>survey.religious</th>\n",
       "      <th>country_code</th>\n",
       "      <th>Outcome</th>\n",
       "      <th>Continent</th>\n",
       "    </tr>\n",
       "  </thead>\n",
       "  <tbody>\n",
       "    <tr>\n",
       "      <th>0</th>\n",
       "      <td>0002ae2d</td>\n",
       "      <td>Footbridge</td>\n",
       "      <td>19</td>\n",
       "      <td>Women</td>\n",
       "      <td>College</td>\n",
       "      <td>0.56</td>\n",
       "      <td>0.00</td>\n",
       "      <td>GB</td>\n",
       "      <td>0</td>\n",
       "      <td>Europe</td>\n",
       "    </tr>\n",
       "    <tr>\n",
       "      <th>1</th>\n",
       "      <td>0002ae2d</td>\n",
       "      <td>Loop</td>\n",
       "      <td>19</td>\n",
       "      <td>Women</td>\n",
       "      <td>College</td>\n",
       "      <td>0.56</td>\n",
       "      <td>0.00</td>\n",
       "      <td>GB</td>\n",
       "      <td>1</td>\n",
       "      <td>Europe</td>\n",
       "    </tr>\n",
       "    <tr>\n",
       "      <th>2</th>\n",
       "      <td>0002ae2d</td>\n",
       "      <td>Switch</td>\n",
       "      <td>19</td>\n",
       "      <td>Women</td>\n",
       "      <td>College</td>\n",
       "      <td>0.56</td>\n",
       "      <td>0.00</td>\n",
       "      <td>GB</td>\n",
       "      <td>1</td>\n",
       "      <td>Europe</td>\n",
       "    </tr>\n",
       "    <tr>\n",
       "      <th>3</th>\n",
       "      <td>00065336</td>\n",
       "      <td>Footbridge</td>\n",
       "      <td>19</td>\n",
       "      <td>Men</td>\n",
       "      <td>College</td>\n",
       "      <td>0.00</td>\n",
       "      <td>0.68</td>\n",
       "      <td>FR</td>\n",
       "      <td>1</td>\n",
       "      <td>Europe</td>\n",
       "    </tr>\n",
       "    <tr>\n",
       "      <th>4</th>\n",
       "      <td>00065336</td>\n",
       "      <td>Loop</td>\n",
       "      <td>19</td>\n",
       "      <td>Men</td>\n",
       "      <td>College</td>\n",
       "      <td>0.00</td>\n",
       "      <td>0.68</td>\n",
       "      <td>FR</td>\n",
       "      <td>0</td>\n",
       "      <td>Europe</td>\n",
       "    </tr>\n",
       "    <tr>\n",
       "      <th>...</th>\n",
       "      <td>...</td>\n",
       "      <td>...</td>\n",
       "      <td>...</td>\n",
       "      <td>...</td>\n",
       "      <td>...</td>\n",
       "      <td>...</td>\n",
       "      <td>...</td>\n",
       "      <td>...</td>\n",
       "      <td>...</td>\n",
       "      <td>...</td>\n",
       "    </tr>\n",
       "    <tr>\n",
       "      <th>59154</th>\n",
       "      <td>ffef6123</td>\n",
       "      <td>Footbridge</td>\n",
       "      <td>27</td>\n",
       "      <td>Men</td>\n",
       "      <td>College</td>\n",
       "      <td>0.34</td>\n",
       "      <td>0.53</td>\n",
       "      <td>SG</td>\n",
       "      <td>0</td>\n",
       "      <td>Asia</td>\n",
       "    </tr>\n",
       "    <tr>\n",
       "      <th>59155</th>\n",
       "      <td>ffef6123</td>\n",
       "      <td>Loop</td>\n",
       "      <td>23</td>\n",
       "      <td>Men</td>\n",
       "      <td>College</td>\n",
       "      <td>1.00</td>\n",
       "      <td>0.00</td>\n",
       "      <td>SG</td>\n",
       "      <td>1</td>\n",
       "      <td>Asia</td>\n",
       "    </tr>\n",
       "    <tr>\n",
       "      <th>59156</th>\n",
       "      <td>ffef6123</td>\n",
       "      <td>Loop</td>\n",
       "      <td>27</td>\n",
       "      <td>Men</td>\n",
       "      <td>College</td>\n",
       "      <td>0.34</td>\n",
       "      <td>0.53</td>\n",
       "      <td>SG</td>\n",
       "      <td>1</td>\n",
       "      <td>Asia</td>\n",
       "    </tr>\n",
       "    <tr>\n",
       "      <th>59157</th>\n",
       "      <td>ffef6123</td>\n",
       "      <td>Switch</td>\n",
       "      <td>23</td>\n",
       "      <td>Men</td>\n",
       "      <td>College</td>\n",
       "      <td>1.00</td>\n",
       "      <td>0.00</td>\n",
       "      <td>SG</td>\n",
       "      <td>1</td>\n",
       "      <td>Asia</td>\n",
       "    </tr>\n",
       "    <tr>\n",
       "      <th>59158</th>\n",
       "      <td>ffef6123</td>\n",
       "      <td>Switch</td>\n",
       "      <td>27</td>\n",
       "      <td>Men</td>\n",
       "      <td>College</td>\n",
       "      <td>0.34</td>\n",
       "      <td>0.53</td>\n",
       "      <td>SG</td>\n",
       "      <td>1</td>\n",
       "      <td>Asia</td>\n",
       "    </tr>\n",
       "  </tbody>\n",
       "</table>\n",
       "<p>59159 rows × 10 columns</p>\n",
       "</div>"
      ],
      "text/plain": [
       "      UserIP_Anonymized    Scenario  survey.age survey.gender  \\\n",
       "0              0002ae2d  Footbridge          19         Women   \n",
       "1              0002ae2d        Loop          19         Women   \n",
       "2              0002ae2d      Switch          19         Women   \n",
       "3              00065336  Footbridge          19           Men   \n",
       "4              00065336        Loop          19           Men   \n",
       "...                 ...         ...         ...           ...   \n",
       "59154          ffef6123  Footbridge          27           Men   \n",
       "59155          ffef6123        Loop          23           Men   \n",
       "59156          ffef6123        Loop          27           Men   \n",
       "59157          ffef6123      Switch          23           Men   \n",
       "59158          ffef6123      Switch          27           Men   \n",
       "\n",
       "      survey.education  survey.political  survey.religious country_code  \\\n",
       "0              College              0.56              0.00           GB   \n",
       "1              College              0.56              0.00           GB   \n",
       "2              College              0.56              0.00           GB   \n",
       "3              College              0.00              0.68           FR   \n",
       "4              College              0.00              0.68           FR   \n",
       "...                ...               ...               ...          ...   \n",
       "59154          College              0.34              0.53           SG   \n",
       "59155          College              1.00              0.00           SG   \n",
       "59156          College              0.34              0.53           SG   \n",
       "59157          College              1.00              0.00           SG   \n",
       "59158          College              0.34              0.53           SG   \n",
       "\n",
       "       Outcome Continent  \n",
       "0            0    Europe  \n",
       "1            1    Europe  \n",
       "2            1    Europe  \n",
       "3            1    Europe  \n",
       "4            0    Europe  \n",
       "...        ...       ...  \n",
       "59154        0      Asia  \n",
       "59155        1      Asia  \n",
       "59156        1      Asia  \n",
       "59157        1      Asia  \n",
       "59158        1      Asia  \n",
       "\n",
       "[59159 rows x 10 columns]"
      ]
     },
     "execution_count": 4,
     "metadata": {},
     "output_type": "execute_result"
    }
   ],
   "source": [
    "trolley_data = pd.read_csv('Shared_data_responses_demographics.csv')\n",
    "trolley_data"
   ]
  },
  {
   "cell_type": "markdown",
   "metadata": {},
   "source": [
    "Filtern der Daten nach Teilnehmern aus Deutschland, die Antworten bezüglich des klassischen Trolley Szenarios (\"Switch\") gegeben haben\n",
    "=================================================="
   ]
  },
  {
   "cell_type": "code",
   "execution_count": 14,
   "metadata": {},
   "outputs": [],
   "source": [
    "data_DE = trolley_data.loc[(trolley_data['Scenario'] == 'Switch') & (trolley_data['country_code'] == 'DE')]"
   ]
  },
  {
   "cell_type": "markdown",
   "metadata": {},
   "source": [
    "Erstellung einer Matrix zur Darstellung der für die Beantwortung der Forschungsfrage relevanten Daten\n",
    "================================================================================================="
   ]
  },
  {
   "cell_type": "code",
   "execution_count": 15,
   "metadata": {},
   "outputs": [
    {
     "name": "stdout",
     "output_type": "stream",
     "text": [
      "Outcome          0     1\n",
      "survey.gender           \n",
      "Men            226  1232\n",
      "Women           53   359\n"
     ]
    }
   ],
   "source": [
    "dataset_table = pd.crosstab(data_DE['survey.gender'], data_DE['Outcome'])\n",
    "print(dataset_table)"
   ]
  },
  {
   "cell_type": "markdown",
   "metadata": {},
   "source": [
    "Anwenden des Chi² Tests zur Prüfung von H<sub>0</sub>\n",
    "========================================================"
   ]
  },
  {
   "cell_type": "markdown",
   "metadata": {},
   "source": [
    "H<sub>0</sub>: Die Variablen \"Geschlecht\" und \"gegebene Antwort\" sind unabhängig <br>\n",
    "-----------------------------------------------------------------------\n",
    "H<sub>1</sub>: Die Variablen \"Geschlecht\" und \"gegebene Antwort\" sind nicht unabhängig\n",
    "-----------------------------------------------------------------------"
   ]
  },
  {
   "cell_type": "markdown",
   "metadata": {},
   "source": [
    "$\\chi^2$-Formel:\n",
    "===============\n",
    "$\\chi^2=\\sum\\frac{(o-e)^2}{e}$\n",
    "------------------------------"
   ]
  },
  {
   "cell_type": "code",
   "execution_count": 27,
   "metadata": {},
   "outputs": [
    {
     "name": "stdout",
     "output_type": "stream",
     "text": [
      "Beobachtete Häufigkeiten:\n",
      " [[ 226 1232]\n",
      " [  53  359]]\n"
     ]
    }
   ],
   "source": [
    "#Beobachtete Häufigkeiten (o):\n",
    "Observed_Values = dataset_table.values\n",
    "print(\"Beobachtete Häufigkeiten:\\n\", Observed_Values)"
   ]
  },
  {
   "cell_type": "code",
   "execution_count": 30,
   "metadata": {},
   "outputs": [
    {
     "name": "stdout",
     "output_type": "stream",
     "text": [
      "Erwartete Häufigkeiten:\n",
      " [[ 217.53048128 1240.46951872]\n",
      " [  61.46951872  350.53048128]]\n"
     ]
    }
   ],
   "source": [
    "#Erwartete Häufigkeiten (e):\n",
    "val=stats.chi2_contingency(dataset_table)\n",
    "Expected_Values=val[3]\n",
    "print(\"Erwartete Häufigkeiten:\\n\", Expected_Values)"
   ]
  },
  {
   "cell_type": "code",
   "execution_count": 35,
   "metadata": {},
   "outputs": [
    {
     "name": "stdout",
     "output_type": "stream",
     "text": [
      "chi-Quadrat Wert: 1.7591916738204885\n"
     ]
    }
   ],
   "source": [
    "#Ermitteln des Chi²-Werts:\n",
    "chi_square=sum([(o-e)**2./e for o,e in zip(Observed_Values, Expected_Values)])\n",
    "chi_square_statistic=chi_square[0]+chi_square[1]\n",
    "print(\"Chi-Quadrat Wert:\", chi_square_statistic)"
   ]
  },
  {
   "cell_type": "markdown",
   "metadata": {},
   "source": [
    "Prüfen von H<sub>0</sub> durch Intepretation des berechneten $\\chi^2$-Werts:\n",
    "--------------------------"
   ]
  },
  {
   "cell_type": "code",
   "execution_count": 34,
   "metadata": {},
   "outputs": [
    {
     "name": "stdout",
     "output_type": "stream",
     "text": [
      "Freiheitsgrad: 1\n",
      "Signifikanzniveau: 0.05\n"
     ]
    }
   ],
   "source": [
    "# Ermitteln des Freiheitsgrades:\n",
    "no_of_rows=len(dataset_table.iloc[0:2,0])\n",
    "no_of_columns=len(dataset_table.iloc[0,0:2])\n",
    "dof=(no_of_rows-1)*(no_of_columns-1)\n",
    "print(\"Freiheitsgrad:\", dof)\n",
    "#Festlegen des Signifikanzniveaus (\"alpha\" auf 0.05):\n",
    "alpha = 0.05\n",
    "print(\"Signifikanzniveau:\", alpha)"
   ]
  },
  {
   "cell_type": "code",
   "execution_count": 37,
   "metadata": {},
   "outputs": [
    {
     "name": "stdout",
     "output_type": "stream",
     "text": [
      "kritischer Chi²-Wert: 3.841458820694124\n"
     ]
    }
   ],
   "source": [
    "#Bestimmen des kritischen Chi²-Werts in Abhängigkeit des Freiheitsgrades und des Signifikanzniveaus:\n",
    "critical_value=chi2.ppf(q=1-alpha, df=dof)\n",
    "print(\"kritischer Chi²-Wert:\", critical_value)"
   ]
  },
  {
   "cell_type": "code",
   "execution_count": 38,
   "metadata": {},
   "outputs": [
    {
     "name": "stdout",
     "output_type": "stream",
     "text": [
      "H0 kann nicht verworfen werden, es besteht kein Zusammenhang zwischen den zwei Variablen\n"
     ]
    }
   ],
   "source": [
    "#Prüfen von H0:\n",
    "if chi_square_statistic>=critical_value:\n",
    "    print(\"H0 verwerfen,es besteht ein Zusammenhang zwischen den zwei kategorischen Variablen\")\n",
    "else:\n",
    "          print(\"H0 kann nicht verworfen werden, es besteht kein Zusammenhang zwischen den zwei Variablen\")"
   ]
  },
  {
   "cell_type": "markdown",
   "metadata": {},
   "source": [
    "Beantwortung der Forschungsfrage und Darstellung der Ergebnisse\n",
    "================================\n",
    "<br> Nach Anwendung des Chi² Tests kann geschlossen werden, dass mit 95%iger Wahrscheinlichkeit bei deutschen Teilnehmern kein Zusammenhang zwischen dem Geschlecht und der gegebenen Antwort beim klassischen Trolley-Dilemma Gedankenexperiment besteht. Ein Problem besteht bezüglich der Aussagekraft der Daten, da - wie im Folgenden dargestellt - Frauen unterrepräsentiert sind. Vgl. hierzu auch Awad et al. (2019)."
   ]
  },
  {
   "cell_type": "code",
   "execution_count": 133,
   "metadata": {},
   "outputs": [
    {
     "ename": "AttributeError",
     "evalue": "module 'matplotlib.pyplot' has no attribute 'closefig'",
     "output_type": "error",
     "traceback": [
      "\u001b[1;31m---------------------------------------------------------------------------\u001b[0m",
      "\u001b[1;31mAttributeError\u001b[0m                            Traceback (most recent call last)",
      "\u001b[1;32m<ipython-input-133-67ac6822055e>\u001b[0m in \u001b[0;36m<module>\u001b[1;34m\u001b[0m\n\u001b[0;32m     12\u001b[0m \u001b[0max\u001b[0m\u001b[1;33m.\u001b[0m\u001b[0mlegend\u001b[0m\u001b[1;33m(\u001b[0m\u001b[1;33m[\u001b[0m\u001b[1;34m'Männer'\u001b[0m\u001b[1;33m,\u001b[0m \u001b[1;34m'Frauen'\u001b[0m\u001b[1;33m]\u001b[0m\u001b[1;33m)\u001b[0m\u001b[1;33m\u001b[0m\u001b[1;33m\u001b[0m\u001b[0m\n\u001b[0;32m     13\u001b[0m \u001b[0max\u001b[0m\u001b[1;33m.\u001b[0m\u001b[0mset_title\u001b[0m\u001b[1;33m(\u001b[0m\u001b[1;34m'Absolute Häufigkeiten positiver bzw. negativer Antworten \\n auf das klassische Trolley Dilemma, aufgeteilt nach Geschlecht'\u001b[0m\u001b[1;33m,\u001b[0m \u001b[0mfontsize\u001b[0m\u001b[1;33m=\u001b[0m\u001b[1;34m'x-large'\u001b[0m\u001b[1;33m)\u001b[0m\u001b[1;33m\u001b[0m\u001b[1;33m\u001b[0m\u001b[0m\n\u001b[1;32m---> 14\u001b[1;33m \u001b[0mplt\u001b[0m\u001b[1;33m.\u001b[0m\u001b[0mclosefig\u001b[0m\u001b[1;33m\u001b[0m\u001b[1;33m\u001b[0m\u001b[0m\n\u001b[0m",
      "\u001b[1;31mAttributeError\u001b[0m: module 'matplotlib.pyplot' has no attribute 'closefig'"
     ]
    },
    {
     "data": {
      "image/png": "[encoded data removed]",
      "text/plain": [
       "<Figure size 432x288 with 1 Axes>"
      ]
     },
     "metadata": {
      "needs_background": "light"
     },
     "output_type": "display_data"
    }
   ],
   "source": [
    "fig=plt.figure()\n",
    "ax=fig.add_axes([0,0,1,1])\n",
    "X = np.arange(2)\n",
    "data= [[226, 1232], [53, 359]]\n",
    "ax.bar(X + 0.00, data[0], color='b', width=0.25)\n",
    "ax.bar(X + 0.25, data[1], color='r', width=0.25)\n",
    "ax.set_ylabel('Absolute Häufigkeit')\n",
    "plt.xticks([0.125,1.125], ['negative Antwort', 'positive Antwort'])\n",
    "ax.set_yticks([0,100,200,300,400,500,600,700,800,900,1000,1100,1200,1300])\n",
    "ax.yaxis.grid()\n",
    "ax.set_axisbelow(True)\n",
    "ax.legend(['Männer', 'Frauen'])\n",
    "ax.set_title('Absolute Häufigkeiten positiver bzw. negativer Antworten \\n auf das klassische Trolley Dilemma, aufgeteilt nach Geschlecht', fontsize='x-large')"
   ]
  },
  {
   "cell_type": "code",
   "execution_count": 134,
   "metadata": {},
   "outputs": [
    {
     "data": {
      "image/png": "[encoded data removed]",
      "text/plain": [
       "<Figure size 432x288 with 1 Axes>"
      ]
     },
     "metadata": {
      "needs_background": "light"
     },
     "output_type": "display_data"
    }
   ],
   "source": [
    "fig2=plt.figure()\n",
    "ax2=fig2.add_axes([0,0,1,1])\n",
    "X2 = np.arange(2)\n",
    "data2= [[226/(226+1232)*100, 1232/(226+1232)*100], [53/(53+359)*100, 359/(53+359)*100]]\n",
    "ax2.bar(X2 + 0.00, data2[0], color='b', width=0.25)\n",
    "ax2.bar(X2 + 0.25, data2[1], color='r', width=0.25)\n",
    "ax2.set_ylabel('relative Häufigkeit in %')\n",
    "plt.xticks([0.125,1.125], ['negative Antwort', 'positive Antwort'])\n",
    "ax2.set_yticks([0,10,20,30,40,50,60,70,80,90,100])\n",
    "ax2.yaxis.grid()\n",
    "ax2.set_axisbelow(True)\n",
    "ax2.legend(['Männer', 'Frauen'])\n",
    "ax2.set_title('Relative Häufigkeiten positiver bzw. negativer Antworten \\n auf das klassische Trolley Dilemma, aufgeteilt nach Geschlecht', fontsize='x-large')"
   ]
  }
 ],
 "metadata": {
  "kernelspec": {
   "display_name": "Python 3",
   "language": "python",
   "name": "python3"
  },
  "language_info": {
   "codemirror_mode": {
    "name": "ipython",
    "version": 3
   },
   "file_extension": ".py",
   "mimetype": "text/x-python",
   "name": "python",
   "nbconvert_exporter": "python",
   "pygments_lexer": "ipython3",
   "version": "3.7.6"
  }
 },
 "nbformat": 4,
 "nbformat_minor": 4
}
