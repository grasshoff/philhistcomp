{
 "cells": [
  {
   "cell_type": "code",
   "execution_count": 122,
   "metadata": {},
   "outputs": [],
   "source": [
    "##Importieren der benötigten libraries\n",
    "\n",
    "import numpy as np\n",
    "\n",
    "import pandas as pd\n",
    "\n",
    "from pandas import Series, DataFrame\n",
    "\n",
    "import matplotlib.pyplot as plt\n",
    "\n",
    "import scipy.stats as stats\n",
    "\n",
    "from scipy.stats import chi2\n",
    "import math"
   ]
  },
  {
   "cell_type": "code",
   "execution_count": 2,
   "metadata": {},
   "outputs": [
    {
     "data": {
      "text/html": [
       "<div>\n",
       "<style scoped>\n",
       "    .dataframe tbody tr th:only-of-type {\n",
       "        vertical-align: middle;\n",
       "    }\n",
       "\n",
       "    .dataframe tbody tr th {\n",
       "        vertical-align: top;\n",
       "    }\n",
       "\n",
       "    .dataframe thead th {\n",
       "        text-align: right;\n",
       "    }\n",
       "</style>\n",
       "<table border=\"1\" class=\"dataframe\">\n",
       "  <thead>\n",
       "    <tr style=\"text-align: right;\">\n",
       "      <th></th>\n",
       "      <th>UserIP_Anonymized</th>\n",
       "      <th>Scenario</th>\n",
       "      <th>survey.age</th>\n",
       "      <th>survey.gender</th>\n",
       "      <th>survey.education</th>\n",
       "      <th>survey.political</th>\n",
       "      <th>survey.religious</th>\n",
       "      <th>country_code</th>\n",
       "      <th>Outcome</th>\n",
       "      <th>Continent</th>\n",
       "    </tr>\n",
       "  </thead>\n",
       "  <tbody>\n",
       "    <tr>\n",
       "      <th>0</th>\n",
       "      <td>0002ae2d</td>\n",
       "      <td>Footbridge</td>\n",
       "      <td>19</td>\n",
       "      <td>Women</td>\n",
       "      <td>College</td>\n",
       "      <td>0.56</td>\n",
       "      <td>0.00</td>\n",
       "      <td>GB</td>\n",
       "      <td>0</td>\n",
       "      <td>Europe</td>\n",
       "    </tr>\n",
       "    <tr>\n",
       "      <th>1</th>\n",
       "      <td>0002ae2d</td>\n",
       "      <td>Loop</td>\n",
       "      <td>19</td>\n",
       "      <td>Women</td>\n",
       "      <td>College</td>\n",
       "      <td>0.56</td>\n",
       "      <td>0.00</td>\n",
       "      <td>GB</td>\n",
       "      <td>1</td>\n",
       "      <td>Europe</td>\n",
       "    </tr>\n",
       "    <tr>\n",
       "      <th>2</th>\n",
       "      <td>0002ae2d</td>\n",
       "      <td>Switch</td>\n",
       "      <td>19</td>\n",
       "      <td>Women</td>\n",
       "      <td>College</td>\n",
       "      <td>0.56</td>\n",
       "      <td>0.00</td>\n",
       "      <td>GB</td>\n",
       "      <td>1</td>\n",
       "      <td>Europe</td>\n",
       "    </tr>\n",
       "    <tr>\n",
       "      <th>3</th>\n",
       "      <td>00065336</td>\n",
       "      <td>Footbridge</td>\n",
       "      <td>19</td>\n",
       "      <td>Men</td>\n",
       "      <td>College</td>\n",
       "      <td>0.00</td>\n",
       "      <td>0.68</td>\n",
       "      <td>FR</td>\n",
       "      <td>1</td>\n",
       "      <td>Europe</td>\n",
       "    </tr>\n",
       "    <tr>\n",
       "      <th>4</th>\n",
       "      <td>00065336</td>\n",
       "      <td>Loop</td>\n",
       "      <td>19</td>\n",
       "      <td>Men</td>\n",
       "      <td>College</td>\n",
       "      <td>0.00</td>\n",
       "      <td>0.68</td>\n",
       "      <td>FR</td>\n",
       "      <td>0</td>\n",
       "      <td>Europe</td>\n",
       "    </tr>\n",
       "    <tr>\n",
       "      <th>...</th>\n",
       "      <td>...</td>\n",
       "      <td>...</td>\n",
       "      <td>...</td>\n",
       "      <td>...</td>\n",
       "      <td>...</td>\n",
       "      <td>...</td>\n",
       "      <td>...</td>\n",
       "      <td>...</td>\n",
       "      <td>...</td>\n",
       "      <td>...</td>\n",
       "    </tr>\n",
       "    <tr>\n",
       "      <th>59154</th>\n",
       "      <td>ffef6123</td>\n",
       "      <td>Footbridge</td>\n",
       "      <td>27</td>\n",
       "      <td>Men</td>\n",
       "      <td>College</td>\n",
       "      <td>0.34</td>\n",
       "      <td>0.53</td>\n",
       "      <td>SG</td>\n",
       "      <td>0</td>\n",
       "      <td>Asia</td>\n",
       "    </tr>\n",
       "    <tr>\n",
       "      <th>59155</th>\n",
       "      <td>ffef6123</td>\n",
       "      <td>Loop</td>\n",
       "      <td>23</td>\n",
       "      <td>Men</td>\n",
       "      <td>College</td>\n",
       "      <td>1.00</td>\n",
       "      <td>0.00</td>\n",
       "      <td>SG</td>\n",
       "      <td>1</td>\n",
       "      <td>Asia</td>\n",
       "    </tr>\n",
       "    <tr>\n",
       "      <th>59156</th>\n",
       "      <td>ffef6123</td>\n",
       "      <td>Loop</td>\n",
       "      <td>27</td>\n",
       "      <td>Men</td>\n",
       "      <td>College</td>\n",
       "      <td>0.34</td>\n",
       "      <td>0.53</td>\n",
       "      <td>SG</td>\n",
       "      <td>1</td>\n",
       "      <td>Asia</td>\n",
       "    </tr>\n",
       "    <tr>\n",
       "      <th>59157</th>\n",
       "      <td>ffef6123</td>\n",
       "      <td>Switch</td>\n",
       "      <td>23</td>\n",
       "      <td>Men</td>\n",
       "      <td>College</td>\n",
       "      <td>1.00</td>\n",
       "      <td>0.00</td>\n",
       "      <td>SG</td>\n",
       "      <td>1</td>\n",
       "      <td>Asia</td>\n",
       "    </tr>\n",
       "    <tr>\n",
       "      <th>59158</th>\n",
       "      <td>ffef6123</td>\n",
       "      <td>Switch</td>\n",
       "      <td>27</td>\n",
       "      <td>Men</td>\n",
       "      <td>College</td>\n",
       "      <td>0.34</td>\n",
       "      <td>0.53</td>\n",
       "      <td>SG</td>\n",
       "      <td>1</td>\n",
       "      <td>Asia</td>\n",
       "    </tr>\n",
       "  </tbody>\n",
       "</table>\n",
       "<p>59159 rows × 10 columns</p>\n",
       "</div>"
      ],
      "text/plain": [
       "      UserIP_Anonymized    Scenario  survey.age survey.gender  \\\n",
       "0              0002ae2d  Footbridge          19         Women   \n",
       "1              0002ae2d        Loop          19         Women   \n",
       "2              0002ae2d      Switch          19         Women   \n",
       "3              00065336  Footbridge          19           Men   \n",
       "4              00065336        Loop          19           Men   \n",
       "...                 ...         ...         ...           ...   \n",
       "59154          ffef6123  Footbridge          27           Men   \n",
       "59155          ffef6123        Loop          23           Men   \n",
       "59156          ffef6123        Loop          27           Men   \n",
       "59157          ffef6123      Switch          23           Men   \n",
       "59158          ffef6123      Switch          27           Men   \n",
       "\n",
       "      survey.education  survey.political  survey.religious country_code  \\\n",
       "0              College              0.56              0.00           GB   \n",
       "1              College              0.56              0.00           GB   \n",
       "2              College              0.56              0.00           GB   \n",
       "3              College              0.00              0.68           FR   \n",
       "4              College              0.00              0.68           FR   \n",
       "...                ...               ...               ...          ...   \n",
       "59154          College              0.34              0.53           SG   \n",
       "59155          College              1.00              0.00           SG   \n",
       "59156          College              0.34              0.53           SG   \n",
       "59157          College              1.00              0.00           SG   \n",
       "59158          College              0.34              0.53           SG   \n",
       "\n",
       "       Outcome Continent  \n",
       "0            0    Europe  \n",
       "1            1    Europe  \n",
       "2            1    Europe  \n",
       "3            1    Europe  \n",
       "4            0    Europe  \n",
       "...        ...       ...  \n",
       "59154        0      Asia  \n",
       "59155        1      Asia  \n",
       "59156        1      Asia  \n",
       "59157        1      Asia  \n",
       "59158        1      Asia  \n",
       "\n",
       "[59159 rows x 10 columns]"
      ]
     },
     "execution_count": 2,
     "metadata": {},
     "output_type": "execute_result"
    }
   ],
   "source": [
    "#Open Source Daten im csv Format aus der Studie von Awad et al. (2019) importieren\n",
    "trolley_data = pd.read_csv('Shared_data_responses_demographics.csv')\n",
    "trolley_data"
   ]
  },
  {
   "cell_type": "code",
   "execution_count": 149,
   "metadata": {},
   "outputs": [],
   "source": [
    "##Filtern der Daten nach den relevanten Kriterien\n",
    "data_DE_Switch = trolley_data.loc[(trolley_data['Scenario'] == 'Switch') & (trolley_data['country_code'] == 'DE')]"
   ]
  },
  {
   "cell_type": "code",
   "execution_count": 150,
   "metadata": {},
   "outputs": [],
   "source": [
    "##Bereinigung des Datensatzes für einen besseren Überblick\n",
    "del data_DE_Switch ['UserIP_Anonymized']\n",
    "del data_DE_Switch ['survey.age']\n",
    "del data_DE_Switch ['survey.education']\n",
    "del data_DE_Switch ['survey.political']\n",
    "del data_DE_Switch ['survey.religious']\n",
    "del data_DE_Switch ['Continent']"
   ]
  },
  {
   "cell_type": "code",
   "execution_count": 151,
   "metadata": {},
   "outputs": [
    {
     "data": {
      "text/html": [
       "<div>\n",
       "<style scoped>\n",
       "    .dataframe tbody tr th:only-of-type {\n",
       "        vertical-align: middle;\n",
       "    }\n",
       "\n",
       "    .dataframe tbody tr th {\n",
       "        vertical-align: top;\n",
       "    }\n",
       "\n",
       "    .dataframe thead th {\n",
       "        text-align: right;\n",
       "    }\n",
       "</style>\n",
       "<table border=\"1\" class=\"dataframe\">\n",
       "  <thead>\n",
       "    <tr style=\"text-align: right;\">\n",
       "      <th></th>\n",
       "      <th>Scenario</th>\n",
       "      <th>survey.gender</th>\n",
       "      <th>country_code</th>\n",
       "      <th>Outcome</th>\n",
       "    </tr>\n",
       "  </thead>\n",
       "  <tbody>\n",
       "    <tr>\n",
       "      <th>33</th>\n",
       "      <td>Switch</td>\n",
       "      <td>Men</td>\n",
       "      <td>DE</td>\n",
       "      <td>1</td>\n",
       "    </tr>\n",
       "    <tr>\n",
       "      <th>96</th>\n",
       "      <td>Switch</td>\n",
       "      <td>Men</td>\n",
       "      <td>DE</td>\n",
       "      <td>1</td>\n",
       "    </tr>\n",
       "    <tr>\n",
       "      <th>105</th>\n",
       "      <td>Switch</td>\n",
       "      <td>Men</td>\n",
       "      <td>DE</td>\n",
       "      <td>1</td>\n",
       "    </tr>\n",
       "    <tr>\n",
       "      <th>114</th>\n",
       "      <td>Switch</td>\n",
       "      <td>Men</td>\n",
       "      <td>DE</td>\n",
       "      <td>1</td>\n",
       "    </tr>\n",
       "    <tr>\n",
       "      <th>120</th>\n",
       "      <td>Switch</td>\n",
       "      <td>Men</td>\n",
       "      <td>DE</td>\n",
       "      <td>1</td>\n",
       "    </tr>\n",
       "    <tr>\n",
       "      <th>...</th>\n",
       "      <td>...</td>\n",
       "      <td>...</td>\n",
       "      <td>...</td>\n",
       "      <td>...</td>\n",
       "    </tr>\n",
       "    <tr>\n",
       "      <th>58841</th>\n",
       "      <td>Switch</td>\n",
       "      <td>Women</td>\n",
       "      <td>DE</td>\n",
       "      <td>1</td>\n",
       "    </tr>\n",
       "    <tr>\n",
       "      <th>58887</th>\n",
       "      <td>Switch</td>\n",
       "      <td>Men</td>\n",
       "      <td>DE</td>\n",
       "      <td>1</td>\n",
       "    </tr>\n",
       "    <tr>\n",
       "      <th>58929</th>\n",
       "      <td>Switch</td>\n",
       "      <td>Men</td>\n",
       "      <td>DE</td>\n",
       "      <td>0</td>\n",
       "    </tr>\n",
       "    <tr>\n",
       "      <th>59002</th>\n",
       "      <td>Switch</td>\n",
       "      <td>Men</td>\n",
       "      <td>DE</td>\n",
       "      <td>1</td>\n",
       "    </tr>\n",
       "    <tr>\n",
       "      <th>59097</th>\n",
       "      <td>Switch</td>\n",
       "      <td>Women</td>\n",
       "      <td>DE</td>\n",
       "      <td>1</td>\n",
       "    </tr>\n",
       "  </tbody>\n",
       "</table>\n",
       "<p>1870 rows × 4 columns</p>\n",
       "</div>"
      ],
      "text/plain": [
       "      Scenario survey.gender country_code  Outcome\n",
       "33      Switch           Men           DE        1\n",
       "96      Switch           Men           DE        1\n",
       "105     Switch           Men           DE        1\n",
       "114     Switch           Men           DE        1\n",
       "120     Switch           Men           DE        1\n",
       "...        ...           ...          ...      ...\n",
       "58841   Switch         Women           DE        1\n",
       "58887   Switch           Men           DE        1\n",
       "58929   Switch           Men           DE        0\n",
       "59002   Switch           Men           DE        1\n",
       "59097   Switch         Women           DE        1\n",
       "\n",
       "[1870 rows x 4 columns]"
      ]
     },
     "execution_count": 151,
     "metadata": {},
     "output_type": "execute_result"
    }
   ],
   "source": [
    "data_DE_Switch"
   ]
  },
  {
   "cell_type": "markdown",
   "metadata": {},
   "source": [
    "Erstellen einer Kontingenztafel mit den relevanten Daten zur Vorbereitung des $\\chi^2$-Tests\n",
    "-------------------------------"
   ]
  },
  {
   "cell_type": "code",
   "execution_count": 6,
   "metadata": {},
   "outputs": [
    {
     "data": {
      "text/html": [
       "<div>\n",
       "<style scoped>\n",
       "    .dataframe tbody tr th:only-of-type {\n",
       "        vertical-align: middle;\n",
       "    }\n",
       "\n",
       "    .dataframe tbody tr th {\n",
       "        vertical-align: top;\n",
       "    }\n",
       "\n",
       "    .dataframe thead th {\n",
       "        text-align: right;\n",
       "    }\n",
       "</style>\n",
       "<table border=\"1\" class=\"dataframe\">\n",
       "  <thead>\n",
       "    <tr style=\"text-align: right;\">\n",
       "      <th>Outcome</th>\n",
       "      <th>0</th>\n",
       "      <th>1</th>\n",
       "    </tr>\n",
       "    <tr>\n",
       "      <th>survey.gender</th>\n",
       "      <th></th>\n",
       "      <th></th>\n",
       "    </tr>\n",
       "  </thead>\n",
       "  <tbody>\n",
       "    <tr>\n",
       "      <th>Men</th>\n",
       "      <td>226</td>\n",
       "      <td>1232</td>\n",
       "    </tr>\n",
       "    <tr>\n",
       "      <th>Women</th>\n",
       "      <td>53</td>\n",
       "      <td>359</td>\n",
       "    </tr>\n",
       "  </tbody>\n",
       "</table>\n",
       "</div>"
      ],
      "text/plain": [
       "Outcome          0     1\n",
       "survey.gender           \n",
       "Men            226  1232\n",
       "Women           53   359"
      ]
     },
     "execution_count": 6,
     "metadata": {},
     "output_type": "execute_result"
    }
   ],
   "source": [
    "Kontingenztafel = pd.crosstab(data_DE_Switch['survey.gender'], data_DE_Switch['Outcome'])\n",
    "Kontingenztafel"
   ]
  },
  {
   "cell_type": "markdown",
   "metadata": {},
   "source": [
    "Bestimmen der beobachteten Häufigkeiten, der erwarteten Häufigkeiten und des Freiheitsgrades\n",
    "-------------------------------------"
   ]
  },
  {
   "cell_type": "code",
   "execution_count": 7,
   "metadata": {},
   "outputs": [
    {
     "name": "stdout",
     "output_type": "stream",
     "text": [
      "Beobachtete Häufigkeiten: \n",
      " [[ 226 1232]\n",
      " [  53  359]]\n"
     ]
    }
   ],
   "source": [
    "Beobachtete Häufigkeiten = Kontingenztafel.values\n",
    "print(\"Beobachtete Häufigkeiten: \\n\", Beobachtete_Häufigkeiten)"
   ]
  },
  {
   "cell_type": "code",
   "execution_count": 11,
   "metadata": {},
   "outputs": [
    {
     "name": "stdout",
     "output_type": "stream",
     "text": [
      "Erwartete Häufigkeiten: \n",
      " [[ 217.53048128 1240.46951872]\n",
      " [  61.46951872  350.53048128]]\n"
     ]
    }
   ],
   "source": [
    "Werte = stats.chi2_contingency(Kontingenztafel)\n",
    "print(\"Erwartete Häufigkeiten: \\n\", Werte[3])\n",
    "Erwartete_Häufigkeiten = Werte[3]"
   ]
  },
  {
   "cell_type": "code",
   "execution_count": 12,
   "metadata": {},
   "outputs": [
    {
     "name": "stdout",
     "output_type": "stream",
     "text": [
      "Freiheitsgrad: 1\n"
     ]
    }
   ],
   "source": [
    "Anzahl_Zeilen=len(Kontingenztafel.iloc[0:2, 0])\n",
    "Anzahl_Spalten=len(Kontingenztafel.iloc[0, 0:2])\n",
    "Freiheitsgrad=(Anzahl_Zeilen-1)*(Anzahl_Spalten-1)\n",
    "print(\"Freiheitsgrad:\", Freiheitsgrad)"
   ]
  },
  {
   "cell_type": "markdown",
   "metadata": {},
   "source": [
    "Einfügen der berechneten Werte in die $\\chi^2$-Formel\n",
    "------------------------------------------------------"
   ]
  },
  {
   "cell_type": "code",
   "execution_count": 13,
   "metadata": {},
   "outputs": [
    {
     "name": "stdout",
     "output_type": "stream",
     "text": [
      "Chi-Quadrat Wert: 1.7591916738204885\n"
     ]
    }
   ],
   "source": [
    "chi_Quadrat=sum([(b-e)**2./e for b,e in zip(Beobachtete_Häufigkeiten, Erwartete_Häufigkeiten)])\n",
    "chi_Quadrat_Wert=chi_Quadrat[0]+chi_Quadrat[1]\n",
    "print(\"Chi-Quadrat Wert:\", chi_Quadrat_Wert)"
   ]
  },
  {
   "cell_type": "markdown",
   "metadata": {},
   "source": [
    "Prüfung der Nullhypothese mittels Abgleich des p-Werts mit dem Signifikanzniveau\n",
    "-----------------------------------------------------------------------------"
   ]
  },
  {
   "cell_type": "markdown",
   "metadata": {},
   "source": [
    "**H<sub>0</sub>(Nullhypothese)**: Es besteht kein statistisch relevanter Zusammenhang zwischen Geschlecht und gegebener Antwort <br>\n",
    "**H<sub>1</sub>(Arbeitshypothese)**: Es besteht ein statistisch relevanter Zusammenhang zwischen Geschlecht und gegebener Antwort"
   ]
  },
  {
   "cell_type": "code",
   "execution_count": 14,
   "metadata": {},
   "outputs": [
    {
     "name": "stdout",
     "output_type": "stream",
     "text": [
      "P-Wert: 0.1847253709582406\n"
     ]
    }
   ],
   "source": [
    "Signifikanzniveau=0.05\n",
    "P_Wert=1-chi2.cdf(x=chi_Quadrat_Wert, df=Freiheitsgrad)\n",
    "print(\"P-Wert:\", P_Wert)"
   ]
  },
  {
   "cell_type": "code",
   "execution_count": 152,
   "metadata": {},
   "outputs": [
    {
     "name": "stdout",
     "output_type": "stream",
     "text": [
      "Signifikanzniveau: 0.05\n",
      "Das Ergebnis des Chi-Quadrat-Tests lässt nach wissenschaftlichen Standards keine Verwerfung der Nullhypothese zu\n"
     ]
    }
   ],
   "source": [
    "print(\"Signifikanzniveau:\", Signifikanzniveau)\n",
    "if P_Wert<=Signifikanzniveau:\n",
    "    print(\"Das Ergebnis des Chi-Quadrat-Tests lässt nach wissenschaftlichen Standards eine Verwerfung der Nullhypothese zu\")\n",
    "else: print(\"Das Ergebnis des Chi-Quadrat-Tests lässt nach wissenschaftlichen Standards keine Verwerfung der Nullhypothese zu\")"
   ]
  },
  {
   "cell_type": "markdown",
   "metadata": {},
   "source": [
    "Berechnung des Phi-Koeffizienten\n",
    "--------------------------------"
   ]
  },
  {
   "cell_type": "code",
   "execution_count": 143,
   "metadata": {},
   "outputs": [
    {
     "name": "stdout",
     "output_type": "stream",
     "text": [
      "Der Phi-Koeffizient drückt aus, dass kein Zusammenhang zwischen Geschlecht und getroffener Entscheidung besteht\n",
      "Phi-Koeffizient der Kontingenztafel: 0.030671553768910887\n"
     ]
    }
   ],
   "source": [
    "Phi=math.sqrt(chi_Quadrat_Wert/(226+1232+53+359))\n",
    "if Phi >0.2 or Phi <-0.2:\n",
    "    print(\"Der Phi-Koeffizient drückt aus, dass ein Zusammenhang zwischen Geschlecht und getroffener Entscheidung besteht\")\n",
    "else:\n",
    "    print(\"Der Phi-Koeffizient drückt aus, dass nicht von einem Zusammenhang zwischen Geschlecht und getroffener Entscheidung ausgegangen werden kann\")\n",
    "print(\"Phi-Koeffizient der Kontingenztafel:\", Phi)"
   ]
  },
  {
   "cell_type": "markdown",
   "metadata": {},
   "source": [
    "Reflektionen bezüglich der angewandten Methodik und des erzielten Ergebnisses\n",
    "--------------------------------------------------------------------------------------\n",
    "\n",
    "\n",
    "\n",
    "\n"
   ]
  },
  {
   "cell_type": "markdown",
   "metadata": {},
   "source": [
    "I. Qualität der Rohdaten\n",
    "======================="
   ]
  },
  {
   "cell_type": "markdown",
   "metadata": {},
   "source": [
    "Die von Awad et al. (2019) verwenden Daten wurden über die \"Moral Machine\" Website des Massachusetts Institute of Technology erhoben. Eine Selektion der Teilnehmenden seitens der Forscher fand nicht statt. Die anonymisierten, erfassten Daten beinhalten Informationen über:\n",
    "1. Art des Szenarios: Spezifiziert welche der Szenairen \"Switch\", \"Loop\" oder \"Footbridge\" die/der Teilnehmende durchgespielt hat.\n",
    "2. Alter des/der Teilnehmenden\n",
    "3. Geschlecht des/der Teilnehmenden\n",
    "4. Bildungsgrad des/der Teilnehmenden\n",
    "5. Politische Ausrichtung des/der Teilnehmenden\n",
    "6. Religiösität des/der Teilnehmenden\n",
    "7. Land, von dem aus die Website besucht wurde\n",
    "8. Getroffene Entscheidung des/der Teilnehmenden (0: nicht eingreifen / 1: eingreifen)\n",
    "9. Kontinent, von dem aus die Website besucht wurde\n",
    "\n",
    "Die Open Source Daten im .csv Format umfassen Angaben zu 59159 Teilnehmenden. "
   ]
  },
  {
   "cell_type": "code",
   "execution_count": 19,
   "metadata": {},
   "outputs": [
    {
     "data": {
      "text/html": [
       "<div>\n",
       "<style scoped>\n",
       "    .dataframe tbody tr th:only-of-type {\n",
       "        vertical-align: middle;\n",
       "    }\n",
       "\n",
       "    .dataframe tbody tr th {\n",
       "        vertical-align: top;\n",
       "    }\n",
       "\n",
       "    .dataframe thead th {\n",
       "        text-align: right;\n",
       "    }\n",
       "</style>\n",
       "<table border=\"1\" class=\"dataframe\">\n",
       "  <thead>\n",
       "    <tr style=\"text-align: right;\">\n",
       "      <th></th>\n",
       "      <th>UserIP_Anonymized</th>\n",
       "      <th>Scenario</th>\n",
       "      <th>survey.age</th>\n",
       "      <th>survey.education</th>\n",
       "      <th>survey.political</th>\n",
       "      <th>survey.religious</th>\n",
       "      <th>country_code</th>\n",
       "      <th>Outcome</th>\n",
       "      <th>Continent</th>\n",
       "    </tr>\n",
       "    <tr>\n",
       "      <th>survey.gender</th>\n",
       "      <th></th>\n",
       "      <th></th>\n",
       "      <th></th>\n",
       "      <th></th>\n",
       "      <th></th>\n",
       "      <th></th>\n",
       "      <th></th>\n",
       "      <th></th>\n",
       "      <th></th>\n",
       "    </tr>\n",
       "  </thead>\n",
       "  <tbody>\n",
       "    <tr>\n",
       "      <th>Men</th>\n",
       "      <td>44166</td>\n",
       "      <td>44166</td>\n",
       "      <td>44166</td>\n",
       "      <td>44166</td>\n",
       "      <td>44166</td>\n",
       "      <td>44166</td>\n",
       "      <td>44166</td>\n",
       "      <td>44166</td>\n",
       "      <td>44166</td>\n",
       "    </tr>\n",
       "    <tr>\n",
       "      <th>Women</th>\n",
       "      <td>14993</td>\n",
       "      <td>14993</td>\n",
       "      <td>14993</td>\n",
       "      <td>14993</td>\n",
       "      <td>14993</td>\n",
       "      <td>14993</td>\n",
       "      <td>14993</td>\n",
       "      <td>14993</td>\n",
       "      <td>14993</td>\n",
       "    </tr>\n",
       "  </tbody>\n",
       "</table>\n",
       "</div>"
      ],
      "text/plain": [
       "               UserIP_Anonymized  Scenario  survey.age  survey.education  \\\n",
       "survey.gender                                                              \n",
       "Men                        44166     44166       44166             44166   \n",
       "Women                      14993     14993       14993             14993   \n",
       "\n",
       "               survey.political  survey.religious  country_code  Outcome  \\\n",
       "survey.gender                                                              \n",
       "Men                       44166             44166         44166    44166   \n",
       "Women                     14993             14993         14993    14993   \n",
       "\n",
       "               Continent  \n",
       "survey.gender             \n",
       "Men                44166  \n",
       "Women              14993  "
      ]
     },
     "execution_count": 19,
     "metadata": {},
     "output_type": "execute_result"
    }
   ],
   "source": [
    "Geschlecht=trolley_data.groupby(\"survey.gender\")\n",
    "Geschlecht.count()"
   ]
  },
  {
   "cell_type": "markdown",
   "metadata": {},
   "source": [
    "Bei Betrachtung der Rohdaten kann festgestellt werden, dass Männer im Datensatz um einen Faktor von ca. 2,95 überrepräsentiert sind. In Hinblick auf die Beantwortung der Forschungsfrage könnte sich der bereitgestellte Datensatz somit als ungeeignet für das Erzielen eines aussagekräftigen Ergebnisses herausstellen."
   ]
  },
  {
   "cell_type": "markdown",
   "metadata": {},
   "source": [
    "II. Bereinigung und Aufbereitung des Datensatzes\n",
    "================================"
   ]
  },
  {
   "cell_type": "markdown",
   "metadata": {},
   "source": [
    "Zur Beantwortung der Forschungsfrage werden nur die Informationen \"Geschlecht\", \"Land\" und \"Art des Szenarios\" benötigt. Um das Projekt möglichst simpel zu halten, beschränkt sich die Untersuchung bezüglich eines signifikanten Zusammenhangs zwischen Geschlecht und getroffener Entscheidung in moralischen Dilemmasituationen auf deutsche Teilnehmende, die das \"Switch\" Szenario durchgespielt haben. Das Switch Szenario wurde ausgewählt, da es das \"klassische Trolleydilemma\" darstellt und im Vergleich zu den anderen zwei Szenarien als dasjenige bezeichnet werden kann, bei dem Menschen die unkontroversesten moralischen Intuitionen bilden. Dies wird auch von den erhobenen Daten bestätigt, da eine klare Präferenz für einen Eingriff in das Geschehen ausgemacht werden kann."
   ]
  },
  {
   "cell_type": "code",
   "execution_count": 146,
   "metadata": {},
   "outputs": [
    {
     "name": "stdout",
     "output_type": "stream",
     "text": [
      "83.85544584231367 Prozent der Teilnehmenden entschieden sich für die Betätigung des Hebels im klassischen Trolley Dilemma\n"
     ]
    },
    {
     "data": {
      "text/html": [
       "<div>\n",
       "<style scoped>\n",
       "    .dataframe tbody tr th:only-of-type {\n",
       "        vertical-align: middle;\n",
       "    }\n",
       "\n",
       "    .dataframe tbody tr th {\n",
       "        vertical-align: top;\n",
       "    }\n",
       "\n",
       "    .dataframe thead th {\n",
       "        text-align: right;\n",
       "    }\n",
       "</style>\n",
       "<table border=\"1\" class=\"dataframe\">\n",
       "  <thead>\n",
       "    <tr style=\"text-align: right;\">\n",
       "      <th></th>\n",
       "      <th>UserIP_Anonymized</th>\n",
       "      <th>Scenario</th>\n",
       "      <th>survey.age</th>\n",
       "      <th>survey.gender</th>\n",
       "      <th>survey.education</th>\n",
       "      <th>survey.political</th>\n",
       "      <th>survey.religious</th>\n",
       "      <th>country_code</th>\n",
       "      <th>Continent</th>\n",
       "    </tr>\n",
       "    <tr>\n",
       "      <th>Outcome</th>\n",
       "      <th></th>\n",
       "      <th></th>\n",
       "      <th></th>\n",
       "      <th></th>\n",
       "      <th></th>\n",
       "      <th></th>\n",
       "      <th></th>\n",
       "      <th></th>\n",
       "      <th></th>\n",
       "    </tr>\n",
       "  </thead>\n",
       "  <tbody>\n",
       "    <tr>\n",
       "      <th>0</th>\n",
       "      <td>3221</td>\n",
       "      <td>3221</td>\n",
       "      <td>3221</td>\n",
       "      <td>3221</td>\n",
       "      <td>3221</td>\n",
       "      <td>3221</td>\n",
       "      <td>3221</td>\n",
       "      <td>3221</td>\n",
       "      <td>3221</td>\n",
       "    </tr>\n",
       "    <tr>\n",
       "      <th>1</th>\n",
       "      <td>16730</td>\n",
       "      <td>16730</td>\n",
       "      <td>16730</td>\n",
       "      <td>16730</td>\n",
       "      <td>16730</td>\n",
       "      <td>16730</td>\n",
       "      <td>16730</td>\n",
       "      <td>16730</td>\n",
       "      <td>16730</td>\n",
       "    </tr>\n",
       "  </tbody>\n",
       "</table>\n",
       "</div>"
      ],
      "text/plain": [
       "         UserIP_Anonymized  Scenario  survey.age  survey.gender  \\\n",
       "Outcome                                                           \n",
       "0                     3221      3221        3221           3221   \n",
       "1                    16730     16730       16730          16730   \n",
       "\n",
       "         survey.education  survey.political  survey.religious  country_code  \\\n",
       "Outcome                                                                       \n",
       "0                    3221              3221              3221          3221   \n",
       "1                   16730             16730             16730         16730   \n",
       "\n",
       "         Continent  \n",
       "Outcome             \n",
       "0             3221  \n",
       "1            16730  "
      ]
     },
     "execution_count": 146,
     "metadata": {},
     "output_type": "execute_result"
    }
   ],
   "source": [
    "Switch=trolley_data.loc[(trolley_data['Scenario'] == 'Switch')]\n",
    "Entscheidung=Switch.groupby(\"Outcome\")\n",
    "print(16730/(3221+16730)*100, \"Prozent der Teilnehmenden entschieden sich für die Betätigung des Hebels im klassischen Trolley Dilemma\")\n",
    "Entscheidung.count()"
   ]
  },
  {
   "cell_type": "code",
   "execution_count": 147,
   "metadata": {},
   "outputs": [
    {
     "name": "stdout",
     "output_type": "stream",
     "text": [
      "46.72022103970528 Prozent der Teilnehmenden entschieden sich für ein Eingreifen im Footbridge Szenario\n"
     ]
    },
    {
     "data": {
      "text/html": [
       "<div>\n",
       "<style scoped>\n",
       "    .dataframe tbody tr th:only-of-type {\n",
       "        vertical-align: middle;\n",
       "    }\n",
       "\n",
       "    .dataframe tbody tr th {\n",
       "        vertical-align: top;\n",
       "    }\n",
       "\n",
       "    .dataframe thead th {\n",
       "        text-align: right;\n",
       "    }\n",
       "</style>\n",
       "<table border=\"1\" class=\"dataframe\">\n",
       "  <thead>\n",
       "    <tr style=\"text-align: right;\">\n",
       "      <th></th>\n",
       "      <th>UserIP_Anonymized</th>\n",
       "      <th>Scenario</th>\n",
       "      <th>survey.age</th>\n",
       "      <th>survey.gender</th>\n",
       "      <th>survey.education</th>\n",
       "      <th>survey.political</th>\n",
       "      <th>survey.religious</th>\n",
       "      <th>country_code</th>\n",
       "      <th>Continent</th>\n",
       "    </tr>\n",
       "    <tr>\n",
       "      <th>Outcome</th>\n",
       "      <th></th>\n",
       "      <th></th>\n",
       "      <th></th>\n",
       "      <th></th>\n",
       "      <th></th>\n",
       "      <th></th>\n",
       "      <th></th>\n",
       "      <th></th>\n",
       "      <th></th>\n",
       "    </tr>\n",
       "  </thead>\n",
       "  <tbody>\n",
       "    <tr>\n",
       "      <th>0</th>\n",
       "      <td>10413</td>\n",
       "      <td>10413</td>\n",
       "      <td>10413</td>\n",
       "      <td>10413</td>\n",
       "      <td>10413</td>\n",
       "      <td>10413</td>\n",
       "      <td>10413</td>\n",
       "      <td>10413</td>\n",
       "      <td>10413</td>\n",
       "    </tr>\n",
       "    <tr>\n",
       "      <th>1</th>\n",
       "      <td>9131</td>\n",
       "      <td>9131</td>\n",
       "      <td>9131</td>\n",
       "      <td>9131</td>\n",
       "      <td>9131</td>\n",
       "      <td>9131</td>\n",
       "      <td>9131</td>\n",
       "      <td>9131</td>\n",
       "      <td>9131</td>\n",
       "    </tr>\n",
       "  </tbody>\n",
       "</table>\n",
       "</div>"
      ],
      "text/plain": [
       "         UserIP_Anonymized  Scenario  survey.age  survey.gender  \\\n",
       "Outcome                                                           \n",
       "0                    10413     10413       10413          10413   \n",
       "1                     9131      9131        9131           9131   \n",
       "\n",
       "         survey.education  survey.political  survey.religious  country_code  \\\n",
       "Outcome                                                                       \n",
       "0                   10413             10413             10413         10413   \n",
       "1                    9131              9131              9131          9131   \n",
       "\n",
       "         Continent  \n",
       "Outcome             \n",
       "0            10413  \n",
       "1             9131  "
      ]
     },
     "execution_count": 147,
     "metadata": {},
     "output_type": "execute_result"
    }
   ],
   "source": [
    "Footbridge=trolley_data.loc[(trolley_data['Scenario'] == 'Footbridge')]\n",
    "EntscheidungFootbridge=Footbridge.groupby(\"Outcome\")\n",
    "print(9131/(9131+10413)*100, \"Prozent der Teilnehmenden entschieden sich für ein Eingreifen im Footbridge Szenario\")\n",
    "EntscheidungFootbridge.count()"
   ]
  },
  {
   "cell_type": "markdown",
   "metadata": {},
   "source": [
    "In Hinblick auf die Forschungsfrage wurde der vorliegende Datensatz dementsprechend nach den oben genannten Kriterien gefiltert. Im Anschluss wurde ein neuer Datensatz erstellt, der nur die für das Projekt relevanten Daten beinhaltet. Dieses Vorgehen stellt keine unzulässige Manipulation der Daten dar, da weder Daten abgeändert wurden, noch auf unzulässige Weise Daten hinzugefügt wurden. Aus dem neuen Datensatz wurde eine Kontingenztafel erstellt, welche die auf einen signifikanten Zusammenhang hin zu untersuchenden Variablen Geschlecht und getroffene Entscheidung gegenüberstellt. Auch dieses Vorgehen stellt bloß eine modifizierte Darstellung der ursprünglichen Daten dar und ist als notwendiger Schritt zur Überprüfung der Arbeitshypothese legitim. Nach Umsetzung dieser Schritte verhärtete sich die Vermutung, dass die zur Verfügung stehenden Daten die in der Population beobachtbare Geschlechterverteilung nicht adäquat repräsentieren. Die Forscher schreiben hierzu:\n",
    "*Globally, the sample shows the expected biases: 75% male [...]* (vgl. Awad et. al. 2019)."
   ]
  },
  {
   "cell_type": "code",
   "execution_count": 50,
   "metadata": {},
   "outputs": [
    {
     "name": "stdout",
     "output_type": "stream",
     "text": [
      "77.96791443850267 Prozent der deutschen Teilnehmenden waren männlich\n"
     ]
    },
    {
     "data": {
      "text/html": [
       "<div>\n",
       "<style scoped>\n",
       "    .dataframe tbody tr th:only-of-type {\n",
       "        vertical-align: middle;\n",
       "    }\n",
       "\n",
       "    .dataframe tbody tr th {\n",
       "        vertical-align: top;\n",
       "    }\n",
       "\n",
       "    .dataframe thead th {\n",
       "        text-align: right;\n",
       "    }\n",
       "</style>\n",
       "<table border=\"1\" class=\"dataframe\">\n",
       "  <thead>\n",
       "    <tr style=\"text-align: right;\">\n",
       "      <th></th>\n",
       "      <th>Scenario</th>\n",
       "      <th>country_code</th>\n",
       "      <th>Outcome</th>\n",
       "    </tr>\n",
       "    <tr>\n",
       "      <th>survey.gender</th>\n",
       "      <th></th>\n",
       "      <th></th>\n",
       "      <th></th>\n",
       "    </tr>\n",
       "  </thead>\n",
       "  <tbody>\n",
       "    <tr>\n",
       "      <th>Men</th>\n",
       "      <td>1458</td>\n",
       "      <td>1458</td>\n",
       "      <td>1458</td>\n",
       "    </tr>\n",
       "    <tr>\n",
       "      <th>Women</th>\n",
       "      <td>412</td>\n",
       "      <td>412</td>\n",
       "      <td>412</td>\n",
       "    </tr>\n",
       "  </tbody>\n",
       "</table>\n",
       "</div>"
      ],
      "text/plain": [
       "               Scenario  country_code  Outcome\n",
       "survey.gender                                 \n",
       "Men                1458          1458     1458\n",
       "Women               412           412      412"
      ]
     },
     "execution_count": 50,
     "metadata": {},
     "output_type": "execute_result"
    }
   ],
   "source": [
    "Geschlecht_DE=data_DE_Switch.groupby(\"survey.gender\")\n",
    "print(1458/(1458+412)*100, \"Prozent der deutschen Teilnehmenden waren männlich\")\n",
    "Geschlecht_DE.count()"
   ]
  },
  {
   "cell_type": "markdown",
   "metadata": {},
   "source": [
    "III. Anwendung des statistischen Tests\n",
    "--------------------------------------"
   ]
  },
  {
   "cell_type": "markdown",
   "metadata": {},
   "source": [
    "Aus den Daten ging hervor, dass es nur geringe Unterschiede hinsichtlich der gegebenen Antwort zwischen weiblichen und männlichen deutschen Teilnehmenden gab. Insofern konnte bereits vermutet werden, dass die Arbeitshypothese zu verwerfen ist. Um jedoch ein wissenschaftliches Ergebnis zu erzielen wurde sich dafür entschieden, sich eines gängigen Instruments der Statistik zu bedienen: der $\\chi^2$-Test."
   ]
  },
  {
   "cell_type": "code",
   "execution_count": 110,
   "metadata": {},
   "outputs": [
    {
     "data": {
      "image/png": "[encoded data removed]",
      "text/plain": [
       "<Figure size 432x288 with 1 Axes>"
      ]
     },
     "metadata": {
      "needs_background": "light"
     },
     "output_type": "display_data"
    }
   ],
   "source": [
    "Geschlecht = {'Männer': [226/(226+1232)*100, 1232/(1232+226)*100], 'Frauen': [53/(53+359)*100, 359/(359+53)*100]}\n",
    "Kontingenztafel_Prozent = pd.DataFrame(Geschlecht, columns=['Männer', 'Frauen'], index=['keine Handlung', 'Handlung'])\n",
    "Darstellung_Eins=Kontingenztafel_Prozent.plot.bar(color=['blue', 'red'])\n",
    "plt.legend(loc='upper left')\n",
    "plt.title('Relative Häufigkeiten der gegebenen Antworten \\n deutscher Teilnehmenden in Prozent')\n",
    "plt.grid(axis='y')\n",
    "Darstellung_Eins.set_axisbelow('True')"
   ]
  },
  {
   "cell_type": "markdown",
   "metadata": {},
   "source": [
    "Der $\\chi^2$ Test wurde als für das angestrebte Ergebnis geeignetes Instrument bewertet, da die zu untersuchenden Daten nominalskalierte Merkmale darstellen (Geschlecht und Handlungsentscheidung). Der $\\chi^2$-Test wurde speziell entworfen, um derartige Daten auf statistisch relevante Unterschiede hin zu überprüfen. Die Quintessenz des Tests ist der Vergleich der vorliegenden Häufigkeiten mit Häufigkeiten, die zu erwarten wären, wenn die Merkmale unabhängig voneinander wären. "
   ]
  },
  {
   "cell_type": "markdown",
   "metadata": {},
   "source": [
    "III.I Zu p-Wert und Signifikanzniveau\n",
    "======================================"
   ]
  },
  {
   "cell_type": "markdown",
   "metadata": {},
   "source": [
    "Um die Ergebnisse des Projekts angemessen interpretieren zu können und Limitierungen zu verdeutlichen, ist ein kurzer Exkurs in die Statistik von Nöten. Eine Begriffsdefinition bietet Anhaltspunkte für eine Diskussion des Vorgehens:\n",
    "\n",
    "Der **P-Wert** soll die Wahrscheinlichkeit darstellen, mit der ein beobachteter Unterschied in zwei Versuchsgruppen zufällig entstanden sein könnte.\n",
    "\n",
    "Das **Signifikanzniveau** wird im Voraus vom Forschenden festeglegt. Es soll die Wahrscheinlichkeit darstellen, mit der die Nullhypothese fälschlicherweise verworfen wird - also ein Fehler 1. Art begangen wird. Anders ausgedrückt: Es ist die Wahrscheinlichkeit, mit der von signifikanten Zusammenhängen ausgegangen wird, obwohl diese nicht bestehen.\n",
    "\n",
    "Das Arbeiten mit diesen Werten wird immer wieder kontrovers diskutiert. Zunächst kann kritisiert werden, dass eine Hypothese mit dieser Arbeitsweise weder definitiv bestätigt, noch definitiv widerlegt werden kann. Unabhängig von der Repräsentativität der verwendeten Daten kann einzig der Schluss gezogen werden, dass die Nullhypothese nicht verworfen werden kann. Dies bedeutet streng genommen weder, dass die Arbeitshypothese widerlegt wurde, noch, dass die Nullhypothese bewiesen wurde. Derartige Aussagen können Forschende  (mit den Mitteln der Statistik) nicht treffen. Diese Überlegungen führen in den Bereich der Erkenntnistheorie und der Wissenschaftsphilosophie."
   ]
  },
  {
   "cell_type": "markdown",
   "metadata": {},
   "source": [
    "III.II Fazit\n",
    "============"
   ]
  },
  {
   "cell_type": "markdown",
   "metadata": {},
   "source": [
    "Von der erkenntnistheoretischen Metaebene aus betrachtet fängt das Projekt die Einsicht ein, dass der Mensch sich keiner Erkenntnis hundertprozentig sicher sein kann. Metaphorisch betrachtet können die erhobenen Daten als *phaenomena* betrachtet werden, welche keine Rückschlüsse auf die *nuomena* - den tatsächlichen Sachverhalten - zulassen. Zusammengefasst kann also das mithilfe des $\\chi^2$-Tests erzielte Ergebnis folgendermaßen ausgedrückt werden: \n",
    "\"Der angewandte statistische Test liefert gemäß der wissenschaftlich gängigen Auswertungsnormen keine Ahnhaltspunkte dafür, dass die ausgewerteten Daten die Annahme eines Zusammenhangs zwischen Geschlecht und gegebener Antwort zulassen.\""
   ]
  },
  {
   "cell_type": "code",
   "execution_count": null,
   "metadata": {},
   "outputs": [],
   "source": []
  }
 ],
 "metadata": {
  "kernelspec": {
   "display_name": "Python 3",
   "language": "python",
   "name": "python3"
  },
  "language_info": {
   "codemirror_mode": {
    "name": "ipython",
    "version": 3
   },
   "file_extension": ".py",
   "mimetype": "text/x-python",
   "name": "python",
   "nbconvert_exporter": "python",
   "pygments_lexer": "ipython3",
   "version": "3.7.6"
  }
 },
 "nbformat": 4,
 "nbformat_minor": 4
}
