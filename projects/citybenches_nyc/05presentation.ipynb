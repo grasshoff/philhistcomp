{
 "cells": [
  {
   "cell_type": "markdown",
   "metadata": {
    "slideshow": {
     "slide_type": "slide"
    }
   },
   "source": [
    "# City Benches in Manhattan\n",
    "\n",
    "## What is the shortest distance between City Benches in Manhattan?"
   ]
  },
  {
   "cell_type": "code",
   "execution_count": 43,
   "metadata": {
    "slideshow": {
     "slide_type": "skip"
    }
   },
   "outputs": [],
   "source": [
    "#Necessary packages\n",
    "import pandas as pd\n",
    "import osmnx as ox\n",
    "import networkx as nx\n",
    "import pickle\n",
    "import geopandas \n",
    "import matplotlib.pyplot as plt"
   ]
  },
  {
   "cell_type": "markdown",
   "metadata": {
    "slideshow": {
     "slide_type": "slide"
    }
   },
   "source": [
    "\n",
    "## Data Import"
   ]
  },
  {
   "cell_type": "code",
   "execution_count": 44,
   "metadata": {
    "slideshow": {
     "slide_type": "skip"
    }
   },
   "outputs": [
    {
     "data": {
      "text/html": [
       "<div>\n",
       "<style scoped>\n",
       "    .dataframe tbody tr th:only-of-type {\n",
       "        vertical-align: middle;\n",
       "    }\n",
       "\n",
       "    .dataframe tbody tr th {\n",
       "        vertical-align: top;\n",
       "    }\n",
       "\n",
       "    .dataframe thead th {\n",
       "        text-align: right;\n",
       "    }\n",
       "</style>\n",
       "<table border=\"1\" class=\"dataframe\">\n",
       "  <thead>\n",
       "    <tr style=\"text-align: right;\">\n",
       "      <th></th>\n",
       "      <th>Bench\\nCount</th>\n",
       "      <th>Address</th>\n",
       "      <th>On Street</th>\n",
       "      <th>Cross Streets</th>\n",
       "      <th>Borough</th>\n",
       "      <th>Bench\\nType</th>\n",
       "      <th>Installation\\nDate</th>\n",
       "    </tr>\n",
       "  </thead>\n",
       "  <tbody>\n",
       "    <tr>\n",
       "      <th>0</th>\n",
       "      <td>1</td>\n",
       "      <td>540 West 145th Street</td>\n",
       "      <td>West 145th Street</td>\n",
       "      <td>Broadway and Amsterdam Avenue</td>\n",
       "      <td>Manhattan</td>\n",
       "      <td>backless</td>\n",
       "      <td>2012-05-17</td>\n",
       "    </tr>\n",
       "    <tr>\n",
       "      <th>1</th>\n",
       "      <td>2</td>\n",
       "      <td>110 East 149th Street</td>\n",
       "      <td>West 149th Street</td>\n",
       "      <td>Gerard Avenue River Avenue</td>\n",
       "      <td>Bronx</td>\n",
       "      <td>backless</td>\n",
       "      <td>2012-05-16</td>\n",
       "    </tr>\n",
       "    <tr>\n",
       "      <th>2</th>\n",
       "      <td>3</td>\n",
       "      <td>125 East 149th Street</td>\n",
       "      <td>East 149th Street</td>\n",
       "      <td>Gerard Avenue &amp; Walton Avenue</td>\n",
       "      <td>Bronx</td>\n",
       "      <td>backless</td>\n",
       "      <td>2012-05-16</td>\n",
       "    </tr>\n",
       "    <tr>\n",
       "      <th>3</th>\n",
       "      <td>4</td>\n",
       "      <td>360 East 149th Street</td>\n",
       "      <td>East 149th Street</td>\n",
       "      <td>Courtlandt and Melrose Avenues</td>\n",
       "      <td>Bronx</td>\n",
       "      <td>backless</td>\n",
       "      <td>2012-05-16</td>\n",
       "    </tr>\n",
       "    <tr>\n",
       "      <th>4</th>\n",
       "      <td>5</td>\n",
       "      <td>414 &amp; 416 East 149th Street</td>\n",
       "      <td>East 149th Street</td>\n",
       "      <td>Bergen and Third Avenues</td>\n",
       "      <td>Bronx</td>\n",
       "      <td>backless</td>\n",
       "      <td>2012-05-16</td>\n",
       "    </tr>\n",
       "  </tbody>\n",
       "</table>\n",
       "</div>"
      ],
      "text/plain": [
       "  Bench\\nCount                      Address          On Street  \\\n",
       "0            1        540 West 145th Street  West 145th Street   \n",
       "1            2        110 East 149th Street  West 149th Street   \n",
       "2            3        125 East 149th Street  East 149th Street   \n",
       "3            4        360 East 149th Street  East 149th Street   \n",
       "4            5  414 & 416 East 149th Street  East 149th Street   \n",
       "\n",
       "                    Cross Streets    Borough Bench\\nType Installation\\nDate  \n",
       "0   Broadway and Amsterdam Avenue  Manhattan    backless         2012-05-17  \n",
       "1      Gerard Avenue River Avenue      Bronx    backless         2012-05-16  \n",
       "2   Gerard Avenue & Walton Avenue      Bronx    backless         2012-05-16  \n",
       "3  Courtlandt and Melrose Avenues      Bronx    backless         2012-05-16  \n",
       "4        Bergen and Third Avenues      Bronx    backless         2012-05-16  "
      ]
     },
     "execution_count": 44,
     "metadata": {},
     "output_type": "execute_result"
    }
   ],
   "source": [
    "df = pd.read_excel('citybenchlocationsv03.xlsx')\n",
    "df.head()"
   ]
  },
  {
   "cell_type": "markdown",
   "metadata": {
    "slideshow": {
     "slide_type": "slide"
    }
   },
   "source": [
    "## Data Wrangling"
   ]
  },
  {
   "cell_type": "markdown",
   "metadata": {
    "slideshow": {
     "slide_type": "subslide"
    }
   },
   "source": [
    "After several rounds of Data Wrangling\n"
   ]
  },
  {
   "cell_type": "code",
   "execution_count": 45,
   "metadata": {
    "slideshow": {
     "slide_type": "skip"
    }
   },
   "outputs": [
    {
     "data": {
      "text/html": [
       "<div>\n",
       "<style scoped>\n",
       "    .dataframe tbody tr th:only-of-type {\n",
       "        vertical-align: middle;\n",
       "    }\n",
       "\n",
       "    .dataframe tbody tr th {\n",
       "        vertical-align: top;\n",
       "    }\n",
       "\n",
       "    .dataframe thead th {\n",
       "        text-align: right;\n",
       "    }\n",
       "</style>\n",
       "<table border=\"1\" class=\"dataframe\">\n",
       "  <thead>\n",
       "    <tr style=\"text-align: right;\">\n",
       "      <th></th>\n",
       "      <th>Address</th>\n",
       "      <th>Borough</th>\n",
       "      <th>Geocode</th>\n",
       "      <th>Node</th>\n",
       "    </tr>\n",
       "  </thead>\n",
       "  <tbody>\n",
       "    <tr>\n",
       "      <th>0</th>\n",
       "      <td>540 West 145th Street, New York City</td>\n",
       "      <td>Manhattan</td>\n",
       "      <td>(40.8260052, -73.949854)</td>\n",
       "      <td>561035361</td>\n",
       "    </tr>\n",
       "    <tr>\n",
       "      <th>56</th>\n",
       "      <td>145 &amp; 147 Madison Ave, New York City</td>\n",
       "      <td>Manhattan</td>\n",
       "      <td>(40.74619633333333, -73.983977)</td>\n",
       "      <td>3252586222</td>\n",
       "    </tr>\n",
       "    <tr>\n",
       "      <th>57</th>\n",
       "      <td>165 Madison Avenue, New York City</td>\n",
       "      <td>Manhattan</td>\n",
       "      <td>(40.746812750000004, -73.98327882871746)</td>\n",
       "      <td>42445903</td>\n",
       "    </tr>\n",
       "    <tr>\n",
       "      <th>58</th>\n",
       "      <td>191 Madison Avenue, New York City</td>\n",
       "      <td>Manhattan</td>\n",
       "      <td>(40.74802628571428, -73.98264385714285)</td>\n",
       "      <td>4960503208</td>\n",
       "    </tr>\n",
       "    <tr>\n",
       "      <th>59</th>\n",
       "      <td>199 Madison Avenue, New York City</td>\n",
       "      <td>Manhattan</td>\n",
       "      <td>(40.7482878, -73.9824103)</td>\n",
       "      <td>4960503208</td>\n",
       "    </tr>\n",
       "  </tbody>\n",
       "</table>\n",
       "</div>"
      ],
      "text/plain": [
       "                                 Address    Borough  \\\n",
       "0   540 West 145th Street, New York City  Manhattan   \n",
       "56  145 & 147 Madison Ave, New York City  Manhattan   \n",
       "57     165 Madison Avenue, New York City  Manhattan   \n",
       "58     191 Madison Avenue, New York City  Manhattan   \n",
       "59     199 Madison Avenue, New York City  Manhattan   \n",
       "\n",
       "                                     Geocode        Node  \n",
       "0                   (40.8260052, -73.949854)   561035361  \n",
       "56           (40.74619633333333, -73.983977)  3252586222  \n",
       "57  (40.746812750000004, -73.98327882871746)    42445903  \n",
       "58   (40.74802628571428, -73.98264385714285)  4960503208  \n",
       "59                 (40.7482878, -73.9824103)  4960503208  "
      ]
     },
     "execution_count": 45,
     "metadata": {},
     "output_type": "execute_result"
    }
   ],
   "source": [
    "addressm = pd.read_pickle(\"addressm.pkl\")\n",
    "addressm.head()"
   ]
  },
  {
   "cell_type": "markdown",
   "metadata": {
    "slideshow": {
     "slide_type": "slide"
    }
   },
   "source": [
    "## Distance Calculation"
   ]
  },
  {
   "cell_type": "markdown",
   "metadata": {
    "slideshow": {
     "slide_type": "subslide"
    }
   },
   "source": [
    "Now we calculate the distance for every bench pair"
   ]
  },
  {
   "cell_type": "code",
   "execution_count": 46,
   "metadata": {
    "slideshow": {
     "slide_type": "skip"
    }
   },
   "outputs": [],
   "source": [
    "with open(\"distance.txt\", \"rb\") as fp:\n",
    "    d = pickle.load(fp)"
   ]
  },
  {
   "cell_type": "code",
   "execution_count": 47,
   "metadata": {
    "slideshow": {
     "slide_type": "skip"
    }
   },
   "outputs": [
    {
     "name": "stdout",
     "output_type": "stream",
     "text": [
      "The first 100 entries of the list: \n",
      " \n",
      " [9994.472000000002, 9925.326000000001, 9773.585000000001, 9773.585000000001, 8551.925999999994, 5455.073999999999, 3323.094000000002, 2902.405000000001, 4030.3600000000024, 14850.394000000015, 14850.394000000015, 12242.41100000001, 4066.8970000000027, 4066.8970000000027, 3402.928, 5466.083, 6296.718, 6296.718, 2258.3079999999995, 2227.524, 3327.741, 12235.783000000001, 12235.783000000001, 12328.36, 12328.36, 12721.303000000007, 12721.303000000007, 12305.416000000005, 12242.918000000009, 12242.918000000009, 12223.967000000004, 12223.967000000004, 14771.25600000001, 14750.004000000008, 14672.788000000002, 14559.203000000005, 14460.520000000013, 14479.474000000011, 14580.403000000013, 14580.403000000013, 14477.889000000012, 14384.918000000012, 14397.845000000014, 14395.584000000013, 7352.452000000001, 6404.790999999997, 13947.251000000002, 10119.563999999997, 3856.1220000000003, 10625.045000000004] [9994.472000000002, 9925.326000000001, 9773.585000000001, 9773.585000000001, 8551.925999999994, 5455.073999999999, 3323.094000000002, 2902.405000000001, 4030.3600000000024, 14850.394000000015, 14850.394000000015, 12242.41100000001, 4066.8970000000027, 4066.8970000000027, 3402.928, 5466.083, 6296.718, 6296.718, 2258.3079999999995, 2227.524, 3327.741, 12235.783000000001, 12235.783000000001, 12328.36, 12328.36, 12721.303000000007, 12721.303000000007, 12305.416000000005, 12242.918000000009, 12242.918000000009, 12223.967000000004, 12223.967000000004, 14771.25600000001, 14750.004000000008, 14672.788000000002, 14559.203000000005, 14460.520000000013, 14479.474000000011, 14580.403000000013, 14580.403000000013, 14477.889000000012, 14384.918000000012, 14397.845000000014, 14395.584000000013, 7352.452000000001, 6404.790999999997, 13947.251000000002, 10119.563999999997, 3856.1220000000003, 10625.045000000004]\n"
     ]
    }
   ],
   "source": [
    "print(f\"The first 100 entries of the list: \\n \\n {d[0:50]}\", d[:50])"
   ]
  },
  {
   "cell_type": "markdown",
   "metadata": {
    "slideshow": {
     "slide_type": "slide"
    }
   },
   "source": [
    "## Shortest Distance"
   ]
  },
  {
   "cell_type": "code",
   "execution_count": 48,
   "metadata": {
    "slideshow": {
     "slide_type": "skip"
    }
   },
   "outputs": [
    {
     "name": "stdout",
     "output_type": "stream",
     "text": [
      "The shortest distance is 1m.\n"
     ]
    }
   ],
   "source": [
    "print(f\"The shortest distance is {sorted(list(set(d)))[1]}m.\")"
   ]
  },
  {
   "cell_type": "code",
   "execution_count": 49,
   "metadata": {
    "slideshow": {
     "slide_type": "skip"
    }
   },
   "outputs": [],
   "source": [
    "shortest_dist = []\n",
    "i = 0\n",
    "while i <= 20: \n",
    "    i += 1\n",
    "    shortest_dist.append(sorted(list(set(d)))[i])"
   ]
  },
  {
   "cell_type": "code",
   "execution_count": 51,
   "metadata": {
    "slideshow": {
     "slide_type": "skip"
    }
   },
   "outputs": [
    {
     "name": "stdout",
     "output_type": "stream",
     "text": [
      "The 20 shortest distances are: \n",
      " [1, 8.436, 9.237, 9.383, 9.439, 9.729, 15.943, 18.302, 18.347, 19.506999999999998, 20.442999999999998, 20.776, 22.659, 23.884999999999998, 24.293, 25.003, 25.489, 25.771, 31.702, 32.042, 38.221]\n"
     ]
    }
   ],
   "source": [
    "print(\"The 20 shortest distances are: \\n\", shortest_dist)"
   ]
  },
  {
   "cell_type": "code",
   "execution_count": null,
   "metadata": {},
   "outputs": [],
   "source": []
  }
 ],
 "metadata": {
  "celltoolbar": "Slideshow",
  "kernelspec": {
   "display_name": "Python 3",
   "language": "python",
   "name": "python3"
  },
  "language_info": {
   "codemirror_mode": {
    "name": "ipython",
    "version": 3
   },
   "file_extension": ".py",
   "mimetype": "text/x-python",
   "name": "python",
   "nbconvert_exporter": "python",
   "pygments_lexer": "ipython3",
   "version": "3.7.6"
  }
 },
 "nbformat": 4,
 "nbformat_minor": 4
}
