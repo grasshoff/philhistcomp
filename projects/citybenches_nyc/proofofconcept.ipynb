{
 "cells": [
  {
   "cell_type": "markdown",
   "metadata": {},
   "source": [
    "# 2. Citybenches: Proof of Concept "
   ]
  },
  {
   "cell_type": "code",
   "execution_count": 14,
   "metadata": {},
   "outputs": [],
   "source": [
    "#Necessary packages\n",
    "import osmnx as ox\n",
    "import networkx as nx\n",
    "import geopandas \n",
    "import matplotlib.pyplot as plt\n",
    "import pandas as pd"
   ]
  },
  {
   "cell_type": "markdown",
   "metadata": {},
   "source": [
    "## Results of Data Wrangling"
   ]
  },
  {
   "cell_type": "code",
   "execution_count": 15,
   "metadata": {},
   "outputs": [],
   "source": [
    "#Import data frame, adding 'New York City' to every field in Address-column\n",
    "df = pd.read_excel('citybenchlocationsv03.xlsx')\n",
    "df['Address'] = df['Address'] + ', New York City'"
   ]
  },
  {
   "cell_type": "code",
   "execution_count": 16,
   "metadata": {},
   "outputs": [],
   "source": [
    "#Subset original data set\n",
    "addressborough = df[['Address', 'Borough']]"
   ]
  },
  {
   "cell_type": "markdown",
   "metadata": {},
   "source": [
    "## 2.1 Data Wrangling: Round 2"
   ]
  },
  {
   "cell_type": "code",
   "execution_count": 17,
   "metadata": {},
   "outputs": [],
   "source": [
    "#Proof of Concept: ten city benches in Manhattan\n",
    "addressmanhattan = addressborough[addressborough['Borough'] == 'Manhattan']\n",
    "addressmanhattanh = addressmanhattan.head(10) #Limited to 10 entries"
   ]
  },
  {
   "cell_type": "code",
   "execution_count": 18,
   "metadata": {},
   "outputs": [],
   "source": [
    "#Adding a column with Geocodes to df\n",
    "addressmanhattang = []\n",
    "for i in addressmanhattanh['Address']:\n",
    "    addressmanhattang.append(ox.geocode(i))\n",
    "\n",
    "addressmanhattanh.insert(2, 'Geocode', addressmanhattang, True)"
   ]
  },
  {
   "cell_type": "code",
   "execution_count": 19,
   "metadata": {},
   "outputs": [],
   "source": [
    "#Choosing a graph that contains all ten addresses (suboptimal solution)\n",
    "G = ox.graph_from_point((40.74619633333333, -73.983977), network_type = 'walk', distance = 5000, simplify = False)"
   ]
  },
  {
   "cell_type": "code",
   "execution_count": 20,
   "metadata": {},
   "outputs": [],
   "source": [
    "#Adding a column with Nodes to df\n",
    "addressmanhattann = []\n",
    "for i in addressmanhattanh['Geocode']:\n",
    "    addressmanhattann.append(ox.get_nearest_node(G, i))    \n",
    "    \n",
    "addressmanhattanh.insert(3, 'Node', addressmanhattann, True)"
   ]
  },
  {
   "cell_type": "markdown",
   "metadata": {},
   "source": [
    "## 2.2 Distance Calculation "
   ]
  },
  {
   "cell_type": "code",
   "execution_count": 21,
   "metadata": {},
   "outputs": [
    {
     "name": "stdout",
     "output_type": "stream",
     "text": [
      "The shortest distance [in m] between two benches:\n",
      "89.288\n"
     ]
    }
   ],
   "source": [
    "#Loop for distance calculation (suboptimal)\n",
    "distance = []\n",
    "for i in addressmanhattanh['Node']:\n",
    "    for j in addressmanhattanh['Node']:\n",
    "        distance.append(nx.shortest_path_length(G, i, j, weight = 'length'))\n",
    "\n",
    "distancewd = dict.fromkeys(distance)\n",
    "print(\"The shortest distance [in m] between two benches:\")\n",
    "print(sorted(distancewd)[1])"
   ]
  },
  {
   "cell_type": "markdown",
   "metadata": {},
   "source": [
    "## 2.3 Interpretation of our Results\n",
    "At this point, we are able to calculate the shortest distance between two benches for a small subset of the set of all benches which were installed in NYC in 2019. There are several reasons why we have limited our investigation to ten city benches in Manhattan:\n",
    "- The calculation of the shortest route from node to node demands a huge amount of computing power\n",
    "- Not every address can be geocoded properly with \"ox.geocode()\". We asssume that this is due the non-standard syntax of some addresses\n",
    "\n",
    "Although we are able to calculate the shortest distance, we are not yet able to print the respective addresses. So there is still work to do. "
   ]
  },
  {
   "cell_type": "code",
   "execution_count": null,
   "metadata": {},
   "outputs": [],
   "source": []
  },
  {
   "cell_type": "code",
   "execution_count": null,
   "metadata": {},
   "outputs": [],
   "source": []
  },
  {
   "cell_type": "code",
   "execution_count": null,
   "metadata": {},
   "outputs": [],
   "source": []
  },
  {
   "cell_type": "code",
   "execution_count": null,
   "metadata": {},
   "outputs": [],
   "source": []
  }
 ],
 "metadata": {
  "kernelspec": {
   "display_name": "Python 3",
   "language": "python",
   "name": "python3"
  },
  "language_info": {
   "codemirror_mode": {
    "name": "ipython",
    "version": 3
   },
   "file_extension": ".py",
   "mimetype": "text/x-python",
   "name": "python",
   "nbconvert_exporter": "python",
   "pygments_lexer": "ipython3",
   "version": "3.7.6"
  }
 },
 "nbformat": 4,
 "nbformat_minor": 4
}
