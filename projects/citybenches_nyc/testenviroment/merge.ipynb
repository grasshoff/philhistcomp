{
 "cells": [
  {
   "cell_type": "code",
   "execution_count": null,
   "metadata": {},
   "outputs": [],
   "source": []
  },
  {
   "cell_type": "markdown",
   "metadata": {},
   "source": [
    "# 2. Citybenches: Proof of Concept "
   ]
  },
  {
   "cell_type": "code",
   "execution_count": 2,
   "metadata": {},
   "outputs": [],
   "source": [
    "#Necessary packages\n",
    "import osmnx as ox\n",
    "import networkx as nx\n",
    "import geopandas \n",
    "import matplotlib.pyplot as plt\n",
    "import pandas as pd"
   ]
  },
  {
   "cell_type": "markdown",
   "metadata": {},
   "source": [
    "## Results of Data Wrangling"
   ]
  },
  {
   "cell_type": "code",
   "execution_count": 17,
   "metadata": {},
   "outputs": [],
   "source": [
    "#Import data frame, adding 'New York City' to every field in Address-column\n",
    "df = pd.read_excel('citybenchlocationsv03.xlsx')\n",
    "df['Address'] = df['Address'] + ', New York City'"
   ]
  },
  {
   "cell_type": "code",
   "execution_count": 18,
   "metadata": {},
   "outputs": [],
   "source": [
    "#Subset original data set\n",
    "addressborough = df[['Address', 'Borough']]"
   ]
  },
  {
   "cell_type": "markdown",
   "metadata": {},
   "source": [
    "## 2.1 Data Wrangling: Round 2"
   ]
  },
  {
   "cell_type": "code",
   "execution_count": 19,
   "metadata": {},
   "outputs": [],
   "source": [
    "#Proof of Concept: ten city benches in Manhattan\n",
    "addressm = addressborough[addressborough['Borough'] == 'Manhattan']"
   ]
  },
  {
   "cell_type": "code",
   "execution_count": null,
   "metadata": {},
   "outputs": [],
   "source": []
  },
  {
   "cell_type": "code",
   "execution_count": null,
   "metadata": {},
   "outputs": [],
   "source": [
    "#Adding a column with Geocodes to df\n",
    "addressmgeo = []\n",
    "for i in addressm['Address']:\n",
    "    try:\n",
    "        addressmgeo.append(ox.geocode(i))\n",
    "    except:\n",
    "        addressmgeo.append(' ')\n",
    "\n",
    "addressmgeo.insert(2, 'Geocode', addressm, True)"
   ]
  },
  {
   "cell_type": "code",
   "execution_count": 15,
   "metadata": {},
   "outputs": [
    {
     "ename": "AttributeError",
     "evalue": "module 'pandas' has no attribute 'write_excel'",
     "output_type": "error",
     "traceback": [
      "\u001b[0;31m---------------------------------------------------------------------------\u001b[0m",
      "\u001b[0;31mAttributeError\u001b[0m                            Traceback (most recent call last)",
      "\u001b[0;32m<ipython-input-15-5c1eb7775e20>\u001b[0m in \u001b[0;36m<module>\u001b[0;34m\u001b[0m\n\u001b[0;32m----> 1\u001b[0;31m \u001b[0mpd\u001b[0m\u001b[0;34m.\u001b[0m\u001b[0mwrite_excel\u001b[0m\u001b[0;34m(\u001b[0m\u001b[0;34m'addressmgeo'\u001b[0m\u001b[0;34m)\u001b[0m\u001b[0;34m\u001b[0m\u001b[0;34m\u001b[0m\u001b[0m\n\u001b[0m",
      "\u001b[0;32m~/anaconda3/lib/python3.7/site-packages/pandas/__init__.py\u001b[0m in \u001b[0;36m__getattr__\u001b[0;34m(name)\u001b[0m\n\u001b[1;32m    260\u001b[0m             \u001b[0;32mreturn\u001b[0m \u001b[0m_SparseArray\u001b[0m\u001b[0;34m\u001b[0m\u001b[0;34m\u001b[0m\u001b[0m\n\u001b[1;32m    261\u001b[0m \u001b[0;34m\u001b[0m\u001b[0m\n\u001b[0;32m--> 262\u001b[0;31m         \u001b[0;32mraise\u001b[0m \u001b[0mAttributeError\u001b[0m\u001b[0;34m(\u001b[0m\u001b[0;34mf\"module 'pandas' has no attribute '{name}'\"\u001b[0m\u001b[0;34m)\u001b[0m\u001b[0;34m\u001b[0m\u001b[0;34m\u001b[0m\u001b[0m\n\u001b[0m\u001b[1;32m    263\u001b[0m \u001b[0;34m\u001b[0m\u001b[0m\n\u001b[1;32m    264\u001b[0m \u001b[0;34m\u001b[0m\u001b[0m\n",
      "\u001b[0;31mAttributeError\u001b[0m: module 'pandas' has no attribute 'write_excel'"
     ]
    }
   ],
   "source": [
    "pd.to_excel('addressmgeo.xlsx')"
   ]
  },
  {
   "cell_type": "code",
   "execution_count": 3,
   "metadata": {},
   "outputs": [],
   "source": [
    "data = pd.read_excel(\"addressm.xlsx\")"
   ]
  },
  {
   "cell_type": "code",
   "execution_count": 4,
   "metadata": {},
   "outputs": [
    {
     "data": {
      "text/html": [
       "<div>\n",
       "<style scoped>\n",
       "    .dataframe tbody tr th:only-of-type {\n",
       "        vertical-align: middle;\n",
       "    }\n",
       "\n",
       "    .dataframe tbody tr th {\n",
       "        vertical-align: top;\n",
       "    }\n",
       "\n",
       "    .dataframe thead th {\n",
       "        text-align: right;\n",
       "    }\n",
       "</style>\n",
       "<table border=\"1\" class=\"dataframe\">\n",
       "  <thead>\n",
       "    <tr style=\"text-align: right;\">\n",
       "      <th></th>\n",
       "      <th>Address</th>\n",
       "      <th>Borough</th>\n",
       "      <th>Geocode</th>\n",
       "    </tr>\n",
       "  </thead>\n",
       "  <tbody>\n",
       "    <tr>\n",
       "      <th>0</th>\n",
       "      <td>540 West 145th Street, New York City</td>\n",
       "      <td>Manhattan</td>\n",
       "      <td>(40.8260052, -73.949854)</td>\n",
       "    </tr>\n",
       "    <tr>\n",
       "      <th>1</th>\n",
       "      <td>145 &amp; 147 Madison Ave, New York City</td>\n",
       "      <td>Manhattan</td>\n",
       "      <td>(40.74619633333333, -73.983977)</td>\n",
       "    </tr>\n",
       "    <tr>\n",
       "      <th>2</th>\n",
       "      <td>165 Madison Avenue, New York City</td>\n",
       "      <td>Manhattan</td>\n",
       "      <td>(40.746812750000004, -73.98327882871746)</td>\n",
       "    </tr>\n",
       "    <tr>\n",
       "      <th>3</th>\n",
       "      <td>191 Madison Avenue, New York City</td>\n",
       "      <td>Manhattan</td>\n",
       "      <td>(40.74802628571428, -73.98264385714285)</td>\n",
       "    </tr>\n",
       "    <tr>\n",
       "      <th>4</th>\n",
       "      <td>199 Madison Avenue, New York City</td>\n",
       "      <td>Manhattan</td>\n",
       "      <td>(40.7482878, -73.9824103)</td>\n",
       "    </tr>\n",
       "  </tbody>\n",
       "</table>\n",
       "</div>"
      ],
      "text/plain": [
       "                                Address    Borough  \\\n",
       "0  540 West 145th Street, New York City  Manhattan   \n",
       "1  145 & 147 Madison Ave, New York City  Manhattan   \n",
       "2     165 Madison Avenue, New York City  Manhattan   \n",
       "3     191 Madison Avenue, New York City  Manhattan   \n",
       "4     199 Madison Avenue, New York City  Manhattan   \n",
       "\n",
       "                                    Geocode  \n",
       "0                  (40.8260052, -73.949854)  \n",
       "1           (40.74619633333333, -73.983977)  \n",
       "2  (40.746812750000004, -73.98327882871746)  \n",
       "3   (40.74802628571428, -73.98264385714285)  \n",
       "4                 (40.7482878, -73.9824103)  "
      ]
     },
     "execution_count": 4,
     "metadata": {},
     "output_type": "execute_result"
    }
   ],
   "source": [
    "data.head()"
   ]
  },
  {
   "cell_type": "code",
   "execution_count": 19,
   "metadata": {},
   "outputs": [],
   "source": [
    "#Choosing a graph that contains all ten addresses (suboptimal solution)\n",
    "G = ox.graph_from_point((40.74619633333333, -73.983977), network_type = 'walk', distance = 5000, simplify = False)"
   ]
  },
  {
   "cell_type": "code",
   "execution_count": 20,
   "metadata": {},
   "outputs": [],
   "source": [
    "#Adding a column with Nodes to df\n",
    "addressmanhattann = []\n",
    "for i in addressmanhattanh['Geocode']:\n",
    "    addressmanhattann.append(ox.get_nearest_node(G, i))    \n",
    "    \n",
    "addressmanhattanh.insert(3, 'Node', addressmanhattann, True)"
   ]
  },
  {
   "cell_type": "markdown",
   "metadata": {},
   "source": [
    "## 2.2 Distance Calculation "
   ]
  },
  {
   "cell_type": "code",
   "execution_count": 21,
   "metadata": {},
   "outputs": [
    {
     "name": "stdout",
     "output_type": "stream",
     "text": [
      "The shortest distance [in m] between two benches:\n",
      "89.288\n"
     ]
    }
   ],
   "source": [
    "#Loop for distance calculation (suboptimal)\n",
    "distance = []\n",
    "for i in addressmanhattanh['Node']:\n",
    "    for j in addressmanhattanh['Node']:\n",
    "        distance.append(nx.shortest_path_length(G, i, j, weight = 'length'))\n",
    "\n",
    "distancewd = dict.fromkeys(distance)\n",
    "print(\"The shortest distance [in m] between two benches:\")\n",
    "print(sorted(distancewd)[1])"
   ]
  }
 ],
 "metadata": {
  "kernelspec": {
   "display_name": "Python 3",
   "language": "python",
   "name": "python3"
  },
  "language_info": {
   "codemirror_mode": {
    "name": "ipython",
    "version": 3
   },
   "file_extension": ".py",
   "mimetype": "text/x-python",
   "name": "python",
   "nbconvert_exporter": "python",
   "pygments_lexer": "ipython3",
   "version": "3.7.6"
  }
 },
 "nbformat": 4,
 "nbformat_minor": 4
}
