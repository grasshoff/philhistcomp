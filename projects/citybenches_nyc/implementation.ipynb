{
 "cells": [
  {
   "cell_type": "markdown",
   "metadata": {},
   "source": [
    "# 4. Citybenches: Implementation"
   ]
  },
  {
   "cell_type": "code",
   "execution_count": 77,
   "metadata": {},
   "outputs": [],
   "source": [
    "#Necessary packages\n",
    "import osmnx as ox\n",
    "import networkx as nx\n",
    "import geopandas \n",
    "import matplotlib.pyplot as plt\n",
    "import pandas as pd"
   ]
  },
  {
   "cell_type": "markdown",
   "metadata": {},
   "source": [
    "## Results of Data Wrangling Round 1"
   ]
  },
  {
   "cell_type": "code",
   "execution_count": 78,
   "metadata": {},
   "outputs": [],
   "source": [
    "#Import data frame, adding 'New York City' to every field in Address-column\n",
    "df = pd.read_excel('citybenchlocationsv03.xlsx')\n",
    "df['Address'] = df['Address'] + ', New York City'"
   ]
  },
  {
   "cell_type": "code",
   "execution_count": 79,
   "metadata": {},
   "outputs": [
    {
     "name": "stdout",
     "output_type": "stream",
     "text": [
      "     Bench\\nCount                                     Address  \\\n",
      "0               1        540 West 145th Street, New York City   \n",
      "1               2        110 East 149th Street, New York City   \n",
      "2               3        125 East 149th Street, New York City   \n",
      "3               4        360 East 149th Street, New York City   \n",
      "4               5  414 & 416 East 149th Street, New York City   \n",
      "...           ...                                         ...   \n",
      "2148         2145    81-04 Rockaway Beach Blvd, New York City   \n",
      "2149         2146     6720 Rockaway Beach Blvd, New York City   \n",
      "2150         2147            219 Beach 59th St, New York City   \n",
      "2151         2148     5422 Beach Channel Drive, New York City   \n",
      "2152         2149         300 East 60th Street, New York City   \n",
      "\n",
      "                On Street                          Cross Streets    Borough  \\\n",
      "0       West 145th Street          Broadway and Amsterdam Avenue  Manhattan   \n",
      "1       West 149th Street             Gerard Avenue River Avenue      Bronx   \n",
      "2       East 149th Street          Gerard Avenue & Walton Avenue      Bronx   \n",
      "3       East 149th Street         Courtlandt and Melrose Avenues      Bronx   \n",
      "4       East 149th Street               Bergen and Third Avenues      Bronx   \n",
      "...                   ...                                    ...        ...   \n",
      "2148  Rockaway Beach Blvd  Beach 84th street & Beach 81st street     Queens   \n",
      "2149  Rockaway Beach Blvd          Beach 67th St & Beach 69th St     Queens   \n",
      "2150         Arverne Blvd  Beach 59th Street & Beach 62nd Street     Queens   \n",
      "2151  Beach Channel Drive  Beach 54th Street & Beach 55th Street     Queens   \n",
      "2152     East 60th Street                    2 Avenue & 1 Avenue  Manhattan   \n",
      "\n",
      "     Bench\\nType Installation\\nDate  \n",
      "0       backless         2012-05-17  \n",
      "1       backless         2012-05-16  \n",
      "2       backless         2012-05-16  \n",
      "3       backless         2012-05-16  \n",
      "4       backless         2012-05-16  \n",
      "...          ...                ...  \n",
      "2148    backless         2019-02-05  \n",
      "2149      backed         2019-01-31  \n",
      "2150      backed         2019-02-05  \n",
      "2151    backless         2019-02-05  \n",
      "2152    backed 2         2019-03-20  \n",
      "\n",
      "[2153 rows x 7 columns]\n"
     ]
    }
   ],
   "source": [
    "print(df)"
   ]
  },
  {
   "cell_type": "code",
   "execution_count": 80,
   "metadata": {},
   "outputs": [],
   "source": [
    "#Subset original data set\n",
    "addressborough = df[['Address', 'Borough']]"
   ]
  },
  {
   "cell_type": "code",
   "execution_count": 84,
   "metadata": {},
   "outputs": [],
   "source": [
    "#Further subsetting\n",
    "addressm = addressborough.loc[addressborough['Borough'] == 'Manhattan']"
   ]
  },
  {
   "cell_type": "code",
   "execution_count": 82,
   "metadata": {},
   "outputs": [
    {
     "name": "stdout",
     "output_type": "stream",
     "text": [
      "                                   Address    Borough\n",
      "0     540 West 145th Street, New York City  Manhattan\n",
      "56    145 & 147 Madison Ave, New York City  Manhattan\n",
      "57       165 Madison Avenue, New York City  Manhattan\n",
      "58       191 Madison Avenue, New York City  Manhattan\n",
      "59       199 Madison Avenue, New York City  Manhattan\n",
      "...                                    ...        ...\n",
      "2126   250 West 61st Street, New York City  Manhattan\n",
      "2127   401 East 20th Street, New York City  Manhattan\n",
      "2128      503 E 20th Street, New York City  Manhattan\n",
      "2129  1090 Amsterdam Avenue, New York City  Manhattan\n",
      "2152   300 East 60th Street, New York City  Manhattan\n",
      "\n",
      "[509 rows x 2 columns]\n"
     ]
    }
   ],
   "source": [
    "print(addressm)"
   ]
  },
  {
   "cell_type": "code",
   "execution_count": 75,
   "metadata": {},
   "outputs": [
    {
     "name": "stdout",
     "output_type": "stream",
     "text": [
      "                                               Address    Borough\n",
      "229  Lexington Avenue & East 118th Street, New York...  Manhattan\n"
     ]
    }
   ],
   "source": [
    "print(addressm[addressm['Address'] == \"Lexington Avenue & East 118th Street, New York City\"])"
   ]
  },
  {
   "cell_type": "markdown",
   "metadata": {},
   "source": [
    "## 4.1 Data Wrangling: Round 2"
   ]
  },
  {
   "cell_type": "code",
   "execution_count": 86,
   "metadata": {},
   "outputs": [
    {
     "ename": "Exception",
     "evalue": "Nominatim geocoder returned no results for query \"Lexington Avenue & East 118th Street, New York City\"",
     "output_type": "error",
     "traceback": [
      "\u001b[0;31m---------------------------------------------------------------------------\u001b[0m",
      "\u001b[0;31mException\u001b[0m                                 Traceback (most recent call last)",
      "\u001b[0;32m<ipython-input-86-dc0cb801866a>\u001b[0m in \u001b[0;36m<module>\u001b[0;34m\u001b[0m\n\u001b[1;32m      3\u001b[0m \u001b[0;32mfor\u001b[0m \u001b[0mi\u001b[0m \u001b[0;32min\u001b[0m \u001b[0maddressm\u001b[0m\u001b[0;34m[\u001b[0m\u001b[0;34m'Address'\u001b[0m\u001b[0;34m]\u001b[0m\u001b[0;34m:\u001b[0m\u001b[0;34m\u001b[0m\u001b[0;34m\u001b[0m\u001b[0m\n\u001b[1;32m      4\u001b[0m     \u001b[0;32mif\u001b[0m \u001b[0mi\u001b[0m \u001b[0;34m!=\u001b[0m \u001b[0;34m'Lexington Avenue & East 118th Street, New York'\u001b[0m\u001b[0;34m:\u001b[0m\u001b[0;34m\u001b[0m\u001b[0;34m\u001b[0m\u001b[0m\n\u001b[0;32m----> 5\u001b[0;31m         \u001b[0maddressgeo\u001b[0m\u001b[0;34m.\u001b[0m\u001b[0mappend\u001b[0m\u001b[0;34m(\u001b[0m\u001b[0mox\u001b[0m\u001b[0;34m.\u001b[0m\u001b[0mgeocode\u001b[0m\u001b[0;34m(\u001b[0m\u001b[0mi\u001b[0m\u001b[0;34m)\u001b[0m\u001b[0;34m)\u001b[0m\u001b[0;34m\u001b[0m\u001b[0;34m\u001b[0m\u001b[0m\n\u001b[0m\u001b[1;32m      6\u001b[0m \u001b[0maddressm\u001b[0m\u001b[0;34m.\u001b[0m\u001b[0minsert\u001b[0m\u001b[0;34m(\u001b[0m\u001b[0;36m2\u001b[0m\u001b[0;34m,\u001b[0m \u001b[0;34m'Geocode'\u001b[0m\u001b[0;34m,\u001b[0m \u001b[0maddressgeo\u001b[0m\u001b[0;34m,\u001b[0m \u001b[0;32mTrue\u001b[0m\u001b[0;34m)\u001b[0m\u001b[0;34m\u001b[0m\u001b[0;34m\u001b[0m\u001b[0m\n",
      "\u001b[0;32m~/anaconda3/lib/python3.7/site-packages/osmnx/geo_utils.py\u001b[0m in \u001b[0;36mgeocode\u001b[0;34m(query)\u001b[0m\n\u001b[1;32m    607\u001b[0m         \u001b[0;32mreturn\u001b[0m \u001b[0mpoint\u001b[0m\u001b[0;34m\u001b[0m\u001b[0;34m\u001b[0m\u001b[0m\n\u001b[1;32m    608\u001b[0m     \u001b[0;32melse\u001b[0m\u001b[0;34m:\u001b[0m\u001b[0;34m\u001b[0m\u001b[0;34m\u001b[0m\u001b[0m\n\u001b[0;32m--> 609\u001b[0;31m         \u001b[0;32mraise\u001b[0m \u001b[0mException\u001b[0m\u001b[0;34m(\u001b[0m\u001b[0;34m'Nominatim geocoder returned no results for query \"{}\"'\u001b[0m\u001b[0;34m.\u001b[0m\u001b[0mformat\u001b[0m\u001b[0;34m(\u001b[0m\u001b[0mquery\u001b[0m\u001b[0;34m)\u001b[0m\u001b[0;34m)\u001b[0m\u001b[0;34m\u001b[0m\u001b[0;34m\u001b[0m\u001b[0m\n\u001b[0m\u001b[1;32m    610\u001b[0m \u001b[0;34m\u001b[0m\u001b[0m\n\u001b[1;32m    611\u001b[0m \u001b[0;34m\u001b[0m\u001b[0m\n",
      "\u001b[0;31mException\u001b[0m: Nominatim geocoder returned no results for query \"Lexington Avenue & East 118th Street, New York City\""
     ]
    }
   ],
   "source": [
    "#Adding a column with Geocodes to df\n",
    "addressgeo = []\n",
    "for i in addressm['Address']:\n",
    "    if i != 'Lexington Avenue & East 118th Street, New York':\n",
    "        addressgeo.append(ox.geocode(i))\n",
    "addressm.insert(2, 'Geocode', addressgeo, True)"
   ]
  },
  {
   "cell_type": "code",
   "execution_count": null,
   "metadata": {},
   "outputs": [],
   "source": [
    "print(addressm)"
   ]
  },
  {
   "cell_type": "code",
   "execution_count": null,
   "metadata": {},
   "outputs": [],
   "source": [
    "#Choosing a graph that contains all ten addresses (suboptimal solution)\n",
    "G = ox.graph_from_place('Manhattan, New York City', network_type = 'walk', simplify = False)\n",
    "ox.plot_graph(G)"
   ]
  },
  {
   "cell_type": "code",
   "execution_count": null,
   "metadata": {},
   "outputs": [],
   "source": [
    "ox.plot_graph(G)"
   ]
  },
  {
   "cell_type": "code",
   "execution_count": 25,
   "metadata": {},
   "outputs": [
    {
     "ename": "TypeError",
     "evalue": "list indices must be integers or slices, not str",
     "output_type": "error",
     "traceback": [
      "\u001b[0;31m---------------------------------------------------------------------------\u001b[0m",
      "\u001b[0;31mTypeError\u001b[0m                                 Traceback (most recent call last)",
      "\u001b[0;32m<ipython-input-25-638a2c35fc5c>\u001b[0m in \u001b[0;36m<module>\u001b[0;34m\u001b[0m\n\u001b[1;32m      1\u001b[0m \u001b[0;31m#Adding a column with Nodes to df\u001b[0m\u001b[0;34m\u001b[0m\u001b[0;34m\u001b[0m\u001b[0;34m\u001b[0m\u001b[0m\n\u001b[1;32m      2\u001b[0m \u001b[0maddressnode\u001b[0m \u001b[0;34m=\u001b[0m \u001b[0;34m[\u001b[0m\u001b[0;34m]\u001b[0m\u001b[0;34m\u001b[0m\u001b[0;34m\u001b[0m\u001b[0m\n\u001b[0;32m----> 3\u001b[0;31m \u001b[0;32mfor\u001b[0m \u001b[0mi\u001b[0m \u001b[0;32min\u001b[0m \u001b[0maddressgeo\u001b[0m\u001b[0;34m[\u001b[0m\u001b[0;34m'Geocode'\u001b[0m\u001b[0;34m]\u001b[0m\u001b[0;34m:\u001b[0m\u001b[0;34m\u001b[0m\u001b[0;34m\u001b[0m\u001b[0m\n\u001b[0m\u001b[1;32m      4\u001b[0m     \u001b[0maddressnode\u001b[0m\u001b[0;34m.\u001b[0m\u001b[0mappend\u001b[0m\u001b[0;34m(\u001b[0m\u001b[0mox\u001b[0m\u001b[0;34m.\u001b[0m\u001b[0mget_nearest_node\u001b[0m\u001b[0;34m(\u001b[0m\u001b[0mG\u001b[0m\u001b[0;34m,\u001b[0m \u001b[0mi\u001b[0m\u001b[0;34m)\u001b[0m\u001b[0;34m)\u001b[0m\u001b[0;34m\u001b[0m\u001b[0;34m\u001b[0m\u001b[0m\n\u001b[1;32m      5\u001b[0m \u001b[0;34m\u001b[0m\u001b[0m\n",
      "\u001b[0;31mTypeError\u001b[0m: list indices must be integers or slices, not str"
     ]
    }
   ],
   "source": [
    "#Adding a column with Nodes to df\n",
    "addressnode = []\n",
    "for i in addressgeo['Geocode']:\n",
    "    addressnode.append(ox.get_nearest_node(G, i))    \n",
    "address.insert(3, 'Node', addressnode, True)"
   ]
  },
  {
   "cell_type": "code",
   "execution_count": null,
   "metadata": {},
   "outputs": [],
   "source": []
  }
 ],
 "metadata": {
  "kernelspec": {
   "display_name": "Python 3",
   "language": "python",
   "name": "python3"
  },
  "language_info": {
   "codemirror_mode": {
    "name": "ipython",
    "version": 3
   },
   "file_extension": ".py",
   "mimetype": "text/x-python",
   "name": "python",
   "nbconvert_exporter": "python",
   "pygments_lexer": "ipython3",
   "version": "3.7.6"
  }
 },
 "nbformat": 4,
 "nbformat_minor": 4
}
