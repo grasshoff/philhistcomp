{
 "cells": [
  {
   "cell_type": "markdown",
   "metadata": {},
   "source": [
    "## Import Libraries"
   ]
  },
  {
   "cell_type": "code",
   "execution_count": 1,
   "metadata": {},
   "outputs": [],
   "source": [
    "import pandas as pd\n",
    "import spacy\n",
    "from spacy.matcher import Matcher\n",
    "nlp = spacy.load(\"en_core_web_sm\")\n",
    "from collections import Counter"
   ]
  },
  {
   "cell_type": "markdown",
   "metadata": {},
   "source": [
    "## Dataframe from json"
   ]
  },
  {
   "cell_type": "code",
   "execution_count": 2,
   "metadata": {},
   "outputs": [
    {
     "data": {
      "text/html": [
       "<div>\n",
       "<style scoped>\n",
       "    .dataframe tbody tr th:only-of-type {\n",
       "        vertical-align: middle;\n",
       "    }\n",
       "\n",
       "    .dataframe tbody tr th {\n",
       "        vertical-align: top;\n",
       "    }\n",
       "\n",
       "    .dataframe thead th {\n",
       "        text-align: right;\n",
       "    }\n",
       "</style>\n",
       "<table border=\"1\" class=\"dataframe\">\n",
       "  <thead>\n",
       "    <tr style=\"text-align: right;\">\n",
       "      <th></th>\n",
       "      <th>Sentence ID</th>\n",
       "      <th>sentence</th>\n",
       "      <th>Publication ID</th>\n",
       "      <th>title</th>\n",
       "      <th>abstract</th>\n",
       "    </tr>\n",
       "  </thead>\n",
       "  <tbody>\n",
       "    <tr>\n",
       "      <th>0</th>\n",
       "      <td>pub.1126880632-s0</td>\n",
       "      <td>On March 11th, 2020 the World Health Organizat...</td>\n",
       "      <td>pub.1126880632</td>\n",
       "      <td>COVID-19 and what pediatric rheumatologists sh...</td>\n",
       "      <td>On March 11th, 2020 the World Health Organizat...</td>\n",
       "    </tr>\n",
       "    <tr>\n",
       "      <th>1</th>\n",
       "      <td>pub.1126880632-s1</td>\n",
       "      <td>The infection, transmitted by 2019 novel coron...</td>\n",
       "      <td>pub.1126880632</td>\n",
       "      <td>COVID-19 and what pediatric rheumatologists sh...</td>\n",
       "      <td>On March 11th, 2020 the World Health Organizat...</td>\n",
       "    </tr>\n",
       "    <tr>\n",
       "      <th>2</th>\n",
       "      <td>pub.1126880632-s2</td>\n",
       "      <td>Italy was early and severely involved, with a ...</td>\n",
       "      <td>pub.1126880632</td>\n",
       "      <td>COVID-19 and what pediatric rheumatologists sh...</td>\n",
       "      <td>On March 11th, 2020 the World Health Organizat...</td>\n",
       "    </tr>\n",
       "    <tr>\n",
       "      <th>3</th>\n",
       "      <td>pub.1126880632-s3</td>\n",
       "      <td>Person-to-person spread mainly occurs via resp...</td>\n",
       "      <td>pub.1126880632</td>\n",
       "      <td>COVID-19 and what pediatric rheumatologists sh...</td>\n",
       "      <td>On March 11th, 2020 the World Health Organizat...</td>\n",
       "    </tr>\n",
       "    <tr>\n",
       "      <th>4</th>\n",
       "      <td>pub.1126880632-s4</td>\n",
       "      <td>The median incubation period is 5 days.</td>\n",
       "      <td>pub.1126880632</td>\n",
       "      <td>COVID-19 and what pediatric rheumatologists sh...</td>\n",
       "      <td>On March 11th, 2020 the World Health Organizat...</td>\n",
       "    </tr>\n",
       "  </tbody>\n",
       "</table>\n",
       "</div>"
      ],
      "text/plain": [
       "         Sentence ID                                           sentence  \\\n",
       "0  pub.1126880632-s0  On March 11th, 2020 the World Health Organizat...   \n",
       "1  pub.1126880632-s1  The infection, transmitted by 2019 novel coron...   \n",
       "2  pub.1126880632-s2  Italy was early and severely involved, with a ...   \n",
       "3  pub.1126880632-s3  Person-to-person spread mainly occurs via resp...   \n",
       "4  pub.1126880632-s4            The median incubation period is 5 days.   \n",
       "\n",
       "   Publication ID                                              title  \\\n",
       "0  pub.1126880632  COVID-19 and what pediatric rheumatologists sh...   \n",
       "1  pub.1126880632  COVID-19 and what pediatric rheumatologists sh...   \n",
       "2  pub.1126880632  COVID-19 and what pediatric rheumatologists sh...   \n",
       "3  pub.1126880632  COVID-19 and what pediatric rheumatologists sh...   \n",
       "4  pub.1126880632  COVID-19 and what pediatric rheumatologists sh...   \n",
       "\n",
       "                                            abstract  \n",
       "0  On March 11th, 2020 the World Health Organizat...  \n",
       "1  On March 11th, 2020 the World Health Organizat...  \n",
       "2  On March 11th, 2020 the World Health Organizat...  \n",
       "3  On March 11th, 2020 the World Health Organizat...  \n",
       "4  On March 11th, 2020 the World Health Organizat...  "
      ]
     },
     "execution_count": 2,
     "metadata": {},
     "output_type": "execute_result"
    }
   ],
   "source": [
    "df_sentences = pd.read_json(\"sentences_dframe.json\")\n",
    "df_sentences.head()"
   ]
  },
  {
   "cell_type": "code",
   "execution_count": 3,
   "metadata": {},
   "outputs": [
    {
     "name": "stdout",
     "output_type": "stream",
     "text": [
      "<class 'pandas.core.frame.DataFrame'>\n",
      "Int64Index: 211 entries, 0 to 210\n",
      "Data columns (total 5 columns):\n",
      " #   Column          Non-Null Count  Dtype \n",
      "---  ------          --------------  ----- \n",
      " 0   Sentence ID     211 non-null    object\n",
      " 1   sentence        211 non-null    object\n",
      " 2   Publication ID  211 non-null    object\n",
      " 3   title           211 non-null    object\n",
      " 4   abstract        211 non-null    object\n",
      "dtypes: object(5)\n",
      "memory usage: 9.9+ KB\n"
     ]
    }
   ],
   "source": [
    "df_sentences.info()"
   ]
  },
  {
   "cell_type": "markdown",
   "metadata": {},
   "source": [
    "## List of lemma"
   ]
  },
  {
   "cell_type": "code",
   "execution_count": 4,
   "metadata": {},
   "outputs": [],
   "source": [
    "matcher = Matcher(nlp.vocab)\n",
    "pattern = [{\"POS\": \"VERB\"}]\n",
    "matcher.add(\"verb_id\", None, pattern)\n",
    "\n",
    "verbs_lemma_list = []\n",
    "\n",
    "for sent in df_sentences[\"sentence\"]:\n",
    "    doc = nlp(sent)\n",
    "    matches = matcher(doc)\n",
    "    \n",
    "    for verb_id, start, end in matches:\n",
    "        verbs_lemma_list.append(doc[start:end].lemma_)"
   ]
  },
  {
   "cell_type": "code",
   "execution_count": 5,
   "metadata": {},
   "outputs": [
    {
     "data": {
      "text/plain": [
       "414"
      ]
     },
     "execution_count": 5,
     "metadata": {},
     "output_type": "execute_result"
    }
   ],
   "source": [
    "len(verbs_lemma_list)"
   ]
  },
  {
   "cell_type": "code",
   "execution_count": 6,
   "metadata": {},
   "outputs": [
    {
     "data": {
      "text/plain": [
       "Counter({'declare': 2,\n",
       "         'transmit': 1,\n",
       "         'discover': 2,\n",
       "         'spread': 3,\n",
       "         'involve': 2,\n",
       "         'occur': 4,\n",
       "         'may': 13,\n",
       "         'range': 1,\n",
       "         'depend': 2,\n",
       "         'underlie': 4,\n",
       "         'record': 2,\n",
       "         'affect': 2,\n",
       "         'relate': 1,\n",
       "         'understand': 3,\n",
       "         'issue': 2,\n",
       "         'help': 2,\n",
       "         'care': 1,\n",
       "         'use': 19,\n",
       "         'appear': 2,\n",
       "         'promise': 2,\n",
       "         'seem': 1,\n",
       "         'drive': 2,\n",
       "         'expect': 1,\n",
       "         'play': 2,\n",
       "         'support': 5,\n",
       "         'treat': 8,\n",
       "         'take': 3,\n",
       "         'offer': 1,\n",
       "         'evaluate': 7,\n",
       "         'comprise': 1,\n",
       "         'include': 12,\n",
       "         'hospitalise': 3,\n",
       "         'find': 6,\n",
       "         'receive': 16,\n",
       "         'hydroxychloroquine': 2,\n",
       "         'form': 1,\n",
       "         'initiate': 1,\n",
       "         'exclude': 1,\n",
       "         'sustain': 1,\n",
       "         'mean': 1,\n",
       "         'meet': 1,\n",
       "         'die': 3,\n",
       "         'control': 4,\n",
       "         'compare': 5,\n",
       "         'chloroquine': 2,\n",
       "         'associate': 4,\n",
       "         'increase': 4,\n",
       "         'confirm': 5,\n",
       "         'decrease': 1,\n",
       "         'assess': 6,\n",
       "         'set': 1,\n",
       "         'designate': 1,\n",
       "         'hospitalize': 3,\n",
       "         'assign': 2,\n",
       "         'administrate': 1,\n",
       "         'follow': 4,\n",
       "         'remain': 1,\n",
       "         'analyze': 4,\n",
       "         'accord': 3,\n",
       "         'manage': 1,\n",
       "         'onset': 1,\n",
       "         'recipient': 2,\n",
       "         'report': 6,\n",
       "         'result': 2,\n",
       "         'moderate': 1,\n",
       "         'compete': 2,\n",
       "         'submit': 1,\n",
       "         'declaration': 1,\n",
       "         'obtain': 2,\n",
       "         'archive': 1,\n",
       "         'must': 1,\n",
       "         'register': 5,\n",
       "         'approve': 3,\n",
       "         'provide': 3,\n",
       "         'post': 1,\n",
       "         'explain': 1,\n",
       "         'upload': 1,\n",
       "         'can': 4,\n",
       "         'make': 1,\n",
       "         'sign': 1,\n",
       "         'should': 6,\n",
       "         'direct': 1,\n",
       "         'bring': 1,\n",
       "         'infect': 1,\n",
       "         'emerge': 3,\n",
       "         'consider': 4,\n",
       "         'claim': 1,\n",
       "         'represent': 2,\n",
       "         'reveal': 1,\n",
       "         'yield': 1,\n",
       "         'indicate': 3,\n",
       "         'regard': 5,\n",
       "         'know': 4,\n",
       "         'observe': 5,\n",
       "         'overcome': 1,\n",
       "         'perform': 3,\n",
       "         'focus': 1,\n",
       "         'enter': 3,\n",
       "         'abstract': 1,\n",
       "         'review': 2,\n",
       "         'extract': 1,\n",
       "         'fix': 1,\n",
       "         'contain': 1,\n",
       "         'improve': 2,\n",
       "         'blur': 1,\n",
       "         'show': 6,\n",
       "         'regimen': 1,\n",
       "         'achieve': 1,\n",
       "         'need': 2,\n",
       "         'prevent': 1,\n",
       "         'collect': 1,\n",
       "         'document': 2,\n",
       "         'require': 3,\n",
       "         'emulate': 1,\n",
       "         'aim': 4,\n",
       "         'adjust': 1,\n",
       "         'confound': 1,\n",
       "         'balance': 1,\n",
       "         'transfer': 1,\n",
       "         'develop': 1,\n",
       "         'recommend': 5,\n",
       "         'cause': 6,\n",
       "         'draw': 1,\n",
       "         'establish': 1,\n",
       "         'allocate': 1,\n",
       "         '-': 1,\n",
       "         'define': 1,\n",
       "         'enrol': 1,\n",
       "         'present': 1,\n",
       "         'overlap': 1,\n",
       "         'pair': 1,\n",
       "         'suggest': 3,\n",
       "         'force': 1,\n",
       "         'halt': 1,\n",
       "         'give': 3,\n",
       "         'update': 1,\n",
       "         'diabete': 1,\n",
       "         'see': 1,\n",
       "         'postulate': 1,\n",
       "         'convert': 1,\n",
       "         'predispose': 1,\n",
       "         'explore': 3,\n",
       "         'heighten': 1,\n",
       "         'stop': 1,\n",
       "         'modify': 2,\n",
       "         'continue': 2,\n",
       "         'mimic': 1,\n",
       "         'call': 2,\n",
       "         'raise': 1,\n",
       "         'would': 2,\n",
       "         'combat': 2,\n",
       "         'demonstrate': 1,\n",
       "         'limit': 1,\n",
       "         'investigate': 2,\n",
       "         'determine': 1,\n",
       "         'seek': 1,\n",
       "         'refute': 1,\n",
       "         'could': 2,\n",
       "         'conduct': 2,\n",
       "         'base': 1,\n",
       "         'identify': 1,\n",
       "         'publish': 2,\n",
       "         'test': 2,\n",
       "         'suffer': 1,\n",
       "         'diagnose': 1,\n",
       "         'admit': 1,\n",
       "         'randomize': 1,\n",
       "         'shorten': 2,\n",
       "         'progress': 1,\n",
       "         'promote': 1,\n",
       "         'add': 2,\n",
       "         'refuse': 1,\n",
       "         'carry': 1,\n",
       "         'reinforce': 1,\n",
       "         'endeavor': 1,\n",
       "         'like': 1,\n",
       "         'share': 1,\n",
       "         'trigger': 1,\n",
       "         'exchange': 1,\n",
       "         'face': 1,\n",
       "         'launch': 1,\n",
       "         'therapie': 1,\n",
       "         'highlight': 1,\n",
       "         'ongoe': 1})"
      ]
     },
     "execution_count": 6,
     "metadata": {},
     "output_type": "execute_result"
    }
   ],
   "source": [
    "cnt = Counter(verbs_lemma_list)\n",
    "cnt"
   ]
  },
  {
   "cell_type": "code",
   "execution_count": 7,
   "metadata": {},
   "outputs": [
    {
     "data": {
      "text/plain": [
       "184"
      ]
     },
     "execution_count": 7,
     "metadata": {},
     "output_type": "execute_result"
    }
   ],
   "source": [
    "len(cnt)"
   ]
  },
  {
   "cell_type": "code",
   "execution_count": 8,
   "metadata": {},
   "outputs": [],
   "source": [
    "verbs = [i for i in cnt.keys()]"
   ]
  },
  {
   "cell_type": "code",
   "execution_count": 9,
   "metadata": {},
   "outputs": [
    {
     "name": "stdout",
     "output_type": "stream",
     "text": [
      "['declare', 'transmit', 'discover', 'spread', 'involve', 'occur', 'may', 'range', 'depend', 'underlie', 'record', 'affect', 'relate', 'understand', 'issue', 'help', 'care', 'use', 'appear', 'promise', 'seem', 'drive', 'expect', 'play', 'support', 'treat', 'take', 'offer', 'evaluate', 'comprise', 'include', 'hospitalise', 'find', 'receive', 'hydroxychloroquine', 'form', 'initiate', 'exclude', 'sustain', 'mean', 'meet', 'die', 'control', 'compare', 'chloroquine', 'associate', 'increase', 'confirm', 'decrease', 'assess', 'set', 'designate', 'hospitalize', 'assign', 'administrate', 'follow', 'remain', 'analyze', 'accord', 'manage', 'onset', 'recipient', 'report', 'result', 'moderate', 'compete', 'submit', 'declaration', 'obtain', 'archive', 'must', 'register', 'approve', 'provide', 'post', 'explain', 'upload', 'can', 'make', 'sign', 'should', 'direct', 'bring', 'infect', 'emerge', 'consider', 'claim', 'represent', 'reveal', 'yield', 'indicate', 'regard', 'know', 'observe', 'overcome', 'perform', 'focus', 'enter', 'abstract', 'review', 'extract', 'fix', 'contain', 'improve', 'blur', 'show', 'regimen', 'achieve', 'need', 'prevent', 'collect', 'document', 'require', 'emulate', 'aim', 'adjust', 'confound', 'balance', 'transfer', 'develop', 'recommend', 'cause', 'draw', 'establish', 'allocate', '-', 'define', 'enrol', 'present', 'overlap', 'pair', 'suggest', 'force', 'halt', 'give', 'update', 'diabete', 'see', 'postulate', 'convert', 'predispose', 'explore', 'heighten', 'stop', 'modify', 'continue', 'mimic', 'call', 'raise', 'would', 'combat', 'demonstrate', 'limit', 'investigate', 'determine', 'seek', 'refute', 'could', 'conduct', 'base', 'identify', 'publish', 'test', 'suffer', 'diagnose', 'admit', 'randomize', 'shorten', 'progress', 'promote', 'add', 'refuse', 'carry', 'reinforce', 'endeavor', 'like', 'share', 'trigger', 'exchange', 'face', 'launch', 'therapie', 'highlight', 'ongoe']\n"
     ]
    }
   ],
   "source": [
    "print(verbs)"
   ]
  },
  {
   "cell_type": "markdown",
   "metadata": {},
   "source": [
    "## Lemma-dataframe"
   ]
  },
  {
   "cell_type": "code",
   "execution_count": 10,
   "metadata": {},
   "outputs": [],
   "source": [
    "df_lemma_list = []\n",
    "\n",
    "for i in range(len(df_sentences)):\n",
    "    doc = nlp(df_sentences[\"sentence\"].iloc[i])\n",
    "    matches = matcher(doc)\n",
    "            \n",
    "    for verb_id, start, end in matches:\n",
    "        row = []\n",
    "        row.append(df_sentences[\"Sentence ID\"].iloc[i])\n",
    "        row.append(df_sentences[\"sentence\"].iloc[i])\n",
    "        row.append(doc[start:end].lemma_)\n",
    "        row.append(df_sentences[\"Publication ID\"].iloc[i])\n",
    "        row.append(df_sentences[\"title\"].iloc[i])\n",
    "    \n",
    "        df_lemma_list.append(row)\n",
    "\n",
    "columns = [\"Sentence ID\", \"sentence\", \"lemma\", \"Publication ID\", \"title\"]\n",
    "df_lemma = pd.DataFrame(df_lemma_list, columns=columns)"
   ]
  },
  {
   "cell_type": "code",
   "execution_count": 11,
   "metadata": {},
   "outputs": [
    {
     "data": {
      "text/html": [
       "<div>\n",
       "<style scoped>\n",
       "    .dataframe tbody tr th:only-of-type {\n",
       "        vertical-align: middle;\n",
       "    }\n",
       "\n",
       "    .dataframe tbody tr th {\n",
       "        vertical-align: top;\n",
       "    }\n",
       "\n",
       "    .dataframe thead th {\n",
       "        text-align: right;\n",
       "    }\n",
       "</style>\n",
       "<table border=\"1\" class=\"dataframe\">\n",
       "  <thead>\n",
       "    <tr style=\"text-align: right;\">\n",
       "      <th></th>\n",
       "      <th>Sentence ID</th>\n",
       "      <th>sentence</th>\n",
       "      <th>lemma</th>\n",
       "      <th>Publication ID</th>\n",
       "      <th>title</th>\n",
       "    </tr>\n",
       "  </thead>\n",
       "  <tbody>\n",
       "    <tr>\n",
       "      <th>0</th>\n",
       "      <td>pub.1126880632-s0</td>\n",
       "      <td>On March 11th, 2020 the World Health Organizat...</td>\n",
       "      <td>declare</td>\n",
       "      <td>pub.1126880632</td>\n",
       "      <td>COVID-19 and what pediatric rheumatologists sh...</td>\n",
       "    </tr>\n",
       "    <tr>\n",
       "      <th>1</th>\n",
       "      <td>pub.1126880632-s1</td>\n",
       "      <td>The infection, transmitted by 2019 novel coron...</td>\n",
       "      <td>transmit</td>\n",
       "      <td>pub.1126880632</td>\n",
       "      <td>COVID-19 and what pediatric rheumatologists sh...</td>\n",
       "    </tr>\n",
       "    <tr>\n",
       "      <th>2</th>\n",
       "      <td>pub.1126880632-s1</td>\n",
       "      <td>The infection, transmitted by 2019 novel coron...</td>\n",
       "      <td>discover</td>\n",
       "      <td>pub.1126880632</td>\n",
       "      <td>COVID-19 and what pediatric rheumatologists sh...</td>\n",
       "    </tr>\n",
       "    <tr>\n",
       "      <th>3</th>\n",
       "      <td>pub.1126880632-s1</td>\n",
       "      <td>The infection, transmitted by 2019 novel coron...</td>\n",
       "      <td>spread</td>\n",
       "      <td>pub.1126880632</td>\n",
       "      <td>COVID-19 and what pediatric rheumatologists sh...</td>\n",
       "    </tr>\n",
       "    <tr>\n",
       "      <th>4</th>\n",
       "      <td>pub.1126880632-s2</td>\n",
       "      <td>Italy was early and severely involved, with a ...</td>\n",
       "      <td>involve</td>\n",
       "      <td>pub.1126880632</td>\n",
       "      <td>COVID-19 and what pediatric rheumatologists sh...</td>\n",
       "    </tr>\n",
       "  </tbody>\n",
       "</table>\n",
       "</div>"
      ],
      "text/plain": [
       "         Sentence ID                                           sentence  \\\n",
       "0  pub.1126880632-s0  On March 11th, 2020 the World Health Organizat...   \n",
       "1  pub.1126880632-s1  The infection, transmitted by 2019 novel coron...   \n",
       "2  pub.1126880632-s1  The infection, transmitted by 2019 novel coron...   \n",
       "3  pub.1126880632-s1  The infection, transmitted by 2019 novel coron...   \n",
       "4  pub.1126880632-s2  Italy was early and severely involved, with a ...   \n",
       "\n",
       "      lemma  Publication ID                                              title  \n",
       "0   declare  pub.1126880632  COVID-19 and what pediatric rheumatologists sh...  \n",
       "1  transmit  pub.1126880632  COVID-19 and what pediatric rheumatologists sh...  \n",
       "2  discover  pub.1126880632  COVID-19 and what pediatric rheumatologists sh...  \n",
       "3    spread  pub.1126880632  COVID-19 and what pediatric rheumatologists sh...  \n",
       "4   involve  pub.1126880632  COVID-19 and what pediatric rheumatologists sh...  "
      ]
     },
     "execution_count": 11,
     "metadata": {},
     "output_type": "execute_result"
    }
   ],
   "source": [
    "df_lemma.head()"
   ]
  },
  {
   "cell_type": "code",
   "execution_count": 12,
   "metadata": {},
   "outputs": [
    {
     "name": "stdout",
     "output_type": "stream",
     "text": [
      "<class 'pandas.core.frame.DataFrame'>\n",
      "RangeIndex: 414 entries, 0 to 413\n",
      "Data columns (total 5 columns):\n",
      " #   Column          Non-Null Count  Dtype \n",
      "---  ------          --------------  ----- \n",
      " 0   Sentence ID     414 non-null    object\n",
      " 1   sentence        414 non-null    object\n",
      " 2   lemma           414 non-null    object\n",
      " 3   Publication ID  414 non-null    object\n",
      " 4   title           414 non-null    object\n",
      "dtypes: object(5)\n",
      "memory usage: 16.3+ KB\n"
     ]
    }
   ],
   "source": [
    "df_lemma.info()"
   ]
  },
  {
   "cell_type": "code",
   "execution_count": 13,
   "metadata": {},
   "outputs": [
    {
     "data": {
      "text/plain": [
       "use          19\n",
       "receive      16\n",
       "may          13\n",
       "include      12\n",
       "treat         8\n",
       "             ..\n",
       "bring         1\n",
       "base          1\n",
       "establish     1\n",
       "range         1\n",
       "explain       1\n",
       "Name: lemma, Length: 184, dtype: int64"
      ]
     },
     "execution_count": 13,
     "metadata": {},
     "output_type": "execute_result"
    }
   ],
   "source": [
    "df_lemma[\"lemma\"].value_counts()"
   ]
  },
  {
   "cell_type": "markdown",
   "metadata": {},
   "source": [
    "### Example: rows with lemma \"support\""
   ]
  },
  {
   "cell_type": "code",
   "execution_count": 14,
   "metadata": {},
   "outputs": [
    {
     "data": {
      "text/html": [
       "<div>\n",
       "<style scoped>\n",
       "    .dataframe tbody tr th:only-of-type {\n",
       "        vertical-align: middle;\n",
       "    }\n",
       "\n",
       "    .dataframe tbody tr th {\n",
       "        vertical-align: top;\n",
       "    }\n",
       "\n",
       "    .dataframe thead th {\n",
       "        text-align: right;\n",
       "    }\n",
       "</style>\n",
       "<table border=\"1\" class=\"dataframe\">\n",
       "  <thead>\n",
       "    <tr style=\"text-align: right;\">\n",
       "      <th></th>\n",
       "      <th>lemma</th>\n",
       "      <th>Sentence ID</th>\n",
       "      <th>sentence</th>\n",
       "    </tr>\n",
       "  </thead>\n",
       "  <tbody>\n",
       "    <tr>\n",
       "      <th>25</th>\n",
       "      <td>support</td>\n",
       "      <td>pub.1126880632-s11</td>\n",
       "      <td>Pediatric rheumatologists are expected to play...</td>\n",
       "    </tr>\n",
       "    <tr>\n",
       "      <th>101</th>\n",
       "      <td>support</td>\n",
       "      <td>pub.1126667578-s27</td>\n",
       "      <td>This work was supported by the Emergent Projec...</td>\n",
       "    </tr>\n",
       "    <tr>\n",
       "      <th>217</th>\n",
       "      <td>support</td>\n",
       "      <td>pub.1126655433-s11</td>\n",
       "      <td>These results do not support the use of HCQ in...</td>\n",
       "    </tr>\n",
       "    <tr>\n",
       "      <th>313</th>\n",
       "      <td>support</td>\n",
       "      <td>pub.1127408847-s8</td>\n",
       "      <td>We sought evidence to support or refute the hy...</td>\n",
       "    </tr>\n",
       "    <tr>\n",
       "      <th>329</th>\n",
       "      <td>support</td>\n",
       "      <td>pub.1127408847-s19</td>\n",
       "      <td>The findings support the hypothesis that these...</td>\n",
       "    </tr>\n",
       "  </tbody>\n",
       "</table>\n",
       "</div>"
      ],
      "text/plain": [
       "       lemma         Sentence ID  \\\n",
       "25   support  pub.1126880632-s11   \n",
       "101  support  pub.1126667578-s27   \n",
       "217  support  pub.1126655433-s11   \n",
       "313  support   pub.1127408847-s8   \n",
       "329  support  pub.1127408847-s19   \n",
       "\n",
       "                                              sentence  \n",
       "25   Pediatric rheumatologists are expected to play...  \n",
       "101  This work was supported by the Emergent Projec...  \n",
       "217  These results do not support the use of HCQ in...  \n",
       "313  We sought evidence to support or refute the hy...  \n",
       "329  The findings support the hypothesis that these...  "
      ]
     },
     "execution_count": 14,
     "metadata": {},
     "output_type": "execute_result"
    }
   ],
   "source": [
    "df_support = df_lemma.loc[df_lemma[\"lemma\"] == \"support\", [\"lemma\", \"Sentence ID\", \"sentence\"]]\n",
    "df_support"
   ]
  },
  {
   "cell_type": "code",
   "execution_count": 15,
   "metadata": {},
   "outputs": [
    {
     "data": {
      "text/plain": [
       "'These results do not support the use of HCQ in patients hospitalised for documented SARS-CoV-2-positive hypoxic pneumonia.'"
      ]
     },
     "execution_count": 15,
     "metadata": {},
     "output_type": "execute_result"
    }
   ],
   "source": [
    "df_support[\"sentence\"].iloc[2]"
   ]
  },
  {
   "cell_type": "code",
   "execution_count": 16,
   "metadata": {},
   "outputs": [
    {
     "data": {
      "text/plain": [
       "'The findings support the hypothesis that these drugs have efficacy in the treatment of COVID-19.'"
      ]
     },
     "execution_count": 16,
     "metadata": {},
     "output_type": "execute_result"
    }
   ],
   "source": [
    "df_support[\"sentence\"].iloc[4]"
   ]
  },
  {
   "cell_type": "code",
   "execution_count": 17,
   "metadata": {},
   "outputs": [
    {
     "data": {
      "text/plain": [
       "'We sought evidence to support or refute the hypothesis that these drugs could show efficacy in the treatment of COVID-19.\\nMATERIALS AND METHODS: We reviewed in vitro studies, in vivo studies, original studies, clinical trials, and consensus reports, that were conducted to evaluate the antiviral activities of chloroquine and hydroxychloroquine.'"
      ]
     },
     "execution_count": 17,
     "metadata": {},
     "output_type": "execute_result"
    }
   ],
   "source": [
    "df_support[\"sentence\"].iloc[3]"
   ]
  },
  {
   "cell_type": "markdown",
   "metadata": {},
   "source": [
    "#### For today's meeting"
   ]
  },
  {
   "cell_type": "code",
   "execution_count": 18,
   "metadata": {},
   "outputs": [
    {
     "data": {
      "text/plain": [
       "'The findings support the hypothesis that these drugs have efficacy in the treatment of COVID-19.'"
      ]
     },
     "execution_count": 18,
     "metadata": {},
     "output_type": "execute_result"
    }
   ],
   "source": [
    "exmpl_sent = df_support[\"sentence\"].iloc[4]\n",
    "exmpl_sent"
   ]
  },
  {
   "cell_type": "code",
   "execution_count": 19,
   "metadata": {},
   "outputs": [
    {
     "name": "stdout",
     "output_type": "stream",
     "text": [
      "The the DET Xxx\n",
      "findings finding NOUN xxxx\n",
      "support support VERB xxxx\n",
      "the the DET xxx\n",
      "hypothesis hypothesis NOUN xxxx\n",
      "that that SCONJ xxxx\n",
      "these these DET xxxx\n",
      "drugs drug NOUN xxxx\n",
      "have have AUX xxxx\n",
      "efficacy efficacy NOUN xxxx\n",
      "in in ADP xx\n",
      "the the DET xxx\n",
      "treatment treatment NOUN xxxx\n",
      "of of ADP xx\n",
      "COVID-19 covid-19 NOUN XXXX-dd\n",
      ". . PUNCT .\n"
     ]
    }
   ],
   "source": [
    "exmpl_doc = nlp(exmpl_sent)\n",
    "\n",
    "for token in exmpl_doc:\n",
    "    print(token.text, token.lemma_, token.pos_, token.shape_)"
   ]
  }
 ],
 "metadata": {
  "kernelspec": {
   "display_name": "Python 3",
   "language": "python",
   "name": "python3"
  },
  "language_info": {
   "codemirror_mode": {
    "name": "ipython",
    "version": 3
   },
   "file_extension": ".py",
   "mimetype": "text/x-python",
   "name": "python",
   "nbconvert_exporter": "python",
   "pygments_lexer": "ipython3",
   "version": "3.7.6"
  }
 },
 "nbformat": 4,
 "nbformat_minor": 4
}
