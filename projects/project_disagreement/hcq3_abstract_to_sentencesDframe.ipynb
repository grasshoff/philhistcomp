{
 "cells": [
  {
   "cell_type": "markdown",
   "metadata": {},
   "source": [
    "# From abstract to dataframe of sentences"
   ]
  },
  {
   "cell_type": "markdown",
   "metadata": {},
   "source": [
    "## Import libraries"
   ]
  },
  {
   "cell_type": "code",
   "execution_count": 1,
   "metadata": {},
   "outputs": [],
   "source": [
    "import pandas as pd\n",
    "import spacy\n",
    "nlp = spacy.load(\"en_core_web_sm\")"
   ]
  },
  {
   "cell_type": "markdown",
   "metadata": {},
   "source": [
    "## Loading dataframe with abstracts"
   ]
  },
  {
   "cell_type": "code",
   "execution_count": 2,
   "metadata": {},
   "outputs": [
    {
     "data": {
      "text/html": [
       "<div>\n",
       "<style scoped>\n",
       "    .dataframe tbody tr th:only-of-type {\n",
       "        vertical-align: middle;\n",
       "    }\n",
       "\n",
       "    .dataframe tbody tr th {\n",
       "        vertical-align: top;\n",
       "    }\n",
       "\n",
       "    .dataframe thead th {\n",
       "        text-align: right;\n",
       "    }\n",
       "</style>\n",
       "<table border=\"1\" class=\"dataframe\">\n",
       "  <thead>\n",
       "    <tr style=\"text-align: right;\">\n",
       "      <th></th>\n",
       "      <th>Publication ID</th>\n",
       "      <th>title</th>\n",
       "      <th>abstract</th>\n",
       "    </tr>\n",
       "  </thead>\n",
       "  <tbody>\n",
       "    <tr>\n",
       "      <th>0</th>\n",
       "      <td>pub.1126880632</td>\n",
       "      <td>COVID-19 and what pediatric rheumatologists sh...</td>\n",
       "      <td>'On March 11th, 2020 the World Health Organiza...</td>\n",
       "    </tr>\n",
       "    <tr>\n",
       "      <th>1</th>\n",
       "      <td>pub.1127834352</td>\n",
       "      <td>Hydroxychloroquine or chloroquine with or with...</td>\n",
       "      <td>'BACKGROUND: Hydroxychloroquine or chloroquine...</td>\n",
       "    </tr>\n",
       "    <tr>\n",
       "      <th>2</th>\n",
       "      <td>pub.1126667578</td>\n",
       "      <td>Hydroxychloroquine in patients mainly with mil...</td>\n",
       "      <td>'Abstract Objectives To assess the efficacy an...</td>\n",
       "    </tr>\n",
       "    <tr>\n",
       "      <th>3</th>\n",
       "      <td>pub.1125404383</td>\n",
       "      <td>Of chloroquine and COVID-19</td>\n",
       "      <td>'Recent publications have brought attention to...</td>\n",
       "    </tr>\n",
       "    <tr>\n",
       "      <th>4</th>\n",
       "      <td>pub.1127182972</td>\n",
       "      <td>An independent appraisal and re-analysis of hy...</td>\n",
       "      <td>'A recent open-label study claimed that hydrox...</td>\n",
       "    </tr>\n",
       "  </tbody>\n",
       "</table>\n",
       "</div>"
      ],
      "text/plain": [
       "   Publication ID                                              title  \\\n",
       "0  pub.1126880632  COVID-19 and what pediatric rheumatologists sh...   \n",
       "1  pub.1127834352  Hydroxychloroquine or chloroquine with or with...   \n",
       "2  pub.1126667578  Hydroxychloroquine in patients mainly with mil...   \n",
       "3  pub.1125404383                        Of chloroquine and COVID-19   \n",
       "4  pub.1127182972  An independent appraisal and re-analysis of hy...   \n",
       "\n",
       "                                            abstract  \n",
       "0  'On March 11th, 2020 the World Health Organiza...  \n",
       "1  'BACKGROUND: Hydroxychloroquine or chloroquine...  \n",
       "2  'Abstract Objectives To assess the efficacy an...  \n",
       "3  'Recent publications have brought attention to...  \n",
       "4  'A recent open-label study claimed that hydrox...  "
      ]
     },
     "execution_count": 2,
     "metadata": {},
     "output_type": "execute_result"
    }
   ],
   "source": [
    "# Read 'df_HCQ.json': df_HCQ\n",
    "df_HCQ = pd.read_json(\"df_HCQ.json\")\n",
    "df_HCQ.head()"
   ]
  },
  {
   "cell_type": "code",
   "execution_count": 3,
   "metadata": {},
   "outputs": [
    {
     "name": "stdout",
     "output_type": "stream",
     "text": [
      "<class 'pandas.core.frame.DataFrame'>\n",
      "Int64Index: 17 entries, 0 to 16\n",
      "Data columns (total 3 columns):\n",
      " #   Column          Non-Null Count  Dtype \n",
      "---  ------          --------------  ----- \n",
      " 0   Publication ID  17 non-null     object\n",
      " 1   title           17 non-null     object\n",
      " 2   abstract        17 non-null     object\n",
      "dtypes: object(3)\n",
      "memory usage: 544.0+ bytes\n"
     ]
    }
   ],
   "source": [
    "df_HCQ.info()"
   ]
  },
  {
   "cell_type": "markdown",
   "metadata": {},
   "source": [
    "## Abstract"
   ]
  },
  {
   "cell_type": "code",
   "execution_count": 4,
   "metadata": {},
   "outputs": [
    {
     "data": {
      "text/plain": [
       "'Of chloroquine and COVID-19'"
      ]
     },
     "execution_count": 4,
     "metadata": {},
     "output_type": "execute_result"
    }
   ],
   "source": [
    "# choose one abstract\n",
    "item = 3\n",
    "title = df_HCQ[\"title\"].iloc[item]\n",
    "abstract = df_HCQ[\"abstract\"].iloc[item]\n",
    "\n",
    "title"
   ]
  },
  {
   "cell_type": "code",
   "execution_count": 5,
   "metadata": {},
   "outputs": [
    {
     "data": {
      "text/plain": [
       "\"'Recent publications have brought attention to the possible benefit of chloroquine, a broadly used antimalarial drug, in the treatment of patients infected by the novel emerged coronavirus (SARS-CoV-2). The scientific community should consider this information in light of previous experiments with chloroquine in the field of antiviral research.'\""
      ]
     },
     "execution_count": 5,
     "metadata": {},
     "output_type": "execute_result"
    }
   ],
   "source": [
    "abstract"
   ]
  },
  {
   "cell_type": "markdown",
   "metadata": {},
   "source": [
    "## Dataframe of sentences"
   ]
  },
  {
   "cell_type": "code",
   "execution_count": 6,
   "metadata": {},
   "outputs": [],
   "source": [
    "# Select dataframe\n",
    "dframe = df_HCQ\n",
    "\n",
    "# Make a list that contains all rows for the later dataframe: row_list\n",
    "# One row for each sentence\n",
    "row_list = []\n",
    "\n",
    "for item in range(len(dframe)):\n",
    "    # Select row from dataframe 'dframe': row\n",
    "    row = dframe.iloc[item]\n",
    "\n",
    "    # Get abstract from that row: abstract\n",
    "    abstract = row[\"abstract\"]\n",
    "\n",
    "    # Make Doc-object from abstract: doc_abstract\n",
    "    doc_abstract = nlp(abstract)\n",
    "\n",
    "    # Make a list of the sentences in 'doc_abstract': sentences_list\n",
    "    sentences_list = [sentence for sentence in doc_abstract.sents]\n",
    "\n",
    "    for number in range(len(sentences_list)):\n",
    "        # List of entries for one single row: entry_list\n",
    "        # Every row should contain: an unique identifier for each sentence ('sentence_ID'), the sentence itself,\n",
    "        # the publiction ID and title of the publication and the abstract from which the sentence is taken.\n",
    "        entry_list = []\n",
    "    \n",
    "        sentence_ID = row[\"Publication ID\"] + \"-s\" + str(number)\n",
    "        sent = sentences_list[number].text\n",
    "        publication_ID = row[\"Publication ID\"]\n",
    "        title= row[\"title\"]\n",
    "    \n",
    "    \n",
    "        entry_list.append(sentence_ID)\n",
    "        entry_list.append(sent)\n",
    "        entry_list.append(publication_ID)\n",
    "        entry_list.append(title)\n",
    "        entry_list.append(abstract)\n",
    "    \n",
    "        row_list.append(entry_list)\n",
    "\n",
    "# From 'row_list' make dataframe: sentencesDframe\n",
    "columns = [\"Sentence ID\", \"sentence\", \"Publication ID\", \"title\", \"abstract\"]\n",
    "sentencesDframe = pd.DataFrame(row_list, columns=columns)"
   ]
  },
  {
   "cell_type": "code",
   "execution_count": 7,
   "metadata": {},
   "outputs": [
    {
     "data": {
      "text/html": [
       "<div>\n",
       "<style scoped>\n",
       "    .dataframe tbody tr th:only-of-type {\n",
       "        vertical-align: middle;\n",
       "    }\n",
       "\n",
       "    .dataframe tbody tr th {\n",
       "        vertical-align: top;\n",
       "    }\n",
       "\n",
       "    .dataframe thead th {\n",
       "        text-align: right;\n",
       "    }\n",
       "</style>\n",
       "<table border=\"1\" class=\"dataframe\">\n",
       "  <thead>\n",
       "    <tr style=\"text-align: right;\">\n",
       "      <th></th>\n",
       "      <th>Sentence ID</th>\n",
       "      <th>sentence</th>\n",
       "      <th>Publication ID</th>\n",
       "      <th>title</th>\n",
       "      <th>abstract</th>\n",
       "    </tr>\n",
       "  </thead>\n",
       "  <tbody>\n",
       "    <tr>\n",
       "      <th>0</th>\n",
       "      <td>pub.1126880632-s0</td>\n",
       "      <td>'On March 11th, 2020 the World Health Organiza...</td>\n",
       "      <td>pub.1126880632</td>\n",
       "      <td>COVID-19 and what pediatric rheumatologists sh...</td>\n",
       "      <td>'On March 11th, 2020 the World Health Organiza...</td>\n",
       "    </tr>\n",
       "    <tr>\n",
       "      <th>1</th>\n",
       "      <td>pub.1126880632-s1</td>\n",
       "      <td>The infection, transmitted by 2019 novel coron...</td>\n",
       "      <td>pub.1126880632</td>\n",
       "      <td>COVID-19 and what pediatric rheumatologists sh...</td>\n",
       "      <td>'On March 11th, 2020 the World Health Organiza...</td>\n",
       "    </tr>\n",
       "    <tr>\n",
       "      <th>2</th>\n",
       "      <td>pub.1126880632-s2</td>\n",
       "      <td>Italy was early and severely involved, with a ...</td>\n",
       "      <td>pub.1126880632</td>\n",
       "      <td>COVID-19 and what pediatric rheumatologists sh...</td>\n",
       "      <td>'On March 11th, 2020 the World Health Organiza...</td>\n",
       "    </tr>\n",
       "    <tr>\n",
       "      <th>3</th>\n",
       "      <td>pub.1126880632-s3</td>\n",
       "      <td>Person-to-person spread mainly occurs via resp...</td>\n",
       "      <td>pub.1126880632</td>\n",
       "      <td>COVID-19 and what pediatric rheumatologists sh...</td>\n",
       "      <td>'On March 11th, 2020 the World Health Organiza...</td>\n",
       "    </tr>\n",
       "    <tr>\n",
       "      <th>4</th>\n",
       "      <td>pub.1126880632-s4</td>\n",
       "      <td>The median incubation period is 5 days.</td>\n",
       "      <td>pub.1126880632</td>\n",
       "      <td>COVID-19 and what pediatric rheumatologists sh...</td>\n",
       "      <td>'On March 11th, 2020 the World Health Organiza...</td>\n",
       "    </tr>\n",
       "  </tbody>\n",
       "</table>\n",
       "</div>"
      ],
      "text/plain": [
       "         Sentence ID                                           sentence  \\\n",
       "0  pub.1126880632-s0  'On March 11th, 2020 the World Health Organiza...   \n",
       "1  pub.1126880632-s1  The infection, transmitted by 2019 novel coron...   \n",
       "2  pub.1126880632-s2  Italy was early and severely involved, with a ...   \n",
       "3  pub.1126880632-s3  Person-to-person spread mainly occurs via resp...   \n",
       "4  pub.1126880632-s4            The median incubation period is 5 days.   \n",
       "\n",
       "   Publication ID                                              title  \\\n",
       "0  pub.1126880632  COVID-19 and what pediatric rheumatologists sh...   \n",
       "1  pub.1126880632  COVID-19 and what pediatric rheumatologists sh...   \n",
       "2  pub.1126880632  COVID-19 and what pediatric rheumatologists sh...   \n",
       "3  pub.1126880632  COVID-19 and what pediatric rheumatologists sh...   \n",
       "4  pub.1126880632  COVID-19 and what pediatric rheumatologists sh...   \n",
       "\n",
       "                                            abstract  \n",
       "0  'On March 11th, 2020 the World Health Organiza...  \n",
       "1  'On March 11th, 2020 the World Health Organiza...  \n",
       "2  'On March 11th, 2020 the World Health Organiza...  \n",
       "3  'On March 11th, 2020 the World Health Organiza...  \n",
       "4  'On March 11th, 2020 the World Health Organiza...  "
      ]
     },
     "execution_count": 7,
     "metadata": {},
     "output_type": "execute_result"
    }
   ],
   "source": [
    "sentencesDframe.head()"
   ]
  },
  {
   "cell_type": "code",
   "execution_count": 8,
   "metadata": {},
   "outputs": [],
   "source": [
    "# Export 'sentencesDframe' as .json-file: sentences_dframe.json\n",
    "sentencesDframe.to_json(\"sentences_dframe.json\")"
   ]
  }
 ],
 "metadata": {
  "kernelspec": {
   "display_name": "Python 3",
   "language": "python",
   "name": "python3"
  },
  "language_info": {
   "codemirror_mode": {
    "name": "ipython",
    "version": 3
   },
   "file_extension": ".py",
   "mimetype": "text/x-python",
   "name": "python",
   "nbconvert_exporter": "python",
   "pygments_lexer": "ipython3",
   "version": "3.7.6"
  }
 },
 "nbformat": 4,
 "nbformat_minor": 4
}
