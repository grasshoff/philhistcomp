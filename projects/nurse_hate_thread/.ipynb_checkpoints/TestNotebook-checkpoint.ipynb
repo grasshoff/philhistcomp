{
 "cells": [
  {
   "cell_type": "markdown",
   "metadata": {},
   "source": [
    "## \"Nurse hate thread\" - The pandemic's female Other "
   ]
  },
  {
   "cell_type": "markdown",
   "metadata": {},
   "source": [
    "### Creating DataFrame"
   ]
  },
  {
   "cell_type": "code",
   "execution_count": 77,
   "metadata": {},
   "outputs": [],
   "source": [
    "from scrape_resultat import nurse_text\n",
    "import numpy as np"
   ]
  },
  {
   "cell_type": "code",
   "execution_count": 78,
   "metadata": {},
   "outputs": [],
   "source": [
    "import pandas as pd\n",
    "import re "
   ]
  },
  {
   "cell_type": "code",
   "execution_count": 79,
   "metadata": {},
   "outputs": [],
   "source": [
    "df = pd.DataFrame(nurse_text) "
   ]
  },
  {
   "cell_type": "code",
   "execution_count": 80,
   "metadata": {},
   "outputs": [],
   "source": [
    "# creating dataframe from list\n",
    "lst_col = 'comments'\n",
    "\n",
    "alle = pd.DataFrame({\n",
    "      col:np.repeat(df[col].values, df[lst_col].str.len())\n",
    "      for col in df.columns.drop(lst_col)}\n",
    "    ).assign(**{lst_col:np.concatenate(df[lst_col].values)})[df.columns]"
   ]
  },
  {
   "cell_type": "code",
   "execution_count": 81,
   "metadata": {},
   "outputs": [],
   "source": [
    "alle['number'] = alle[\"comments\"].str.extract(\"(\\d{9})\", expand=False)"
   ]
  },
  {
   "cell_type": "code",
   "execution_count": 82,
   "metadata": {},
   "outputs": [],
   "source": [
    "alle['comments'] = [re.sub('(>{0,2}\\d{9}>{0,2})', ' ', i) for i in alle.comments]"
   ]
  },
  {
   "cell_type": "code",
   "execution_count": 83,
   "metadata": {},
   "outputs": [],
   "source": [
    "alle['comments'] = [i.replace('∖n ', ' ').replace('∖n', ' ') for i in alle.comments]"
   ]
  },
  {
   "cell_type": "code",
   "execution_count": 100,
   "metadata": {},
   "outputs": [
    {
     "data": {
      "text/html": [
       "<div>\n",
       "<style scoped>\n",
       "    .dataframe tbody tr th:only-of-type {\n",
       "        vertical-align: middle;\n",
       "    }\n",
       "\n",
       "    .dataframe tbody tr th {\n",
       "        vertical-align: top;\n",
       "    }\n",
       "\n",
       "    .dataframe thead th {\n",
       "        text-align: right;\n",
       "    }\n",
       "</style>\n",
       "<table border=\"1\" class=\"dataframe\">\n",
       "  <thead>\n",
       "    <tr style=\"text-align: right;\">\n",
       "      <th></th>\n",
       "      <th>title</th>\n",
       "      <th>comments</th>\n",
       "      <th>number</th>\n",
       "    </tr>\n",
       "  </thead>\n",
       "  <tbody>\n",
       "    <tr>\n",
       "      <th>0</th>\n",
       "      <td>NURSE HEROS</td>\n",
       "      <td>\\n                    Did everyone just sudden...</td>\n",
       "      <td>NaN</td>\n",
       "    </tr>\n",
       "    <tr>\n",
       "      <th>1</th>\n",
       "      <td>* QUESTION * Do you agree with this nurse, to ...</td>\n",
       "      <td>\\n                    /pol/ : do you agree wit...</td>\n",
       "      <td>NaN</td>\n",
       "    </tr>\n",
       "    <tr>\n",
       "      <th>2</th>\n",
       "      <td>* QUESTION * Do you agree with this nurse, to ...</td>\n",
       "      <td>why does she dislike the white areas of Georg...</td>\n",
       "      <td>NaN</td>\n",
       "    </tr>\n",
       "    <tr>\n",
       "      <th>3</th>\n",
       "      <td>* QUESTION * Do you agree with this nurse, to ...</td>\n",
       "      <td>As a Nurse, shouldn't she be trying to provid...</td>\n",
       "      <td>NaN</td>\n",
       "    </tr>\n",
       "    <tr>\n",
       "      <th>4</th>\n",
       "      <td>* QUESTION * Do you agree with this nurse, to ...</td>\n",
       "      <td>Summa Cum Laude and she still can't speak pro...</td>\n",
       "      <td>NaN</td>\n",
       "    </tr>\n",
       "    <tr>\n",
       "      <th>5</th>\n",
       "      <td>* QUESTION * Do you agree with this nurse, to ...</td>\n",
       "      <td>makes ya think why they don't and only do it...</td>\n",
       "      <td>259578216</td>\n",
       "    </tr>\n",
       "    <tr>\n",
       "      <th>6</th>\n",
       "      <td>* QUESTION * Do you agree with this nurse, to ...</td>\n",
       "      <td>Shes a nigger psycho, she has a mindless imp...</td>\n",
       "      <td>259578345</td>\n",
       "    </tr>\n",
       "    <tr>\n",
       "      <th>7</th>\n",
       "      <td>* QUESTION * Do you agree with this nurse, to ...</td>\n",
       "      <td>It can’t even form a complete sentence. It c...</td>\n",
       "      <td>259578216</td>\n",
       "    </tr>\n",
       "    <tr>\n",
       "      <th>8</th>\n",
       "      <td>* QUESTION * Do you agree with this nurse, to ...</td>\n",
       "      <td>it's latin, retard</td>\n",
       "      <td>259578613</td>\n",
       "    </tr>\n",
       "    <tr>\n",
       "      <th>9</th>\n",
       "      <td>* QUESTION * Do you agree with this nurse, to ...</td>\n",
       "      <td>lol hate to brake it to ya honey but sav and...</td>\n",
       "      <td>259578216</td>\n",
       "    </tr>\n",
       "  </tbody>\n",
       "</table>\n",
       "</div>"
      ],
      "text/plain": [
       "                                               title  \\\n",
       "0                                        NURSE HEROS   \n",
       "1  * QUESTION * Do you agree with this nurse, to ...   \n",
       "2  * QUESTION * Do you agree with this nurse, to ...   \n",
       "3  * QUESTION * Do you agree with this nurse, to ...   \n",
       "4  * QUESTION * Do you agree with this nurse, to ...   \n",
       "5  * QUESTION * Do you agree with this nurse, to ...   \n",
       "6  * QUESTION * Do you agree with this nurse, to ...   \n",
       "7  * QUESTION * Do you agree with this nurse, to ...   \n",
       "8  * QUESTION * Do you agree with this nurse, to ...   \n",
       "9  * QUESTION * Do you agree with this nurse, to ...   \n",
       "\n",
       "                                            comments     number  \n",
       "0  \\n                    Did everyone just sudden...        NaN  \n",
       "1  \\n                    /pol/ : do you agree wit...        NaN  \n",
       "2   why does she dislike the white areas of Georg...        NaN  \n",
       "3   As a Nurse, shouldn't she be trying to provid...        NaN  \n",
       "4   Summa Cum Laude and she still can't speak pro...        NaN  \n",
       "5    makes ya think why they don't and only do it...  259578216  \n",
       "6    Shes a nigger psycho, she has a mindless imp...  259578345  \n",
       "7    It can’t even form a complete sentence. It c...  259578216  \n",
       "8                                it's latin, retard   259578613  \n",
       "9    lol hate to brake it to ya honey but sav and...  259578216  "
      ]
     },
     "execution_count": 100,
     "metadata": {},
     "output_type": "execute_result"
    }
   ],
   "source": [
    "alle[:10]"
   ]
  },
  {
   "cell_type": "markdown",
   "metadata": {},
   "source": [
    "### Sentences with SpaCy"
   ]
  },
  {
   "cell_type": "code",
   "execution_count": 85,
   "metadata": {},
   "outputs": [],
   "source": [
    "import spacy"
   ]
  },
  {
   "cell_type": "code",
   "execution_count": 103,
   "metadata": {},
   "outputs": [],
   "source": [
    "nlp = spacy.load('en_core_web_sm')"
   ]
  },
  {
   "cell_type": "code",
   "execution_count": 105,
   "metadata": {},
   "outputs": [],
   "source": [
    "nurse_sample = nlp(alle ['comments'][3])"
   ]
  },
  {
   "cell_type": "code",
   "execution_count": 98,
   "metadata": {},
   "outputs": [],
   "source": [
    "doc = nurse_sample"
   ]
  },
  {
   "cell_type": "code",
   "execution_count": 99,
   "metadata": {},
   "outputs": [
    {
     "name": "stdout",
     "output_type": "stream",
     "text": [
      "  SPACE   \n",
      "As SCONJ prep as\n",
      "a DET det a\n",
      "Nurse PROPN pobj Nurse\n",
      ", PUNCT punct ,\n",
      "should VERB aux should\n",
      "n't PART neg not\n",
      "she PRON nsubj -PRON-\n",
      "be AUX aux be\n",
      "trying VERB ROOT try\n",
      "to PART aux to\n",
      "provide VERB xcomp provide\n",
      "medical ADJ amod medical\n",
      "care NOUN dobj care\n",
      "and CCONJ cc and\n",
      "prevent VERB conj prevent\n",
      "physical ADJ amod physical\n",
      "harm NOUN dobj harm\n",
      "to ADP dative to\n",
      "folks NOUN pobj folk\n",
      "... PUNCT punct ...\n",
      "not PART neg not\n",
      "to PART aux to\n",
      "be AUX aux be\n",
      "encouraging VERB xcomp encourage\n",
      "it PRON dobj -PRON-\n",
      "? PUNCT punct ?\n",
      "? PUNCT punct ?\n"
     ]
    }
   ],
   "source": [
    "for token in doc:\n",
    "    print(token, token.pos_, token.dep_, token.lemma_)"
   ]
  },
  {
   "cell_type": "markdown",
   "metadata": {},
   "source": [
    "## Testing"
   ]
  },
  {
   "cell_type": "code",
   "execution_count": 106,
   "metadata": {},
   "outputs": [
    {
     "data": {
      "text/plain": [
       "should"
      ]
     },
     "execution_count": 106,
     "metadata": {},
     "output_type": "execute_result"
    }
   ],
   "source": [
    "doc[5]"
   ]
  }
 ],
 "metadata": {
  "kernelspec": {
   "display_name": "Python 3",
   "language": "python",
   "name": "python3"
  },
  "language_info": {
   "codemirror_mode": {
    "name": "ipython",
    "version": 3
   },
   "file_extension": ".py",
   "mimetype": "text/x-python",
   "name": "python",
   "nbconvert_exporter": "python",
   "pygments_lexer": "ipython3",
   "version": "3.7.6"
  }
 },
 "nbformat": 4,
 "nbformat_minor": 4
}
