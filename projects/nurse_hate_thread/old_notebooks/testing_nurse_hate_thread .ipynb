{
 "cells": [
  {
   "cell_type": "code",
   "execution_count": 1,
   "metadata": {},
   "outputs": [
    {
     "name": "stdout",
     "output_type": "stream",
     "text": [
      "legger til https://archive.4plebs.org/pol/thread/259578216/#259578216\n",
      "legger til https://archive.4plebs.org/pol/thread/259033149/#259033149\n",
      "legger til https://archive.4plebs.org/pol/thread/258490331/#258490331\n",
      "legger til https://archive.4plebs.org/pol/thread/258449849/#258449849\n",
      "legger til https://archive.4plebs.org/pol/thread/258222581/#258222581\n",
      "legger til https://archive.4plebs.org/pol/thread/258191040/#258191040\n",
      "legger til https://archive.4plebs.org/pol/thread/258156850/#258156850\n",
      "legger til https://archive.4plebs.org/pol/thread/257898901/#257898901\n",
      "legger til https://archive.4plebs.org/pol/thread/257539632/#257539632\n",
      "legger til https://archive.4plebs.org/pol/thread/257491408/#257491408\n",
      "legger til https://archive.4plebs.org/pol/thread/257491143/#257491143\n",
      "legger til https://archive.4plebs.org/pol/thread/257320880/#257320880\n",
      "legger til https://archive.4plebs.org/pol/thread/256676256/#256676256\n",
      "legger til https://archive.4plebs.org/pol/thread/256671728/#256671728\n",
      "legger til https://archive.4plebs.org/pol/thread/256642474/#256642474\n",
      "legger til https://archive.4plebs.org/pol/thread/256608449/#256608449\n",
      "legger til https://archive.4plebs.org/pol/thread/256406146/#256406146\n",
      "legger til https://archive.4plebs.org/pol/thread/256244876/#256244876\n",
      "legger til https://archive.4plebs.org/pol/thread/256073594/#256073594\n",
      "legger til https://archive.4plebs.org/pol/thread/255964867/#255964867\n",
      "legger til https://archive.4plebs.org/pol/thread/255954738/#255954738\n",
      "legger til https://archive.4plebs.org/pol/thread/255926898/#255926898\n",
      "legger til https://archive.4plebs.org/pol/thread/255922483/#255922483\n",
      "legger til https://archive.4plebs.org/pol/thread/255920813/#255920813\n",
      "legger til https://archive.4plebs.org/pol/thread/255816951/#255816951\n",
      "legger til https://archive.4plebs.org/pol/thread/255540549/#255540549\n",
      "legger til https://archive.4plebs.org/pol/thread/255436930/#255436930\n",
      "legger til https://archive.4plebs.org/pol/thread/255358744/#255358744\n",
      "legger til https://archive.4plebs.org/pol/thread/255350529/#255350529\n",
      "legger til https://archive.4plebs.org/pol/thread/255323004/#255323004\n",
      "legger til https://archive.4plebs.org/pol/thread/255269750/#255269750\n",
      "legger til https://archive.4plebs.org/pol/thread/255253917/#255253917\n",
      "legger til https://archive.4plebs.org/pol/thread/255215646/#255215646\n",
      "legger til https://archive.4plebs.org/pol/thread/255200589/#255200589\n",
      "legger til https://archive.4plebs.org/pol/thread/255196838/#255196838\n",
      "legger til https://archive.4plebs.org/pol/thread/255148417/#255148417\n",
      "legger til https://archive.4plebs.org/pol/thread/255134255/#255134255\n",
      "legger til https://archive.4plebs.org/pol/thread/255092849/#255092849\n",
      "legger til https://archive.4plebs.org/pol/thread/255059842/#255059842\n",
      "legger til https://archive.4plebs.org/pol/thread/255009275/#255009275\n",
      "legger til https://archive.4plebs.org/pol/thread/254978058/#254978058\n",
      "legger til https://archive.4plebs.org/pol/thread/254872158/#254872158\n",
      "legger til https://archive.4plebs.org/pol/thread/254864871/#254864871\n",
      "legger til https://archive.4plebs.org/pol/thread/254844108/#254844108\n",
      "legger til https://archive.4plebs.org/pol/thread/254795756/#254795756\n",
      "legger til https://archive.4plebs.org/pol/thread/254764888/#254764888\n",
      "legger til https://archive.4plebs.org/pol/thread/254758588/#254758588\n",
      "legger til https://archive.4plebs.org/pol/thread/254754305/#254754305\n",
      "legger til https://archive.4plebs.org/pol/thread/254744799/#254744799\n",
      "legger til https://archive.4plebs.org/pol/thread/254740648/#254740648\n",
      "legger til https://archive.4plebs.org/pol/thread/254607219/#254607219\n",
      "legger til https://archive.4plebs.org/pol/thread/254338000/#254338000\n",
      "legger til https://archive.4plebs.org/pol/thread/254320678/#254320678\n",
      "legger til https://archive.4plebs.org/pol/thread/254308789/#254308789\n",
      "legger til https://archive.4plebs.org/pol/thread/254285586/#254285586\n",
      "legger til https://archive.4plebs.org/pol/thread/254251005/#254251005\n",
      "legger til https://archive.4plebs.org/pol/thread/254219151/#254219151\n",
      "legger til https://archive.4plebs.org/pol/thread/254051035/#254051035\n",
      "legger til https://archive.4plebs.org/pol/thread/253965268/#253965268\n",
      "legger til https://archive.4plebs.org/pol/thread/253914301/#253914301\n",
      "legger til https://archive.4plebs.org/pol/thread/253845679/#253845679\n",
      "legger til https://archive.4plebs.org/pol/thread/253646512/#253646512\n",
      "legger til https://archive.4plebs.org/pol/thread/253638936/#253638936\n",
      "legger til https://archive.4plebs.org/pol/thread/253609726/#253609726\n",
      "legger til https://archive.4plebs.org/pol/thread/253603305/#253603305\n",
      "legger til https://archive.4plebs.org/pol/thread/253562397/#253562397\n",
      "legger til https://archive.4plebs.org/pol/thread/253521627/#253521627\n",
      "legger til https://archive.4plebs.org/pol/thread/253503301/#253503301\n",
      "legger til https://archive.4plebs.org/pol/thread/253311573/#253311573\n",
      "legger til https://archive.4plebs.org/pol/thread/253204044/#253204044\n",
      "legger til https://archive.4plebs.org/pol/thread/252936637/#252936637\n",
      "legger til https://archive.4plebs.org/pol/thread/252756982/#252756982\n",
      "legger til https://archive.4plebs.org/pol/thread/252726491/#252726491\n",
      "legger til https://archive.4plebs.org/pol/thread/252595477/#252595477\n",
      "legger til https://archive.4plebs.org/pol/thread/252480077/#252480077\n",
      "legger til https://archive.4plebs.org/pol/thread/252470246/#252470246\n",
      "legger til https://archive.4plebs.org/pol/thread/252449011/#252449011\n",
      "legger til https://archive.4plebs.org/pol/thread/252439962/#252439962\n",
      "legger til https://archive.4plebs.org/pol/thread/252392959/#252392959\n",
      "legger til https://archive.4plebs.org/pol/thread/252382592/#252382592\n",
      "legger til https://archive.4plebs.org/pol/thread/252297237/#252297237\n",
      "legger til https://archive.4plebs.org/pol/thread/252261766/#252261766\n",
      "legger til https://archive.4plebs.org/pol/thread/252249843/#252249843\n",
      "legger til https://archive.4plebs.org/pol/thread/252056318/#252056318\n",
      "legger til https://archive.4plebs.org/pol/thread/252035986/#252035986\n",
      "legger til https://archive.4plebs.org/pol/thread/251967780/#251967780\n",
      "legger til https://archive.4plebs.org/pol/thread/251932400/#251932400\n",
      "legger til https://archive.4plebs.org/pol/thread/251731781/#251731781\n",
      "legger til https://archive.4plebs.org/pol/thread/251703925/#251703925\n",
      "legger til https://archive.4plebs.org/pol/thread/251670479/#251670479\n",
      "legger til https://archive.4plebs.org/pol/thread/251532301/#251532301\n",
      "legger til https://archive.4plebs.org/pol/thread/251514491/#251514491\n",
      "legger til https://archive.4plebs.org/pol/thread/250743626/#250743626\n",
      "legger til https://archive.4plebs.org/pol/thread/250363026/#250363026\n",
      "legger til https://archive.4plebs.org/pol/thread/250301592/#250301592\n",
      "legger til https://archive.4plebs.org/pol/thread/249770773/#249770773\n",
      "legger til https://archive.4plebs.org/pol/thread/249650326/#249650326\n",
      "legger til https://archive.4plebs.org/pol/thread/249621220/#249621220\n",
      "legger til https://archive.4plebs.org/pol/thread/249478744/#249478744\n",
      "legger til https://archive.4plebs.org/pol/thread/249378416/#249378416\n",
      "scraper https://archive.4plebs.org/pol/thread/259578216/#259578216\n",
      "scraper https://archive.4plebs.org/pol/thread/259033149/#259033149\n",
      "scraper https://archive.4plebs.org/pol/thread/258490331/#258490331\n",
      "scraper https://archive.4plebs.org/pol/thread/258449849/#258449849\n",
      "scraper https://archive.4plebs.org/pol/thread/258222581/#258222581\n",
      "scraper https://archive.4plebs.org/pol/thread/258191040/#258191040\n",
      "scraper https://archive.4plebs.org/pol/thread/258156850/#258156850\n",
      "scraper https://archive.4plebs.org/pol/thread/257898901/#257898901\n",
      "scraper https://archive.4plebs.org/pol/thread/257539632/#257539632\n",
      "scraper https://archive.4plebs.org/pol/thread/257491408/#257491408\n",
      "scraper https://archive.4plebs.org/pol/thread/257491143/#257491143\n",
      "scraper https://archive.4plebs.org/pol/thread/257320880/#257320880\n",
      "scraper https://archive.4plebs.org/pol/thread/256676256/#256676256\n",
      "scraper https://archive.4plebs.org/pol/thread/256671728/#256671728\n",
      "scraper https://archive.4plebs.org/pol/thread/256642474/#256642474\n",
      "scraper https://archive.4plebs.org/pol/thread/256608449/#256608449\n",
      "scraper https://archive.4plebs.org/pol/thread/256406146/#256406146\n",
      "scraper https://archive.4plebs.org/pol/thread/256244876/#256244876\n",
      "scraper https://archive.4plebs.org/pol/thread/256073594/#256073594\n",
      "scraper https://archive.4plebs.org/pol/thread/255964867/#255964867\n",
      "scraper https://archive.4plebs.org/pol/thread/255954738/#255954738\n",
      "scraper https://archive.4plebs.org/pol/thread/255926898/#255926898\n",
      "scraper https://archive.4plebs.org/pol/thread/255922483/#255922483\n",
      "scraper https://archive.4plebs.org/pol/thread/255920813/#255920813\n",
      "scraper https://archive.4plebs.org/pol/thread/255816951/#255816951\n",
      "scraper https://archive.4plebs.org/pol/thread/255540549/#255540549\n",
      "scraper https://archive.4plebs.org/pol/thread/255436930/#255436930\n",
      "scraper https://archive.4plebs.org/pol/thread/255358744/#255358744\n",
      "scraper https://archive.4plebs.org/pol/thread/255350529/#255350529\n",
      "scraper https://archive.4plebs.org/pol/thread/255323004/#255323004\n",
      "scraper https://archive.4plebs.org/pol/thread/255269750/#255269750\n",
      "scraper https://archive.4plebs.org/pol/thread/255253917/#255253917\n",
      "scraper https://archive.4plebs.org/pol/thread/255215646/#255215646\n",
      "scraper https://archive.4plebs.org/pol/thread/255200589/#255200589\n",
      "scraper https://archive.4plebs.org/pol/thread/255196838/#255196838\n",
      "scraper https://archive.4plebs.org/pol/thread/255148417/#255148417\n",
      "scraper https://archive.4plebs.org/pol/thread/255134255/#255134255\n",
      "scraper https://archive.4plebs.org/pol/thread/255092849/#255092849\n",
      "scraper https://archive.4plebs.org/pol/thread/255059842/#255059842\n",
      "scraper https://archive.4plebs.org/pol/thread/255009275/#255009275\n",
      "scraper https://archive.4plebs.org/pol/thread/254978058/#254978058\n",
      "scraper https://archive.4plebs.org/pol/thread/254872158/#254872158\n",
      "scraper https://archive.4plebs.org/pol/thread/254864871/#254864871\n",
      "scraper https://archive.4plebs.org/pol/thread/254844108/#254844108\n",
      "scraper https://archive.4plebs.org/pol/thread/254795756/#254795756\n",
      "scraper https://archive.4plebs.org/pol/thread/254764888/#254764888\n",
      "scraper https://archive.4plebs.org/pol/thread/254758588/#254758588\n",
      "scraper https://archive.4plebs.org/pol/thread/254754305/#254754305\n",
      "scraper https://archive.4plebs.org/pol/thread/254744799/#254744799\n",
      "scraper https://archive.4plebs.org/pol/thread/254740648/#254740648\n",
      "scraper https://archive.4plebs.org/pol/thread/254607219/#254607219\n",
      "scraper https://archive.4plebs.org/pol/thread/254338000/#254338000\n",
      "scraper https://archive.4plebs.org/pol/thread/254320678/#254320678\n",
      "scraper https://archive.4plebs.org/pol/thread/254308789/#254308789\n",
      "scraper https://archive.4plebs.org/pol/thread/254285586/#254285586\n",
      "scraper https://archive.4plebs.org/pol/thread/254251005/#254251005\n",
      "scraper https://archive.4plebs.org/pol/thread/254219151/#254219151\n",
      "scraper https://archive.4plebs.org/pol/thread/254051035/#254051035\n",
      "scraper https://archive.4plebs.org/pol/thread/253965268/#253965268\n",
      "scraper https://archive.4plebs.org/pol/thread/253914301/#253914301\n",
      "scraper https://archive.4plebs.org/pol/thread/253845679/#253845679\n",
      "scraper https://archive.4plebs.org/pol/thread/253646512/#253646512\n",
      "scraper https://archive.4plebs.org/pol/thread/253638936/#253638936\n",
      "scraper https://archive.4plebs.org/pol/thread/253609726/#253609726\n",
      "scraper https://archive.4plebs.org/pol/thread/253603305/#253603305\n",
      "scraper https://archive.4plebs.org/pol/thread/253562397/#253562397\n",
      "scraper https://archive.4plebs.org/pol/thread/253521627/#253521627\n",
      "scraper https://archive.4plebs.org/pol/thread/253503301/#253503301\n",
      "scraper https://archive.4plebs.org/pol/thread/253311573/#253311573\n",
      "scraper https://archive.4plebs.org/pol/thread/253204044/#253204044\n",
      "scraper https://archive.4plebs.org/pol/thread/252936637/#252936637\n",
      "scraper https://archive.4plebs.org/pol/thread/252756982/#252756982\n",
      "scraper https://archive.4plebs.org/pol/thread/252726491/#252726491\n",
      "scraper https://archive.4plebs.org/pol/thread/252595477/#252595477\n",
      "scraper https://archive.4plebs.org/pol/thread/252480077/#252480077\n",
      "scraper https://archive.4plebs.org/pol/thread/252470246/#252470246\n",
      "scraper https://archive.4plebs.org/pol/thread/252449011/#252449011\n",
      "scraper https://archive.4plebs.org/pol/thread/252439962/#252439962\n",
      "scraper https://archive.4plebs.org/pol/thread/252392959/#252392959\n",
      "scraper https://archive.4plebs.org/pol/thread/252382592/#252382592\n",
      "scraper https://archive.4plebs.org/pol/thread/252297237/#252297237\n",
      "scraper https://archive.4plebs.org/pol/thread/252261766/#252261766\n",
      "scraper https://archive.4plebs.org/pol/thread/252249843/#252249843\n",
      "scraper https://archive.4plebs.org/pol/thread/252056318/#252056318\n",
      "scraper https://archive.4plebs.org/pol/thread/252035986/#252035986\n",
      "scraper https://archive.4plebs.org/pol/thread/251967780/#251967780\n",
      "scraper https://archive.4plebs.org/pol/thread/251932400/#251932400\n",
      "scraper https://archive.4plebs.org/pol/thread/251731781/#251731781\n",
      "scraper https://archive.4plebs.org/pol/thread/251703925/#251703925\n",
      "scraper https://archive.4plebs.org/pol/thread/251670479/#251670479\n",
      "scraper https://archive.4plebs.org/pol/thread/251532301/#251532301\n",
      "scraper https://archive.4plebs.org/pol/thread/251514491/#251514491\n",
      "scraper https://archive.4plebs.org/pol/thread/250743626/#250743626\n",
      "scraper https://archive.4plebs.org/pol/thread/250363026/#250363026\n",
      "scraper https://archive.4plebs.org/pol/thread/250301592/#250301592\n",
      "scraper https://archive.4plebs.org/pol/thread/249770773/#249770773\n",
      "scraper https://archive.4plebs.org/pol/thread/249650326/#249650326\n",
      "scraper https://archive.4plebs.org/pol/thread/249621220/#249621220\n",
      "scraper https://archive.4plebs.org/pol/thread/249478744/#249478744\n",
      "scraper https://archive.4plebs.org/pol/thread/249378416/#249378416\n",
      "ferdig!\n"
     ]
    }
   ],
   "source": [
    "%run scrape_v2.py"
   ]
  },
  {
   "cell_type": "code",
   "execution_count": 6,
   "metadata": {},
   "outputs": [],
   "source": [
    "import pandas as pd\n",
    "import re "
   ]
  },
  {
   "cell_type": "code",
   "execution_count": 16,
   "metadata": {},
   "outputs": [
    {
     "data": {
      "text/html": [
       "<div>\n",
       "<style scoped>\n",
       "    .dataframe tbody tr th:only-of-type {\n",
       "        vertical-align: middle;\n",
       "    }\n",
       "\n",
       "    .dataframe tbody tr th {\n",
       "        vertical-align: top;\n",
       "    }\n",
       "\n",
       "    .dataframe thead th {\n",
       "        text-align: right;\n",
       "    }\n",
       "</style>\n",
       "<table border=\"1\" class=\"dataframe\">\n",
       "  <thead>\n",
       "    <tr style=\"text-align: right;\">\n",
       "      <th></th>\n",
       "      <th>comments</th>\n",
       "    </tr>\n",
       "  </thead>\n",
       "  <tbody>\n",
       "    <tr>\n",
       "      <th>0</th>\n",
       "      <td>[\\n                    /pol/ : do you agree wi...</td>\n",
       "    </tr>\n",
       "    <tr>\n",
       "      <th>1</th>\n",
       "      <td>[\\nhttps://www.bbc.com/news/world-europe-48539...</td>\n",
       "    </tr>\n",
       "    <tr>\n",
       "      <th>2</th>\n",
       "      <td>[\\nhttps://youtu.be/EsqdBz-_noQ?t=229 ,  &gt;&gt;258...</td>\n",
       "    </tr>\n",
       "    <tr>\n",
       "      <th>3</th>\n",
       "      <td>[\\n                    IM SUPPOSED TO BE THE S...</td>\n",
       "    </tr>\n",
       "    <tr>\n",
       "      <th>4</th>\n",
       "      <td>[\\nhttps://www.youtube.com/watch?v=uDYm81hEFmM...</td>\n",
       "    </tr>\n",
       "    <tr>\n",
       "      <th>...</th>\n",
       "      <td>...</td>\n",
       "    </tr>\n",
       "    <tr>\n",
       "      <th>95</th>\n",
       "      <td>[\\n&gt;Sharing her story on Facebook, Reizel says...</td>\n",
       "    </tr>\n",
       "    <tr>\n",
       "      <th>96</th>\n",
       "      <td>[\\n                    WTF I HATE AMERICA NOW?...</td>\n",
       "    </tr>\n",
       "    <tr>\n",
       "      <th>97</th>\n",
       "      <td>[\\n                    Coronavirus: 'Fit and h...</td>\n",
       "    </tr>\n",
       "    <tr>\n",
       "      <th>98</th>\n",
       "      <td>[\\n                    Well, it was nice knowi...</td>\n",
       "    </tr>\n",
       "    <tr>\n",
       "      <th>99</th>\n",
       "      <td>[\\n                    FRONTLINE FRONTLINE FRO...</td>\n",
       "    </tr>\n",
       "  </tbody>\n",
       "</table>\n",
       "<p>100 rows × 1 columns</p>\n",
       "</div>"
      ],
      "text/plain": [
       "                                             comments\n",
       "0   [\\n                    /pol/ : do you agree wi...\n",
       "1   [\\nhttps://www.bbc.com/news/world-europe-48539...\n",
       "2   [\\nhttps://youtu.be/EsqdBz-_noQ?t=229 ,  >>258...\n",
       "3   [\\n                    IM SUPPOSED TO BE THE S...\n",
       "4   [\\nhttps://www.youtube.com/watch?v=uDYm81hEFmM...\n",
       "..                                                ...\n",
       "95  [\\n>Sharing her story on Facebook, Reizel says...\n",
       "96  [\\n                    WTF I HATE AMERICA NOW?...\n",
       "97  [\\n                    Coronavirus: 'Fit and h...\n",
       "98  [\\n                    Well, it was nice knowi...\n",
       "99  [\\n                    FRONTLINE FRONTLINE FRO...\n",
       "\n",
       "[100 rows x 1 columns]"
      ]
     },
     "execution_count": 16,
     "metadata": {},
     "output_type": "execute_result"
    }
   ],
   "source": [
    "titles = pd.DataFrame.from_dict(all_posts).drop(['title'], axis=1)\n",
    "titles"
   ]
  },
  {
   "cell_type": "code",
   "execution_count": 12,
   "metadata": {},
   "outputs": [],
   "source": [
    "from operator import itemgetter"
   ]
  },
  {
   "cell_type": "code",
   "execution_count": 44,
   "metadata": {},
   "outputs": [],
   "source": [
    "post1 = itemgetter(0)(all_posts)"
   ]
  },
  {
   "cell_type": "code",
   "execution_count": 45,
   "metadata": {},
   "outputs": [
    {
     "data": {
      "text/html": [
       "<div>\n",
       "<style scoped>\n",
       "    .dataframe tbody tr th:only-of-type {\n",
       "        vertical-align: middle;\n",
       "    }\n",
       "\n",
       "    .dataframe tbody tr th {\n",
       "        vertical-align: top;\n",
       "    }\n",
       "\n",
       "    .dataframe thead th {\n",
       "        text-align: right;\n",
       "    }\n",
       "</style>\n",
       "<table border=\"1\" class=\"dataframe\">\n",
       "  <thead>\n",
       "    <tr style=\"text-align: right;\">\n",
       "      <th></th>\n",
       "      <th>comments</th>\n",
       "    </tr>\n",
       "  </thead>\n",
       "  <tbody>\n",
       "    <tr>\n",
       "      <th>0</th>\n",
       "      <td>\\n                    /pol/ : do you agree wit...</td>\n",
       "    </tr>\n",
       "    <tr>\n",
       "      <th>1</th>\n",
       "      <td>why does she dislike the white areas of Georg...</td>\n",
       "    </tr>\n",
       "    <tr>\n",
       "      <th>2</th>\n",
       "      <td>As a Nurse, shouldn't she be trying to provid...</td>\n",
       "    </tr>\n",
       "    <tr>\n",
       "      <th>3</th>\n",
       "      <td>Summa Cum Laude and she still can't speak pro...</td>\n",
       "    </tr>\n",
       "    <tr>\n",
       "      <th>4</th>\n",
       "      <td>&gt;&gt;259578216makes ya think why they don't and ...</td>\n",
       "    </tr>\n",
       "    <tr>\n",
       "      <th>...</th>\n",
       "      <td>...</td>\n",
       "    </tr>\n",
       "    <tr>\n",
       "      <th>258</th>\n",
       "      <td>&gt;&gt;259592053&gt;selling burner phones to criminal...</td>\n",
       "    </tr>\n",
       "    <tr>\n",
       "      <th>259</th>\n",
       "      <td>&gt;&gt;259584092why are the ozarks split up in suc...</td>\n",
       "    </tr>\n",
       "    <tr>\n",
       "      <th>260</th>\n",
       "      <td>GIVE ME CITY &amp; HOSPITAL NAME WJETR SHE WORKS ...</td>\n",
       "    </tr>\n",
       "    <tr>\n",
       "      <th>261</th>\n",
       "      <td>Police have been ordered not to use lethal fo...</td>\n",
       "    </tr>\n",
       "    <tr>\n",
       "      <th>262</th>\n",
       "      <td>Report her to her employers</td>\n",
       "    </tr>\n",
       "  </tbody>\n",
       "</table>\n",
       "<p>263 rows × 1 columns</p>\n",
       "</div>"
      ],
      "text/plain": [
       "                                              comments\n",
       "0    \\n                    /pol/ : do you agree wit...\n",
       "1     why does she dislike the white areas of Georg...\n",
       "2     As a Nurse, shouldn't she be trying to provid...\n",
       "3     Summa Cum Laude and she still can't speak pro...\n",
       "4     >>259578216makes ya think why they don't and ...\n",
       "..                                                 ...\n",
       "258   >>259592053>selling burner phones to criminal...\n",
       "259   >>259584092why are the ozarks split up in suc...\n",
       "260   GIVE ME CITY & HOSPITAL NAME WJETR SHE WORKS ...\n",
       "261   Police have been ordered not to use lethal fo...\n",
       "262                       Report her to her employers \n",
       "\n",
       "[263 rows x 1 columns]"
      ]
     },
     "execution_count": 45,
     "metadata": {},
     "output_type": "execute_result"
    }
   ],
   "source": [
    "pd.DataFrame.from_dict(post1).drop(['title'], axis=1)"
   ]
  },
  {
   "cell_type": "code",
   "execution_count": 4,
   "metadata": {},
   "outputs": [],
   "source": [
    "from operator import itemgetter"
   ]
  },
  {
   "cell_type": "code",
   "execution_count": 8,
   "metadata": {},
   "outputs": [
    {
     "ename": "NameError",
     "evalue": "name 'all_posts' is not defined",
     "output_type": "error",
     "traceback": [
      "\u001b[1;31m------------------------------------------------------------------\u001b[0m",
      "\u001b[1;31mNameError\u001b[0m                        Traceback (most recent call last)",
      "\u001b[1;32m<ipython-input-8-7696407e04c3>\u001b[0m in \u001b[0;36m<module>\u001b[1;34m\u001b[0m\n\u001b[1;32m----> 1\u001b[1;33m \u001b[0mpost1\u001b[0m \u001b[1;33m=\u001b[0m \u001b[0mitemgetter\u001b[0m\u001b[1;33m(\u001b[0m\u001b[1;36m1\u001b[0m\u001b[1;33m)\u001b[0m\u001b[1;33m(\u001b[0m\u001b[0mall_posts\u001b[0m\u001b[1;33m)\u001b[0m\u001b[1;33m\u001b[0m\u001b[1;33m\u001b[0m\u001b[0m\n\u001b[0m",
      "\u001b[1;31mNameError\u001b[0m: name 'all_posts' is not defined"
     ]
    }
   ],
   "source": [
    "post1 = itemgetter(1)(all_posts)"
   ]
  },
  {
   "cell_type": "code",
   "execution_count": 7,
   "metadata": {},
   "outputs": [
    {
     "ename": "NameError",
     "evalue": "name 'post1' is not defined",
     "output_type": "error",
     "traceback": [
      "\u001b[1;31m------------------------------------------------------------------\u001b[0m",
      "\u001b[1;31mNameError\u001b[0m                        Traceback (most recent call last)",
      "\u001b[1;32m<ipython-input-7-e9bf7e372722>\u001b[0m in \u001b[0;36m<module>\u001b[1;34m\u001b[0m\n\u001b[1;32m----> 1\u001b[1;33m \u001b[0mpd\u001b[0m\u001b[1;33m.\u001b[0m\u001b[0mDataFrame\u001b[0m\u001b[1;33m.\u001b[0m\u001b[0mfrom_dict\u001b[0m\u001b[1;33m(\u001b[0m\u001b[0mpost1\u001b[0m\u001b[1;33m)\u001b[0m\u001b[1;33m.\u001b[0m\u001b[0mdrop\u001b[0m\u001b[1;33m(\u001b[0m\u001b[1;33m[\u001b[0m\u001b[1;34m'title'\u001b[0m\u001b[1;33m]\u001b[0m\u001b[1;33m,\u001b[0m \u001b[0maxis\u001b[0m\u001b[1;33m=\u001b[0m\u001b[1;36m1\u001b[0m\u001b[1;33m)\u001b[0m\u001b[1;33m\u001b[0m\u001b[1;33m\u001b[0m\u001b[0m\n\u001b[0m",
      "\u001b[1;31mNameError\u001b[0m: name 'post1' is not defined"
     ]
    }
   ],
   "source": [
    "pd.DataFrame.from_dict(post1).drop(['title'], axis=1)"
   ]
  },
  {
   "cell_type": "code",
   "execution_count": null,
   "metadata": {},
   "outputs": [],
   "source": [
    "from operator import itemgetter"
   ]
  },
  {
   "cell_type": "code",
   "execution_count": 63,
   "metadata": {},
   "outputs": [],
   "source": [
    "post1 = itemgetter(2)(all_posts)"
   ]
  },
  {
   "cell_type": "code",
   "execution_count": 64,
   "metadata": {},
   "outputs": [
    {
     "data": {
      "text/html": [
       "<div>\n",
       "<style scoped>\n",
       "    .dataframe tbody tr th:only-of-type {\n",
       "        vertical-align: middle;\n",
       "    }\n",
       "\n",
       "    .dataframe tbody tr th {\n",
       "        vertical-align: top;\n",
       "    }\n",
       "\n",
       "    .dataframe thead th {\n",
       "        text-align: right;\n",
       "    }\n",
       "</style>\n",
       "<table border=\"1\" class=\"dataframe\">\n",
       "  <thead>\n",
       "    <tr style=\"text-align: right;\">\n",
       "      <th></th>\n",
       "      <th>comments</th>\n",
       "    </tr>\n",
       "  </thead>\n",
       "  <tbody>\n",
       "    <tr>\n",
       "      <th>0</th>\n",
       "      <td>\\nhttps://youtu.be/EsqdBz-_noQ?t=229</td>\n",
       "    </tr>\n",
       "    <tr>\n",
       "      <th>1</th>\n",
       "      <td>&gt;&gt;258490331&gt;black woman's photo id It's hangi...</td>\n",
       "    </tr>\n",
       "    <tr>\n",
       "      <th>2</th>\n",
       "      <td>bump I want to know too</td>\n",
       "    </tr>\n",
       "    <tr>\n",
       "      <th>3</th>\n",
       "      <td>&gt;&gt;258490331Also I live in Manhattan (sadly), ...</td>\n",
       "    </tr>\n",
       "    <tr>\n",
       "      <th>4</th>\n",
       "      <td>&gt;&gt;258490473Thanks for the bu... wait, why the...</td>\n",
       "    </tr>\n",
       "    <tr>\n",
       "      <th>5</th>\n",
       "      <td>&gt;&gt;258490331bump</td>\n",
       "    </tr>\n",
       "    <tr>\n",
       "      <th>6</th>\n",
       "      <td>&gt;&gt;258490331Anyone?</td>\n",
       "    </tr>\n",
       "    <tr>\n",
       "      <th>7</th>\n",
       "      <td>I also would like to know. My noggin is joggin</td>\n",
       "    </tr>\n",
       "    <tr>\n",
       "      <th>8</th>\n",
       "      <td>Guessing an actor</td>\n",
       "    </tr>\n",
       "    <tr>\n",
       "      <th>9</th>\n",
       "      <td>&gt;&gt;258490331&gt;https://youtu.be/EsqdBz-_noQ?t=22...</td>\n",
       "    </tr>\n",
       "    <tr>\n",
       "      <th>10</th>\n",
       "      <td>&gt;&gt;258490331so these are the new crisis actor ...</td>\n",
       "    </tr>\n",
       "    <tr>\n",
       "      <th>11</th>\n",
       "      <td>&gt;&gt;258490469Those IDs are keys as well. They l...</td>\n",
       "    </tr>\n",
       "    <tr>\n",
       "      <th>12</th>\n",
       "      <td>&gt;&gt;258490649Good.</td>\n",
       "    </tr>\n",
       "    <tr>\n",
       "      <th>13</th>\n",
       "      <td>I just watched this video last night and stru...</td>\n",
       "    </tr>\n",
       "  </tbody>\n",
       "</table>\n",
       "</div>"
      ],
      "text/plain": [
       "                                             comments\n",
       "0               \\nhttps://youtu.be/EsqdBz-_noQ?t=229 \n",
       "1    >>258490331>black woman's photo id It's hangi...\n",
       "2                            bump I want to know too \n",
       "3    >>258490331Also I live in Manhattan (sadly), ...\n",
       "4    >>258490473Thanks for the bu... wait, why the...\n",
       "5                                    >>258490331bump \n",
       "6                                 >>258490331Anyone? \n",
       "7     I also would like to know. My noggin is joggin \n",
       "8                                  Guessing an actor \n",
       "9    >>258490331>https://youtu.be/EsqdBz-_noQ?t=22...\n",
       "10   >>258490331so these are the new crisis actor ...\n",
       "11   >>258490469Those IDs are keys as well. They l...\n",
       "12                                  >>258490649Good. \n",
       "13   I just watched this video last night and stru..."
      ]
     },
     "execution_count": 64,
     "metadata": {},
     "output_type": "execute_result"
    }
   ],
   "source": [
    "pd.DataFrame.from_dict(post1).drop(['title'], axis=1)"
   ]
  },
  {
   "cell_type": "code",
   "execution_count": null,
   "metadata": {},
   "outputs": [],
   "source": [
    "from operator import itemgetter"
   ]
  },
  {
   "cell_type": "code",
   "execution_count": 65,
   "metadata": {},
   "outputs": [],
   "source": [
    "post1 = itemgetter(3)(all_posts)"
   ]
  },
  {
   "cell_type": "code",
   "execution_count": 66,
   "metadata": {},
   "outputs": [
    {
     "data": {
      "text/html": [
       "<div>\n",
       "<style scoped>\n",
       "    .dataframe tbody tr th:only-of-type {\n",
       "        vertical-align: middle;\n",
       "    }\n",
       "\n",
       "    .dataframe tbody tr th {\n",
       "        vertical-align: top;\n",
       "    }\n",
       "\n",
       "    .dataframe thead th {\n",
       "        text-align: right;\n",
       "    }\n",
       "</style>\n",
       "<table border=\"1\" class=\"dataframe\">\n",
       "  <thead>\n",
       "    <tr style=\"text-align: right;\">\n",
       "      <th></th>\n",
       "      <th>comments</th>\n",
       "    </tr>\n",
       "  </thead>\n",
       "  <tbody>\n",
       "    <tr>\n",
       "      <th>0</th>\n",
       "      <td>\\n                    IM SUPPOSED TO BE THE SP...</td>\n",
       "    </tr>\n",
       "    <tr>\n",
       "      <th>1</th>\n",
       "      <td>&gt;&gt;258449849You have now entered, bizzaro world.</td>\n",
       "    </tr>\n",
       "    <tr>\n",
       "      <th>2</th>\n",
       "      <td>WHAT THE FUCK IS TIKTOKI LITERALLY HAVE NO IDEA</td>\n",
       "    </tr>\n",
       "  </tbody>\n",
       "</table>\n",
       "</div>"
      ],
      "text/plain": [
       "                                            comments\n",
       "0  \\n                    IM SUPPOSED TO BE THE SP...\n",
       "1   >>258449849You have now entered, bizzaro world. \n",
       "2   WHAT THE FUCK IS TIKTOKI LITERALLY HAVE NO IDEA "
      ]
     },
     "execution_count": 66,
     "metadata": {},
     "output_type": "execute_result"
    }
   ],
   "source": [
    "pd.DataFrame.from_dict(post1).drop(['title'], axis=1)"
   ]
  },
  {
   "cell_type": "code",
   "execution_count": null,
   "metadata": {},
   "outputs": [],
   "source": [
    "from operator import itemgetter "
   ]
  },
  {
   "cell_type": "code",
   "execution_count": 14,
   "metadata": {},
   "outputs": [
    {
     "ename": "NameError",
     "evalue": "name 'all_posts' is not defined",
     "output_type": "error",
     "traceback": [
      "\u001b[1;31m------------------------------------------------------------------\u001b[0m",
      "\u001b[1;31mNameError\u001b[0m                        Traceback (most recent call last)",
      "\u001b[1;32m<ipython-input-14-1c2b939df5da>\u001b[0m in \u001b[0;36m<module>\u001b[1;34m\u001b[0m\n\u001b[1;32m----> 1\u001b[1;33m \u001b[0mpost1\u001b[0m \u001b[1;33m=\u001b[0m \u001b[0mitemgetter\u001b[0m\u001b[1;33m(\u001b[0m\u001b[1;36m4\u001b[0m\u001b[1;33m)\u001b[0m\u001b[1;33m(\u001b[0m\u001b[0mall_posts\u001b[0m\u001b[1;33m)\u001b[0m\u001b[1;33m\u001b[0m\u001b[1;33m\u001b[0m\u001b[0m\n\u001b[0m",
      "\u001b[1;31mNameError\u001b[0m: name 'all_posts' is not defined"
     ]
    }
   ],
   "source": [
    "post1 = itemgetter(4)(all_posts)"
   ]
  },
  {
   "cell_type": "code",
   "execution_count": 15,
   "metadata": {},
   "outputs": [
    {
     "ename": "NameError",
     "evalue": "name 'post1' is not defined",
     "output_type": "error",
     "traceback": [
      "\u001b[1;31m------------------------------------------------------------------\u001b[0m",
      "\u001b[1;31mNameError\u001b[0m                        Traceback (most recent call last)",
      "\u001b[1;32m<ipython-input-15-e9bf7e372722>\u001b[0m in \u001b[0;36m<module>\u001b[1;34m\u001b[0m\n\u001b[1;32m----> 1\u001b[1;33m \u001b[0mpd\u001b[0m\u001b[1;33m.\u001b[0m\u001b[0mDataFrame\u001b[0m\u001b[1;33m.\u001b[0m\u001b[0mfrom_dict\u001b[0m\u001b[1;33m(\u001b[0m\u001b[0mpost1\u001b[0m\u001b[1;33m)\u001b[0m\u001b[1;33m.\u001b[0m\u001b[0mdrop\u001b[0m\u001b[1;33m(\u001b[0m\u001b[1;33m[\u001b[0m\u001b[1;34m'title'\u001b[0m\u001b[1;33m]\u001b[0m\u001b[1;33m,\u001b[0m \u001b[0maxis\u001b[0m\u001b[1;33m=\u001b[0m\u001b[1;36m1\u001b[0m\u001b[1;33m)\u001b[0m\u001b[1;33m\u001b[0m\u001b[1;33m\u001b[0m\u001b[0m\n\u001b[0m",
      "\u001b[1;31mNameError\u001b[0m: name 'post1' is not defined"
     ]
    }
   ],
   "source": [
    "pd.DataFrame.from_dict(post1).drop(['title'], axis=1)"
   ]
  },
  {
   "cell_type": "code",
   "execution_count": 39,
   "metadata": {},
   "outputs": [],
   "source": [
    "from operator import itemgetter "
   ]
  },
  {
   "cell_type": "code",
   "execution_count": 40,
   "metadata": {},
   "outputs": [],
   "source": [
    "post1 = itemgetter(5)(all_posts)"
   ]
  },
  {
   "cell_type": "code",
   "execution_count": 11,
   "metadata": {},
   "outputs": [
    {
     "ename": "NameError",
     "evalue": "name 'post1' is not defined",
     "output_type": "error",
     "traceback": [
      "\u001b[1;31m------------------------------------------------------------------\u001b[0m",
      "\u001b[1;31mNameError\u001b[0m                        Traceback (most recent call last)",
      "\u001b[1;32m<ipython-input-11-e9bf7e372722>\u001b[0m in \u001b[0;36m<module>\u001b[1;34m\u001b[0m\n\u001b[1;32m----> 1\u001b[1;33m \u001b[0mpd\u001b[0m\u001b[1;33m.\u001b[0m\u001b[0mDataFrame\u001b[0m\u001b[1;33m.\u001b[0m\u001b[0mfrom_dict\u001b[0m\u001b[1;33m(\u001b[0m\u001b[0mpost1\u001b[0m\u001b[1;33m)\u001b[0m\u001b[1;33m.\u001b[0m\u001b[0mdrop\u001b[0m\u001b[1;33m(\u001b[0m\u001b[1;33m[\u001b[0m\u001b[1;34m'title'\u001b[0m\u001b[1;33m]\u001b[0m\u001b[1;33m,\u001b[0m \u001b[0maxis\u001b[0m\u001b[1;33m=\u001b[0m\u001b[1;36m1\u001b[0m\u001b[1;33m)\u001b[0m\u001b[1;33m\u001b[0m\u001b[1;33m\u001b[0m\u001b[0m\n\u001b[0m",
      "\u001b[1;31mNameError\u001b[0m: name 'post1' is not defined"
     ]
    }
   ],
   "source": [
    "pd.DataFrame.from_dict(post1).drop(['title'], axis=1)"
   ]
  },
  {
   "cell_type": "code",
   "execution_count": 10,
   "metadata": {},
   "outputs": [],
   "source": [
    "from operator import itemgetter"
   ]
  },
  {
   "cell_type": "code",
   "execution_count": 12,
   "metadata": {},
   "outputs": [
    {
     "ename": "NameError",
     "evalue": "name 'all_posts' is not defined",
     "output_type": "error",
     "traceback": [
      "\u001b[1;31m------------------------------------------------------------------\u001b[0m",
      "\u001b[1;31mNameError\u001b[0m                        Traceback (most recent call last)",
      "\u001b[1;32m<ipython-input-12-afc2053d98ff>\u001b[0m in \u001b[0;36m<module>\u001b[1;34m\u001b[0m\n\u001b[1;32m----> 1\u001b[1;33m \u001b[0mpost1\u001b[0m \u001b[1;33m=\u001b[0m \u001b[0mitemgetter\u001b[0m\u001b[1;33m(\u001b[0m\u001b[1;36m99\u001b[0m\u001b[1;33m)\u001b[0m\u001b[1;33m(\u001b[0m\u001b[0mall_posts\u001b[0m\u001b[1;33m)\u001b[0m\u001b[1;33m\u001b[0m\u001b[1;33m\u001b[0m\u001b[0m\n\u001b[0m",
      "\u001b[1;31mNameError\u001b[0m: name 'all_posts' is not defined"
     ]
    }
   ],
   "source": [
    "post1 = itemgetter(99)(all_posts)"
   ]
  },
  {
   "cell_type": "code",
   "execution_count": 13,
   "metadata": {},
   "outputs": [
    {
     "ename": "NameError",
     "evalue": "name 'post1' is not defined",
     "output_type": "error",
     "traceback": [
      "\u001b[1;31m------------------------------------------------------------------\u001b[0m",
      "\u001b[1;31mNameError\u001b[0m                        Traceback (most recent call last)",
      "\u001b[1;32m<ipython-input-13-e9bf7e372722>\u001b[0m in \u001b[0;36m<module>\u001b[1;34m\u001b[0m\n\u001b[1;32m----> 1\u001b[1;33m \u001b[0mpd\u001b[0m\u001b[1;33m.\u001b[0m\u001b[0mDataFrame\u001b[0m\u001b[1;33m.\u001b[0m\u001b[0mfrom_dict\u001b[0m\u001b[1;33m(\u001b[0m\u001b[0mpost1\u001b[0m\u001b[1;33m)\u001b[0m\u001b[1;33m.\u001b[0m\u001b[0mdrop\u001b[0m\u001b[1;33m(\u001b[0m\u001b[1;33m[\u001b[0m\u001b[1;34m'title'\u001b[0m\u001b[1;33m]\u001b[0m\u001b[1;33m,\u001b[0m \u001b[0maxis\u001b[0m\u001b[1;33m=\u001b[0m\u001b[1;36m1\u001b[0m\u001b[1;33m)\u001b[0m\u001b[1;33m\u001b[0m\u001b[1;33m\u001b[0m\u001b[0m\n\u001b[0m",
      "\u001b[1;31mNameError\u001b[0m: name 'post1' is not defined"
     ]
    }
   ],
   "source": [
    "pd.DataFrame.from_dict(post1).drop(['title'], axis=1)"
   ]
  },
  {
   "cell_type": "code",
   "execution_count": null,
   "metadata": {},
   "outputs": [],
   "source": []
  }
 ],
 "metadata": {
  "kernelspec": {
   "display_name": "Python 3",
   "language": "python",
   "name": "python3"
  },
  "language_info": {
   "codemirror_mode": {
    "name": "ipython",
    "version": 3
   },
   "file_extension": ".py",
   "mimetype": "text/x-python",
   "name": "python",
   "nbconvert_exporter": "python",
   "pygments_lexer": "ipython3",
   "version": "3.7.6"
  }
 },
 "nbformat": 4,
 "nbformat_minor": 4
}
