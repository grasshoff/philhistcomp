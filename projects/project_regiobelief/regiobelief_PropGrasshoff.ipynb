{
 "cells": [
  {
   "cell_type": "markdown",
   "metadata": {},
   "source": [
    "1 Data Import and Meanings of Variables"
   ]
  },
  {
   "cell_type": "code",
   "execution_count": 5,
   "metadata": {},
   "outputs": [],
   "source": [
    "import pandas as pd\n",
    "import numpy as np\n",
    "import matplotlib.pyplot as plt\n",
    "import seaborn as sns"
   ]
  },
  {
   "cell_type": "code",
   "execution_count": 13,
   "metadata": {},
   "outputs": [
    {
     "data": {
      "text/plain": [
       "136325"
      ]
     },
     "execution_count": 13,
     "metadata": {},
     "output_type": "execute_result"
    }
   ],
   "source": [
    "#possibly use plotnine for better graphics\n",
    "\n",
    "df = pd.read_csv('regiobelief.csv',skiprows=[0])\n",
    "len(df)\n",
    "\n",
    "#land: German federal state\n",
    "#year: Erhebungsjahr\n",
    "#doi: Digital Object Identifier\n",
    "#respid: Identication number of participant\n",
    "#ep01: \"State of the economy toda?\" n=59976\n",
    "#eastwest: Participant in East- or Westgerman\n",
    "#lp05: \"Politicians don't care about ordinary citizens\"\n",
    "#st01: \"Trust in other citizens\" n=29783\n",
    "#ingle: Ingleheart Index: Materialist or Postmaterialist or mixed form\n",
    "#mp02: \"Foreigners burden our social security net\" n=10312\n",
    "#mp03: \"Foreigners enrichen our culture\" n=10337\n",
    "#iw02: \"Corporate profits boost the economy\" n=12373\n",
    "#pn03: \"Proud of german athletes\"\n",
    "#pr10: \"Socialism: Good Idea, but badly executed\" n=22620\n",
    "#pe09: \"Voting is a citizens duty\" - n=9989\n",
    "#pe05: \"Politicians represent my interests\" n=9881\n",
    "#pe01: \"Politicians don't care about my thoughts\" n=12883"
   ]
  },
  {
   "cell_type": "code",
   "execution_count": 16,
   "metadata": {},
   "outputs": [
    {
     "data": {
      "text/html": [
       "<div>\n",
       "<style scoped>\n",
       "    .dataframe tbody tr th:only-of-type {\n",
       "        vertical-align: middle;\n",
       "    }\n",
       "\n",
       "    .dataframe tbody tr th {\n",
       "        vertical-align: top;\n",
       "    }\n",
       "\n",
       "    .dataframe thead th {\n",
       "        text-align: right;\n",
       "    }\n",
       "</style>\n",
       "<table border=\"1\" class=\"dataframe\">\n",
       "  <thead>\n",
       "    <tr style=\"text-align: right;\">\n",
       "      <th></th>\n",
       "      <th>Unnamed: 0</th>\n",
       "      <th>inc</th>\n",
       "      <th>land</th>\n",
       "      <th>year</th>\n",
       "      <th>doi</th>\n",
       "      <th>respid</th>\n",
       "      <th>ep01</th>\n",
       "      <th>eastwest</th>\n",
       "      <th>lp05</th>\n",
       "      <th>st01</th>\n",
       "      <th>ingle</th>\n",
       "      <th>mp02</th>\n",
       "      <th>mp03</th>\n",
       "      <th>iw02</th>\n",
       "      <th>pn03</th>\n",
       "      <th>pr10</th>\n",
       "      <th>pe09</th>\n",
       "      <th>pe05</th>\n",
       "      <th>pe01</th>\n",
       "    </tr>\n",
       "  </thead>\n",
       "  <tbody>\n",
       "    <tr>\n",
       "      <th>0</th>\n",
       "      <td>1</td>\n",
       "      <td>1250</td>\n",
       "      <td>60</td>\n",
       "      <td>1980</td>\n",
       "      <td>doi:10.4232/1.13395</td>\n",
       "      <td>1</td>\n",
       "      <td>-1</td>\n",
       "      <td>1</td>\n",
       "      <td>-1</td>\n",
       "      <td>-1</td>\n",
       "      <td>1</td>\n",
       "      <td>-1</td>\n",
       "      <td>-1</td>\n",
       "      <td>-1</td>\n",
       "      <td>-1</td>\n",
       "      <td>-1</td>\n",
       "      <td>-1</td>\n",
       "      <td>-1</td>\n",
       "      <td>-1</td>\n",
       "    </tr>\n",
       "    <tr>\n",
       "      <th>1</th>\n",
       "      <td>2</td>\n",
       "      <td>675</td>\n",
       "      <td>50</td>\n",
       "      <td>1980</td>\n",
       "      <td>doi:10.4232/1.13395</td>\n",
       "      <td>2</td>\n",
       "      <td>-1</td>\n",
       "      <td>1</td>\n",
       "      <td>-1</td>\n",
       "      <td>-1</td>\n",
       "      <td>3</td>\n",
       "      <td>-1</td>\n",
       "      <td>-1</td>\n",
       "      <td>-1</td>\n",
       "      <td>-1</td>\n",
       "      <td>-1</td>\n",
       "      <td>-1</td>\n",
       "      <td>-1</td>\n",
       "      <td>-1</td>\n",
       "    </tr>\n",
       "  </tbody>\n",
       "</table>\n",
       "</div>"
      ],
      "text/plain": [
       "  Unnamed: 0   inc land  year                  doi respid ep01 eastwest lp05  \\\n",
       "0          1  1250   60  1980  doi:10.4232/1.13395      1   -1        1   -1   \n",
       "1          2   675   50  1980  doi:10.4232/1.13395      2   -1        1   -1   \n",
       "\n",
       "  st01 ingle mp02 mp03 iw02 pn03 pr10 pe09 pe05 pe01  \n",
       "0   -1     1   -1   -1   -1   -1   -1   -1   -1   -1  \n",
       "1   -1     3   -1   -1   -1   -1   -1   -1   -1   -1  "
      ]
     },
     "execution_count": 16,
     "metadata": {},
     "output_type": "execute_result"
    }
   ],
   "source": [
    "df.head(2)"
   ]
  },
  {
   "cell_type": "markdown",
   "metadata": {},
   "source": [
    "2 Data Types and Replacing State Names"
   ]
  },
  {
   "cell_type": "code",
   "execution_count": 22,
   "metadata": {},
   "outputs": [],
   "source": [
    "ersatz={30:\"NI\",40:\"HB\"}\n",
    "df[\"ersatz\"]=df[\"land\"].apply(lambda x:ersatz.get(x))"
   ]
  },
  {
   "cell_type": "code",
   "execution_count": 17,
   "metadata": {},
   "outputs": [
    {
     "name": "stdout",
     "output_type": "stream",
     "text": [
      "<class 'pandas.core.frame.DataFrame'>\n",
      "RangeIndex: 136325 entries, 0 to 136324\n",
      "Data columns (total 19 columns):\n",
      " #   Column      Non-Null Count   Dtype \n",
      "---  ------      --------------   ----- \n",
      " 0   Unnamed: 0  136324 non-null  object\n",
      " 1   inc         136323 non-null  object\n",
      " 2   land        136325 non-null  object\n",
      " 3   year        136323 non-null  object\n",
      " 4   doi         136323 non-null  object\n",
      " 5   respid      136323 non-null  object\n",
      " 6   ep01        136323 non-null  object\n",
      " 7   eastwest    136323 non-null  object\n",
      " 8   lp05        136323 non-null  object\n",
      " 9   st01        136323 non-null  object\n",
      " 10  ingle       136323 non-null  object\n",
      " 11  mp02        136323 non-null  object\n",
      " 12  mp03        136323 non-null  object\n",
      " 13  iw02        136323 non-null  object\n",
      " 14  pn03        136323 non-null  object\n",
      " 15  pr10        136323 non-null  object\n",
      " 16  pe09        136323 non-null  object\n",
      " 17  pe05        136323 non-null  object\n",
      " 18  pe01        136323 non-null  object\n",
      "dtypes: object(19)\n",
      "memory usage: 19.8+ MB\n"
     ]
    }
   ],
   "source": [
    "df.info()\n",
    "df[\"land\"]= df[\"land\"].astype(str)"
   ]
  },
  {
   "cell_type": "code",
   "execution_count": 18,
   "metadata": {
    "scrolled": true
   },
   "outputs": [
    {
     "data": {
      "text/plain": [
       "<matplotlib.axes._subplots.AxesSubplot at 0x7fdfd8e76210>"
      ]
     },
     "execution_count": 18,
     "metadata": {},
     "output_type": "execute_result"
    },
    {
     "data": {
      "image/png": "[encoded data removed]",
      "text/plain": [
       "<Figure size 432x288 with 1 Axes>"
      ]
     },
     "metadata": {
      "needs_background": "light"
     },
     "output_type": "display_data"
    }
   ],
   "source": [
    "#land --> strings with names\n",
    "\n",
    "df.loc[(df.land == '10'), 'land'] = 'SH'\n",
    "df.loc[(df.land == '20'), 'land'] = 'HH'\n",
    "df.loc[(df.land == '30'), 'land'] = 'NI'\n",
    "df.loc[(df.land == '40'), 'land'] = 'HB'\n",
    "df.loc[(df.land == '50'), 'land'] = 'NW'\n",
    "df.loc[(df.land == '60'), 'land'] = 'HE'\n",
    "df.loc[(df.land == '70'), 'land'] = 'RP'\n",
    "df.loc[(df.land == '80'), 'land'] = 'BW'\n",
    "df.loc[(df.land == '90'), 'land'] = 'BY'\n",
    "df.loc[(df.land == '100'), 'land'] = 'SL'\n",
    "df.loc[(df.land == '111'), 'land'] = 'WBE'\n",
    "df.loc[(df.land == '112'), 'land'] = 'OBE'\n",
    "df.loc[(df.land == '120'), 'land'] = 'BB'\n",
    "df.loc[(df.land == '130'), 'land'] = 'MV'\n",
    "df.loc[(df.land == '140'), 'land'] = 'SN'\n",
    "df.loc[(df.land == '150'), 'land'] = 'ST'\n",
    "df.loc[(df.land == '160'), 'land'] = 'TH'\n",
    "\n",
    "df.land.value_counts().plot(kind='barh',color='#86bf91', edgecolor = 'black')\n",
    "\n",
    "#10 SH\n",
    "#20 HH\n",
    "#30 NI\n",
    "#40 HB\n",
    "#50 NW\n",
    "#60 HE\n",
    "#70 RP\n",
    "#80 BW\n",
    "#90 BY\n",
    "#100 SL\n",
    "#111 BE; <ab 1991:> WBE\n",
    "#112 <Ab 1991:> OBE\n",
    "#120 <Ab 1991:> BB\n",
    "#130 <Ab 1991:> MV\n",
    "#140 <Ab 1991:> SN\n",
    "#150 <Ab 1991:> ST\n",
    "#160 <Ab 1991:> TH\n",
    "\n",
    "    "
   ]
  },
  {
   "cell_type": "markdown",
   "metadata": {},
   "source": [
    "3 Data Exploration"
   ]
  },
  {
   "cell_type": "code",
   "execution_count": null,
   "metadata": {
    "scrolled": true
   },
   "outputs": [],
   "source": [
    "\n",
    "#Select Respondents who gave definite answers\n",
    "n = df[df['pe09'] > 0]\n",
    "\n",
    "#Count number of respective answers\n",
    "m = n.pe09.value_counts(normalize=True)\n",
    "m.plot(kind='barh',color='#86bf91', edgecolor = 'black')\n"
   ]
  },
  {
   "cell_type": "code",
   "execution_count": null,
   "metadata": {},
   "outputs": [],
   "source": [
    "#Select relevant columns\n",
    "df1 = pd.DataFrame(n, columns=['land', 'year', 'pe09'])\n",
    "\n",
    "\n",
    "a = df1.loc[df.pe09  > 0]\n",
    "\n",
    "#Accept pe09\n",
    "b = df1.loc[(df.pe09 == 1) | (df.pe09 == 2)]\n",
    "\n",
    "#Deny pe09\n",
    "c = df1.loc[(df.pe09 == 3) | (df.pe09 == 4)]\n",
    "\n",
    "#Calculate Totals by State\n",
    "land_aggr = a.groupby(['land', 'year']).agg({'pe09': 'sum'})\n",
    "\n",
    "land_aggr\n",
    "\n",
    "#Calculate Acceptance and Denial by State\n",
    "b1 = b.groupby(['land','year'], group_keys=False).agg({'pe09': 'sum'})\n",
    "c1 = c.groupby(['land','year'],group_keys=False).agg({'pe09': 'sum'})\n",
    "\n",
    "#Calculate Percentages\n",
    "b2 = b1.groupby(level=1).apply(lambda x: \n",
    "                                 100*x /land_aggr).dropna()\n",
    "\n",
    "c2 = c1.groupby(level=1).apply(lambda x: \n",
    "                                100* x /land_aggr).dropna()\n",
    "\n",
    "#Plot Denial of pe09 by State\n",
    "fig, ax = plt.subplots(figsize=(8,6))\n",
    "bp = c2.groupby('land').plot(kind='line', \n",
    "                             marker='D', markersize=3,  \n",
    "                             ax=ax,\n",
    "                             legend=False,\n",
    "                             title='Ablehnung: \"Wählen ist Bürgerpflicht\"')\n"
   ]
  },
  {
   "cell_type": "code",
   "execution_count": null,
   "metadata": {},
   "outputs": [],
   "source": [
    "df1.head(2)"
   ]
  },
  {
   "cell_type": "code",
   "execution_count": null,
   "metadata": {},
   "outputs": [],
   "source": [
    "#Plot Acceptance of pe09 by State\n",
    "fig, ax = plt.subplots(figsize=(8,6))\n",
    "f = b2.groupby('land').plot(kind='line', \n",
    "                             marker='D', markersize=3,  \n",
    "                             ax=ax,\n",
    "                             legend=False,\n",
    "                             title='Zustimmung: \"Wählen ist Bürgerpflicht\"')\n"
   ]
  },
  {
   "cell_type": "code",
   "execution_count": null,
   "metadata": {},
   "outputs": [],
   "source": [
    "#Relevant columns\n",
    "pe_ew = pd.DataFrame(n, columns=['eastwest', 'year', 'pe09'])\n",
    "\n",
    "#Total number of respondesnts by eastwest\n",
    "pe_ew_agg = pe_ew.groupby(['year', 'eastwest']).agg({'pe09': 'sum'})\n",
    "\n",
    "#Acceptance\n",
    "Z = pe_ew.loc[(df.pe09 == 1) | (df.pe09 == 2)]\n",
    "#Denial\n",
    "Ab = pe_ew.loc[(df.pe09 == 3) | (df.pe09 == 4)]\n",
    "\n",
    "#Acceptance and Denial by Eastwest, divided by total respondents by Eastwest\n",
    "Ab_group=Ab.groupby(['year', 'eastwest']).agg({'pe09': 'sum'})/pe_ew_agg\n",
    "Z_group=Z.groupby(['year', 'eastwest']).agg({'pe09': 'sum'})/pe_ew_agg\n",
    "\n",
    "#Merge Acceptance and Denial\n",
    "df3 = pd.merge(Ab_group, Z_group, on=['year','eastwest'])\n",
    "\n",
    "#Plot Denial and Acceptance in one\n",
    "fig, ax = plt.subplots(figsize=(8,6))\n",
    "f = df3.groupby('eastwest').plot(kind='line', \n",
    "                             marker='D', markersize=3,  \n",
    "                             ax=ax,\n",
    "                             legend=True,\n",
    "                             title='Zustimmung und Ablehnung: \"Wählen ist Bürgerpflicht nach Ost-West\"')"
   ]
  },
  {
   "cell_type": "markdown",
   "metadata": {},
   "source": [
    "4 Further possible Variable Explorations: ingle, eastwest"
   ]
  },
  {
   "cell_type": "code",
   "execution_count": null,
   "metadata": {},
   "outputs": [],
   "source": [
    "plt.hist(df['eastwest'], color = 'red', edgecolor = 'black',\n",
    "         bins = 2)\n",
    "\n",
    "df.eastwest.value_counts()"
   ]
  },
  {
   "cell_type": "code",
   "execution_count": null,
   "metadata": {},
   "outputs": [],
   "source": [
    "df.ingle.value_counts()\n",
    "\n",
    "# Materialisten: va01 Ruhe und Ordnung, va03 Kampf gegen steigende Preise\n",
    "# Postmaterialisten: va02 Bürger*inneneinfluss, va04 freie Meinungsäusserung"
   ]
  },
  {
   "cell_type": "markdown",
   "metadata": {},
   "source": [
    "Further Goals:\n",
    "\n",
    "- develop more automated version of averages/year/land with loops?\n",
    "- develop clear graphics with proper labels, legends and colors\n",
    "- apply these to further variables to identify more significant regional divergences\n",
    "\n",
    "\n",
    "Problems:\n",
    "- Numbers are not representative \n",
    "- What does the change of perspective from analysis by State change compared to analysis by Eastwest?\n",
    "- "
   ]
  }
 ],
 "metadata": {
  "kernelspec": {
   "display_name": "Python 3",
   "language": "python",
   "name": "python3"
  },
  "language_info": {
   "codemirror_mode": {
    "name": "ipython",
    "version": 3
   },
   "file_extension": ".py",
   "mimetype": "text/x-python",
   "name": "python",
   "nbconvert_exporter": "python",
   "pygments_lexer": "ipython3",
   "version": "3.7.7"
  }
 },
 "nbformat": 4,
 "nbformat_minor": 4
}
