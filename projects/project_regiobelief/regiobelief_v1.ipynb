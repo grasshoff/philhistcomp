{
 "cells": [
  {
   "cell_type": "code",
   "execution_count": 5,
   "metadata": {},
   "outputs": [
    {
     "name": "stdout",
     "output_type": "stream",
     "text": [
      "Index(['Unnamed: 0', 'inc', 'land', 'year', 'doi', 'respid', 'ep01',\n",
      "       'eastwest', 'lp05', 'st01', 'ingle', 'mp02', 'mp03', 'iw02', 'pn03',\n",
      "       'pr10', 'pe09', 'pe05', 'pe01'],\n",
      "      dtype='object')\n"
     ]
    }
   ],
   "source": [
    "import pandas as pd\n",
    "import numpy as np\n",
    "import matplotlib.pyplot as plt\n",
    "\n",
    "#possibly use plotnine for better graphics\n",
    "\n",
    "df = pd.read_csv('regiobelief.csv')\n",
    "\n",
    "print(df.columns)"
   ]
  },
  {
   "cell_type": "code",
   "execution_count": 18,
   "metadata": {},
   "outputs": [
    {
     "name": "stdout",
     "output_type": "stream",
     "text": [
      "<class 'pandas.core.frame.DataFrame'>\n",
      "RangeIndex: 68161 entries, 0 to 68160\n",
      "Data columns (total 20 columns):\n",
      " #   Column      Non-Null Count  Dtype \n",
      "---  ------      --------------  ----- \n",
      " 0   Unnamed: 0  68161 non-null  int64 \n",
      " 1   inc         68161 non-null  int64 \n",
      " 2   land        68161 non-null  int64 \n",
      " 3   year        68161 non-null  int64 \n",
      " 4   doi         68161 non-null  object\n",
      " 5   respid      68161 non-null  int64 \n",
      " 6   ep01        68161 non-null  int64 \n",
      " 7   eastwest    68161 non-null  int64 \n",
      " 8   lp05        68161 non-null  int64 \n",
      " 9   st01        68161 non-null  int64 \n",
      " 10  ingle       68161 non-null  int64 \n",
      " 11  mp02        68161 non-null  int64 \n",
      " 12  mp03        68161 non-null  int64 \n",
      " 13  iw02        68161 non-null  int64 \n",
      " 14  pn03        68161 non-null  int64 \n",
      " 15  pr10        68161 non-null  int64 \n",
      " 16  pe09        68161 non-null  int64 \n",
      " 17  pe05        68161 non-null  int64 \n",
      " 18  pe01        68161 non-null  int64 \n",
      " 19  bundesland  68161 non-null  object\n",
      "dtypes: int64(18), object(2)\n",
      "memory usage: 10.4+ MB\n"
     ]
    }
   ],
   "source": [
    "df.info()"
   ]
  },
  {
   "cell_type": "code",
   "execution_count": 78,
   "metadata": {},
   "outputs": [
    {
     "data": {
      "text/plain": [
       "(array([51498., 16663.]), array([1. , 1.5, 2. ]), <a list of 2 Patch objects>)"
      ]
     },
     "execution_count": 78,
     "metadata": {},
     "output_type": "execute_result"
    },
    {
     "data": {
      "image/png": "[encoded data removed]",
      "text/plain": [
       "<Figure size 432x288 with 1 Axes>"
      ]
     },
     "metadata": {
      "needs_background": "light"
     },
     "output_type": "display_data"
    }
   ],
   "source": [
    "#df.hist(column = 'inc', bins = 15, color='#86bf91')\n",
    "\n",
    "plt.hist(df['inc'], color = 'blue', edgecolor = 'black',\n",
    "         bins = 20)\n",
    "\n",
    "# Einkommen nicht repräsentativ bei n = 68000"
   ]
  },
  {
   "cell_type": "code",
   "execution_count": 71,
   "metadata": {
    "scrolled": true
   },
   "outputs": [
    {
     "data": {
      "text/plain": [
       "(array([ 3550.,  6090., 13977.,  4902., 10845.,  9729.,  3613.,  3015.,\n",
       "         6660.,  5780.]),\n",
       " array([ 10.,  25.,  40.,  55.,  70.,  85., 100., 115., 130., 145., 160.]),\n",
       " <a list of 10 Patch objects>)"
      ]
     },
     "execution_count": 71,
     "metadata": {},
     "output_type": "execute_result"
    },
    {
     "data": {
      "image/png": "[encoded data removed]",
      "text/plain": [
       "<Figure size 432x288 with 1 Axes>"
      ]
     },
     "metadata": {
      "needs_background": "light"
     },
     "output_type": "display_data"
    }
   ],
   "source": [
    "#'bundesland' = land\n",
    "\n",
    "df['bundesland'] = df.land.astype(str)\n",
    "df['bundesland'] = df['bundesland'].replace({ '10' : 'Schleswig-Holstein', '20' : 'Hamburg', '30' : 'Niedersachsen', '40' : 'Bremen', '50' : 'NRW', '60' : 'Hessen',\n",
    "             '70' : 'Rheinland-Pfalz', '80' : 'BW', '90' : 'Bayern', '100' : 'Saarland', '111' : 'Berlin', '112' : 'Berlin-Ost',\n",
    "             '120': 'Brandenburg', '130' : 'MV', '140' : 'Sachsen', '150' : 'Sachsen-Anhalt', '160' : 'Thüringen'})\n",
    "\n",
    "plt.hist(df['land'], color='#86bf91', edgecolor = 'black')\n",
    "\n",
    "#10 Schleswig-Holstein\n",
    "#20 Hamburg\n",
    "#30 Niedersachsen\n",
    "#40 Bremen\n",
    "#50 Nordrhein-Westfalen\n",
    "#60 Hessen\n",
    "#70 Rheinland-Pfalz\n",
    "#80 Baden-Württemberg\n",
    "#90 Bayern\n",
    "#100 Saarland\n",
    "#111 Berlin; <ab 1991:> Berlin-West\n",
    "#112 <Ab 1991:> Berlin-Ost\n",
    "#120 <Ab 1991:> Brandenburg\n",
    "#130 <Ab 1991:> Mecklenburg-Vorpommern\n",
    "#140 <Ab 1991:> Sachsen\n",
    "#150 <Ab 1991:> Sachsen-Anhalt\n",
    "#160 <Ab 1991:> Thüringen\n",
    "\n",
    "    "
   ]
  },
  {
   "cell_type": "code",
   "execution_count": 86,
   "metadata": {},
   "outputs": [
    {
     "data": {
      "text/plain": [
       "1    51498\n",
       "2    16663\n",
       "Name: eastwest, dtype: int64"
      ]
     },
     "execution_count": 86,
     "metadata": {},
     "output_type": "execute_result"
    },
    {
     "data": {
      "image/png": "[encoded data removed]",
      "text/plain": [
       "<Figure size 432x288 with 1 Axes>"
      ]
     },
     "metadata": {
      "needs_background": "light"
     },
     "output_type": "display_data"
    }
   ],
   "source": [
    "plt.hist(df['eastwest'], color = 'red', edgecolor = 'black',\n",
    "         bins = 2)\n",
    "\n",
    "df.eastwest.value_counts()"
   ]
  },
  {
   "cell_type": "code",
   "execution_count": 87,
   "metadata": {},
   "outputs": [
    {
     "data": {
      "text/plain": [
       " 3     21005\n",
       " 2     18364\n",
       " 1     15235\n",
       " 4     12469\n",
       "-32     1088\n",
       "Name: ingle, dtype: int64"
      ]
     },
     "execution_count": 87,
     "metadata": {},
     "output_type": "execute_result"
    }
   ],
   "source": [
    "df.ingle.value_counts()\n",
    "\n",
    "# Materialisten: va01 Ruhe und Ordnung, va03 Kampf gegen steigende Preise\n",
    "# Postmaterialisten: va02 Bürger*inneneinfluss, va04 freie Meinungsäusserung"
   ]
  }
 ],
 "metadata": {
  "kernelspec": {
   "display_name": "Python 3",
   "language": "python",
   "name": "python3"
  },
  "language_info": {
   "codemirror_mode": {
    "name": "ipython",
    "version": 3
   },
   "file_extension": ".py",
   "mimetype": "text/x-python",
   "name": "python",
   "nbconvert_exporter": "python",
   "pygments_lexer": "ipython3",
   "version": "3.7.6"
  }
 },
 "nbformat": 4,
 "nbformat_minor": 4
}
