{
 "cells": [
  {
   "cell_type": "code",
<<<<<<< HEAD
   "execution_count": 5,
=======
<<<<<<< HEAD
   "execution_count": 2,
=======
   "execution_count": 5,
>>>>>>> 0387ac7a5a5868858b8a936cb4c845c5eecbd01f
>>>>>>> a48712bde8b35768211d5a14441eb4b30a24fe5c
   "metadata": {},
   "outputs": [
    {
     "name": "stdout",
     "output_type": "stream",
     "text": [
      "Index(['Unnamed: 0', 'inc', 'land', 'year', 'doi', 'respid', 'ep01',\n",
      "       'eastwest', 'lp05', 'st01', 'ingle', 'mp02', 'mp03', 'iw02', 'pn03',\n",
      "       'pr10', 'pe09', 'pe05', 'pe01'],\n",
      "      dtype='object')\n"
     ]
    }
   ],
   "source": [
    "import pandas as pd\n",
    "import numpy as np\n",
    "import matplotlib.pyplot as plt\n",
    "\n",
    "#possibly use plotnine for better graphics\n",
    "\n",
    "df = pd.read_csv('regiobelief.csv')\n",
    "\n",
<<<<<<< HEAD
    "print(df.columns)"
=======
<<<<<<< HEAD
    "print(df.columns)\n",
    "\n",
    "#land: German federal state\n",
    "#ear: Erhebungsjahr\n",
    "#doi: Digital Object Identifier\n",
    "#respid: Identication number of participant\n",
    "#ep01: \"State of the econom toda?\" n=59976\n",
    "#eastwest: Participant in East- or Westgerman\n",
    "#lp05: \"Politicians don't care about ordinar citizens\"\n",
    "#st01: \"Trust in other citizens\" n=29783\n",
    "#ingle: Ingleheart Index: Materialist or Postmaterialist or mixed form\n",
    "#mp02: \"Foreigners burden our social securit net\" n=10312\n",
    "#mp03: \"Foreigners enrichen our culture\" n=10337\n",
    "#iw02: \"Corporate profits boost the econom\" n=12373\n",
    "#pn03: \"Proud of german athletes\"\n",
    "#pr10: \"Socialism: Good Idea, but badl executed\" n=22620\n",
    "#pe09: \"Voting is a citizens dut\" - n=9989\n",
    "#pe05: \"Politicians represent m interests\" n=9881\n",
    "#pe01: \"Politicians don't care about m thoughts\" n=12883"
=======
    "print(df.columns)"
>>>>>>> 0387ac7a5a5868858b8a936cb4c845c5eecbd01f
>>>>>>> a48712bde8b35768211d5a14441eb4b30a24fe5c
   ]
  },
  {
   "cell_type": "code",
<<<<<<< HEAD
   "execution_count": 18,
=======
<<<<<<< HEAD
   "execution_count": 29,
=======
   "execution_count": 18,
>>>>>>> 0387ac7a5a5868858b8a936cb4c845c5eecbd01f
>>>>>>> a48712bde8b35768211d5a14441eb4b30a24fe5c
   "metadata": {},
   "outputs": [
    {
     "name": "stdout",
     "output_type": "stream",
     "text": [
      "<class 'pandas.core.frame.DataFrame'>\n",
      "RangeIndex: 68161 entries, 0 to 68160\n",
<<<<<<< HEAD
      "Data columns (total 20 columns):\n",
=======
<<<<<<< HEAD
      "Data columns (total 19 columns):\n",
=======
      "Data columns (total 20 columns):\n",
>>>>>>> 0387ac7a5a5868858b8a936cb4c845c5eecbd01f
>>>>>>> a48712bde8b35768211d5a14441eb4b30a24fe5c
      " #   Column      Non-Null Count  Dtype \n",
      "---  ------      --------------  ----- \n",
      " 0   Unnamed: 0  68161 non-null  int64 \n",
      " 1   inc         68161 non-null  int64 \n",
<<<<<<< HEAD
      " 2   land        68161 non-null  int64 \n",
=======
<<<<<<< HEAD
      " 2   land        68161 non-null  object\n",
=======
      " 2   land        68161 non-null  int64 \n",
>>>>>>> 0387ac7a5a5868858b8a936cb4c845c5eecbd01f
>>>>>>> a48712bde8b35768211d5a14441eb4b30a24fe5c
      " 3   year        68161 non-null  int64 \n",
      " 4   doi         68161 non-null  object\n",
      " 5   respid      68161 non-null  int64 \n",
      " 6   ep01        68161 non-null  int64 \n",
      " 7   eastwest    68161 non-null  int64 \n",
      " 8   lp05        68161 non-null  int64 \n",
      " 9   st01        68161 non-null  int64 \n",
      " 10  ingle       68161 non-null  int64 \n",
      " 11  mp02        68161 non-null  int64 \n",
      " 12  mp03        68161 non-null  int64 \n",
      " 13  iw02        68161 non-null  int64 \n",
      " 14  pn03        68161 non-null  int64 \n",
      " 15  pr10        68161 non-null  int64 \n",
      " 16  pe09        68161 non-null  int64 \n",
      " 17  pe05        68161 non-null  int64 \n",
      " 18  pe01        68161 non-null  int64 \n",
<<<<<<< HEAD
      " 19  bundesland  68161 non-null  object\n",
      "dtypes: int64(18), object(2)\n",
      "memory usage: 10.4+ MB\n"
=======
<<<<<<< HEAD
      "dtypes: int64(17), object(2)\n",
      "memory usage: 9.9+ MB\n"
=======
      " 19  bundesland  68161 non-null  object\n",
      "dtypes: int64(18), object(2)\n",
      "memory usage: 10.4+ MB\n"
>>>>>>> 0387ac7a5a5868858b8a936cb4c845c5eecbd01f
>>>>>>> a48712bde8b35768211d5a14441eb4b30a24fe5c
     ]
    }
   ],
   "source": [
<<<<<<< HEAD
    "df.info()"
=======
<<<<<<< HEAD
    "df.info()\n",
    "df[\"land\"]= df[\"land\"].astype(str)\n"
=======
    "df.info()"
>>>>>>> 0387ac7a5a5868858b8a936cb4c845c5eecbd01f
>>>>>>> a48712bde8b35768211d5a14441eb4b30a24fe5c
   ]
  },
  {
   "cell_type": "code",
<<<<<<< HEAD
   "execution_count": 78,
=======
<<<<<<< HEAD
   "execution_count": 4,
=======
   "execution_count": 78,
>>>>>>> 0387ac7a5a5868858b8a936cb4c845c5eecbd01f
>>>>>>> a48712bde8b35768211d5a14441eb4b30a24fe5c
   "metadata": {},
   "outputs": [
    {
     "data": {
      "text/plain": [
<<<<<<< HEAD
=======
<<<<<<< HEAD
       "(array([6.5536e+04, 2.2870e+03, 2.9800e+02, 2.4000e+01, 4.0000e+00,\n",
       "        7.0000e+00, 2.0000e+00, 0.0000e+00, 0.0000e+00, 0.0000e+00,\n",
       "        0.0000e+00, 1.0000e+00, 0.0000e+00, 0.0000e+00, 0.0000e+00,\n",
       "        0.0000e+00, 0.0000e+00, 0.0000e+00, 0.0000e+00, 2.0000e+00]),\n",
       " array([-5.00000e+01,  2.95250e+03,  5.95500e+03,  8.95750e+03,\n",
       "         1.19600e+04,  1.49625e+04,  1.79650e+04,  2.09675e+04,\n",
       "         2.39700e+04,  2.69725e+04,  2.99750e+04,  3.29775e+04,\n",
       "         3.59800e+04,  3.89825e+04,  4.19850e+04,  4.49875e+04,\n",
       "         4.79900e+04,  5.09925e+04,  5.39950e+04,  5.69975e+04,\n",
       "         6.00000e+04]),\n",
       " <a list of 20 Patch objects>)"
      ]
     },
     "execution_count": 4,
=======
>>>>>>> a48712bde8b35768211d5a14441eb4b30a24fe5c
       "(array([51498., 16663.]), array([1. , 1.5, 2. ]), <a list of 2 Patch objects>)"
      ]
     },
     "execution_count": 78,
<<<<<<< HEAD
=======
>>>>>>> 0387ac7a5a5868858b8a936cb4c845c5eecbd01f
>>>>>>> a48712bde8b35768211d5a14441eb4b30a24fe5c
     "metadata": {},
     "output_type": "execute_result"
    },
    {
     "data": {
      "image/png": "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\n",
      "text/plain": [
       "<Figure size 432x288 with 1 Axes>"
      ]
     },
     "metadata": {
      "needs_background": "light"
     },
     "output_type": "display_data"
    }
   ],
   "source": [
    "#df.hist(column = 'inc', bins = 15, color='#86bf91')\n",
    "\n",
    "plt.hist(df['inc'], color = 'blue', edgecolor = 'black',\n",
    "         bins = 20)\n",
    "\n",
    "# Einkommen nicht repräsentativ bei n = 68000"
   ]
  },
  {
   "cell_type": "code",
<<<<<<< HEAD
   "execution_count": 71,
=======
<<<<<<< HEAD
   "execution_count": 30,
=======
   "execution_count": 71,
>>>>>>> 0387ac7a5a5868858b8a936cb4c845c5eecbd01f
>>>>>>> a48712bde8b35768211d5a14441eb4b30a24fe5c
   "metadata": {
    "scrolled": true
   },
   "outputs": [
    {
     "data": {
      "text/plain": [
<<<<<<< HEAD
=======
<<<<<<< HEAD
       "<matplotlib.axes._subplots.AxesSubplot at 0x216d509e0c8>"
      ]
     },
     "execution_count": 30,
=======
>>>>>>> a48712bde8b35768211d5a14441eb4b30a24fe5c
       "(array([ 3550.,  6090., 13977.,  4902., 10845.,  9729.,  3613.,  3015.,\n",
       "         6660.,  5780.]),\n",
       " array([ 10.,  25.,  40.,  55.,  70.,  85., 100., 115., 130., 145., 160.]),\n",
       " <a list of 10 Patch objects>)"
      ]
     },
     "execution_count": 71,
<<<<<<< HEAD
=======
>>>>>>> 0387ac7a5a5868858b8a936cb4c845c5eecbd01f
>>>>>>> a48712bde8b35768211d5a14441eb4b30a24fe5c
     "metadata": {},
     "output_type": "execute_result"
    },
    {
     "data": {
<<<<<<< HEAD
      "image/png": "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\n",
=======
<<<<<<< HEAD
      "image/png": "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\n",
=======
      "image/png": "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\n",
>>>>>>> 0387ac7a5a5868858b8a936cb4c845c5eecbd01f
>>>>>>> a48712bde8b35768211d5a14441eb4b30a24fe5c
      "text/plain": [
       "<Figure size 432x288 with 1 Axes>"
      ]
     },
     "metadata": {
      "needs_background": "light"
     },
     "output_type": "display_data"
    }
   ],
   "source": [
<<<<<<< HEAD
=======
<<<<<<< HEAD
    "#land --> strings with names\n",
    "\n",
    "df.loc[(df.land == '10'), 'land'] = 'SH'\n",
    "df.loc[(df.land == '20'), 'land'] = 'HH'\n",
    "df.loc[(df.land == '30'), 'land'] = 'NI'\n",
    "df.loc[(df.land == '40'), 'land'] = 'HB'\n",
    "df.loc[(df.land == '50'), 'land'] = 'NW'\n",
    "df.loc[(df.land == '60'), 'land'] = 'HE'\n",
    "df.loc[(df.land == '70'), 'land'] = 'RP'\n",
    "df.loc[(df.land == '80'), 'land'] = 'BW'\n",
    "df.loc[(df.land == '90'), 'land'] = 'BY'\n",
    "df.loc[(df.land == '100'), 'land'] = 'SL'\n",
    "df.loc[(df.land == '111'), 'land'] = 'WBE'\n",
    "df.loc[(df.land == '112'), 'land'] = 'OBE'\n",
    "df.loc[(df.land == '120'), 'land'] = 'BB'\n",
    "df.loc[(df.land == '130'), 'land'] = 'MV'\n",
    "df.loc[(df.land == '140'), 'land'] = 'SN'\n",
    "df.loc[(df.land == '150'), 'land'] = 'ST'\n",
    "df.loc[(df.land == '160'), 'land'] = 'TH'\n",
    "\n",
    "df.land.value_counts().plot(kind='barh',color='#86bf91', edgecolor = 'black')\n",
    "\n",
    "#10 SH\n",
    "#20 HH\n",
    "#30 NI\n",
    "#40 HB\n",
    "#50 NW\n",
    "#60 HE\n",
    "#70 RP\n",
    "#80 BW\n",
    "#90 BY\n",
    "#100 SL\n",
    "#111 BE; <ab 1991:> WBE\n",
    "#112 <Ab 1991:> OBE\n",
    "#120 <Ab 1991:> BB\n",
    "#130 <Ab 1991:> MV\n",
    "#140 <Ab 1991:> SN\n",
    "#150 <Ab 1991:> ST\n",
    "#160 <Ab 1991:> TH\n",
=======
>>>>>>> a48712bde8b35768211d5a14441eb4b30a24fe5c
    "#'bundesland' = land\n",
    "\n",
    "df['bundesland'] = df.land.astype(str)\n",
    "df['bundesland'] = df['bundesland'].replace({ '10' : 'Schleswig-Holstein', '20' : 'Hamburg', '30' : 'Niedersachsen', '40' : 'Bremen', '50' : 'NRW', '60' : 'Hessen',\n",
    "             '70' : 'Rheinland-Pfalz', '80' : 'BW', '90' : 'Bayern', '100' : 'Saarland', '111' : 'Berlin', '112' : 'Berlin-Ost',\n",
    "             '120': 'Brandenburg', '130' : 'MV', '140' : 'Sachsen', '150' : 'Sachsen-Anhalt', '160' : 'Thüringen'})\n",
    "\n",
    "plt.hist(df['land'], color='#86bf91', edgecolor = 'black')\n",
    "\n",
    "#10 Schleswig-Holstein\n",
    "#20 Hamburg\n",
    "#30 Niedersachsen\n",
    "#40 Bremen\n",
    "#50 Nordrhein-Westfalen\n",
    "#60 Hessen\n",
    "#70 Rheinland-Pfalz\n",
    "#80 Baden-Württemberg\n",
    "#90 Bayern\n",
    "#100 Saarland\n",
    "#111 Berlin; <ab 1991:> Berlin-West\n",
    "#112 <Ab 1991:> Berlin-Ost\n",
    "#120 <Ab 1991:> Brandenburg\n",
    "#130 <Ab 1991:> Mecklenburg-Vorpommern\n",
    "#140 <Ab 1991:> Sachsen\n",
    "#150 <Ab 1991:> Sachsen-Anhalt\n",
    "#160 <Ab 1991:> Thüringen\n",
<<<<<<< HEAD
=======
>>>>>>> 0387ac7a5a5868858b8a936cb4c845c5eecbd01f
>>>>>>> a48712bde8b35768211d5a14441eb4b30a24fe5c
    "\n",
    "    "
   ]
  },
  {
   "cell_type": "code",
<<<<<<< HEAD
=======
<<<<<<< HEAD
   "execution_count": 42,
   "metadata": {},
   "outputs": [
    {
     "data": {
      "text/plain": [
       "<matplotlib.axes._subplots.AxesSubplot at 0x21693ffb388>"
      ]
     },
     "execution_count": 42,
     "metadata": {},
     "output_type": "execute_result"
    },
    {
     "data": {
      "image/png": "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\n",
      "text/plain": [
       "<Figure size 432x288 with 1 Axes>"
      ]
     },
     "metadata": {
      "needs_background": "light"
     },
     "output_type": "display_data"
    }
   ],
   "source": [
    "n = df[df['pe09'] > 0]\n",
    "\n",
    "m = n.pe09.value_counts(normalize=True)\n",
    "\n",
    "#m.plot(kind='barh',color='#86bf91', edgecolor = 'black')"
   ]
  },
  {
   "cell_type": "code",
   "execution_count": 95,
   "metadata": {},
   "outputs": [
    {
     "name": "stdout",
     "output_type": "stream",
     "text": [
      "land  year  pe09\n",
      "BB    1998  1        71\n",
      "            2        49\n",
      "            3        30\n",
      "            4        18\n",
      "      2008  1       112\n",
      "                   ... \n",
      "WBE   2008  3         8\n",
      "            4         6\n",
      "      2018  1        45\n",
      "            2        12\n",
      "            3         4\n",
      "Length: 200, dtype: int64\n"
     ]
    }
   ],
   "source": [
    "n = df[df['pe09'] > 0]\n",
    "\n",
    "df1 = pd.DataFrame(n, columns=['land', 'year', 'pe09'])\n",
    "\n",
    "m = df1.groupby(['land','year', 'pe09']).size()\n",
    "\n",
    "print(m)"
   ]
  },
  {
   "cell_type": "code",
=======
>>>>>>> 0387ac7a5a5868858b8a936cb4c845c5eecbd01f
>>>>>>> a48712bde8b35768211d5a14441eb4b30a24fe5c
   "execution_count": 86,
   "metadata": {},
   "outputs": [
    {
     "data": {
      "text/plain": [
       "1    51498\n",
       "2    16663\n",
       "Name: eastwest, dtype: int64"
      ]
     },
     "execution_count": 86,
     "metadata": {},
     "output_type": "execute_result"
    },
    {
     "data": {
      "image/png": "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\n",
      "text/plain": [
       "<Figure size 432x288 with 1 Axes>"
      ]
     },
     "metadata": {
      "needs_background": "light"
     },
     "output_type": "display_data"
    }
   ],
   "source": [
    "plt.hist(df['eastwest'], color = 'red', edgecolor = 'black',\n",
    "         bins = 2)\n",
    "\n",
    "df.eastwest.value_counts()"
   ]
  },
  {
   "cell_type": "code",
   "execution_count": 87,
   "metadata": {},
   "outputs": [
    {
     "data": {
      "text/plain": [
       " 3     21005\n",
       " 2     18364\n",
       " 1     15235\n",
       " 4     12469\n",
       "-32     1088\n",
       "Name: ingle, dtype: int64"
      ]
     },
     "execution_count": 87,
     "metadata": {},
     "output_type": "execute_result"
    }
   ],
   "source": [
    "df.ingle.value_counts()\n",
    "\n",
    "# Materialisten: va01 Ruhe und Ordnung, va03 Kampf gegen steigende Preise\n",
    "# Postmaterialisten: va02 Bürger*inneneinfluss, va04 freie Meinungsäusserung"
   ]
  }
 ],
 "metadata": {
  "kernelspec": {
   "display_name": "Python 3",
   "language": "python",
   "name": "python3"
  },
  "language_info": {
   "codemirror_mode": {
    "name": "ipython",
    "version": 3
   },
   "file_extension": ".py",
   "mimetype": "text/x-python",
   "name": "python",
   "nbconvert_exporter": "python",
   "pygments_lexer": "ipython3",
   "version": "3.7.6"
  }
 },
 "nbformat": 4,
 "nbformat_minor": 4
}
