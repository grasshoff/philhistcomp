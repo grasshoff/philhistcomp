{
 "cells": [
  {
   "cell_type": "markdown",
   "metadata": {},
   "source": [
    "The Market\n",
    "==========\n",
    "\n",
    "## Orders\n",
    "\n",
    "We are interested in the modeling of financial markets. In particular the modeling of double auction markets. Unlike in a regular auction, where only buyers compete, in double auctions both buyers and sellers participate. Buyers place bids, sellers place asks and the market finds a way to match them together. A bid consists of a price 𝑃 and a volume 𝑉, such that a bidder guarantees he will buy any number under 𝑉 for any price under 𝑃. An asks consists of a price 𝑃 and a volume 𝑉, such that an asker guarantees he will sell any number under 𝑉 for any price over 𝑃. Bids and asks are called orders and are collected in an order book. This is how most stock exchanges work.  [1]\n",
    "\n",
    "![orderbook](./assets/orderbook.png)\n",
    "\n",
    "We can implement this simple behaviour in Python:"
   ]
  },
  {
   "cell_type": "code",
   "execution_count": null,
   "metadata": {},
   "outputs": [],
   "source": [
    "from enum import Enum\n",
    "\n",
    "class OrderType(Enum):\n",
    "    BUY = 1\n",
    "    SELL = 2\n",
    "\n",
    "class Order:\n",
    "\n",
    "    def __init__(self, agent_id, type, price, qty):\n",
    "        self.agent_id = agent_id\n",
    "        self.type = type\n",
    "        self.price = price\n",
    "        self.qty = qty\n",
    "        \n",
    "    def __str__(self):\n",
    "        return \"<%s, %d, %d>\" % (self.type, self.price, self.qty)\n",
    "    \n",
    "    def __repr__(self):\n",
    "        return str(self)\n",
    "\n",
    "class Market:\n",
    "    orders = []\n",
    "    \n",
    "    def submit(self, order):\n",
    "        self.orders.append(order)"
   ]
  },
  {
   "cell_type": "markdown",
   "metadata": {},
   "source": [
    "## Matching\n",
    "\n",
    "The Market must find a way to match bidders and askers. There are many ways to do this that suit the needs of different exchanges. We are going to use a simple matching technique called \"1/2-Double Auction\". It works by calculating a market price based on all bids and all asks and clearing the market with this price. That is to say, all asks bellow this price and all bids above are all cleared with the market price. It works as follow: Sort the bids in ascending order $B_1, \\geq B_2 \\geq B_3 \\dots$ and the asks in descending order $S_1 \\leq S_2 \\leq S_3 \\dots$. Find the maximum trade quantity $l$ such that $B_l > S_l$. Calculate the market price as $(B_l + S_l) / 2$. Clear with this price. [2]\n",
    "\n",
    "This matching technique does not include volume. However, since our market won't discriminate based on volume or have preferences towards traders, we can easily modify to account for volume as well. We can implement this behaviour in `class Market`."
   ]
  },
  {
   "cell_type": "code",
   "execution_count": 2,
   "metadata": {},
   "outputs": [],
   "source": [
    "class Market:\n",
    "    orders = []\n",
    "    market_price = 0\n",
    "    \n",
    "    def submit(self, order):\n",
    "        self.orders.append(order)\n",
    "    \n",
    "    def clear(self):\n",
    "        \"\"\"Calculate a new market_price and clear the market\"\"\"\n",
    "        \n",
    "        type_is = lambda x: list(filter(lambda y: y.type is x, self.orders))    \n",
    "        \n",
    "        asks = type_is(OrderType.SELL)\n",
    "        bids = type_is(OrderType.BUY)\n",
    "        \n",
    "        price = lambda x: x.price\n",
    "        \n",
    "        asks.sort(key=price)\n",
    "        bids.sort(reverse=True, key=price)\n",
    "        \n",
    "        market_price = 0;\n",
    "        \n",
    "        i, j = 0, 0\n",
    "        \n",
    "        while True:\n",
    "            bid, ask = bids[i], asks[j]          \n",
    "            \n",
    "            if bid.price >= ask.price and bid.qty < ask.qty:\n",
    "                ask.qty -= bid.qty\n",
    "                i += 1\n",
    "            elif bid.price >= ask.price and bid.qty > ask.qty:\n",
    "                bid.qty -= ask.qty\n",
    "                j += 1\n",
    "            elif bid.price >= ask.price and bid.qty == ask.qty:\n",
    "                i += 1\n",
    "                j += 1\n",
    "\n",
    "            if bid.price < ask.price or i >= len(bids) or j >= len(asks):\n",
    "                for x in range(0, i):\n",
    "                    self.fulfill_order(bids[x])\n",
    "                \n",
    "                for y in range(0, j):\n",
    "                    self.fulfill_order(asks[y])\n",
    "                    \n",
    "                break\n",
    "                \n",
    "            market_price = (bid.price + ask.price) / 2\n",
    "\n",
    "        self.market_price = market_price\n",
    "        \n",
    "    def fulfill_order(self, order):\n",
    "        \"\"\"Fulfill an order. Currently - as we have no actors - we simply remove it from the order book\"\"\"\n",
    "        \n",
    "        self.orders.remove(order)"
   ]
  },
  {
   "cell_type": "markdown",
   "metadata": {},
   "source": [
    "# The Actors"
   ]
  },
  {
   "cell_type": "markdown",
   "metadata": {},
   "source": [
    "Actors interact and learn from the environment. They are described by their policy $\\pi$, which dictates which actions they would take in the current state of the environment. Formally, $\\pi(a | s)$ is the probability of taking action $a$ in the state $s$. \n",
    "\n",
    "The actions $a$ and the states $s$ are members of the action space and the state space. Our action space consists of choosing one of either \"BUY\", \"SELL\" or \"HOLD\" as well as a price and a volume. Here we notice a problem - as we have defined it, our action space is practically infinite, as actors can choose any volume and any price. Because there is no well-established way to deal with such situations, we have to limit our action space to something much smaller.\n",
    "\n",
    "To begin with, it is not necessary for the actors to be able to choose any price - that is senseless in the real world as well. Orders are placed for prices around the market price. For this reason, we are going to define our price $p$ as one of $\\{0, 1, 2, 3, 4, 5\\}$ such that if the type of the action is \"BUY\" we calculate the order price as (102 - p)% of the market price - if it is \"SELL\" as (98 + p)% of the market price. This corresponds to our intuition that actors want to buy low and sell high. It also provides enough overlap between bids and asks for matching to take place.\n",
    "\n",
    "In a similar way we define the volume as one of $\\{0, 1, 2, 3, 4, 5\\}$. Our action space is then the Cartesian product $\\{BUY, SELL, HOLD\\} \\times \\{0, 1, 2, 3, 4, 5\\} \\times \\{0, 1, 2, 3, 4, 5\\}$. Or in Python:"
   ]
  },
  {
   "cell_type": "code",
   "execution_count": 4,
   "metadata": {},
   "outputs": [],
   "source": [
    "actions = [(x, y, z) for x in ['BUY', 'SELL', 'HOLD'] for y in range(0, 6) for z in range(0, 6)]"
   ]
  },
  {
   "cell_type": "markdown",
   "metadata": {},
   "source": [
    "## Zero-Intelligence Actors\n",
    "The first kind of actor we are going to define is a zero-intelligence actor. It has a random policy."
   ]
  },
  {
   "cell_type": "code",
   "execution_count": 5,
   "metadata": {},
   "outputs": [],
   "source": [
    "from bisect import bisect\n",
    "from random import random\n",
    "from random import randint\n",
    "\n",
    "class RandomActor:\n",
    "    actions = [(x, y, z) \\\n",
    "               for x in ['BUY', 'SELL', 'HOLD'] \\\n",
    "               for y in range(0, 6) \\\n",
    "               for z in range(0, 6)]\n",
    "    \n",
    "    def policy(self):\n",
    "        \"\"\"Generate a random policy\"\"\"\n",
    "        \n",
    "        dist = [random() for x in range(len(self.actions))]\n",
    "        sum_dist = sum(dist)\n",
    "        return [x / sum_dist for x in dist]\n",
    "    \n",
    "    def act(self):\n",
    "        \"\"\"Choose an action according to the policy probability distribution\"\"\"\n",
    "        \n",
    "        policy = self.policy()\n",
    "        \n",
    "        cdf = [policy[0]]\n",
    "        for i in range(1, len(policy)):\n",
    "            cdf.append(cdf[-1] + policy[i])\n",
    "\n",
    "        index = bisect(cdf, random())\n",
    "        \n",
    "        return self.actions[index]"
   ]
  },
  {
   "cell_type": "markdown",
   "metadata": {},
   "source": [
    "## Environment\n",
    "To test our random actors out we would have to create an environment to connect them with the market. At every time steps it asks all the actors for an action, and clears the market."
   ]
  },
  {
   "cell_type": "code",
   "execution_count": null,
   "metadata": {},
   "outputs": [],
   "source": [
    "class Environment:\n",
    "    history = []\n",
    "    \n",
    "    def __init__(self, num_actors):\n",
    "        self.market = Market()\n",
    "        self.actors = [RandomActor() for x in range(num_actors)]\n",
    "        \n",
    "        self.market.market_price = randint(200, 500)\n",
    "    \n",
    "    def tick(self):\n",
    "        for actor in self.actors:\n",
    "            action = actor.act()\n",
    "            \n",
    "            if action[0] == \"HOLD\":\n",
    "                continue\n",
    "                \n",
    "            if action[0] == \"SELL\":\n",
    "                order_type = OrderType.SELL\n",
    "                price = (98 + action[1]) * self.market.market_price / 100\n",
    "            else:\n",
    "                order_type = OrderType.BUY\n",
    "                price = (102 - action[1]) * self.market.market_price / 100\n",
    "            \n",
    "            order = Order(id(actor), order_type, price, action[2])\n",
    "            \n",
    "            self.market.submit(order)\n",
    "        \n",
    "        self.market.clear()\n",
    "        self.history.append(self.market.market_price)\n",
    "        \n",
    "    def advance(self, steps):\n",
    "        for x in range(steps):\n",
    "            self.tick()"
   ]
  },
  {
   "cell_type": "markdown",
   "metadata": {},
   "source": [
    "We can finally test the whole system out and plot the market price after 1000 steps:"
   ]
  },
  {
   "cell_type": "code",
   "execution_count": 11,
   "metadata": {},
   "outputs": [
    {
     "data": {
      "image/png": "[encoded data removed]",
      "text/plain": [
       "<Figure size 432x288 with 1 Axes>"
      ]
     },
     "metadata": {
      "needs_background": "light"
     },
     "output_type": "display_data"
    }
   ],
   "source": [
    "env = Environment(100)\n",
    "env.advance(1000)\n",
    "\n",
    "import matplotlib.pyplot as plt\n",
    "plt.plot(env.history)\n",
    "plt.show()"
   ]
  },
  {
   "cell_type": "markdown",
   "metadata": {},
   "source": [
    "Zero-intelligence actors were introduce in an influential paper by Gode and Sunders [1]. They demonstrate zero-intelligence actors model real world markets extremely closes, if they are restrained by budget constraints. We are now in a position to replicate their results. Following their lead, we introduce a budget constraint to the actors; if they request a bid for a price higher than their budget the request is ignored. The exact monetery values of the budget constraints are in actuallity irrelevent - any budget constraint produces almost identical results. We first randomize the budgets for each actor - they each get a budget between 500 and 1500. We add the following to the actor class:"
   ]
  },
  {
   "cell_type": "code",
   "execution_count": null,
   "metadata": {},
   "outputs": [],
   "source": [
    "def __init__(self):\n",
    "    self.budget = randint(500, 1500)"
   ]
  },
  {
   "cell_type": "markdown",
   "metadata": {},
   "source": [
    "Following Gode and Saunders, if the actors request a bid higher than their budget, the bid is ignored. We add to the Environment class:"
   ]
  },
  {
   "cell_type": "code",
   "execution_count": null,
   "metadata": {},
   "outputs": [],
   "source": [
    "if action[0] == \"BUY\" and price > actor.budget:\n",
    "    continue"
   ]
  },
  {
   "cell_type": "markdown",
   "metadata": {},
   "source": [
    "We rerun the model with budget constraints. "
   ]
  },
  {
   "cell_type": "code",
   "execution_count": null,
   "metadata": {},
   "outputs": [],
   "source": [
    "env = Environment(100)\n",
    "env.advance(1000)\n",
    "import matplotlib.pyplot as plt\n",
    "plt.plot(env.history)\n",
    "plt.show()"
   ]
  },
  {
   "cell_type": "markdown",
   "metadata": {},
   "source": [
    "<img align=\"left\" src=\"data:image/png;base64,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\">"
   ]
  },
  {
   "cell_type": "markdown",
   "metadata": {},
   "source": [
    "This indeed looks very close to stock price fluctuations. To measure the similarity Gode and Saunders look at equlibrium prices. Instead we are going to measure randomness of the series against real world stock data, using the runs test. The runs test works with two-valued sequences. To produce a two-value sequence from a continuous sequence, we are going to count values above the median as runs up, and values below the median as runs down."
   ]
  },
  {
   "cell_type": "code",
   "execution_count": 8,
   "metadata": {},
   "outputs": [],
   "source": [
    "import statistics\n",
    "import math\n",
    "\n",
    "def runs_test(seq): \n",
    "  \n",
    "    runs, n1, n2 = 0, 0, 0\n",
    "    median = statistics.median(seq)\n",
    "      \n",
    "    for i in range(len(l)): \n",
    "          \n",
    "        if (l[i] >= l_median and l[i-1] < l_median) or (l[i] < l_median and l[i-1] >= l_median): \n",
    "            runs += 1  \n",
    "          \n",
    "        if(l[i]) >= l_median: \n",
    "            n1 += 1   \n",
    "          \n",
    "        else: \n",
    "            n2 += 1   \n",
    "  \n",
    "    runs_exp = ((2*n1*n2)/(n1+n2))+1\n",
    "    stan_dev = math.sqrt((2*n1*n2*(2*n1*n2-n1-n2))/(((n1+n2)**2)*(n1+n2-1))) \n",
    "  \n",
    "    z = (runs-runs_exp)/stan_dev \n",
    "  \n",
    "    return z "
   ]
  },
  {
   "cell_type": "markdown",
   "metadata": {},
   "source": [
    "Running the runs test on the (normalized) data generated by the model yields:"
   ]
  },
  {
   "cell_type": "code",
   "execution_count": 26,
   "metadata": {},
   "outputs": [
    {
     "name": "stdout",
     "output_type": "stream",
     "text": [
      "-29.170793929710147\n"
     ]
    }
   ],
   "source": [
    "import numpy as np\n",
    "\n",
    "def normalize(data):\n",
    "    return (data - np.min(data)) / (np.max(data) - np.min(data))\n",
    "\n",
    "runs_test(normalize(env.history))"
   ]
  },
  {
   "cell_type": "markdown",
   "metadata": {},
   "source": [
    "Such a large negative value means our sequence produces results which are much noiser than a completely random distribution would produce. This is however not really important. What is important is how it measures up to real stock data. For this purpose we are going to use Google stock data."
   ]
  },
  {
   "cell_type": "code",
   "execution_count": 12,
   "metadata": {},
   "outputs": [
    {
     "data": {
      "text/html": [
       "<div>\n",
       "<style scoped>\n",
       "    .dataframe tbody tr th:only-of-type {\n",
       "        vertical-align: middle;\n",
       "    }\n",
       "\n",
       "    .dataframe tbody tr th {\n",
       "        vertical-align: top;\n",
       "    }\n",
       "\n",
       "    .dataframe thead th {\n",
       "        text-align: right;\n",
       "    }\n",
       "</style>\n",
       "<table border=\"1\" class=\"dataframe\">\n",
       "  <thead>\n",
       "    <tr style=\"text-align: right;\">\n",
       "      <th></th>\n",
       "      <th>time</th>\n",
       "      <th>open</th>\n",
       "      <th>high</th>\n",
       "      <th>low</th>\n",
       "      <th>close</th>\n",
       "      <th>vol</th>\n",
       "    </tr>\n",
       "  </thead>\n",
       "  <tbody>\n",
       "    <tr>\n",
       "      <th>0</th>\n",
       "      <td>2020-01-02 04:00:00</td>\n",
       "      <td>1342.00</td>\n",
       "      <td>1342.20</td>\n",
       "      <td>1342.00</td>\n",
       "      <td>1342.20</td>\n",
       "      <td>424</td>\n",
       "    </tr>\n",
       "    <tr>\n",
       "      <th>1</th>\n",
       "      <td>2020-01-02 04:02:00</td>\n",
       "      <td>1344.20</td>\n",
       "      <td>1344.20</td>\n",
       "      <td>1344.20</td>\n",
       "      <td>1344.20</td>\n",
       "      <td>177</td>\n",
       "    </tr>\n",
       "    <tr>\n",
       "      <th>2</th>\n",
       "      <td>2020-01-02 08:00:00</td>\n",
       "      <td>1337.02</td>\n",
       "      <td>1337.02</td>\n",
       "      <td>1337.02</td>\n",
       "      <td>1337.02</td>\n",
       "      <td>329</td>\n",
       "    </tr>\n",
       "    <tr>\n",
       "      <th>3</th>\n",
       "      <td>2020-01-02 08:09:00</td>\n",
       "      <td>1347.00</td>\n",
       "      <td>1347.00</td>\n",
       "      <td>1347.00</td>\n",
       "      <td>1347.00</td>\n",
       "      <td>155</td>\n",
       "    </tr>\n",
       "    <tr>\n",
       "      <th>4</th>\n",
       "      <td>2020-01-02 08:55:00</td>\n",
       "      <td>1348.00</td>\n",
       "      <td>1348.00</td>\n",
       "      <td>1348.00</td>\n",
       "      <td>1348.00</td>\n",
       "      <td>190</td>\n",
       "    </tr>\n",
       "    <tr>\n",
       "      <th>...</th>\n",
       "      <td>...</td>\n",
       "      <td>...</td>\n",
       "      <td>...</td>\n",
       "      <td>...</td>\n",
       "      <td>...</td>\n",
       "      <td>...</td>\n",
       "    </tr>\n",
       "    <tr>\n",
       "      <th>3246</th>\n",
       "      <td>2020-01-13 16:40:00</td>\n",
       "      <td>1439.89</td>\n",
       "      <td>1439.89</td>\n",
       "      <td>1439.89</td>\n",
       "      <td>1439.89</td>\n",
       "      <td>999</td>\n",
       "    </tr>\n",
       "    <tr>\n",
       "      <th>3247</th>\n",
       "      <td>2020-01-13 16:41:00</td>\n",
       "      <td>1440.00</td>\n",
       "      <td>1440.00</td>\n",
       "      <td>1440.00</td>\n",
       "      <td>1440.00</td>\n",
       "      <td>440</td>\n",
       "    </tr>\n",
       "    <tr>\n",
       "      <th>3248</th>\n",
       "      <td>2020-01-13 18:24:00</td>\n",
       "      <td>1439.26</td>\n",
       "      <td>1439.26</td>\n",
       "      <td>1439.26</td>\n",
       "      <td>1439.26</td>\n",
       "      <td>120</td>\n",
       "    </tr>\n",
       "    <tr>\n",
       "      <th>3249</th>\n",
       "      <td>2020-01-13 18:34:00</td>\n",
       "      <td>1440.00</td>\n",
       "      <td>1440.00</td>\n",
       "      <td>1440.00</td>\n",
       "      <td>1440.00</td>\n",
       "      <td>479</td>\n",
       "    </tr>\n",
       "    <tr>\n",
       "      <th>3250</th>\n",
       "      <td>2020-01-13 18:44:00</td>\n",
       "      <td>1440.00</td>\n",
       "      <td>1440.00</td>\n",
       "      <td>1440.00</td>\n",
       "      <td>1440.00</td>\n",
       "      <td>200</td>\n",
       "    </tr>\n",
       "  </tbody>\n",
       "</table>\n",
       "<p>3251 rows × 6 columns</p>\n",
       "</div>"
      ],
      "text/plain": [
       "                     time     open     high      low    close  vol\n",
       "0     2020-01-02 04:00:00  1342.00  1342.20  1342.00  1342.20  424\n",
       "1     2020-01-02 04:02:00  1344.20  1344.20  1344.20  1344.20  177\n",
       "2     2020-01-02 08:00:00  1337.02  1337.02  1337.02  1337.02  329\n",
       "3     2020-01-02 08:09:00  1347.00  1347.00  1347.00  1347.00  155\n",
       "4     2020-01-02 08:55:00  1348.00  1348.00  1348.00  1348.00  190\n",
       "...                   ...      ...      ...      ...      ...  ...\n",
       "3246  2020-01-13 16:40:00  1439.89  1439.89  1439.89  1439.89  999\n",
       "3247  2020-01-13 16:41:00  1440.00  1440.00  1440.00  1440.00  440\n",
       "3248  2020-01-13 18:24:00  1439.26  1439.26  1439.26  1439.26  120\n",
       "3249  2020-01-13 18:34:00  1440.00  1440.00  1440.00  1440.00  479\n",
       "3250  2020-01-13 18:44:00  1440.00  1440.00  1440.00  1440.00  200\n",
       "\n",
       "[3251 rows x 6 columns]"
      ]
     },
     "execution_count": 12,
     "metadata": {},
     "output_type": "execute_result"
    }
   ],
   "source": [
    "import pandas as pd\n",
    "goog = pd.read_csv(\"./assets/GOOG.csv\", names=['time', 'open', 'high', 'low', 'close', 'vol'])\n",
    "goog"
   ]
  },
  {
   "cell_type": "markdown",
   "metadata": {},
   "source": [
    "Plotting the stock data (we are only interested in 1000 intervals so as to be equivelent to our data):"
   ]
  },
  {
   "cell_type": "code",
   "execution_count": 15,
   "metadata": {},
   "outputs": [
    {
     "data": {
      "text/plain": [
       "<matplotlib.axes._subplots.AxesSubplot at 0x2585c1850d0>"
      ]
     },
     "execution_count": 15,
     "metadata": {},
     "output_type": "execute_result"
    },
    {
     "data": {
      "image/png": "[encoded data removed]",
      "text/plain": [
       "<Figure size 432x288 with 1 Axes>"
      ]
     },
     "metadata": {
      "needs_background": "light"
     },
     "output_type": "display_data"
    }
   ],
   "source": [
    "goog.head(1000)['open']"
   ]
  },
  {
   "cell_type": "code",
   "execution_count": 25,
   "metadata": {},
   "outputs": [
    {
     "name": "stdout",
     "output_type": "stream",
     "text": [
      "-26.892823353002406\n"
     ]
    }
   ],
   "source": [
    "runsTest(normalize(goog['open'].head(1000).tolist()))"
   ]
  },
  {
   "cell_type": "markdown",
   "metadata": {},
   "source": [
    "This is pretty close to the sequence produced by our zero-intelligence actors. Zero-intelligence actors produce market prices very close to actual markets. This is not a new result. Gode and Saunders reached the same conclusion, and it has been repeated by many others."
   ]
  },
  {
   "cell_type": "markdown",
   "metadata": {},
   "source": [
    "## Intelligent Actors\n",
    "\n",
    "Let's see if \"intelligent\" actors fare any better. We introduce an RL algorithm. It takes the current state and produces probabilites for the different actions in the action space. We have the same problem with the state space as with the action space - it is too large. The state space is reduced as follows: only the variation in the last 10 steps of the market price are fed to the neural network rounded off to 0.5. The algorithm is implemented in C# (in ./assets/RL)."
   ]
  },
  {
   "cell_type": "markdown",
   "metadata": {},
   "source": [
    "The results produced by the \"intelligent actors\" look as follows:"
   ]
  },
  {
   "cell_type": "markdown",
   "metadata": {},
   "source": [
    "<img align=\"left\" src=\"data:image/png;base64,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\">"
   ]
  },
  {
   "cell_type": "markdown",
   "metadata": {},
   "source": [
    "Running it through the runs test we get:"
   ]
  },
  {
   "cell_type": "code",
   "execution_count": 35,
   "metadata": {},
   "outputs": [
    {
     "name": "stdout",
     "output_type": "stream",
     "text": [
      "-37.441144083351276\n"
     ]
    }
   ],
   "source": [
    "runs_test(normalize(env.history))"
   ]
  },
  {
   "cell_type": "markdown",
   "metadata": {},
   "source": [
    "A significantly worse result in comparison with the zero-intelligent actors. (Several tests produce significantly noiser results than either real markets or zero-intelligence actors.) Actors in the RL algorithm habitually place bids at the top of their budget and asks significantly lower than zero-intelligence actors. One can never know, of course,\n",
    "why AI alogrithms behave the way they do; for some reason placing extreme asks and bids seems to result in more profit - and a noisier market. \n",
    "\n",
    "There is, however, a serious problem with this market simulation. A fundamental assumption of economic markets is that the actions of an individual can never impact the behaviour of the market. Because the simuation is run with only 100 agents, however, their actions do impact the market; as placing a large bid raises the market price, agents seem to purposefully exploit that. This should never happen in a real-world maket - the price should never be affected by the order of a single agent. I presume if this simulation was run on a much more powerful computer, with more actors, the results would start to approach the real world market. At any rate the zero-intelligent actor results are so close to the real world any improvement in the RL algorithm would be in vain."
   ]
  },
  {
   "cell_type": "markdown",
   "metadata": {},
   "source": [
    "## Conclusion\n",
    "\n",
    "In conclusion the market prices produced by zero-intelligent actors are very close to real markets. Surprisingly, AI algorithms produce much noiser results. As a computer maket simulation could never approach the size of the real-deal, AI algorithms learn to \"game\" the system and the results they produce are unrealistic. The results suggest zero-intelligence actors simulate the diversity of a real market much better.\n",
    "\n",
    "This does not mean, however, that traders in the real world act with zero intelligence. It just means that given the enormous size and volatily of real markets, they are much better simulated by randomness than by an AI system. It seems to be the structure of the market that produces rather noisy and random results, rather than any behaviour of the individuals themselves."
   ]
  },
  {
   "cell_type": "markdown",
   "metadata": {},
   "source": [
    "## References\n",
    "\n",
    "[1] Haerigner, G. (2017). Market Design: Auctions and Mathching. MIT Press. 219-223\n",
    "\n",
    "[2] Babaioff, M., Naom, N. (2004). Concurrent Auctions Across The Supply Chain. Journal of Artificial Intelligence Research, 21, 605.\n",
    "\n",
    "[3] Gode, D., & Sunder, S. (1993). Allocative Efficiency of Markets with Zero-Intelligence Traders: Market as a Partial Substitute for Individual Rationality. Journal of Political Economy, 101(1), 119-137."
   ]
  }
 ],
 "metadata": {
  "kernelspec": {
   "display_name": "Python 3",
   "language": "python",
   "name": "python3"
  },
  "language_info": {
   "codemirror_mode": {
    "name": "ipython",
    "version": 3
   },
   "file_extension": ".py",
   "mimetype": "text/x-python",
   "name": "python",
   "nbconvert_exporter": "python",
   "pygments_lexer": "ipython3",
   "version": "3.8.2"
  }
 },
 "nbformat": 4,
 "nbformat_minor": 4
}
