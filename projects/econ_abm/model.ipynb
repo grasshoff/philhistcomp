{
 "cells": [
  {
   "cell_type": "markdown",
   "metadata": {},
   "source": [
    "The Market\n",
    "==========\n",
    "\n",
    "## Orders\n",
    "\n",
    "We are interested in the modeling of financial markets. In particular the modeling of double auction markets. Unlike in a regular auction, where only buyers compete, in double auctions both buyers and sellers participate. Buyers place bids, sellers place asks and the market finds a way to match them together. A bid consists of a price 𝑃 and a volume 𝑉, such that a bidder guarantees he will buy any number under 𝑉 for any price under 𝑃. An asks consists of a price 𝑃 and a volume 𝑉, such that an asker guarantees he will sell any number under 𝑉 for any price over 𝑃. Bids and asks are called orders and are collected in an order book. This is how most stock exchanges work. \n",
    "\n",
    "![orderbook](./assets/orderbook.png)\n",
    "\n",
    "We can implement this simple behaviour in Python:"
   ]
  },
  {
   "cell_type": "code",
   "execution_count": null,
   "metadata": {},
   "outputs": [],
   "source": [
    "from enum import Enum\n",
    "\n",
    "class OrderType(Enum):\n",
    "    BUY = 1\n",
    "    SELL = 2\n",
    "\n",
    "class Order:\n",
    "\n",
    "    def __init__(self, agent_id, type, price, qty):\n",
    "        self.agent_id = agent_id\n",
    "        self.type = type\n",
    "        self.price = price\n",
    "        self.qty = qty\n",
    "        \n",
    "    def __str__(self):\n",
    "        return \"<%s, %d, %d>\" % (self.type, self.price, self.qty)\n",
    "    \n",
    "    def __repr__(self):\n",
    "        return str(self)\n",
    "\n",
    "class Market:\n",
    "    orders = []\n",
    "    \n",
    "    def submit(self, order):\n",
    "        self.orders.append(order)"
   ]
  },
  {
   "cell_type": "markdown",
   "metadata": {},
   "source": [
    "## Matching\n",
    "\n",
    "The Market must find a way to match bidders and askers. There are many ways to do this that suit the needs of different exchanges. We are going to use a simple matching technique called \"1/2-Double Auction\". It works by calculating a market price based on all bids and all asks and clearing the market with this price. That is to say, all asks bellow this price and all bids above are all cleared with the market price. It works as follow: Sort the bids in ascending order $B_1, \\geq B_2 \\geq B_3 \\dots$ and the asks in descending order $S_1 \\leq S_2 \\leq S_3 \\dots$. Find the maximum trade quantity $l$ such that $B_l > S_l$. Calculate the market price as $(B_l + S_l) / 2$. Clear with this price.\n",
    "\n",
    "This matching technique does not include volume. However, since our market won't discriminate based on volume or have preferences towards traders, we can easily modify to account for volume as well. We can implement this behaviour in `class Market`."
   ]
  },
  {
   "cell_type": "code",
   "execution_count": 2,
   "metadata": {},
   "outputs": [],
   "source": [
    "class Market:\n",
    "    orders = []\n",
    "    market_price = 0\n",
    "    \n",
    "    def submit(self, order):\n",
    "        self.orders.append(order)\n",
    "    \n",
    "    def clear(self):\n",
    "        \"\"\"Calculate a new market_price and clear the market\"\"\"\n",
    "        \n",
    "        type_is = lambda x: list(filter(lambda y: y.type is x, self.orders))    \n",
    "        \n",
    "        asks = type_is(OrderType.SELL)\n",
    "        bids = type_is(OrderType.BUY)\n",
    "        \n",
    "        price = lambda x: x.price\n",
    "        \n",
    "        asks.sort(key=price)\n",
    "        bids.sort(reverse=True, key=price)\n",
    "        \n",
    "        market_price = 0;\n",
    "        \n",
    "        i, j = 0, 0\n",
    "        \n",
    "        while True:\n",
    "            bid, ask = bids[i], asks[j]          \n",
    "            \n",
    "            if bid.price >= ask.price and bid.qty < ask.qty:\n",
    "                ask.qty -= bid.qty\n",
    "                i += 1\n",
    "            elif bid.price >= ask.price and bid.qty > ask.qty:\n",
    "                bid.qty -= ask.qty\n",
    "                j += 1\n",
    "            elif bid.price >= ask.price and bid.qty == ask.qty:\n",
    "                i += 1\n",
    "                j += 1\n",
    "\n",
    "            if bid.price < ask.price or i >= len(bids) or j >= len(asks):\n",
    "                for x in range(0, i):\n",
    "                    self.fulfill_order(bids[x])\n",
    "                \n",
    "                for y in range(0, j):\n",
    "                    self.fulfill_order(asks[y])\n",
    "                    \n",
    "                break\n",
    "                \n",
    "            market_price = (bid.price + ask.price) / 2\n",
    "\n",
    "        self.market_price = market_price\n",
    "        \n",
    "    def fulfill_order(self, order):\n",
    "        \"\"\"Fulfill an order. Currently - as we have no actors - we simply remove it from the order book\"\"\"\n",
    "        \n",
    "        self.orders.remove(order)"
   ]
  },
  {
   "cell_type": "markdown",
   "metadata": {},
   "source": [
    "# The Actors"
   ]
  },
  {
   "cell_type": "markdown",
   "metadata": {},
   "source": [
    "Actors interact and learn from the environment. They are described by their policy $\\pi$, which dictates which actions they would take in the current state of the environment. Formally, $\\pi(a | s)$ is the probability of taking action $a$ in the state $s$. \n",
    "\n",
    "The actions $a$ and the states $s$ are members of the action space and the state space. Our action space consists of choosing one of either \"BUY\", \"SELL\" or \"HOLD\" as well as a price and a volume. Here we notice a problem - as we have defined it, our action space is practically infinite, as actors can choose any volume and any price. Because there is no well-established way to deal with such situations, we have to limit our action space to something much smaller.\n",
    "\n",
    "To begin with, it is not necessary for the actors to be able to choose any price - that is senseless in the real world as well. Orders are placed for prices around the market price. For this reason, we are going to define our price $p$ as one of $\\{0, 1, 2, 3, 4, 5\\}$ such that if the type of the action is \"BUY\" we calculate the order price as (102 - p)% of the market price - if it is \"SELL\" as (98 + p)% of the market price. This corresponds to our intuition that actors want to buy low and sell high. It also provides enough overlap between bids and asks for matching to take place.\n",
    "\n",
    "In a similar way we define the volume as one of $\\{0, 1, 2, 3, 4, 5\\}$. Our action space is then the Cartesian product $\\{BUY, SELL, HOLD\\} \\times \\{0, 1, 2, 3, 4, 5\\} \\times \\{0, 1, 2, 3, 4, 5\\}$. Or in Python:"
   ]
  },
  {
   "cell_type": "code",
   "execution_count": 4,
   "metadata": {},
   "outputs": [],
   "source": [
    "actions = [(x, y, z) for x in ['BUY', 'SELL', 'HOLD'] for y in range(0, 6) for z in range(0, 6)]"
   ]
  },
  {
   "cell_type": "markdown",
   "metadata": {},
   "source": [
    "## Random Actors\n",
    "The first kind of actor we are going to define is a random actor. It has a random policy."
   ]
  },
  {
   "cell_type": "code",
   "execution_count": 5,
   "metadata": {},
   "outputs": [],
   "source": [
    "from bisect import bisect\n",
    "from random import random\n",
    "from random import randint\n",
    "\n",
    "class RandomActor:\n",
    "    actions = [(x, y, z) \\\n",
    "               for x in ['BUY', 'SELL', 'HOLD'] \\\n",
    "               for y in range(0, 6) \\\n",
    "               for z in range(0, 6)]\n",
    "    \n",
    "    def policy(self):\n",
    "        \"\"\"Generate a random policy\"\"\"\n",
    "        \n",
    "        dist = [random() for x in range(len(self.actions))]\n",
    "        sum_dist = sum(dist)\n",
    "        return [x / sum_dist for x in dist]\n",
    "    \n",
    "    def act(self):\n",
    "        \"\"\"Choose an action according to the policy probability distribution\"\"\"\n",
    "        \n",
    "        policy = self.policy()\n",
    "        \n",
    "        cdf = [policy[0]]\n",
    "        for i in range(1, len(policy)):\n",
    "            cdf.append(cdf[-1] + policy[i])\n",
    "\n",
    "        index = bisect(cdf, random())\n",
    "        \n",
    "        return self.actions[index]"
   ]
  },
  {
   "cell_type": "markdown",
   "metadata": {},
   "source": [
    "## Environment\n",
    "To test our random actors out we would have to create an environment to connect them with the market. At every time steps it asks all the actors for an action, and clears the market."
   ]
  },
  {
   "cell_type": "code",
   "execution_count": null,
   "metadata": {},
   "outputs": [],
   "source": [
    "class Environment:\n",
    "    history = []\n",
    "    \n",
    "    def __init__(self, num_actors):\n",
    "        self.market = Market()\n",
    "        self.actors = [RandomActor() for x in range(num_actors)]\n",
    "        \n",
    "        self.market.market_price = randint(200, 500)\n",
    "    \n",
    "    def tick(self):\n",
    "        for actor in self.actors:\n",
    "            action = actor.act()\n",
    "            \n",
    "            if action[0] == \"HOLD\":\n",
    "                continue\n",
    "                \n",
    "            if action[0] == \"SELL\":\n",
    "                order_type = OrderType.SELL\n",
    "                price = (98 + action[1]) * self.market.market_price / 100\n",
    "            else:\n",
    "                order_type = OrderType.BUY\n",
    "                price = (102 - action[1]) * self.market.market_price / 100\n",
    "            \n",
    "            order = Order(id(actor), order_type, price, action[2])\n",
    "            \n",
    "            self.market.submit(order)\n",
    "        \n",
    "        self.market.clear()\n",
    "        self.history.append(self.market.market_price)\n",
    "        \n",
    "    def advance(self, steps):\n",
    "        for x in range(steps):\n",
    "            self.tick()"
   ]
  },
  {
   "cell_type": "markdown",
   "metadata": {},
   "source": [
    "We can finally test the whole system out and plot the market price after 1000 steps:"
   ]
  },
  {
   "cell_type": "code",
   "execution_count": 11,
   "metadata": {},
   "outputs": [
    {
     "data": {
      "image/png": "[encoded data removed]",
      "text/plain": [
       "<Figure size 432x288 with 1 Axes>"
      ]
     },
     "metadata": {
      "needs_background": "light"
     },
     "output_type": "display_data"
    }
   ],
   "source": [
    "env = Environment(100)\n",
    "env.advance(1000)\n",
    "\n",
    "import matplotlib.pyplot as plt\n",
    "plt.plot(env.history)\n",
    "plt.show()"
   ]
  },
  {
   "cell_type": "markdown",
   "metadata": {},
   "source": [
    "Not horribly exciting. Next week we'll start making our actors act \"intelligently\"."
   ]
  }
 ],
 "metadata": {
  "kernelspec": {
   "display_name": "Python 3",
   "language": "python",
   "name": "python3"
  },
  "language_info": {
   "codemirror_mode": {
    "name": "ipython",
    "version": 3
   },
   "file_extension": ".py",
   "mimetype": "text/x-python",
   "name": "python",
   "nbconvert_exporter": "python",
   "pygments_lexer": "ipython3",
   "version": "3.8.2"
  }
 },
 "nbformat": 4,
 "nbformat_minor": 4
}
