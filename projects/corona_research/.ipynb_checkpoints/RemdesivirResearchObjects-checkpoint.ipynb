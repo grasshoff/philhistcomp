{
 "cells": [
  {
   "cell_type": "markdown",
   "metadata": {},
   "source": [
    "# Project Corona\n",
    "## Philosophy and History of Science with Computational Means\n",
    "Prof Dr. Gerd Graßhoff"
   ]
  },
  {
   "cell_type": "markdown",
   "metadata": {},
   "source": [
    "# Libraries"
   ]
  },
  {
   "cell_type": "code",
   "execution_count": 2,
   "metadata": {},
   "outputs": [],
   "source": [
    "import datetime\n",
    "import numpy as np\n",
    "import pandas as pd"
   ]
  },
  {
   "cell_type": "code",
   "execution_count": 3,
   "metadata": {},
   "outputs": [],
   "source": [
    "from bs4 import BeautifulSoup\n",
    "import requests\n",
    "import json \n",
    "from datetime import datetime"
   ]
  },
  {
   "cell_type": "markdown",
   "metadata": {},
   "source": [
    "# Source Data"
   ]
  },
  {
   "cell_type": "code",
   "execution_count": 4,
   "metadata": {},
   "outputs": [],
   "source": [
    "dfCov=pd.read_json(\"dfremdesivier.json\")"
   ]
  },
  {
   "cell_type": "code",
   "execution_count": 7,
   "metadata": {},
   "outputs": [
    {
     "name": "stdout",
     "output_type": "stream",
     "text": [
      "<class 'pandas.core.frame.DataFrame'>\n",
      "Int64Index: 2180 entries, 0 to 2179\n",
      "Data columns (total 21 columns):\n",
      " #   Column                Non-Null Count  Dtype  \n",
      "---  ------                --------------  -----  \n",
      " 0   index                 2180 non-null   int64  \n",
      " 1   PMID                  1257 non-null   float64\n",
      " 2   title                 2135 non-null   object \n",
      " 3   aff_org_name          1893 non-null   object \n",
      " 4   author_list           2090 non-null   object \n",
      " 5   researcher_dim_id     1506 non-null   object \n",
      " 6   researcher_dim_count  1506 non-null   float64\n",
      " 7   journal_title         2113 non-null   object \n",
      " 8   language              2073 non-null   object \n",
      " 9   abstract              2135 non-null   object \n",
      " 10  open_access           2135 non-null   float64\n",
      " 11  publisher             2039 non-null   object \n",
      " 12  aff_city_name         1842 non-null   object \n",
      " 13  aff_country_name      1864 non-null   object \n",
      " 14  doi                   2127 non-null   object \n",
      " 15  pub_date              2135 non-null   object \n",
      " 16  pub_year              2135 non-null   float64\n",
      " 17  times_cited           2135 non-null   float64\n",
      " 18  altmetric_id          2135 non-null   float64\n",
      " 19  altmetric             1582 non-null   float64\n",
      " 20  authors_full          2135 non-null   object \n",
      "dtypes: float64(7), int64(1), object(13)\n",
      "memory usage: 374.7+ KB\n"
     ]
    }
   ],
   "source": [
    "dfCov.info()"
   ]
  },
  {
   "cell_type": "code",
   "execution_count": 5,
   "metadata": {},
   "outputs": [
    {
     "data": {
      "text/plain": [
       "2180"
      ]
     },
     "execution_count": 5,
     "metadata": {},
     "output_type": "execute_result"
    }
   ],
   "source": [
    "len(dfCov)"
   ]
  },
  {
   "cell_type": "code",
   "execution_count": 6,
   "metadata": {},
   "outputs": [
    {
     "data": {
      "text/html": [
       "<div>\n",
       "<style scoped>\n",
       "    .dataframe tbody tr th:only-of-type {\n",
       "        vertical-align: middle;\n",
       "    }\n",
       "\n",
       "    .dataframe tbody tr th {\n",
       "        vertical-align: top;\n",
       "    }\n",
       "\n",
       "    .dataframe thead th {\n",
       "        text-align: right;\n",
       "    }\n",
       "</style>\n",
       "<table border=\"1\" class=\"dataframe\">\n",
       "  <thead>\n",
       "    <tr style=\"text-align: right;\">\n",
       "      <th></th>\n",
       "      <th>index</th>\n",
       "      <th>PMID</th>\n",
       "      <th>title</th>\n",
       "      <th>aff_org_name</th>\n",
       "      <th>author_list</th>\n",
       "      <th>researcher_dim_id</th>\n",
       "      <th>researcher_dim_count</th>\n",
       "      <th>journal_title</th>\n",
       "      <th>language</th>\n",
       "      <th>abstract</th>\n",
       "      <th>...</th>\n",
       "      <th>publisher</th>\n",
       "      <th>aff_city_name</th>\n",
       "      <th>aff_country_name</th>\n",
       "      <th>doi</th>\n",
       "      <th>pub_date</th>\n",
       "      <th>pub_year</th>\n",
       "      <th>times_cited</th>\n",
       "      <th>altmetric_id</th>\n",
       "      <th>altmetric</th>\n",
       "      <th>authors_full</th>\n",
       "    </tr>\n",
       "  </thead>\n",
       "  <tbody>\n",
       "    <tr>\n",
       "      <th>0</th>\n",
       "      <td>0</td>\n",
       "      <td>32448345.0</td>\n",
       "      <td>Evaluation of the efficacy and safety of intra...</td>\n",
       "      <td>[University of Virginia, Renmin Hospital of Wu...</td>\n",
       "      <td>Yeming Wang, Fei Zhou, Dingyu Zhang, Jianping ...</td>\n",
       "      <td>None</td>\n",
       "      <td>NaN</td>\n",
       "      <td>Trials</td>\n",
       "      <td>en</td>\n",
       "      <td>BACKGROUND: Coronavirus disease 2019 (COVID-19...</td>\n",
       "      <td>...</td>\n",
       "      <td>Springer Nature</td>\n",
       "      <td>[Beijing, Oxford, Lancaster, Wuhan, Charlottes...</td>\n",
       "      <td>[United States, United Kingdom, China]</td>\n",
       "      <td>10.1186/s13063-020-04352-9</td>\n",
       "      <td>2020-12</td>\n",
       "      <td>2020.0</td>\n",
       "      <td>0.0</td>\n",
       "      <td>82867165.0</td>\n",
       "      <td>1.0</td>\n",
       "      <td>[Yeming Wang, Fei Zhou, Dingyu Zhang, Jianping...</td>\n",
       "    </tr>\n",
       "    <tr>\n",
       "      <th>1</th>\n",
       "      <td>1</td>\n",
       "      <td>32370766.0</td>\n",
       "      <td>Role of adjunctive treatment strategies in COV...</td>\n",
       "      <td>[National University of Singapore, Department ...</td>\n",
       "      <td>Xinni Xu, Yew Kwang Ong, De Yun Wang</td>\n",
       "      <td>[ur.01301012403.08, ur.0653027373.10, ur.07020...</td>\n",
       "      <td>3.0</td>\n",
       "      <td>Military Medical Research</td>\n",
       "      <td>en</td>\n",
       "      <td>The coronavirus disease (COVID-19) pandemic ha...</td>\n",
       "      <td>...</td>\n",
       "      <td>None</td>\n",
       "      <td>[Singapore]</td>\n",
       "      <td>[Singapore]</td>\n",
       "      <td>10.1186/s40779-020-00251-x</td>\n",
       "      <td>2020-12</td>\n",
       "      <td>2020.0</td>\n",
       "      <td>0.0</td>\n",
       "      <td>81691144.0</td>\n",
       "      <td>10.0</td>\n",
       "      <td>[Xinni Xu, Yew Kwang Ong, De Yun Wang]</td>\n",
       "    </tr>\n",
       "  </tbody>\n",
       "</table>\n",
       "<p>2 rows × 21 columns</p>\n",
       "</div>"
      ],
      "text/plain": [
       "   index        PMID                                              title  \\\n",
       "0      0  32448345.0  Evaluation of the efficacy and safety of intra...   \n",
       "1      1  32370766.0  Role of adjunctive treatment strategies in COV...   \n",
       "\n",
       "                                        aff_org_name  \\\n",
       "0  [University of Virginia, Renmin Hospital of Wu...   \n",
       "1  [National University of Singapore, Department ...   \n",
       "\n",
       "                                         author_list  \\\n",
       "0  Yeming Wang, Fei Zhou, Dingyu Zhang, Jianping ...   \n",
       "1               Xinni Xu, Yew Kwang Ong, De Yun Wang   \n",
       "\n",
       "                                   researcher_dim_id  researcher_dim_count  \\\n",
       "0                                               None                   NaN   \n",
       "1  [ur.01301012403.08, ur.0653027373.10, ur.07020...                   3.0   \n",
       "\n",
       "               journal_title language  \\\n",
       "0                     Trials       en   \n",
       "1  Military Medical Research       en   \n",
       "\n",
       "                                            abstract  ...        publisher  \\\n",
       "0  BACKGROUND: Coronavirus disease 2019 (COVID-19...  ...  Springer Nature   \n",
       "1  The coronavirus disease (COVID-19) pandemic ha...  ...             None   \n",
       "\n",
       "                                       aff_city_name  \\\n",
       "0  [Beijing, Oxford, Lancaster, Wuhan, Charlottes...   \n",
       "1                                        [Singapore]   \n",
       "\n",
       "                         aff_country_name                         doi  \\\n",
       "0  [United States, United Kingdom, China]  10.1186/s13063-020-04352-9   \n",
       "1                             [Singapore]  10.1186/s40779-020-00251-x   \n",
       "\n",
       "  pub_date pub_year  times_cited  altmetric_id  altmetric  \\\n",
       "0  2020-12   2020.0          0.0    82867165.0        1.0   \n",
       "1  2020-12   2020.0          0.0    81691144.0       10.0   \n",
       "\n",
       "                                        authors_full  \n",
       "0  [Yeming Wang, Fei Zhou, Dingyu Zhang, Jianping...  \n",
       "1             [Xinni Xu, Yew Kwang Ong, De Yun Wang]  \n",
       "\n",
       "[2 rows x 21 columns]"
      ]
     },
     "execution_count": 6,
     "metadata": {},
     "output_type": "execute_result"
    }
   ],
   "source": [
    "dfCov.head(2)"
   ]
  },
  {
   "cell_type": "markdown",
   "metadata": {},
   "source": [
    "# Transforming source data\n",
    "\n",
    "Transforms data frames into parts, extracts the columns of interest, imports other data, processes individual datasets to obtain a group of dataframes, which as a group are the sole data basis for the subsequent analysis steps. In den Posts"
   ]
  },
  {
   "cell_type": "code",
   "execution_count": null,
   "metadata": {},
   "outputs": [],
   "source": []
  },
  {
   "cell_type": "code",
   "execution_count": null,
   "metadata": {},
   "outputs": [],
   "source": []
  }
 ],
 "metadata": {
  "kernelspec": {
   "display_name": "Python 3",
   "language": "python",
   "name": "python3"
  },
  "language_info": {
   "codemirror_mode": {
    "name": "ipython",
    "version": 3
   },
   "file_extension": ".py",
   "mimetype": "text/x-python",
   "name": "python",
   "nbconvert_exporter": "python",
   "pygments_lexer": "ipython3",
   "version": "3.7.7"
  }
 },
 "nbformat": 4,
 "nbformat_minor": 4
}
