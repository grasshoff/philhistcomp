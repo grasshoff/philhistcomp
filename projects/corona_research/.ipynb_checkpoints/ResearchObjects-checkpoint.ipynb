{
 "cells": [
  {
   "cell_type": "code",
   "execution_count": 19,
   "metadata": {},
   "outputs": [],
   "source": [
    "import pandas as pd\n",
    "from bs4 import BeautifulSoup\n",
    "import requests\n",
    "import json "
   ]
  },
  {
   "cell_type": "code",
   "execution_count": 20,
   "metadata": {},
   "outputs": [],
   "source": [
    "dfRem=pd.read_excel(\"Remdesivir.xlsx\",skiprows=[0])"
   ]
  },
  {
   "cell_type": "raw",
   "metadata": {},
   "source": [
    "dfRem.reset_index(inplace=True)"
   ]
  },
  {
   "cell_type": "code",
   "execution_count": 21,
   "metadata": {},
   "outputs": [
    {
     "data": {
      "text/html": [
       "<div>\n",
       "<style scoped>\n",
       "    .dataframe tbody tr th:only-of-type {\n",
       "        vertical-align: middle;\n",
       "    }\n",
       "\n",
       "    .dataframe tbody tr th {\n",
       "        vertical-align: top;\n",
       "    }\n",
       "\n",
       "    .dataframe thead th {\n",
       "        text-align: right;\n",
       "    }\n",
       "</style>\n",
       "<table border=\"1\" class=\"dataframe\">\n",
       "  <thead>\n",
       "    <tr style=\"text-align: right;\">\n",
       "      <th></th>\n",
       "      <th>Rank</th>\n",
       "      <th>Publication ID</th>\n",
       "      <th>DOI</th>\n",
       "      <th>PMID</th>\n",
       "      <th>PMCID</th>\n",
       "      <th>Title</th>\n",
       "      <th>Source title</th>\n",
       "      <th>Anthology title</th>\n",
       "      <th>Publisher</th>\n",
       "      <th>MeSH terms</th>\n",
       "      <th>...</th>\n",
       "      <th>Source Linkout</th>\n",
       "      <th>Dimensions URL</th>\n",
       "      <th>FOR (ANZSRC) Categories</th>\n",
       "      <th>RCDC Categories</th>\n",
       "      <th>HRCS HC Categories</th>\n",
       "      <th>HRCS RAC Categories</th>\n",
       "      <th>ICRP Cancer Types</th>\n",
       "      <th>ICRP CSO Categories</th>\n",
       "      <th>Units of Assessment</th>\n",
       "      <th>Sustainable Development Goals</th>\n",
       "    </tr>\n",
       "  </thead>\n",
       "  <tbody>\n",
       "    <tr>\n",
       "      <th>0</th>\n",
       "      <td>496</td>\n",
       "      <td>pub.1127401342</td>\n",
       "      <td>10.1186/s40779-020-00251-x</td>\n",
       "      <td>32370766.0</td>\n",
       "      <td>PMC7199873</td>\n",
       "      <td>Role of adjunctive treatment strategies in COV...</td>\n",
       "      <td>Military Medical Research</td>\n",
       "      <td>NaN</td>\n",
       "      <td>NaN</td>\n",
       "      <td>Betacoronavirus; Coronavirus Infections; Human...</td>\n",
       "      <td>...</td>\n",
       "      <td>https://mmrjournal.biomedcentral.com/track/pdf...</td>\n",
       "      <td>https://app.dimensions.ai/details/publication/...</td>\n",
       "      <td>11 Medical and Health Sciences; 1103 Clinical ...</td>\n",
       "      <td>Rare Diseases</td>\n",
       "      <td>NaN</td>\n",
       "      <td>6.1 Pharmaceuticals</td>\n",
       "      <td>NaN</td>\n",
       "      <td>NaN</td>\n",
       "      <td>A03 Allied Health Professions, Dentistry, Nurs...</td>\n",
       "      <td>NaN</td>\n",
       "    </tr>\n",
       "    <tr>\n",
       "      <th>1</th>\n",
       "      <td>429</td>\n",
       "      <td>pub.1127456489</td>\n",
       "      <td>10.1186/s13037-020-00245-7</td>\n",
       "      <td>32395179.0</td>\n",
       "      <td>PMC7206578</td>\n",
       "      <td>Successful COVID-19 rescue therapy by extra-co...</td>\n",
       "      <td>Patient Safety in Surgery</td>\n",
       "      <td>NaN</td>\n",
       "      <td>Springer Nature</td>\n",
       "      <td>NaN</td>\n",
       "      <td>...</td>\n",
       "      <td>https://pssjournal.biomedcentral.com/track/pdf...</td>\n",
       "      <td>https://app.dimensions.ai/details/publication/...</td>\n",
       "      <td>11 Medical and Health Sciences; 1103 Clinical ...</td>\n",
       "      <td>Pneumonia; Lung; Prevention; Clinical Research</td>\n",
       "      <td>NaN</td>\n",
       "      <td>NaN</td>\n",
       "      <td>NaN</td>\n",
       "      <td>NaN</td>\n",
       "      <td>A01 Clinical Medicine</td>\n",
       "      <td>3 Good Health and Well Being</td>\n",
       "    </tr>\n",
       "    <tr>\n",
       "      <th>2</th>\n",
       "      <td>360</td>\n",
       "      <td>pub.1126815092</td>\n",
       "      <td>10.1186/s13613-020-00661-z</td>\n",
       "      <td>32307593.0</td>\n",
       "      <td>PMC7167303</td>\n",
       "      <td>Therapeutic strategies for critically ill pati...</td>\n",
       "      <td>Annals of Intensive Care</td>\n",
       "      <td>NaN</td>\n",
       "      <td>Springer Nature</td>\n",
       "      <td>NaN</td>\n",
       "      <td>...</td>\n",
       "      <td>https://annalsofintensivecare.springeropen.com...</td>\n",
       "      <td>https://app.dimensions.ai/details/publication/...</td>\n",
       "      <td>11 Medical and Health Sciences; 1103 Clinical ...</td>\n",
       "      <td>Infectious Diseases; Lung; Prevention; Influen...</td>\n",
       "      <td>Infection</td>\n",
       "      <td>NaN</td>\n",
       "      <td>NaN</td>\n",
       "      <td>NaN</td>\n",
       "      <td>A02 Public Health, Health Services and Primary...</td>\n",
       "      <td>NaN</td>\n",
       "    </tr>\n",
       "    <tr>\n",
       "      <th>3</th>\n",
       "      <td>348</td>\n",
       "      <td>pub.1127536759</td>\n",
       "      <td>10.1186/s13046-020-01590-2</td>\n",
       "      <td>32398164.0</td>\n",
       "      <td>PMC7214852</td>\n",
       "      <td>Drug repurposing against COVID-19: focus on an...</td>\n",
       "      <td>Journal of Experimental &amp; Clinical Cancer Rese...</td>\n",
       "      <td>NaN</td>\n",
       "      <td>Springer Nature</td>\n",
       "      <td>Antineoplastic Agents; Antiviral Agents; Betac...</td>\n",
       "      <td>...</td>\n",
       "      <td>https://jeccr.biomedcentral.com/track/pdf/10.1...</td>\n",
       "      <td>https://app.dimensions.ai/details/publication/...</td>\n",
       "      <td>11 Medical and Health Sciences; 1115 Pharmacol...</td>\n",
       "      <td>Cancer; Vaccine Related; Infectious Diseases; ...</td>\n",
       "      <td>Cancer; Infection</td>\n",
       "      <td>5.1 Pharmaceuticals</td>\n",
       "      <td>Not Site-Specific Cancer</td>\n",
       "      <td>5.3 Systemic Therapies - Discovery and Develop...</td>\n",
       "      <td>A03 Allied Health Professions, Dentistry, Nurs...</td>\n",
       "      <td>NaN</td>\n",
       "    </tr>\n",
       "  </tbody>\n",
       "</table>\n",
       "<p>4 rows × 45 columns</p>\n",
       "</div>"
      ],
      "text/plain": [
       "   Rank  Publication ID                         DOI        PMID       PMCID  \\\n",
       "0   496  pub.1127401342  10.1186/s40779-020-00251-x  32370766.0  PMC7199873   \n",
       "1   429  pub.1127456489  10.1186/s13037-020-00245-7  32395179.0  PMC7206578   \n",
       "2   360  pub.1126815092  10.1186/s13613-020-00661-z  32307593.0  PMC7167303   \n",
       "3   348  pub.1127536759  10.1186/s13046-020-01590-2  32398164.0  PMC7214852   \n",
       "\n",
       "                                               Title  \\\n",
       "0  Role of adjunctive treatment strategies in COV...   \n",
       "1  Successful COVID-19 rescue therapy by extra-co...   \n",
       "2  Therapeutic strategies for critically ill pati...   \n",
       "3  Drug repurposing against COVID-19: focus on an...   \n",
       "\n",
       "                                        Source title Anthology title  \\\n",
       "0                          Military Medical Research             NaN   \n",
       "1                          Patient Safety in Surgery             NaN   \n",
       "2                           Annals of Intensive Care             NaN   \n",
       "3  Journal of Experimental & Clinical Cancer Rese...             NaN   \n",
       "\n",
       "         Publisher                                         MeSH terms  ...  \\\n",
       "0              NaN  Betacoronavirus; Coronavirus Infections; Human...  ...   \n",
       "1  Springer Nature                                                NaN  ...   \n",
       "2  Springer Nature                                                NaN  ...   \n",
       "3  Springer Nature  Antineoplastic Agents; Antiviral Agents; Betac...  ...   \n",
       "\n",
       "                                      Source Linkout  \\\n",
       "0  https://mmrjournal.biomedcentral.com/track/pdf...   \n",
       "1  https://pssjournal.biomedcentral.com/track/pdf...   \n",
       "2  https://annalsofintensivecare.springeropen.com...   \n",
       "3  https://jeccr.biomedcentral.com/track/pdf/10.1...   \n",
       "\n",
       "                                      Dimensions URL  \\\n",
       "0  https://app.dimensions.ai/details/publication/...   \n",
       "1  https://app.dimensions.ai/details/publication/...   \n",
       "2  https://app.dimensions.ai/details/publication/...   \n",
       "3  https://app.dimensions.ai/details/publication/...   \n",
       "\n",
       "                             FOR (ANZSRC) Categories  \\\n",
       "0  11 Medical and Health Sciences; 1103 Clinical ...   \n",
       "1  11 Medical and Health Sciences; 1103 Clinical ...   \n",
       "2  11 Medical and Health Sciences; 1103 Clinical ...   \n",
       "3  11 Medical and Health Sciences; 1115 Pharmacol...   \n",
       "\n",
       "                                     RCDC Categories HRCS HC Categories  \\\n",
       "0                                      Rare Diseases                NaN   \n",
       "1     Pneumonia; Lung; Prevention; Clinical Research                NaN   \n",
       "2  Infectious Diseases; Lung; Prevention; Influen...          Infection   \n",
       "3  Cancer; Vaccine Related; Infectious Diseases; ...  Cancer; Infection   \n",
       "\n",
       "   HRCS RAC Categories         ICRP Cancer Types  \\\n",
       "0  6.1 Pharmaceuticals                       NaN   \n",
       "1                  NaN                       NaN   \n",
       "2                  NaN                       NaN   \n",
       "3  5.1 Pharmaceuticals  Not Site-Specific Cancer   \n",
       "\n",
       "                                 ICRP CSO Categories  \\\n",
       "0                                                NaN   \n",
       "1                                                NaN   \n",
       "2                                                NaN   \n",
       "3  5.3 Systemic Therapies - Discovery and Develop...   \n",
       "\n",
       "                                 Units of Assessment  \\\n",
       "0  A03 Allied Health Professions, Dentistry, Nurs...   \n",
       "1                              A01 Clinical Medicine   \n",
       "2  A02 Public Health, Health Services and Primary...   \n",
       "3  A03 Allied Health Professions, Dentistry, Nurs...   \n",
       "\n",
       "  Sustainable Development Goals  \n",
       "0                           NaN  \n",
       "1  3 Good Health and Well Being  \n",
       "2                           NaN  \n",
       "3                           NaN  \n",
       "\n",
       "[4 rows x 45 columns]"
      ]
     },
     "execution_count": 21,
     "metadata": {},
     "output_type": "execute_result"
    }
   ],
   "source": [
    "dfRem.head(4)\n",
    "# testcase\n",
    "#dfRem=dfRem[:10]"
   ]
  },
  {
   "cell_type": "code",
   "execution_count": 22,
   "metadata": {},
   "outputs": [
    {
     "data": {
      "text/plain": [
       "1818"
      ]
     },
     "execution_count": 22,
     "metadata": {},
     "output_type": "execute_result"
    }
   ],
   "source": [
    "len(dfRem)"
   ]
  },
  {
   "cell_type": "code",
   "execution_count": 23,
   "metadata": {},
   "outputs": [
    {
     "data": {
      "text/plain": [
       "Index(['Rank', 'Publication ID', 'DOI', 'PMID', 'PMCID', 'Title',\n",
       "       'Source title', 'Anthology title', 'Publisher', 'MeSH terms',\n",
       "       'Publication Date', 'PubYear', 'Volume', 'Issue', 'Pagination',\n",
       "       'Open Access', 'Publication Type', 'Authors', 'Corresponding Author',\n",
       "       'Authors Affiliations', 'Research Organizations - standardized',\n",
       "       'GRID IDs', 'City of Research organization',\n",
       "       'State of Research organization', 'Country of Research organization',\n",
       "       'Funder', 'Funder Group', 'Funder Country', 'UIDs of supporting grants',\n",
       "       'Supporting Grants', 'Times cited', 'Recent citations', 'RCR', 'FCR',\n",
       "       'Altmetric', 'Source Linkout', 'Dimensions URL',\n",
       "       'FOR (ANZSRC) Categories', 'RCDC Categories', 'HRCS HC Categories',\n",
       "       'HRCS RAC Categories', 'ICRP Cancer Types', 'ICRP CSO Categories',\n",
       "       'Units of Assessment', 'Sustainable Development Goals'],\n",
       "      dtype='object')"
      ]
     },
     "execution_count": 23,
     "metadata": {},
     "output_type": "execute_result"
    }
   ],
   "source": [
    "dfRem.keys()"
   ]
  },
  {
   "cell_type": "markdown",
   "metadata": {},
   "source": [
    "# Webseiten auswerten"
   ]
  },
  {
   "cell_type": "code",
   "execution_count": 24,
   "metadata": {},
   "outputs": [],
   "source": [
    "## get html pages from dimension\n",
    "def gethtml(x):\n",
    "    html=\"\"\n",
    "    url=x[\"Dimensions URL\"]\n",
    "    if url!=None:\n",
    "        html = requests.get(url).content\n",
    "    return(html)\n",
    "## create a soup column\n",
    "def getsoup(x):\n",
    "    html=x[\"htmldimension\"]\n",
    "    return(BeautifulSoup(html,\"html\"))\n",
    "## create a dict column\n",
    "def getdimdict(x):\n",
    "    s=x[\"soup\"]\n",
    "    datadoc=s.find(\"div\")\n",
    "    d=\"\"\n",
    "    if datadoc==None:\n",
    "        attr=\"\"\n",
    "    else:\n",
    "        attr=datadoc.get(\"data-doc\")\n",
    "        if attr:\n",
    "            d=json.loads(attr)\n",
    "    return(d)\n",
    "def makedic(x):\n",
    "    dicpub=dict()\n",
    "    for i in pubkeys:\n",
    "        v=x.get(i)\n",
    "        dicpub[i]=v\n",
    "    return(dicpub)"
   ]
  },
  {
   "cell_type": "code",
   "execution_count": null,
   "metadata": {},
   "outputs": [],
   "source": [
    "dfRem[\"htmldimension\"]=dfRem.apply(lambda x: gethtml(x),axis=1)"
   ]
  },
  {
   "cell_type": "code",
   "execution_count": null,
   "metadata": {},
   "outputs": [],
   "source": [
    "dfRem[\"soup\"]=dfRem.apply(lambda x:getsoup(x),axis=1)"
   ]
  },
  {
   "cell_type": "code",
   "execution_count": null,
   "metadata": {},
   "outputs": [],
   "source": [
    "dfRem[\"dimdict\"]=dfRem.apply(lambda x:getdimdict(x),axis=1)"
   ]
  },
  {
   "cell_type": "code",
   "execution_count": null,
   "metadata": {},
   "outputs": [],
   "source": [
    "pubkeys=[\n",
    "    'title',\n",
    "    'aff_org_name',\n",
    "#    'affiliations_json',\n",
    "#    'author_list',\n",
    "     'researcher_dim_id',\n",
    "     'researcher_dim_count',\n",
    "     'journal_title',\n",
    "     'language',\n",
    "     'abstract',\n",
    "     'open_access',\n",
    "     'publisher',\n",
    "#     'pub_class',\n",
    "#    'aff_city_geonames_ids',\n",
    "     'aff_city_name',\n",
    "     'aff_country_name',\n",
    "#     'aff_org_id',\n",
    "     'doi',\n",
    "#     'id',\n",
    "     'pub_date',\n",
    "     'pub_year',\n",
    "     'times_cited',\n",
    "     'altmetric_id',\n",
    "     'altmetric',\n",
    "#     'score',\n",
    "#     'affiliations_details',\n",
    "     'authors_full',\n",
    " #    'journal'\n",
    "        ]"
   ]
  },
  {
   "cell_type": "code",
   "execution_count": null,
   "metadata": {},
   "outputs": [],
   "source": [
    "dfRem[\"seldict\"]=dfRem[\"dimdict\"].apply(makedic)"
   ]
  },
  {
   "cell_type": "code",
   "execution_count": null,
   "metadata": {},
   "outputs": [],
   "source": [
    "lidi=[]\n",
    "def newpub(x):\n",
    "    di=dict()\n",
    "    d=x[\"seldict\"]\n",
    "    di[\"DOI\"]=x[\"DOI\"]\n",
    "    di[\"title\"]=x[\"Title\"]\n",
    "    di[\"authors\"]=d[\"authors_full\"]\n",
    "    di[\"publisher\"]=d[\"publisher\"]\n",
    "    di[\"source\"]=x[\"Source title\"]\n",
    "    di[\"aff_org_name\"]=d[\"aff_org_name\"]\n",
    "    di[\"aff_country\"]=d[\"aff_country_name\"]\n",
    "    di[\"pub_date\"]=d[\"pub_date\"]\n",
    "#    di[\"month\"]=x[\"month\"]\n",
    "#    di[\"day\"]=x[\"day\"]\n",
    "    di[\"abstract\"]=d[\"abstract\"]\n",
    "    di[\"openaccess\"]=d[\"open_access\"]\n",
    "    di[\"di_URL\"]=x[\"Dimensions URL\"]\n",
    "    lidi.append(di)"
   ]
  },
  {
   "cell_type": "code",
   "execution_count": null,
   "metadata": {},
   "outputs": [],
   "source": [
    "dfRem.apply(lambda x:newpub(x),axis=1)\n",
    "dfRemLit=pd.DataFrame(lidi)\n",
    "dfRemLit.head(3)"
   ]
  },
  {
   "cell_type": "code",
   "execution_count": null,
   "metadata": {},
   "outputs": [],
   "source": [
    "dfRemLit.to_json(\"dfRemLit.json\")"
   ]
  },
  {
   "cell_type": "code",
   "execution_count": null,
   "metadata": {},
   "outputs": [],
   "source": []
  }
 ],
 "metadata": {
  "kernelspec": {
   "display_name": "Python 3",
   "language": "python",
   "name": "python3"
  },
  "language_info": {
   "codemirror_mode": {
    "name": "ipython",
    "version": 3
   },
   "file_extension": ".py",
   "mimetype": "text/x-python",
   "name": "python",
   "nbconvert_exporter": "python",
   "pygments_lexer": "ipython3",
   "version": "3.7.7"
  }
 },
 "nbformat": 4,
 "nbformat_minor": 4
}
