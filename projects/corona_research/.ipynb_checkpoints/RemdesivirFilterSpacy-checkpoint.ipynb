{
 "cells": [
  {
   "cell_type": "markdown",
   "metadata": {},
   "source": [
    "# read dimension data"
   ]
  },
  {
   "cell_type": "code",
   "execution_count": 1,
   "metadata": {},
   "outputs": [],
   "source": [
    "import datetime\n",
    "import numpy as np\n",
    "import pandas as pd"
   ]
  },
  {
   "cell_type": "code",
   "execution_count": 2,
   "metadata": {},
   "outputs": [],
   "source": [
    "from bs4 import BeautifulSoup\n",
    "import requests\n",
    "import json \n",
    "from datetime import datetime"
   ]
  },
  {
   "cell_type": "code",
   "execution_count": 3,
   "metadata": {},
   "outputs": [],
   "source": [
    "import multiprocessing as mp"
   ]
  },
  {
   "cell_type": "markdown",
   "metadata": {},
   "source": [
    "# Load data"
   ]
  },
  {
   "cell_type": "code",
   "execution_count": 4,
   "metadata": {},
   "outputs": [],
   "source": [
    "dfCov=pd.read_json(\"dfpubl.json\")"
   ]
  },
  {
   "cell_type": "code",
   "execution_count": 5,
   "metadata": {},
   "outputs": [
    {
     "data": {
      "text/plain": [
       "2180"
      ]
     },
     "execution_count": 5,
     "metadata": {},
     "output_type": "execute_result"
    }
   ],
   "source": [
    "len(dfCov)"
   ]
  },
  {
   "cell_type": "markdown",
   "metadata": {},
   "source": [
    "# Scraping dimension archiv"
   ]
  },
  {
   "cell_type": "code",
   "execution_count": 6,
   "metadata": {},
   "outputs": [],
   "source": [
    "## create a soup column\n",
    "def getsoup0(x):\n",
    "    return(BeautifulSoup(x,\"lxml\"))"
   ]
  },
  {
   "cell_type": "code",
   "execution_count": 7,
   "metadata": {},
   "outputs": [],
   "source": [
    "## get html pages from dimension\n",
    "def gethtml0(x):\n",
    "    html=\"\"\n",
    "    url=x\n",
    "    if url!=None:\n",
    "        html = requests.get(url).content\n",
    "    return(html)"
   ]
  },
  {
   "cell_type": "code",
   "execution_count": 8,
   "metadata": {},
   "outputs": [],
   "source": [
    "dfCov['htmldimension'] = dfCov['Dimensions URL'].apply(gethtml0)"
   ]
  },
  {
   "cell_type": "code",
   "execution_count": 9,
   "metadata": {},
   "outputs": [],
   "source": [
    "dfCov[\"soup\"]=dfCov[\"htmldimension\"].apply(getsoup0)"
   ]
  },
  {
   "cell_type": "code",
   "execution_count": 10,
   "metadata": {},
   "outputs": [],
   "source": [
    "## create a dict column\n",
    "def getdimdict0(x):\n",
    "    datadoc=x.find(\"div\")\n",
    "    d=\"\"\n",
    "    if datadoc==None:\n",
    "        attr=\"\"\n",
    "    else:\n",
    "        attr=datadoc.get(\"data-doc\")\n",
    "        if attr:\n",
    "            d=json.loads(attr)\n",
    "    return(d)"
   ]
  },
  {
   "cell_type": "code",
   "execution_count": 11,
   "metadata": {},
   "outputs": [
    {
     "name": "stdout",
     "output_type": "stream",
     "text": [
      "CPU times: user 1.09 s, sys: 64.1 ms, total: 1.15 s\n",
      "Wall time: 1.17 s\n"
     ]
    }
   ],
   "source": [
    "%%time\n",
    "dfCov[\"dimdict\"]=dfCov[\"soup\"].apply(getdimdict0)"
   ]
  },
  {
   "cell_type": "code",
   "execution_count": 12,
   "metadata": {},
   "outputs": [
    {
     "data": {
      "text/html": [
       "<div>\n",
       "<style scoped>\n",
       "    .dataframe tbody tr th:only-of-type {\n",
       "        vertical-align: middle;\n",
       "    }\n",
       "\n",
       "    .dataframe tbody tr th {\n",
       "        vertical-align: top;\n",
       "    }\n",
       "\n",
       "    .dataframe thead th {\n",
       "        text-align: right;\n",
       "    }\n",
       "</style>\n",
       "<table border=\"1\" class=\"dataframe\">\n",
       "  <thead>\n",
       "    <tr style=\"text-align: right;\">\n",
       "      <th></th>\n",
       "      <th>index</th>\n",
       "      <th>Rank</th>\n",
       "      <th>Publication ID</th>\n",
       "      <th>DOI</th>\n",
       "      <th>PMID</th>\n",
       "      <th>PMCID</th>\n",
       "      <th>Title</th>\n",
       "      <th>Source title</th>\n",
       "      <th>Anthology title</th>\n",
       "      <th>Publisher</th>\n",
       "      <th>...</th>\n",
       "      <th>HRCS HC Categories</th>\n",
       "      <th>HRCS RAC Categories</th>\n",
       "      <th>ICRP Cancer Types</th>\n",
       "      <th>ICRP CSO Categories</th>\n",
       "      <th>Units of Assessment</th>\n",
       "      <th>Sustainable Development Goals</th>\n",
       "      <th>sourcefile</th>\n",
       "      <th>htmldimension</th>\n",
       "      <th>soup</th>\n",
       "      <th>dimdict</th>\n",
       "    </tr>\n",
       "  </thead>\n",
       "  <tbody>\n",
       "    <tr>\n",
       "      <th>0</th>\n",
       "      <td>0</td>\n",
       "      <td>403</td>\n",
       "      <td>pub.1127864300</td>\n",
       "      <td>10.1186/s13063-020-04352-9</td>\n",
       "      <td>32448345.0</td>\n",
       "      <td>PMC7245636</td>\n",
       "      <td>Evaluation of the efficacy and safety of intra...</td>\n",
       "      <td>Trials</td>\n",
       "      <td>None</td>\n",
       "      <td>Springer Nature</td>\n",
       "      <td>...</td>\n",
       "      <td>Infection</td>\n",
       "      <td>6.1 Pharmaceuticals</td>\n",
       "      <td>None</td>\n",
       "      <td>None</td>\n",
       "      <td>A01 Clinical Medicine</td>\n",
       "      <td>3 Good Health and Well Being</td>\n",
       "      <td>DimensionsRemdesevier.xlsx</td>\n",
       "      <td>b'\\n\\n&lt;!DOCTYPE html&gt;\\n&lt;html lang=\"en\"&gt;\\n&lt;head...</td>\n",
       "      <td>[html, [\\n, [\\n,  OneTrust Cookies Consent Not...</td>\n",
       "      <td>{'title': 'Evaluation of the efficacy and safe...</td>\n",
       "    </tr>\n",
       "    <tr>\n",
       "      <th>1</th>\n",
       "      <td>1</td>\n",
       "      <td>283</td>\n",
       "      <td>pub.1127401342</td>\n",
       "      <td>10.1186/s40779-020-00251-x</td>\n",
       "      <td>32370766.0</td>\n",
       "      <td>PMC7199873</td>\n",
       "      <td>Role of adjunctive treatment strategies in COV...</td>\n",
       "      <td>Military Medical Research</td>\n",
       "      <td>None</td>\n",
       "      <td>None</td>\n",
       "      <td>...</td>\n",
       "      <td>None</td>\n",
       "      <td>6.1 Pharmaceuticals</td>\n",
       "      <td>None</td>\n",
       "      <td>None</td>\n",
       "      <td>A03 Allied Health Professions, Dentistry, Nurs...</td>\n",
       "      <td>None</td>\n",
       "      <td>DimensionsRemdesevier.xlsx</td>\n",
       "      <td>b'\\n\\n&lt;!DOCTYPE html&gt;\\n&lt;html lang=\"en\"&gt;\\n&lt;head...</td>\n",
       "      <td>[html, [\\n, [\\n,  OneTrust Cookies Consent Not...</td>\n",
       "      <td>{'title': 'Role of adjunctive treatment strate...</td>\n",
       "    </tr>\n",
       "    <tr>\n",
       "      <th>2</th>\n",
       "      <td>2</td>\n",
       "      <td>234</td>\n",
       "      <td>pub.1124005183</td>\n",
       "      <td>10.1038/s41467-019-13940-6</td>\n",
       "      <td>31924756.0</td>\n",
       "      <td>PMC6954302</td>\n",
       "      <td>Comparative therapeutic efficacy of remdesivir...</td>\n",
       "      <td>Nature Communications</td>\n",
       "      <td>None</td>\n",
       "      <td>Springer Nature</td>\n",
       "      <td>...</td>\n",
       "      <td>Infection</td>\n",
       "      <td>5.1 Pharmaceuticals</td>\n",
       "      <td>None</td>\n",
       "      <td>None</td>\n",
       "      <td>A01 Clinical Medicine</td>\n",
       "      <td>None</td>\n",
       "      <td>DimensionsRemdesevier.xlsx</td>\n",
       "      <td>b'\\n\\n&lt;!DOCTYPE html&gt;\\n&lt;html lang=\"en\"&gt;\\n&lt;head...</td>\n",
       "      <td>[html, [\\n, [\\n,  OneTrust Cookies Consent Not...</td>\n",
       "      <td>{'title': 'Comparative therapeutic efficacy of...</td>\n",
       "    </tr>\n",
       "  </tbody>\n",
       "</table>\n",
       "<p>3 rows × 50 columns</p>\n",
       "</div>"
      ],
      "text/plain": [
       "   index  Rank  Publication ID                         DOI        PMID  \\\n",
       "0      0   403  pub.1127864300  10.1186/s13063-020-04352-9  32448345.0   \n",
       "1      1   283  pub.1127401342  10.1186/s40779-020-00251-x  32370766.0   \n",
       "2      2   234  pub.1124005183  10.1038/s41467-019-13940-6  31924756.0   \n",
       "\n",
       "        PMCID                                              Title  \\\n",
       "0  PMC7245636  Evaluation of the efficacy and safety of intra...   \n",
       "1  PMC7199873  Role of adjunctive treatment strategies in COV...   \n",
       "2  PMC6954302  Comparative therapeutic efficacy of remdesivir...   \n",
       "\n",
       "                Source title Anthology title        Publisher  ...  \\\n",
       "0                     Trials            None  Springer Nature  ...   \n",
       "1  Military Medical Research            None             None  ...   \n",
       "2      Nature Communications            None  Springer Nature  ...   \n",
       "\n",
       "  HRCS HC Categories  HRCS RAC Categories  ICRP Cancer Types  \\\n",
       "0          Infection  6.1 Pharmaceuticals               None   \n",
       "1               None  6.1 Pharmaceuticals               None   \n",
       "2          Infection  5.1 Pharmaceuticals               None   \n",
       "\n",
       "  ICRP CSO Categories                                Units of Assessment  \\\n",
       "0                None                              A01 Clinical Medicine   \n",
       "1                None  A03 Allied Health Professions, Dentistry, Nurs...   \n",
       "2                None                              A01 Clinical Medicine   \n",
       "\n",
       "  Sustainable Development Goals                  sourcefile  \\\n",
       "0  3 Good Health and Well Being  DimensionsRemdesevier.xlsx   \n",
       "1                          None  DimensionsRemdesevier.xlsx   \n",
       "2                          None  DimensionsRemdesevier.xlsx   \n",
       "\n",
       "                                       htmldimension  \\\n",
       "0  b'\\n\\n<!DOCTYPE html>\\n<html lang=\"en\">\\n<head...   \n",
       "1  b'\\n\\n<!DOCTYPE html>\\n<html lang=\"en\">\\n<head...   \n",
       "2  b'\\n\\n<!DOCTYPE html>\\n<html lang=\"en\">\\n<head...   \n",
       "\n",
       "                                                soup  \\\n",
       "0  [html, [\\n, [\\n,  OneTrust Cookies Consent Not...   \n",
       "1  [html, [\\n, [\\n,  OneTrust Cookies Consent Not...   \n",
       "2  [html, [\\n, [\\n,  OneTrust Cookies Consent Not...   \n",
       "\n",
       "                                             dimdict  \n",
       "0  {'title': 'Evaluation of the efficacy and safe...  \n",
       "1  {'title': 'Role of adjunctive treatment strate...  \n",
       "2  {'title': 'Comparative therapeutic efficacy of...  \n",
       "\n",
       "[3 rows x 50 columns]"
      ]
     },
     "execution_count": 12,
     "metadata": {},
     "output_type": "execute_result"
    }
   ],
   "source": [
    "dfCov.head(3)"
   ]
  },
  {
   "cell_type": "code",
   "execution_count": 13,
   "metadata": {},
   "outputs": [
    {
     "data": {
      "text/plain": [
       "2180"
      ]
     },
     "execution_count": 13,
     "metadata": {},
     "output_type": "execute_result"
    }
   ],
   "source": [
    "len(dfCov)"
   ]
  },
  {
   "cell_type": "code",
   "execution_count": 14,
   "metadata": {},
   "outputs": [],
   "source": [
    "## create a dict column\n",
    "def getdimdict(x):\n",
    "    s=x[\"soup\"]\n",
    "    datadoc=s.find(\"div\")\n",
    "    d=\"\"\n",
    "    if datadoc==None:\n",
    "        attr=\"\"\n",
    "    else:\n",
    "        attr=datadoc.get(\"data-doc\")\n",
    " #       print(attr)\n",
    "        if attr!=None:\n",
    "            d=json.loads(attr)\n",
    "    return(d)\n",
    "dfCov[\"dimdict\"]=dfCov.apply(lambda x:getdimdict(x),axis=1)"
   ]
  },
  {
   "cell_type": "code",
   "execution_count": 15,
   "metadata": {},
   "outputs": [],
   "source": [
    "likeys=list(dfCov[\"dimdict\"].loc[116].keys())"
   ]
  },
  {
   "cell_type": "code",
   "execution_count": 16,
   "metadata": {},
   "outputs": [],
   "source": [
    "pubkeys=[\n",
    "    'title',\n",
    "    'aff_org_name',\n",
    "#    'affiliations_json',\n",
    "     'author_list',\n",
    "     'researcher_dim_id',\n",
    "     'researcher_dim_count',\n",
    "     'journal_title',\n",
    "     'language',\n",
    "     'abstract',\n",
    "     'open_access',\n",
    "     'publisher',\n",
    "#     'pub_class',\n",
    "#    'aff_city_geonames_ids',\n",
    "     'aff_city_name',\n",
    "     'aff_country_name',\n",
    "#     'aff_org_id',\n",
    "     'doi',\n",
    "#     'id',\n",
    "     'pub_date',\n",
    "     'pub_year',\n",
    "     'times_cited',\n",
    "     'altmetric_id',\n",
    "     'altmetric',\n",
    "#     'score',\n",
    "#     'affiliations_details',\n",
    "     'authors_full',\n",
    " #    'journal'\n",
    "        ]"
   ]
  },
  {
   "cell_type": "code",
   "execution_count": 17,
   "metadata": {},
   "outputs": [],
   "source": [
    "\n",
    "def df2dic(y):\n",
    "    dicpub=dict()\n",
    "    dicpub[\"index\"]=y[\"index\"]\n",
    "    dicpub[\"PMID\"]=y[\"PMID\"]\n",
    "    x=y[\"dimdict\"]\n",
    "    if len(x)>5:\n",
    "        for i in pubkeys:\n",
    "#            print(x)\n",
    "            v=x.get(i)\n",
    "            dicpub[i]=v\n",
    "    return(dicpub)"
   ]
  },
  {
   "cell_type": "code",
   "execution_count": 18,
   "metadata": {},
   "outputs": [
    {
     "data": {
      "text/plain": [
       "'SARS-CoV-2 is an RNA virus that causes COVID-19, which has been responsible for the pandemic that was declared in early 2020. Its pathological effect is majorly in the respiratory tract, but its full pathogenicity remains a mystery. Symptoms associated with COVID-19 include fever, cough, and shortness of breath. Some patients develop other symptoms like diarrhea. However, it is possible for other organs to be affected including the central nervous system, liver, and blood cells. The purpose of this case series is to unravel other factors associated with this disease, so we report three cases of COVID-19 that were hospitalized during the pandemic.'"
      ]
     },
     "execution_count": 18,
     "metadata": {},
     "output_type": "execute_result"
    }
   ],
   "source": [
    "dfV=dfCov.loc[316]\n",
    "d=df2dic(dfV)\n",
    "d[\"abstract\"]"
   ]
  },
  {
   "cell_type": "code",
   "execution_count": 19,
   "metadata": {},
   "outputs": [],
   "source": [
    "listDF=[df2dic(rows) for i,rows in dfCov.iterrows()]"
   ]
  },
  {
   "cell_type": "code",
   "execution_count": 20,
   "metadata": {},
   "outputs": [
    {
     "data": {
      "text/plain": [
       "2180"
      ]
     },
     "execution_count": 20,
     "metadata": {},
     "output_type": "execute_result"
    }
   ],
   "source": [
    "dfPub=pd.DataFrame(listDF)\n",
    "len(dfPub)"
   ]
  },
  {
   "cell_type": "code",
   "execution_count": 21,
   "metadata": {},
   "outputs": [
    {
     "data": {
      "text/html": [
       "<div>\n",
       "<style scoped>\n",
       "    .dataframe tbody tr th:only-of-type {\n",
       "        vertical-align: middle;\n",
       "    }\n",
       "\n",
       "    .dataframe tbody tr th {\n",
       "        vertical-align: top;\n",
       "    }\n",
       "\n",
       "    .dataframe thead th {\n",
       "        text-align: right;\n",
       "    }\n",
       "</style>\n",
       "<table border=\"1\" class=\"dataframe\">\n",
       "  <thead>\n",
       "    <tr style=\"text-align: right;\">\n",
       "      <th></th>\n",
       "      <th>index</th>\n",
       "      <th>PMID</th>\n",
       "      <th>title</th>\n",
       "      <th>aff_org_name</th>\n",
       "      <th>author_list</th>\n",
       "      <th>researcher_dim_id</th>\n",
       "      <th>researcher_dim_count</th>\n",
       "      <th>journal_title</th>\n",
       "      <th>language</th>\n",
       "      <th>abstract</th>\n",
       "      <th>...</th>\n",
       "      <th>publisher</th>\n",
       "      <th>aff_city_name</th>\n",
       "      <th>aff_country_name</th>\n",
       "      <th>doi</th>\n",
       "      <th>pub_date</th>\n",
       "      <th>pub_year</th>\n",
       "      <th>times_cited</th>\n",
       "      <th>altmetric_id</th>\n",
       "      <th>altmetric</th>\n",
       "      <th>authors_full</th>\n",
       "    </tr>\n",
       "  </thead>\n",
       "  <tbody>\n",
       "    <tr>\n",
       "      <th>0</th>\n",
       "      <td>0</td>\n",
       "      <td>32448345.0</td>\n",
       "      <td>Evaluation of the efficacy and safety of intra...</td>\n",
       "      <td>[University of Virginia, Renmin Hospital of Wu...</td>\n",
       "      <td>Yeming Wang, Fei Zhou, Dingyu Zhang, Jianping ...</td>\n",
       "      <td>None</td>\n",
       "      <td>NaN</td>\n",
       "      <td>Trials</td>\n",
       "      <td>en</td>\n",
       "      <td>BACKGROUND: Coronavirus disease 2019 (COVID-19...</td>\n",
       "      <td>...</td>\n",
       "      <td>Springer Nature</td>\n",
       "      <td>[Beijing, Oxford, Lancaster, Wuhan, Charlottes...</td>\n",
       "      <td>[United States, United Kingdom, China]</td>\n",
       "      <td>10.1186/s13063-020-04352-9</td>\n",
       "      <td>2020-12</td>\n",
       "      <td>2020.0</td>\n",
       "      <td>0.0</td>\n",
       "      <td>82867165.0</td>\n",
       "      <td>1.0</td>\n",
       "      <td>[Yeming Wang, Fei Zhou, Dingyu Zhang, Jianping...</td>\n",
       "    </tr>\n",
       "    <tr>\n",
       "      <th>1</th>\n",
       "      <td>1</td>\n",
       "      <td>32370766.0</td>\n",
       "      <td>Role of adjunctive treatment strategies in COV...</td>\n",
       "      <td>[National University of Singapore, Department ...</td>\n",
       "      <td>Xinni Xu, Yew Kwang Ong, De Yun Wang</td>\n",
       "      <td>[ur.01301012403.08, ur.0653027373.10, ur.07020...</td>\n",
       "      <td>3.0</td>\n",
       "      <td>Military Medical Research</td>\n",
       "      <td>en</td>\n",
       "      <td>The coronavirus disease (COVID-19) pandemic ha...</td>\n",
       "      <td>...</td>\n",
       "      <td>None</td>\n",
       "      <td>[Singapore]</td>\n",
       "      <td>[Singapore]</td>\n",
       "      <td>10.1186/s40779-020-00251-x</td>\n",
       "      <td>2020-12</td>\n",
       "      <td>2020.0</td>\n",
       "      <td>0.0</td>\n",
       "      <td>81691144.0</td>\n",
       "      <td>10.0</td>\n",
       "      <td>[Xinni Xu, Yew Kwang Ong, De Yun Wang]</td>\n",
       "    </tr>\n",
       "  </tbody>\n",
       "</table>\n",
       "<p>2 rows × 21 columns</p>\n",
       "</div>"
      ],
      "text/plain": [
       "   index        PMID                                              title  \\\n",
       "0      0  32448345.0  Evaluation of the efficacy and safety of intra...   \n",
       "1      1  32370766.0  Role of adjunctive treatment strategies in COV...   \n",
       "\n",
       "                                        aff_org_name  \\\n",
       "0  [University of Virginia, Renmin Hospital of Wu...   \n",
       "1  [National University of Singapore, Department ...   \n",
       "\n",
       "                                         author_list  \\\n",
       "0  Yeming Wang, Fei Zhou, Dingyu Zhang, Jianping ...   \n",
       "1               Xinni Xu, Yew Kwang Ong, De Yun Wang   \n",
       "\n",
       "                                   researcher_dim_id  researcher_dim_count  \\\n",
       "0                                               None                   NaN   \n",
       "1  [ur.01301012403.08, ur.0653027373.10, ur.07020...                   3.0   \n",
       "\n",
       "               journal_title language  \\\n",
       "0                     Trials       en   \n",
       "1  Military Medical Research       en   \n",
       "\n",
       "                                            abstract  ...        publisher  \\\n",
       "0  BACKGROUND: Coronavirus disease 2019 (COVID-19...  ...  Springer Nature   \n",
       "1  The coronavirus disease (COVID-19) pandemic ha...  ...             None   \n",
       "\n",
       "                                       aff_city_name  \\\n",
       "0  [Beijing, Oxford, Lancaster, Wuhan, Charlottes...   \n",
       "1                                        [Singapore]   \n",
       "\n",
       "                         aff_country_name                         doi  \\\n",
       "0  [United States, United Kingdom, China]  10.1186/s13063-020-04352-9   \n",
       "1                             [Singapore]  10.1186/s40779-020-00251-x   \n",
       "\n",
       "  pub_date pub_year  times_cited  altmetric_id  altmetric  \\\n",
       "0  2020-12   2020.0          0.0    82867165.0        1.0   \n",
       "1  2020-12   2020.0          0.0    81691144.0       10.0   \n",
       "\n",
       "                                        authors_full  \n",
       "0  [Yeming Wang, Fei Zhou, Dingyu Zhang, Jianping...  \n",
       "1             [Xinni Xu, Yew Kwang Ong, De Yun Wang]  \n",
       "\n",
       "[2 rows x 21 columns]"
      ]
     },
     "execution_count": 21,
     "metadata": {},
     "output_type": "execute_result"
    }
   ],
   "source": [
    "dfPub.head(2)"
   ]
  },
  {
   "cell_type": "code",
   "execution_count": 22,
   "metadata": {},
   "outputs": [],
   "source": [
    "dfPub.to_json(\"dfremdesivier.json\")"
   ]
  }
 ],
 "metadata": {
  "kernelspec": {
   "display_name": "Python 3",
   "language": "python",
   "name": "python3"
  },
  "language_info": {
   "codemirror_mode": {
    "name": "ipython",
    "version": 3
   },
   "file_extension": ".py",
   "mimetype": "text/x-python",
   "name": "python",
   "nbconvert_exporter": "python",
   "pygments_lexer": "ipython3",
   "version": "3.7.7"
  }
 },
 "nbformat": 4,
 "nbformat_minor": 4
}
