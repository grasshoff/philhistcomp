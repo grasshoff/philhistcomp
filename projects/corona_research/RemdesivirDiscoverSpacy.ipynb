{
 "cells": [
  {
   "cell_type": "markdown",
   "metadata": {},
   "source": [
    "# Libraries, data"
   ]
  },
  {
   "cell_type": "code",
   "execution_count": 1,
   "metadata": {},
   "outputs": [],
   "source": [
    "import pandas as pd\n",
    "import spacy\n",
    "from spacy import displacy\n",
    "from spacy.matcher import Matcher\n",
    "import re"
   ]
  },
  {
   "cell_type": "code",
   "execution_count": 2,
   "metadata": {},
   "outputs": [],
   "source": [
    "# Import English library\n",
    "nlp = spacy.load('en_core_web_sm')"
   ]
  },
  {
   "cell_type": "code",
   "execution_count": 3,
   "metadata": {},
   "outputs": [],
   "source": [
    "dfRem=pd.read_json(\"dfRemdesivierResearchObjects.json\")[[\"title\",\"abstract\"]]"
   ]
  },
  {
   "cell_type": "code",
   "execution_count": 4,
   "metadata": {},
   "outputs": [
    {
     "data": {
      "text/plain": [
       "2180"
      ]
     },
     "execution_count": 4,
     "metadata": {},
     "output_type": "execute_result"
    }
   ],
   "source": [
    "len(dfRem)"
   ]
  },
  {
   "cell_type": "code",
   "execution_count": 5,
   "metadata": {},
   "outputs": [
    {
     "data": {
      "text/html": [
       "<div>\n",
       "<style scoped>\n",
       "    .dataframe tbody tr th:only-of-type {\n",
       "        vertical-align: middle;\n",
       "    }\n",
       "\n",
       "    .dataframe tbody tr th {\n",
       "        vertical-align: top;\n",
       "    }\n",
       "\n",
       "    .dataframe thead th {\n",
       "        text-align: right;\n",
       "    }\n",
       "</style>\n",
       "<table border=\"1\" class=\"dataframe\">\n",
       "  <thead>\n",
       "    <tr style=\"text-align: right;\">\n",
       "      <th></th>\n",
       "      <th>title</th>\n",
       "      <th>abstract</th>\n",
       "    </tr>\n",
       "  </thead>\n",
       "  <tbody>\n",
       "    <tr>\n",
       "      <th>0</th>\n",
       "      <td>Evaluation of the efficacy and safety of intra...</td>\n",
       "      <td>BACKGROUND: Coronavirus disease 2019 (COVID-19...</td>\n",
       "    </tr>\n",
       "    <tr>\n",
       "      <th>1</th>\n",
       "      <td>Role of adjunctive treatment strategies in COV...</td>\n",
       "      <td>The coronavirus disease (COVID-19) pandemic ha...</td>\n",
       "    </tr>\n",
       "  </tbody>\n",
       "</table>\n",
       "</div>"
      ],
      "text/plain": [
       "                                               title  \\\n",
       "0  Evaluation of the efficacy and safety of intra...   \n",
       "1  Role of adjunctive treatment strategies in COV...   \n",
       "\n",
       "                                            abstract  \n",
       "0  BACKGROUND: Coronavirus disease 2019 (COVID-19...  \n",
       "1  The coronavirus disease (COVID-19) pandemic ha...  "
      ]
     },
     "execution_count": 5,
     "metadata": {},
     "output_type": "execute_result"
    }
   ],
   "source": [
    "dfRem.head(2)"
   ]
  },
  {
   "cell_type": "code",
   "execution_count": 6,
   "metadata": {},
   "outputs": [
    {
     "data": {
      "text/plain": [
       "2135"
      ]
     },
     "execution_count": 6,
     "metadata": {},
     "output_type": "execute_result"
    }
   ],
   "source": [
    "dfRem=dfRem.dropna(subset=[\"abstract\"])\n",
    "len(dfRem)"
   ]
  },
  {
   "cell_type": "markdown",
   "metadata": {},
   "source": [
    "# Filter\n",
    "\n",
    "Initially just for those abstracts containing the expression \"We show\""
   ]
  },
  {
   "cell_type": "code",
   "execution_count": 7,
   "metadata": {},
   "outputs": [],
   "source": [
    "suche=\"We show\"\n",
    "def filter(zeile):\n",
    "    cond=zeile[\"abstract\"].str.contains(suche,na=False)\n",
    "    return(cond)"
   ]
  },
  {
   "cell_type": "code",
   "execution_count": 8,
   "metadata": {},
   "outputs": [
    {
     "data": {
      "text/html": [
       "<div>\n",
       "<style scoped>\n",
       "    .dataframe tbody tr th:only-of-type {\n",
       "        vertical-align: middle;\n",
       "    }\n",
       "\n",
       "    .dataframe tbody tr th {\n",
       "        vertical-align: top;\n",
       "    }\n",
       "\n",
       "    .dataframe thead th {\n",
       "        text-align: right;\n",
       "    }\n",
       "</style>\n",
       "<table border=\"1\" class=\"dataframe\">\n",
       "  <thead>\n",
       "    <tr style=\"text-align: right;\">\n",
       "      <th></th>\n",
       "      <th>title</th>\n",
       "      <th>abstract</th>\n",
       "    </tr>\n",
       "  </thead>\n",
       "  <tbody>\n",
       "    <tr>\n",
       "      <th>341</th>\n",
       "      <td>In silico detection of SARS-CoV-2 specific B-c...</td>\n",
       "      <td>Abstract Rapid generation of diagnostics is pa...</td>\n",
       "    </tr>\n",
       "    <tr>\n",
       "      <th>537</th>\n",
       "      <td>Structure based drug discovery by virtual scre...</td>\n",
       "      <td>&amp;lt;p&amp;gt;Background&amp;lt;/p&amp;gt;&amp;lt;p&amp;gt;The curr...</td>\n",
       "    </tr>\n",
       "    <tr>\n",
       "      <th>649</th>\n",
       "      <td>Defining the Pandemic at the State Level: Sequ...</td>\n",
       "      <td>In December of 2019, a novel coronavirus, SARS...</td>\n",
       "    </tr>\n",
       "    <tr>\n",
       "      <th>685</th>\n",
       "      <td>COVID-19 research in Wikipedia</td>\n",
       "      <td>Wikipedia is one of the main sources of free k...</td>\n",
       "    </tr>\n",
       "    <tr>\n",
       "      <th>1542</th>\n",
       "      <td>SARS-CoV-2 and SARS-CoV differ in their cell t...</td>\n",
       "      <td>SARS-CoV-2 is a novel coronavirus currently ca...</td>\n",
       "    </tr>\n",
       "  </tbody>\n",
       "</table>\n",
       "</div>"
      ],
      "text/plain": [
       "                                                  title  \\\n",
       "341   In silico detection of SARS-CoV-2 specific B-c...   \n",
       "537   Structure based drug discovery by virtual scre...   \n",
       "649   Defining the Pandemic at the State Level: Sequ...   \n",
       "685                      COVID-19 research in Wikipedia   \n",
       "1542  SARS-CoV-2 and SARS-CoV differ in their cell t...   \n",
       "\n",
       "                                               abstract  \n",
       "341   Abstract Rapid generation of diagnostics is pa...  \n",
       "537   &lt;p&gt;Background&lt;/p&gt;&lt;p&gt;The curr...  \n",
       "649   In December of 2019, a novel coronavirus, SARS...  \n",
       "685   Wikipedia is one of the main sources of free k...  \n",
       "1542  SARS-CoV-2 is a novel coronavirus currently ca...  "
      ]
     },
     "execution_count": 8,
     "metadata": {},
     "output_type": "execute_result"
    }
   ],
   "source": [
    "df1=dfRem[filter]\n",
    "df1"
   ]
  },
  {
   "cell_type": "markdown",
   "metadata": {},
   "source": [
    "# Pattern for propositional attitudes \"we [VERB]\"\n",
    "\n",
    "https://spacy.io/usage/rule-based-matching\n",
    "\n",
    "https://explosion.ai/demos/matcher?"
   ]
  },
  {
   "cell_type": "code",
   "execution_count": 9,
   "metadata": {},
   "outputs": [],
   "source": [
    "dfRem[\"doc\"]=dfRem[\"abstract\"].apply(nlp)"
   ]
  },
  {
   "cell_type": "code",
   "execution_count": 10,
   "metadata": {},
   "outputs": [
    {
     "data": {
      "text/plain": [
       "'Middle East respiratory syndrome coronavirus (MERS-CoV) is the causative agent of a severe respiratory disease associated with more than 2468 human infections and over 851 deaths in 27 countries since 2012. There are no approved treatments for MERS-CoV infection although a combination of lopinavir, ritonavir and interferon beta (LPV/RTV-IFNb) is currently being evaluated in humans in the Kingdom of Saudi Arabia. Here, we show that remdesivir (RDV) and IFNb have superior antiviral activity to LPV and RTV in vitro. In mice, both prophylactic and therapeutic RDV improve pulmonary function and reduce lung viral loads and severe lung pathology. In contrast, prophylactic LPV/RTV-IFNb slightly reduces viral loads without impacting other disease parameters. Therapeutic LPV/RTV-IFNb improves pulmonary function but does not reduce virus replication or severe lung pathology. Thus, we provide in vivo evidence of the potential for RDV to treat MERS-CoV infections.'"
      ]
     },
     "execution_count": 10,
     "metadata": {},
     "output_type": "execute_result"
    }
   ],
   "source": [
    "df=dfRem\n",
    "a=df.iloc[2].abstract\n",
    "a"
   ]
  },
  {
   "cell_type": "code",
   "execution_count": 11,
   "metadata": {},
   "outputs": [],
   "source": [
    "abstract=nlp(a)"
   ]
  },
  {
   "cell_type": "code",
   "execution_count": 12,
   "metadata": {},
   "outputs": [
    {
     "name": "stdout",
     "output_type": "stream",
     "text": [
      " Satz 0= Middle East respiratory syndrome coronavirus (MERS-CoV) is the causative agent of a severe respiratory disease associated with more than 2468 human infections and over 851 deaths in 27 countries since 2012.\n",
      " Satz 1= There are no approved treatments for MERS-CoV infection although a combination of lopinavir, ritonavir and interferon beta (LPV/RTV-IFNb) is currently being evaluated in humans in the Kingdom of Saudi Arabia.\n",
      " Satz 2= Here, we show that remdesivir (RDV) and IFNb have superior antiviral activity to LPV and RTV in vitro.\n",
      " Satz 3= In mice, both prophylactic and therapeutic RDV improve pulmonary function and reduce lung viral loads and severe lung pathology.\n",
      " Satz 4= In contrast, prophylactic LPV/RTV-IFNb slightly reduces viral loads without impacting other disease parameters.\n",
      " Satz 5= Therapeutic LPV/RTV-IFNb improves pulmonary function but does not reduce virus replication or severe lung pathology.\n",
      " Satz 6= Thus, we provide in vivo evidence of the potential for RDV to treat MERS-CoV infections.\n"
     ]
    }
   ],
   "source": [
    "for i,sent in enumerate(abstract.sents):\n",
    "    print(f\" Satz {i}= {sent}\")"
   ]
  },
  {
   "cell_type": "code",
   "execution_count": 13,
   "metadata": {},
   "outputs": [
    {
     "data": {
      "text/plain": [
       "'Thus, we provide in vivo evidence of the potential for RDV to treat MERS-CoV infections.'"
      ]
     },
     "execution_count": 13,
     "metadata": {},
     "output_type": "execute_result"
    }
   ],
   "source": [
    "sentences=[s for s in abstract.sents]\n",
    "s=sentences[6].text\n",
    "doc=nlp(s)\n",
    "s"
   ]
  },
  {
   "cell_type": "code",
   "execution_count": 14,
   "metadata": {},
   "outputs": [
    {
     "data": {
      "text/html": [
       "<span class=\"tex2jax_ignore\"><div class=\"entities\" style=\"line-height: 2.5; direction: ltr\">Thus, we provide in vivo evidence of the potential for \n",
       "<mark class=\"entity\" style=\"background: #7aecec; padding: 0.45em 0.6em; margin: 0 0.25em; line-height: 1; border-radius: 0.35em;\">\n",
       "    RDV\n",
       "    <span style=\"font-size: 0.8em; font-weight: bold; line-height: 1; border-radius: 0.35em; text-transform: uppercase; vertical-align: middle; margin-left: 0.5rem\">ORG</span>\n",
       "</mark>\n",
       " to treat MERS-CoV infections.</div></span>"
      ],
      "text/plain": [
       "<IPython.core.display.HTML object>"
      ]
     },
     "metadata": {},
     "output_type": "display_data"
    }
   ],
   "source": [
    "displacy.render(doc, style=\"ent\")"
   ]
  },
  {
   "cell_type": "code",
   "execution_count": 15,
   "metadata": {},
   "outputs": [],
   "source": [
    "matcher = Matcher(nlp.vocab)"
   ]
  },
  {
   "cell_type": "code",
   "execution_count": 16,
   "metadata": {},
   "outputs": [],
   "source": [
    "pattern = [{\"LOWER\":\"we\"},{'POS': 'VERB'}]\n",
    "matcher.add(\"matching\",None,pattern)"
   ]
  },
  {
   "cell_type": "code",
   "execution_count": 17,
   "metadata": {},
   "outputs": [
    {
     "name": "stdout",
     "output_type": "stream",
     "text": [
      "we provide\n",
      "das Verb ist: provide\n"
     ]
    }
   ],
   "source": [
    "matches=matcher(doc)\n",
    "for _, start, end in matches:\n",
    "    span = doc[start:end]  # The matched span\n",
    "    print(span.text)\n",
    "    span2=doc[end-1]\n",
    "    print(f\"das Verb ist: {span2.lemma_}\")"
   ]
  },
  {
   "cell_type": "code",
   "execution_count": 18,
   "metadata": {},
   "outputs": [],
   "source": [
    "listverbs=[]\n",
    "def actionverbs(a):\n",
    "    abstract=nlp(a)\n",
    "    matches=matcher(abstract)\n",
    "    for _,start,end in matches:\n",
    "        verb=abstract[end-1]\n",
    "        listverbs.append(verb.lemma_)"
   ]
  },
  {
   "cell_type": "code",
   "execution_count": 19,
   "metadata": {},
   "outputs": [
    {
     "data": {
      "text/plain": [
       "['show', 'provide']"
      ]
     },
     "execution_count": 19,
     "metadata": {},
     "output_type": "execute_result"
    }
   ],
   "source": [
    "actionverbs(a)\n",
    "listverbs"
   ]
  },
  {
   "cell_type": "code",
   "execution_count": null,
   "metadata": {},
   "outputs": [],
   "source": [
    "dfRem[\"abstract\"].apply(actionverbs)\n",
    "len(listverbs)"
   ]
  },
  {
   "cell_type": "code",
   "execution_count": null,
   "metadata": {},
   "outputs": [],
   "source": [
    "from collections import Counter\n",
    "counts=Counter(listverbs)\n",
    "print(sorted(counts))"
   ]
  },
  {
   "cell_type": "markdown",
   "metadata": {},
   "source": [
    "# Propositional research attitudes\n",
    "\n",
    "- GOAL (intention, goal):  \n",
    "    - aim, seek, study, undertake, investigate, intend\n",
    "- DISCOV: \n",
    "    - show, propose, obtain, report, observe, create, demonstrate, detect, scrutinize, provide"
   ]
  },
  {
   "cell_type": "markdown",
   "metadata": {},
   "source": [
    "## training data\n",
    "\n",
    "- prepare matching function for sentences, output in format JSONL"
   ]
  },
  {
   "cell_type": "raw",
   "metadata": {},
   "source": [
    "# example format for data\n",
    "train_data = [\n",
    "    (\"Uber blew through $1 million a week\", [(0, 4, 'ORG')]),\n",
    "    (\"Android Pay expands to Canada\", [(0, 11, 'PRODUCT'), (23, 30, 'GPE')]),\n",
    "    (\"Spotify steps up Asia expansion\", [(0, 8, \"ORG\"), (17, 21, \"LOC\")]),\n",
    "    (\"Google Maps launches location sharing\", [(0, 11, \"PRODUCT\")]),\n",
    "    (\"Google rebrands its business apps\", [(0, 6, \"ORG\")]),\n",
    "    (\"look what i found on google! 😂\", [(21, 27, \"PRODUCT\")])]\n"
   ]
  },
  {
   "cell_type": "code",
   "execution_count": null,
   "metadata": {},
   "outputs": [],
   "source": [
    "verbtags={\"GOAL\":\n",
    "       [\"aim\",\"seek\",\"study\",\"undertake\",\"investigate\",\"intend\"],\n",
    "       \"DISCOV\":\n",
    "        [\"show\",\"provide\",\"notice\",\"report\",\"intend\"]\n",
    "         }"
   ]
  },
  {
   "cell_type": "code",
   "execution_count": null,
   "metadata": {},
   "outputs": [],
   "source": [
    "# for testing\n",
    "dfRem1=dfRem[\"doc\"].copy()"
   ]
  },
  {
   "cell_type": "code",
   "execution_count": null,
   "metadata": {},
   "outputs": [],
   "source": [
    "def actionverb(abstract):\n",
    "    matches=matcher(abstract)\n",
    "    listDisc=[]\n",
    "#    print(len(abstract.text),matches)\n",
    "    for _,start,end in matches:\n",
    "        verb=abstract[end-1].text\n",
    "        verblem=abstract[end-1].lemma_\n",
    " #       print(f\"+++++ {verblem}\")\n",
    "        for ent,verbs in verbtags.items():\n",
    " #           print(ent,verbs)\n",
    "            if verblem in verbs:\n",
    "                dict_disc=(start+1,end,ent)\n",
    " #               print(dict_disc)\n",
    " #               print(\"listdisc\",listDisc)\n",
    "                listDisc.append(dict_disc)\n",
    "    return(listDisc)"
   ]
  },
  {
   "cell_type": "code",
   "execution_count": null,
   "metadata": {},
   "outputs": [],
   "source": [
    "dfRem1[\"discNER\"]=dfRem1[\"doc\"].apply(actionverb)  "
   ]
  },
  {
   "cell_type": "code",
   "execution_count": null,
   "metadata": {},
   "outputs": [],
   "source": [
    "dfRem.head(19)"
   ]
  },
  {
   "cell_type": "code",
   "execution_count": null,
   "metadata": {},
   "outputs": [],
   "source": []
  }
 ],
 "metadata": {
  "kernelspec": {
   "display_name": "Python 3",
   "language": "python",
   "name": "python3"
  },
  "language_info": {
   "codemirror_mode": {
    "name": "ipython",
    "version": 3
   },
   "file_extension": ".py",
   "mimetype": "text/x-python",
   "name": "python",
   "nbconvert_exporter": "python",
   "pygments_lexer": "ipython3",
   "version": "3.7.7"
  }
 },
 "nbformat": 4,
 "nbformat_minor": 4
}
