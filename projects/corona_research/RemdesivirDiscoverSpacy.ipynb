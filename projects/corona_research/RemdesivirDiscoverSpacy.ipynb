{
 "cells": [
  {
   "cell_type": "markdown",
   "metadata": {},
   "source": [
    "# Libraries, data"
   ]
  },
  {
   "cell_type": "code",
   "execution_count": 1,
   "metadata": {},
   "outputs": [],
   "source": [
    "import pandas as pd\n",
    "import spacy\n",
    "from spacy import displacy\n",
    "from spacy.matcher import Matcher\n",
    "import re"
   ]
  },
  {
   "cell_type": "code",
   "execution_count": 2,
   "metadata": {},
   "outputs": [],
   "source": [
    "# Import English library\n",
    "nlp = spacy.load('en_core_web_sm')"
   ]
  },
  {
   "cell_type": "code",
   "execution_count": 3,
   "metadata": {},
   "outputs": [],
   "source": [
    "dfRem=pd.read_json(\"dfRemdesivierResearchObjects.json\")[[\"title\",\"abstract\"]]"
   ]
  },
  {
   "cell_type": "code",
   "execution_count": 4,
   "metadata": {},
   "outputs": [
    {
     "data": {
      "text/plain": [
       "2180"
      ]
     },
     "execution_count": 4,
     "metadata": {},
     "output_type": "execute_result"
    }
   ],
   "source": [
    "len(dfRem)"
   ]
  },
  {
   "cell_type": "code",
   "execution_count": 5,
   "metadata": {},
   "outputs": [
    {
     "data": {
      "text/html": [
       "<div>\n",
       "<style scoped>\n",
       "    .dataframe tbody tr th:only-of-type {\n",
       "        vertical-align: middle;\n",
       "    }\n",
       "\n",
       "    .dataframe tbody tr th {\n",
       "        vertical-align: top;\n",
       "    }\n",
       "\n",
       "    .dataframe thead th {\n",
       "        text-align: right;\n",
       "    }\n",
       "</style>\n",
       "<table border=\"1\" class=\"dataframe\">\n",
       "  <thead>\n",
       "    <tr style=\"text-align: right;\">\n",
       "      <th></th>\n",
       "      <th>title</th>\n",
       "      <th>abstract</th>\n",
       "    </tr>\n",
       "  </thead>\n",
       "  <tbody>\n",
       "    <tr>\n",
       "      <th>0</th>\n",
       "      <td>Evaluation of the efficacy and safety of intra...</td>\n",
       "      <td>BACKGROUND: Coronavirus disease 2019 (COVID-19...</td>\n",
       "    </tr>\n",
       "    <tr>\n",
       "      <th>1</th>\n",
       "      <td>Role of adjunctive treatment strategies in COV...</td>\n",
       "      <td>The coronavirus disease (COVID-19) pandemic ha...</td>\n",
       "    </tr>\n",
       "  </tbody>\n",
       "</table>\n",
       "</div>"
      ],
      "text/plain": [
       "                                               title  \\\n",
       "0  Evaluation of the efficacy and safety of intra...   \n",
       "1  Role of adjunctive treatment strategies in COV...   \n",
       "\n",
       "                                            abstract  \n",
       "0  BACKGROUND: Coronavirus disease 2019 (COVID-19...  \n",
       "1  The coronavirus disease (COVID-19) pandemic ha...  "
      ]
     },
     "execution_count": 5,
     "metadata": {},
     "output_type": "execute_result"
    }
   ],
   "source": [
    "dfRem.head(2)"
   ]
  },
  {
   "cell_type": "code",
   "execution_count": 6,
   "metadata": {},
   "outputs": [
    {
     "data": {
      "text/plain": [
       "2135"
      ]
     },
     "execution_count": 6,
     "metadata": {},
     "output_type": "execute_result"
    }
   ],
   "source": [
    "dfRem=dfRem.dropna(subset=[\"abstract\"])\n",
    "len(dfRem)"
   ]
  },
  {
   "cell_type": "markdown",
   "metadata": {},
   "source": [
    "# Filter\n",
    "\n",
    "Initially just for those abstracts containing the expression \"We show\""
   ]
  },
  {
   "cell_type": "code",
   "execution_count": 7,
   "metadata": {},
   "outputs": [],
   "source": [
    "suche=\"We show\"\n",
    "def filter(zeile):\n",
    "    cond=zeile[\"abstract\"].str.contains(suche,na=False)\n",
    "    return(cond)"
   ]
  },
  {
   "cell_type": "code",
   "execution_count": 8,
   "metadata": {},
   "outputs": [
    {
     "data": {
      "text/html": [
       "<div>\n",
       "<style scoped>\n",
       "    .dataframe tbody tr th:only-of-type {\n",
       "        vertical-align: middle;\n",
       "    }\n",
       "\n",
       "    .dataframe tbody tr th {\n",
       "        vertical-align: top;\n",
       "    }\n",
       "\n",
       "    .dataframe thead th {\n",
       "        text-align: right;\n",
       "    }\n",
       "</style>\n",
       "<table border=\"1\" class=\"dataframe\">\n",
       "  <thead>\n",
       "    <tr style=\"text-align: right;\">\n",
       "      <th></th>\n",
       "      <th>title</th>\n",
       "      <th>abstract</th>\n",
       "    </tr>\n",
       "  </thead>\n",
       "  <tbody>\n",
       "    <tr>\n",
       "      <th>341</th>\n",
       "      <td>In silico detection of SARS-CoV-2 specific B-c...</td>\n",
       "      <td>Abstract Rapid generation of diagnostics is pa...</td>\n",
       "    </tr>\n",
       "    <tr>\n",
       "      <th>537</th>\n",
       "      <td>Structure based drug discovery by virtual scre...</td>\n",
       "      <td>&amp;lt;p&amp;gt;Background&amp;lt;/p&amp;gt;&amp;lt;p&amp;gt;The curr...</td>\n",
       "    </tr>\n",
       "    <tr>\n",
       "      <th>649</th>\n",
       "      <td>Defining the Pandemic at the State Level: Sequ...</td>\n",
       "      <td>In December of 2019, a novel coronavirus, SARS...</td>\n",
       "    </tr>\n",
       "    <tr>\n",
       "      <th>685</th>\n",
       "      <td>COVID-19 research in Wikipedia</td>\n",
       "      <td>Wikipedia is one of the main sources of free k...</td>\n",
       "    </tr>\n",
       "    <tr>\n",
       "      <th>1542</th>\n",
       "      <td>SARS-CoV-2 and SARS-CoV differ in their cell t...</td>\n",
       "      <td>SARS-CoV-2 is a novel coronavirus currently ca...</td>\n",
       "    </tr>\n",
       "  </tbody>\n",
       "</table>\n",
       "</div>"
      ],
      "text/plain": [
       "                                                  title  \\\n",
       "341   In silico detection of SARS-CoV-2 specific B-c...   \n",
       "537   Structure based drug discovery by virtual scre...   \n",
       "649   Defining the Pandemic at the State Level: Sequ...   \n",
       "685                      COVID-19 research in Wikipedia   \n",
       "1542  SARS-CoV-2 and SARS-CoV differ in their cell t...   \n",
       "\n",
       "                                               abstract  \n",
       "341   Abstract Rapid generation of diagnostics is pa...  \n",
       "537   &lt;p&gt;Background&lt;/p&gt;&lt;p&gt;The curr...  \n",
       "649   In December of 2019, a novel coronavirus, SARS...  \n",
       "685   Wikipedia is one of the main sources of free k...  \n",
       "1542  SARS-CoV-2 is a novel coronavirus currently ca...  "
      ]
     },
     "execution_count": 8,
     "metadata": {},
     "output_type": "execute_result"
    }
   ],
   "source": [
    "df1=dfRem[filter]\n",
    "df1"
   ]
  },
  {
   "cell_type": "markdown",
   "metadata": {},
   "source": [
    "# Pattern for propositional attitudes \"we [VERB]\"\n",
    "\n",
    "https://spacy.io/usage/rule-based-matching\n",
    "\n",
    "https://explosion.ai/demos/matcher?"
   ]
  },
  {
   "cell_type": "code",
   "execution_count": 9,
   "metadata": {},
   "outputs": [],
   "source": [
    "dfRem[\"doc\"]=dfRem[\"abstract\"].apply(nlp)"
   ]
  },
  {
   "cell_type": "code",
   "execution_count": 10,
   "metadata": {},
   "outputs": [
    {
     "data": {
      "text/plain": [
       "'Middle East respiratory syndrome coronavirus (MERS-CoV) is the causative agent of a severe respiratory disease associated with more than 2468 human infections and over 851 deaths in 27 countries since 2012. There are no approved treatments for MERS-CoV infection although a combination of lopinavir, ritonavir and interferon beta (LPV/RTV-IFNb) is currently being evaluated in humans in the Kingdom of Saudi Arabia. Here, we show that remdesivir (RDV) and IFNb have superior antiviral activity to LPV and RTV in vitro. In mice, both prophylactic and therapeutic RDV improve pulmonary function and reduce lung viral loads and severe lung pathology. In contrast, prophylactic LPV/RTV-IFNb slightly reduces viral loads without impacting other disease parameters. Therapeutic LPV/RTV-IFNb improves pulmonary function but does not reduce virus replication or severe lung pathology. Thus, we provide in vivo evidence of the potential for RDV to treat MERS-CoV infections.'"
      ]
     },
     "execution_count": 10,
     "metadata": {},
     "output_type": "execute_result"
    }
   ],
   "source": [
    "df=dfRem\n",
    "a=df.iloc[2].abstract\n",
    "a"
   ]
  },
  {
   "cell_type": "code",
   "execution_count": 11,
   "metadata": {},
   "outputs": [],
   "source": [
    "abstract=nlp(a)"
   ]
  },
  {
   "cell_type": "code",
   "execution_count": 12,
   "metadata": {},
   "outputs": [
    {
     "name": "stdout",
     "output_type": "stream",
     "text": [
      " Satz 0= Middle East respiratory syndrome coronavirus (MERS-CoV) is the causative agent of a severe respiratory disease associated with more than 2468 human infections and over 851 deaths in 27 countries since 2012.\n",
      " Satz 1= There are no approved treatments for MERS-CoV infection although a combination of lopinavir, ritonavir and interferon beta (LPV/RTV-IFNb) is currently being evaluated in humans in the Kingdom of Saudi Arabia.\n",
      " Satz 2= Here, we show that remdesivir (RDV) and IFNb have superior antiviral activity to LPV and RTV in vitro.\n",
      " Satz 3= In mice, both prophylactic and therapeutic RDV improve pulmonary function and reduce lung viral loads and severe lung pathology.\n",
      " Satz 4= In contrast, prophylactic LPV/RTV-IFNb slightly reduces viral loads without impacting other disease parameters.\n",
      " Satz 5= Therapeutic LPV/RTV-IFNb improves pulmonary function but does not reduce virus replication or severe lung pathology.\n",
      " Satz 6= Thus, we provide in vivo evidence of the potential for RDV to treat MERS-CoV infections.\n"
     ]
    }
   ],
   "source": [
    "for i,sent in enumerate(abstract.sents):\n",
    "    print(f\" Satz {i}= {sent}\")"
   ]
  },
  {
   "cell_type": "code",
   "execution_count": 13,
   "metadata": {},
   "outputs": [
    {
     "data": {
      "text/plain": [
       "'Thus, we provide in vivo evidence of the potential for RDV to treat MERS-CoV infections.'"
      ]
     },
     "execution_count": 13,
     "metadata": {},
     "output_type": "execute_result"
    }
   ],
   "source": [
    "sentences=[s for s in abstract.sents]\n",
    "s=sentences[6].text\n",
    "doc=nlp(s)\n",
    "s"
   ]
  },
  {
   "cell_type": "code",
   "execution_count": 14,
   "metadata": {},
   "outputs": [
    {
     "data": {
      "text/html": [
       "<span class=\"tex2jax_ignore\"><div class=\"entities\" style=\"line-height: 2.5; direction: ltr\">Thus, we provide in vivo evidence of the potential for \n",
       "<mark class=\"entity\" style=\"background: #7aecec; padding: 0.45em 0.6em; margin: 0 0.25em; line-height: 1; border-radius: 0.35em;\">\n",
       "    RDV\n",
       "    <span style=\"font-size: 0.8em; font-weight: bold; line-height: 1; border-radius: 0.35em; text-transform: uppercase; vertical-align: middle; margin-left: 0.5rem\">ORG</span>\n",
       "</mark>\n",
       " to treat MERS-CoV infections.</div></span>"
      ],
      "text/plain": [
       "<IPython.core.display.HTML object>"
      ]
     },
     "metadata": {},
     "output_type": "display_data"
    }
   ],
   "source": [
    "displacy.render(doc, style=\"ent\")"
   ]
  },
  {
   "cell_type": "code",
   "execution_count": 15,
   "metadata": {},
   "outputs": [],
   "source": [
    "matcher = Matcher(nlp.vocab)"
   ]
  },
  {
   "cell_type": "code",
   "execution_count": 16,
   "metadata": {},
   "outputs": [],
   "source": [
    "pattern = [{\"LOWER\":\"we\"},{'POS': 'VERB'}]\n",
    "matcher.add(\"matching\",None,pattern)"
   ]
  },
  {
   "cell_type": "code",
   "execution_count": 17,
   "metadata": {},
   "outputs": [
    {
     "name": "stdout",
     "output_type": "stream",
     "text": [
      "we provide\n",
      "das Verb ist: provide\n"
     ]
    }
   ],
   "source": [
    "matches=matcher(doc)\n",
    "for _, start, end in matches:\n",
    "    span = doc[start:end]  # The matched span\n",
    "    print(span.text)\n",
    "    span2=doc[end-1]\n",
    "    print(f\"das Verb ist: {span2.lemma_}\")"
   ]
  },
  {
   "cell_type": "code",
   "execution_count": 18,
   "metadata": {},
   "outputs": [],
   "source": [
    "listverbs=[]\n",
    "def actionverbs(a):\n",
    "    abstract=nlp(a)\n",
    "    matches=matcher(abstract)\n",
    "    for _,start,end in matches:\n",
    "        verb=abstract[end-1]\n",
    "        listverbs.append(verb.lemma_)"
   ]
  },
  {
   "cell_type": "code",
   "execution_count": 19,
   "metadata": {},
   "outputs": [
    {
     "data": {
      "text/plain": [
       "['show', 'provide']"
      ]
     },
     "execution_count": 19,
     "metadata": {},
     "output_type": "execute_result"
    }
   ],
   "source": [
    "actionverbs(a)\n",
    "listverbs"
   ]
  },
  {
   "cell_type": "code",
   "execution_count": 20,
   "metadata": {},
   "outputs": [
    {
     "data": {
      "text/plain": [
       "1490"
      ]
     },
     "execution_count": 20,
     "metadata": {},
     "output_type": "execute_result"
    }
   ],
   "source": [
    "dfRem[\"abstract\"].apply(actionverbs)\n",
    "len(listverbs)"
   ]
  },
  {
   "cell_type": "code",
   "execution_count": 21,
   "metadata": {},
   "outputs": [
    {
     "name": "stdout",
     "output_type": "stream",
     "text": [
      "['abstract', 'adapt', 'address', 'administer', 'administrate', 'advance', 'advise', 'advocate', 'aim', 'allow', 'analyse', 'analyze', 'anticipate', 'apply', 'appreciate', 'approach', 'argue', 'ask', 'assay', 'assess', 'assume', 'await', 'base', 'believe', 'build', 'calculate', 'call', 'can', 'carry', 'challenge', 'characterise', 'characterize', 'choose', 'clone', 'co', 'collect', 'combine', 'come', 'comment', 'compare', 'conclude', 'conduct', 'confirm', 'consider', 'construct', 'contend', 'could', 'create', 'decide', 'declare', 'define', 'demonstrate', 'denote', 'deploy', 'describe', 'design', 'detail', 'detect', 'determine', 'develop', 'disagree', 'discover', 'discuss', 'divide', 'dock', 'download', 'draw', 'ease', 'elucidate', 'emphasize', 'employ', 'encourage', 'engineer', 'enrol', 'enter', 'establish', 'estimate', 'evaluate', 'evidence', 'examine', 'exclude', 'expect', 'explain', 'explore', 'express', 'extend', 'extract', 'find', 'focus', 'follow', 'form', 'found10', 'frame', 'generate', 'herein', 'highlight', 'hope', 'hypothesize', 'identifid', 'identify', 'illustrate', 'include', 'increase', 'initiate', 'intend', 'interpret', 'introduce', 'investigate', 'isolate', 'keep', 'know', 'learn', 'live', 'look', 'make', 'manage', 'map', 'may', 'mention', 'model', 'must', 'need', 'note', 'notice', 'observe', 'obtain', 'offer', 'outline', 'overview', 'perform', 'plan', 'plot', 'pool', 'predict', 'prepare', 'present', 'pretreate', 'prioritise', 'prioritize', 'proceed', 'profile', 'propose', 'provide', 'rank', 'rate', 'read', 'reanalyze', 'reason', 'recommend', 'refer', 'refit', 'reflect', 'rely', 'remarkable', 'reopen', 'report', 'require', 'review', 'risk', 'run', 'scan', 'screen', 'scrutinise', 'search', 'see', 'seek', 'select', 'sequence', 'set', 'share', 'shed', 'should', 'show', 'showcase', 'simulate', 'solve', 'specify', 'speculate', 'start', 'stress', 'study', 'submit', 'succeed', 'suggest', 'summarise', 'summarize', 'suspect', 'synthesize', 'systematize', 'take', 'tend', 'test', 'think', 'transfecte', 'try', 'underline', 'undertake', 'urge', 'use', 'utilize', 'wait', 'waste', 'will', 'would']\n"
     ]
    }
   ],
   "source": [
    "from collections import Counter\n",
    "counts=Counter(listverbs)\n",
    "print(sorted(counts))"
   ]
  },
  {
   "cell_type": "markdown",
   "metadata": {},
   "source": [
    "# Propositional research attitudes\n",
    "\n",
    "- GOAL (intention, goal):  \n",
    "    - aim, seek, study, undertake, investigate, intend\n",
    "- DISCOV: \n",
    "    - show, propose, obtain, report, observe, create, demonstrate, detect, scrutinize, provide"
   ]
  },
  {
   "cell_type": "markdown",
   "metadata": {},
   "source": [
    "## training data\n",
    "\n",
    "- prepare matching function for sentences, output in format JSONL"
   ]
  },
  {
   "cell_type": "raw",
   "metadata": {},
   "source": [
    "# example format for data\n",
    "train_data = [\n",
    "    (\"Uber blew through $1 million a week\", [(0, 4, 'ORG')]),\n",
    "    (\"Android Pay expands to Canada\", [(0, 11, 'PRODUCT'), (23, 30, 'GPE')]),\n",
    "    (\"Spotify steps up Asia expansion\", [(0, 8, \"ORG\"), (17, 21, \"LOC\")]),\n",
    "    (\"Google Maps launches location sharing\", [(0, 11, \"PRODUCT\")]),\n",
    "    (\"Google rebrands its business apps\", [(0, 6, \"ORG\")]),\n",
    "    (\"look what i found on google! 😂\", [(21, 27, \"PRODUCT\")])]\n"
   ]
  },
  {
   "cell_type": "code",
   "execution_count": 22,
   "metadata": {},
   "outputs": [],
   "source": [
    "verbtags={\"GOAL\":\n",
    "       [\"aim\",\"seek\",\"study\",\"undertake\",\"investigate\",\"intend\"],\n",
    "       \"DISCOV\":\n",
    "        [\"show\",\"provide\",\"notice\",\"report\"]\n",
    "         }"
   ]
  },
  {
   "cell_type": "code",
   "execution_count": 23,
   "metadata": {},
   "outputs": [],
   "source": [
    "def actionverb(abstract):\n",
    "    matches=matcher(abstract)\n",
    "    listDisc=[]\n",
    "    for _,start,end in matches:\n",
    "        verb=abstract[end-1].text\n",
    "        verblem=abstract[end-1].lemma_\n",
    "        for ent,verbs in verbtags.items():\n",
    "            if verblem in verbs:\n",
    "                dict_disc=(start+1,end,ent)\n",
    "                listDisc.append(dict_disc)\n",
    "    return(listDisc)"
   ]
  },
  {
   "cell_type": "code",
   "execution_count": 26,
   "metadata": {},
   "outputs": [],
   "source": [
    "dfRem[\"discNER\"]=dfRem[\"doc\"].apply(actionverb)  "
   ]
  },
  {
   "cell_type": "code",
   "execution_count": 27,
   "metadata": {},
   "outputs": [
    {
     "data": {
      "text/html": [
       "<div>\n",
       "<style scoped>\n",
       "    .dataframe tbody tr th:only-of-type {\n",
       "        vertical-align: middle;\n",
       "    }\n",
       "\n",
       "    .dataframe tbody tr th {\n",
       "        vertical-align: top;\n",
       "    }\n",
       "\n",
       "    .dataframe thead th {\n",
       "        text-align: right;\n",
       "    }\n",
       "</style>\n",
       "<table border=\"1\" class=\"dataframe\">\n",
       "  <thead>\n",
       "    <tr style=\"text-align: right;\">\n",
       "      <th></th>\n",
       "      <th>title</th>\n",
       "      <th>abstract</th>\n",
       "      <th>doc</th>\n",
       "      <th>discNER</th>\n",
       "    </tr>\n",
       "  </thead>\n",
       "  <tbody>\n",
       "    <tr>\n",
       "      <th>0</th>\n",
       "      <td>Evaluation of the efficacy and safety of intra...</td>\n",
       "      <td>BACKGROUND: Coronavirus disease 2019 (COVID-19...</td>\n",
       "      <td>(BACKGROUND, :, Coronavirus, disease, 2019, (,...</td>\n",
       "      <td>[]</td>\n",
       "    </tr>\n",
       "    <tr>\n",
       "      <th>1</th>\n",
       "      <td>Role of adjunctive treatment strategies in COV...</td>\n",
       "      <td>The coronavirus disease (COVID-19) pandemic ha...</td>\n",
       "      <td>(The, coronavirus, disease, (, COVID-19, ), pa...</td>\n",
       "      <td>[]</td>\n",
       "    </tr>\n",
       "    <tr>\n",
       "      <th>2</th>\n",
       "      <td>Comparative therapeutic efficacy of remdesivir...</td>\n",
       "      <td>Middle East respiratory syndrome coronavirus (...</td>\n",
       "      <td>(Middle, East, respiratory, syndrome, coronavi...</td>\n",
       "      <td>[(79, 80, DISCOV), (161, 162, DISCOV)]</td>\n",
       "    </tr>\n",
       "    <tr>\n",
       "      <th>3</th>\n",
       "      <td>Therapeutic strategies for critically ill pati...</td>\n",
       "      <td>Since the 2019 novel coronavirus disease (COVI...</td>\n",
       "      <td>(Since, the, 2019, novel, coronavirus, disease...</td>\n",
       "      <td>[]</td>\n",
       "    </tr>\n",
       "    <tr>\n",
       "      <th>4</th>\n",
       "      <td>Battling COVID-19: using old weapons for a new...</td>\n",
       "      <td>Coronavirus disease-19 (COVID-19) has reached ...</td>\n",
       "      <td>(Coronavirus, disease-19, (, COVID-19, ), has,...</td>\n",
       "      <td>[]</td>\n",
       "    </tr>\n",
       "    <tr>\n",
       "      <th>5</th>\n",
       "      <td>The origin, transmission and clinical therapie...</td>\n",
       "      <td>An acute respiratory disease, caused by a nove...</td>\n",
       "      <td>(An, acute, respiratory, disease, ,, caused, b...</td>\n",
       "      <td>[]</td>\n",
       "    </tr>\n",
       "    <tr>\n",
       "      <th>6</th>\n",
       "      <td>SARS-CoV-2 RNA polymerase as target for antivi...</td>\n",
       "      <td>A new human coronavirus named SARS-CoV-2 was i...</td>\n",
       "      <td>(A, new, human, coronavirus, named, SARS, -, C...</td>\n",
       "      <td>[]</td>\n",
       "    </tr>\n",
       "    <tr>\n",
       "      <th>7</th>\n",
       "      <td>Current regulatory approaches for accessing po...</td>\n",
       "      <td>This commentary aims to elaborate challenges i...</td>\n",
       "      <td>(This, commentary, aims, to, elaborate, challe...</td>\n",
       "      <td>[]</td>\n",
       "    </tr>\n",
       "    <tr>\n",
       "      <th>8</th>\n",
       "      <td>SARS-CoV-2 and COVID-19: The most important re...</td>\n",
       "      <td>Coronavirus disease 2019 (COVID-19) caused by ...</td>\n",
       "      <td>(Coronavirus, disease, 2019, (, COVID-19, ), c...</td>\n",
       "      <td>[]</td>\n",
       "    </tr>\n",
       "    <tr>\n",
       "      <th>9</th>\n",
       "      <td>Emerging SARS-CoV-2 mutation hot spots include...</td>\n",
       "      <td>BACKGROUND: SARS-CoV-2 is a RNA coronavirus re...</td>\n",
       "      <td>(BACKGROUND, :, SARS, -, CoV-2, is, a, RNA, co...</td>\n",
       "      <td>[(232, 233, DISCOV)]</td>\n",
       "    </tr>\n",
       "    <tr>\n",
       "      <th>10</th>\n",
       "      <td>Clinical course and outcome of 107 patients in...</td>\n",
       "      <td>BACKGROUND: In December 2019, coronavirus dise...</td>\n",
       "      <td>(BACKGROUND, :, In, December, 2019, ,, coronav...</td>\n",
       "      <td>[]</td>\n",
       "    </tr>\n",
       "    <tr>\n",
       "      <th>11</th>\n",
       "      <td>Hydroxychloroquine, a less toxic derivative of...</td>\n",
       "      <td></td>\n",
       "      <td>()</td>\n",
       "      <td>[]</td>\n",
       "    </tr>\n",
       "    <tr>\n",
       "      <th>12</th>\n",
       "      <td>Lithium’s antiviral effects: a potential drug ...</td>\n",
       "      <td>BACKGROUND: Since its introduction in modern m...</td>\n",
       "      <td>(BACKGROUND, :, Since, its, introduction, in, ...</td>\n",
       "      <td>[]</td>\n",
       "    </tr>\n",
       "    <tr>\n",
       "      <th>13</th>\n",
       "      <td>The novel coronavirus outbreak in Wuhan, China</td>\n",
       "      <td>The novel coronavirus (2019-nCoV, or COVID-19)...</td>\n",
       "      <td>(The, novel, coronavirus, (, 2019-nCoV, ,, or,...</td>\n",
       "      <td>[]</td>\n",
       "    </tr>\n",
       "    <tr>\n",
       "      <th>14</th>\n",
       "      <td>Therapeutic efficacy of Pudilan Xiaoyan Oral L...</td>\n",
       "      <td></td>\n",
       "      <td>()</td>\n",
       "      <td>[]</td>\n",
       "    </tr>\n",
       "    <tr>\n",
       "      <th>15</th>\n",
       "      <td>2019 novel coronavirus of pneumonia in Wuhan, ...</td>\n",
       "      <td>An ongoing outbreak of 2019-nCoV pneumonia was...</td>\n",
       "      <td>(An, ongoing, outbreak, of, 2019-nCoV, pneumon...</td>\n",
       "      <td>[]</td>\n",
       "    </tr>\n",
       "    <tr>\n",
       "      <th>16</th>\n",
       "      <td>COVID-19 and what pediatric rheumatologists sh...</td>\n",
       "      <td>On March 11th, 2020 the World Health Organizat...</td>\n",
       "      <td>(On, March, 11th, ,, 2020, the, World, Health,...</td>\n",
       "      <td>[]</td>\n",
       "    </tr>\n",
       "    <tr>\n",
       "      <th>17</th>\n",
       "      <td>Successful recovery of COVID-19 pneumonia in a...</td>\n",
       "      <td>BACKGROUND: COVID-19 pandemics is a challenge ...</td>\n",
       "      <td>(BACKGROUND, :, COVID-19, pandemics, is, a, ch...</td>\n",
       "      <td>[(41, 42, DISCOV)]</td>\n",
       "    </tr>\n",
       "    <tr>\n",
       "      <th>18</th>\n",
       "      <td>When predictions are used to allocate scarce h...</td>\n",
       "      <td>Background: The need for life-saving intervent...</td>\n",
       "      <td>(Background, :, The, need, for, life, -, savin...</td>\n",
       "      <td>[]</td>\n",
       "    </tr>\n",
       "  </tbody>\n",
       "</table>\n",
       "</div>"
      ],
      "text/plain": [
       "                                                title  \\\n",
       "0   Evaluation of the efficacy and safety of intra...   \n",
       "1   Role of adjunctive treatment strategies in COV...   \n",
       "2   Comparative therapeutic efficacy of remdesivir...   \n",
       "3   Therapeutic strategies for critically ill pati...   \n",
       "4   Battling COVID-19: using old weapons for a new...   \n",
       "5   The origin, transmission and clinical therapie...   \n",
       "6   SARS-CoV-2 RNA polymerase as target for antivi...   \n",
       "7   Current regulatory approaches for accessing po...   \n",
       "8   SARS-CoV-2 and COVID-19: The most important re...   \n",
       "9   Emerging SARS-CoV-2 mutation hot spots include...   \n",
       "10  Clinical course and outcome of 107 patients in...   \n",
       "11  Hydroxychloroquine, a less toxic derivative of...   \n",
       "12  Lithium’s antiviral effects: a potential drug ...   \n",
       "13     The novel coronavirus outbreak in Wuhan, China   \n",
       "14  Therapeutic efficacy of Pudilan Xiaoyan Oral L...   \n",
       "15  2019 novel coronavirus of pneumonia in Wuhan, ...   \n",
       "16  COVID-19 and what pediatric rheumatologists sh...   \n",
       "17  Successful recovery of COVID-19 pneumonia in a...   \n",
       "18  When predictions are used to allocate scarce h...   \n",
       "\n",
       "                                             abstract  \\\n",
       "0   BACKGROUND: Coronavirus disease 2019 (COVID-19...   \n",
       "1   The coronavirus disease (COVID-19) pandemic ha...   \n",
       "2   Middle East respiratory syndrome coronavirus (...   \n",
       "3   Since the 2019 novel coronavirus disease (COVI...   \n",
       "4   Coronavirus disease-19 (COVID-19) has reached ...   \n",
       "5   An acute respiratory disease, caused by a nove...   \n",
       "6   A new human coronavirus named SARS-CoV-2 was i...   \n",
       "7   This commentary aims to elaborate challenges i...   \n",
       "8   Coronavirus disease 2019 (COVID-19) caused by ...   \n",
       "9   BACKGROUND: SARS-CoV-2 is a RNA coronavirus re...   \n",
       "10  BACKGROUND: In December 2019, coronavirus dise...   \n",
       "11                                                      \n",
       "12  BACKGROUND: Since its introduction in modern m...   \n",
       "13  The novel coronavirus (2019-nCoV, or COVID-19)...   \n",
       "14                                                      \n",
       "15  An ongoing outbreak of 2019-nCoV pneumonia was...   \n",
       "16  On March 11th, 2020 the World Health Organizat...   \n",
       "17  BACKGROUND: COVID-19 pandemics is a challenge ...   \n",
       "18  Background: The need for life-saving intervent...   \n",
       "\n",
       "                                                  doc  \\\n",
       "0   (BACKGROUND, :, Coronavirus, disease, 2019, (,...   \n",
       "1   (The, coronavirus, disease, (, COVID-19, ), pa...   \n",
       "2   (Middle, East, respiratory, syndrome, coronavi...   \n",
       "3   (Since, the, 2019, novel, coronavirus, disease...   \n",
       "4   (Coronavirus, disease-19, (, COVID-19, ), has,...   \n",
       "5   (An, acute, respiratory, disease, ,, caused, b...   \n",
       "6   (A, new, human, coronavirus, named, SARS, -, C...   \n",
       "7   (This, commentary, aims, to, elaborate, challe...   \n",
       "8   (Coronavirus, disease, 2019, (, COVID-19, ), c...   \n",
       "9   (BACKGROUND, :, SARS, -, CoV-2, is, a, RNA, co...   \n",
       "10  (BACKGROUND, :, In, December, 2019, ,, coronav...   \n",
       "11                                                 ()   \n",
       "12  (BACKGROUND, :, Since, its, introduction, in, ...   \n",
       "13  (The, novel, coronavirus, (, 2019-nCoV, ,, or,...   \n",
       "14                                                 ()   \n",
       "15  (An, ongoing, outbreak, of, 2019-nCoV, pneumon...   \n",
       "16  (On, March, 11th, ,, 2020, the, World, Health,...   \n",
       "17  (BACKGROUND, :, COVID-19, pandemics, is, a, ch...   \n",
       "18  (Background, :, The, need, for, life, -, savin...   \n",
       "\n",
       "                                   discNER  \n",
       "0                                       []  \n",
       "1                                       []  \n",
       "2   [(79, 80, DISCOV), (161, 162, DISCOV)]  \n",
       "3                                       []  \n",
       "4                                       []  \n",
       "5                                       []  \n",
       "6                                       []  \n",
       "7                                       []  \n",
       "8                                       []  \n",
       "9                     [(232, 233, DISCOV)]  \n",
       "10                                      []  \n",
       "11                                      []  \n",
       "12                                      []  \n",
       "13                                      []  \n",
       "14                                      []  \n",
       "15                                      []  \n",
       "16                                      []  \n",
       "17                      [(41, 42, DISCOV)]  \n",
       "18                                      []  "
      ]
     },
     "execution_count": 27,
     "metadata": {},
     "output_type": "execute_result"
    }
   ],
   "source": [
    "dfRem.head(19)"
   ]
  },
  {
   "cell_type": "code",
   "execution_count": null,
   "metadata": {},
   "outputs": [],
   "source": []
  }
 ],
 "metadata": {
  "kernelspec": {
   "display_name": "Python 3",
   "language": "python",
   "name": "python3"
  },
  "language_info": {
   "codemirror_mode": {
    "name": "ipython",
    "version": 3
   },
   "file_extension": ".py",
   "mimetype": "text/x-python",
   "name": "python",
   "nbconvert_exporter": "python",
   "pygments_lexer": "ipython3",
   "version": "3.7.7"
  }
 },
 "nbformat": 4,
 "nbformat_minor": 4
}
