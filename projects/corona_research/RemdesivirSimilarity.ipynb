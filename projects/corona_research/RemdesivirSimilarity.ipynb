{
 "cells": [
  {
   "cell_type": "markdown",
   "metadata": {},
   "source": [
    "# Project Corona\n",
    "## Philosophy and History of Science with Computational Means\n",
    "Prof Dr. Gerd Graßhoff\n",
    "### Filter dataframe, NLTP"
   ]
  },
  {
   "cell_type": "markdown",
   "metadata": {},
   "source": [
    "# Libraries, data"
   ]
  },
  {
   "cell_type": "code",
   "execution_count": 2,
   "metadata": {},
   "outputs": [],
   "source": [
    "import pandas as pd\n",
    "import spacy\n",
    "from spacy import displacy\n",
    "from spacy.matcher import Matcher\n",
    "import re\n",
    "from collections import Counter"
   ]
  },
  {
   "cell_type": "code",
   "execution_count": 3,
   "metadata": {},
   "outputs": [],
   "source": [
    "# Import English library\n",
    "nlp = spacy.load('en_core_web_sm')"
   ]
  },
  {
   "cell_type": "code",
   "execution_count": 4,
   "metadata": {},
   "outputs": [],
   "source": [
    "dfRem=pd.read_json(\"dfRemdesivierResearchObjects.json\")[[\"title\",\"abstract\"]]"
   ]
  },
  {
   "cell_type": "code",
   "execution_count": 5,
   "metadata": {},
   "outputs": [
    {
     "data": {
      "text/plain": [
       "2180"
      ]
     },
     "execution_count": 5,
     "metadata": {},
     "output_type": "execute_result"
    }
   ],
   "source": [
    "len(dfRem)"
   ]
  },
  {
   "cell_type": "code",
   "execution_count": 6,
   "metadata": {},
   "outputs": [
    {
     "data": {
      "text/html": [
       "<div>\n",
       "<style scoped>\n",
       "    .dataframe tbody tr th:only-of-type {\n",
       "        vertical-align: middle;\n",
       "    }\n",
       "\n",
       "    .dataframe tbody tr th {\n",
       "        vertical-align: top;\n",
       "    }\n",
       "\n",
       "    .dataframe thead th {\n",
       "        text-align: right;\n",
       "    }\n",
       "</style>\n",
       "<table border=\"1\" class=\"dataframe\">\n",
       "  <thead>\n",
       "    <tr style=\"text-align: right;\">\n",
       "      <th></th>\n",
       "      <th>title</th>\n",
       "      <th>abstract</th>\n",
       "    </tr>\n",
       "  </thead>\n",
       "  <tbody>\n",
       "    <tr>\n",
       "      <th>0</th>\n",
       "      <td>Evaluation of the efficacy and safety of intra...</td>\n",
       "      <td>BACKGROUND: Coronavirus disease 2019 (COVID-19...</td>\n",
       "    </tr>\n",
       "    <tr>\n",
       "      <th>1</th>\n",
       "      <td>Role of adjunctive treatment strategies in COV...</td>\n",
       "      <td>The coronavirus disease (COVID-19) pandemic ha...</td>\n",
       "    </tr>\n",
       "  </tbody>\n",
       "</table>\n",
       "</div>"
      ],
      "text/plain": [
       "                                               title  \\\n",
       "0  Evaluation of the efficacy and safety of intra...   \n",
       "1  Role of adjunctive treatment strategies in COV...   \n",
       "\n",
       "                                            abstract  \n",
       "0  BACKGROUND: Coronavirus disease 2019 (COVID-19...  \n",
       "1  The coronavirus disease (COVID-19) pandemic ha...  "
      ]
     },
     "execution_count": 6,
     "metadata": {},
     "output_type": "execute_result"
    }
   ],
   "source": [
    "dfRem.head(2)"
   ]
  },
  {
   "cell_type": "code",
   "execution_count": 7,
   "metadata": {},
   "outputs": [
    {
     "data": {
      "text/plain": [
       "2135"
      ]
     },
     "execution_count": 7,
     "metadata": {},
     "output_type": "execute_result"
    }
   ],
   "source": [
    "dfRem=dfRem.dropna(subset=[\"abstract\"])\n",
    "len(dfRem)"
   ]
  },
  {
   "cell_type": "markdown",
   "metadata": {},
   "source": [
    "# Similarity"
   ]
  },
  {
   "cell_type": "code",
   "execution_count": 8,
   "metadata": {},
   "outputs": [],
   "source": [
    "suche=\"We show\"\n",
    "def filter(zeile):\n",
    "    cond=zeile[\"abstract\"].str.contains(suche,na=False)\n",
    "    return(cond)"
   ]
  },
  {
   "cell_type": "code",
   "execution_count": 9,
   "metadata": {},
   "outputs": [
    {
     "data": {
      "text/html": [
       "<div>\n",
       "<style scoped>\n",
       "    .dataframe tbody tr th:only-of-type {\n",
       "        vertical-align: middle;\n",
       "    }\n",
       "\n",
       "    .dataframe tbody tr th {\n",
       "        vertical-align: top;\n",
       "    }\n",
       "\n",
       "    .dataframe thead th {\n",
       "        text-align: right;\n",
       "    }\n",
       "</style>\n",
       "<table border=\"1\" class=\"dataframe\">\n",
       "  <thead>\n",
       "    <tr style=\"text-align: right;\">\n",
       "      <th></th>\n",
       "      <th>title</th>\n",
       "      <th>abstract</th>\n",
       "    </tr>\n",
       "  </thead>\n",
       "  <tbody>\n",
       "    <tr>\n",
       "      <th>341</th>\n",
       "      <td>In silico detection of SARS-CoV-2 specific B-c...</td>\n",
       "      <td>Abstract Rapid generation of diagnostics is pa...</td>\n",
       "    </tr>\n",
       "    <tr>\n",
       "      <th>537</th>\n",
       "      <td>Structure based drug discovery by virtual scre...</td>\n",
       "      <td>&amp;lt;p&amp;gt;Background&amp;lt;/p&amp;gt;&amp;lt;p&amp;gt;The curr...</td>\n",
       "    </tr>\n",
       "    <tr>\n",
       "      <th>649</th>\n",
       "      <td>Defining the Pandemic at the State Level: Sequ...</td>\n",
       "      <td>In December of 2019, a novel coronavirus, SARS...</td>\n",
       "    </tr>\n",
       "    <tr>\n",
       "      <th>685</th>\n",
       "      <td>COVID-19 research in Wikipedia</td>\n",
       "      <td>Wikipedia is one of the main sources of free k...</td>\n",
       "    </tr>\n",
       "    <tr>\n",
       "      <th>1542</th>\n",
       "      <td>SARS-CoV-2 and SARS-CoV differ in their cell t...</td>\n",
       "      <td>SARS-CoV-2 is a novel coronavirus currently ca...</td>\n",
       "    </tr>\n",
       "  </tbody>\n",
       "</table>\n",
       "</div>"
      ],
      "text/plain": [
       "                                                  title  \\\n",
       "341   In silico detection of SARS-CoV-2 specific B-c...   \n",
       "537   Structure based drug discovery by virtual scre...   \n",
       "649   Defining the Pandemic at the State Level: Sequ...   \n",
       "685                      COVID-19 research in Wikipedia   \n",
       "1542  SARS-CoV-2 and SARS-CoV differ in their cell t...   \n",
       "\n",
       "                                               abstract  \n",
       "341   Abstract Rapid generation of diagnostics is pa...  \n",
       "537   &lt;p&gt;Background&lt;/p&gt;&lt;p&gt;The curr...  \n",
       "649   In December of 2019, a novel coronavirus, SARS...  \n",
       "685   Wikipedia is one of the main sources of free k...  \n",
       "1542  SARS-CoV-2 is a novel coronavirus currently ca...  "
      ]
     },
     "execution_count": 9,
     "metadata": {},
     "output_type": "execute_result"
    }
   ],
   "source": [
    "df=dfRem[filter]\n",
    "df"
   ]
  },
  {
   "cell_type": "markdown",
   "metadata": {},
   "source": [
    "# Pattern matching\n",
    "https://spacy.io/usage/rule-based-matching\n",
    "\n",
    "https://explosion.ai/demos/matcher?"
   ]
  },
  {
   "cell_type": "code",
   "execution_count": 10,
   "metadata": {},
   "outputs": [],
   "source": [
    "matcher = Matcher(nlp.vocab)"
   ]
  },
  {
   "cell_type": "code",
   "execution_count": 11,
   "metadata": {},
   "outputs": [],
   "source": [
    "pattern = [{\"LOWER\":\"we\"},{'POS': 'VERB'}]\n",
    "matcher.add(\"matching\",None,pattern)"
   ]
  },
  {
   "cell_type": "code",
   "execution_count": 13,
   "metadata": {},
   "outputs": [
    {
     "data": {
      "text/plain": [
       "0       None\n",
       "1       None\n",
       "2       None\n",
       "3       None\n",
       "4       None\n",
       "        ... \n",
       "2175    None\n",
       "2176    None\n",
       "2177    None\n",
       "2178    None\n",
       "2179    None\n",
       "Name: abstract, Length: 2135, dtype: object"
      ]
     },
     "execution_count": 13,
     "metadata": {},
     "output_type": "execute_result"
    }
   ],
   "source": [
    "listverb=[]\n",
    "def actionverb(a):\n",
    "    abstract=nlp(a)\n",
    "    matches=matcher(abstract)\n",
    "    for _,start,end in matches:\n",
    "        verb=abstract[end-1]\n",
    "        listverb.append(verb.lemma_)\n",
    "dfRem[\"abstract\"].apply(actionverb)"
   ]
  },
  {
   "cell_type": "code",
   "execution_count": 17,
   "metadata": {},
   "outputs": [
    {
     "data": {
      "text/plain": [
       "[('report', 79),\n",
       " ('aim', 66),\n",
       " ('find', 65),\n",
       " ('describe', 57),\n",
       " ('identify', 55),\n",
       " ('present', 51),\n",
       " ('review', 46),\n",
       " ('discuss', 44),\n",
       " ('conduct', 43),\n",
       " ('will', 40),\n",
       " ('propose', 38),\n",
       " ('use', 38),\n",
       " ('provide', 36),\n",
       " ('show', 33),\n",
       " ('perform', 33),\n",
       " ('include', 29),\n",
       " ('summarize', 28),\n",
       " ('search', 27),\n",
       " ('suggest', 20),\n",
       " ('evaluate', 19)]"
      ]
     },
     "execution_count": 17,
     "metadata": {},
     "output_type": "execute_result"
    }
   ],
   "source": [
    "couverb=Counter(listverb)\n",
    "couverb.most_common(20)"
   ]
  },
  {
   "cell_type": "markdown",
   "metadata": {},
   "source": [
    "# Word similarity\n",
    "\n",
    "https://www.nltk.org/howto/wordnet.html\n",
    "https://sp1819.github.io/wordnet_spacy.pdf\n",
    "https://github.com/sgsinclair/alta/tree/master/ipynb\n",
    "https://github.com/sgsinclair/alta/blob/master/ipynb/ArtOfLiteraryTextAnalysis.ipynb\n",
    "\n",
    "synonyms: words with very similar meanings\n",
    "hypernyms: words with more general meanings (\"insect\" is more general than \"bug\")\n",
    "hyponyms: words with more specific meanings (\"scarabaeus is more specific than \"bug\")\n",
    "In "
   ]
  },
  {
   "cell_type": "code",
   "execution_count": 28,
   "metadata": {},
   "outputs": [
    {
     "data": {
      "text/plain": [
       "[Synset('reappraisal.n.01'),\n",
       " Synset('review.n.02'),\n",
       " Synset('follow-up.n.03'),\n",
       " Synset('review.n.04'),\n",
       " Synset('revue.n.01'),\n",
       " Synset('review.n.06'),\n",
       " Synset('recapitulation.n.03'),\n",
       " Synset('review.n.08'),\n",
       " Synset('review.n.09'),\n",
       " Synset('inspection.n.01'),\n",
       " Synset('review.v.01'),\n",
       " Synset('review.v.02'),\n",
       " Synset('review.v.03'),\n",
       " Synset('review.v.04'),\n",
       " Synset('review.v.05')]"
      ]
     },
     "execution_count": 28,
     "metadata": {},
     "output_type": "execute_result"
    }
   ],
   "source": [
    "from nltk.corpus import wordnet as wn\n",
    "wn.synsets(\"review\")"
   ]
  },
  {
   "cell_type": "code",
   "execution_count": 33,
   "metadata": {},
   "outputs": [
    {
     "data": {
      "text/plain": [
       "[Synset('behavior.n.01'), Synset('demeanor.n.01')]"
      ]
     },
     "execution_count": 33,
     "metadata": {},
     "output_type": "execute_result"
    }
   ],
   "source": [
    "syns=wn.synsets(\"conduct\",pos=\"n\")\n",
    "syns"
   ]
  },
  {
   "cell_type": "code",
   "execution_count": 35,
   "metadata": {},
   "outputs": [
    {
     "name": "stdout",
     "output_type": "stream",
     "text": [
      "behavior.n.01 :  manner of acting or controlling yourself [Synset('activity.n.01')]\n",
      "demeanor.n.01 :  (behavioral attributes) the way a person behaves toward other people [Synset('trait.n.01')]\n"
     ]
    }
   ],
   "source": [
    "for synset in wn.synsets(\"conduct\", pos=\"n\"):\n",
    "    print(synset.name(), \": \", synset.definition(),synset.hypernyms())"
   ]
  },
  {
   "cell_type": "code",
   "execution_count": 43,
   "metadata": {},
   "outputs": [
    {
     "name": "stdout",
     "output_type": "stream",
     "text": [
      "Synset('review.v.01') look at again; examine again\n"
     ]
    }
   ],
   "source": [
    "syn=wn.synset('review.v.01')\n",
    "print(syn,syn.definition())"
   ]
  },
  {
   "cell_type": "code",
   "execution_count": 45,
   "metadata": {},
   "outputs": [
    {
     "data": {
      "text/plain": [
       "[Synset('analyze.v.01')]"
      ]
     },
     "execution_count": 45,
     "metadata": {},
     "output_type": "execute_result"
    }
   ],
   "source": [
    "syn.hypernyms()"
   ]
  },
  {
   "cell_type": "markdown",
   "metadata": {},
   "source": [
    "# Similarity\n",
    "https://towardsdatascience.com/identifying-competitors-using-word-vectorization-k-nearest-neighbors-412f1cea2506\n"
   ]
  },
  {
   "cell_type": "code",
   "execution_count": null,
   "metadata": {},
   "outputs": [],
   "source": []
  }
 ],
 "metadata": {
  "kernelspec": {
   "display_name": "Python 3",
   "language": "python",
   "name": "python3"
  },
  "language_info": {
   "codemirror_mode": {
    "name": "ipython",
    "version": 3
   },
   "file_extension": ".py",
   "mimetype": "text/x-python",
   "name": "python",
   "nbconvert_exporter": "python",
   "pygments_lexer": "ipython3",
   "version": "3.7.7"
  }
 },
 "nbformat": 4,
 "nbformat_minor": 4
}
