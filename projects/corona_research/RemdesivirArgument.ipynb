{
 "cells": [
  {
   "cell_type": "markdown",
   "metadata": {
    "slideshow": {
     "slide_type": "slide"
    }
   },
   "source": [
    "#  Computational Philosophy and History of Science\n",
    "## Analysing scientific publications: the case of Remdesivir research\n",
    "## Gerd Graßhoff"
   ]
  },
  {
   "cell_type": "markdown",
   "metadata": {
    "slideshow": {
     "slide_type": "skip"
    }
   },
   "source": [
    "# Libraries, data"
   ]
  },
  {
   "cell_type": "code",
   "execution_count": 1,
   "metadata": {
    "slideshow": {
     "slide_type": "skip"
    }
   },
   "outputs": [],
   "source": [
    "import pandas as pd\n",
    "import spacy\n",
    "from spacy import displacy\n",
    "from spacy.matcher import Matcher,PhraseMatcher\n",
    "from spacy.tokens import Doc, Span, Token\n",
    "from collections import Counter"
   ]
  },
  {
   "cell_type": "code",
   "execution_count": 2,
   "metadata": {
    "slideshow": {
     "slide_type": "skip"
    }
   },
   "outputs": [],
   "source": [
    "import statementdependency\n",
    "from statementdependency import StatementGraph,dotCausG"
   ]
  },
  {
   "cell_type": "code",
   "execution_count": 3,
   "metadata": {
    "slideshow": {
     "slide_type": "skip"
    }
   },
   "outputs": [],
   "source": [
    "import warnings\n",
    "warnings.filterwarnings('ignore')"
   ]
  },
  {
   "cell_type": "markdown",
   "metadata": {
    "slideshow": {
     "slide_type": "skip"
    }
   },
   "source": [
    "# NLP processing libraries"
   ]
  },
  {
   "cell_type": "code",
   "execution_count": 4,
   "metadata": {
    "slideshow": {
     "slide_type": "skip"
    }
   },
   "outputs": [],
   "source": [
    "# Import library\n",
    "nlp = spacy.load('en_core_web_lg')"
   ]
  },
  {
   "cell_type": "code",
   "execution_count": 5,
   "metadata": {
    "slideshow": {
     "slide_type": "skip"
    }
   },
   "outputs": [],
   "source": [
    "matcher = Matcher(nlp.vocab)"
   ]
  },
  {
   "cell_type": "markdown",
   "metadata": {
    "slideshow": {
     "slide_type": "slide"
    }
   },
   "source": [
    "# Data preparation, research objects"
   ]
  },
  {
   "cell_type": "code",
   "execution_count": 6,
   "metadata": {
    "slideshow": {
     "slide_type": "skip"
    }
   },
   "outputs": [],
   "source": [
    "def splitsent(x):\n",
    "    l=[sent for sent in x.sents]\n",
    "    return(l)"
   ]
  },
  {
   "cell_type": "code",
   "execution_count": 7,
   "metadata": {
    "slideshow": {
     "slide_type": "skip"
    }
   },
   "outputs": [
    {
     "data": {
      "text/plain": [
       "2135"
      ]
     },
     "execution_count": 7,
     "metadata": {},
     "output_type": "execute_result"
    }
   ],
   "source": [
    "dfRem=pd.read_json(\"dfRemdesivierResearchObjects.json\")[[\"title\",\"abstract\"]]\n",
    "dfRem=dfRem.dropna(subset=[\"abstract\"])\n",
    "dfRem[\"doc\"]=dfRem[\"abstract\"].apply(nlp)\n",
    "dfRem[\"sentences\"]=dfRem[\"doc\"].apply(splitsent)\n",
    "len(dfRem)"
   ]
  },
  {
   "cell_type": "code",
   "execution_count": 8,
   "metadata": {
    "slideshow": {
     "slide_type": "subslide"
    }
   },
   "outputs": [
    {
     "data": {
      "text/html": [
       "<div>\n",
       "<style scoped>\n",
       "    .dataframe tbody tr th:only-of-type {\n",
       "        vertical-align: middle;\n",
       "    }\n",
       "\n",
       "    .dataframe tbody tr th {\n",
       "        vertical-align: top;\n",
       "    }\n",
       "\n",
       "    .dataframe thead th {\n",
       "        text-align: right;\n",
       "    }\n",
       "</style>\n",
       "<table border=\"1\" class=\"dataframe\">\n",
       "  <thead>\n",
       "    <tr style=\"text-align: right;\">\n",
       "      <th></th>\n",
       "      <th>title</th>\n",
       "      <th>abstract</th>\n",
       "      <th>doc</th>\n",
       "      <th>sentences</th>\n",
       "    </tr>\n",
       "  </thead>\n",
       "  <tbody>\n",
       "    <tr>\n",
       "      <th>0</th>\n",
       "      <td>Evaluation of the efficacy and safety of intra...</td>\n",
       "      <td>BACKGROUND: Coronavirus disease 2019 (COVID-19...</td>\n",
       "      <td>(BACKGROUND, :, Coronavirus, disease, 2019, (,...</td>\n",
       "      <td>[(BACKGROUND, :), (Coronavirus, disease, 2019,...</td>\n",
       "    </tr>\n",
       "    <tr>\n",
       "      <th>1</th>\n",
       "      <td>Role of adjunctive treatment strategies in COV...</td>\n",
       "      <td>The coronavirus disease (COVID-19) pandemic ha...</td>\n",
       "      <td>(The, coronavirus, disease, (, COVID-19, ), pa...</td>\n",
       "      <td>[(The, coronavirus, disease, (, COVID-19, ), p...</td>\n",
       "    </tr>\n",
       "  </tbody>\n",
       "</table>\n",
       "</div>"
      ],
      "text/plain": [
       "                                               title  \\\n",
       "0  Evaluation of the efficacy and safety of intra...   \n",
       "1  Role of adjunctive treatment strategies in COV...   \n",
       "\n",
       "                                            abstract  \\\n",
       "0  BACKGROUND: Coronavirus disease 2019 (COVID-19...   \n",
       "1  The coronavirus disease (COVID-19) pandemic ha...   \n",
       "\n",
       "                                                 doc  \\\n",
       "0  (BACKGROUND, :, Coronavirus, disease, 2019, (,...   \n",
       "1  (The, coronavirus, disease, (, COVID-19, ), pa...   \n",
       "\n",
       "                                           sentences  \n",
       "0  [(BACKGROUND, :), (Coronavirus, disease, 2019,...  \n",
       "1  [(The, coronavirus, disease, (, COVID-19, ), p...  "
      ]
     },
     "execution_count": 8,
     "metadata": {},
     "output_type": "execute_result"
    }
   ],
   "source": [
    "dfRem.head(2)"
   ]
  },
  {
   "cell_type": "code",
   "execution_count": 9,
   "metadata": {
    "slideshow": {
     "slide_type": "subslide"
    }
   },
   "outputs": [],
   "source": [
    "exemplar=dfRem[\"sentences\"].iloc[2]"
   ]
  },
  {
   "cell_type": "code",
   "execution_count": 10,
   "metadata": {
    "slideshow": {
     "slide_type": "subslide"
    }
   },
   "outputs": [
    {
     "name": "stdout",
     "output_type": "stream",
     "text": [
      " Satz 0= Middle East respiratory syndrome coronavirus (MERS-CoV) is the causative agent of a severe respiratory disease associated with more than 2468 human infections and over 851 deaths in 27 countries since 2012.\n",
      " Satz 1= There are no approved treatments for MERS-CoV infection although a combination of lopinavir, ritonavir and interferon beta (LPV/RTV-IFNb) is currently being evaluated in humans in the Kingdom of Saudi Arabia.\n",
      " Satz 2= Here, we show that remdesivir (RDV) and IFNb have superior antiviral activity to LPV and RTV in vitro.\n",
      " Satz 3= In mice, both prophylactic and therapeutic RDV improve pulmonary function and reduce lung viral loads and severe lung pathology.\n",
      " Satz 4= In contrast, prophylactic LPV/RTV-IFNb slightly reduces viral loads without impacting other disease parameters.\n",
      " Satz 5= Therapeutic LPV/RTV-IFNb improves pulmonary function but does not reduce virus replication or severe lung pathology.\n",
      " Satz 6= Thus, we provide in vivo evidence of the potential for RDV to treat MERS-CoV infections.\n"
     ]
    }
   ],
   "source": [
    "for i,sent in enumerate(exemplar):\n",
    "    print(f\" Satz {i}= {sent}\")"
   ]
  },
  {
   "cell_type": "markdown",
   "metadata": {
    "slideshow": {
     "slide_type": "slide"
    }
   },
   "source": [
    "# argument structure"
   ]
  },
  {
   "cell_type": "code",
   "execution_count": 11,
   "metadata": {
    "slideshow": {
     "slide_type": "subslide"
    }
   },
   "outputs": [
    {
     "name": "stdout",
     "output_type": "stream",
     "text": [
      "// Rule based links visualization\n",
      "digraph {\n",
      "\tgraph [fontsize=20 label=\"Argument visualizer\" labelloc=t rankdir=LR]\n",
      "\tnode [shape=box]\n",
      "\tsize=10\n",
      "\t0 [label=0]\n",
      "\t0 -> 6 [samehead=1]\n",
      "\t1 [label=1]\n",
      "\t1 -> 6 [samehead=1]\n",
      "\t2 [label=2]\n",
      "\t2 -> 6\n",
      "\t3 [label=3]\n",
      "\t3 -> 2\n",
      "\t4 [label=-4]\n",
      "\t4 -> 2 [samehead=2]\n",
      "\t5 [label=-5]\n",
      "\t5 -> 2 [samehead=2]\n",
      "}\n"
     ]
    },
    {
     "data": {
      "image/svg+xml": [
       "<?xml version=\"1.0\" encoding=\"UTF-8\" standalone=\"no\"?>\n",
       "<!DOCTYPE svg PUBLIC \"-//W3C//DTD SVG 1.1//EN\"\n",
       " \"http://www.w3.org/Graphics/SVG/1.1/DTD/svg11.dtd\">\n",
       "<!-- Generated by graphviz version 2.44.0 (20200408.0750)\n",
       " -->\n",
       "<!-- Pages: 1 -->\n",
       "<svg width=\"242pt\" height=\"236pt\"\n",
       " viewBox=\"0.00 0.00 242.00 236.00\" xmlns=\"http://www.w3.org/2000/svg\" xmlns:xlink=\"http://www.w3.org/1999/xlink\">\n",
       "<g id=\"graph0\" class=\"graph\" transform=\"scale(1 1) rotate(0) translate(4 232)\">\n",
       "<polygon fill=\"white\" stroke=\"transparent\" points=\"-4,4 -4,-232 238,-232 238,4 -4,4\"/>\n",
       "<text text-anchor=\"middle\" x=\"117\" y=\"-208\" font-family=\"Times,serif\" font-size=\"20.00\">Argument visualizer</text>\n",
       "<!-- 0 -->\n",
       "<g id=\"node1\" class=\"node\">\n",
       "<title>0</title>\n",
       "<polygon fill=\"none\" stroke=\"black\" points=\"144,-198 90,-198 90,-162 144,-162 144,-198\"/>\n",
       "<text text-anchor=\"middle\" x=\"117\" y=\"-176.3\" font-family=\"Times,serif\" font-size=\"14.00\">0</text>\n",
       "</g>\n",
       "<!-- 6 -->\n",
       "<g id=\"node2\" class=\"node\">\n",
       "<title>6</title>\n",
       "<polygon fill=\"none\" stroke=\"black\" points=\"234,-144 180,-144 180,-108 234,-108 234,-144\"/>\n",
       "<text text-anchor=\"middle\" x=\"207\" y=\"-122.3\" font-family=\"Times,serif\" font-size=\"14.00\">6</text>\n",
       "</g>\n",
       "<!-- 0&#45;&gt;6 -->\n",
       "<g id=\"edge1\" class=\"edge\">\n",
       "<title>0&#45;&gt;6</title>\n",
       "<path fill=\"none\" stroke=\"black\" d=\"M142.11,-161.82C152.37,-154.08 163.63,-145.59 170.98,-140.05\"/>\n",
       "<polygon fill=\"black\" stroke=\"black\" points=\"173.12,-142.82 179,-134 168.91,-137.23 173.12,-142.82\"/>\n",
       "</g>\n",
       "<!-- 1 -->\n",
       "<g id=\"node3\" class=\"node\">\n",
       "<title>1</title>\n",
       "<polygon fill=\"none\" stroke=\"black\" points=\"144,-144 90,-144 90,-108 144,-108 144,-144\"/>\n",
       "<text text-anchor=\"middle\" x=\"117\" y=\"-122.3\" font-family=\"Times,serif\" font-size=\"14.00\">1</text>\n",
       "</g>\n",
       "<!-- 1&#45;&gt;6 -->\n",
       "<g id=\"edge2\" class=\"edge\">\n",
       "<title>1&#45;&gt;6</title>\n",
       "<path fill=\"none\" stroke=\"black\" d=\"M144.22,-129.44C153.01,-130.59 162.27,-131.81 169.03,-132.69\"/>\n",
       "<polygon fill=\"black\" stroke=\"black\" points=\"168.63,-136.17 179,-134 169.54,-129.23 168.63,-136.17\"/>\n",
       "</g>\n",
       "<!-- 2 -->\n",
       "<g id=\"node4\" class=\"node\">\n",
       "<title>2</title>\n",
       "<polygon fill=\"none\" stroke=\"black\" points=\"144,-90 90,-90 90,-54 144,-54 144,-90\"/>\n",
       "<text text-anchor=\"middle\" x=\"117\" y=\"-68.3\" font-family=\"Times,serif\" font-size=\"14.00\">2</text>\n",
       "</g>\n",
       "<!-- 2&#45;&gt;6 -->\n",
       "<g id=\"edge3\" class=\"edge\">\n",
       "<title>2&#45;&gt;6</title>\n",
       "<path fill=\"none\" stroke=\"black\" d=\"M144.4,-88.2C152.83,-93.37 162.29,-99.18 171.22,-104.66\"/>\n",
       "<polygon fill=\"black\" stroke=\"black\" points=\"169.57,-107.75 179.92,-110 173.23,-101.78 169.57,-107.75\"/>\n",
       "</g>\n",
       "<!-- 3 -->\n",
       "<g id=\"node5\" class=\"node\">\n",
       "<title>3</title>\n",
       "<polygon fill=\"none\" stroke=\"black\" points=\"54,-144 0,-144 0,-108 54,-108 54,-144\"/>\n",
       "<text text-anchor=\"middle\" x=\"27\" y=\"-122.3\" font-family=\"Times,serif\" font-size=\"14.00\">3</text>\n",
       "</g>\n",
       "<!-- 3&#45;&gt;2 -->\n",
       "<g id=\"edge4\" class=\"edge\">\n",
       "<title>3&#45;&gt;2</title>\n",
       "<path fill=\"none\" stroke=\"black\" d=\"M54.4,-109.8C62.83,-104.63 72.29,-98.82 81.22,-93.34\"/>\n",
       "<polygon fill=\"black\" stroke=\"black\" points=\"83.23,-96.22 89.92,-88 79.57,-90.25 83.23,-96.22\"/>\n",
       "</g>\n",
       "<!-- 4 -->\n",
       "<g id=\"node6\" class=\"node\">\n",
       "<title>4</title>\n",
       "<polygon fill=\"none\" stroke=\"black\" points=\"54,-90 0,-90 0,-54 54,-54 54,-90\"/>\n",
       "<text text-anchor=\"middle\" x=\"27\" y=\"-68.3\" font-family=\"Times,serif\" font-size=\"14.00\">&#45;4</text>\n",
       "</g>\n",
       "<!-- 4&#45;&gt;2 -->\n",
       "<g id=\"edge5\" class=\"edge\">\n",
       "<title>4&#45;&gt;2</title>\n",
       "<path fill=\"none\" stroke=\"black\" d=\"M54.22,-68.56C63.01,-67.41 72.27,-66.19 79.03,-65.31\"/>\n",
       "<polygon fill=\"black\" stroke=\"black\" points=\"79.54,-68.77 89,-64 78.63,-61.83 79.54,-68.77\"/>\n",
       "</g>\n",
       "<!-- 5 -->\n",
       "<g id=\"node7\" class=\"node\">\n",
       "<title>5</title>\n",
       "<polygon fill=\"none\" stroke=\"black\" points=\"54,-36 0,-36 0,0 54,0 54,-36\"/>\n",
       "<text text-anchor=\"middle\" x=\"27\" y=\"-14.3\" font-family=\"Times,serif\" font-size=\"14.00\">&#45;5</text>\n",
       "</g>\n",
       "<!-- 5&#45;&gt;2 -->\n",
       "<g id=\"edge6\" class=\"edge\">\n",
       "<title>5&#45;&gt;2</title>\n",
       "<path fill=\"none\" stroke=\"black\" d=\"M52.11,-36.18C62.37,-43.92 73.63,-52.41 80.98,-57.95\"/>\n",
       "<polygon fill=\"black\" stroke=\"black\" points=\"78.91,-60.77 89,-64 83.12,-55.18 78.91,-60.77\"/>\n",
       "</g>\n",
       "</g>\n",
       "</svg>\n"
      ],
      "text/plain": [
       "<graphviz.dot.Digraph at 0x7faef9aa4d90>"
      ]
     },
     "execution_count": 11,
     "metadata": {},
     "output_type": "execute_result"
    }
   ],
   "source": [
    "argument={6: [[0, 1], [2]], 2: [[3],[-4,-5]]}\n",
    "argdict={\n",
    "        0:\"MERS-CoV is causative agent of severe respiratory disease\",\n",
    "        1:\"no approved treatments for MERS-CoV infection, LPV/RTV-IFNb candidate\",\n",
    "        2:\"remdesivir (RDV) and IFNb have superior antiviral activity to LPV and RTV in vitro\",\n",
    "        3:\"RDV improve pulmonary function\",\n",
    "        4:\"LPV/RTV-IFNb slightly reduces viral loads\",\n",
    "        5:\"Therapeutic LPV/RTV-IFNb improves pulmonary function not reduce virus replication\",\n",
    "        6:\"RDV to treat MERS-CoV infections\"}\n",
    "causG = StatementGraph(\"Argument1\", argument)\n",
    "d = dotCausG(causG,argdict=argdict)\n",
    "print(d)\n",
    "d"
   ]
  },
  {
   "cell_type": "markdown",
   "metadata": {
    "slideshow": {
     "slide_type": "slide"
    }
   },
   "source": [
    "# statement decomposition"
   ]
  },
  {
   "cell_type": "code",
   "execution_count": 12,
   "metadata": {
    "slideshow": {
     "slide_type": "subslide"
    }
   },
   "outputs": [
    {
     "data": {
      "text/html": [
       "<span class=\"tex2jax_ignore\"><div class=\"entities\" style=\"line-height: 2.5; direction: ltr\">Thus, we provide in vivo evidence of the potential for \n",
       "<mark class=\"entity\" style=\"background: #bfeeb7; padding: 0.45em 0.6em; margin: 0 0.25em; line-height: 1; border-radius: 0.35em;\">\n",
       "    RDV\n",
       "    <span style=\"font-size: 0.8em; font-weight: bold; line-height: 1; border-radius: 0.35em; text-transform: uppercase; vertical-align: middle; margin-left: 0.5rem\">PRODUCT</span>\n",
       "</mark>\n",
       " to treat \n",
       "<mark class=\"entity\" style=\"background: #7aecec; padding: 0.45em 0.6em; margin: 0 0.25em; line-height: 1; border-radius: 0.35em;\">\n",
       "    MERS-CoV\n",
       "    <span style=\"font-size: 0.8em; font-weight: bold; line-height: 1; border-radius: 0.35em; text-transform: uppercase; vertical-align: middle; margin-left: 0.5rem\">ORG</span>\n",
       "</mark>\n",
       " infections.</div></span>"
      ],
      "text/plain": [
       "<IPython.core.display.HTML object>"
      ]
     },
     "metadata": {},
     "output_type": "display_data"
    },
    {
     "data": {
      "text/html": [
       "<span class=\"tex2jax_ignore\"><svg xmlns=\"http://www.w3.org/2000/svg\" xmlns:xlink=\"http://www.w3.org/1999/xlink\" xml:lang=\"en\" id=\"86858e036c824e748a4502de045e47f2-0\" class=\"displacy\" width=\"2850\" height=\"487.0\" direction=\"ltr\" style=\"max-width: none; height: 487.0px; color: #000000; background: #ffffff; font-family: Arial; direction: ltr\">\n",
       "<text class=\"displacy-token\" fill=\"currentColor\" text-anchor=\"middle\" y=\"397.0\">\n",
       "    <tspan class=\"displacy-word\" fill=\"currentColor\" x=\"50\">Thus,</tspan>\n",
       "    <tspan class=\"displacy-tag\" dy=\"2em\" fill=\"currentColor\" x=\"50\">ADV</tspan>\n",
       "</text>\n",
       "\n",
       "<text class=\"displacy-token\" fill=\"currentColor\" text-anchor=\"middle\" y=\"397.0\">\n",
       "    <tspan class=\"displacy-word\" fill=\"currentColor\" x=\"225\">we</tspan>\n",
       "    <tspan class=\"displacy-tag\" dy=\"2em\" fill=\"currentColor\" x=\"225\">PRON</tspan>\n",
       "</text>\n",
       "\n",
       "<text class=\"displacy-token\" fill=\"currentColor\" text-anchor=\"middle\" y=\"397.0\">\n",
       "    <tspan class=\"displacy-word\" fill=\"currentColor\" x=\"400\">provide</tspan>\n",
       "    <tspan class=\"displacy-tag\" dy=\"2em\" fill=\"currentColor\" x=\"400\">VERB</tspan>\n",
       "</text>\n",
       "\n",
       "<text class=\"displacy-token\" fill=\"currentColor\" text-anchor=\"middle\" y=\"397.0\">\n",
       "    <tspan class=\"displacy-word\" fill=\"currentColor\" x=\"575\">in</tspan>\n",
       "    <tspan class=\"displacy-tag\" dy=\"2em\" fill=\"currentColor\" x=\"575\">ADP</tspan>\n",
       "</text>\n",
       "\n",
       "<text class=\"displacy-token\" fill=\"currentColor\" text-anchor=\"middle\" y=\"397.0\">\n",
       "    <tspan class=\"displacy-word\" fill=\"currentColor\" x=\"750\">vivo</tspan>\n",
       "    <tspan class=\"displacy-tag\" dy=\"2em\" fill=\"currentColor\" x=\"750\">X</tspan>\n",
       "</text>\n",
       "\n",
       "<text class=\"displacy-token\" fill=\"currentColor\" text-anchor=\"middle\" y=\"397.0\">\n",
       "    <tspan class=\"displacy-word\" fill=\"currentColor\" x=\"925\">evidence</tspan>\n",
       "    <tspan class=\"displacy-tag\" dy=\"2em\" fill=\"currentColor\" x=\"925\">NOUN</tspan>\n",
       "</text>\n",
       "\n",
       "<text class=\"displacy-token\" fill=\"currentColor\" text-anchor=\"middle\" y=\"397.0\">\n",
       "    <tspan class=\"displacy-word\" fill=\"currentColor\" x=\"1100\">of</tspan>\n",
       "    <tspan class=\"displacy-tag\" dy=\"2em\" fill=\"currentColor\" x=\"1100\">ADP</tspan>\n",
       "</text>\n",
       "\n",
       "<text class=\"displacy-token\" fill=\"currentColor\" text-anchor=\"middle\" y=\"397.0\">\n",
       "    <tspan class=\"displacy-word\" fill=\"currentColor\" x=\"1275\">the</tspan>\n",
       "    <tspan class=\"displacy-tag\" dy=\"2em\" fill=\"currentColor\" x=\"1275\">DET</tspan>\n",
       "</text>\n",
       "\n",
       "<text class=\"displacy-token\" fill=\"currentColor\" text-anchor=\"middle\" y=\"397.0\">\n",
       "    <tspan class=\"displacy-word\" fill=\"currentColor\" x=\"1450\">potential</tspan>\n",
       "    <tspan class=\"displacy-tag\" dy=\"2em\" fill=\"currentColor\" x=\"1450\">NOUN</tspan>\n",
       "</text>\n",
       "\n",
       "<text class=\"displacy-token\" fill=\"currentColor\" text-anchor=\"middle\" y=\"397.0\">\n",
       "    <tspan class=\"displacy-word\" fill=\"currentColor\" x=\"1625\">for</tspan>\n",
       "    <tspan class=\"displacy-tag\" dy=\"2em\" fill=\"currentColor\" x=\"1625\">ADP</tspan>\n",
       "</text>\n",
       "\n",
       "<text class=\"displacy-token\" fill=\"currentColor\" text-anchor=\"middle\" y=\"397.0\">\n",
       "    <tspan class=\"displacy-word\" fill=\"currentColor\" x=\"1800\">RDV</tspan>\n",
       "    <tspan class=\"displacy-tag\" dy=\"2em\" fill=\"currentColor\" x=\"1800\">PROPN</tspan>\n",
       "</text>\n",
       "\n",
       "<text class=\"displacy-token\" fill=\"currentColor\" text-anchor=\"middle\" y=\"397.0\">\n",
       "    <tspan class=\"displacy-word\" fill=\"currentColor\" x=\"1975\">to</tspan>\n",
       "    <tspan class=\"displacy-tag\" dy=\"2em\" fill=\"currentColor\" x=\"1975\">PART</tspan>\n",
       "</text>\n",
       "\n",
       "<text class=\"displacy-token\" fill=\"currentColor\" text-anchor=\"middle\" y=\"397.0\">\n",
       "    <tspan class=\"displacy-word\" fill=\"currentColor\" x=\"2150\">treat</tspan>\n",
       "    <tspan class=\"displacy-tag\" dy=\"2em\" fill=\"currentColor\" x=\"2150\">VERB</tspan>\n",
       "</text>\n",
       "\n",
       "<text class=\"displacy-token\" fill=\"currentColor\" text-anchor=\"middle\" y=\"397.0\">\n",
       "    <tspan class=\"displacy-word\" fill=\"currentColor\" x=\"2325\">MERS-</tspan>\n",
       "    <tspan class=\"displacy-tag\" dy=\"2em\" fill=\"currentColor\" x=\"2325\">PROPN</tspan>\n",
       "</text>\n",
       "\n",
       "<text class=\"displacy-token\" fill=\"currentColor\" text-anchor=\"middle\" y=\"397.0\">\n",
       "    <tspan class=\"displacy-word\" fill=\"currentColor\" x=\"2500\">CoV</tspan>\n",
       "    <tspan class=\"displacy-tag\" dy=\"2em\" fill=\"currentColor\" x=\"2500\">NOUN</tspan>\n",
       "</text>\n",
       "\n",
       "<text class=\"displacy-token\" fill=\"currentColor\" text-anchor=\"middle\" y=\"397.0\">\n",
       "    <tspan class=\"displacy-word\" fill=\"currentColor\" x=\"2675\">infections.</tspan>\n",
       "    <tspan class=\"displacy-tag\" dy=\"2em\" fill=\"currentColor\" x=\"2675\">NOUN</tspan>\n",
       "</text>\n",
       "\n",
       "<g class=\"displacy-arrow\">\n",
       "    <path class=\"displacy-arc\" id=\"arrow-86858e036c824e748a4502de045e47f2-0-0\" stroke-width=\"2px\" d=\"M70,352.0 C70,177.0 390.0,177.0 390.0,352.0\" fill=\"none\" stroke=\"currentColor\"/>\n",
       "    <text dy=\"1.25em\" style=\"font-size: 0.8em; letter-spacing: 1px\">\n",
       "        <textPath xlink:href=\"#arrow-86858e036c824e748a4502de045e47f2-0-0\" class=\"displacy-label\" startOffset=\"50%\" side=\"left\" fill=\"currentColor\" text-anchor=\"middle\">advmod</textPath>\n",
       "    </text>\n",
       "    <path class=\"displacy-arrowhead\" d=\"M70,354.0 L62,342.0 78,342.0\" fill=\"currentColor\"/>\n",
       "</g>\n",
       "\n",
       "<g class=\"displacy-arrow\">\n",
       "    <path class=\"displacy-arc\" id=\"arrow-86858e036c824e748a4502de045e47f2-0-1\" stroke-width=\"2px\" d=\"M245,352.0 C245,264.5 385.0,264.5 385.0,352.0\" fill=\"none\" stroke=\"currentColor\"/>\n",
       "    <text dy=\"1.25em\" style=\"font-size: 0.8em; letter-spacing: 1px\">\n",
       "        <textPath xlink:href=\"#arrow-86858e036c824e748a4502de045e47f2-0-1\" class=\"displacy-label\" startOffset=\"50%\" side=\"left\" fill=\"currentColor\" text-anchor=\"middle\">nsubj</textPath>\n",
       "    </text>\n",
       "    <path class=\"displacy-arrowhead\" d=\"M245,354.0 L237,342.0 253,342.0\" fill=\"currentColor\"/>\n",
       "</g>\n",
       "\n",
       "<g class=\"displacy-arrow\">\n",
       "    <path class=\"displacy-arc\" id=\"arrow-86858e036c824e748a4502de045e47f2-0-2\" stroke-width=\"2px\" d=\"M420,352.0 C420,264.5 560.0,264.5 560.0,352.0\" fill=\"none\" stroke=\"currentColor\"/>\n",
       "    <text dy=\"1.25em\" style=\"font-size: 0.8em; letter-spacing: 1px\">\n",
       "        <textPath xlink:href=\"#arrow-86858e036c824e748a4502de045e47f2-0-2\" class=\"displacy-label\" startOffset=\"50%\" side=\"left\" fill=\"currentColor\" text-anchor=\"middle\">prep</textPath>\n",
       "    </text>\n",
       "    <path class=\"displacy-arrowhead\" d=\"M560.0,354.0 L568.0,342.0 552.0,342.0\" fill=\"currentColor\"/>\n",
       "</g>\n",
       "\n",
       "<g class=\"displacy-arrow\">\n",
       "    <path class=\"displacy-arc\" id=\"arrow-86858e036c824e748a4502de045e47f2-0-3\" stroke-width=\"2px\" d=\"M770,352.0 C770,264.5 910.0,264.5 910.0,352.0\" fill=\"none\" stroke=\"currentColor\"/>\n",
       "    <text dy=\"1.25em\" style=\"font-size: 0.8em; letter-spacing: 1px\">\n",
       "        <textPath xlink:href=\"#arrow-86858e036c824e748a4502de045e47f2-0-3\" class=\"displacy-label\" startOffset=\"50%\" side=\"left\" fill=\"currentColor\" text-anchor=\"middle\">compound</textPath>\n",
       "    </text>\n",
       "    <path class=\"displacy-arrowhead\" d=\"M770,354.0 L762,342.0 778,342.0\" fill=\"currentColor\"/>\n",
       "</g>\n",
       "\n",
       "<g class=\"displacy-arrow\">\n",
       "    <path class=\"displacy-arc\" id=\"arrow-86858e036c824e748a4502de045e47f2-0-4\" stroke-width=\"2px\" d=\"M595,352.0 C595,177.0 915.0,177.0 915.0,352.0\" fill=\"none\" stroke=\"currentColor\"/>\n",
       "    <text dy=\"1.25em\" style=\"font-size: 0.8em; letter-spacing: 1px\">\n",
       "        <textPath xlink:href=\"#arrow-86858e036c824e748a4502de045e47f2-0-4\" class=\"displacy-label\" startOffset=\"50%\" side=\"left\" fill=\"currentColor\" text-anchor=\"middle\">pobj</textPath>\n",
       "    </text>\n",
       "    <path class=\"displacy-arrowhead\" d=\"M915.0,354.0 L923.0,342.0 907.0,342.0\" fill=\"currentColor\"/>\n",
       "</g>\n",
       "\n",
       "<g class=\"displacy-arrow\">\n",
       "    <path class=\"displacy-arc\" id=\"arrow-86858e036c824e748a4502de045e47f2-0-5\" stroke-width=\"2px\" d=\"M945,352.0 C945,264.5 1085.0,264.5 1085.0,352.0\" fill=\"none\" stroke=\"currentColor\"/>\n",
       "    <text dy=\"1.25em\" style=\"font-size: 0.8em; letter-spacing: 1px\">\n",
       "        <textPath xlink:href=\"#arrow-86858e036c824e748a4502de045e47f2-0-5\" class=\"displacy-label\" startOffset=\"50%\" side=\"left\" fill=\"currentColor\" text-anchor=\"middle\">prep</textPath>\n",
       "    </text>\n",
       "    <path class=\"displacy-arrowhead\" d=\"M1085.0,354.0 L1093.0,342.0 1077.0,342.0\" fill=\"currentColor\"/>\n",
       "</g>\n",
       "\n",
       "<g class=\"displacy-arrow\">\n",
       "    <path class=\"displacy-arc\" id=\"arrow-86858e036c824e748a4502de045e47f2-0-6\" stroke-width=\"2px\" d=\"M1295,352.0 C1295,264.5 1435.0,264.5 1435.0,352.0\" fill=\"none\" stroke=\"currentColor\"/>\n",
       "    <text dy=\"1.25em\" style=\"font-size: 0.8em; letter-spacing: 1px\">\n",
       "        <textPath xlink:href=\"#arrow-86858e036c824e748a4502de045e47f2-0-6\" class=\"displacy-label\" startOffset=\"50%\" side=\"left\" fill=\"currentColor\" text-anchor=\"middle\">det</textPath>\n",
       "    </text>\n",
       "    <path class=\"displacy-arrowhead\" d=\"M1295,354.0 L1287,342.0 1303,342.0\" fill=\"currentColor\"/>\n",
       "</g>\n",
       "\n",
       "<g class=\"displacy-arrow\">\n",
       "    <path class=\"displacy-arc\" id=\"arrow-86858e036c824e748a4502de045e47f2-0-7\" stroke-width=\"2px\" d=\"M1120,352.0 C1120,177.0 1440.0,177.0 1440.0,352.0\" fill=\"none\" stroke=\"currentColor\"/>\n",
       "    <text dy=\"1.25em\" style=\"font-size: 0.8em; letter-spacing: 1px\">\n",
       "        <textPath xlink:href=\"#arrow-86858e036c824e748a4502de045e47f2-0-7\" class=\"displacy-label\" startOffset=\"50%\" side=\"left\" fill=\"currentColor\" text-anchor=\"middle\">pobj</textPath>\n",
       "    </text>\n",
       "    <path class=\"displacy-arrowhead\" d=\"M1440.0,354.0 L1448.0,342.0 1432.0,342.0\" fill=\"currentColor\"/>\n",
       "</g>\n",
       "\n",
       "<g class=\"displacy-arrow\">\n",
       "    <path class=\"displacy-arc\" id=\"arrow-86858e036c824e748a4502de045e47f2-0-8\" stroke-width=\"2px\" d=\"M1645,352.0 C1645,89.5 2145.0,89.5 2145.0,352.0\" fill=\"none\" stroke=\"currentColor\"/>\n",
       "    <text dy=\"1.25em\" style=\"font-size: 0.8em; letter-spacing: 1px\">\n",
       "        <textPath xlink:href=\"#arrow-86858e036c824e748a4502de045e47f2-0-8\" class=\"displacy-label\" startOffset=\"50%\" side=\"left\" fill=\"currentColor\" text-anchor=\"middle\">mark</textPath>\n",
       "    </text>\n",
       "    <path class=\"displacy-arrowhead\" d=\"M1645,354.0 L1637,342.0 1653,342.0\" fill=\"currentColor\"/>\n",
       "</g>\n",
       "\n",
       "<g class=\"displacy-arrow\">\n",
       "    <path class=\"displacy-arc\" id=\"arrow-86858e036c824e748a4502de045e47f2-0-9\" stroke-width=\"2px\" d=\"M1820,352.0 C1820,177.0 2140.0,177.0 2140.0,352.0\" fill=\"none\" stroke=\"currentColor\"/>\n",
       "    <text dy=\"1.25em\" style=\"font-size: 0.8em; letter-spacing: 1px\">\n",
       "        <textPath xlink:href=\"#arrow-86858e036c824e748a4502de045e47f2-0-9\" class=\"displacy-label\" startOffset=\"50%\" side=\"left\" fill=\"currentColor\" text-anchor=\"middle\">nsubj</textPath>\n",
       "    </text>\n",
       "    <path class=\"displacy-arrowhead\" d=\"M1820,354.0 L1812,342.0 1828,342.0\" fill=\"currentColor\"/>\n",
       "</g>\n",
       "\n",
       "<g class=\"displacy-arrow\">\n",
       "    <path class=\"displacy-arc\" id=\"arrow-86858e036c824e748a4502de045e47f2-0-10\" stroke-width=\"2px\" d=\"M1995,352.0 C1995,264.5 2135.0,264.5 2135.0,352.0\" fill=\"none\" stroke=\"currentColor\"/>\n",
       "    <text dy=\"1.25em\" style=\"font-size: 0.8em; letter-spacing: 1px\">\n",
       "        <textPath xlink:href=\"#arrow-86858e036c824e748a4502de045e47f2-0-10\" class=\"displacy-label\" startOffset=\"50%\" side=\"left\" fill=\"currentColor\" text-anchor=\"middle\">aux</textPath>\n",
       "    </text>\n",
       "    <path class=\"displacy-arrowhead\" d=\"M1995,354.0 L1987,342.0 2003,342.0\" fill=\"currentColor\"/>\n",
       "</g>\n",
       "\n",
       "<g class=\"displacy-arrow\">\n",
       "    <path class=\"displacy-arc\" id=\"arrow-86858e036c824e748a4502de045e47f2-0-11\" stroke-width=\"2px\" d=\"M420,352.0 C420,2.0 2150.0,2.0 2150.0,352.0\" fill=\"none\" stroke=\"currentColor\"/>\n",
       "    <text dy=\"1.25em\" style=\"font-size: 0.8em; letter-spacing: 1px\">\n",
       "        <textPath xlink:href=\"#arrow-86858e036c824e748a4502de045e47f2-0-11\" class=\"displacy-label\" startOffset=\"50%\" side=\"left\" fill=\"currentColor\" text-anchor=\"middle\">advcl</textPath>\n",
       "    </text>\n",
       "    <path class=\"displacy-arrowhead\" d=\"M2150.0,354.0 L2158.0,342.0 2142.0,342.0\" fill=\"currentColor\"/>\n",
       "</g>\n",
       "\n",
       "<g class=\"displacy-arrow\">\n",
       "    <path class=\"displacy-arc\" id=\"arrow-86858e036c824e748a4502de045e47f2-0-12\" stroke-width=\"2px\" d=\"M2345,352.0 C2345,264.5 2485.0,264.5 2485.0,352.0\" fill=\"none\" stroke=\"currentColor\"/>\n",
       "    <text dy=\"1.25em\" style=\"font-size: 0.8em; letter-spacing: 1px\">\n",
       "        <textPath xlink:href=\"#arrow-86858e036c824e748a4502de045e47f2-0-12\" class=\"displacy-label\" startOffset=\"50%\" side=\"left\" fill=\"currentColor\" text-anchor=\"middle\">compound</textPath>\n",
       "    </text>\n",
       "    <path class=\"displacy-arrowhead\" d=\"M2345,354.0 L2337,342.0 2353,342.0\" fill=\"currentColor\"/>\n",
       "</g>\n",
       "\n",
       "<g class=\"displacy-arrow\">\n",
       "    <path class=\"displacy-arc\" id=\"arrow-86858e036c824e748a4502de045e47f2-0-13\" stroke-width=\"2px\" d=\"M2520,352.0 C2520,264.5 2660.0,264.5 2660.0,352.0\" fill=\"none\" stroke=\"currentColor\"/>\n",
       "    <text dy=\"1.25em\" style=\"font-size: 0.8em; letter-spacing: 1px\">\n",
       "        <textPath xlink:href=\"#arrow-86858e036c824e748a4502de045e47f2-0-13\" class=\"displacy-label\" startOffset=\"50%\" side=\"left\" fill=\"currentColor\" text-anchor=\"middle\">compound</textPath>\n",
       "    </text>\n",
       "    <path class=\"displacy-arrowhead\" d=\"M2520,354.0 L2512,342.0 2528,342.0\" fill=\"currentColor\"/>\n",
       "</g>\n",
       "\n",
       "<g class=\"displacy-arrow\">\n",
       "    <path class=\"displacy-arc\" id=\"arrow-86858e036c824e748a4502de045e47f2-0-14\" stroke-width=\"2px\" d=\"M2170,352.0 C2170,89.5 2670.0,89.5 2670.0,352.0\" fill=\"none\" stroke=\"currentColor\"/>\n",
       "    <text dy=\"1.25em\" style=\"font-size: 0.8em; letter-spacing: 1px\">\n",
       "        <textPath xlink:href=\"#arrow-86858e036c824e748a4502de045e47f2-0-14\" class=\"displacy-label\" startOffset=\"50%\" side=\"left\" fill=\"currentColor\" text-anchor=\"middle\">dobj</textPath>\n",
       "    </text>\n",
       "    <path class=\"displacy-arrowhead\" d=\"M2670.0,354.0 L2678.0,342.0 2662.0,342.0\" fill=\"currentColor\"/>\n",
       "</g>\n",
       "</svg></span>"
      ],
      "text/plain": [
       "<IPython.core.display.HTML object>"
      ]
     },
     "metadata": {},
     "output_type": "display_data"
    }
   ],
   "source": [
    "displacy.render(exemplar[6], style=\"ent\")\n",
    "displacy.render(exemplar[6], style=\"dep\")"
   ]
  },
  {
   "cell_type": "code",
   "execution_count": 13,
   "metadata": {
    "slideshow": {
     "slide_type": "subslide"
    }
   },
   "outputs": [],
   "source": [
    "pattern = [{\"LOWER\":\"we\"},{'POS': 'VERB'}]\n",
    "matcher.add(\"matching\",None,pattern)"
   ]
  },
  {
   "cell_type": "code",
   "execution_count": 14,
   "metadata": {
    "slideshow": {
     "slide_type": "skip"
    }
   },
   "outputs": [],
   "source": [
    "def searchacts(a):\n",
    "    matches=matcher(a)\n",
    "    for _,start,end in matches:\n",
    "        verb=a[end-1]\n",
    "        actionverbs.append(verb.lemma_)"
   ]
  },
  {
   "cell_type": "code",
   "execution_count": 15,
   "metadata": {
    "slideshow": {
     "slide_type": "subslide"
    }
   },
   "outputs": [
    {
     "name": "stdout",
     "output_type": "stream",
     "text": [
      " Satz 0= Middle East respiratory syndrome coronavirus (MERS-CoV) is the causative agent of a severe respiratory disease associated with more than 2468 human infections and over 851 deaths in 27 countries since 2012. ::::: []\n",
      " Satz 1= There are no approved treatments for MERS-CoV infection although a combination of lopinavir, ritonavir and interferon beta (LPV/RTV-IFNb) is currently being evaluated in humans in the Kingdom of Saudi Arabia. ::::: []\n",
      " Satz 2= Here, we show that remdesivir (RDV) and IFNb have superior antiviral activity to LPV and RTV in vitro. ::::: ['show']\n",
      " Satz 3= In mice, both prophylactic and therapeutic RDV improve pulmonary function and reduce lung viral loads and severe lung pathology. ::::: []\n",
      " Satz 4= In contrast, prophylactic LPV/RTV-IFNb slightly reduces viral loads without impacting other disease parameters. ::::: []\n",
      " Satz 5= Therapeutic LPV/RTV-IFNb improves pulmonary function but does not reduce virus replication or severe lung pathology. ::::: []\n",
      " Satz 6= Thus, we provide in vivo evidence of the potential for RDV to treat MERS-CoV infections. ::::: ['provide']\n"
     ]
    }
   ],
   "source": [
    "for i,sent in enumerate(exemplar):\n",
    "    actionverbs=[]\n",
    "    searchacts(sent)\n",
    "    print(f\" Satz {i}= {sent} ::::: {actionverbs}\")"
   ]
  },
  {
   "cell_type": "code",
   "execution_count": 16,
   "metadata": {
    "slideshow": {
     "slide_type": "slide"
    }
   },
   "outputs": [
    {
     "data": {
      "text/plain": [
       "1482"
      ]
     },
     "execution_count": 16,
     "metadata": {},
     "output_type": "execute_result"
    }
   ],
   "source": [
    "actionverbs=[]\n",
    "dfRem[\"doc\"].apply(searchacts)\n",
    "len(actionverbs)"
   ]
  },
  {
   "cell_type": "code",
   "execution_count": 17,
   "metadata": {
    "slideshow": {
     "slide_type": "skip"
    }
   },
   "outputs": [
    {
     "name": "stdout",
     "output_type": "stream",
     "text": [
      "['abstract', 'adapt', 'address', 'administer', 'administrate', 'advance', 'advise', 'advocate', 'aim', 'allow', 'analyse', 'analyze', 'anticipate', 'apply', 'appreciate', 'approach', 'argue', 'ask', 'assay', 'assess', 'assume', 'await', 'base', 'believe', 'build', 'calculate', 'call', 'can', 'carry', 'challenge', 'characterise', 'characterize', 'choose', 'clone', 'co', 'collect', 'combine', 'come', 'comment', 'compare', 'conclude', 'conduct', 'confirm', 'consider', 'construct', 'contend', 'could', 'create', 'decide', 'declare', 'define', 'demonstrate', 'denote', 'deploy', 'describe', 'design', 'detail', 'detect', 'determine', 'develop', 'disagree', 'discover', 'discuss', 'divide', 'dock', 'download', 'draw', 'ease', 'elucidate', 'emphasize', 'employ', 'encourage', 'engineer', 'enrol', 'enter', 'establish', 'estimate', 'evaluate', 'evidence', 'examine', 'exclude', 'expect', 'explain', 'explore', 'express', 'extend', 'extract', 'find', 'focus', 'follow', 'form', 'found10', 'frame', 'generate', 'highlight', 'hope', 'hypothesize', 'identifid', 'identify', 'illustrate', 'include', 'increase', 'initiate', 'intend', 'interpret', 'introduce', 'investigate', 'isolate', 'keep', 'know', 'learn', 'live', 'look', 'make', 'manage', 'map', 'may', 'mention', 'model', 'must', 'need', 'note', 'notice', 'observe', 'obtain', 'offer', 'outline', 'overview', 'perform', 'plan', 'plot', 'pool', 'predict', 'prepare', 'present', 'pretreate', 'prioritise', 'prioritize', 'proceed', 'profile', 'propose', 'provide', 'rank', 'rate', 'read', 'reanalyze', 'reason', 'recommend', 'refer', 'refit', 'reflect', 'rely', 'reopen', 'report', 'require', 'review', 'risk', 'run', 'scan', 'screen', 'scrutinise', 'search', 'see', 'seek', 'select', 'sequence', 'set', 'share', 'shed', 'should', 'show', 'showcase', 'simulate', 'solve', 'specify', 'speculate', 'start', 'stress', 'study', 'submit', 'succeed', 'suggest', 'summarise', 'summarize', 'suspect', 'synthesize', 'systematize', 'take', 'tend', 'test', 'think', 'transfecte', 'try', 'underline', 'undertake', 'urge', 'use', 'utilize', 'wait', 'waste', 'will', 'would']\n"
     ]
    }
   ],
   "source": [
    "counts=Counter(actionverbs)\n",
    "print(sorted(counts))"
   ]
  },
  {
   "cell_type": "markdown",
   "metadata": {
    "slideshow": {
     "slide_type": "slide"
    }
   },
   "source": [
    "# Propositional research attitudes\n",
    "\n",
    "- GOAL (intention, goal):  \n",
    "    - aim, seek, study, undertake, investigate, intend\n",
    "- DISCOV: \n",
    "    - show, propose, obtain, report, observe, create, demonstrate, detect, scrutinize, provide"
   ]
  },
  {
   "cell_type": "markdown",
   "metadata": {},
   "source": [
    "## verb classes"
   ]
  },
  {
   "cell_type": "code",
   "execution_count": 18,
   "metadata": {
    "slideshow": {
     "slide_type": "subslide"
    }
   },
   "outputs": [
    {
     "data": {
      "text/plain": [
       "dict_keys(['GOAL', 'DISCOV', 'CAUSV'])"
      ]
     },
     "execution_count": 18,
     "metadata": {},
     "output_type": "execute_result"
    }
   ],
   "source": [
    "verbtags={\"GOAL\":\n",
    "       [\"aim\",\"seek\",\"study\",\"undertake\",\"investigate\",\"intend\"],\n",
    "       \"DISCOV\":\n",
    "        [\"show\",\"provide\",\"notice\",\"report\",\"detect\"],\n",
    "       \"CAUSV\":\n",
    "        [\"treat\"]\n",
    "         }\n",
    "verbtags.keys()"
   ]
  },
  {
   "cell_type": "code",
   "execution_count": 48,
   "metadata": {
    "slideshow": {
     "slide_type": "skip"
    }
   },
   "outputs": [],
   "source": [
    "class DiscReport(object):\n",
    "    \"\"\" pipeline component that sets entity annotations\n",
    "    based on list of single or multiple-word. Discovery Verbs are\n",
    "    labelled as DISC and their spans are merged into one token. Additionally,\n",
    "    ._.has_disc_verb and ._.is_disc_verb is set on the Doc/Span and Token\n",
    "    respectively.\"\"\"\n",
    "\n",
    "    name = label+\"_verb\"  # component name, will show up in the pipeline\n",
    "\n",
    "    def __init__(self, nlp, discv=tuple(), label=\"DISC\"):\n",
    "        \"\"\"Initialise the pipeline component. The shared nlp instance is used\n",
    "        to initialise the matcher with the shared vocab, get the label ID and\n",
    "        generate Doc objects as phrase match patterns.\n",
    "        \"\"\"\n",
    "        self.label = nlp.vocab.strings[label]  # get entity label ID\n",
    "\n",
    "        # Set up the PhraseMatcher – it can now take Doc objects as patterns,\n",
    "        # so even if the list of companies is long, it's very efficient\n",
    "        patterns = [nlp(v) for v in discv]\n",
    "        self.matcher = PhraseMatcher(nlp.vocab)\n",
    "        self.matcher.add(label+\"_VERB\", None, *patterns)\n",
    "\n",
    "        # Register attribute on the Token. We'll be overwriting this based on\n",
    "        # the matches, so we're only setting a default value, not a getter.\n",
    "        Token.set_extension(\"is_\"+label+\"disc_verb\", force=True,default=False)\n",
    "\n",
    "        # Register attributes on Doc and Span via a getter that checks if one of\n",
    "        # the contained tokens is set to is_disc_verb == True.\n",
    "        Doc.set_extension(\"has_\"+label+\"disc_verb\", force=True,getter=self.has_disc_verb)\n",
    "        Span.set_extension(\"has_\"+label+\"disc_verb\", force=True,getter=self.has_disc_verb)\n",
    "\n",
    "    def __call__(self, doc):\n",
    "        \"\"\"Apply the pipeline component on a Doc object and modify it if matches\n",
    "        are found. Return the Doc, so it can be processed by the next component\n",
    "        in the pipeline, if available.\n",
    "        \"\"\"\n",
    "        matches = self.matcher(doc)\n",
    "        spans = []  # keep the spans for later so we can merge them afterwards\n",
    "        for _, start, end in matches:\n",
    "            # Generate Span representing the entity & set label\n",
    "            entity = Span(doc, start, end, label=self.label)\n",
    "            spans.append(entity)\n",
    "            # Set custom attribute on each token of the entity\n",
    "            for token in entity:\n",
    "                token._.set(\"is_\"+label+\"disc_verb\", True)\n",
    "            # Overwrite doc.ents and add entity – be careful not to replace!\n",
    "            doc.ents = list(doc.ents) + [entity]\n",
    "        for span in spans:\n",
    "            # Iterate over all spans and merge them into one token. This is done\n",
    "            # after setting the entities – otherwise, it would cause mismatched\n",
    "            # indices!\n",
    "            span.merge()\n",
    "        return doc  # don't forget to return the Doc!\n",
    "\n",
    "    def has_disc_verb(self, tokens):\n",
    "        \"\"\"Getter for Doc and Span attributes. Returns True if one of the tokens\n",
    "        is a tech org. Since the getter is only called when we access the\n",
    "        attribute, we can refer to the Token's 'is_tech_org' attribute here,\n",
    "        which is already set in the processing step.\"\"\"\n",
    "        return any([t._.get(\"is_\"+label+\"disc_verb\") for t in tokens])"
   ]
  },
  {
   "cell_type": "code",
   "execution_count": 49,
   "metadata": {
    "slideshow": {
     "slide_type": "slide"
    }
   },
   "outputs": [
    {
     "name": "stdout",
     "output_type": "stream",
     "text": [
      "['show', 'provide', 'notice', 'report', 'detect']\n"
     ]
    }
   ],
   "source": [
    "label=\"DISCOV\"\n",
    "discv=verbtags[label]\n",
    "nlp.vocab.strings.add(label)\n",
    "print(discv)\n",
    "comp=DiscReport(nlp,discv=discv,label=label)\n",
    "nlp.add_pipe(comp,last=True)"
   ]
  },
  {
   "cell_type": "code",
   "execution_count": 50,
   "metadata": {
    "slideshow": {
     "slide_type": "skip"
    }
   },
   "outputs": [],
   "source": [
    "doc = nlp(exemplar[6].text)"
   ]
  },
  {
   "cell_type": "code",
   "execution_count": 51,
   "metadata": {
    "slideshow": {
     "slide_type": "slide"
    }
   },
   "outputs": [
    {
     "name": "stdout",
     "output_type": "stream",
     "text": [
      "Pipeline ['tagger', 'parser', 'ner', 'disc_verb', 'DISCOV_verb']\n",
      "Tokens ['Thus', ',', 'we', 'provide', 'in', 'vivo', 'evidence', 'of', 'the', 'potential', 'for', 'RDV', 'to', 'treat', 'MERS', '-', 'CoV', 'infections', '.']\n",
      "Doc has_disc_verb True\n",
      "Token 0 disc_verb False\n",
      "Token 3 disc_verb False\n",
      "Entities [('provide', 'DISCOV'), ('RDV', 'FAC'), ('treat', 'CAUSV'), ('MERS-CoV', 'ORG')]\n"
     ]
    }
   ],
   "source": [
    "print(\"Pipeline\", nlp.pipe_names)  # pipeline contains component name\n",
    "print(\"Tokens\", [t.text for t in doc])  # company names from the list are merged\n",
    "print(\"Doc has_disc_verb\", doc._.has_disc_verb)  # Doc contains tech orgs\n",
    "print(\"Token 0 disc_verb\", doc[0]._.is_disc_verb)  # \"Alphabet Inc.\" is a tech org\n",
    "print(\"Token 3 disc_verb\", doc[3]._.is_disc_verb)  # \"is\" is not\n",
    "print(\"Entities\", [(e.text, e.label_) for e in doc.ents])  # all orgs are entities"
   ]
  },
  {
   "cell_type": "code",
   "execution_count": 52,
   "metadata": {
    "slideshow": {
     "slide_type": "subslide"
    }
   },
   "outputs": [
    {
     "data": {
      "text/html": [
       "<span class=\"tex2jax_ignore\"><div class=\"entities\" style=\"line-height: 2.5; direction: ltr\">Thus, we \n",
       "<mark class=\"entity\" style=\"background: #ddd; padding: 0.45em 0.6em; margin: 0 0.25em; line-height: 1; border-radius: 0.35em;\">\n",
       "    provide\n",
       "    <span style=\"font-size: 0.8em; font-weight: bold; line-height: 1; border-radius: 0.35em; text-transform: uppercase; vertical-align: middle; margin-left: 0.5rem\">DISCOV</span>\n",
       "</mark>\n",
       " in vivo evidence of the potential for \n",
       "<mark class=\"entity\" style=\"background: #ddd; padding: 0.45em 0.6em; margin: 0 0.25em; line-height: 1; border-radius: 0.35em;\">\n",
       "    RDV\n",
       "    <span style=\"font-size: 0.8em; font-weight: bold; line-height: 1; border-radius: 0.35em; text-transform: uppercase; vertical-align: middle; margin-left: 0.5rem\">FAC</span>\n",
       "</mark>\n",
       " to \n",
       "<mark class=\"entity\" style=\"background: #ddd; padding: 0.45em 0.6em; margin: 0 0.25em; line-height: 1; border-radius: 0.35em;\">\n",
       "    treat\n",
       "    <span style=\"font-size: 0.8em; font-weight: bold; line-height: 1; border-radius: 0.35em; text-transform: uppercase; vertical-align: middle; margin-left: 0.5rem\">CAUSV</span>\n",
       "</mark>\n",
       " \n",
       "<mark class=\"entity\" style=\"background: #7aecec; padding: 0.45em 0.6em; margin: 0 0.25em; line-height: 1; border-radius: 0.35em;\">\n",
       "    MERS-CoV\n",
       "    <span style=\"font-size: 0.8em; font-weight: bold; line-height: 1; border-radius: 0.35em; text-transform: uppercase; vertical-align: middle; margin-left: 0.5rem\">ORG</span>\n",
       "</mark>\n",
       " infections.</div></span>"
      ],
      "text/plain": [
       "<IPython.core.display.HTML object>"
      ]
     },
     "metadata": {},
     "output_type": "display_data"
    }
   ],
   "source": [
    "displacy.render(doc, style=\"ent\")"
   ]
  },
  {
   "cell_type": "markdown",
   "metadata": {
    "slideshow": {
     "slide_type": "skip"
    }
   },
   "source": [
    "# Action verbs"
   ]
  },
  {
   "cell_type": "code",
   "execution_count": 24,
   "metadata": {
    "slideshow": {
     "slide_type": "skip"
    }
   },
   "outputs": [],
   "source": [
    "def actionverb(abstract):\n",
    "    matches=matcher(abstract)\n",
    "    listDisc=[]\n",
    "    for _,start,end in matches:\n",
    "        verb=abstract[end-1].text\n",
    "        verblem=abstract[end-1].lemma_\n",
    "        for ent,verbs in verbtags.items():\n",
    "            if verblem in verbs:\n",
    "                dict_disc=(start+1,end,ent)\n",
    "                listDisc.append(dict_disc)\n",
    "    return(listDisc)"
   ]
  },
  {
   "cell_type": "code",
   "execution_count": 25,
   "metadata": {
    "slideshow": {
     "slide_type": "skip"
    }
   },
   "outputs": [],
   "source": [
    "dfRem[\"discNER\"]=dfRem[\"doc\"].apply(actionverb)  "
   ]
  },
  {
   "cell_type": "code",
   "execution_count": 26,
   "metadata": {
    "slideshow": {
     "slide_type": "skip"
    }
   },
   "outputs": [
    {
     "data": {
      "text/html": [
       "<div>\n",
       "<style scoped>\n",
       "    .dataframe tbody tr th:only-of-type {\n",
       "        vertical-align: middle;\n",
       "    }\n",
       "\n",
       "    .dataframe tbody tr th {\n",
       "        vertical-align: top;\n",
       "    }\n",
       "\n",
       "    .dataframe thead th {\n",
       "        text-align: right;\n",
       "    }\n",
       "</style>\n",
       "<table border=\"1\" class=\"dataframe\">\n",
       "  <thead>\n",
       "    <tr style=\"text-align: right;\">\n",
       "      <th></th>\n",
       "      <th>title</th>\n",
       "      <th>abstract</th>\n",
       "      <th>doc</th>\n",
       "      <th>sentences</th>\n",
       "      <th>discNER</th>\n",
       "    </tr>\n",
       "  </thead>\n",
       "  <tbody>\n",
       "    <tr>\n",
       "      <th>0</th>\n",
       "      <td>Evaluation of the efficacy and safety of intra...</td>\n",
       "      <td>BACKGROUND: Coronavirus disease 2019 (COVID-19...</td>\n",
       "      <td>(BACKGROUND, :, Coronavirus, disease, 2019, (,...</td>\n",
       "      <td>[(BACKGROUND, :), (Coronavirus, disease, 2019,...</td>\n",
       "      <td>[]</td>\n",
       "    </tr>\n",
       "    <tr>\n",
       "      <th>1</th>\n",
       "      <td>Role of adjunctive treatment strategies in COV...</td>\n",
       "      <td>The coronavirus disease (COVID-19) pandemic ha...</td>\n",
       "      <td>(The, coronavirus, disease, (, COVID-19, ), pa...</td>\n",
       "      <td>[(The, coronavirus, disease, (, COVID-19, ), p...</td>\n",
       "      <td>[]</td>\n",
       "    </tr>\n",
       "    <tr>\n",
       "      <th>2</th>\n",
       "      <td>Comparative therapeutic efficacy of remdesivir...</td>\n",
       "      <td>Middle East respiratory syndrome coronavirus (...</td>\n",
       "      <td>(Middle, East, respiratory, syndrome, coronavi...</td>\n",
       "      <td>[(Middle, East, respiratory, syndrome, coronav...</td>\n",
       "      <td>[(79, 80, DISCOV), (161, 162, DISCOV)]</td>\n",
       "    </tr>\n",
       "    <tr>\n",
       "      <th>3</th>\n",
       "      <td>Therapeutic strategies for critically ill pati...</td>\n",
       "      <td>Since the 2019 novel coronavirus disease (COVI...</td>\n",
       "      <td>(Since, the, 2019, novel, coronavirus, disease...</td>\n",
       "      <td>[(Since, the, 2019, novel, coronavirus, diseas...</td>\n",
       "      <td>[]</td>\n",
       "    </tr>\n",
       "    <tr>\n",
       "      <th>4</th>\n",
       "      <td>Battling COVID-19: using old weapons for a new...</td>\n",
       "      <td>Coronavirus disease-19 (COVID-19) has reached ...</td>\n",
       "      <td>(Coronavirus, disease-19, (, COVID-19, ), has,...</td>\n",
       "      <td>[(Coronavirus, disease-19, (, COVID-19, ), has...</td>\n",
       "      <td>[]</td>\n",
       "    </tr>\n",
       "    <tr>\n",
       "      <th>5</th>\n",
       "      <td>The origin, transmission and clinical therapie...</td>\n",
       "      <td>An acute respiratory disease, caused by a nove...</td>\n",
       "      <td>(An, acute, respiratory, disease, ,, caused, b...</td>\n",
       "      <td>[(An, acute, respiratory, disease, ,, caused, ...</td>\n",
       "      <td>[]</td>\n",
       "    </tr>\n",
       "    <tr>\n",
       "      <th>6</th>\n",
       "      <td>SARS-CoV-2 RNA polymerase as target for antivi...</td>\n",
       "      <td>A new human coronavirus named SARS-CoV-2 was i...</td>\n",
       "      <td>(A, new, human, coronavirus, named, SARS, -, C...</td>\n",
       "      <td>[(A, new, human, coronavirus, named, SARS, -, ...</td>\n",
       "      <td>[]</td>\n",
       "    </tr>\n",
       "    <tr>\n",
       "      <th>7</th>\n",
       "      <td>Current regulatory approaches for accessing po...</td>\n",
       "      <td>This commentary aims to elaborate challenges i...</td>\n",
       "      <td>(This, commentary, aims, to, elaborate, challe...</td>\n",
       "      <td>[(This, commentary, aims, to, elaborate, chall...</td>\n",
       "      <td>[]</td>\n",
       "    </tr>\n",
       "    <tr>\n",
       "      <th>8</th>\n",
       "      <td>SARS-CoV-2 and COVID-19: The most important re...</td>\n",
       "      <td>Coronavirus disease 2019 (COVID-19) caused by ...</td>\n",
       "      <td>(Coronavirus, disease, 2019, (, COVID-19, ), c...</td>\n",
       "      <td>[(Coronavirus, disease, 2019, (, COVID-19, ), ...</td>\n",
       "      <td>[]</td>\n",
       "    </tr>\n",
       "    <tr>\n",
       "      <th>9</th>\n",
       "      <td>Emerging SARS-CoV-2 mutation hot spots include...</td>\n",
       "      <td>BACKGROUND: SARS-CoV-2 is a RNA coronavirus re...</td>\n",
       "      <td>(BACKGROUND, :, SARS, -, CoV-2, is, a, RNA, co...</td>\n",
       "      <td>[(BACKGROUND, :), (SARS, -, CoV-2, is, a, RNA,...</td>\n",
       "      <td>[(232, 233, DISCOV)]</td>\n",
       "    </tr>\n",
       "    <tr>\n",
       "      <th>10</th>\n",
       "      <td>Clinical course and outcome of 107 patients in...</td>\n",
       "      <td>BACKGROUND: In December 2019, coronavirus dise...</td>\n",
       "      <td>(BACKGROUND, :, In, December, 2019, ,, coronav...</td>\n",
       "      <td>[(BACKGROUND, :), (In, December, 2019, ,, coro...</td>\n",
       "      <td>[]</td>\n",
       "    </tr>\n",
       "    <tr>\n",
       "      <th>11</th>\n",
       "      <td>Hydroxychloroquine, a less toxic derivative of...</td>\n",
       "      <td></td>\n",
       "      <td>()</td>\n",
       "      <td>[]</td>\n",
       "      <td>[]</td>\n",
       "    </tr>\n",
       "    <tr>\n",
       "      <th>12</th>\n",
       "      <td>Lithium’s antiviral effects: a potential drug ...</td>\n",
       "      <td>BACKGROUND: Since its introduction in modern m...</td>\n",
       "      <td>(BACKGROUND, :, Since, its, introduction, in, ...</td>\n",
       "      <td>[(BACKGROUND, :), (Since, its, introduction, i...</td>\n",
       "      <td>[]</td>\n",
       "    </tr>\n",
       "    <tr>\n",
       "      <th>13</th>\n",
       "      <td>The novel coronavirus outbreak in Wuhan, China</td>\n",
       "      <td>The novel coronavirus (2019-nCoV, or COVID-19)...</td>\n",
       "      <td>(The, novel, coronavirus, (, 2019-nCoV, ,, or,...</td>\n",
       "      <td>[(The, novel, coronavirus, (, 2019-nCoV, ,, or...</td>\n",
       "      <td>[]</td>\n",
       "    </tr>\n",
       "    <tr>\n",
       "      <th>14</th>\n",
       "      <td>Therapeutic efficacy of Pudilan Xiaoyan Oral L...</td>\n",
       "      <td></td>\n",
       "      <td>()</td>\n",
       "      <td>[]</td>\n",
       "      <td>[]</td>\n",
       "    </tr>\n",
       "    <tr>\n",
       "      <th>15</th>\n",
       "      <td>2019 novel coronavirus of pneumonia in Wuhan, ...</td>\n",
       "      <td>An ongoing outbreak of 2019-nCoV pneumonia was...</td>\n",
       "      <td>(An, ongoing, outbreak, of, 2019-nCoV, pneumon...</td>\n",
       "      <td>[(An, ongoing, outbreak, of, 2019-nCoV, pneumo...</td>\n",
       "      <td>[]</td>\n",
       "    </tr>\n",
       "    <tr>\n",
       "      <th>16</th>\n",
       "      <td>COVID-19 and what pediatric rheumatologists sh...</td>\n",
       "      <td>On March 11th, 2020 the World Health Organizat...</td>\n",
       "      <td>(On, March, 11th, ,, 2020, the, World, Health,...</td>\n",
       "      <td>[(On, March, 11th, ,, 2020, the, World, Health...</td>\n",
       "      <td>[]</td>\n",
       "    </tr>\n",
       "    <tr>\n",
       "      <th>17</th>\n",
       "      <td>Successful recovery of COVID-19 pneumonia in a...</td>\n",
       "      <td>BACKGROUND: COVID-19 pandemics is a challenge ...</td>\n",
       "      <td>(BACKGROUND, :, COVID-19, pandemics, is, a, ch...</td>\n",
       "      <td>[(BACKGROUND, :), (COVID-19), (pandemics, is, ...</td>\n",
       "      <td>[(41, 42, DISCOV)]</td>\n",
       "    </tr>\n",
       "    <tr>\n",
       "      <th>18</th>\n",
       "      <td>When predictions are used to allocate scarce h...</td>\n",
       "      <td>Background: The need for life-saving intervent...</td>\n",
       "      <td>(Background, :, The, need, for, life, -, savin...</td>\n",
       "      <td>[(Background, :, The, need, for, life, -, savi...</td>\n",
       "      <td>[]</td>\n",
       "    </tr>\n",
       "  </tbody>\n",
       "</table>\n",
       "</div>"
      ],
      "text/plain": [
       "                                                title  \\\n",
       "0   Evaluation of the efficacy and safety of intra...   \n",
       "1   Role of adjunctive treatment strategies in COV...   \n",
       "2   Comparative therapeutic efficacy of remdesivir...   \n",
       "3   Therapeutic strategies for critically ill pati...   \n",
       "4   Battling COVID-19: using old weapons for a new...   \n",
       "5   The origin, transmission and clinical therapie...   \n",
       "6   SARS-CoV-2 RNA polymerase as target for antivi...   \n",
       "7   Current regulatory approaches for accessing po...   \n",
       "8   SARS-CoV-2 and COVID-19: The most important re...   \n",
       "9   Emerging SARS-CoV-2 mutation hot spots include...   \n",
       "10  Clinical course and outcome of 107 patients in...   \n",
       "11  Hydroxychloroquine, a less toxic derivative of...   \n",
       "12  Lithium’s antiviral effects: a potential drug ...   \n",
       "13     The novel coronavirus outbreak in Wuhan, China   \n",
       "14  Therapeutic efficacy of Pudilan Xiaoyan Oral L...   \n",
       "15  2019 novel coronavirus of pneumonia in Wuhan, ...   \n",
       "16  COVID-19 and what pediatric rheumatologists sh...   \n",
       "17  Successful recovery of COVID-19 pneumonia in a...   \n",
       "18  When predictions are used to allocate scarce h...   \n",
       "\n",
       "                                             abstract  \\\n",
       "0   BACKGROUND: Coronavirus disease 2019 (COVID-19...   \n",
       "1   The coronavirus disease (COVID-19) pandemic ha...   \n",
       "2   Middle East respiratory syndrome coronavirus (...   \n",
       "3   Since the 2019 novel coronavirus disease (COVI...   \n",
       "4   Coronavirus disease-19 (COVID-19) has reached ...   \n",
       "5   An acute respiratory disease, caused by a nove...   \n",
       "6   A new human coronavirus named SARS-CoV-2 was i...   \n",
       "7   This commentary aims to elaborate challenges i...   \n",
       "8   Coronavirus disease 2019 (COVID-19) caused by ...   \n",
       "9   BACKGROUND: SARS-CoV-2 is a RNA coronavirus re...   \n",
       "10  BACKGROUND: In December 2019, coronavirus dise...   \n",
       "11                                                      \n",
       "12  BACKGROUND: Since its introduction in modern m...   \n",
       "13  The novel coronavirus (2019-nCoV, or COVID-19)...   \n",
       "14                                                      \n",
       "15  An ongoing outbreak of 2019-nCoV pneumonia was...   \n",
       "16  On March 11th, 2020 the World Health Organizat...   \n",
       "17  BACKGROUND: COVID-19 pandemics is a challenge ...   \n",
       "18  Background: The need for life-saving intervent...   \n",
       "\n",
       "                                                  doc  \\\n",
       "0   (BACKGROUND, :, Coronavirus, disease, 2019, (,...   \n",
       "1   (The, coronavirus, disease, (, COVID-19, ), pa...   \n",
       "2   (Middle, East, respiratory, syndrome, coronavi...   \n",
       "3   (Since, the, 2019, novel, coronavirus, disease...   \n",
       "4   (Coronavirus, disease-19, (, COVID-19, ), has,...   \n",
       "5   (An, acute, respiratory, disease, ,, caused, b...   \n",
       "6   (A, new, human, coronavirus, named, SARS, -, C...   \n",
       "7   (This, commentary, aims, to, elaborate, challe...   \n",
       "8   (Coronavirus, disease, 2019, (, COVID-19, ), c...   \n",
       "9   (BACKGROUND, :, SARS, -, CoV-2, is, a, RNA, co...   \n",
       "10  (BACKGROUND, :, In, December, 2019, ,, coronav...   \n",
       "11                                                 ()   \n",
       "12  (BACKGROUND, :, Since, its, introduction, in, ...   \n",
       "13  (The, novel, coronavirus, (, 2019-nCoV, ,, or,...   \n",
       "14                                                 ()   \n",
       "15  (An, ongoing, outbreak, of, 2019-nCoV, pneumon...   \n",
       "16  (On, March, 11th, ,, 2020, the, World, Health,...   \n",
       "17  (BACKGROUND, :, COVID-19, pandemics, is, a, ch...   \n",
       "18  (Background, :, The, need, for, life, -, savin...   \n",
       "\n",
       "                                            sentences  \\\n",
       "0   [(BACKGROUND, :), (Coronavirus, disease, 2019,...   \n",
       "1   [(The, coronavirus, disease, (, COVID-19, ), p...   \n",
       "2   [(Middle, East, respiratory, syndrome, coronav...   \n",
       "3   [(Since, the, 2019, novel, coronavirus, diseas...   \n",
       "4   [(Coronavirus, disease-19, (, COVID-19, ), has...   \n",
       "5   [(An, acute, respiratory, disease, ,, caused, ...   \n",
       "6   [(A, new, human, coronavirus, named, SARS, -, ...   \n",
       "7   [(This, commentary, aims, to, elaborate, chall...   \n",
       "8   [(Coronavirus, disease, 2019, (, COVID-19, ), ...   \n",
       "9   [(BACKGROUND, :), (SARS, -, CoV-2, is, a, RNA,...   \n",
       "10  [(BACKGROUND, :), (In, December, 2019, ,, coro...   \n",
       "11                                                 []   \n",
       "12  [(BACKGROUND, :), (Since, its, introduction, i...   \n",
       "13  [(The, novel, coronavirus, (, 2019-nCoV, ,, or...   \n",
       "14                                                 []   \n",
       "15  [(An, ongoing, outbreak, of, 2019-nCoV, pneumo...   \n",
       "16  [(On, March, 11th, ,, 2020, the, World, Health...   \n",
       "17  [(BACKGROUND, :), (COVID-19), (pandemics, is, ...   \n",
       "18  [(Background, :, The, need, for, life, -, savi...   \n",
       "\n",
       "                                   discNER  \n",
       "0                                       []  \n",
       "1                                       []  \n",
       "2   [(79, 80, DISCOV), (161, 162, DISCOV)]  \n",
       "3                                       []  \n",
       "4                                       []  \n",
       "5                                       []  \n",
       "6                                       []  \n",
       "7                                       []  \n",
       "8                                       []  \n",
       "9                     [(232, 233, DISCOV)]  \n",
       "10                                      []  \n",
       "11                                      []  \n",
       "12                                      []  \n",
       "13                                      []  \n",
       "14                                      []  \n",
       "15                                      []  \n",
       "16                                      []  \n",
       "17                      [(41, 42, DISCOV)]  \n",
       "18                                      []  "
      ]
     },
     "execution_count": 26,
     "metadata": {},
     "output_type": "execute_result"
    }
   ],
   "source": [
    "dfRem.head(19)"
   ]
  },
  {
   "cell_type": "markdown",
   "metadata": {
    "slideshow": {
     "slide_type": "slide"
    }
   },
   "source": [
    "# Pattern elements"
   ]
  },
  {
   "cell_type": "code",
   "execution_count": 27,
   "metadata": {
    "slideshow": {
     "slide_type": "slide"
    }
   },
   "outputs": [
    {
     "name": "stdout",
     "output_type": "stream",
     "text": [
      "*****\n",
      "for Middle East respiratory syndrome coronavirus (MERS-CoV) is the causative agent of a severe respiratory disease associated with more than 2468 human infections and over 851 deaths in 27 countries since 2012.\n",
      "noun chunks: [Middle East respiratory syndrome coronavirus, MERS-CoV, the causative agent, a severe respiratory disease, more than 2468 human infections, 851 deaths, 27 countries]\n",
      "*****\n",
      "for There are no approved treatments for MERS-CoV infection although a combination of lopinavir, ritonavir and interferon beta (LPV/RTV-IFNb) is currently being evaluated in humans in the Kingdom of Saudi Arabia.\n",
      "noun chunks: [no approved treatments, MERS-CoV infection, a combination, lopinavir, ritonavir, interferon beta, (LPV/RTV-IFNb, humans, the Kingdom, Saudi Arabia]\n",
      "*****\n",
      "for Here, we show that remdesivir (RDV) and IFNb have superior antiviral activity to LPV and RTV in vitro.\n",
      "noun chunks: [we, remdesivir, (RDV, IFNb, superior antiviral activity, LPV, RTV]\n",
      "*****\n",
      "for In mice, both prophylactic and therapeutic RDV improve pulmonary function and reduce lung viral loads and severe lung pathology.\n",
      "noun chunks: [mice, RDV, pulmonary function, lung viral loads, severe lung pathology]\n",
      "*****\n",
      "for In contrast, prophylactic LPV/RTV-IFNb slightly reduces viral loads without impacting other disease parameters.\n",
      "noun chunks: [contrast, prophylactic LPV/RTV-IFNb, viral loads, other disease parameters]\n",
      "*****\n",
      "for Therapeutic LPV/RTV-IFNb improves pulmonary function but does not reduce virus replication or severe lung pathology.\n",
      "noun chunks: [Therapeutic LPV/RTV-IFNb, pulmonary function, virus replication, severe lung pathology]\n",
      "*****\n",
      "for Thus, we provide in vivo evidence of the potential for RDV to treat MERS-CoV infections.\n",
      "noun chunks: [we, vivo evidence, the potential, RDV, MERS-CoV infections]\n"
     ]
    }
   ],
   "source": [
    "for sent in exemplar:\n",
    "    print(f\"*****\\nfor {sent}\")\n",
    "    chunks=list(sent.noun_chunks)\n",
    "    print(\"noun chunks:\",chunks)"
   ]
  },
  {
   "cell_type": "markdown",
   "metadata": {
    "slideshow": {
     "slide_type": "slide"
    }
   },
   "source": [
    "## Factors\n"
   ]
  },
  {
   "cell_type": "code",
   "execution_count": 28,
   "metadata": {
    "slideshow": {
     "slide_type": "skip"
    }
   },
   "outputs": [],
   "source": [
    "import textacy\n",
    "import textacy.resources\n",
    "#rs.download()\n",
    "import textacy.ke\n",
    "rs = textacy.resources.ConceptNet()"
   ]
  },
  {
   "cell_type": "code",
   "execution_count": 29,
   "metadata": {
    "slideshow": {
     "slide_type": "skip"
    }
   },
   "outputs": [],
   "source": [
    "s=exemplar[6]"
   ]
  },
  {
   "cell_type": "code",
   "execution_count": 30,
   "metadata": {
    "slideshow": {
     "slide_type": "skip"
    }
   },
   "outputs": [
    {
     "data": {
      "text/plain": [
       "[RDV, MERS-CoV]"
      ]
     },
     "execution_count": 30,
     "metadata": {},
     "output_type": "execute_result"
    }
   ],
   "source": [
    "list(textacy.extract.entities(s))"
   ]
  },
  {
   "cell_type": "code",
   "execution_count": 31,
   "metadata": {
    "slideshow": {
     "slide_type": "skip"
    }
   },
   "outputs": [
    {
     "data": {
      "text/plain": [
       "[we, vivo evidence, potential, RDV, MERS-CoV infections]"
      ]
     },
     "execution_count": 31,
     "metadata": {},
     "output_type": "execute_result"
    }
   ],
   "source": [
    "list(textacy.extract.noun_chunks(s))"
   ]
  },
  {
   "cell_type": "code",
   "execution_count": 32,
   "metadata": {
    "slideshow": {
     "slide_type": "subslide"
    }
   },
   "outputs": [
    {
     "data": {
      "text/plain": [
       "[(RDV, to treat, CoV infections)]"
      ]
     },
     "execution_count": 32,
     "metadata": {},
     "output_type": "execute_result"
    }
   ],
   "source": [
    "l=list(textacy.extract.subject_verb_object_triples(s))\n",
    "l"
   ]
  },
  {
   "cell_type": "code",
   "execution_count": 33,
   "metadata": {
    "slideshow": {
     "slide_type": "skip"
    }
   },
   "outputs": [
    {
     "data": {
      "text/plain": [
       "to treat"
      ]
     },
     "execution_count": 33,
     "metadata": {},
     "output_type": "execute_result"
    }
   ],
   "source": [
    "_,v,_=l[0]\n",
    "v"
   ]
  },
  {
   "cell_type": "code",
   "execution_count": 40,
   "metadata": {
    "slideshow": {
     "slide_type": "skip"
    }
   },
   "outputs": [
    {
     "data": {
      "text/plain": [
       "[for, RDV, to, treat, MERS, -, CoV, infections]"
      ]
     },
     "execution_count": 40,
     "metadata": {},
     "output_type": "execute_result"
    }
   ],
   "source": [
    "list(v.subtree)"
   ]
  },
  {
   "cell_type": "code",
   "execution_count": 45,
   "metadata": {
    "slideshow": {
     "slide_type": "skip"
    }
   },
   "outputs": [
    {
     "data": {
      "text/plain": [
       "[for, RDV]"
      ]
     },
     "execution_count": 45,
     "metadata": {},
     "output_type": "execute_result"
    }
   ],
   "source": [
    "list(v.lefts)"
   ]
  },
  {
   "cell_type": "markdown",
   "metadata": {
    "slideshow": {
     "slide_type": "slide"
    }
   },
   "source": [
    "## similarity "
   ]
  },
  {
   "cell_type": "code",
   "execution_count": 34,
   "metadata": {
    "slideshow": {
     "slide_type": "skip"
    }
   },
   "outputs": [],
   "source": [
    "def similar_nchunks(doc,keyterm,cumlist,threshhold=0.5):\n",
    "    key=nlp(keyterm)\n",
    "    chunks=list(doc.noun_chunks)\n",
    "    for noun in chunks:\n",
    "        simval=noun.similarity(key)\n",
    "        if simval>threshhold:\n",
    "            cumlist.append((noun,simval))\n",
    "    return(cumlist)"
   ]
  },
  {
   "cell_type": "markdown",
   "metadata": {
    "slideshow": {
     "slide_type": "skip"
    }
   },
   "source": [
    "# Causal reconstruction"
   ]
  },
  {
   "cell_type": "markdown",
   "metadata": {
    "slideshow": {
     "slide_type": "skip"
    }
   },
   "source": [
    "## Causes, relevant causal factors"
   ]
  },
  {
   "cell_type": "code",
   "execution_count": 37,
   "metadata": {
    "slideshow": {
     "slide_type": "slide"
    }
   },
   "outputs": [
    {
     "data": {
      "text/plain": [
       "[(the causative agent, 0.7939071980284536),\n",
       " (adjunctive agents, 0.6236452101155399),\n",
       " (the antiviral properties, 0.526081203569923),\n",
       " (an antiviral agent, 0.7801708209980864),\n",
       " (antiviral agent, 0.7826824688710227),\n",
       " (investigational agents, 0.645840763294751),\n",
       " (an antiviral agent, 0.7801708209980864),\n",
       " (antiviral agents, 0.6711018678024206),\n",
       " (COVID-19 and anticancer agents, 0.6757634646731178),\n",
       " (other antiviral agents, 0.6656073448165073),\n",
       " (These agents, 0.664216703793501),\n",
       " (iron chelating agents, 0.6223720438296962),\n",
       " (the causative agent, 0.7939071980284536),\n",
       " (the causative agent, 0.7939071980284536),\n",
       " (each anti-coronavirus agents, 0.5591464172720746),\n",
       " (other anti-coronavirus agents, 0.5588481449742129),\n",
       " (the causative agent, 0.7939071980284536),\n",
       " (effective antiviral agents, 0.6482813972279166),\n",
       " (therapeutic agents, 0.6809085885018754),\n",
       " (commonly utilized antiinflammatory agents, 0.6073953910142822),\n",
       " (Other agents, 0.7175655901380203),\n",
       " (concomitant QTc-prolonging agents, 0.5463505502745432),\n",
       " (the investigational agents, 0.6717485152859215),\n",
       " (Antiviral agents, 0.6711018678024206),\n",
       " (both antiviral and immune modulating agents, 0.5632469183166106),\n",
       " (these agents, 0.664216703793501),\n",
       " (agents, 0.8153090034387023),\n",
       " (an effective agent, 0.7838778477763372),\n",
       " (specific chemotherapeutic agents, 0.6803979188888929),\n",
       " (the antiviral properties, 0.526081203569923),\n",
       " (finally the antioxidant properties, 0.5150404929287944),\n",
       " (these agents, 0.664216703793501),\n",
       " (many investigational therapeutic agents, 0.5723336801797261),\n",
       " (therapeutic agents, 0.6809085885018754),\n",
       " (their antimetabolite agent, 0.8420334019710105),\n",
       " (efficacious single agents, 0.6502244553157885),\n",
       " (available broad-spectrum antiviral agents, 0.5229627025597319),\n",
       " (the etiologic agent, 0.8833144802685118),\n",
       " (the causative agent, 0.7939071980284536),\n",
       " (the causative agent, 0.7939071980284536),\n",
       " (Several therapeutic agents, 0.6388551047965758),\n",
       " (pharmaceutical agent, 0.8136499280361724),\n",
       " (a therapeutic and/or prophylactic agent, 0.6713332659873986),\n",
       " (effective therapeutic agents, 0.6351749125472932),\n",
       " (therapeutic agents, 0.6809085885018754),\n",
       " (antiviral agents, 0.6711018678024206),\n",
       " (several therapeutic agents, 0.6388551047965758),\n",
       " (an agent, 0.8716072405148166),\n",
       " (potential neurotropic properties, 0.5271681378493734),\n",
       " (Oral agent-based regimens, 0.6403839451445666),\n",
       " (anti-diabetic agents, 0.5678184871874289),\n",
       " (antiviral agents, 0.6711018678024206),\n",
       " (the infectious agent, 0.7415942424101261),\n",
       " (the pharmacologic agents, 0.659656579694165),\n",
       " (various pharmacologic agents, 0.5957044558604343),\n",
       " (the causative agent, 0.7939071980284536),\n",
       " (clinical agents, 0.6410126883790476),\n",
       " (investigational agents, 0.645840763294751),\n",
       " (agents, 0.8153090034387023),\n",
       " (antiviral agents, 0.6711018678024206),\n",
       " (other anti-viral agents, 0.5810109927899044),\n",
       " (new antiviral agents, 0.6638929411010951),\n",
       " (new antiviral agents, 0.6638929411010951),\n",
       " (the causative agent, 0.7939071980284536),\n",
       " (the viral agent, 0.761297874217502),\n",
       " (the etiologic agent, 0.8833144802685118),\n",
       " (potential agents, 0.7439982175600183),\n",
       " (specific therapeutic agents, 0.6431433460021345),\n",
       " (the causative agent, 0.7939071980284536),\n",
       " (therapeutic agents, 0.6809085885018754),\n",
       " (agents, 0.8153090034387023),\n",
       " (antiviral agents, 0.6711018678024206),\n",
       " (natural anti-COVID-19 therapeutic agents, 0.5511705387875199),\n",
       " (the causative agent, 0.7939071980284536),\n",
       " (causative agent, 0.8056104844910551),\n",
       " (the antiviral properties, 0.526081203569923),\n",
       " (a given chemical property, 0.5242644571080257),\n",
       " (such chemical properties, 0.5143966717333915),\n",
       " (known anti-HIV agents, 0.585744812858712),\n",
       " (These agents, 0.664216703793501),\n",
       " (the causative agent, 0.7939071980284536),\n",
       " (Most antiviral agents, 0.6544010942547608),\n",
       " (promising agents, 0.7274380225304623),\n",
       " (Two potential antiinflammatory agents, 0.6566065647288467),\n",
       " (the etiological agent, 0.7701459868027897),\n",
       " (an oral anti-viral agent, 0.6427371427780808),\n",
       " (antiinflammatory agents, 0.6444156442033154),\n",
       " (an anti-interleukin 6 agent, 0.6185502090165778),\n",
       " (single-agent interventions, 0.639097957535015),\n",
       " (new agents, 0.7196717148620362),\n",
       " (an antimicrobial and anti-SARS and MERS agent, 0.6233010413080737),\n",
       " (current agents, 0.7308150000357092),\n",
       " (potential therapeutic agents, 0.6652770395373478),\n",
       " (the causative agent, 0.7939071980284536),\n",
       " (the therapeutic properties, 0.5022698329534234),\n",
       " (the causative agent, 0.7939071980284536),\n",
       " (the therapeutic properties, 0.5022698329534234),\n",
       " (lt;p id=\"p0030\"&gt;Several agents, 0.8153089951033611),\n",
       " (several antiviral agents, 0.6469923056307791),\n",
       " (effective antimicrobial agents, 0.6547862499064567),\n",
       " (various agents, 0.6806443746820119),\n",
       " (agent, 1.0),\n",
       " (therapeutic agents, 0.6809085885018754),\n",
       " (therapeutic agents, 0.6809085885018754),\n",
       " (antiviral agents, 0.6711018678024206),\n",
       " (supporting agents, 0.6861941156487653),\n",
       " (the most commonly used agent, 0.6370687031464444),\n",
       " (effective therapeutic agents, 0.6351749125472932),\n",
       " (established agents, 0.7220701123550108),\n",
       " (antiviral agents, 0.6711018678024206),\n",
       " (a potential agent, 0.7958939035823274),\n",
       " (the causative agent, 0.7939071980284536),\n",
       " (immunosuppressive agents, 0.6325512884508374),\n",
       " (other antiviral agents, 0.6656073448165073),\n",
       " (the causative agent, 0.7939071980284536),\n",
       " (the etiologic agent, 0.8833144802685118),\n",
       " (both repurposed and novel therapeutic agents, 0.546390953634631),\n",
       " (agents, 0.8153090034387023),\n",
       " (pharmacological agents, 0.6492231187799522),\n",
       " (infectious agents, 0.6462526310206902),\n",
       " (broad-spectrum antiviral agents, 0.5255020890806198),\n",
       " (The antiviral properties, 0.526081203569923),\n",
       " (novel agents, 0.6867688335402304),\n",
       " (antiviral agents, 0.6711018678024206),\n",
       " (the therapeutic agents, 0.6802064999922154),\n",
       " (the causative agent, 0.7939071980284536),\n",
       " (the causative agent, 0.7939071980284536),\n",
       " (the causative agent, 0.7939071980284536),\n",
       " (biologic agents, 0.6497018251842372),\n",
       " (such agents, 0.7245027506258905),\n",
       " (the aetiological agent, 0.8833144802685118),\n",
       " (a potent therapeutic agent, 0.7017059400145252),\n",
       " (a potent antiviral agent, 0.7080173824952076),\n",
       " (these agents, 0.664216703793501),\n",
       " (these agents, 0.664216703793501),\n",
       " (these agents, 0.664216703793501),\n",
       " (other agents, 0.7175655901380203),\n",
       " (these agents, 0.664216703793501),\n",
       " (these agents, 0.664216703793501),\n",
       " (these agents, 0.664216703793501),\n",
       " (these agents, 0.664216703793501),\n",
       " (potent antiviral agents, 0.619818964145487),\n",
       " (antiparasitic agents, 0.8153090034387023),\n",
       " (especially anti-IL-6 agents, 0.5898483119771737),\n",
       " (alternative agents, 0.7007402028494587),\n",
       " (a causative agent, 0.7821489119374051),\n",
       " (antiviral agents, 0.6711018678024206),\n",
       " (the etiologic agent, 0.8833144802685118),\n",
       " (adrenergic agents, 0.5927943198900602),\n",
       " (antineoplastic agents, 0.6511359227347611),\n",
       " (harmful or potential key therapeutic agents, 0.6040263885514953),\n",
       " (chemotherapeutic agents, 0.6797497763496565),\n",
       " (appropriate antimicrobial agents, 0.668720046753909),\n",
       " (the causative agent, 0.7939071980284536),\n",
       " (a causative agent, 0.7821489119374051),\n",
       " (an antiviral agent, 0.7801708209980864),\n",
       " (several agents, 0.6953635924409552),\n",
       " (no effective therapeutic agent, 0.7026159070149146),\n",
       " (its causative agent, 0.7521757724595777),\n",
       " (the agent, 0.8833144583402245),\n",
       " (the causative agent, 0.7939071980284536),\n",
       " (the causative agent, 0.7939071980284536),\n",
       " (no approved specific antiviral agents, 0.6269934929413331),\n",
       " (antiviral agents, 0.6711018678024206),\n",
       " (a potential prophylactic agent, 0.7336730272890412),\n",
       " (the causative agent, 0.7939071980284536),\n",
       " (no specific therapeutic agents, 0.6303426266100305),\n",
       " (antiviral agents, 0.6711018678024206),\n",
       " (highly successful chemotherapeutic agents, 0.658342406945881),\n",
       " (potential anticancer agents, 0.6716284945838279),\n",
       " (the etiological agent, 0.7701459868027897),\n",
       " (anti‐viral agents, 0.8153090034387023),\n",
       " (the causative agent, 0.7939071980284536),\n",
       " (the causative agent, 0.7939071980284536),\n",
       " (The causative agent, 0.7939071980284536),\n",
       " (An ideal antiviral agent, 0.7366811636950032),\n",
       " (antiviral agents, 0.6711018678024206),\n",
       " (therapeutic and preventative agents, 0.5908827176506639),\n",
       " (agents, 0.8153090034387023),\n",
       " (the preferred agent, 0.8139930426770535),\n",
       " (The causative agent, 0.7939071980284536),\n",
       " (the etiological agent, 0.7701459868027897),\n",
       " (the causative agent, 0.7939071980284536),\n",
       " (an antiretroviral agent, 0.7177904402834447),\n",
       " (efficient therapeutic agents, 0.6350444625462307),\n",
       " (a specific therapeutic agent, 0.7114854772322079),\n",
       " (a specific therapeutic agent, 0.7114854772322079),\n",
       " (effective antiviral agents, 0.6482813972279166),\n",
       " (such agents, 0.7245027506258905),\n",
       " (The broad-spectrum antiparasitic agent ivermectin, 0.5706790355880779),\n",
       " (antiviral agents, 0.6711018678024206),\n",
       " (antiviral agents, 0.6711018678024206),\n",
       " (antiviral agents, 0.6711018678024206),\n",
       " (antiviral agents, 0.6711018678024206),\n",
       " (existing antiviral agents, 0.6362968509406524),\n",
       " (Antiviral agents, 0.6711018678024206),\n",
       " (Many other antiviral agents, 0.6055107589620073),\n",
       " (anti-viral agents, 0.5737995162479584),\n",
       " (similar viral agents, 0.6323573673572153),\n",
       " (two new antiviral agents, 0.6262659810594141),\n",
       " (potential therapeutic agents, 0.6652770395373478),\n",
       " (The causative\n",
       "  viral agent,\n",
       "  0.699515751691905),\n",
       " (promising agents, 0.7274380225304623),\n",
       " (a highly potent agent, 0.7150912279765316),\n",
       " (no specific antiviral agent, 0.7310961130552573),\n",
       " (the existing therapeutic agents, 0.6147366736825371),\n",
       " (these agents, 0.664216703793501),\n",
       " (These agents, 0.664216703793501),\n",
       " (arginine-directed glycating agent, 0.6756328353654133),\n",
       " (other antiretroviral agents, 0.5954693674744914),\n",
       " (biological agents, 0.6857954211967311),\n",
       " (possible less toxic and easily accessible therapeutic agents,\n",
       "  0.5213059037237543),\n",
       " (the causative agent, 0.7939071980284536),\n",
       " (the etiological agent, 0.7701459868027897),\n",
       " (anti-COVID-19 agent remdesivir, 0.7137582664748136),\n",
       " (Two antimalarial agents, 0.621677874903643),\n",
       " (These agents, 0.664216703793501),\n",
       " (the subsequent agents, 0.677005297386734),\n",
       " (the probable causative agent, 0.7293782212102663),\n",
       " (physical and chemical damaging agents, 0.5833667989111253),\n",
       " (potential therapeutic agents, 0.6652770395373478),\n",
       " (Agents, 0.8153090034387023),\n",
       " (potential therapeutic agents, 0.6652770395373478),\n",
       " (these agents, 0.664216703793501),\n",
       " (new agents, 0.7196717148620362),\n",
       " (the therapeutic agents, 0.6802064999922154),\n",
       " (the causative agent, 0.7939071980284536),\n",
       " (immunomodulatory agents, 0.8153090034387023),\n",
       " (the causal agent, 0.7513687951564683),\n",
       " (the agent, 0.8833144583402245),\n",
       " (dangerous biological agents, 0.6362211142079094),\n",
       " (such agents, 0.7245027506258905),\n",
       " (viral biothreat agents, 0.6634171553697659),\n",
       " (biothreat agents, 0.8153090034387023),\n",
       " (broad-spectrum antiviral agents, 0.5255020890806198),\n",
       " (the agent, 0.8833144583402245),\n",
       " (the causative agent, 0.7939071980284536),\n",
       " (agents, 0.8153090034387023),\n",
       " (the causative agent, 0.7939071980284536),\n",
       " (a broad-spectrum agent tilorone dihydrochloride, 0.589696927383307),\n",
       " (an anticoagulation agent dipyridamole, 0.7317345907951015),\n",
       " (the etiologic agent, 0.8833144802685118),\n",
       " (effective therapeutic agents, 0.6351749125472932),\n",
       " (the causative agent, 0.7939071980284536),\n",
       " (the potential prophylactic and treatment agents, 0.6117468515249262),\n",
       " (a multi-target agent, 0.6584631112426667),\n",
       " (a multi-target agent, 0.6584631112426667),\n",
       " (The etiological agent, 0.7701459868027897),\n",
       " (the etiological agent, 0.7701459868027897),\n",
       " (virustatic agents, 0.8153090034387023),\n",
       " (any particular agent, 0.7770092022436482),\n",
       " (specific therapeutic agents, 0.6431433460021345),\n",
       " (antiviral agents, 0.6711018678024206),\n",
       " (therapeutic agents, 0.6809085885018754),\n",
       " (thus effective antiviral agents, 0.6395181802595353),\n",
       " (potential agents, 0.7439982175600183),\n",
       " (a potent antiviral agent, 0.7080173824952076),\n",
       " (no approved specific antiviral agents, 0.6269934929413331),\n",
       " (antiviral agents, 0.6711018678024206),\n",
       " (the causative agent, 0.7939071980284536),\n",
       " (antiviral agents, 0.6711018678024206),\n",
       " (agents, 0.8153090034387023),\n",
       " (the causative agent, 0.7939071980284536),\n",
       " (the causative agent, 0.7939071980284536),\n",
       " (two other anti-viral agents, 0.5640977329928917),\n",
       " (a potential therapeutic agent, 0.7309797084554696),\n",
       " (, three cardiotonic agents, 0.6375778227493815),\n",
       " (agents, 0.8153090034387023),\n",
       " (existing antiviral agents, 0.6362968509406524),\n",
       " (existing antiviral agents, 0.6362968509406524),\n",
       " (several agents, 0.6953635924409552),\n",
       " (any effective antiviral agents, 0.658750001936348),\n",
       " (a new antiviral agent remdesivir, 0.7324056779771629),\n",
       " (the causative agent, 0.7939071980284536),\n",
       " (An active compound, 0.5133699890941763),\n",
       " (an active, approved drug, 0.5031546178834148),\n",
       " (agents, 0.8153090034387023),\n",
       " (Effective antiviral and anti-coagulation agents, 0.5810377654107899),\n",
       " (an anticoagulant agent, 0.7657724248916106),\n",
       " (the etiological agent, 0.7701459868027897),\n",
       " (etiological agent, 0.7559033452079281),\n",
       " (broad spectrum anti-viral agents, 0.5015623142100194),\n",
       " (broad spectrum anti-coronaviral agents, 0.5040944439803647),\n",
       " (broad spectrum anti-coronaviral agents, 0.5040944439803647),\n",
       " (The causative agent, 0.7939071980284536),\n",
       " (various antiviral and immunomodulating agents, 0.5946888134927119),\n",
       " (certain agents, 0.7395747668418956),\n",
       " (The most frequently used agents, 0.575965263705665),\n",
       " (several antiviral agents, 0.6469923056307791),\n",
       " (a few promising therapeutic agents, 0.5946885060461047),\n",
       " (each agent, 0.8327308826497968),\n",
       " (an infectious agent, 0.7470004476533799),\n",
       " (therapeutic agents, 0.6809085885018754),\n",
       " (the known properties, 0.506702887274492),\n",
       " (the agents, 0.7581703941209817),\n",
       " (existing antiviral agents, 0.6362968509406524),\n",
       " (a potential therapeutic agent, 0.7309797084554696),\n",
       " (an antifungal drug, 0.5055547119912037),\n",
       " (the causative agent, 0.7939071980284536),\n",
       " (no approved antiviral agent, 0.7133724865293426),\n",
       " (therapeutic agents, 0.6809085885018754),\n",
       " (Immunosuppressive agents, 0.6325512884508374),\n",
       " (arginine-directed glycating agent, 0.6756328353654133),\n",
       " (Agency, 0.5472687897429757)]"
      ]
     },
     "execution_count": 37,
     "metadata": {},
     "output_type": "execute_result"
    }
   ],
   "source": [
    "cumlist=[]\n",
    "dfRem[\"doc\"].apply(lambda x:similar_nchunks(x,\"agent\",cumlist))\n",
    "cumlist"
   ]
  },
  {
   "cell_type": "code",
   "execution_count": 38,
   "metadata": {
    "slideshow": {
     "slide_type": "slide"
    }
   },
   "outputs": [
    {
     "data": {
      "text/plain": [
       "464"
      ]
     },
     "execution_count": 38,
     "metadata": {},
     "output_type": "execute_result"
    }
   ],
   "source": [
    "cumlist=[]\n",
    "dfRem[\"doc\"].apply(lambda x:similar_nchunks(x,\"evidence\",cumlist,threshhold=0.7))\n",
    "len(cumlist)"
   ]
  },
  {
   "cell_type": "markdown",
   "metadata": {
    "slideshow": {
     "slide_type": "slide"
    }
   },
   "source": [
    "# Thank you"
   ]
  }
 ],
 "metadata": {
  "celltoolbar": "Slideshow",
  "kernelspec": {
   "display_name": "Python 3",
   "language": "python",
   "name": "python3"
  },
  "language_info": {
   "codemirror_mode": {
    "name": "ipython",
    "version": 3
   },
   "file_extension": ".py",
   "mimetype": "text/x-python",
   "name": "python",
   "nbconvert_exporter": "python",
   "pygments_lexer": "ipython3",
   "version": "3.7.7"
  }
 },
 "nbformat": 4,
 "nbformat_minor": 4
}
