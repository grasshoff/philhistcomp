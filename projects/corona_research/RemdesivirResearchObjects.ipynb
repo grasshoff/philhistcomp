{
 "cells": [
  {
   "cell_type": "markdown",
   "metadata": {},
   "source": [
    "# Project Corona\n",
    "## Philosophy and History of Science with Computational Means\n",
    "Prof Dr. Gerd Graßhoff\n",
    "## 1: Research Objects"
   ]
  },
  {
   "cell_type": "markdown",
   "metadata": {},
   "source": [
    "# Libraries"
   ]
  },
  {
   "cell_type": "code",
<<<<<<< HEAD
   "execution_count": 162,
=======
   "execution_count": 28,
>>>>>>> 537c67f305973a8fa6c258d8c79dddf636e7dde9
   "metadata": {},
   "outputs": [],
   "source": [
    "import pandas as pd"
   ]
  },
  {
   "cell_type": "markdown",
   "metadata": {},
   "source": [
    "# Source Data"
   ]
  },
  {
   "cell_type": "code",
<<<<<<< HEAD
   "execution_count": 163,
=======
   "execution_count": 29,
>>>>>>> 537c67f305973a8fa6c258d8c79dddf636e7dde9
   "metadata": {},
   "outputs": [],
   "source": [
    "dfCov=pd.read_json(\"dfremdesivier.json\")"
   ]
  },
  {
   "cell_type": "code",
<<<<<<< HEAD
   "execution_count": 164,
=======
   "execution_count": 30,
>>>>>>> 537c67f305973a8fa6c258d8c79dddf636e7dde9
   "metadata": {},
   "outputs": [
    {
     "name": "stdout",
     "output_type": "stream",
     "text": [
      "<class 'pandas.core.frame.DataFrame'>\n",
      "Int64Index: 2180 entries, 0 to 2179\n",
      "Data columns (total 21 columns):\n",
      " #   Column                Non-Null Count  Dtype  \n",
      "---  ------                --------------  -----  \n",
      " 0   index                 2180 non-null   int64  \n",
      " 1   PMID                  1257 non-null   float64\n",
      " 2   title                 2135 non-null   object \n",
      " 3   aff_org_name          1893 non-null   object \n",
      " 4   author_list           2090 non-null   object \n",
      " 5   researcher_dim_id     1506 non-null   object \n",
      " 6   researcher_dim_count  1506 non-null   float64\n",
      " 7   journal_title         2113 non-null   object \n",
      " 8   language              2073 non-null   object \n",
      " 9   abstract              2135 non-null   object \n",
      " 10  open_access           2135 non-null   float64\n",
      " 11  publisher             2039 non-null   object \n",
      " 12  aff_city_name         1842 non-null   object \n",
      " 13  aff_country_name      1864 non-null   object \n",
      " 14  doi                   2127 non-null   object \n",
      " 15  pub_date              2135 non-null   object \n",
      " 16  pub_year              2135 non-null   float64\n",
      " 17  times_cited           2135 non-null   float64\n",
      " 18  altmetric_id          2135 non-null   float64\n",
      " 19  altmetric             1582 non-null   float64\n",
      " 20  authors_full          2135 non-null   object \n",
      "dtypes: float64(7), int64(1), object(13)\n",
      "memory usage: 374.7+ KB\n"
     ]
    }
   ],
   "source": [
    "dfCov.info()"
   ]
  },
  {
   "cell_type": "code",
<<<<<<< HEAD
   "execution_count": 165,
=======
   "execution_count": 31,
>>>>>>> 537c67f305973a8fa6c258d8c79dddf636e7dde9
   "metadata": {},
   "outputs": [
    {
     "data": {
      "text/plain": [
       "2180"
      ]
     },
<<<<<<< HEAD
     "execution_count": 165,
=======
     "execution_count": 31,
>>>>>>> 537c67f305973a8fa6c258d8c79dddf636e7dde9
     "metadata": {},
     "output_type": "execute_result"
    }
   ],
   "source": [
    "len(dfCov)"
   ]
  },
  {
   "cell_type": "code",
<<<<<<< HEAD
   "execution_count": 166,
=======
   "execution_count": 32,
>>>>>>> 537c67f305973a8fa6c258d8c79dddf636e7dde9
   "metadata": {},
   "outputs": [
    {
     "data": {
      "text/html": [
       "<div>\n",
       "<style scoped>\n",
       "    .dataframe tbody tr th:only-of-type {\n",
       "        vertical-align: middle;\n",
       "    }\n",
       "\n",
       "    .dataframe tbody tr th {\n",
       "        vertical-align: top;\n",
       "    }\n",
       "\n",
       "    .dataframe thead th {\n",
       "        text-align: right;\n",
       "    }\n",
       "</style>\n",
       "<table border=\"1\" class=\"dataframe\">\n",
       "  <thead>\n",
       "    <tr style=\"text-align: right;\">\n",
       "      <th></th>\n",
       "      <th>index</th>\n",
       "      <th>PMID</th>\n",
       "      <th>title</th>\n",
       "      <th>aff_org_name</th>\n",
       "      <th>author_list</th>\n",
       "      <th>researcher_dim_id</th>\n",
       "      <th>researcher_dim_count</th>\n",
       "      <th>journal_title</th>\n",
       "      <th>language</th>\n",
       "      <th>abstract</th>\n",
       "      <th>...</th>\n",
       "      <th>publisher</th>\n",
       "      <th>aff_city_name</th>\n",
       "      <th>aff_country_name</th>\n",
       "      <th>doi</th>\n",
       "      <th>pub_date</th>\n",
       "      <th>pub_year</th>\n",
       "      <th>times_cited</th>\n",
       "      <th>altmetric_id</th>\n",
       "      <th>altmetric</th>\n",
       "      <th>authors_full</th>\n",
       "    </tr>\n",
       "  </thead>\n",
       "  <tbody>\n",
       "    <tr>\n",
       "      <th>0</th>\n",
       "      <td>0</td>\n",
       "      <td>32448345.0</td>\n",
       "      <td>Evaluation of the efficacy and safety of intra...</td>\n",
       "      <td>[University of Virginia, Renmin Hospital of Wu...</td>\n",
       "      <td>Yeming Wang, Fei Zhou, Dingyu Zhang, Jianping ...</td>\n",
       "      <td>None</td>\n",
       "      <td>NaN</td>\n",
       "      <td>Trials</td>\n",
       "      <td>en</td>\n",
       "      <td>BACKGROUND: Coronavirus disease 2019 (COVID-19...</td>\n",
       "      <td>...</td>\n",
       "      <td>Springer Nature</td>\n",
       "      <td>[Beijing, Oxford, Lancaster, Wuhan, Charlottes...</td>\n",
       "      <td>[United States, United Kingdom, China]</td>\n",
       "      <td>10.1186/s13063-020-04352-9</td>\n",
       "      <td>2020-12</td>\n",
       "      <td>2020.0</td>\n",
       "      <td>0.0</td>\n",
       "      <td>82867165.0</td>\n",
       "      <td>1.0</td>\n",
       "      <td>[Yeming Wang, Fei Zhou, Dingyu Zhang, Jianping...</td>\n",
       "    </tr>\n",
       "    <tr>\n",
       "      <th>1</th>\n",
       "      <td>1</td>\n",
       "      <td>32370766.0</td>\n",
       "      <td>Role of adjunctive treatment strategies in COV...</td>\n",
       "      <td>[National University of Singapore, Department ...</td>\n",
       "      <td>Xinni Xu, Yew Kwang Ong, De Yun Wang</td>\n",
       "      <td>[ur.01301012403.08, ur.0653027373.10, ur.07020...</td>\n",
       "      <td>3.0</td>\n",
       "      <td>Military Medical Research</td>\n",
       "      <td>en</td>\n",
       "      <td>The coronavirus disease (COVID-19) pandemic ha...</td>\n",
       "      <td>...</td>\n",
       "      <td>None</td>\n",
       "      <td>[Singapore]</td>\n",
       "      <td>[Singapore]</td>\n",
       "      <td>10.1186/s40779-020-00251-x</td>\n",
       "      <td>2020-12</td>\n",
       "      <td>2020.0</td>\n",
       "      <td>0.0</td>\n",
       "      <td>81691144.0</td>\n",
       "      <td>10.0</td>\n",
       "      <td>[Xinni Xu, Yew Kwang Ong, De Yun Wang]</td>\n",
       "    </tr>\n",
       "  </tbody>\n",
       "</table>\n",
       "<p>2 rows × 21 columns</p>\n",
       "</div>"
      ],
      "text/plain": [
       "   index        PMID                                              title  \\\n",
       "0      0  32448345.0  Evaluation of the efficacy and safety of intra...   \n",
       "1      1  32370766.0  Role of adjunctive treatment strategies in COV...   \n",
       "\n",
       "                                        aff_org_name  \\\n",
       "0  [University of Virginia, Renmin Hospital of Wu...   \n",
       "1  [National University of Singapore, Department ...   \n",
       "\n",
       "                                         author_list  \\\n",
       "0  Yeming Wang, Fei Zhou, Dingyu Zhang, Jianping ...   \n",
       "1               Xinni Xu, Yew Kwang Ong, De Yun Wang   \n",
       "\n",
       "                                   researcher_dim_id  researcher_dim_count  \\\n",
       "0                                               None                   NaN   \n",
       "1  [ur.01301012403.08, ur.0653027373.10, ur.07020...                   3.0   \n",
       "\n",
       "               journal_title language  \\\n",
       "0                     Trials       en   \n",
       "1  Military Medical Research       en   \n",
       "\n",
       "                                            abstract  ...        publisher  \\\n",
       "0  BACKGROUND: Coronavirus disease 2019 (COVID-19...  ...  Springer Nature   \n",
       "1  The coronavirus disease (COVID-19) pandemic ha...  ...             None   \n",
       "\n",
       "                                       aff_city_name  \\\n",
       "0  [Beijing, Oxford, Lancaster, Wuhan, Charlottes...   \n",
       "1                                        [Singapore]   \n",
       "\n",
       "                         aff_country_name                         doi  \\\n",
       "0  [United States, United Kingdom, China]  10.1186/s13063-020-04352-9   \n",
       "1                             [Singapore]  10.1186/s40779-020-00251-x   \n",
       "\n",
       "  pub_date pub_year  times_cited  altmetric_id  altmetric  \\\n",
       "0  2020-12   2020.0          0.0    82867165.0        1.0   \n",
       "1  2020-12   2020.0          0.0    81691144.0       10.0   \n",
       "\n",
       "                                        authors_full  \n",
       "0  [Yeming Wang, Fei Zhou, Dingyu Zhang, Jianping...  \n",
       "1             [Xinni Xu, Yew Kwang Ong, De Yun Wang]  \n",
       "\n",
       "[2 rows x 21 columns]"
      ]
     },
<<<<<<< HEAD
     "execution_count": 166,
=======
     "execution_count": 32,
>>>>>>> 537c67f305973a8fa6c258d8c79dddf636e7dde9
     "metadata": {},
     "output_type": "execute_result"
    }
   ],
   "source": [
    "dfCov.head(2)"
   ]
  },
  {
   "cell_type": "markdown",
   "metadata": {},
   "source": [
    "# Transforming source data\n",
    "\n",
    "Transforms data frames into parts, extracts the columns of interest, imports other data, processes individual datasets to obtain a group of dataframes, which as a group are the sole data basis for the subsequent analysis steps. In \"solutions\" you will find examples for the transformation of dataframes"
   ]
  },
  {
   "cell_type": "code",
<<<<<<< HEAD
   "execution_count": 167,
=======
   "execution_count": 33,
>>>>>>> 537c67f305973a8fa6c258d8c79dddf636e7dde9
   "metadata": {},
   "outputs": [],
   "source": [
    "# slice\n",
    "df=dfCov[:10]"
   ]
  },
  {
   "cell_type": "code",
<<<<<<< HEAD
   "execution_count": 168,
=======
   "execution_count": 34,
>>>>>>> 537c67f305973a8fa6c258d8c79dddf636e7dde9
   "metadata": {},
   "outputs": [
    {
     "data": {
      "text/html": [
       "<div>\n",
       "<style scoped>\n",
       "    .dataframe tbody tr th:only-of-type {\n",
       "        vertical-align: middle;\n",
       "    }\n",
       "\n",
       "    .dataframe tbody tr th {\n",
       "        vertical-align: top;\n",
       "    }\n",
       "\n",
       "    .dataframe thead th {\n",
       "        text-align: right;\n",
       "    }\n",
       "</style>\n",
       "<table border=\"1\" class=\"dataframe\">\n",
       "  <thead>\n",
       "    <tr style=\"text-align: right;\">\n",
       "      <th></th>\n",
       "      <th>PMID</th>\n",
       "      <th>title</th>\n",
       "      <th>abstract</th>\n",
       "    </tr>\n",
       "  </thead>\n",
       "  <tbody>\n",
       "    <tr>\n",
       "      <th>0</th>\n",
       "      <td>32448345.0</td>\n",
       "      <td>Evaluation of the efficacy and safety of intra...</td>\n",
       "      <td>BACKGROUND: Coronavirus disease 2019 (COVID-19...</td>\n",
       "    </tr>\n",
       "    <tr>\n",
       "      <th>1</th>\n",
       "      <td>32370766.0</td>\n",
       "      <td>Role of adjunctive treatment strategies in COV...</td>\n",
       "      <td>The coronavirus disease (COVID-19) pandemic ha...</td>\n",
       "    </tr>\n",
       "    <tr>\n",
       "      <th>2</th>\n",
       "      <td>31924756.0</td>\n",
       "      <td>Comparative therapeutic efficacy of remdesivir...</td>\n",
       "      <td>Middle East respiratory syndrome coronavirus (...</td>\n",
       "    </tr>\n",
       "    <tr>\n",
       "      <th>3</th>\n",
       "      <td>32307593.0</td>\n",
       "      <td>Therapeutic strategies for critically ill pati...</td>\n",
       "      <td>Since the 2019 novel coronavirus disease (COVI...</td>\n",
       "    </tr>\n",
       "    <tr>\n",
       "      <th>4</th>\n",
       "      <td>32454984.0</td>\n",
       "      <td>Battling COVID-19: using old weapons for a new...</td>\n",
       "      <td>Coronavirus disease-19 (COVID-19) has reached ...</td>\n",
       "    </tr>\n",
       "    <tr>\n",
       "      <th>...</th>\n",
       "      <td>...</td>\n",
       "      <td>...</td>\n",
       "      <td>...</td>\n",
       "    </tr>\n",
       "    <tr>\n",
       "      <th>2175</th>\n",
       "      <td>NaN</td>\n",
       "      <td>COVID-19 Pandemic: Its Origin, Implications an...</td>\n",
       "      <td>This is a succinct and current review of perti...</td>\n",
       "    </tr>\n",
       "    <tr>\n",
       "      <th>2176</th>\n",
       "      <td>NaN</td>\n",
       "      <td>Critical Review of COVID-2019 in the World</td>\n",
       "      <td>COVID-2019 is the virus, which have killed so ...</td>\n",
       "    </tr>\n",
       "    <tr>\n",
       "      <th>2177</th>\n",
       "      <td>NaN</td>\n",
       "      <td>COVID-2019 and World Economy</td>\n",
       "      <td>The study was started since January, 2020 whil...</td>\n",
       "    </tr>\n",
       "    <tr>\n",
       "      <th>2178</th>\n",
       "      <td>NaN</td>\n",
       "      <td>Volume 41 Number 1</td>\n",
       "      <td></td>\n",
       "    </tr>\n",
       "    <tr>\n",
       "      <th>2179</th>\n",
       "      <td>NaN</td>\n",
       "      <td>Evidence-Based Critical Care, A Case Study App...</td>\n",
       "      <td></td>\n",
       "    </tr>\n",
       "  </tbody>\n",
       "</table>\n",
       "<p>2180 rows × 3 columns</p>\n",
       "</div>"
      ],
      "text/plain": [
       "            PMID                                              title  \\\n",
       "0     32448345.0  Evaluation of the efficacy and safety of intra...   \n",
       "1     32370766.0  Role of adjunctive treatment strategies in COV...   \n",
       "2     31924756.0  Comparative therapeutic efficacy of remdesivir...   \n",
       "3     32307593.0  Therapeutic strategies for critically ill pati...   \n",
       "4     32454984.0  Battling COVID-19: using old weapons for a new...   \n",
       "...          ...                                                ...   \n",
       "2175         NaN  COVID-19 Pandemic: Its Origin, Implications an...   \n",
       "2176         NaN         Critical Review of COVID-2019 in the World   \n",
       "2177         NaN                       COVID-2019 and World Economy   \n",
       "2178         NaN                                 Volume 41 Number 1   \n",
       "2179         NaN  Evidence-Based Critical Care, A Case Study App...   \n",
       "\n",
       "                                               abstract  \n",
       "0     BACKGROUND: Coronavirus disease 2019 (COVID-19...  \n",
       "1     The coronavirus disease (COVID-19) pandemic ha...  \n",
       "2     Middle East respiratory syndrome coronavirus (...  \n",
       "3     Since the 2019 novel coronavirus disease (COVI...  \n",
       "4     Coronavirus disease-19 (COVID-19) has reached ...  \n",
       "...                                                 ...  \n",
       "2175  This is a succinct and current review of perti...  \n",
       "2176  COVID-2019 is the virus, which have killed so ...  \n",
       "2177  The study was started since January, 2020 whil...  \n",
       "2178                                                     \n",
       "2179                                                     \n",
       "\n",
       "[2180 rows x 3 columns]"
      ]
     },
<<<<<<< HEAD
     "execution_count": 168,
=======
     "execution_count": 34,
>>>>>>> 537c67f305973a8fa6c258d8c79dddf636e7dde9
     "metadata": {},
     "output_type": "execute_result"
    }
   ],
   "source": [
    "# select columns\n",
    "df=dfCov[[\"PMID\",\"title\",\"abstract\"]]\n",
    "df"
   ]
  },
  {
   "cell_type": "code",
<<<<<<< HEAD
   "execution_count": 169,
=======
   "execution_count": 35,
>>>>>>> 537c67f305973a8fa6c258d8c79dddf636e7dde9
   "metadata": {},
   "outputs": [
    {
     "data": {
      "text/html": [
       "<div>\n",
       "<style scoped>\n",
       "    .dataframe tbody tr th:only-of-type {\n",
       "        vertical-align: middle;\n",
       "    }\n",
       "\n",
       "    .dataframe tbody tr th {\n",
       "        vertical-align: top;\n",
       "    }\n",
       "\n",
       "    .dataframe thead th {\n",
       "        text-align: right;\n",
       "    }\n",
       "</style>\n",
       "<table border=\"1\" class=\"dataframe\">\n",
       "  <thead>\n",
       "    <tr style=\"text-align: right;\">\n",
       "      <th></th>\n",
       "      <th>PMID</th>\n",
       "      <th>title</th>\n",
       "      <th>abstract</th>\n",
       "    </tr>\n",
       "  </thead>\n",
       "  <tbody>\n",
       "    <tr>\n",
       "      <th>0</th>\n",
       "      <td>32448345.0</td>\n",
       "      <td>Evaluation of the efficacy and safety of intra...</td>\n",
       "      <td>BACKGROUND: Coronavirus disease 2019 (COVID-19...</td>\n",
       "    </tr>\n",
       "    <tr>\n",
       "      <th>1</th>\n",
       "      <td>32370766.0</td>\n",
       "      <td>Role of adjunctive treatment strategies in COV...</td>\n",
       "      <td>The coronavirus disease (COVID-19) pandemic ha...</td>\n",
       "    </tr>\n",
       "    <tr>\n",
       "      <th>2</th>\n",
       "      <td>31924756.0</td>\n",
       "      <td>Comparative therapeutic efficacy of remdesivir...</td>\n",
       "      <td>Middle East respiratory syndrome coronavirus (...</td>\n",
       "    </tr>\n",
       "    <tr>\n",
       "      <th>3</th>\n",
       "      <td>32307593.0</td>\n",
       "      <td>Therapeutic strategies for critically ill pati...</td>\n",
       "      <td>Since the 2019 novel coronavirus disease (COVI...</td>\n",
       "    </tr>\n",
       "    <tr>\n",
       "      <th>4</th>\n",
       "      <td>32454984.0</td>\n",
       "      <td>Battling COVID-19: using old weapons for a new...</td>\n",
       "      <td>Coronavirus disease-19 (COVID-19) has reached ...</td>\n",
       "    </tr>\n",
       "    <tr>\n",
       "      <th>...</th>\n",
       "      <td>...</td>\n",
       "      <td>...</td>\n",
       "      <td>...</td>\n",
       "    </tr>\n",
       "    <tr>\n",
       "      <th>2175</th>\n",
       "      <td>NaN</td>\n",
       "      <td>COVID-19 Pandemic: Its Origin, Implications an...</td>\n",
       "      <td>This is a succinct and current review of perti...</td>\n",
       "    </tr>\n",
       "    <tr>\n",
       "      <th>2176</th>\n",
       "      <td>NaN</td>\n",
       "      <td>Critical Review of COVID-2019 in the World</td>\n",
       "      <td>COVID-2019 is the virus, which have killed so ...</td>\n",
       "    </tr>\n",
       "    <tr>\n",
       "      <th>2177</th>\n",
       "      <td>NaN</td>\n",
       "      <td>COVID-2019 and World Economy</td>\n",
       "      <td>The study was started since January, 2020 whil...</td>\n",
       "    </tr>\n",
       "    <tr>\n",
       "      <th>2178</th>\n",
       "      <td>NaN</td>\n",
       "      <td>Volume 41 Number 1</td>\n",
       "      <td></td>\n",
       "    </tr>\n",
       "    <tr>\n",
       "      <th>2179</th>\n",
       "      <td>NaN</td>\n",
       "      <td>Evidence-Based Critical Care, A Case Study App...</td>\n",
       "      <td></td>\n",
       "    </tr>\n",
       "  </tbody>\n",
       "</table>\n",
       "<p>2180 rows × 3 columns</p>\n",
       "</div>"
      ],
      "text/plain": [
       "            PMID                                              title  \\\n",
       "0     32448345.0  Evaluation of the efficacy and safety of intra...   \n",
       "1     32370766.0  Role of adjunctive treatment strategies in COV...   \n",
       "2     31924756.0  Comparative therapeutic efficacy of remdesivir...   \n",
       "3     32307593.0  Therapeutic strategies for critically ill pati...   \n",
       "4     32454984.0  Battling COVID-19: using old weapons for a new...   \n",
       "...          ...                                                ...   \n",
       "2175         NaN  COVID-19 Pandemic: Its Origin, Implications an...   \n",
       "2176         NaN         Critical Review of COVID-2019 in the World   \n",
       "2177         NaN                       COVID-2019 and World Economy   \n",
       "2178         NaN                                 Volume 41 Number 1   \n",
       "2179         NaN  Evidence-Based Critical Care, A Case Study App...   \n",
       "\n",
       "                                               abstract  \n",
       "0     BACKGROUND: Coronavirus disease 2019 (COVID-19...  \n",
       "1     The coronavirus disease (COVID-19) pandemic ha...  \n",
       "2     Middle East respiratory syndrome coronavirus (...  \n",
       "3     Since the 2019 novel coronavirus disease (COVI...  \n",
       "4     Coronavirus disease-19 (COVID-19) has reached ...  \n",
       "...                                                 ...  \n",
       "2175  This is a succinct and current review of perti...  \n",
       "2176  COVID-2019 is the virus, which have killed so ...  \n",
       "2177  The study was started since January, 2020 whil...  \n",
       "2178                                                     \n",
       "2179                                                     \n",
       "\n",
       "[2180 rows x 3 columns]"
      ]
     },
<<<<<<< HEAD
     "execution_count": 169,
=======
     "execution_count": 35,
>>>>>>> 537c67f305973a8fa6c258d8c79dddf636e7dde9
     "metadata": {},
     "output_type": "execute_result"
    }
   ],
   "source": [
    "# combine slice and select\n",
    "df=dfCov[[\"PMID\",\"title\",\"abstract\"]]\n",
    "df"
   ]
  },
  {
   "cell_type": "code",
<<<<<<< HEAD
   "execution_count": 170,
=======
   "execution_count": 36,
>>>>>>> 537c67f305973a8fa6c258d8c79dddf636e7dde9
   "metadata": {},
   "outputs": [
    {
     "data": {
      "text/plain": [
       "PMID                                              3.23076e+07\n",
       "title       Therapeutic strategies for critically ill pati...\n",
       "abstract    Since the 2019 novel coronavirus disease (COVI...\n",
       "Name: 3, dtype: object"
      ]
     },
<<<<<<< HEAD
     "execution_count": 170,
=======
     "execution_count": 36,
>>>>>>> 537c67f305973a8fa6c258d8c79dddf636e7dde9
     "metadata": {},
     "output_type": "execute_result"
    }
   ],
   "source": [
    "# choose one record\n",
    "df.iloc[3]"
   ]
  },
  {
   "cell_type": "code",
<<<<<<< HEAD
   "execution_count": 171,
=======
   "execution_count": 37,
>>>>>>> 537c67f305973a8fa6c258d8c79dddf636e7dde9
   "metadata": {},
   "outputs": [
    {
     "data": {
      "text/plain": [
       "'Since the 2019 novel coronavirus disease (COVID-19) outbreak originated from Wuhan, Hubei Province, China, at the end of 2019, it has become a clinical threat to the general population worldwide. Among people infected with the novel coronavirus (2019-nCoV), the intensive management of the critically ill patients in intensive care unit (ICU) needs substantial medical resource. In the present article, we have summarized the promising drugs, adjunctive agents, respiratory supportive strategies, as well as circulation management, multiple organ function monitoring and appropriate nutritional strategies for the treatment of COVID-19 in the ICU based on the previous experience of treating other viral infections and influenza. These treatments are referable before the vaccine and specific drugs are available for COVID-19.'"
      ]
     },
<<<<<<< HEAD
     "execution_count": 171,
=======
     "execution_count": 37,
>>>>>>> 537c67f305973a8fa6c258d8c79dddf636e7dde9
     "metadata": {},
     "output_type": "execute_result"
    }
   ],
   "source": [
    "# combine row/column\n",
    "abstr=df[\"abstract\"].iloc[3]\n",
    "abstr"
   ]
  },
  {
   "cell_type": "code",
<<<<<<< HEAD
   "execution_count": 172,
=======
   "execution_count": 38,
>>>>>>> 537c67f305973a8fa6c258d8c79dddf636e7dde9
   "metadata": {},
   "outputs": [
    {
     "data": {
      "text/plain": [
       "'Therapeutic strategies for critically ill patients with COVID-19'"
      ]
     },
<<<<<<< HEAD
     "execution_count": 172,
=======
     "execution_count": 38,
>>>>>>> 537c67f305973a8fa6c258d8c79dddf636e7dde9
     "metadata": {},
     "output_type": "execute_result"
    }
   ],
   "source": [
    "title=df[\"title\"].iloc[3]\n",
    "title"
   ]
  },
  {
<<<<<<< HEAD
   "cell_type": "markdown",
   "metadata": {},
   "source": [
    "# Text search and filter records\n",
    "\n",
    "Search and find string patterns can be done with regular expressions, package re\n",
    "\n",
    "https://docs.python.org/3/library/re.html\n",
    "\n",
    "see re.search, re.findall, re.match, re.split"
   ]
  },
  {
   "cell_type": "code",
   "execution_count": 173,
   "metadata": {},
   "outputs": [
    {
     "data": {
      "text/plain": [
       "<re.Match object; span=(338, 341), match='ICU'>"
      ]
     },
     "execution_count": 173,
     "metadata": {},
     "output_type": "execute_result"
    }
   ],
   "source": [
    "import re\n",
    "s1=re.search(\"ICU\",abstr)\n",
    "s1"
   ]
  },
  {
   "cell_type": "code",
   "execution_count": 174,
   "metadata": {},
   "outputs": [
    {
     "data": {
      "text/plain": [
       "'ICU'"
      ]
     },
     "execution_count": 174,
     "metadata": {},
     "output_type": "execute_result"
    }
   ],
   "source": [
    "s1[0]"
   ]
  },
  {
   "cell_type": "code",
   "execution_count": 175,
   "metadata": {},
   "outputs": [
    {
     "data": {
      "text/plain": [
       "'we have'"
      ]
     },
     "execution_count": 175,
     "metadata": {},
     "output_type": "execute_result"
    }
   ],
   "source": [
    "re.search(\"we \\w*\",abstr)[0]"
   ]
  },
  {
   "cell_type": "markdown",
   "metadata": {},
   "source": [
    "# NLP Natural language processing\n",
    "\n",
    "https://spacy.io/\n",
    "\n",
    "tutorials:\n",
    "\n",
    "https://course.spacy.io/\n",
    "\n",
    "https://spacy.io/usage/spacy-101\n",
    "\n",
    "other languages:\n",
    "\n",
    "latin: https://github.com/diyclassics/latin-spacy-models"
   ]
  },
  {
   "cell_type": "code",
   "execution_count": 176,
=======
   "cell_type": "code",
   "execution_count": 40,
>>>>>>> 537c67f305973a8fa6c258d8c79dddf636e7dde9
   "metadata": {},
   "outputs": [
    {
     "ename": "OSError",
     "evalue": "[E050] Can't find model 'en_core_web_sm'. It doesn't seem to be a shortcut link, a Python package or a valid path to a data directory.",
     "output_type": "error",
     "traceback": [
      "\u001b[0;31m---------------------------------------------------------------------------\u001b[0m",
      "\u001b[0;31mOSError\u001b[0m                                   Traceback (most recent call last)",
      "\u001b[0;32m<ipython-input-176-005767ccac71>\u001b[0m in \u001b[0;36m<module>\u001b[0;34m\u001b[0m\n\u001b[1;32m      2\u001b[0m \u001b[0;34m\u001b[0m\u001b[0m\n\u001b[1;32m      3\u001b[0m \u001b[0;31m# Load English tokenizer, tagger, parser, NER and word vectors\u001b[0m\u001b[0;34m\u001b[0m\u001b[0;34m\u001b[0m\u001b[0;34m\u001b[0m\u001b[0m\n\u001b[0;32m----> 4\u001b[0;31m \u001b[0mnlp\u001b[0m \u001b[0;34m=\u001b[0m \u001b[0mspacy\u001b[0m\u001b[0;34m.\u001b[0m\u001b[0mload\u001b[0m\u001b[0;34m(\u001b[0m\u001b[0;34m\"en_core_web_sm\"\u001b[0m\u001b[0;34m)\u001b[0m\u001b[0;34m\u001b[0m\u001b[0;34m\u001b[0m\u001b[0m\n\u001b[0m",
      "\u001b[0;32m~/anaconda3/lib/python3.7/site-packages/spacy/__init__.py\u001b[0m in \u001b[0;36mload\u001b[0;34m(name, **overrides)\u001b[0m\n\u001b[1;32m     28\u001b[0m     \u001b[0;32mif\u001b[0m \u001b[0mdepr_path\u001b[0m \u001b[0;32mnot\u001b[0m \u001b[0;32min\u001b[0m \u001b[0;34m(\u001b[0m\u001b[0;32mTrue\u001b[0m\u001b[0;34m,\u001b[0m \u001b[0;32mFalse\u001b[0m\u001b[0;34m,\u001b[0m \u001b[0;32mNone\u001b[0m\u001b[0;34m)\u001b[0m\u001b[0;34m:\u001b[0m\u001b[0;34m\u001b[0m\u001b[0;34m\u001b[0m\u001b[0m\n\u001b[1;32m     29\u001b[0m         \u001b[0mdeprecation_warning\u001b[0m\u001b[0;34m(\u001b[0m\u001b[0mWarnings\u001b[0m\u001b[0;34m.\u001b[0m\u001b[0mW001\u001b[0m\u001b[0;34m.\u001b[0m\u001b[0mformat\u001b[0m\u001b[0;34m(\u001b[0m\u001b[0mpath\u001b[0m\u001b[0;34m=\u001b[0m\u001b[0mdepr_path\u001b[0m\u001b[0;34m)\u001b[0m\u001b[0;34m)\u001b[0m\u001b[0;34m\u001b[0m\u001b[0;34m\u001b[0m\u001b[0m\n\u001b[0;32m---> 30\u001b[0;31m     \u001b[0;32mreturn\u001b[0m \u001b[0mutil\u001b[0m\u001b[0;34m.\u001b[0m\u001b[0mload_model\u001b[0m\u001b[0;34m(\u001b[0m\u001b[0mname\u001b[0m\u001b[0;34m,\u001b[0m \u001b[0;34m**\u001b[0m\u001b[0moverrides\u001b[0m\u001b[0;34m)\u001b[0m\u001b[0;34m\u001b[0m\u001b[0;34m\u001b[0m\u001b[0m\n\u001b[0m\u001b[1;32m     31\u001b[0m \u001b[0;34m\u001b[0m\u001b[0m\n\u001b[1;32m     32\u001b[0m \u001b[0;34m\u001b[0m\u001b[0m\n",
      "\u001b[0;32m~/anaconda3/lib/python3.7/site-packages/spacy/util.py\u001b[0m in \u001b[0;36mload_model\u001b[0;34m(name, **overrides)\u001b[0m\n\u001b[1;32m    167\u001b[0m     \u001b[0;32melif\u001b[0m \u001b[0mhasattr\u001b[0m\u001b[0;34m(\u001b[0m\u001b[0mname\u001b[0m\u001b[0;34m,\u001b[0m \u001b[0;34m\"exists\"\u001b[0m\u001b[0;34m)\u001b[0m\u001b[0;34m:\u001b[0m  \u001b[0;31m# Path or Path-like to model data\u001b[0m\u001b[0;34m\u001b[0m\u001b[0;34m\u001b[0m\u001b[0m\n\u001b[1;32m    168\u001b[0m         \u001b[0;32mreturn\u001b[0m \u001b[0mload_model_from_path\u001b[0m\u001b[0;34m(\u001b[0m\u001b[0mname\u001b[0m\u001b[0;34m,\u001b[0m \u001b[0;34m**\u001b[0m\u001b[0moverrides\u001b[0m\u001b[0;34m)\u001b[0m\u001b[0;34m\u001b[0m\u001b[0;34m\u001b[0m\u001b[0m\n\u001b[0;32m--> 169\u001b[0;31m     \u001b[0;32mraise\u001b[0m \u001b[0mIOError\u001b[0m\u001b[0;34m(\u001b[0m\u001b[0mErrors\u001b[0m\u001b[0;34m.\u001b[0m\u001b[0mE050\u001b[0m\u001b[0;34m.\u001b[0m\u001b[0mformat\u001b[0m\u001b[0;34m(\u001b[0m\u001b[0mname\u001b[0m\u001b[0;34m=\u001b[0m\u001b[0mname\u001b[0m\u001b[0;34m)\u001b[0m\u001b[0;34m)\u001b[0m\u001b[0;34m\u001b[0m\u001b[0;34m\u001b[0m\u001b[0m\n\u001b[0m\u001b[1;32m    170\u001b[0m \u001b[0;34m\u001b[0m\u001b[0m\n\u001b[1;32m    171\u001b[0m \u001b[0;34m\u001b[0m\u001b[0m\n",
      "\u001b[0;31mOSError\u001b[0m: [E050] Can't find model 'en_core_web_sm'. It doesn't seem to be a shortcut link, a Python package or a valid path to a data directory."
     ]
    }
   ],
   "source": [
<<<<<<< HEAD
    "import spacy\n",
    "\n",
    "# Load English tokenizer, tagger, parser, NER and word vectors\n",
    "nlp = spacy.load(\"en_core_web_sm\")"
   ]
  },
  {
   "cell_type": "code",
   "execution_count": null,
   "metadata": {},
   "outputs": [],
   "source": [
    "doc=nlp(title)\n",
    "for token in doc:\n",
    "    print(token.text,token.pos_,token.dep_)"
   ]
  },
  {
   "cell_type": "code",
   "execution_count": null,
   "metadata": {},
   "outputs": [],
   "source": [
    "from spacy import displacy\n",
    "displacy.render(doc, style=\"dep\",jupyter=True)"
   ]
  },
  {
   "cell_type": "code",
   "execution_count": null,
   "metadata": {},
   "outputs": [],
   "source": [
    "doc=nlp(abstr)\n",
    "displacy.render(doc,style=\"ent\",jupyter=True)"
   ]
  },
  {
   "cell_type": "markdown",
   "metadata": {},
   "source": [
    "## Find token with numbers\n",
    "\n",
    "https://course.spacy.io/en/chapter1\n",
    "\n",
    "4: Lexical attributes\n"
   ]
  },
  {
   "cell_type": "code",
   "execution_count": null,
   "metadata": {},
   "outputs": [],
   "source": [
    "for token in doc:\n",
    "    if token.like_num:\n",
    "        next_token=doc[token.i-1]\n",
    "        if next_token.text == \"of\":\n",
    "            print(\"Ende welches Jahres?\",token.text)"
   ]
  },
  {
   "cell_type": "markdown",
   "metadata": {},
   "source": [
    "## Komplexe Token\n",
    "\n",
    "https://course.spacy.io/en/chapter2\n",
    "\n",
    "(7) Find proper nouns followed by verb\n"
   ]
  },
  {
   "cell_type": "code",
   "execution_count": null,
   "metadata": {},
   "outputs": [],
   "source": [
    "print(doc.text)"
   ]
  },
  {
   "cell_type": "code",
   "execution_count": null,
   "metadata": {},
   "outputs": [],
   "source": [
    "token_texts=[token.text for token in doc]\n",
    "pos_tags=[token.pos_ for token in doc]"
   ]
  },
  {
   "cell_type": "code",
   "execution_count": null,
   "metadata": {},
   "outputs": [],
   "source": [
    "for index, pos in enumerate(pos_tags):\n",
    "    if pos==\"PROPN\":\n",
    "        if pos_tags[index+1]==\"VERB\":\n",
    "            result=token_texts[index]\n",
    "            verb=token_texts[index+1]\n",
    "            print(f\"Found proper noun bevore a verb::::: {result} gefolgt von {verb}\")"
   ]
  },
  {
   "cell_type": "code",
   "execution_count": null,
   "metadata": {},
   "outputs": [],
   "source": [
    "## Print sentences in doc\n",
    "for sentence in doc.sents:\n",
    "    print(sentence.text)"
   ]
  },
  {
   "cell_type": "code",
   "execution_count": null,
   "metadata": {},
   "outputs": [],
   "source": [
    "# get list of sentences from doc\n",
    "s=[sents.text for sents in doc.sents]\n",
    "s[0]"
   ]
  },
  {
   "cell_type": "code",
   "execution_count": null,
   "metadata": {},
   "outputs": [],
   "source": [
    "# since s[0] is just text, it has not yet the nlp structures of a doc. You get an error message\n",
    "displacy.render(s[0], style=\"dep\",jupyter=True)"
   ]
  },
  {
   "cell_type": "code",
   "execution_count": null,
   "metadata": {},
   "outputs": [],
   "source": [
    "displacy.render(nlp(s[0]), style=\"dep\",jupyter=True)"
=======
    "df.to_json(\"dfRemdesivierResearchObjects.json\")"
>>>>>>> 537c67f305973a8fa6c258d8c79dddf636e7dde9
   ]
  },
  {
   "cell_type": "code",
   "execution_count": null,
   "metadata": {},
   "outputs": [],
   "source": []
  },
  {
   "cell_type": "code",
   "execution_count": null,
   "metadata": {},
   "outputs": [],
   "source": []
  },
  {
   "cell_type": "code",
   "execution_count": null,
   "metadata": {},
   "outputs": [],
   "source": []
  }
 ],
 "metadata": {
  "kernelspec": {
   "display_name": "Python 3",
   "language": "python",
   "name": "python3"
  },
  "language_info": {
   "codemirror_mode": {
    "name": "ipython",
    "version": 3
   },
   "file_extension": ".py",
   "mimetype": "text/x-python",
   "name": "python",
   "nbconvert_exporter": "python",
   "pygments_lexer": "ipython3",
   "version": "3.7.6"
  }
 },
 "nbformat": 4,
 "nbformat_minor": 4
}
