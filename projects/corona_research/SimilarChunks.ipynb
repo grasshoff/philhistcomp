{
 "cells": [
  {
   "cell_type": "markdown",
   "metadata": {},
   "source": [
    "Part of notebook RemdesivierDiscoverSpacy with similarity of noun_chunks"
   ]
  },
  {
   "cell_type": "code",
   "execution_count": 75,
   "metadata": {},
   "outputs": [
    {
     "data": {
      "text/plain": [
       "Middle East respiratory syndrome coronavirus (MERS-CoV) is the causative agent of a severe respiratory disease associated with more than 2468 human infections and over 851 deaths in 27 countries since 2012."
      ]
     },
     "execution_count": 75,
     "metadata": {},
     "output_type": "execute_result"
    }
   ],
   "source": [
    "sentences[0]"
   ]
  },
  {
   "cell_type": "code",
   "execution_count": 76,
   "metadata": {},
   "outputs": [
    {
     "name": "stdout",
     "output_type": "stream",
     "text": [
      "*****\n",
      "for Middle East respiratory syndrome coronavirus (MERS-CoV) is the causative agent of a severe respiratory disease associated with more than 2468 human infections and over 851 deaths in 27 countries since 2012.\n",
      "noun chunks: [Middle East respiratory syndrome coronavirus, MERS-CoV, the causative agent, a severe respiratory disease, more than 2468 human infections, over 851 deaths, 27 countries]\n",
      "*****\n",
      "for There are no approved treatments for MERS-CoV infection although a combination of lopinavir, ritonavir and interferon beta (LPV/RTV-IFNb) is currently being evaluated in humans in the Kingdom of Saudi Arabia.\n",
      "noun chunks: [no approved treatments, MERS-CoV infection, a combination, lopinavir, ritonavir, interferon beta, (LPV/RTV-IFNb, humans, the Kingdom, Saudi Arabia]\n",
      "*****\n",
      "for Here, we show that remdesivir (RDV) and IFNb have superior antiviral activity to LPV and RTV in vitro.\n",
      "noun chunks: [we, remdesivir, RDV, IFNb, superior antiviral activity, LPV, RTV]\n",
      "*****\n",
      "for In mice, both prophylactic and therapeutic RDV improve pulmonary function and reduce lung viral loads and severe lung pathology.\n",
      "noun chunks: [mice, RDV, pulmonary function, lung viral loads, severe lung pathology]\n",
      "*****\n",
      "for In contrast, prophylactic LPV/RTV-IFNb slightly reduces viral loads without impacting other disease parameters.\n",
      "noun chunks: [contrast, prophylactic LPV/RTV-IFNb, viral loads, other disease parameters]\n",
      "*****\n",
      "for Therapeutic LPV/RTV-IFNb improves pulmonary function but does not reduce virus replication or severe lung pathology.\n",
      "noun chunks: [Therapeutic LPV/RTV-IFNb, pulmonary function, virus replication, severe lung pathology]\n",
      "*****\n",
      "for Thus, we provide in vivo evidence of the potential for RDV to treat MERS-CoV infections.\n",
      "noun chunks: [we, vivo evidence, the potential, RDV, MERS-CoV infections]\n"
     ]
    }
   ],
   "source": [
    "for sent in sentences:\n",
    "    print(f\"*****\\nfor {sent}\")\n",
    "    chunks=list(sent.noun_chunks)\n",
    "    print(\"noun chunks:\",chunks)"
   ]
  },
  {
   "cell_type": "code",
   "execution_count": 77,
   "metadata": {},
   "outputs": [],
   "source": [
    "# similarity to key expression. Here \"MERS infection\""
   ]
  },
  {
   "cell_type": "code",
   "execution_count": 96,
   "metadata": {},
   "outputs": [
    {
     "name": "stdout",
     "output_type": "stream",
     "text": [
      "Middle East respiratory syndrome coronavirus #### ähnlich: 0.48299568738055154\n",
      "MERS-CoV #### ähnlich: 0.4550794638568333\n",
      "the causative agent #### ähnlich: 0.31675976176508136\n",
      "a severe respiratory disease #### ähnlich: 0.4990230397309604\n",
      "more than 2468 human infections #### ähnlich: 0.41296312851298905\n",
      "over 851 deaths #### ähnlich: 0.1585077913421593\n",
      "27 countries #### ähnlich: 0.13847852632223484\n",
      "no approved treatments #### ähnlich: 0.22902666198807248\n",
      "MERS-CoV infection #### ähnlich: 0.7989696703497365\n",
      "a combination #### ähnlich: 0.13322061421844744\n",
      "lopinavir #### ähnlich: 0.0\n",
      "ritonavir #### ähnlich: 0.0\n",
      "interferon beta #### ähnlich: 0.32932173709274914\n",
      "(LPV/RTV-IFNb #### ähnlich: -0.026341724138412275\n",
      "humans #### ähnlich: 0.2824499231186059\n",
      "the Kingdom #### ähnlich: 0.08676200994420641\n",
      "Saudi Arabia #### ähnlich: 0.041518648812961745\n",
      "we #### ähnlich: 0.0802233813756872\n",
      "remdesivir #### ähnlich: 0.0\n",
      "RDV #### ähnlich: 0.12631231857434141\n",
      "IFNb #### ähnlich: 0.0\n",
      "superior antiviral activity #### ähnlich: 0.36010703298712876\n",
      "LPV #### ähnlich: 0.0\n",
      "RTV #### ähnlich: 0.061758883535590545\n",
      "mice #### ähnlich: 0.31532161654756635\n",
      "RDV #### ähnlich: 0.12631231857434141\n",
      "pulmonary function #### ähnlich: 0.3443454879740943\n",
      "lung viral loads #### ähnlich: 0.5058184323708509\n",
      "severe lung pathology #### ähnlich: 0.45615629485057385\n",
      "contrast #### ähnlich: 0.08663514797919537\n",
      "prophylactic LPV/RTV-IFNb #### ähnlich: 0.1909485162886944\n",
      "viral loads #### ähnlich: 0.41466227508506\n",
      "other disease parameters #### ähnlich: 0.3895398814162506\n",
      "Therapeutic LPV/RTV-IFNb #### ähnlich: 0.12148960476506386\n",
      "pulmonary function #### ähnlich: 0.3443454879740943\n",
      "virus replication #### ähnlich: 0.5576802436062092\n",
      "severe lung pathology #### ähnlich: 0.45615629485057385\n",
      "we #### ähnlich: 0.0802233813756872\n",
      "vivo evidence #### ähnlich: 0.2553968297061836\n",
      "the potential #### ähnlich: 0.1395357913449325\n",
      "RDV #### ähnlich: 0.12631231857434141\n",
      "MERS-CoV infections #### ähnlich: 0.7723640678321845\n"
     ]
    },
    {
     "name": "stderr",
     "output_type": "stream",
     "text": [
      "/Users/gerdgrasshoff/opt/anaconda3/lib/python3.7/site-packages/ipykernel_launcher.py:5: UserWarning: [W008] Evaluating Span.similarity based on empty vectors.\n",
      "  \"\"\"\n"
     ]
    }
   ],
   "source": [
    "key_term=\"MERS infection\"\n",
    "for sent in sentences:\n",
    "    chunks=list(sent.noun_chunks)\n",
    "    for noun in chunks:\n",
    "        sim=noun.similarity(nlp(key_term))\n",
    "        print(f\"{noun} #### ähnlich: {sim}\")"
   ]
  },
  {
   "cell_type": "code",
   "execution_count": 97,
   "metadata": {},
   "outputs": [],
   "source": [
    "def similar_nchunks(doc,keyterm):\n",
    "    listsim=[]\n",
    "    threshhold=0.5\n",
    "    key=nlp(keyterm)\n",
    "    chunks=list(doc.noun_chunks)\n",
    "    for noun in chunks:\n",
    "        simval=noun.similarity(key)\n",
    "        if simval>threshhold:\n",
    "            listsim.append((noun,simval))\n",
    "    return(listsim)"
   ]
  },
  {
   "cell_type": "code",
   "execution_count": 98,
   "metadata": {},
   "outputs": [
    {
     "name": "stderr",
     "output_type": "stream",
     "text": [
      "/Users/gerdgrasshoff/opt/anaconda3/lib/python3.7/site-packages/ipykernel_launcher.py:7: UserWarning: [W008] Evaluating Span.similarity based on empty vectors.\n",
      "  import sys\n"
     ]
    },
    {
     "data": {
      "text/plain": [
       "[(MERS-CoV infection, 0.7989696703497365),\n",
       " (lung viral loads, 0.5058184323708509),\n",
       " (virus replication, 0.5576802436062092),\n",
       " (MERS-CoV infections, 0.7723640678321845)]"
      ]
     },
     "execution_count": 98,
     "metadata": {},
     "output_type": "execute_result"
    }
   ],
   "source": [
    "similar_nchunks(exemplar,key_term)"
   ]
  },
  {
   "cell_type": "code",
   "execution_count": 102,
   "metadata": {},
   "outputs": [
    {
     "name": "stderr",
     "output_type": "stream",
     "text": [
      "/Users/gerdgrasshoff/opt/anaconda3/lib/python3.7/site-packages/ipykernel_launcher.py:7: UserWarning: [W008] Evaluating Span.similarity based on empty vectors.\n",
      "  import sys\n"
     ]
    },
    {
     "data": {
      "text/plain": [
       "[(the causative agent, 0.7939071980284536)]"
      ]
     },
     "execution_count": 102,
     "metadata": {},
     "output_type": "execute_result"
    }
   ],
   "source": [
    "similar_nchunks(exemplar,\"agent\")"
   ]
  }
 ],
 "metadata": {
  "kernelspec": {
   "display_name": "Python 3",
   "language": "python",
   "name": "python3"
  },
  "language_info": {
   "codemirror_mode": {
    "name": "ipython",
    "version": 3
   },
   "file_extension": ".py",
   "mimetype": "text/x-python",
   "name": "python",
   "nbconvert_exporter": "python",
   "pygments_lexer": "ipython3",
   "version": "3.7.7"
  }
 },
 "nbformat": 4,
 "nbformat_minor": 4
}
