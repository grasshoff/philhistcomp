{
 "cells": [
  {
   "cell_type": "markdown",
   "metadata": {},
   "source": [
    "# Gather dimension search tables\n",
    "reads all *.xmlx files in the dimension directory, concats those tables and removes duplicate publications"
   ]
  },
  {
   "cell_type": "code",
   "execution_count": 1,
   "metadata": {},
   "outputs": [],
   "source": [
    "import pandas as pd\n",
    "import requests\n",
    "import json \n",
    "import glob"
   ]
  },
  {
   "cell_type": "code",
   "execution_count": 3,
   "metadata": {},
   "outputs": [
    {
     "data": {
      "text/plain": [
       "1"
      ]
     },
     "execution_count": 3,
     "metadata": {},
     "output_type": "execute_result"
    }
   ],
   "source": [
    "listfile=glob.glob(\"Dimension*.csv\")\n",
    "len(listfile)"
   ]
  },
  {
   "cell_type": "code",
   "execution_count": 11,
   "metadata": {},
   "outputs": [
    {
     "name": "stdout",
     "output_type": "stream",
     "text": [
      "Number of combined records: 2891\n"
     ]
    }
   ],
   "source": [
    "dfCov=pd.DataFrame()\n",
    "for path in listfile:\n",
    "    newcov=pd.read_csv(path,skiprows=[0])\n",
    "    newcov[\"sourcefile\"]=path\n",
    "    dfCov=pd.concat([dfCov,newcov])   \n",
    "print(f\"Number of combined records: {len(dfCov)}\")"
   ]
  },
  {
   "cell_type": "code",
   "execution_count": 12,
   "metadata": {},
   "outputs": [
    {
     "data": {
      "text/html": [
       "<div>\n",
       "<style scoped>\n",
       "    .dataframe tbody tr th:only-of-type {\n",
       "        vertical-align: middle;\n",
       "    }\n",
       "\n",
       "    .dataframe tbody tr th {\n",
       "        vertical-align: top;\n",
       "    }\n",
       "\n",
       "    .dataframe thead th {\n",
       "        text-align: right;\n",
       "    }\n",
       "</style>\n",
       "<table border=\"1\" class=\"dataframe\">\n",
       "  <thead>\n",
       "    <tr style=\"text-align: right;\">\n",
       "      <th></th>\n",
       "      <th>Rank</th>\n",
       "      <th>Publication ID</th>\n",
       "      <th>DOI</th>\n",
       "      <th>PMID</th>\n",
       "      <th>PMCID</th>\n",
       "      <th>Title</th>\n",
       "      <th>Source title</th>\n",
       "      <th>Anthology title</th>\n",
       "      <th>Publisher</th>\n",
       "      <th>MeSH terms</th>\n",
       "      <th>...</th>\n",
       "      <th>Dimensions URL</th>\n",
       "      <th>FOR (ANZSRC) Categories</th>\n",
       "      <th>RCDC Categories</th>\n",
       "      <th>HRCS HC Categories</th>\n",
       "      <th>HRCS RAC Categories</th>\n",
       "      <th>ICRP Cancer Types</th>\n",
       "      <th>ICRP CSO Categories</th>\n",
       "      <th>Units of Assessment</th>\n",
       "      <th>Sustainable Development Goals</th>\n",
       "      <th>sourcefile</th>\n",
       "    </tr>\n",
       "  </thead>\n",
       "  <tbody>\n",
       "    <tr>\n",
       "      <th>0</th>\n",
       "      <td>17</td>\n",
       "      <td>pub.1127831613</td>\n",
       "      <td>10.1016/j.atmosres.2020.105062</td>\n",
       "      <td>NaN</td>\n",
       "      <td>NaN</td>\n",
       "      <td>Integrating an hourly weather generator with a...</td>\n",
       "      <td>Atmospheric Research</td>\n",
       "      <td>NaN</td>\n",
       "      <td>Elsevier</td>\n",
       "      <td>NaN</td>\n",
       "      <td>...</td>\n",
       "      <td>https://app.dimensions.ai/details/publication/...</td>\n",
       "      <td>0406 Physical Geography and Environmental Geos...</td>\n",
       "      <td>NaN</td>\n",
       "      <td>NaN</td>\n",
       "      <td>NaN</td>\n",
       "      <td>NaN</td>\n",
       "      <td>NaN</td>\n",
       "      <td>C14 Geography and Environmental Studies</td>\n",
       "      <td>13 Climate Action</td>\n",
       "      <td>Dimensions-Publication-2020-06-01_20-12-05.csv</td>\n",
       "    </tr>\n",
       "    <tr>\n",
       "      <th>1</th>\n",
       "      <td>20</td>\n",
       "      <td>pub.1126696366</td>\n",
       "      <td>10.1016/j.gsd.2020.100390</td>\n",
       "      <td>NaN</td>\n",
       "      <td>NaN</td>\n",
       "      <td>Synthesizing existing frameworks to identify t...</td>\n",
       "      <td>Groundwater for Sustainable Development</td>\n",
       "      <td>NaN</td>\n",
       "      <td>Elsevier</td>\n",
       "      <td>NaN</td>\n",
       "      <td>...</td>\n",
       "      <td>https://app.dimensions.ai/details/publication/...</td>\n",
       "      <td>0406 Physical Geography and Environmental Geos...</td>\n",
       "      <td>NaN</td>\n",
       "      <td>NaN</td>\n",
       "      <td>NaN</td>\n",
       "      <td>NaN</td>\n",
       "      <td>NaN</td>\n",
       "      <td>B12 Engineering</td>\n",
       "      <td>NaN</td>\n",
       "      <td>Dimensions-Publication-2020-06-01_20-12-05.csv</td>\n",
       "    </tr>\n",
       "  </tbody>\n",
       "</table>\n",
       "<p>2 rows × 46 columns</p>\n",
       "</div>"
      ],
      "text/plain": [
       "   Rank  Publication ID                             DOI  PMID PMCID  \\\n",
       "0    17  pub.1127831613  10.1016/j.atmosres.2020.105062   NaN   NaN   \n",
       "1    20  pub.1126696366       10.1016/j.gsd.2020.100390   NaN   NaN   \n",
       "\n",
       "                                               Title  \\\n",
       "0  Integrating an hourly weather generator with a...   \n",
       "1  Synthesizing existing frameworks to identify t...   \n",
       "\n",
       "                              Source title Anthology title Publisher  \\\n",
       "0                     Atmospheric Research             NaN  Elsevier   \n",
       "1  Groundwater for Sustainable Development             NaN  Elsevier   \n",
       "\n",
       "  MeSH terms  ...                                     Dimensions URL  \\\n",
       "0        NaN  ...  https://app.dimensions.ai/details/publication/...   \n",
       "1        NaN  ...  https://app.dimensions.ai/details/publication/...   \n",
       "\n",
       "                             FOR (ANZSRC) Categories RCDC Categories  \\\n",
       "0  0406 Physical Geography and Environmental Geos...             NaN   \n",
       "1  0406 Physical Geography and Environmental Geos...             NaN   \n",
       "\n",
       "  HRCS HC Categories HRCS RAC Categories ICRP Cancer Types  \\\n",
       "0                NaN                 NaN               NaN   \n",
       "1                NaN                 NaN               NaN   \n",
       "\n",
       "  ICRP CSO Categories                      Units of Assessment  \\\n",
       "0                 NaN  C14 Geography and Environmental Studies   \n",
       "1                 NaN                          B12 Engineering   \n",
       "\n",
       "  Sustainable Development Goals  \\\n",
       "0             13 Climate Action   \n",
       "1                           NaN   \n",
       "\n",
       "                                       sourcefile  \n",
       "0  Dimensions-Publication-2020-06-01_20-12-05.csv  \n",
       "1  Dimensions-Publication-2020-06-01_20-12-05.csv  \n",
       "\n",
       "[2 rows x 46 columns]"
      ]
     },
     "execution_count": 12,
     "metadata": {},
     "output_type": "execute_result"
    }
   ],
   "source": [
    "dfCov.head(2)"
   ]
  },
  {
   "cell_type": "code",
   "execution_count": 13,
   "metadata": {},
   "outputs": [
    {
     "name": "stdout",
     "output_type": "stream",
     "text": [
      "Number of combined records: 2891\n"
     ]
    },
    {
     "data": {
      "text/plain": [
       "Index(['index', 'Rank', 'Publication ID', 'DOI', 'PMID', 'PMCID', 'Title',\n",
       "       'Source title', 'Anthology title', 'Publisher', 'MeSH terms',\n",
       "       'Publication Date', 'PubYear', 'Volume', 'Issue', 'Pagination',\n",
       "       'Open Access', 'Publication Type', 'Authors', 'Corresponding Author',\n",
       "       'Authors Affiliations', 'Research Organizations - standardized',\n",
       "       'GRID IDs', 'City of Research organization',\n",
       "       'State of Research organization', 'Country of Research organization',\n",
       "       'Funder', 'Funder Group', 'Funder Country', 'UIDs of supporting grants',\n",
       "       'Supporting Grants', 'Times cited', 'Recent citations', 'RCR', 'FCR',\n",
       "       'Altmetric', 'Source Linkout', 'Dimensions URL',\n",
       "       'FOR (ANZSRC) Categories', 'RCDC Categories', 'HRCS HC Categories',\n",
       "       'HRCS RAC Categories', 'ICRP Cancer Types', 'ICRP CSO Categories',\n",
       "       'Units of Assessment', 'Sustainable Development Goals', 'sourcefile'],\n",
       "      dtype='object')"
      ]
     },
     "execution_count": 13,
     "metadata": {},
     "output_type": "execute_result"
    }
   ],
   "source": [
    "dfCov=dfCov.drop_duplicates(subset='Publication ID',keep=\"first\")\n",
    "dfCov.reset_index(inplace=True)\n",
    "print(f\"Number of combined records: {len(dfCov)}\")\n",
    "dfCov.keys()"
   ]
  },
  {
   "cell_type": "code",
   "execution_count": 14,
   "metadata": {},
   "outputs": [
    {
     "data": {
      "text/plain": [
       "index                                                                                   44\n",
       "Rank                                                                                    60\n",
       "Publication ID                                                              pub.1127545458\n",
       "DOI                                                                    10.2166/nh.2020.014\n",
       "PMID                                                                                   NaN\n",
       "PMCID                                                                                  NaN\n",
       "Title                                    Identification of regional water security issu...\n",
       "Source title                                                            Hydrology Research\n",
       "Anthology title                                                                        NaN\n",
       "Publisher                                                                   IWA Publishing\n",
       "MeSH terms                                                                             NaN\n",
       "Publication Date                                                                2020-05-11\n",
       "PubYear                                                                               2020\n",
       "Volume                                                                                 NaN\n",
       "Issue                                                                                  NaN\n",
       "Pagination                                                                             NaN\n",
       "Open Access                                                              All OA; Pure Gold\n",
       "Publication Type                                                                   Article\n",
       "Authors                                  Yao, Jiping; Wang, Guoqiang; Xue, Baolin; Xie,...\n",
       "Corresponding Author                                                                   NaN\n",
       "Authors Affiliations                     Yao, Jiping (Beijing Normal University); Wang,...\n",
       "Research Organizations - standardized                            Beijing Normal University\n",
       "GRID IDs                                                                     grid.20513.35\n",
       "City of Research organization                                                      Beijing\n",
       "State of Research organization                                                     Beijing\n",
       "Country of Research organization                                                     China\n",
       "Funder                                        National Natural Science Foundation of China\n",
       "Funder Group                                                                           NaN\n",
       "Funder Country                                                                       China\n",
       "UIDs of supporting grants                                                    grant.8274314\n",
       "Supporting Grants                                                                 51679006\n",
       "Times cited                                                                              0\n",
       "Recent citations                                                                         0\n",
       "RCR                                                                                    NaN\n",
       "FCR                                                                                    NaN\n",
       "Altmetric                                                                              NaN\n",
       "Source Linkout                           https://iwaponline.com/hr/article-pdf/doi/10.2...\n",
       "Dimensions URL                           https://app.dimensions.ai/details/publication/...\n",
       "FOR (ANZSRC) Categories                     09 Engineering; 0907 Environmental Engineering\n",
       "RCDC Categories                                                                        NaN\n",
       "HRCS HC Categories                                                                     NaN\n",
       "HRCS RAC Categories                                                                    NaN\n",
       "ICRP Cancer Types                                                                      NaN\n",
       "ICRP CSO Categories                                                                    NaN\n",
       "Units of Assessment                                 C19 Politics and International Studies\n",
       "Sustainable Development Goals                                 6 Clean Water and Sanitation\n",
       "sourcefile                                  Dimensions-Publication-2020-06-01_20-12-05.csv\n",
       "Name: 44, dtype: object"
      ]
     },
     "execution_count": 14,
     "metadata": {},
     "output_type": "execute_result"
    }
   ],
   "source": [
    "# example\n",
    "dfCov.iloc[44]"
   ]
  },
  {
   "cell_type": "code",
   "execution_count": 15,
   "metadata": {},
   "outputs": [],
   "source": [
    "# save json file for further extension. E.g. use .LoadJournals for adding abstract\n",
    "dfCov.to_json(\"dfpubl.json\")"
   ]
  }
 ],
 "metadata": {
  "kernelspec": {
   "display_name": "Python 3",
   "language": "python",
   "name": "python3"
  },
  "language_info": {
   "codemirror_mode": {
    "name": "ipython",
    "version": 3
   },
   "file_extension": ".py",
   "mimetype": "text/x-python",
   "name": "python",
   "nbconvert_exporter": "python",
   "pygments_lexer": "ipython3",
   "version": "3.7.7"
  }
 },
 "nbformat": 4,
 "nbformat_minor": 4
}
