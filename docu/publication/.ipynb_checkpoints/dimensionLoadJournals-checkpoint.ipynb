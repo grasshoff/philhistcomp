{
 "cells": [
  {
   "cell_type": "markdown",
   "metadata": {},
   "source": [
    "# read dimension data"
   ]
  },
  {
   "cell_type": "code",
   "execution_count": 1,
   "metadata": {},
   "outputs": [],
   "source": [
    "import datetime\n",
    "import numpy as np\n",
    "import pandas as pd"
   ]
  },
  {
   "cell_type": "code",
   "execution_count": 2,
   "metadata": {},
   "outputs": [],
   "source": [
    "from bs4 import BeautifulSoup\n",
    "import requests\n",
    "import json \n",
    "from datetime import datetime"
   ]
  },
  {
   "cell_type": "code",
   "execution_count": 3,
   "metadata": {},
   "outputs": [],
   "source": [
    "import multiprocessing as mp"
   ]
  },
  {
   "cell_type": "markdown",
   "metadata": {},
   "source": [
    "# Load data"
   ]
  },
  {
   "cell_type": "code",
   "execution_count": 4,
   "metadata": {},
   "outputs": [],
   "source": [
    "dfCov=pd.read_json(\"dfpubl.json\")"
   ]
  },
  {
   "cell_type": "code",
   "execution_count": 5,
   "metadata": {},
   "outputs": [
    {
     "data": {
      "text/plain": [
       "2891"
      ]
     },
     "execution_count": 5,
     "metadata": {},
     "output_type": "execute_result"
    }
   ],
   "source": [
    "len(dfCov)"
   ]
  },
  {
   "cell_type": "markdown",
   "metadata": {},
   "source": [
    "# Scraping dimension archiv"
   ]
  },
  {
   "cell_type": "code",
   "execution_count": 6,
   "metadata": {},
   "outputs": [],
   "source": [
    "## create a soup column\n",
    "def getsoup0(x):\n",
    "    return(BeautifulSoup(x,\"lxml\"))"
   ]
  },
  {
   "cell_type": "code",
   "execution_count": 7,
   "metadata": {},
   "outputs": [],
   "source": [
    "## get html pages from dimension\n",
    "def gethtml0(x):\n",
    "    html=\"\"\n",
    "    url=x\n",
    "    if url!=None:\n",
    "        html = requests.get(url).content\n",
    "    return(html)"
   ]
  },
  {
   "cell_type": "code",
   "execution_count": null,
   "metadata": {},
   "outputs": [],
   "source": [
    "%%time\n",
    "with mp.Pool(16) as pool:\n",
    "    dfCov['htmldimension'] = pool.map(gethtml0, dfCov['Dimensions URL'])"
   ]
  },
  {
   "cell_type": "code",
   "execution_count": 196,
   "metadata": {},
   "outputs": [
    {
     "name": "stdout",
     "output_type": "stream",
     "text": [
      "CPU times: user 13.5 s, sys: 776 ms, total: 14.3 s\n",
      "Wall time: 18.2 s\n"
     ]
    }
   ],
   "source": [
    "%%time\n",
    "#with mp.Pool(mp.cpu_count()) as pool:\n",
    "with mp.Pool(16) as pool:\n",
    "    dfCov[\"soup\"]=pool.map(getsoup0,dfCov[\"htmldimension\"])"
   ]
  },
  {
   "cell_type": "code",
   "execution_count": 197,
   "metadata": {},
   "outputs": [],
   "source": [
    "## create a dict column\n",
    "def getdimdict0(x):\n",
    "    datadoc=x.find(\"div\")\n",
    "    d=\"\"\n",
    "    if datadoc==None:\n",
    "        attr=\"\"\n",
    "    else:\n",
    "        attr=datadoc.get(\"data-doc\")\n",
    "        if attr:\n",
    "            d=json.loads(attr)\n",
    "    return(d)"
   ]
  },
  {
   "cell_type": "code",
   "execution_count": 198,
   "metadata": {},
   "outputs": [
    {
     "name": "stdout",
     "output_type": "stream",
     "text": [
      "CPU times: user 1.88 s, sys: 47.2 ms, total: 1.93 s\n",
      "Wall time: 1.94 s\n"
     ]
    }
   ],
   "source": [
    "%%time\n",
    "dfCov[\"dimdict\"]=dfCov[\"soup\"].apply(getdimdict0)"
   ]
  },
  {
   "cell_type": "code",
   "execution_count": 199,
   "metadata": {},
   "outputs": [
    {
     "data": {
      "text/html": [
       "<div>\n",
       "<style scoped>\n",
       "    .dataframe tbody tr th:only-of-type {\n",
       "        vertical-align: middle;\n",
       "    }\n",
       "\n",
       "    .dataframe tbody tr th {\n",
       "        vertical-align: top;\n",
       "    }\n",
       "\n",
       "    .dataframe thead th {\n",
       "        text-align: right;\n",
       "    }\n",
       "</style>\n",
       "<table border=\"1\" class=\"dataframe\">\n",
       "  <thead>\n",
       "    <tr style=\"text-align: right;\">\n",
       "      <th></th>\n",
       "      <th>index</th>\n",
       "      <th>Rank</th>\n",
       "      <th>Publication ID</th>\n",
       "      <th>DOI</th>\n",
       "      <th>PMID</th>\n",
       "      <th>PMCID</th>\n",
       "      <th>Title</th>\n",
       "      <th>Source title</th>\n",
       "      <th>Anthology title</th>\n",
       "      <th>Publisher</th>\n",
       "      <th>...</th>\n",
       "      <th>HRCS HC Categories</th>\n",
       "      <th>HRCS RAC Categories</th>\n",
       "      <th>ICRP Cancer Types</th>\n",
       "      <th>ICRP CSO Categories</th>\n",
       "      <th>Units of Assessment</th>\n",
       "      <th>Sustainable Development Goals</th>\n",
       "      <th>sourcefile</th>\n",
       "      <th>htmldimension</th>\n",
       "      <th>soup</th>\n",
       "      <th>dimdict</th>\n",
       "    </tr>\n",
       "  </thead>\n",
       "  <tbody>\n",
       "    <tr>\n",
       "      <th>0</th>\n",
       "      <td>0</td>\n",
       "      <td>911</td>\n",
       "      <td>pub.1125763813</td>\n",
       "      <td>10.1016/j.ijantimicag.2020.105948</td>\n",
       "      <td>32201353.0</td>\n",
       "      <td>None</td>\n",
       "      <td>A review of the 2019 Novel Coronavirus (COVID-...</td>\n",
       "      <td>International Journal of Antimicrobial Agents</td>\n",
       "      <td>None</td>\n",
       "      <td>Elsevier</td>\n",
       "      <td>...</td>\n",
       "      <td>None</td>\n",
       "      <td>None</td>\n",
       "      <td>None</td>\n",
       "      <td>None</td>\n",
       "      <td>A04 Psychology, Psychiatry and Neuroscience</td>\n",
       "      <td>None</td>\n",
       "      <td>../../dimensionxxl/Dimensions-Publication-2020...</td>\n",
       "      <td>b'\\n\\n&lt;!DOCTYPE html&gt;\\n&lt;html lang=\"en\"&gt;\\n&lt;head...</td>\n",
       "      <td>[html, [\\n, [\\n,  OneTrust Cookies Consent Not...</td>\n",
       "      <td>{'title': 'A review of the 2019 Novel Coronavi...</td>\n",
       "    </tr>\n",
       "    <tr>\n",
       "      <th>1</th>\n",
       "      <td>1</td>\n",
       "      <td>891</td>\n",
       "      <td>pub.1125406007</td>\n",
       "      <td>10.1016/j.ijid.2020.03.003</td>\n",
       "      <td>32147538.0</td>\n",
       "      <td>PMC7129213</td>\n",
       "      <td>Recurrence of positive SARS-CoV-2 RNA in COVID...</td>\n",
       "      <td>International Journal of Infectious Diseases</td>\n",
       "      <td>None</td>\n",
       "      <td>Elsevier</td>\n",
       "      <td>...</td>\n",
       "      <td>Infection</td>\n",
       "      <td>None</td>\n",
       "      <td>None</td>\n",
       "      <td>None</td>\n",
       "      <td>A05 Biological Sciences</td>\n",
       "      <td>None</td>\n",
       "      <td>../../dimensionxxl/Dimensions-Publication-2020...</td>\n",
       "      <td>b'\\n\\n&lt;!DOCTYPE html&gt;\\n&lt;html lang=\"en\"&gt;\\n&lt;head...</td>\n",
       "      <td>[html, [\\n, [\\n,  OneTrust Cookies Consent Not...</td>\n",
       "      <td>{'title': 'Recurrence of positive SARS-CoV-2 R...</td>\n",
       "    </tr>\n",
       "    <tr>\n",
       "      <th>2</th>\n",
       "      <td>2</td>\n",
       "      <td>887</td>\n",
       "      <td>pub.1124911473</td>\n",
       "      <td>10.1016/j.ijantimicag.2020.105924</td>\n",
       "      <td>32081636.0</td>\n",
       "      <td>PMC7127800</td>\n",
       "      <td>Severe acute respiratory syndrome coronavirus ...</td>\n",
       "      <td>International Journal of Antimicrobial Agents</td>\n",
       "      <td>None</td>\n",
       "      <td>Elsevier</td>\n",
       "      <td>...</td>\n",
       "      <td>Infection</td>\n",
       "      <td>None</td>\n",
       "      <td>None</td>\n",
       "      <td>None</td>\n",
       "      <td>A01 Clinical Medicine</td>\n",
       "      <td>None</td>\n",
       "      <td>../../dimensionxxl/Dimensions-Publication-2020...</td>\n",
       "      <td>b'\\n\\n&lt;!DOCTYPE html&gt;\\n&lt;html lang=\"en\"&gt;\\n&lt;head...</td>\n",
       "      <td>[html, [\\n, [\\n,  OneTrust Cookies Consent Not...</td>\n",
       "      <td>{'title': 'Severe acute respiratory syndrome c...</td>\n",
       "    </tr>\n",
       "  </tbody>\n",
       "</table>\n",
       "<p>3 rows × 50 columns</p>\n",
       "</div>"
      ],
      "text/plain": [
       "   index  Rank  Publication ID                                DOI        PMID  \\\n",
       "0      0   911  pub.1125763813  10.1016/j.ijantimicag.2020.105948  32201353.0   \n",
       "1      1   891  pub.1125406007         10.1016/j.ijid.2020.03.003  32147538.0   \n",
       "2      2   887  pub.1124911473  10.1016/j.ijantimicag.2020.105924  32081636.0   \n",
       "\n",
       "        PMCID                                              Title  \\\n",
       "0        None  A review of the 2019 Novel Coronavirus (COVID-...   \n",
       "1  PMC7129213  Recurrence of positive SARS-CoV-2 RNA in COVID...   \n",
       "2  PMC7127800  Severe acute respiratory syndrome coronavirus ...   \n",
       "\n",
       "                                    Source title Anthology title Publisher  \\\n",
       "0  International Journal of Antimicrobial Agents            None  Elsevier   \n",
       "1   International Journal of Infectious Diseases            None  Elsevier   \n",
       "2  International Journal of Antimicrobial Agents            None  Elsevier   \n",
       "\n",
       "   ... HRCS HC Categories HRCS RAC Categories  ICRP Cancer Types  \\\n",
       "0  ...               None                None               None   \n",
       "1  ...          Infection                None               None   \n",
       "2  ...          Infection                None               None   \n",
       "\n",
       "  ICRP CSO Categories                          Units of Assessment  \\\n",
       "0                None  A04 Psychology, Psychiatry and Neuroscience   \n",
       "1                None                      A05 Biological Sciences   \n",
       "2                None                        A01 Clinical Medicine   \n",
       "\n",
       "  Sustainable Development Goals  \\\n",
       "0                          None   \n",
       "1                          None   \n",
       "2                          None   \n",
       "\n",
       "                                          sourcefile  \\\n",
       "0  ../../dimensionxxl/Dimensions-Publication-2020...   \n",
       "1  ../../dimensionxxl/Dimensions-Publication-2020...   \n",
       "2  ../../dimensionxxl/Dimensions-Publication-2020...   \n",
       "\n",
       "                                       htmldimension  \\\n",
       "0  b'\\n\\n<!DOCTYPE html>\\n<html lang=\"en\">\\n<head...   \n",
       "1  b'\\n\\n<!DOCTYPE html>\\n<html lang=\"en\">\\n<head...   \n",
       "2  b'\\n\\n<!DOCTYPE html>\\n<html lang=\"en\">\\n<head...   \n",
       "\n",
       "                                                soup  \\\n",
       "0  [html, [\\n, [\\n,  OneTrust Cookies Consent Not...   \n",
       "1  [html, [\\n, [\\n,  OneTrust Cookies Consent Not...   \n",
       "2  [html, [\\n, [\\n,  OneTrust Cookies Consent Not...   \n",
       "\n",
       "                                             dimdict  \n",
       "0  {'title': 'A review of the 2019 Novel Coronavi...  \n",
       "1  {'title': 'Recurrence of positive SARS-CoV-2 R...  \n",
       "2  {'title': 'Severe acute respiratory syndrome c...  \n",
       "\n",
       "[3 rows x 50 columns]"
      ]
     },
     "execution_count": 199,
     "metadata": {},
     "output_type": "execute_result"
    }
   ],
   "source": [
    "dfCov.head(3)"
   ]
  },
  {
   "cell_type": "code",
   "execution_count": 200,
   "metadata": {},
   "outputs": [
    {
     "name": "stdout",
     "output_type": "stream",
     "text": [
      "date and time: 05_30_2020__14_48_01\n"
     ]
    }
   ],
   "source": [
    "now = datetime.now() # current date and time\n",
    "date_time = now.strftime(\"%m_%d_%Y__%H_%M_%S\")\n",
    "print(\"date and time:\",date_time)"
   ]
  },
  {
   "cell_type": "code",
   "execution_count": 201,
   "metadata": {},
   "outputs": [],
   "source": [
    "dfCov.to_json(\"fullpubl.json\")"
   ]
  }
 ],
 "metadata": {
  "kernelspec": {
   "display_name": "Python 3",
   "language": "python",
   "name": "python3"
  },
  "language_info": {
   "codemirror_mode": {
    "name": "ipython",
    "version": 3
   },
   "file_extension": ".py",
   "mimetype": "text/x-python",
   "name": "python",
   "nbconvert_exporter": "python",
   "pygments_lexer": "ipython3",
   "version": "3.7.7"
  }
 },
 "nbformat": 4,
 "nbformat_minor": 4
}
