{
 "cells": [
  {
   "cell_type": "markdown",
   "metadata": {
    "slideshow": {
     "slide_type": "slide"
    }
   },
   "source": [
    "#  Computational Philosophy and History of Science\n",
    "## Analysing scientific publications: the case of Remdesivir research\n",
    "## Gerd Graßhoff"
   ]
  },
  {
   "cell_type": "code",
   "execution_count": 35,
   "metadata": {
    "slideshow": {
     "slide_type": "skip"
    }
   },
   "outputs": [],
   "source": [
    "import pandas as pd\n",
    "import spacy\n",
    "from spacy import displacy\n",
    "from spacy.matcher import Matcher"
   ]
  },
  {
   "cell_type": "code",
   "execution_count": 36,
   "metadata": {
    "slideshow": {
     "slide_type": "skip"
    }
   },
   "outputs": [],
   "source": [
    "import warnings\n",
    "warnings.filterwarnings('ignore')"
   ]
  },
  {
   "cell_type": "code",
   "execution_count": 37,
   "metadata": {
    "code_folding": [
     0
    ],
    "slideshow": {
     "slide_type": "skip"
    }
   },
   "outputs": [],
   "source": [
    "# Import English library\n",
    "nlp = spacy.load('en_core_web_lg')"
   ]
  },
  {
   "cell_type": "code",
   "execution_count": 38,
   "metadata": {
    "slideshow": {
     "slide_type": "slide"
    }
   },
   "outputs": [],
   "source": [
    "dfRem=pd.read_json(\"dfRemdesivierResearchObjects.json\")[[\"title\",\"abstract\"]]"
   ]
  },
  {
   "cell_type": "code",
   "execution_count": 39,
   "metadata": {
    "slideshow": {
     "slide_type": "fragment"
    }
   },
   "outputs": [
    {
     "data": {
      "text/plain": [
       "2180"
      ]
     },
     "execution_count": 39,
     "metadata": {},
     "output_type": "execute_result"
    }
   ],
   "source": [
    "len(dfRem)  "
   ]
  },
  {
   "cell_type": "code",
   "execution_count": 40,
   "metadata": {},
   "outputs": [
    {
     "data": {
      "text/html": [
       "<div>\n",
       "<style scoped>\n",
       "    .dataframe tbody tr th:only-of-type {\n",
       "        vertical-align: middle;\n",
       "    }\n",
       "\n",
       "    .dataframe tbody tr th {\n",
       "        vertical-align: top;\n",
       "    }\n",
       "\n",
       "    .dataframe thead th {\n",
       "        text-align: right;\n",
       "    }\n",
       "</style>\n",
       "<table border=\"1\" class=\"dataframe\">\n",
       "  <thead>\n",
       "    <tr style=\"text-align: right;\">\n",
       "      <th></th>\n",
       "      <th>title</th>\n",
       "      <th>abstract</th>\n",
       "    </tr>\n",
       "  </thead>\n",
       "  <tbody>\n",
       "    <tr>\n",
       "      <th>0</th>\n",
       "      <td>Evaluation of the efficacy and safety of intra...</td>\n",
       "      <td>BACKGROUND: Coronavirus disease 2019 (COVID-19...</td>\n",
       "    </tr>\n",
       "    <tr>\n",
       "      <th>1</th>\n",
       "      <td>Role of adjunctive treatment strategies in COV...</td>\n",
       "      <td>The coronavirus disease (COVID-19) pandemic ha...</td>\n",
       "    </tr>\n",
       "  </tbody>\n",
       "</table>\n",
       "</div>"
      ],
      "text/plain": [
       "                                               title  \\\n",
       "0  Evaluation of the efficacy and safety of intra...   \n",
       "1  Role of adjunctive treatment strategies in COV...   \n",
       "\n",
       "                                            abstract  \n",
       "0  BACKGROUND: Coronavirus disease 2019 (COVID-19...  \n",
       "1  The coronavirus disease (COVID-19) pandemic ha...  "
      ]
     },
     "execution_count": 40,
     "metadata": {},
     "output_type": "execute_result"
    }
   ],
   "source": [
    "dfRem.head(2)"
   ]
  },
  {
   "cell_type": "code",
   "execution_count": 41,
   "metadata": {},
   "outputs": [
    {
     "data": {
      "text/plain": [
       "2135"
      ]
     },
     "execution_count": 41,
     "metadata": {},
     "output_type": "execute_result"
    }
   ],
   "source": [
    "dfRem=dfRem.dropna(subset=[\"abstract\"])\n",
    "len(dfRem)"
   ]
  },
  {
   "cell_type": "markdown",
   "metadata": {
    "slideshow": {
     "slide_type": "skip"
    }
   },
   "source": [
    "# Filter\n",
    "\n",
    "Initially just for those abstracts containing the expression \"We show\""
   ]
  },
  {
   "cell_type": "code",
   "execution_count": 42,
   "metadata": {
    "slideshow": {
     "slide_type": "skip"
    }
   },
   "outputs": [],
   "source": [
    "suche=\"We show\"\n",
    "def filter(zeile):\n",
    "    cond=zeile[\"abstract\"].str.contains(suche,na=False)\n",
    "    return(cond)"
   ]
  },
  {
   "cell_type": "code",
   "execution_count": 43,
   "metadata": {
    "slideshow": {
     "slide_type": "skip"
    }
   },
   "outputs": [
    {
     "data": {
      "text/html": [
       "<div>\n",
       "<style scoped>\n",
       "    .dataframe tbody tr th:only-of-type {\n",
       "        vertical-align: middle;\n",
       "    }\n",
       "\n",
       "    .dataframe tbody tr th {\n",
       "        vertical-align: top;\n",
       "    }\n",
       "\n",
       "    .dataframe thead th {\n",
       "        text-align: right;\n",
       "    }\n",
       "</style>\n",
       "<table border=\"1\" class=\"dataframe\">\n",
       "  <thead>\n",
       "    <tr style=\"text-align: right;\">\n",
       "      <th></th>\n",
       "      <th>title</th>\n",
       "      <th>abstract</th>\n",
       "    </tr>\n",
       "  </thead>\n",
       "  <tbody>\n",
       "    <tr>\n",
       "      <th>341</th>\n",
       "      <td>In silico detection of SARS-CoV-2 specific B-c...</td>\n",
       "      <td>Abstract Rapid generation of diagnostics is pa...</td>\n",
       "    </tr>\n",
       "    <tr>\n",
       "      <th>537</th>\n",
       "      <td>Structure based drug discovery by virtual scre...</td>\n",
       "      <td>&amp;lt;p&amp;gt;Background&amp;lt;/p&amp;gt;&amp;lt;p&amp;gt;The curr...</td>\n",
       "    </tr>\n",
       "    <tr>\n",
       "      <th>649</th>\n",
       "      <td>Defining the Pandemic at the State Level: Sequ...</td>\n",
       "      <td>In December of 2019, a novel coronavirus, SARS...</td>\n",
       "    </tr>\n",
       "    <tr>\n",
       "      <th>685</th>\n",
       "      <td>COVID-19 research in Wikipedia</td>\n",
       "      <td>Wikipedia is one of the main sources of free k...</td>\n",
       "    </tr>\n",
       "    <tr>\n",
       "      <th>1542</th>\n",
       "      <td>SARS-CoV-2 and SARS-CoV differ in their cell t...</td>\n",
       "      <td>SARS-CoV-2 is a novel coronavirus currently ca...</td>\n",
       "    </tr>\n",
       "  </tbody>\n",
       "</table>\n",
       "</div>"
      ],
      "text/plain": [
       "                                                  title  \\\n",
       "341   In silico detection of SARS-CoV-2 specific B-c...   \n",
       "537   Structure based drug discovery by virtual scre...   \n",
       "649   Defining the Pandemic at the State Level: Sequ...   \n",
       "685                      COVID-19 research in Wikipedia   \n",
       "1542  SARS-CoV-2 and SARS-CoV differ in their cell t...   \n",
       "\n",
       "                                               abstract  \n",
       "341   Abstract Rapid generation of diagnostics is pa...  \n",
       "537   &lt;p&gt;Background&lt;/p&gt;&lt;p&gt;The curr...  \n",
       "649   In December of 2019, a novel coronavirus, SARS...  \n",
       "685   Wikipedia is one of the main sources of free k...  \n",
       "1542  SARS-CoV-2 is a novel coronavirus currently ca...  "
      ]
     },
     "execution_count": 43,
     "metadata": {},
     "output_type": "execute_result"
    }
   ],
   "source": [
    "df1=dfRem[filter]\n",
    "df1"
   ]
  },
  {
   "cell_type": "markdown",
   "metadata": {
    "slideshow": {
     "slide_type": "slide"
    }
   },
   "source": [
    "# Pattern for propositional attitudes \n",
    "\n",
    "## \"we [VERB]\"\n",
    "\n",
    "https://spacy.io/usage/rule-based-matching\n",
    "\n",
    "https://explosion.ai/demos/matcher?"
   ]
  },
  {
   "cell_type": "code",
   "execution_count": 44,
   "metadata": {
    "slideshow": {
     "slide_type": "skip"
    }
   },
   "outputs": [],
   "source": [
    "dfRem[\"doc\"]=dfRem[\"abstract\"].apply(nlp)"
   ]
  },
  {
   "cell_type": "code",
   "execution_count": 45,
   "metadata": {
    "slideshow": {
     "slide_type": "subslide"
    }
   },
   "outputs": [],
   "source": [
    "exemplar=nlp(dfRem.iloc[2].abstract)"
   ]
  },
  {
   "cell_type": "code",
   "execution_count": 46,
   "metadata": {
    "slideshow": {
     "slide_type": "subslide"
    }
   },
   "outputs": [
    {
     "name": "stdout",
     "output_type": "stream",
     "text": [
      " Satz 0= Middle East respiratory syndrome coronavirus (MERS-CoV) is the causative agent of a severe respiratory disease associated with more than 2468 human infections and over 851 deaths in 27 countries since 2012.\n",
      " Satz 1= There are no approved treatments for MERS-CoV infection although a combination of lopinavir, ritonavir and interferon beta (LPV/RTV-IFNb) is currently being evaluated in humans in the Kingdom of Saudi Arabia.\n",
      " Satz 2= Here, we show that remdesivir (RDV) and IFNb have superior antiviral activity to LPV and RTV in vitro.\n",
      " Satz 3= In mice, both prophylactic and therapeutic RDV improve pulmonary function and reduce lung viral loads and severe lung pathology.\n",
      " Satz 4= In contrast, prophylactic LPV/RTV-IFNb slightly reduces viral loads without impacting other disease parameters.\n",
      " Satz 5= Therapeutic LPV/RTV-IFNb improves pulmonary function but does not reduce virus replication or severe lung pathology.\n",
      " Satz 6= Thus, we provide in vivo evidence of the potential for RDV to treat MERS-CoV infections.\n"
     ]
    }
   ],
   "source": [
    "for i,sent in enumerate(exemplar.sents):\n",
    "    print(f\" Satz {i}= {sent}\") "
   ]
  },
  {
   "cell_type": "code",
   "execution_count": 47,
   "metadata": {
    "slideshow": {
     "slide_type": "subslide"
    }
   },
   "outputs": [
    {
     "name": "stdout",
     "output_type": "stream",
     "text": [
      "Thus, we provide in vivo evidence of the potential for RDV to treat MERS-CoV infections.\n"
     ]
    }
   ],
   "source": [
    "sentences=[s for s in exemplar.sents]\n",
    "s=sentences[6].text\n",
    "doc=nlp(s)\n",
    "print(doc)"
   ]
  },
  {
   "cell_type": "code",
   "execution_count": 48,
   "metadata": {
    "slideshow": {
     "slide_type": "slide"
    }
   },
   "outputs": [
    {
     "data": {
      "text/html": [
       "<span class=\"tex2jax_ignore\"><div class=\"entities\" style=\"line-height: 2.5; direction: ltr\">Thus, we provide in vivo evidence of the potential for \n",
       "<mark class=\"entity\" style=\"background: #ddd; padding: 0.45em 0.6em; margin: 0 0.25em; line-height: 1; border-radius: 0.35em;\">\n",
       "    RDV\n",
       "    <span style=\"font-size: 0.8em; font-weight: bold; line-height: 1; border-radius: 0.35em; text-transform: uppercase; vertical-align: middle; margin-left: 0.5rem\">FAC</span>\n",
       "</mark>\n",
       " to treat \n",
       "<mark class=\"entity\" style=\"background: #7aecec; padding: 0.45em 0.6em; margin: 0 0.25em; line-height: 1; border-radius: 0.35em;\">\n",
       "    MERS-CoV\n",
       "    <span style=\"font-size: 0.8em; font-weight: bold; line-height: 1; border-radius: 0.35em; text-transform: uppercase; vertical-align: middle; margin-left: 0.5rem\">ORG</span>\n",
       "</mark>\n",
       " infections.</div></span>"
      ],
      "text/plain": [
       "<IPython.core.display.HTML object>"
      ]
     },
     "metadata": {},
     "output_type": "display_data"
    }
   ],
   "source": [
    "displacy.render(doc, style=\"ent\")"
   ]
  },
  {
   "cell_type": "code",
   "execution_count": 49,
   "metadata": {
    "slideshow": {
     "slide_type": "subslide"
    }
   },
   "outputs": [
    {
     "data": {
      "text/html": [
       "<span class=\"tex2jax_ignore\"><svg xmlns=\"http://www.w3.org/2000/svg\" xmlns:xlink=\"http://www.w3.org/1999/xlink\" xml:lang=\"en\" id=\"b98815823a974ad58a92f9ccc26b6625-0\" class=\"displacy\" width=\"2850\" height=\"487.0\" direction=\"ltr\" style=\"max-width: none; height: 487.0px; color: #000000; background: #ffffff; font-family: Arial; direction: ltr\">\n",
       "<text class=\"displacy-token\" fill=\"currentColor\" text-anchor=\"middle\" y=\"397.0\">\n",
       "    <tspan class=\"displacy-word\" fill=\"currentColor\" x=\"50\">Thus,</tspan>\n",
       "    <tspan class=\"displacy-tag\" dy=\"2em\" fill=\"currentColor\" x=\"50\">ADV</tspan>\n",
       "</text>\n",
       "\n",
       "<text class=\"displacy-token\" fill=\"currentColor\" text-anchor=\"middle\" y=\"397.0\">\n",
       "    <tspan class=\"displacy-word\" fill=\"currentColor\" x=\"225\">we</tspan>\n",
       "    <tspan class=\"displacy-tag\" dy=\"2em\" fill=\"currentColor\" x=\"225\">PRON</tspan>\n",
       "</text>\n",
       "\n",
       "<text class=\"displacy-token\" fill=\"currentColor\" text-anchor=\"middle\" y=\"397.0\">\n",
       "    <tspan class=\"displacy-word\" fill=\"currentColor\" x=\"400\">provide</tspan>\n",
       "    <tspan class=\"displacy-tag\" dy=\"2em\" fill=\"currentColor\" x=\"400\">VERB</tspan>\n",
       "</text>\n",
       "\n",
       "<text class=\"displacy-token\" fill=\"currentColor\" text-anchor=\"middle\" y=\"397.0\">\n",
       "    <tspan class=\"displacy-word\" fill=\"currentColor\" x=\"575\">in</tspan>\n",
       "    <tspan class=\"displacy-tag\" dy=\"2em\" fill=\"currentColor\" x=\"575\">ADP</tspan>\n",
       "</text>\n",
       "\n",
       "<text class=\"displacy-token\" fill=\"currentColor\" text-anchor=\"middle\" y=\"397.0\">\n",
       "    <tspan class=\"displacy-word\" fill=\"currentColor\" x=\"750\">vivo</tspan>\n",
       "    <tspan class=\"displacy-tag\" dy=\"2em\" fill=\"currentColor\" x=\"750\">X</tspan>\n",
       "</text>\n",
       "\n",
       "<text class=\"displacy-token\" fill=\"currentColor\" text-anchor=\"middle\" y=\"397.0\">\n",
       "    <tspan class=\"displacy-word\" fill=\"currentColor\" x=\"925\">evidence</tspan>\n",
       "    <tspan class=\"displacy-tag\" dy=\"2em\" fill=\"currentColor\" x=\"925\">NOUN</tspan>\n",
       "</text>\n",
       "\n",
       "<text class=\"displacy-token\" fill=\"currentColor\" text-anchor=\"middle\" y=\"397.0\">\n",
       "    <tspan class=\"displacy-word\" fill=\"currentColor\" x=\"1100\">of</tspan>\n",
       "    <tspan class=\"displacy-tag\" dy=\"2em\" fill=\"currentColor\" x=\"1100\">ADP</tspan>\n",
       "</text>\n",
       "\n",
       "<text class=\"displacy-token\" fill=\"currentColor\" text-anchor=\"middle\" y=\"397.0\">\n",
       "    <tspan class=\"displacy-word\" fill=\"currentColor\" x=\"1275\">the</tspan>\n",
       "    <tspan class=\"displacy-tag\" dy=\"2em\" fill=\"currentColor\" x=\"1275\">DET</tspan>\n",
       "</text>\n",
       "\n",
       "<text class=\"displacy-token\" fill=\"currentColor\" text-anchor=\"middle\" y=\"397.0\">\n",
       "    <tspan class=\"displacy-word\" fill=\"currentColor\" x=\"1450\">potential</tspan>\n",
       "    <tspan class=\"displacy-tag\" dy=\"2em\" fill=\"currentColor\" x=\"1450\">NOUN</tspan>\n",
       "</text>\n",
       "\n",
       "<text class=\"displacy-token\" fill=\"currentColor\" text-anchor=\"middle\" y=\"397.0\">\n",
       "    <tspan class=\"displacy-word\" fill=\"currentColor\" x=\"1625\">for</tspan>\n",
       "    <tspan class=\"displacy-tag\" dy=\"2em\" fill=\"currentColor\" x=\"1625\">ADP</tspan>\n",
       "</text>\n",
       "\n",
       "<text class=\"displacy-token\" fill=\"currentColor\" text-anchor=\"middle\" y=\"397.0\">\n",
       "    <tspan class=\"displacy-word\" fill=\"currentColor\" x=\"1800\">RDV</tspan>\n",
       "    <tspan class=\"displacy-tag\" dy=\"2em\" fill=\"currentColor\" x=\"1800\">PROPN</tspan>\n",
       "</text>\n",
       "\n",
       "<text class=\"displacy-token\" fill=\"currentColor\" text-anchor=\"middle\" y=\"397.0\">\n",
       "    <tspan class=\"displacy-word\" fill=\"currentColor\" x=\"1975\">to</tspan>\n",
       "    <tspan class=\"displacy-tag\" dy=\"2em\" fill=\"currentColor\" x=\"1975\">PART</tspan>\n",
       "</text>\n",
       "\n",
       "<text class=\"displacy-token\" fill=\"currentColor\" text-anchor=\"middle\" y=\"397.0\">\n",
       "    <tspan class=\"displacy-word\" fill=\"currentColor\" x=\"2150\">treat</tspan>\n",
       "    <tspan class=\"displacy-tag\" dy=\"2em\" fill=\"currentColor\" x=\"2150\">VERB</tspan>\n",
       "</text>\n",
       "\n",
       "<text class=\"displacy-token\" fill=\"currentColor\" text-anchor=\"middle\" y=\"397.0\">\n",
       "    <tspan class=\"displacy-word\" fill=\"currentColor\" x=\"2325\">MERS-</tspan>\n",
       "    <tspan class=\"displacy-tag\" dy=\"2em\" fill=\"currentColor\" x=\"2325\">PROPN</tspan>\n",
       "</text>\n",
       "\n",
       "<text class=\"displacy-token\" fill=\"currentColor\" text-anchor=\"middle\" y=\"397.0\">\n",
       "    <tspan class=\"displacy-word\" fill=\"currentColor\" x=\"2500\">CoV</tspan>\n",
       "    <tspan class=\"displacy-tag\" dy=\"2em\" fill=\"currentColor\" x=\"2500\">NOUN</tspan>\n",
       "</text>\n",
       "\n",
       "<text class=\"displacy-token\" fill=\"currentColor\" text-anchor=\"middle\" y=\"397.0\">\n",
       "    <tspan class=\"displacy-word\" fill=\"currentColor\" x=\"2675\">infections.</tspan>\n",
       "    <tspan class=\"displacy-tag\" dy=\"2em\" fill=\"currentColor\" x=\"2675\">NOUN</tspan>\n",
       "</text>\n",
       "\n",
       "<g class=\"displacy-arrow\">\n",
       "    <path class=\"displacy-arc\" id=\"arrow-b98815823a974ad58a92f9ccc26b6625-0-0\" stroke-width=\"2px\" d=\"M70,352.0 C70,177.0 390.0,177.0 390.0,352.0\" fill=\"none\" stroke=\"currentColor\"/>\n",
       "    <text dy=\"1.25em\" style=\"font-size: 0.8em; letter-spacing: 1px\">\n",
       "        <textPath xlink:href=\"#arrow-b98815823a974ad58a92f9ccc26b6625-0-0\" class=\"displacy-label\" startOffset=\"50%\" side=\"left\" fill=\"currentColor\" text-anchor=\"middle\">advmod</textPath>\n",
       "    </text>\n",
       "    <path class=\"displacy-arrowhead\" d=\"M70,354.0 L62,342.0 78,342.0\" fill=\"currentColor\"/>\n",
       "</g>\n",
       "\n",
       "<g class=\"displacy-arrow\">\n",
       "    <path class=\"displacy-arc\" id=\"arrow-b98815823a974ad58a92f9ccc26b6625-0-1\" stroke-width=\"2px\" d=\"M245,352.0 C245,264.5 385.0,264.5 385.0,352.0\" fill=\"none\" stroke=\"currentColor\"/>\n",
       "    <text dy=\"1.25em\" style=\"font-size: 0.8em; letter-spacing: 1px\">\n",
       "        <textPath xlink:href=\"#arrow-b98815823a974ad58a92f9ccc26b6625-0-1\" class=\"displacy-label\" startOffset=\"50%\" side=\"left\" fill=\"currentColor\" text-anchor=\"middle\">nsubj</textPath>\n",
       "    </text>\n",
       "    <path class=\"displacy-arrowhead\" d=\"M245,354.0 L237,342.0 253,342.0\" fill=\"currentColor\"/>\n",
       "</g>\n",
       "\n",
       "<g class=\"displacy-arrow\">\n",
       "    <path class=\"displacy-arc\" id=\"arrow-b98815823a974ad58a92f9ccc26b6625-0-2\" stroke-width=\"2px\" d=\"M420,352.0 C420,264.5 560.0,264.5 560.0,352.0\" fill=\"none\" stroke=\"currentColor\"/>\n",
       "    <text dy=\"1.25em\" style=\"font-size: 0.8em; letter-spacing: 1px\">\n",
       "        <textPath xlink:href=\"#arrow-b98815823a974ad58a92f9ccc26b6625-0-2\" class=\"displacy-label\" startOffset=\"50%\" side=\"left\" fill=\"currentColor\" text-anchor=\"middle\">prep</textPath>\n",
       "    </text>\n",
       "    <path class=\"displacy-arrowhead\" d=\"M560.0,354.0 L568.0,342.0 552.0,342.0\" fill=\"currentColor\"/>\n",
       "</g>\n",
       "\n",
       "<g class=\"displacy-arrow\">\n",
       "    <path class=\"displacy-arc\" id=\"arrow-b98815823a974ad58a92f9ccc26b6625-0-3\" stroke-width=\"2px\" d=\"M770,352.0 C770,264.5 910.0,264.5 910.0,352.0\" fill=\"none\" stroke=\"currentColor\"/>\n",
       "    <text dy=\"1.25em\" style=\"font-size: 0.8em; letter-spacing: 1px\">\n",
       "        <textPath xlink:href=\"#arrow-b98815823a974ad58a92f9ccc26b6625-0-3\" class=\"displacy-label\" startOffset=\"50%\" side=\"left\" fill=\"currentColor\" text-anchor=\"middle\">compound</textPath>\n",
       "    </text>\n",
       "    <path class=\"displacy-arrowhead\" d=\"M770,354.0 L762,342.0 778,342.0\" fill=\"currentColor\"/>\n",
       "</g>\n",
       "\n",
       "<g class=\"displacy-arrow\">\n",
       "    <path class=\"displacy-arc\" id=\"arrow-b98815823a974ad58a92f9ccc26b6625-0-4\" stroke-width=\"2px\" d=\"M595,352.0 C595,177.0 915.0,177.0 915.0,352.0\" fill=\"none\" stroke=\"currentColor\"/>\n",
       "    <text dy=\"1.25em\" style=\"font-size: 0.8em; letter-spacing: 1px\">\n",
       "        <textPath xlink:href=\"#arrow-b98815823a974ad58a92f9ccc26b6625-0-4\" class=\"displacy-label\" startOffset=\"50%\" side=\"left\" fill=\"currentColor\" text-anchor=\"middle\">pobj</textPath>\n",
       "    </text>\n",
       "    <path class=\"displacy-arrowhead\" d=\"M915.0,354.0 L923.0,342.0 907.0,342.0\" fill=\"currentColor\"/>\n",
       "</g>\n",
       "\n",
       "<g class=\"displacy-arrow\">\n",
       "    <path class=\"displacy-arc\" id=\"arrow-b98815823a974ad58a92f9ccc26b6625-0-5\" stroke-width=\"2px\" d=\"M945,352.0 C945,264.5 1085.0,264.5 1085.0,352.0\" fill=\"none\" stroke=\"currentColor\"/>\n",
       "    <text dy=\"1.25em\" style=\"font-size: 0.8em; letter-spacing: 1px\">\n",
       "        <textPath xlink:href=\"#arrow-b98815823a974ad58a92f9ccc26b6625-0-5\" class=\"displacy-label\" startOffset=\"50%\" side=\"left\" fill=\"currentColor\" text-anchor=\"middle\">prep</textPath>\n",
       "    </text>\n",
       "    <path class=\"displacy-arrowhead\" d=\"M1085.0,354.0 L1093.0,342.0 1077.0,342.0\" fill=\"currentColor\"/>\n",
       "</g>\n",
       "\n",
       "<g class=\"displacy-arrow\">\n",
       "    <path class=\"displacy-arc\" id=\"arrow-b98815823a974ad58a92f9ccc26b6625-0-6\" stroke-width=\"2px\" d=\"M1295,352.0 C1295,264.5 1435.0,264.5 1435.0,352.0\" fill=\"none\" stroke=\"currentColor\"/>\n",
       "    <text dy=\"1.25em\" style=\"font-size: 0.8em; letter-spacing: 1px\">\n",
       "        <textPath xlink:href=\"#arrow-b98815823a974ad58a92f9ccc26b6625-0-6\" class=\"displacy-label\" startOffset=\"50%\" side=\"left\" fill=\"currentColor\" text-anchor=\"middle\">det</textPath>\n",
       "    </text>\n",
       "    <path class=\"displacy-arrowhead\" d=\"M1295,354.0 L1287,342.0 1303,342.0\" fill=\"currentColor\"/>\n",
       "</g>\n",
       "\n",
       "<g class=\"displacy-arrow\">\n",
       "    <path class=\"displacy-arc\" id=\"arrow-b98815823a974ad58a92f9ccc26b6625-0-7\" stroke-width=\"2px\" d=\"M1120,352.0 C1120,177.0 1440.0,177.0 1440.0,352.0\" fill=\"none\" stroke=\"currentColor\"/>\n",
       "    <text dy=\"1.25em\" style=\"font-size: 0.8em; letter-spacing: 1px\">\n",
       "        <textPath xlink:href=\"#arrow-b98815823a974ad58a92f9ccc26b6625-0-7\" class=\"displacy-label\" startOffset=\"50%\" side=\"left\" fill=\"currentColor\" text-anchor=\"middle\">pobj</textPath>\n",
       "    </text>\n",
       "    <path class=\"displacy-arrowhead\" d=\"M1440.0,354.0 L1448.0,342.0 1432.0,342.0\" fill=\"currentColor\"/>\n",
       "</g>\n",
       "\n",
       "<g class=\"displacy-arrow\">\n",
       "    <path class=\"displacy-arc\" id=\"arrow-b98815823a974ad58a92f9ccc26b6625-0-8\" stroke-width=\"2px\" d=\"M1645,352.0 C1645,89.5 2145.0,89.5 2145.0,352.0\" fill=\"none\" stroke=\"currentColor\"/>\n",
       "    <text dy=\"1.25em\" style=\"font-size: 0.8em; letter-spacing: 1px\">\n",
       "        <textPath xlink:href=\"#arrow-b98815823a974ad58a92f9ccc26b6625-0-8\" class=\"displacy-label\" startOffset=\"50%\" side=\"left\" fill=\"currentColor\" text-anchor=\"middle\">mark</textPath>\n",
       "    </text>\n",
       "    <path class=\"displacy-arrowhead\" d=\"M1645,354.0 L1637,342.0 1653,342.0\" fill=\"currentColor\"/>\n",
       "</g>\n",
       "\n",
       "<g class=\"displacy-arrow\">\n",
       "    <path class=\"displacy-arc\" id=\"arrow-b98815823a974ad58a92f9ccc26b6625-0-9\" stroke-width=\"2px\" d=\"M1820,352.0 C1820,177.0 2140.0,177.0 2140.0,352.0\" fill=\"none\" stroke=\"currentColor\"/>\n",
       "    <text dy=\"1.25em\" style=\"font-size: 0.8em; letter-spacing: 1px\">\n",
       "        <textPath xlink:href=\"#arrow-b98815823a974ad58a92f9ccc26b6625-0-9\" class=\"displacy-label\" startOffset=\"50%\" side=\"left\" fill=\"currentColor\" text-anchor=\"middle\">nsubj</textPath>\n",
       "    </text>\n",
       "    <path class=\"displacy-arrowhead\" d=\"M1820,354.0 L1812,342.0 1828,342.0\" fill=\"currentColor\"/>\n",
       "</g>\n",
       "\n",
       "<g class=\"displacy-arrow\">\n",
       "    <path class=\"displacy-arc\" id=\"arrow-b98815823a974ad58a92f9ccc26b6625-0-10\" stroke-width=\"2px\" d=\"M1995,352.0 C1995,264.5 2135.0,264.5 2135.0,352.0\" fill=\"none\" stroke=\"currentColor\"/>\n",
       "    <text dy=\"1.25em\" style=\"font-size: 0.8em; letter-spacing: 1px\">\n",
       "        <textPath xlink:href=\"#arrow-b98815823a974ad58a92f9ccc26b6625-0-10\" class=\"displacy-label\" startOffset=\"50%\" side=\"left\" fill=\"currentColor\" text-anchor=\"middle\">aux</textPath>\n",
       "    </text>\n",
       "    <path class=\"displacy-arrowhead\" d=\"M1995,354.0 L1987,342.0 2003,342.0\" fill=\"currentColor\"/>\n",
       "</g>\n",
       "\n",
       "<g class=\"displacy-arrow\">\n",
       "    <path class=\"displacy-arc\" id=\"arrow-b98815823a974ad58a92f9ccc26b6625-0-11\" stroke-width=\"2px\" d=\"M420,352.0 C420,2.0 2150.0,2.0 2150.0,352.0\" fill=\"none\" stroke=\"currentColor\"/>\n",
       "    <text dy=\"1.25em\" style=\"font-size: 0.8em; letter-spacing: 1px\">\n",
       "        <textPath xlink:href=\"#arrow-b98815823a974ad58a92f9ccc26b6625-0-11\" class=\"displacy-label\" startOffset=\"50%\" side=\"left\" fill=\"currentColor\" text-anchor=\"middle\">advcl</textPath>\n",
       "    </text>\n",
       "    <path class=\"displacy-arrowhead\" d=\"M2150.0,354.0 L2158.0,342.0 2142.0,342.0\" fill=\"currentColor\"/>\n",
       "</g>\n",
       "\n",
       "<g class=\"displacy-arrow\">\n",
       "    <path class=\"displacy-arc\" id=\"arrow-b98815823a974ad58a92f9ccc26b6625-0-12\" stroke-width=\"2px\" d=\"M2345,352.0 C2345,264.5 2485.0,264.5 2485.0,352.0\" fill=\"none\" stroke=\"currentColor\"/>\n",
       "    <text dy=\"1.25em\" style=\"font-size: 0.8em; letter-spacing: 1px\">\n",
       "        <textPath xlink:href=\"#arrow-b98815823a974ad58a92f9ccc26b6625-0-12\" class=\"displacy-label\" startOffset=\"50%\" side=\"left\" fill=\"currentColor\" text-anchor=\"middle\">compound</textPath>\n",
       "    </text>\n",
       "    <path class=\"displacy-arrowhead\" d=\"M2345,354.0 L2337,342.0 2353,342.0\" fill=\"currentColor\"/>\n",
       "</g>\n",
       "\n",
       "<g class=\"displacy-arrow\">\n",
       "    <path class=\"displacy-arc\" id=\"arrow-b98815823a974ad58a92f9ccc26b6625-0-13\" stroke-width=\"2px\" d=\"M2520,352.0 C2520,264.5 2660.0,264.5 2660.0,352.0\" fill=\"none\" stroke=\"currentColor\"/>\n",
       "    <text dy=\"1.25em\" style=\"font-size: 0.8em; letter-spacing: 1px\">\n",
       "        <textPath xlink:href=\"#arrow-b98815823a974ad58a92f9ccc26b6625-0-13\" class=\"displacy-label\" startOffset=\"50%\" side=\"left\" fill=\"currentColor\" text-anchor=\"middle\">compound</textPath>\n",
       "    </text>\n",
       "    <path class=\"displacy-arrowhead\" d=\"M2520,354.0 L2512,342.0 2528,342.0\" fill=\"currentColor\"/>\n",
       "</g>\n",
       "\n",
       "<g class=\"displacy-arrow\">\n",
       "    <path class=\"displacy-arc\" id=\"arrow-b98815823a974ad58a92f9ccc26b6625-0-14\" stroke-width=\"2px\" d=\"M2170,352.0 C2170,89.5 2670.0,89.5 2670.0,352.0\" fill=\"none\" stroke=\"currentColor\"/>\n",
       "    <text dy=\"1.25em\" style=\"font-size: 0.8em; letter-spacing: 1px\">\n",
       "        <textPath xlink:href=\"#arrow-b98815823a974ad58a92f9ccc26b6625-0-14\" class=\"displacy-label\" startOffset=\"50%\" side=\"left\" fill=\"currentColor\" text-anchor=\"middle\">dobj</textPath>\n",
       "    </text>\n",
       "    <path class=\"displacy-arrowhead\" d=\"M2670.0,354.0 L2678.0,342.0 2662.0,342.0\" fill=\"currentColor\"/>\n",
       "</g>\n",
       "</svg></span>"
      ],
      "text/plain": [
       "<IPython.core.display.HTML object>"
      ]
     },
     "metadata": {},
     "output_type": "display_data"
    }
   ],
   "source": [
    "displacy.render(doc, style=\"dep\")"
   ]
  },
  {
   "cell_type": "code",
   "execution_count": 50,
   "metadata": {
    "slideshow": {
     "slide_type": "skip"
    }
   },
   "outputs": [],
   "source": [
    "matcher = Matcher(nlp.vocab)"
   ]
  },
  {
   "cell_type": "code",
   "execution_count": 51,
   "metadata": {
    "slideshow": {
     "slide_type": "slide"
    }
   },
   "outputs": [],
   "source": [
    "pattern = [{\"LOWER\":\"we\"},{'POS': 'VERB'}]\n",
    "matcher.add(\"matching\",None,pattern)"
   ]
  },
  {
   "cell_type": "code",
   "execution_count": 52,
   "metadata": {
    "slideshow": {
     "slide_type": "subslide"
    }
   },
   "outputs": [
    {
     "name": "stdout",
     "output_type": "stream",
     "text": [
      "we provide\n",
      "das Verb ist: provide\n"
     ]
    }
   ],
   "source": [
    "matches=matcher(doc)\n",
    "for _, start, end in matches:\n",
    "    span = doc[start:end]  # The matched span\n",
    "    print(span.text)\n",
    "    span2=doc[end-1]\n",
    "    print(f\"das Verb ist: {span2.lemma_}\")"
   ]
  },
  {
   "cell_type": "code",
   "execution_count": 53,
   "metadata": {
    "slideshow": {
     "slide_type": "subslide"
    }
   },
   "outputs": [],
   "source": [
    "listverbs=[]\n",
    "def actionverbs(a):\n",
    "    abstract=nlp(a)\n",
    "    matches=matcher(abstract)\n",
    "    for _,start,end in matches:\n",
    "        verb=abstract[end-1]\n",
    "        listverbs.append(verb.lemma_)"
   ]
  },
  {
   "cell_type": "code",
   "execution_count": 54,
   "metadata": {
    "slideshow": {
     "slide_type": "subslide"
    }
   },
   "outputs": [
    {
     "data": {
      "text/plain": [
       "['show', 'provide']"
      ]
     },
     "execution_count": 54,
     "metadata": {},
     "output_type": "execute_result"
    }
   ],
   "source": [
    "actionverbs(a)\n",
    "listverbs"
   ]
  },
  {
   "cell_type": "code",
   "execution_count": 55,
   "metadata": {
    "slideshow": {
     "slide_type": "slide"
    }
   },
   "outputs": [
    {
     "data": {
      "text/plain": [
       "1484"
      ]
     },
     "execution_count": 55,
     "metadata": {},
     "output_type": "execute_result"
    }
   ],
   "source": [
    "dfRem[\"abstract\"].apply(actionverbs)\n",
    "len(listverbs)"
   ]
  },
  {
   "cell_type": "code",
   "execution_count": 56,
   "metadata": {
    "slideshow": {
     "slide_type": "subslide"
    }
   },
   "outputs": [
    {
     "name": "stdout",
     "output_type": "stream",
     "text": [
      "['abstract', 'adapt', 'address', 'administer', 'administrate', 'advance', 'advise', 'advocate', 'aim', 'allow', 'analyse', 'analyze', 'anticipate', 'apply', 'appreciate', 'approach', 'argue', 'ask', 'assay', 'assess', 'assume', 'await', 'base', 'believe', 'build', 'calculate', 'call', 'can', 'carry', 'challenge', 'characterise', 'characterize', 'choose', 'clone', 'co', 'collect', 'combine', 'come', 'comment', 'compare', 'conclude', 'conduct', 'confirm', 'consider', 'construct', 'contend', 'could', 'create', 'decide', 'declare', 'define', 'demonstrate', 'denote', 'deploy', 'describe', 'design', 'detail', 'detect', 'determine', 'develop', 'disagree', 'discover', 'discuss', 'divide', 'dock', 'download', 'draw', 'ease', 'elucidate', 'emphasize', 'employ', 'encourage', 'engineer', 'enrol', 'enter', 'establish', 'estimate', 'evaluate', 'evidence', 'examine', 'exclude', 'expect', 'explain', 'explore', 'express', 'extend', 'extract', 'find', 'focus', 'follow', 'form', 'found10', 'frame', 'generate', 'highlight', 'hope', 'hypothesize', 'identifid', 'identify', 'illustrate', 'include', 'increase', 'initiate', 'intend', 'interpret', 'introduce', 'investigate', 'isolate', 'keep', 'know', 'learn', 'live', 'look', 'make', 'manage', 'map', 'may', 'mention', 'model', 'must', 'need', 'note', 'notice', 'observe', 'obtain', 'offer', 'outline', 'overview', 'perform', 'plan', 'plot', 'pool', 'predict', 'prepare', 'present', 'pretreate', 'prioritise', 'prioritize', 'proceed', 'profile', 'propose', 'provide', 'rank', 'rate', 'read', 'reanalyze', 'reason', 'recommend', 'refer', 'refit', 'reflect', 'rely', 'reopen', 'report', 'require', 'review', 'risk', 'run', 'scan', 'screen', 'scrutinise', 'search', 'see', 'seek', 'select', 'sequence', 'set', 'share', 'shed', 'should', 'show', 'showcase', 'simulate', 'solve', 'specify', 'speculate', 'start', 'stress', 'study', 'submit', 'succeed', 'suggest', 'summarise', 'summarize', 'suspect', 'synthesize', 'systematize', 'take', 'tend', 'test', 'think', 'transfecte', 'try', 'underline', 'undertake', 'urge', 'use', 'utilize', 'wait', 'waste', 'will', 'would']\n"
     ]
    }
   ],
   "source": [
    "from collections import Counter\n",
    "counts=Counter(listverbs)\n",
    "print(sorted(counts))"
   ]
  },
  {
   "cell_type": "markdown",
   "metadata": {
    "slideshow": {
     "slide_type": "slide"
    }
   },
   "source": [
    "# Propositional research attitudes\n",
    "\n",
    "- GOAL (intention, goal):  \n",
    "    - aim, seek, study, undertake, investigate, intend\n",
    "- DISCOV: \n",
    "    - show, propose, obtain, report, observe, create, demonstrate, detect, scrutinize, provide"
   ]
  },
  {
   "cell_type": "markdown",
   "metadata": {
    "slideshow": {
     "slide_type": "skip"
    }
   },
   "source": [
    "## training data\n",
    "\n",
    "- prepare matching function for sentences, output in format JSONL"
   ]
  },
  {
   "cell_type": "raw",
   "metadata": {
    "slideshow": {
     "slide_type": "skip"
    }
   },
   "source": [
    "# example format for data\n",
    "train_data = [\n",
    "    (\"Uber blew through $1 million a week\", [(0, 4, 'ORG')]),\n",
    "    (\"Android Pay expands to Canada\", [(0, 11, 'PRODUCT'), (23, 30, 'GPE')]),\n",
    "    (\"Spotify steps up Asia expansion\", [(0, 8, \"ORG\"), (17, 21, \"LOC\")]),\n",
    "    (\"Google Maps launches location sharing\", [(0, 11, \"PRODUCT\")]),\n",
    "    (\"Google rebrands its business apps\", [(0, 6, \"ORG\")]),\n",
    "    (\"look what i found on google! 😂\", [(21, 27, \"PRODUCT\")])]\n"
   ]
  },
  {
   "cell_type": "code",
   "execution_count": 57,
   "metadata": {
    "slideshow": {
     "slide_type": "subslide"
    }
   },
   "outputs": [],
   "source": [
    "verbtags={\"GOAL\":\n",
    "       [\"aim\",\"seek\",\"study\",\"undertake\",\"investigate\",\"intend\"],\n",
    "       \"DISCOV\":\n",
    "        [\"show\",\"provide\",\"notice\",\"report\"]\n",
    "         }"
   ]
  },
  {
   "cell_type": "code",
   "execution_count": 58,
   "metadata": {
    "slideshow": {
     "slide_type": "subslide"
    }
   },
   "outputs": [],
   "source": [
    "def actionverb(abstract):\n",
    "    matches=matcher(abstract)\n",
    "    listDisc=[]\n",
    "    for _,start,end in matches:\n",
    "        verb=abstract[end-1].text\n",
    "        verblem=abstract[end-1].lemma_\n",
    "        for ent,verbs in verbtags.items():\n",
    "            if verblem in verbs:\n",
    "                dict_disc=(start+1,end,ent)\n",
    "                listDisc.append(dict_disc)\n",
    "    return(listDisc)"
   ]
  },
  {
   "cell_type": "code",
   "execution_count": 59,
   "metadata": {
    "slideshow": {
     "slide_type": "skip"
    }
   },
   "outputs": [],
   "source": [
    "dfRem[\"discNER\"]=dfRem[\"doc\"].apply(actionverb)  "
   ]
  },
  {
   "cell_type": "code",
   "execution_count": 60,
   "metadata": {
    "slideshow": {
     "slide_type": "skip"
    }
   },
   "outputs": [
    {
     "data": {
      "text/html": [
       "<div>\n",
       "<style scoped>\n",
       "    .dataframe tbody tr th:only-of-type {\n",
       "        vertical-align: middle;\n",
       "    }\n",
       "\n",
       "    .dataframe tbody tr th {\n",
       "        vertical-align: top;\n",
       "    }\n",
       "\n",
       "    .dataframe thead th {\n",
       "        text-align: right;\n",
       "    }\n",
       "</style>\n",
       "<table border=\"1\" class=\"dataframe\">\n",
       "  <thead>\n",
       "    <tr style=\"text-align: right;\">\n",
       "      <th></th>\n",
       "      <th>title</th>\n",
       "      <th>abstract</th>\n",
       "      <th>doc</th>\n",
       "      <th>discNER</th>\n",
       "    </tr>\n",
       "  </thead>\n",
       "  <tbody>\n",
       "    <tr>\n",
       "      <th>0</th>\n",
       "      <td>Evaluation of the efficacy and safety of intra...</td>\n",
       "      <td>BACKGROUND: Coronavirus disease 2019 (COVID-19...</td>\n",
       "      <td>(BACKGROUND, :, Coronavirus, disease, 2019, (,...</td>\n",
       "      <td>[]</td>\n",
       "    </tr>\n",
       "    <tr>\n",
       "      <th>1</th>\n",
       "      <td>Role of adjunctive treatment strategies in COV...</td>\n",
       "      <td>The coronavirus disease (COVID-19) pandemic ha...</td>\n",
       "      <td>(The, coronavirus, disease, (, COVID-19, ), pa...</td>\n",
       "      <td>[]</td>\n",
       "    </tr>\n",
       "    <tr>\n",
       "      <th>2</th>\n",
       "      <td>Comparative therapeutic efficacy of remdesivir...</td>\n",
       "      <td>Middle East respiratory syndrome coronavirus (...</td>\n",
       "      <td>(Middle, East, respiratory, syndrome, coronavi...</td>\n",
       "      <td>[(79, 80, DISCOV), (161, 162, DISCOV)]</td>\n",
       "    </tr>\n",
       "    <tr>\n",
       "      <th>3</th>\n",
       "      <td>Therapeutic strategies for critically ill pati...</td>\n",
       "      <td>Since the 2019 novel coronavirus disease (COVI...</td>\n",
       "      <td>(Since, the, 2019, novel, coronavirus, disease...</td>\n",
       "      <td>[]</td>\n",
       "    </tr>\n",
       "    <tr>\n",
       "      <th>4</th>\n",
       "      <td>Battling COVID-19: using old weapons for a new...</td>\n",
       "      <td>Coronavirus disease-19 (COVID-19) has reached ...</td>\n",
       "      <td>(Coronavirus, disease-19, (, COVID-19, ), has,...</td>\n",
       "      <td>[]</td>\n",
       "    </tr>\n",
       "    <tr>\n",
       "      <th>5</th>\n",
       "      <td>The origin, transmission and clinical therapie...</td>\n",
       "      <td>An acute respiratory disease, caused by a nove...</td>\n",
       "      <td>(An, acute, respiratory, disease, ,, caused, b...</td>\n",
       "      <td>[]</td>\n",
       "    </tr>\n",
       "    <tr>\n",
       "      <th>6</th>\n",
       "      <td>SARS-CoV-2 RNA polymerase as target for antivi...</td>\n",
       "      <td>A new human coronavirus named SARS-CoV-2 was i...</td>\n",
       "      <td>(A, new, human, coronavirus, named, SARS, -, C...</td>\n",
       "      <td>[]</td>\n",
       "    </tr>\n",
       "    <tr>\n",
       "      <th>7</th>\n",
       "      <td>Current regulatory approaches for accessing po...</td>\n",
       "      <td>This commentary aims to elaborate challenges i...</td>\n",
       "      <td>(This, commentary, aims, to, elaborate, challe...</td>\n",
       "      <td>[]</td>\n",
       "    </tr>\n",
       "    <tr>\n",
       "      <th>8</th>\n",
       "      <td>SARS-CoV-2 and COVID-19: The most important re...</td>\n",
       "      <td>Coronavirus disease 2019 (COVID-19) caused by ...</td>\n",
       "      <td>(Coronavirus, disease, 2019, (, COVID-19, ), c...</td>\n",
       "      <td>[]</td>\n",
       "    </tr>\n",
       "    <tr>\n",
       "      <th>9</th>\n",
       "      <td>Emerging SARS-CoV-2 mutation hot spots include...</td>\n",
       "      <td>BACKGROUND: SARS-CoV-2 is a RNA coronavirus re...</td>\n",
       "      <td>(BACKGROUND, :, SARS, -, CoV-2, is, a, RNA, co...</td>\n",
       "      <td>[(232, 233, DISCOV)]</td>\n",
       "    </tr>\n",
       "    <tr>\n",
       "      <th>10</th>\n",
       "      <td>Clinical course and outcome of 107 patients in...</td>\n",
       "      <td>BACKGROUND: In December 2019, coronavirus dise...</td>\n",
       "      <td>(BACKGROUND, :, In, December, 2019, ,, coronav...</td>\n",
       "      <td>[]</td>\n",
       "    </tr>\n",
       "    <tr>\n",
       "      <th>11</th>\n",
       "      <td>Hydroxychloroquine, a less toxic derivative of...</td>\n",
       "      <td></td>\n",
       "      <td>()</td>\n",
       "      <td>[]</td>\n",
       "    </tr>\n",
       "    <tr>\n",
       "      <th>12</th>\n",
       "      <td>Lithium’s antiviral effects: a potential drug ...</td>\n",
       "      <td>BACKGROUND: Since its introduction in modern m...</td>\n",
       "      <td>(BACKGROUND, :, Since, its, introduction, in, ...</td>\n",
       "      <td>[]</td>\n",
       "    </tr>\n",
       "    <tr>\n",
       "      <th>13</th>\n",
       "      <td>The novel coronavirus outbreak in Wuhan, China</td>\n",
       "      <td>The novel coronavirus (2019-nCoV, or COVID-19)...</td>\n",
       "      <td>(The, novel, coronavirus, (, 2019-nCoV, ,, or,...</td>\n",
       "      <td>[]</td>\n",
       "    </tr>\n",
       "    <tr>\n",
       "      <th>14</th>\n",
       "      <td>Therapeutic efficacy of Pudilan Xiaoyan Oral L...</td>\n",
       "      <td></td>\n",
       "      <td>()</td>\n",
       "      <td>[]</td>\n",
       "    </tr>\n",
       "    <tr>\n",
       "      <th>15</th>\n",
       "      <td>2019 novel coronavirus of pneumonia in Wuhan, ...</td>\n",
       "      <td>An ongoing outbreak of 2019-nCoV pneumonia was...</td>\n",
       "      <td>(An, ongoing, outbreak, of, 2019-nCoV, pneumon...</td>\n",
       "      <td>[]</td>\n",
       "    </tr>\n",
       "    <tr>\n",
       "      <th>16</th>\n",
       "      <td>COVID-19 and what pediatric rheumatologists sh...</td>\n",
       "      <td>On March 11th, 2020 the World Health Organizat...</td>\n",
       "      <td>(On, March, 11th, ,, 2020, the, World, Health,...</td>\n",
       "      <td>[]</td>\n",
       "    </tr>\n",
       "    <tr>\n",
       "      <th>17</th>\n",
       "      <td>Successful recovery of COVID-19 pneumonia in a...</td>\n",
       "      <td>BACKGROUND: COVID-19 pandemics is a challenge ...</td>\n",
       "      <td>(BACKGROUND, :, COVID-19, pandemics, is, a, ch...</td>\n",
       "      <td>[(41, 42, DISCOV)]</td>\n",
       "    </tr>\n",
       "    <tr>\n",
       "      <th>18</th>\n",
       "      <td>When predictions are used to allocate scarce h...</td>\n",
       "      <td>Background: The need for life-saving intervent...</td>\n",
       "      <td>(Background, :, The, need, for, life, -, savin...</td>\n",
       "      <td>[]</td>\n",
       "    </tr>\n",
       "  </tbody>\n",
       "</table>\n",
       "</div>"
      ],
      "text/plain": [
       "                                                title  \\\n",
       "0   Evaluation of the efficacy and safety of intra...   \n",
       "1   Role of adjunctive treatment strategies in COV...   \n",
       "2   Comparative therapeutic efficacy of remdesivir...   \n",
       "3   Therapeutic strategies for critically ill pati...   \n",
       "4   Battling COVID-19: using old weapons for a new...   \n",
       "5   The origin, transmission and clinical therapie...   \n",
       "6   SARS-CoV-2 RNA polymerase as target for antivi...   \n",
       "7   Current regulatory approaches for accessing po...   \n",
       "8   SARS-CoV-2 and COVID-19: The most important re...   \n",
       "9   Emerging SARS-CoV-2 mutation hot spots include...   \n",
       "10  Clinical course and outcome of 107 patients in...   \n",
       "11  Hydroxychloroquine, a less toxic derivative of...   \n",
       "12  Lithium’s antiviral effects: a potential drug ...   \n",
       "13     The novel coronavirus outbreak in Wuhan, China   \n",
       "14  Therapeutic efficacy of Pudilan Xiaoyan Oral L...   \n",
       "15  2019 novel coronavirus of pneumonia in Wuhan, ...   \n",
       "16  COVID-19 and what pediatric rheumatologists sh...   \n",
       "17  Successful recovery of COVID-19 pneumonia in a...   \n",
       "18  When predictions are used to allocate scarce h...   \n",
       "\n",
       "                                             abstract  \\\n",
       "0   BACKGROUND: Coronavirus disease 2019 (COVID-19...   \n",
       "1   The coronavirus disease (COVID-19) pandemic ha...   \n",
       "2   Middle East respiratory syndrome coronavirus (...   \n",
       "3   Since the 2019 novel coronavirus disease (COVI...   \n",
       "4   Coronavirus disease-19 (COVID-19) has reached ...   \n",
       "5   An acute respiratory disease, caused by a nove...   \n",
       "6   A new human coronavirus named SARS-CoV-2 was i...   \n",
       "7   This commentary aims to elaborate challenges i...   \n",
       "8   Coronavirus disease 2019 (COVID-19) caused by ...   \n",
       "9   BACKGROUND: SARS-CoV-2 is a RNA coronavirus re...   \n",
       "10  BACKGROUND: In December 2019, coronavirus dise...   \n",
       "11                                                      \n",
       "12  BACKGROUND: Since its introduction in modern m...   \n",
       "13  The novel coronavirus (2019-nCoV, or COVID-19)...   \n",
       "14                                                      \n",
       "15  An ongoing outbreak of 2019-nCoV pneumonia was...   \n",
       "16  On March 11th, 2020 the World Health Organizat...   \n",
       "17  BACKGROUND: COVID-19 pandemics is a challenge ...   \n",
       "18  Background: The need for life-saving intervent...   \n",
       "\n",
       "                                                  doc  \\\n",
       "0   (BACKGROUND, :, Coronavirus, disease, 2019, (,...   \n",
       "1   (The, coronavirus, disease, (, COVID-19, ), pa...   \n",
       "2   (Middle, East, respiratory, syndrome, coronavi...   \n",
       "3   (Since, the, 2019, novel, coronavirus, disease...   \n",
       "4   (Coronavirus, disease-19, (, COVID-19, ), has,...   \n",
       "5   (An, acute, respiratory, disease, ,, caused, b...   \n",
       "6   (A, new, human, coronavirus, named, SARS, -, C...   \n",
       "7   (This, commentary, aims, to, elaborate, challe...   \n",
       "8   (Coronavirus, disease, 2019, (, COVID-19, ), c...   \n",
       "9   (BACKGROUND, :, SARS, -, CoV-2, is, a, RNA, co...   \n",
       "10  (BACKGROUND, :, In, December, 2019, ,, coronav...   \n",
       "11                                                 ()   \n",
       "12  (BACKGROUND, :, Since, its, introduction, in, ...   \n",
       "13  (The, novel, coronavirus, (, 2019-nCoV, ,, or,...   \n",
       "14                                                 ()   \n",
       "15  (An, ongoing, outbreak, of, 2019-nCoV, pneumon...   \n",
       "16  (On, March, 11th, ,, 2020, the, World, Health,...   \n",
       "17  (BACKGROUND, :, COVID-19, pandemics, is, a, ch...   \n",
       "18  (Background, :, The, need, for, life, -, savin...   \n",
       "\n",
       "                                   discNER  \n",
       "0                                       []  \n",
       "1                                       []  \n",
       "2   [(79, 80, DISCOV), (161, 162, DISCOV)]  \n",
       "3                                       []  \n",
       "4                                       []  \n",
       "5                                       []  \n",
       "6                                       []  \n",
       "7                                       []  \n",
       "8                                       []  \n",
       "9                     [(232, 233, DISCOV)]  \n",
       "10                                      []  \n",
       "11                                      []  \n",
       "12                                      []  \n",
       "13                                      []  \n",
       "14                                      []  \n",
       "15                                      []  \n",
       "16                                      []  \n",
       "17                      [(41, 42, DISCOV)]  \n",
       "18                                      []  "
      ]
     },
     "execution_count": 60,
     "metadata": {},
     "output_type": "execute_result"
    }
   ],
   "source": [
    "dfRem.head(19)"
   ]
  },
  {
   "cell_type": "markdown",
   "metadata": {
    "slideshow": {
     "slide_type": "slide"
    }
   },
   "source": [
    "# Causal hypothesis"
   ]
  },
  {
   "cell_type": "code",
   "execution_count": 61,
   "metadata": {
    "slideshow": {
     "slide_type": "subslide"
    }
   },
   "outputs": [
    {
     "name": "stdout",
     "output_type": "stream",
     "text": [
      "*****\n",
      "for Middle East respiratory syndrome coronavirus (MERS-CoV) is the causative agent of a severe respiratory disease associated with more than 2468 human infections and over 851 deaths in 27 countries since 2012.\n",
      "noun chunks: [Middle East respiratory syndrome coronavirus, MERS-CoV, the causative agent, a severe respiratory disease, more than 2468 human infections, 851 deaths, 27 countries]\n",
      "*****\n",
      "for There are no approved treatments for MERS-CoV infection although a combination of lopinavir, ritonavir and interferon beta (LPV/RTV-IFNb) is currently being evaluated in humans in the Kingdom of Saudi Arabia.\n",
      "noun chunks: [no approved treatments, MERS-CoV infection, a combination, lopinavir, ritonavir, interferon beta, (LPV/RTV-IFNb, humans, the Kingdom, Saudi Arabia]\n",
      "*****\n",
      "for Here, we show that remdesivir (RDV) and IFNb have superior antiviral activity to LPV and RTV in vitro.\n",
      "noun chunks: [we, remdesivir, (RDV, IFNb, superior antiviral activity, LPV, RTV]\n",
      "*****\n",
      "for In mice, both prophylactic and therapeutic RDV improve pulmonary function and reduce lung viral loads and severe lung pathology.\n",
      "noun chunks: [mice, RDV, pulmonary function, lung viral loads, severe lung pathology]\n",
      "*****\n",
      "for In contrast, prophylactic LPV/RTV-IFNb slightly reduces viral loads without impacting other disease parameters.\n",
      "noun chunks: [contrast, prophylactic LPV/RTV-IFNb, viral loads, other disease parameters]\n",
      "*****\n",
      "for Therapeutic LPV/RTV-IFNb improves pulmonary function but does not reduce virus replication or severe lung pathology.\n",
      "noun chunks: [Therapeutic LPV/RTV-IFNb, pulmonary function, virus replication, severe lung pathology]\n",
      "*****\n",
      "for Thus, we provide in vivo evidence of the potential for RDV to treat MERS-CoV infections.\n",
      "noun chunks: [we, vivo evidence, the potential, RDV, MERS-CoV infections]\n"
     ]
    }
   ],
   "source": [
    "for sent in sentences:\n",
    "    print(f\"*****\\nfor {sent}\")\n",
    "    chunks=list(sent.noun_chunks)\n",
    "    print(\"noun chunks:\",chunks)"
   ]
  },
  {
   "cell_type": "code",
   "execution_count": 62,
   "metadata": {
    "slideshow": {
     "slide_type": "skip"
    }
   },
   "outputs": [],
   "source": [
    "# similarity to key expression. Here \"MERS infection\""
   ]
  },
  {
   "cell_type": "code",
   "execution_count": 63,
   "metadata": {
    "slideshow": {
     "slide_type": "slide"
    }
   },
   "outputs": [
    {
     "name": "stdout",
     "output_type": "stream",
     "text": [
      "Middle East respiratory syndrome coronavirus #### ähnlich: 0.48299568738055154\n",
      "MERS-CoV #### ähnlich: 0.4550794638568333\n",
      "the causative agent #### ähnlich: 0.31675976176508136\n",
      "a severe respiratory disease #### ähnlich: 0.4990230397309604\n",
      "more than 2468 human infections #### ähnlich: 0.41296312851298905\n",
      "851 deaths #### ähnlich: 0.15388795007959338\n",
      "27 countries #### ähnlich: 0.13847852632223484\n",
      "no approved treatments #### ähnlich: 0.22902666198807248\n",
      "MERS-CoV infection #### ähnlich: 0.7989696703497365\n",
      "a combination #### ähnlich: 0.13322061421844744\n",
      "lopinavir #### ähnlich: 0.0\n",
      "ritonavir #### ähnlich: 0.0\n",
      "interferon beta #### ähnlich: 0.32932173709274914\n",
      "(LPV/RTV-IFNb #### ähnlich: -0.026341724138412275\n",
      "humans #### ähnlich: 0.2824499231186059\n",
      "the Kingdom #### ähnlich: 0.08676200994420641\n",
      "Saudi Arabia #### ähnlich: 0.041518648812961745\n",
      "we #### ähnlich: 0.0802233813756872\n",
      "remdesivir #### ähnlich: 0.0\n",
      "(RDV #### ähnlich: 0.08677537997556373\n",
      "IFNb #### ähnlich: 0.0\n",
      "superior antiviral activity #### ähnlich: 0.36010703298712876\n",
      "LPV #### ähnlich: 0.0\n",
      "RTV #### ähnlich: 0.061758883535590545\n",
      "mice #### ähnlich: 0.31532161654756635\n",
      "RDV #### ähnlich: 0.12631231857434141\n",
      "pulmonary function #### ähnlich: 0.3443454879740943\n",
      "lung viral loads #### ähnlich: 0.5058184323708509\n",
      "severe lung pathology #### ähnlich: 0.45615629485057385\n",
      "contrast #### ähnlich: 0.08663514797919537\n",
      "prophylactic LPV/RTV-IFNb #### ähnlich: 0.1909485162886944\n",
      "viral loads #### ähnlich: 0.41466227508506\n",
      "other disease parameters #### ähnlich: 0.3895398814162506\n",
      "Therapeutic LPV/RTV-IFNb #### ähnlich: 0.12148960476506386\n",
      "pulmonary function #### ähnlich: 0.3443454879740943\n",
      "virus replication #### ähnlich: 0.5576802436062092\n",
      "severe lung pathology #### ähnlich: 0.45615629485057385\n",
      "we #### ähnlich: 0.0802233813756872\n",
      "vivo evidence #### ähnlich: 0.2553968297061836\n",
      "the potential #### ähnlich: 0.1395357913449325\n",
      "RDV #### ähnlich: 0.12631231857434141\n",
      "MERS-CoV infections #### ähnlich: 0.7723640678321845\n"
     ]
    }
   ],
   "source": [
    "key_term=\"MERS infection\"\n",
    "for sent in sentences:\n",
    "    chunks=list(sent.noun_chunks)\n",
    "    for noun in chunks:\n",
    "        sim=noun.similarity(nlp(key_term))\n",
    "        print(f\"{noun} #### ähnlich: {sim}\")"
   ]
  },
  {
   "cell_type": "code",
   "execution_count": 64,
   "metadata": {
    "slideshow": {
     "slide_type": "slide"
    }
   },
   "outputs": [],
   "source": [
    "def similar_nchunks(doc,keyterm,cumlist,threshhold=0.5):\n",
    "    key=nlp(keyterm)\n",
    "    chunks=list(doc.noun_chunks)\n",
    "    for noun in chunks:\n",
    "        simval=noun.similarity(key)\n",
    "        if simval>threshhold:\n",
    "            cumlist.append((noun,simval))\n",
    "    return(cumlist)"
   ]
  },
  {
   "cell_type": "code",
   "execution_count": 65,
   "metadata": {
    "slideshow": {
     "slide_type": "subslide"
    }
   },
   "outputs": [
    {
     "data": {
      "text/plain": [
       "[(the causative agent, 0.7939071980284536)]"
      ]
     },
     "execution_count": 65,
     "metadata": {},
     "output_type": "execute_result"
    }
   ],
   "source": [
    "similar_nchunks(exemplar,\"agent\",[])"
   ]
  },
  {
   "cell_type": "code",
   "execution_count": 66,
   "metadata": {
    "slideshow": {
     "slide_type": "slide"
    }
   },
   "outputs": [
    {
     "data": {
      "text/plain": [
       "[(the causative agent, 0.7939071980284536),\n",
       " (adjunctive agents, 0.6236452101155399),\n",
       " (the antiviral properties, 0.526081203569923),\n",
       " (an antiviral agent, 0.7801708209980864),\n",
       " (antiviral agent, 0.7826824688710227),\n",
       " (investigational agents, 0.645840763294751),\n",
       " (an antiviral agent, 0.7801708209980864),\n",
       " (antiviral agents, 0.6711018678024206),\n",
       " (COVID-19 and anticancer agents, 0.6757634646731178),\n",
       " (other antiviral agents, 0.6656073448165073),\n",
       " (These agents, 0.664216703793501),\n",
       " (iron chelating agents, 0.6223720438296962),\n",
       " (the causative agent, 0.7939071980284536),\n",
       " (the causative agent, 0.7939071980284536),\n",
       " (each anti-coronavirus agents, 0.5591464172720746),\n",
       " (other anti-coronavirus agents, 0.5588481449742129),\n",
       " (the causative agent, 0.7939071980284536),\n",
       " (effective antiviral agents, 0.6482813972279166),\n",
       " (therapeutic agents, 0.6809085885018754),\n",
       " (commonly utilized antiinflammatory agents, 0.6073953910142822),\n",
       " (Other agents, 0.7175655901380203),\n",
       " (concomitant QTc-prolonging agents, 0.5463505502745432),\n",
       " (the investigational agents, 0.6717485152859215),\n",
       " (Antiviral agents, 0.6711018678024206),\n",
       " (both antiviral and immune modulating agents, 0.5632469183166106),\n",
       " (these agents, 0.664216703793501),\n",
       " (agents, 0.8153090034387023),\n",
       " (an effective agent, 0.7838778477763372),\n",
       " (specific chemotherapeutic agents, 0.6803979188888929),\n",
       " (the antiviral properties, 0.526081203569923),\n",
       " (finally the antioxidant properties, 0.5150404929287944),\n",
       " (these agents, 0.664216703793501),\n",
       " (many investigational therapeutic agents, 0.5723336801797261),\n",
       " (therapeutic agents, 0.6809085885018754),\n",
       " (their antimetabolite agent, 0.8420334019710105),\n",
       " (efficacious single agents, 0.6502244553157885),\n",
       " (available broad-spectrum antiviral agents, 0.5229627025597319),\n",
       " (the etiologic agent, 0.8833144802685118),\n",
       " (the causative agent, 0.7939071980284536),\n",
       " (the causative agent, 0.7939071980284536),\n",
       " (Several therapeutic agents, 0.6388551047965758),\n",
       " (pharmaceutical agent, 0.8136499280361724),\n",
       " (a therapeutic and/or prophylactic agent, 0.6713332659873986),\n",
       " (effective therapeutic agents, 0.6351749125472932),\n",
       " (therapeutic agents, 0.6809085885018754),\n",
       " (antiviral agents, 0.6711018678024206),\n",
       " (several therapeutic agents, 0.6388551047965758),\n",
       " (an agent, 0.8716072405148166),\n",
       " (potential neurotropic properties, 0.5271681378493734),\n",
       " (Oral agent-based regimens, 0.6403839451445666),\n",
       " (anti-diabetic agents, 0.5678184871874289),\n",
       " (antiviral agents, 0.6711018678024206),\n",
       " (the infectious agent, 0.7415942424101261),\n",
       " (the pharmacologic agents, 0.659656579694165),\n",
       " (various pharmacologic agents, 0.5957044558604343),\n",
       " (the causative agent, 0.7939071980284536),\n",
       " (clinical agents, 0.6410126883790476),\n",
       " (investigational agents, 0.645840763294751),\n",
       " (agents, 0.8153090034387023),\n",
       " (antiviral agents, 0.6711018678024206),\n",
       " (other anti-viral agents, 0.5810109927899044),\n",
       " (new antiviral agents, 0.6638929411010951),\n",
       " (new antiviral agents, 0.6638929411010951),\n",
       " (the causative agent, 0.7939071980284536),\n",
       " (the viral agent, 0.761297874217502),\n",
       " (the etiologic agent, 0.8833144802685118),\n",
       " (potential agents, 0.7439982175600183),\n",
       " (specific therapeutic agents, 0.6431433460021345),\n",
       " (the causative agent, 0.7939071980284536),\n",
       " (therapeutic agents, 0.6809085885018754),\n",
       " (agents, 0.8153090034387023),\n",
       " (antiviral agents, 0.6711018678024206),\n",
       " (natural anti-COVID-19 therapeutic agents, 0.5511705387875199),\n",
       " (the causative agent, 0.7939071980284536),\n",
       " (causative agent, 0.8056104844910551),\n",
       " (the antiviral properties, 0.526081203569923),\n",
       " (a given chemical property, 0.5242644571080257),\n",
       " (such chemical properties, 0.5143966717333915),\n",
       " (known anti-HIV agents, 0.585744812858712),\n",
       " (These agents, 0.664216703793501),\n",
       " (the causative agent, 0.7939071980284536),\n",
       " (Most antiviral agents, 0.6544010942547608),\n",
       " (promising agents, 0.7274380225304623),\n",
       " (Two potential antiinflammatory agents, 0.6566065647288467),\n",
       " (the etiological agent, 0.7701459868027897),\n",
       " (an oral anti-viral agent, 0.6427371427780808),\n",
       " (antiinflammatory agents, 0.6444156442033154),\n",
       " (an anti-interleukin 6 agent, 0.6185502090165778),\n",
       " (single-agent interventions, 0.639097957535015),\n",
       " (new agents, 0.7196717148620362),\n",
       " (an antimicrobial and anti-SARS and MERS agent, 0.6233010413080737),\n",
       " (current agents, 0.7308150000357092),\n",
       " (potential therapeutic agents, 0.6652770395373478),\n",
       " (the causative agent, 0.7939071980284536),\n",
       " (the therapeutic properties, 0.5022698329534234),\n",
       " (the causative agent, 0.7939071980284536),\n",
       " (the therapeutic properties, 0.5022698329534234),\n",
       " (lt;p id=\"p0030\"&gt;Several agents, 0.8153089951033611),\n",
       " (several antiviral agents, 0.6469923056307791),\n",
       " (effective antimicrobial agents, 0.6547862499064567),\n",
       " (various agents, 0.6806443746820119),\n",
       " (agent, 1.0),\n",
       " (therapeutic agents, 0.6809085885018754),\n",
       " (therapeutic agents, 0.6809085885018754),\n",
       " (antiviral agents, 0.6711018678024206),\n",
       " (supporting agents, 0.6861941156487653),\n",
       " (the most commonly used agent, 0.6370687031464444),\n",
       " (effective therapeutic agents, 0.6351749125472932),\n",
       " (established agents, 0.7220701123550108),\n",
       " (antiviral agents, 0.6711018678024206),\n",
       " (a potential agent, 0.7958939035823274),\n",
       " (the causative agent, 0.7939071980284536),\n",
       " (immunosuppressive agents, 0.6325512884508374),\n",
       " (other antiviral agents, 0.6656073448165073),\n",
       " (the causative agent, 0.7939071980284536),\n",
       " (the etiologic agent, 0.8833144802685118),\n",
       " (both repurposed and novel therapeutic agents, 0.546390953634631),\n",
       " (agents, 0.8153090034387023),\n",
       " (pharmacological agents, 0.6492231187799522),\n",
       " (infectious agents, 0.6462526310206902),\n",
       " (broad-spectrum antiviral agents, 0.5255020890806198),\n",
       " (The antiviral properties, 0.526081203569923),\n",
       " (novel agents, 0.6867688335402304),\n",
       " (antiviral agents, 0.6711018678024206),\n",
       " (the therapeutic agents, 0.6802064999922154),\n",
       " (the causative agent, 0.7939071980284536),\n",
       " (the causative agent, 0.7939071980284536),\n",
       " (the causative agent, 0.7939071980284536),\n",
       " (biologic agents, 0.6497018251842372),\n",
       " (such agents, 0.7245027506258905),\n",
       " (the aetiological agent, 0.8833144802685118),\n",
       " (a potent therapeutic agent, 0.7017059400145252),\n",
       " (a potent antiviral agent, 0.7080173824952076),\n",
       " (these agents, 0.664216703793501),\n",
       " (these agents, 0.664216703793501),\n",
       " (these agents, 0.664216703793501),\n",
       " (other agents, 0.7175655901380203),\n",
       " (these agents, 0.664216703793501),\n",
       " (these agents, 0.664216703793501),\n",
       " (these agents, 0.664216703793501),\n",
       " (these agents, 0.664216703793501),\n",
       " (potent antiviral agents, 0.619818964145487),\n",
       " (antiparasitic agents, 0.8153090034387023),\n",
       " (especially anti-IL-6 agents, 0.5898483119771737),\n",
       " (alternative agents, 0.7007402028494587),\n",
       " (a causative agent, 0.7821489119374051),\n",
       " (antiviral agents, 0.6711018678024206),\n",
       " (the etiologic agent, 0.8833144802685118),\n",
       " (adrenergic agents, 0.5927943198900602),\n",
       " (antineoplastic agents, 0.6511359227347611),\n",
       " (harmful or potential key therapeutic agents, 0.6040263885514953),\n",
       " (chemotherapeutic agents, 0.6797497763496565),\n",
       " (appropriate antimicrobial agents, 0.668720046753909),\n",
       " (the causative agent, 0.7939071980284536),\n",
       " (a causative agent, 0.7821489119374051),\n",
       " (an antiviral agent, 0.7801708209980864),\n",
       " (several agents, 0.6953635924409552),\n",
       " (no effective therapeutic agent, 0.7026159070149146),\n",
       " (its causative agent, 0.7521757724595777),\n",
       " (the agent, 0.8833144583402245),\n",
       " (the causative agent, 0.7939071980284536),\n",
       " (the causative agent, 0.7939071980284536),\n",
       " (no approved specific antiviral agents, 0.6269934929413331),\n",
       " (antiviral agents, 0.6711018678024206),\n",
       " (a potential prophylactic agent, 0.7336730272890412),\n",
       " (the causative agent, 0.7939071980284536),\n",
       " (no specific therapeutic agents, 0.6303426266100305),\n",
       " (antiviral agents, 0.6711018678024206),\n",
       " (highly successful chemotherapeutic agents, 0.658342406945881),\n",
       " (potential anticancer agents, 0.6716284945838279),\n",
       " (the etiological agent, 0.7701459868027897),\n",
       " (anti‐viral agents, 0.8153090034387023),\n",
       " (the causative agent, 0.7939071980284536),\n",
       " (the causative agent, 0.7939071980284536),\n",
       " (The causative agent, 0.7939071980284536),\n",
       " (An ideal antiviral agent, 0.7366811636950032),\n",
       " (antiviral agents, 0.6711018678024206),\n",
       " (therapeutic and preventative agents, 0.5908827176506639),\n",
       " (agents, 0.8153090034387023),\n",
       " (the preferred agent, 0.8139930426770535),\n",
       " (The causative agent, 0.7939071980284536),\n",
       " (the etiological agent, 0.7701459868027897),\n",
       " (the causative agent, 0.7939071980284536),\n",
       " (an antiretroviral agent, 0.7177904402834447),\n",
       " (efficient therapeutic agents, 0.6350444625462307),\n",
       " (a specific therapeutic agent, 0.7114854772322079),\n",
       " (a specific therapeutic agent, 0.7114854772322079),\n",
       " (effective antiviral agents, 0.6482813972279166),\n",
       " (such agents, 0.7245027506258905),\n",
       " (The broad-spectrum antiparasitic agent ivermectin, 0.5706790355880779),\n",
       " (antiviral agents, 0.6711018678024206),\n",
       " (antiviral agents, 0.6711018678024206),\n",
       " (antiviral agents, 0.6711018678024206),\n",
       " (antiviral agents, 0.6711018678024206),\n",
       " (existing antiviral agents, 0.6362968509406524),\n",
       " (Antiviral agents, 0.6711018678024206),\n",
       " (Many other antiviral agents, 0.6055107589620073),\n",
       " (anti-viral agents, 0.5737995162479584),\n",
       " (similar viral agents, 0.6323573673572153),\n",
       " (two new antiviral agents, 0.6262659810594141),\n",
       " (potential therapeutic agents, 0.6652770395373478),\n",
       " (The causative\n",
       "  viral agent,\n",
       "  0.699515751691905),\n",
       " (promising agents, 0.7274380225304623),\n",
       " (a highly potent agent, 0.7150912279765316),\n",
       " (no specific antiviral agent, 0.7310961130552573),\n",
       " (the existing therapeutic agents, 0.6147366736825371),\n",
       " (these agents, 0.664216703793501),\n",
       " (These agents, 0.664216703793501),\n",
       " (arginine-directed glycating agent, 0.6756328353654133),\n",
       " (other antiretroviral agents, 0.5954693674744914),\n",
       " (biological agents, 0.6857954211967311),\n",
       " (possible less toxic and easily accessible therapeutic agents,\n",
       "  0.5213059037237543),\n",
       " (the causative agent, 0.7939071980284536),\n",
       " (the etiological agent, 0.7701459868027897),\n",
       " (anti-COVID-19 agent remdesivir, 0.7137582664748136),\n",
       " (Two antimalarial agents, 0.621677874903643),\n",
       " (These agents, 0.664216703793501),\n",
       " (the subsequent agents, 0.677005297386734),\n",
       " (the probable causative agent, 0.7293782212102663),\n",
       " (physical and chemical damaging agents, 0.5833667989111253),\n",
       " (potential therapeutic agents, 0.6652770395373478),\n",
       " (Agents, 0.8153090034387023),\n",
       " (potential therapeutic agents, 0.6652770395373478),\n",
       " (these agents, 0.664216703793501),\n",
       " (new agents, 0.7196717148620362),\n",
       " (the therapeutic agents, 0.6802064999922154),\n",
       " (the causative agent, 0.7939071980284536),\n",
       " (immunomodulatory agents, 0.8153090034387023),\n",
       " (the causal agent, 0.7513687951564683),\n",
       " (the agent, 0.8833144583402245),\n",
       " (dangerous biological agents, 0.6362211142079094),\n",
       " (such agents, 0.7245027506258905),\n",
       " (viral biothreat agents, 0.6634171553697659),\n",
       " (biothreat agents, 0.8153090034387023),\n",
       " (broad-spectrum antiviral agents, 0.5255020890806198),\n",
       " (the agent, 0.8833144583402245),\n",
       " (the causative agent, 0.7939071980284536),\n",
       " (agents, 0.8153090034387023),\n",
       " (the causative agent, 0.7939071980284536),\n",
       " (a broad-spectrum agent tilorone dihydrochloride, 0.589696927383307),\n",
       " (an anticoagulation agent dipyridamole, 0.7317345907951015),\n",
       " (the etiologic agent, 0.8833144802685118),\n",
       " (effective therapeutic agents, 0.6351749125472932),\n",
       " (the causative agent, 0.7939071980284536),\n",
       " (the potential prophylactic and treatment agents, 0.6117468515249262),\n",
       " (a multi-target agent, 0.6584631112426667),\n",
       " (a multi-target agent, 0.6584631112426667),\n",
       " (The etiological agent, 0.7701459868027897),\n",
       " (the etiological agent, 0.7701459868027897),\n",
       " (virustatic agents, 0.8153090034387023),\n",
       " (any particular agent, 0.7770092022436482),\n",
       " (specific therapeutic agents, 0.6431433460021345),\n",
       " (antiviral agents, 0.6711018678024206),\n",
       " (therapeutic agents, 0.6809085885018754),\n",
       " (thus effective antiviral agents, 0.6395181802595353),\n",
       " (potential agents, 0.7439982175600183),\n",
       " (a potent antiviral agent, 0.7080173824952076),\n",
       " (no approved specific antiviral agents, 0.6269934929413331),\n",
       " (antiviral agents, 0.6711018678024206),\n",
       " (the causative agent, 0.7939071980284536),\n",
       " (antiviral agents, 0.6711018678024206),\n",
       " (agents, 0.8153090034387023),\n",
       " (the causative agent, 0.7939071980284536),\n",
       " (the causative agent, 0.7939071980284536),\n",
       " (two other anti-viral agents, 0.5640977329928917),\n",
       " (a potential therapeutic agent, 0.7309797084554696),\n",
       " (, three cardiotonic agents, 0.6375778227493815),\n",
       " (agents, 0.8153090034387023),\n",
       " (existing antiviral agents, 0.6362968509406524),\n",
       " (existing antiviral agents, 0.6362968509406524),\n",
       " (several agents, 0.6953635924409552),\n",
       " (any effective antiviral agents, 0.658750001936348),\n",
       " (a new antiviral agent remdesivir, 0.7324056779771629),\n",
       " (the causative agent, 0.7939071980284536),\n",
       " (An active compound, 0.5133699890941763),\n",
       " (an active, approved drug, 0.5031546178834148),\n",
       " (agents, 0.8153090034387023),\n",
       " (Effective antiviral and anti-coagulation agents, 0.5810377654107899),\n",
       " (an anticoagulant agent, 0.7657724248916106),\n",
       " (the etiological agent, 0.7701459868027897),\n",
       " (etiological agent, 0.7559033452079281),\n",
       " (broad spectrum anti-viral agents, 0.5015623142100194),\n",
       " (broad spectrum anti-coronaviral agents, 0.5040944439803647),\n",
       " (broad spectrum anti-coronaviral agents, 0.5040944439803647),\n",
       " (The causative agent, 0.7939071980284536),\n",
       " (various antiviral and immunomodulating agents, 0.5946888134927119),\n",
       " (certain agents, 0.7395747668418956),\n",
       " (The most frequently used agents, 0.575965263705665),\n",
       " (several antiviral agents, 0.6469923056307791),\n",
       " (a few promising therapeutic agents, 0.5946885060461047),\n",
       " (each agent, 0.8327308826497968),\n",
       " (an infectious agent, 0.7470004476533799),\n",
       " (therapeutic agents, 0.6809085885018754),\n",
       " (the known properties, 0.506702887274492),\n",
       " (the agents, 0.7581703941209817),\n",
       " (existing antiviral agents, 0.6362968509406524),\n",
       " (a potential therapeutic agent, 0.7309797084554696),\n",
       " (an antifungal drug, 0.5055547119912037),\n",
       " (the causative agent, 0.7939071980284536),\n",
       " (no approved antiviral agent, 0.7133724865293426),\n",
       " (therapeutic agents, 0.6809085885018754),\n",
       " (Immunosuppressive agents, 0.6325512884508374),\n",
       " (arginine-directed glycating agent, 0.6756328353654133),\n",
       " (Agency, 0.5472687897429757)]"
      ]
     },
     "execution_count": 66,
     "metadata": {},
     "output_type": "execute_result"
    }
   ],
   "source": [
    "cumlist=[]\n",
    "dfRem[\"doc\"].apply(lambda x:similar_nchunks(x,\"agent\",cumlist))\n",
    "cumlist"
   ]
  },
  {
   "cell_type": "code",
   "execution_count": 67,
   "metadata": {
    "slideshow": {
     "slide_type": "slide"
    }
   },
   "outputs": [
    {
     "data": {
      "text/plain": [
       "[(the clinical evidence, 0.8400976398363346),\n",
       " (vivo evidence, 0.7396345690464189),\n",
       " (increasingly evidence, 0.8400862495116782),\n",
       " (These findings, 0.7233815540617284),\n",
       " (Some evidence, 0.9008331003170855),\n",
       " (new evidence, 0.8342938365455351),\n",
       " (the evidence, 0.8920556548929212),\n",
       " (Emerging evidence, 0.8307155818971217),\n",
       " (latest clinical and epidemiological evidence, 0.7752953267572479),\n",
       " (findings, 0.7154176601291731),\n",
       " (These findings, 0.7233815540617284),\n",
       " (The current evidence, 0.7855865444171195),\n",
       " (evidence, 1.0),\n",
       " (No evidence, 0.8855322381207609),\n",
       " (preliminary evidence, 0.8874567960660089),\n",
       " (evidence, 1.0),\n",
       " (the recent clinical findings, 0.7023658315184546),\n",
       " (evidence, 1.0),\n",
       " (evidence, 1.0),\n",
       " (evidence, 1.0),\n",
       " (clinical evidence, 0.8462254888715148),\n",
       " (specific findings, 0.7020126788076866),\n",
       " (Currently available evidence, 0.7102334475438903),\n",
       " (largely favorable findings, 0.706427681966554),\n",
       " (These findings, 0.7233815540617284),\n",
       " (FINDINGS, 0.7154176601291731),\n",
       " (these findings, 0.7233815540617284),\n",
       " (current evidence, 0.8510656597572938),\n",
       " (no definite evidence, 0.8285526781940848),\n",
       " (strong evidence, 0.8562357706878234),\n",
       " (Evidence, 0.9999999433595966),\n",
       " (no evidence, 0.8855322381207609),\n",
       " (the published evidence, 0.7897890750793108),\n",
       " (reliable evidence, 0.8315390465552034),\n",
       " (evidence-based medicine, 0.7079472483873294),\n",
       " (the evidence, 0.8920556548929212),\n",
       " (the currently available evidence, 0.7054339749350209),\n",
       " (the evidence, 0.8920556548929212),\n",
       " (pre-clinical evidence, 0.7112026834161267),\n",
       " (evidence, 1.0),\n",
       " (evidence, 1.0),\n",
       " (Emerging evidence, 0.8307155818971217),\n",
       " (more evidence-based knowledge, 0.7206302270931015),\n",
       " (evidence, 1.0),\n",
       " (Evidence, 0.9999999433595966),\n",
       " (no abnormal findings, 0.7145052354739446),\n",
       " (preclinical evidence, 0.7992869799324664),\n",
       " (evidence, 1.0),\n",
       " (little evidence, 0.8401865374816434),\n",
       " (the findings, 0.718597672285809),\n",
       " (the available evidence, 0.7805130621202444),\n",
       " (evidence, 1.0),\n",
       " (evidence, 1.0),\n",
       " (no evidence, 0.8855322381207609),\n",
       " (the evidence, 0.8920556548929212),\n",
       " (pooled evidence, 0.7775863420763406),\n",
       " (these promising findings, 0.7032822794751191),\n",
       " (findings, 0.7154176601291731),\n",
       " (These findings, 0.7233815540617284),\n",
       " (limited research evidence, 0.8228809259534636),\n",
       " (The findings, 0.718597672285809),\n",
       " (The findings, 0.718597672285809),\n",
       " (These findings, 0.7233815540617284),\n",
       " (substantial evidence, 0.9088424891894027),\n",
       " (the current evidence, 0.7855865444171195),\n",
       " (evidence, 1.0),\n",
       " (the evidence, 0.8920556548929212),\n",
       " (new evidence, 0.8342938365455351),\n",
       " (Findings, 0.7154176601291731),\n",
       " (evidence, 1.0),\n",
       " (findings, 0.7154176601291731),\n",
       " (evidence, 1.0),\n",
       " (experimental and clinical evidence, 0.7696141392679663),\n",
       " (the evidence, 0.8920556548929212),\n",
       " (the evidence, 0.8920556548929212),\n",
       " (findings, 0.7154176601291731),\n",
       " (valid and reliable evidence, 0.7685998208730859),\n",
       " (evidence, 1.0),\n",
       " (no evidence-based guidelines, 0.7281797658297736),\n",
       " (findings, 0.7154176601291731),\n",
       " (no evidence, 0.8855322381207609),\n",
       " (evidence, 1.0),\n",
       " (crucial evidence, 0.8745241991262083),\n",
       " (evidence, 1.0),\n",
       " (the required evidence, 0.8066574657579928),\n",
       " (experimental evidence, 0.8324675417299973),\n",
       " (evidence, 1.0),\n",
       " (evidence, 1.0),\n",
       " (no sufficient evidence, 0.8552125162257306),\n",
       " (evidence, 1.0),\n",
       " (clinical trial evidence, 0.8185695384701854),\n",
       " (current evidence, 0.8510656597572938),\n",
       " (evidence, 1.0),\n",
       " (emerging evidence, 0.8307155818971217),\n",
       " (These findings, 0.7233815540617284),\n",
       " (These study findings, 0.7229811001465728),\n",
       " (the evidence, 0.8920556548929212),\n",
       " (strong evidence, 0.8562357706878234),\n",
       " (The evidence, 0.8920556548929212),\n",
       " (autopsy findings, 0.7064988272316054),\n",
       " (the current evidence, 0.7855865444171195),\n",
       " (the best available evidence, 0.7034971801038717),\n",
       " (evidence, 1.0),\n",
       " (evidence-based guideline, 0.7159340848628032),\n",
       " (evidence, 1.0),\n",
       " (the best evidence, 0.7758927261291712),\n",
       " (Evidence, 0.9999999433595966),\n",
       " (the current best evidence, 0.7160594943449848),\n",
       " (evidence, 1.0),\n",
       " (evidence, 1.0),\n",
       " (no clean evidence, 0.7492534816318447),\n",
       " (the pathological findings, 0.7229356408816752),\n",
       " (Evidence, 0.9999999433595966),\n",
       " (this evidence, 0.8791211090819844),\n",
       " (These findings, 0.7233815540617284),\n",
       " (current published evidence, 0.7656595359272376),\n",
       " (Findings, 0.7154176601291731),\n",
       " (Findings, 0.7154176601291731),\n",
       " (our statistical significant findings, 0.7080273288421312),\n",
       " (evidence, 1.0),\n",
       " (The current evidence, 0.7855865444171195),\n",
       " (evidence, 1.0),\n",
       " (clinical evidence, 0.8462254888715148),\n",
       " (clear evidence, 0.892346772855739),\n",
       " (EVIDENCE V, 0.7197350116973766),\n",
       " (evidence, 1.0),\n",
       " (evidence, 1.0),\n",
       " (evidence, 1.0),\n",
       " (very low-certainty evidence, 0.7042607970124404),\n",
       " (no evidence, 0.8855322381207609),\n",
       " (Available evidence, 0.8173997140137627),\n",
       " (evidence, 1.0),\n",
       " (evidence, 1.0),\n",
       " (This evidence, 0.8791211090819844),\n",
       " (These findings, 0.7233815540617284),\n",
       " (autopsy findings, 0.7064988272316054),\n",
       " (evidence-based treatment decisions, 0.7136468236211891),\n",
       " (evidence generation, 0.7966154477043318),\n",
       " (evidence, 1.0),\n",
       " (evidence, 1.0),\n",
       " (prior evidence, 0.8761646871135234),\n",
       " (any clinical evidence, 0.8477608771092423),\n",
       " (evidence-based evidence, 0.889345616372346),\n",
       " (valuable clinical evidence, 0.817045264324274),\n",
       " (evidence, 1.0),\n",
       " (colocalization evidence, 0.9999999433595966),\n",
       " (convincing evidence, 0.8974490854577438),\n",
       " (evidence, 1.0),\n",
       " (Strong evidence, 0.8562357706878234),\n",
       " (findings, 0.7154176601291731),\n",
       " (evidence-based practices, 0.7006440612401943),\n",
       " (evidence, 1.0),\n",
       " (Findings, 0.7154176601291731),\n",
       " (Consistent epidemiologic evidence, 0.8363662883217917),\n",
       " (The findings, 0.718597672285809),\n",
       " (the recent evidence, 0.8309492802248566),\n",
       " (vitro evidence, 0.770681381953998),\n",
       " (vivo evidence, 0.7396345690464189),\n",
       " (Findings, 0.7154176601291731),\n",
       " (These findings, 0.7233815540617284),\n",
       " (robust evidence, 0.8329691350926725),\n",
       " (The current evidence, 0.7855865444171195),\n",
       " (The current evidence, 0.7855865444171195),\n",
       " (Evidence, 0.9999999433595966),\n",
       " (the current and emergent evidence, 0.7173040072608523),\n",
       " (definitive evidence, 0.8702443567417232),\n",
       " (infection.&lt;/p&gt;&lt;p&gt;Our findings, 0.7154176601291731),\n",
       " (evidence, 1.0),\n",
       " (Findings, 0.7154176601291731),\n",
       " (These findings, 0.7233815540617284),\n",
       " (evidence, 1.0),\n",
       " (Clinical and experimental evidence, 0.7696141556313763),\n",
       " (available evidence, 0.8173997140137627),\n",
       " (no evidence, 0.8855322381207609),\n",
       " (Little evidence, 0.8401865374816434),\n",
       " (current evidence, 0.8510656597572938),\n",
       " (evidence, 1.0),\n",
       " (The evidence-based medicine, 0.7109684365682292),\n",
       " (evidence, 1.0),\n",
       " (Evidence, 0.9999999433595966),\n",
       " (no clinical evidence, 0.846359015795327),\n",
       " (these findings, 0.7233815540617284),\n",
       " (The findings, 0.718597672285809),\n",
       " (FINDINGS, 0.7154176601291731),\n",
       " (these findings, 0.7233815540617284),\n",
       " (evidence, 1.0),\n",
       " (FINDINGS, 0.7154176601291731),\n",
       " (evidence, 1.0),\n",
       " (more evidence, 0.874096496690286),\n",
       " (evidence, 1.0),\n",
       " (findings, 0.7154176601291731),\n",
       " (available evidence, 0.8173997140137627),\n",
       " (no conclusive evidence, 0.889177519019998),\n",
       " (FINDINGS, 0.7154176601291731),\n",
       " (current evidence, 0.8510656597572938),\n",
       " (further evidence, 0.8967336580756142),\n",
       " (the current evidence, 0.7855865444171195),\n",
       " (the evidences, 0.7345546949119798),\n",
       " (evidence, 1.0),\n",
       " (evidence, 1.0),\n",
       " (Emerging evidence, 0.8307155818971217),\n",
       " (FINDINGS, 0.7154176601291731),\n",
       " (evidence, 1.0),\n",
       " (evidence, 1.0),\n",
       " (current evidence, 0.8510656597572938),\n",
       " (FINDINGS, 0.7154176601291731),\n",
       " (the evidence, 0.8920556548929212),\n",
       " (direct and indirect evidence, 0.7325723140547511),\n",
       " (the evidence, 0.8920556548929212),\n",
       " (FINDINGS, 0.7154176601291731),\n",
       " (the evidence, 0.8920556548929212),\n",
       " (the current evidence, 0.7855865444171195),\n",
       " (not much evidence, 0.8187249089235168),\n",
       " (new evidence, 0.8342938365455351),\n",
       " (evidence, 1.0),\n",
       " (strong evidence, 0.8562357706878234),\n",
       " (FINDINGS, 0.7154176601291731),\n",
       " (more evidence, 0.874096496690286),\n",
       " (FINDINGS, 0.7154176601291731),\n",
       " (no significant evidence, 0.8588092081968476),\n",
       " (Evidence, 0.9999999433595966),\n",
       " (current best evidence, 0.7577793045421627),\n",
       " (the best available evidence, 0.7034971801038717),\n",
       " (evidence, 1.0),\n",
       " (the DS evidence theory, 0.7491147788085333),\n",
       " (evidence, 1.0),\n",
       " (these findings, 0.7233815540617284),\n",
       " (the findings, 0.718597672285809),\n",
       " (increasing evidence, 0.8459518795416017),\n",
       " (These preliminary findings, 0.7378650816803648),\n",
       " (no evidence, 0.8855322381207609),\n",
       " (no evidence, 0.8855322381207609),\n",
       " (Evidence, 0.9999999433595966),\n",
       " (the findings, 0.718597672285809),\n",
       " (new evidence, 0.8342938365455351),\n",
       " ( Background Accumulating evidence, 0.7817667672556148),\n",
       " (new evidence, 0.8342938365455351),\n",
       " (evidence, 1.0),\n",
       " (Findings, 0.7154176601291731),\n",
       " (evidence, 1.0),\n",
       " (no evidence, 0.8855322381207609),\n",
       " (the findings, 0.718597672285809),\n",
       " (No randomised controlled evidence, 0.7431423671358681),\n",
       " (limited evidence, 0.8611094042317557),\n",
       " (These findings, 0.7233815540617284),\n",
       " (an evidence report, 0.8264369221280354),\n",
       " (available evidence, 0.8173997140137627),\n",
       " (no convincing evidence, 0.8593703105288915),\n",
       " (Findings, 0.7154176601291731),\n",
       " (autopsy findings, 0.7064988272316054),\n",
       " (the scientific rationale, 0.70558183966455),\n",
       " (evidence-based rapid guidelines, 0.7009980580197361),\n",
       " (evidence, 1.0),\n",
       " (much needed evidence, 0.7876186592155414),\n",
       " (evidence, 1.0),\n",
       " (evidence, 1.0),\n",
       " (the evidence, 0.8920556548929212),\n",
       " (available evidence, 0.8173997140137627),\n",
       " (The preliminary findings, 0.715815586565912),\n",
       " (These findings, 0.7233815540617284),\n",
       " (Evidence Review, 0.8310792121612944),\n",
       " (Findings, 0.7154176601291731),\n",
       " (the case studies, 0.7195719218740009),\n",
       " (some case studies, 0.7331097391740083),\n",
       " (the currently available evidence, 0.7054339749350209),\n",
       " (evidence, 1.0),\n",
       " (suggestive evidence, 0.8583636163760304),\n",
       " (These findings, 0.7233815540617284),\n",
       " (best available evidence, 0.7261993434029794),\n",
       " (evidence, 1.0),\n",
       " (findings, 0.7154176601291731),\n",
       " (the existing evidence, 0.7772599075371337),\n",
       " (Evidence review, 0.8310792121612944),\n",
       " (Findings, 0.7154176601291731),\n",
       " (evidence, 1.0),\n",
       " (strong evidence, 0.8562357706878234),\n",
       " (available evidence, 0.8173997140137627),\n",
       " (robust evidence, 0.8329691350926725),\n",
       " (the epidemiologic investigation, 0.7146993378129762),\n",
       " (These findings, 0.7233815540617284),\n",
       " (limited evidence, 0.8611094042317557),\n",
       " (the existing evidence, 0.7772599075371337),\n",
       " (these findings, 0.7233815540617284),\n",
       " (some suggestive evidence, 0.8433973644821585),\n",
       " (current evidence, 0.8510656597572938),\n",
       " (Findings, 0.7154176601291731),\n",
       " (findings, 0.7154176601291731),\n",
       " (indirect evidence, 0.8391493300710365),\n",
       " (no evidence, 0.8855322381207609),\n",
       " (no published evidence, 0.8126195141476348),\n",
       " (emerging evidence, 0.8307155818971217),\n",
       " (an evidence, 0.8537001705681507),\n",
       " (The findings, 0.718597672285809),\n",
       " (accurate evidence, 0.8502440142833166),\n",
       " (Current clinical evidence, 0.7966837906530121),\n",
       " (the evidence, 0.8920556548929212),\n",
       " (Evidence summaries, 0.8119726172439554),\n",
       " (evidence, 1.0),\n",
       " (These findings, 0.7233815540617284),\n",
       " (much evidence, 0.8838834096486022),\n",
       " (Findings, 0.7154176601291731),\n",
       " (Interpretation Preliminary findings, 0.7312511981103575),\n",
       " (robust evidence, 0.8329691350926725),\n",
       " (available evidence, 0.8173997140137627),\n",
       " (evidence, 1.0),\n",
       " (Preliminary evidence, 0.8874567960660089),\n",
       " (further evidence, 0.8967336580756142),\n",
       " (further epidemiological evidence, 0.8557884644161478),\n",
       " (these findings, 0.7233815540617284),\n",
       " (substantial evidence, 0.9088424891894027),\n",
       " (these findings, 0.7233815540617284),\n",
       " (More evidence, 0.874096496690286),\n",
       " (the current evidence, 0.7855865444171195),\n",
       " (limited evidence, 0.8611094042317557),\n",
       " (insufficient evidence, 0.9050626836035032),\n",
       " (evidence, 1.0),\n",
       " (evidence-based medicine, 0.7079472483873294),\n",
       " (any evidence, 0.8915532207876604),\n",
       " (These findings, 0.7233815540617284),\n",
       " (limited evidence, 0.8611094042317557),\n",
       " (These findings, 0.7233815540617284),\n",
       " (these findings, 0.7233815540617284),\n",
       " (The findings, 0.718597672285809),\n",
       " (radiographic evidence, 0.7622114352743279),\n",
       " (evidence, 1.0),\n",
       " (the current evidence, 0.7855865444171195),\n",
       " (Evidence links, 0.8175523518064354),\n",
       " (additional randomized controlled trial evidence, 0.7293585264745913),\n",
       " (the current evidence, 0.7855865444171195),\n",
       " (limited evidence, 0.8611094042317557),\n",
       " (evidence, 1.0),\n",
       " (evidence, 1.0),\n",
       " (the best available evidence, 0.7034971801038717),\n",
       " (current evidence, 0.8510656597572938),\n",
       " (the evidence, 0.8920556548929212),\n",
       " (strong evidence, 0.8562357706878234),\n",
       " (evidence, 1.0),\n",
       " (evidence-based decisions, 0.7257866742343472),\n",
       " (the scientific evidence, 0.8635729895107082),\n",
       " (FINDINGS, 0.7154176601291731),\n",
       " (the evidence, 0.8920556548929212),\n",
       " (empirical evidence, 0.8948254390055078),\n",
       " (the current evidence, 0.7855865444171195),\n",
       " (Increasing evidence, 0.8459518795416017),\n",
       " (No conclusive evidence, 0.889177519019998),\n",
       " (current limited evidence, 0.7758833937271896),\n",
       " (best available evidence, 0.7261993434029794),\n",
       " (these findings, 0.7233815540617284),\n",
       " (the available evidence, 0.7805130621202444),\n",
       " (the evidence, 0.8920556548929212),\n",
       " (the evidence, 0.8920556548929212),\n",
       " (evidence, 1.0),\n",
       " (no evidence, 0.8855322381207609),\n",
       " (new evidence, 0.8342938365455351),\n",
       " (any evidence, 0.8915532207876604),\n",
       " (Evidence, 0.9999999433595966),\n",
       " (evidence, 1.0),\n",
       " (Findings, 0.7154176601291731),\n",
       " (evidence, 1.0),\n",
       " (evidence, 1.0),\n",
       " (These findings, 0.7233815540617284),\n",
       " (These findings, 0.7233815540617284),\n",
       " (evidence, 1.0),\n",
       " (the available evidence, 0.7805130621202444),\n",
       " (theoretical, experimental, preclinical and clinical evidence,\n",
       "  0.7023077205737291),\n",
       " (adequate evidence, 0.8809528793266942),\n",
       " (Some initial findings, 0.7169686911783884),\n",
       " (evidence-based guidelines, 0.7139424450760522),\n",
       " (no sound evidence, 0.764919600480569),\n",
       " (These findings, 0.7233815540617284),\n",
       " (The current evidence, 0.7855865444171195),\n",
       " (evidence, 1.0),\n",
       " (conclusive evidence, 0.9253044488050884),\n",
       " (Findings, 0.7154176601291731),\n",
       " (Findings, 0.7154176601291731),\n",
       " (Findings, 0.7154176601291731),\n",
       " (evidence-based evidence, 0.889345616372346),\n",
       " (very limited clinical evidences, 0.71023186833282),\n",
       " (the current evidence, 0.7855865444171195),\n",
       " (radiographic evidence, 0.7622114352743279),\n",
       " (previous evidences, 0.7183486438092058),\n",
       " (a combined evidence strategy, 0.715242583974323),\n",
       " (the evidence, 0.8920556548929212),\n",
       " (no evidence, 0.8855322381207609),\n",
       " (no evidence, 0.8855322381207609),\n",
       " (evidence-based evidence, 0.889345616372346),\n",
       " (valuable clinical evidence, 0.817045264324274),\n",
       " (no evidence, 0.8855322381207609),\n",
       " (no evidence, 0.8855322381207609),\n",
       " (the available evidence, 0.7805130621202444),\n",
       " (the clinical evidence, 0.8400976398363346),\n",
       " (The limited but emerging evidence, 0.7444940822890445),\n",
       " (current published evidence, 0.7656595359272376),\n",
       " (These findings, 0.7233815540617284),\n",
       " (no sufficient evidence, 0.8552125162257306),\n",
       " (Limited evidence, 0.8611094042317557),\n",
       " (further evidence, 0.8967336580756142),\n",
       " (mounting evidence, 0.7376711881067949),\n",
       " (FINDINGS, 0.7154176601291731),\n",
       " (evidence-based medicine, 0.7079472483873294),\n",
       " (Findings, 0.7154176601291731),\n",
       " (clear epidemiological history, 0.7037497835451266),\n",
       " (the bioinformatics evidence, 0.7483015769867409),\n",
       " (FINDINGS, 0.7154176601291731),\n",
       " (present critical findings, 0.709660189601018),\n",
       " (the circumstantial evidence, 0.9169703643013626),\n",
       " (the evidence, 0.8920556548929212),\n",
       " (available evidence, 0.8173997140137627),\n",
       " (the clinical evidence, 0.8400976398363346),\n",
       " (strongly evidence-based regimens, 0.7104939078905905),\n",
       " (either in-vitro or extrapolated evidence, 0.7031523353541037),\n",
       " (These findings, 0.7233815540617284),\n",
       " (the clinical evidence, 0.8400976398363346),\n",
       " (current available evidence, 0.7381976919745076),\n",
       " (limited evidence, 0.8611094042317557),\n",
       " (evidence, 1.0),\n",
       " (, direct clinical evidence, 0.7842458851649281),\n",
       " (evidence, 1.0),\n",
       " (credible evidence, 0.9105223634652798),\n",
       " (evidence, 1.0),\n",
       " (Findings, 0.7154176601291731),\n",
       " (Findings, 0.7154176601291731),\n",
       " (Findings, 0.7154176601291731),\n",
       " (Findings, 0.7154176601291731),\n",
       " (Findings, 0.7154176601291731),\n",
       " (relevant evidence, 0.8879480615264345),\n",
       " (the current evidence, 0.7855865444171195),\n",
       " (the current evidence, 0.7855865444171195),\n",
       " (Findings, 0.7154176601291731),\n",
       " (Findings, 0.7154176601291731),\n",
       " (the related evidence, 0.8284986764985369),\n",
       " (vitro evidence, 0.770681381953998),\n",
       " (strong evidence, 0.8562357706878234),\n",
       " (Findings, 0.7154176601291731),\n",
       " (Findings, 0.7154176601291731),\n",
       " (clinical evidence, 0.8462254888715148),\n",
       " (some evidence, 0.9008331003170855),\n",
       " (therapeutic evidence, 0.8050210549163657),\n",
       " (Findings, 0.7154176601291731),\n",
       " (Findings, 0.7154176601291731),\n",
       " (evidence, 1.0),\n",
       " (little evidence, 0.8401865374816434),\n",
       " (reliable evidence, 0.8315390465552034),\n",
       " (evidence-based medicine, 0.7079472483873294),\n",
       " (Findings, 0.7154176601291731),\n",
       " (Findings, 0.7154176601291731),\n",
       " (Findings, 0.7154176601291731),\n",
       " (Findings, 0.7154176601291731),\n",
       " (Findings, 0.7154176601291731),\n",
       " (FINDINGS, 0.7154176601291731),\n",
       " (previous evidences, 0.7183486438092058),\n",
       " (Preliminary evidences, 0.7431089398510404),\n",
       " (Findings, 0.7154176601291731),\n",
       " (these findings, 0.7233815540617284),\n",
       " (evidence, 1.0),\n",
       " (other findings, 0.7220574234824757),\n",
       " (Findings, 0.7154176601291731),\n",
       " (Findings, 0.7154176601291731),\n",
       " (Findings, 0.7154176601291731),\n",
       " (Findings, 0.7154176601291731),\n",
       " (Findings, 0.7154176601291731),\n",
       " (recent evidence, 0.8903447700464202),\n",
       " (evidence, 1.0),\n",
       " (Findings, 0.7154176601291731)]"
      ]
     },
     "execution_count": 67,
     "metadata": {},
     "output_type": "execute_result"
    }
   ],
   "source": [
    "cumlist=[]\n",
    "dfRem[\"doc\"].apply(lambda x:similar_nchunks(x,\"evidence\",cumlist,threshhold=0.7))\n",
    "cumlist"
   ]
  },
  {
   "cell_type": "markdown",
   "metadata": {
    "code_folding": []
   },
   "source": [
    "# THANK YOU"
   ]
  }
 ],
 "metadata": {
  "celltoolbar": "Slideshow",
  "kernelspec": {
   "display_name": "Python 3",
   "language": "python",
   "name": "python3"
  },
  "language_info": {
   "codemirror_mode": {
    "name": "ipython",
    "version": 3
   },
   "file_extension": ".py",
   "mimetype": "text/x-python",
   "name": "python",
   "nbconvert_exporter": "python",
   "pygments_lexer": "ipython3",
   "version": "3.7.6"
  }
 },
 "nbformat": 4,
 "nbformat_minor": 4
}
