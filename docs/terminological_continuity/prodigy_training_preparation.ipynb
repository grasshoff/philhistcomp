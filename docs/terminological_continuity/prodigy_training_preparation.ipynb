{
 "cells": [
  {
   "cell_type": "markdown",
   "metadata": {},
   "source": [
    "#### Purpose of the notebook: developing a chain of commands transforming txt-files into jsonl-files suitable for training a model with prodigy.\n",
    "\n",
    "*Ideally*: find approx. 500 sample sentences in which philosophers discuss a specific concept, merge all those sentences in one big txt-file, then convert to jsonl-format\n",
    "\n",
    "*for now*: to get acquainted with prodigy, I decided to only take into account the 10 sentences from Suarez' De Anima and the 7 sentences from Descartes' Meditationes in which they mention the term soul, put them into one txt-file, imitated (manually) the jsonl-format and saved the file as *prodigy_input_data_sample.jsonl*. I will get back to the 'ideal method' as soon as I am more familiar with prodigy. "
   ]
  },
  {
   "cell_type": "code",
   "execution_count": 1,
   "metadata": {},
   "outputs": [],
   "source": [
    "import json "
   ]
  },
  {
   "cell_type": "code",
   "execution_count": 4,
   "metadata": {},
   "outputs": [],
   "source": [
    "import jsonlines"
   ]
  },
  {
   "cell_type": "code",
   "execution_count": null,
   "metadata": {},
   "outputs": [],
   "source": [
    "\n",
    "\n",
    "\n",
    "\n",
    "prodigy_input_data_sample.txt"
   ]
  }
 ],
 "metadata": {
  "kernelspec": {
   "display_name": "Python 3",
   "language": "python",
   "name": "python3"
  },
  "language_info": {
   "codemirror_mode": {
    "name": "ipython",
    "version": 3
   },
   "file_extension": ".py",
   "mimetype": "text/x-python",
   "name": "python",
   "nbconvert_exporter": "python",
   "pygments_lexer": "ipython3",
   "version": "3.7.9"
  }
 },
 "nbformat": 4,
 "nbformat_minor": 4
}
