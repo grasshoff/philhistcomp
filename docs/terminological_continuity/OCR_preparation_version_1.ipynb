{
 "cells": [
  {
   "cell_type": "markdown",
   "metadata": {},
   "source": [
    "**Version 1**: saving images (output) directly to folder BUT naming (last 3 lines of code below) does not work anymore "
   ]
  },
  {
   "cell_type": "code",
   "execution_count": 31,
   "metadata": {},
   "outputs": [],
   "source": [
    "from pdf2image import convert_from_path\n",
    "\n",
    "from pdf2image.exceptions import (\n",
    " PDFInfoNotInstalledError,\n",
    " PDFPageCountError,\n",
    " PDFSyntaxError\n",
    ")\n",
    "\n",
    "images = convert_from_path(pdf_path=r'C:\\Users\\sdbra\\Documents\\tesserocr-master\\data\\input\\sample_Ockham.pdf', dpi=500, output_folder=r'C:\\Users\\sdbra\\Documents\\tesserocr-master\\data\\output/', fmt='jpeg')\n",
    "\n",
    "for i, image in enumerate(images):\n",
    "    fname = 'sample_Ockham'+str(i)+'.jpeg'\n",
    "    image.save(fname, \"JPEG\")"
   ]
  },
  {
   "cell_type": "code",
   "execution_count": null,
   "metadata": {},
   "outputs": [],
   "source": []
  }
 ],
 "metadata": {
  "kernelspec": {
   "display_name": "Python 3",
   "language": "python",
   "name": "python3"
  },
  "language_info": {
   "codemirror_mode": {
    "name": "ipython",
    "version": 3
   },
   "file_extension": ".py",
   "mimetype": "text/x-python",
   "name": "python",
   "nbconvert_exporter": "python",
   "pygments_lexer": "ipython3",
   "version": "3.7.6"
  }
 },
 "nbformat": 4,
 "nbformat_minor": 4
}
