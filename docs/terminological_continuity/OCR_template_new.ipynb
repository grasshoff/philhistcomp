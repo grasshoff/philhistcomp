{
 "cells": [
  {
   "cell_type": "markdown",
   "metadata": {},
   "source": [
    "### OCR-notebook: preparing data for subsequent NLP-analysis with SpaCy (template = one notebook per book)\n",
    "\n",
    "1. **pre-processing (i):** cut irrelevant material (entire pages: front page, toc, intro, index etc.) using PyPDF2\n",
    "2. **pre-processing (ii):** turn pdf into jpegs using pdf2image\n",
    "3. **OCR:** run tesseract on all jpegs in one folder (one folder = one book)\n",
    "4. **post-processing (i):** get rid of faulty OCR-output by eliminating sentences that contain words with low accuracy \n",
    "5. **post-processing (ii):** turn OCR-output into one coherent txt-file"
   ]
  },
  {
   "cell_type": "markdown",
   "metadata": {},
   "source": [
    "**1. pre-processing (i):** cut irrelevant material (entire pages: front page, toc, intro, index etc.) using PyPDF2"
   ]
  },
  {
   "cell_type": "markdown",
   "metadata": {},
   "source": [
    "*required adjustemts for book-specific notebooks: 1. path input_pdf, 2. path output_pdf, 3. range* "
   ]
  },
  {
   "cell_type": "code",
   "execution_count": 5,
   "metadata": {},
   "outputs": [],
   "source": [
    "from PyPDF2 import PdfFileReader, PdfFileWriter\n",
    "from pathlib import Path\n",
    "\n",
    "home = str(Path.home())\n",
    "input_pdf  = home + (\"/data/input/raw/Descartes/Meditations/meditations.pdf\") \n",
    "output_pdf = home + (\"/data/input/cut/Descartes/Meditations/meditation_one.pdf\")\n",
    "\n",
    "pdf_reader = PdfFileReader(input_pdf)\n",
    "pdf_writer = PdfFileWriter()\n",
    "\n",
    "for n in range(15, 19):\n",
    "    page = pdf_reader.getPage(n)\n",
    "    pdf_writer.addPage(page)\n",
    "\n",
    "with open(output_pdf, 'wb') as out:\n",
    "    pdf_writer.write(out)"
   ]
  },
  {
   "cell_type": "markdown",
   "metadata": {},
   "source": [
    "**2. pre-processing (ii):** turn pdf into jpegs using pdf2image"
   ]
  },
  {
   "cell_type": "markdown",
   "metadata": {},
   "source": [
    "*required adjustemts for book-specific notebooks: 1. path output_folder_imgs*"
   ]
  },
  {
   "cell_type": "code",
   "execution_count": 6,
   "metadata": {},
   "outputs": [],
   "source": [
    "from pdf2image import convert_from_path\n",
    "\n",
    "output_folder_imgs = home + (\"/data/output/jpegs/Descartes/Meditations/meditation_one\")\n",
    "\n",
    "\n",
    "images = convert_from_path(\n",
    "    fmt='jpeg',\n",
    "    dpi=300, \n",
    "    pdf_path=output_pdf,\n",
    "    output_folder=output_folder_imgs \n",
    ")\n"
   ]
  },
  {
   "cell_type": "markdown",
   "metadata": {},
   "source": [
    "**3. OCR:** run tesseract on all jpegs in one folder (one folder = one book)"
   ]
  },
  {
   "cell_type": "markdown",
   "metadata": {},
   "source": [
    "*required adjustemts for book-specific notebooks: 1. path glob* "
   ]
  },
  {
   "cell_type": "code",
   "execution_count": 49,
   "metadata": {},
   "outputs": [
    {
     "name": "stdout",
     "output_type": "stream",
     "text": [
      "['/home/jovyan/data/output/jpegs/Descartes/Meditations/meditation_one/064d004a-f229-4ad0-9d5a-8203cad8839e-1.jpg', '/home/jovyan/data/output/jpegs/Descartes/Meditations/meditation_one/064d004a-f229-4ad0-9d5a-8203cad8839e-2.jpg', '/home/jovyan/data/output/jpegs/Descartes/Meditations/meditation_one/064d004a-f229-4ad0-9d5a-8203cad8839e-3.jpg', '/home/jovyan/data/output/jpegs/Descartes/Meditations/meditation_one/064d004a-f229-4ad0-9d5a-8203cad8839e-4.jpg']\n"
     ]
    }
   ],
   "source": [
    "from pathlib import Path\n",
    "import os\n",
    "from glob import glob\n",
    "\n",
    "home = str(Path.home())\n",
    "path = home + \"/data/output/jpegs/Descartes/Meditations/meditation_one/*.jpg\"\n",
    "sorted_pages = sorted(glob(path), key=os.path.getmtime)\n",
    "\n",
    "print(sorted_pages)"
   ]
  },
  {
   "cell_type": "markdown",
   "metadata": {},
   "source": [
    "*required adjustemts for book-specific notebooks: none*"
   ]
  },
  {
   "cell_type": "code",
   "execution_count": 65,
   "metadata": {},
   "outputs": [
    {
     "name": "stdout",
     "output_type": "stream",
     "text": [
      "~~~~~~~\n",
      "kind computer currently doing: /home/jovyan/data/output/jpegs/Descartes/Meditations/meditation_one/064d004a-f229-4ad0-9d5a-8203cad8839e-1.jpg\n",
      "we removed word index: 202 value: free confidence: 64\n",
      "we removed word index: 203 value: time. confidence: 64\n",
      "we removed word index: 367 value: re-+ed. confidence: 31\n",
      "we removed word index: 441 value: 12 confidence: 60\n",
      "processing done, page begins with: 17 18 MEDITATIONS ON FIRST PHILOSOPHY in which are demonstra\n",
      "~~~~~~~\n",
      "kind computer currently doing: /home/jovyan/data/output/jpegs/Descartes/Meditations/meditation_one/064d004a-f229-4ad0-9d5a-8203cad8839e-2.jpg\n",
      "we removed word index: 20 value: | confidence: 44\n",
      "we removed word index: 59 value: I confidence: 52\n",
      "we removed word index: 161 value: experiences’ confidence: 26\n",
      "we removed word index: 205 value: | confidence: 59\n",
      "we removed word index: 254 value: [ confidence: 64\n",
      "we removed word index: 342 value: | confidence: 50\n",
      "we removed word index: 356 value: I confidence: 49\n",
      "we removed word index: 382 value: ~ confidence: 0\n",
      "we removed word index: 536 value: ‘...and confidence: 64\n",
      "processing done, page begins with: First Meditation 13 which doubt is quite impossible, even th\n",
      "~~~~~~~\n",
      "kind computer currently doing: /home/jovyan/data/output/jpegs/Descartes/Meditations/meditation_one/064d004a-f229-4ad0-9d5a-8203cad8839e-3.jpg\n",
      "we removed word index: 0 value: 21 confidence: 56\n",
      "we removed word index: 96 value: endure,! confidence: 46\n",
      "we removed word index: 359 value: 1 confidence: 60\n",
      "we removed word index: 521 value: 1‘... confidence: 0\n",
      "processing done, page begins with: ++PLEASE_REMOVE_ME++ 14 Meditations on First Philosophy hand\n",
      "~~~~~~~\n",
      "kind computer currently doing: /home/jovyan/data/output/jpegs/Descartes/Meditations/meditation_one/064d004a-f229-4ad0-9d5a-8203cad8839e-4.jpg\n",
      "we removed word index: 49 value: certainty.! confidence: 55\n",
      "we removed word index: 237 value: | confidence: 39\n",
      "we removed word index: 275 value: 1 confidence: 12\n",
      "we removed word index: 353 value: . confidence: 16\n",
      "we removed word index: 402 value: power,’ confidence: 50\n",
      "we removed word index: 549 value: ‘... confidence: 28\n",
      "we removed word index: 550 value: in confidence: 28\n",
      "we removed word index: 558 value: ‘... confidence: 52\n",
      "processing done, page begins with: First Meditation 15 raised; and this is not a flippant or il\n",
      "CPU times: user 3min 32s, sys: 1.47 s, total: 3min 33s\n",
      "Wall time: 1min 3s\n"
     ]
    }
   ],
   "source": [
    "%%time\n",
    "\n",
    "from tesserocr import PyTessBaseAPI\n",
    "\n",
    "LIMIT = 65\n",
    "REMOVE_WORD = \"++PLEASE_REMOVE_ME++\"\n",
    "PROCESSED_TEXT = \" \"\n",
    "\n",
    "with PyTessBaseAPI(path=home + \"/tessdata_best/.\", psm=1, lang='eng') as api:\n",
    "    for img in sorted_pages:\n",
    "        api.SetImageFile(img)\n",
    "        \n",
    "        # print(api.GetUTF8Text())\n",
    "        \n",
    "        print(\"~~~~~~~\")\n",
    "        print(\"kind computer currently doing:\", img)\n",
    "        api.Recognize()\n",
    "        words = api.AllWords()\n",
    "        confi = api.AllWordConfidences()\n",
    "                     \n",
    "        for x in range(len(confi)):\n",
    "          if confi[x] < LIMIT:\n",
    "            print(\"we removed word index:\", x, \"value:\", words[x], \"confidence:\", confi[x])\n",
    "            words[x] = REMOVE_WORD\n",
    "    \n",
    "        output = ' '.join(words)\n",
    "           \n",
    "        print(\"processing done, page begins with:\", output[0:60])\n",
    "        PROCESSED_TEXT += output\n"
   ]
  },
  {
   "cell_type": "markdown",
   "metadata": {},
   "source": [
    "**4. post-processing (i)**: get rid of faulty OCR-output by eliminating sentences containing words with low accuracy (i.e. words that have been replaced by \"PLEASE_REMOVE_ME\" in step 3)"
   ]
  },
  {
   "cell_type": "markdown",
   "metadata": {},
   "source": [
    "*required adjustemts for book-specific notebooks: none*"
   ]
  },
  {
   "cell_type": "code",
   "execution_count": 66,
   "metadata": {
    "scrolled": false
   },
   "outputs": [],
   "source": [
    "import pandas as pd\n",
    "import re\n",
    "import spacy\n",
    "\n",
    "from spacy.lang.en import English\n",
    "\n",
    "nlp = English()\n",
    "\n",
    "nlp.add_pipe(nlp.create_pipe('sentencizer'))\n",
    "\n",
    "doc = nlp(PROCESSED_TEXT)\n",
    "\n",
    "sentences = [sent.string.strip() for sent in doc.sents]"
   ]
  },
  {
   "cell_type": "code",
   "execution_count": 76,
   "metadata": {},
   "outputs": [
    {
     "name": "stdout",
     "output_type": "stream",
     "text": [
      "17 18 MEDITATIONS ON FIRST PHILOSOPHY in which are demonstrated the existence of God and the distinction between the human soul and the body FIRST MEDITATION What can be called into doubt Some years ago I was struck by the large number of falsehoods that I had accepted as true in my childhood, and by the highly doubtful nature of the whole edifice that I had subsequently based on them. I realized that it was necessary, once in the course of my life, to demolish everything completely and start again right from the foundations if I wanted to establish anything at all in the sciences that was stable and likely to last. But the task looked an enormous one, and I began to wait until I should reach a mature enough age to ensure that no subsequent time of life would be more suitable for tackling such inquiries. This led me to put the project off for so long that I would now be to blame if by pondering over it any further I wasted the time still left for carrying it out.  But to accomplish this, it will not be necessary for me to show that all my opinions are false, which is something I could perhaps never manage. Reason now leads me to think that I should hold back my assent from opinions which are not completely certain and indubitable just as carefully as I do from those which are patently false. So, for the purpose of rejecting all my opinions, it will be enough if I find in each of them at least some reason for doubt. And to do this I will not need to run through them all individually, which would be an endless task.  But from time to time I have found that the senses deceive, and it is prudent never to trust completely those who have deceived us even once.  Again, how could it be denied that these hands or this whole body are mine?  But such people are insane, and [ would be thought equally mad if I took anything from them as a model for myself. A brilliant piece of reasoning!    All this would not happen with such distinctness to someone asleep. Indeed! As if I did not remember other occasions when [ have been tricked by exactly similar thoughts while asleep! As I think about this more carefully, I see plainly that there are never any sure signs by means of which being awake can be distinguished from being asleep. The result is that I begin to feel dazed, and this very feeling only reinforces the notion that I may be asleep.   Nonetheless, it must surely be admitted that the visions which come in sleep are like paintings, which must have been fashioned in the likeness of things that are real, and hence that at least these general kinds of things — eyes, head, hands and the body as a whole — are things which are not imaginary but are real and exist. For even when painters try to create sirens and satyrs with the most extraordinary bodies, they cannot give them natures which are new in all respects; they simply jumble up the limbs of different animals. Or if perhaps they manage to think up something so new that nothing remotely similar has ever been seen before — something which is therefore completely fictitious and unreal — at least the colours used in the composition must be real.   These are as it were the real colours from which we form all the images of things, whether true or false, that occur in our thought.  So a reasonable conclusion from this might be that physics, astronomy, medicine, and all other disciplines which depend on the study of composite things, are doubtful; while arithmetic, geometry and other subjects of this kind, which deal only with the simplest and most general things, regardless of whether they really exist in nature or not, contain something certain and indubitable. For whether I am awake or asleep, two and three added together are five, and a square has no more than four sides. It seems impossible that such transparent truths should incur any suspicion of being false. And yet firmly rooted in my mind is the long-standing opinion that there is an omnipotent God who made me the kind of creature that I am. How do I know that he has not brought it about that there is no earth, no sky, no extended thing, no shape, no size, no place, while at the same time ensuring that all these things appear to me to exist just as they do now? What is more, since | sometimes believe that others go astray in cases where they think they have the most perfect knowledge, may 1 not similarly go wrong every time I add two and three or count the sides of a square, or in some even simpler matter, if that is imaginable? But perhaps God would not have allowed me to be deceived in this way, since he is said to be supremely good.  Perhaps there may be some who would prefer to deny the existence of so powerful a God rather than believe that everything else is uncertain. Let us not argue with them, but grant them that everything said about God is a fiction. According to their supposition, then, I have arrived at my present state by fate or chance or a continuous chain of events, or by some other means; yet since deception and error seem to be imperfections, the less powerful they make my original cause, the more likely it is that I am so imperfect as to be deceived all the time.  2 ‘... yet I cannot doubt that he does allow this’ (French version).First Meditation 15 raised; and this is not a flippant or ill-considered conclusion, but is based on powerful and well thought-out reasons.  My habitual opinions keep coming back, and, despite my wishes, they capture my belief, which is as it were bound over to them as a result of long occupation and the law of custom. I shall never get out of the habit of confidently assenting to these opinions, so long as I suppose them to be what in fact they are, namely highly probable opinions — opinions which, despite the fact that they are in a sense doubtful, as has just been shown, it is still much more reasonable to believe than to deny. In view of this, I think it will be a good plan to turn my will in com- pletely the opposite direction and deceive myself, by pretending for a time that these former opinions are utterly false and imaginary. I shall do this until the weight of preconceived opinion is counter-balanced and the distorting influence of habit no longer prevents my judgement from perceiving things correctly.  This is because the task now in hand does not involve action but merely the acquisition of knowledge.  I shall think that the sky, the air, the earth, colours, shapes, sounds and all external things are merely the delusions of dreams which he has devised to ensnare my judgement.   But this is an arduous undertaking, and a kind of laziness brings me back to normal life. I am like a prisoner who is enjoying an imaginary freedom while asleep; as he begins to suspect that he is asleep, he dreads being woken up, and goes along with the pleasant illusion as long as he can. In the same way, | happily slide back into my old opinions and dread being shaken out of them, for fear that my peaceful sleep may be followed by hard labour when I wake, and that I shall have to toil not in the light, but amid the inextricable darkness of the problems I have now raised.   22 23\n"
     ]
    }
   ],
   "source": [
    "for x in range(len(sentences)):\n",
    "    if \"++PLEASE_REMOVE_ME++\" in sentences[x]:\n",
    "#       print(\"+++++ we removed sentence:\", sentences[x])\n",
    "        sentences[x] = ''\n",
    "\n",
    "    \n",
    "sentences_string = ' '.join(sentences)\n",
    "\n",
    "print(sentences_string)"
   ]
  },
  {
   "cell_type": "markdown",
   "metadata": {},
   "source": [
    "**5. post-processing (ii):** turn OCR-output into one coherent txt-file"
   ]
  },
  {
   "cell_type": "markdown",
   "metadata": {},
   "source": [
    "*required adjustemts for book-specific notebooks: 1. path file_output_processed*"
   ]
  },
  {
   "cell_type": "code",
   "execution_count": 77,
   "metadata": {},
   "outputs": [],
   "source": [
    "file_output_processed = open(home + \"/data/output/txt/Descartes/Meditations/meditation_one.txt\", \"w\")\n",
    "\n",
    "file_output_processed.write(sentences_string)\n",
    "\n",
    "file_output_processed.close()"
   ]
  },
  {
   "cell_type": "code",
   "execution_count": null,
   "metadata": {},
   "outputs": [],
   "source": []
  }
 ],
 "metadata": {
  "kernelspec": {
   "display_name": "Python 3",
   "language": "python",
   "name": "python3"
  },
  "language_info": {
   "codemirror_mode": {
    "name": "ipython",
    "version": 3
   },
   "file_extension": ".py",
   "mimetype": "text/x-python",
   "name": "python",
   "nbconvert_exporter": "python",
   "pygments_lexer": "ipython3",
   "version": "3.8.6"
  }
 },
 "nbformat": 4,
 "nbformat_minor": 4
}
