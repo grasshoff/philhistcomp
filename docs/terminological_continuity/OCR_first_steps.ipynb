{
 "cells": [
  {
   "cell_type": "code",
   "execution_count": 3,
   "metadata": {},
   "outputs": [
    {
     "name": "stdout",
     "output_type": "stream",
     "text": [
      "Question 3\n",
      "\n",
      "Does God represent creatures?\n",
      "\n",
      "For the negative: If he did, it would follow that if God is cognized, then all\n",
      "creatures are cognized, since if a thing that represents is cognized, then all\n",
      "the things that are represented are cognized\n",
      "\n",
      "For the opposite: God is a cognition of all creatures. Therefore, he represents\n",
      "all of them.\n",
      "\n",
      "REPLY TO THE QUESTION\n",
      "\n",
      "To this question I reply that ‘represent’ is taken in several ways. In one way,\n",
      "itis taken for that by means of which something is cognized. And what rep-\n",
      "resents in this sense is a cognition, and to represent is to be that by means\n",
      "of which something is cognized, in the way that something is cognized by\n",
      "means of a cognition.\n",
      "\n",
      "In a second way, ‘represent’ is taken for that which is such that once it is\n",
      "cognized, something else is cognized, in the way that an image represents\n",
      "that of which it is an image through an act of remembering.\n",
      "\n",
      "In a third way, ‘represent’ is taken for something that causes a cognition,\n",
      "in the way that an object or an intellect causes a cognition.\n",
      "\n",
      "[95, 96, 96, 96, 96, 96, 96, 96, 96, 95, 96, 96, 96, 96, 95, 95, 96, 96, 92, 92, 96, 92, 96, 93, 90, 96, 96, 96, 95, 96, 96, 93, 84, 96, 89, 93, 93, 96, 96, 96, 93, 92, 95, 95, 89, 96, 95, 96, 96, 96, 96, 95, 96, 96, 96, 94, 94, 67, 96, 96, 96, 96, 95, 96, 96, 88, 90, 96, 75, 96, 90, 94, 95, 95, 95, 95, 96, 93, 96, 96, 96, 96, 96, 94, 92, 90, 90, 91, 96, 92, 92, 95, 95, 96, 96, 96, 96, 96, 96, 95, 95, 96, 96, 96, 96, 96, 94, 96, 96, 96, 93, 92, 95, 95, 96, 96, 96, 96, 91, 95, 94, 95, 93, 93, 94, 93, 93, 96, 90, 90, 90, 96, 95, 95, 96, 96, 96, 96, 91, 91, 87, 96, 96, 93, 92, 96, 96, 96, 96, 96, 96, 96, 95, 95, 92, 92, 96, 96, 65, 96, 96, 96, 96, 14, 93, 93, 95, 93, 90, 96, 96, 96, 95, 95, 92, 92, 96, 96, 96, 96, 95, 96, 95, 96, 96, 96, 96, 96, 94]\n"
     ]
    }
   ],
   "source": [
    "from tesserocr import PyTessBaseAPI\n",
    "\n",
    "with PyTessBaseAPI(path=r'C:\\Users\\sdbra\\Documents\\tesserocr-master\\tessdata_best-master/.', lang='eng') as api:\n",
    "    api.SetImageFile('sample_Ockham.jpg')\n",
    "    print(api.GetUTF8Text())\n",
    "    \n",
    "    print(api.AllWordConfidences())"
   ]
  },
  {
   "cell_type": "code",
   "execution_count": null,
   "metadata": {},
   "outputs": [],
   "source": []
  }
 ],
 "metadata": {
  "kernelspec": {
   "display_name": "Python 3",
   "language": "python",
   "name": "python3"
  },
  "language_info": {
   "codemirror_mode": {
    "name": "ipython",
    "version": 3
   },
   "file_extension": ".py",
   "mimetype": "text/x-python",
   "name": "python",
   "nbconvert_exporter": "python",
   "pygments_lexer": "ipython3",
   "version": "3.7.6"
  }
 },
 "nbformat": 4,
 "nbformat_minor": 4
}
