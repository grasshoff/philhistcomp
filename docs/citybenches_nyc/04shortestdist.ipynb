{
 "cells": [
  {
   "cell_type": "markdown",
   "metadata": {},
   "source": [
    "## Loading the results of distance calculation"
   ]
  },
  {
   "cell_type": "code",
   "execution_count": 139,
   "metadata": {},
   "outputs": [],
   "source": [
    "#necessary packages\n",
    "import pickle\n",
    "import pandas as pd\n",
    "import itertools\n",
    "import osmnx as ox\n",
    "import networkx as nx"
   ]
  },
  {
   "cell_type": "markdown",
   "metadata": {},
   "source": [
    "We are loading all packages: "
   ]
  },
  {
   "cell_type": "code",
   "execution_count": 140,
   "metadata": {},
   "outputs": [],
   "source": [
    "with open(\"distance25k.txt\", \"rb\") as fp:   # Unpickling\n",
    "    d25 = pickle.load(fp)"
   ]
  },
  {
   "cell_type": "code",
   "execution_count": 141,
   "metadata": {},
   "outputs": [],
   "source": [
    "with open(\"distance50k.txt\", \"rb\") as fp:   # Unpickling\n",
    "    d50 = pickle.load(fp)"
   ]
  },
  {
   "cell_type": "code",
   "execution_count": 142,
   "metadata": {},
   "outputs": [],
   "source": [
    "with open(\"distance75k.txt\", \"rb\") as fp:   # Unpickling\n",
    "    d75 = pickle.load(fp)"
   ]
  },
  {
   "cell_type": "code",
   "execution_count": 143,
   "metadata": {},
   "outputs": [],
   "source": [
    "with open(\"distance100k.txt\", \"rb\") as fp:   # Unpickling\n",
    "    d100 = pickle.load(fp)"
   ]
  },
  {
   "cell_type": "code",
   "execution_count": 144,
   "metadata": {},
   "outputs": [],
   "source": [
    "with open(\"distance125k.txt\", \"rb\") as fp:   # Unpickling\n",
    "    d125 = pickle.load(fp)"
   ]
  },
  {
   "cell_type": "code",
   "execution_count": 145,
   "metadata": {},
   "outputs": [],
   "source": [
    "with open(\"distance150k.txt\", \"rb\") as fp:   # Unpickling\n",
    "    d150 = pickle.load(fp)"
   ]
  },
  {
   "cell_type": "code",
   "execution_count": 146,
   "metadata": {},
   "outputs": [],
   "source": [
    "with open(\"distance175k.txt\", \"rb\") as fp:   # Unpickling\n",
    "    d175 = pickle.load(fp)"
   ]
  },
  {
   "cell_type": "code",
   "execution_count": 147,
   "metadata": {},
   "outputs": [],
   "source": [
    "with open(\"distance200k.txt\", \"rb\") as fp:   # Unpickling\n",
    "    d200 = pickle.load(fp)"
   ]
  },
  {
   "cell_type": "code",
   "execution_count": 148,
   "metadata": {},
   "outputs": [],
   "source": [
    "with open(\"distance225k.txt\", \"rb\") as fp:   # Unpickling\n",
    "    d225 = pickle.load(fp)"
   ]
  },
  {
   "cell_type": "code",
   "execution_count": 149,
   "metadata": {},
   "outputs": [],
   "source": [
    "with open(\"distance250k.txt\", \"rb\") as fp:   # Unpickling\n",
    "    d250 = pickle.load(fp)"
   ]
  },
  {
   "cell_type": "markdown",
   "metadata": {},
   "source": [
    "Now we concatenate all packages:"
   ]
  },
  {
   "cell_type": "code",
   "execution_count": 150,
   "metadata": {},
   "outputs": [],
   "source": [
    "d = d25 + d50 + d75 + d100 + d125 + d150 + d175 + d200 + d225 + d250"
   ]
  },
  {
   "cell_type": "code",
   "execution_count": 180,
   "metadata": {},
   "outputs": [],
   "source": [
    "#Saving the result\n",
    "with open('distance.txt', 'wb') as fp:\n",
    "    pickle.dump(d, fp)"
   ]
  },
  {
   "cell_type": "markdown",
   "metadata": {},
   "source": [
    "We are filling na-values with extraordinary great numbers (100000):"
   ]
  },
  {
   "cell_type": "code",
   "execution_count": 151,
   "metadata": {},
   "outputs": [],
   "source": [
    "for i in range (len(d)):\n",
    "    if d[i] == \" \" :\n",
    "        d[i] = 100000"
   ]
  },
  {
   "cell_type": "markdown",
   "metadata": {},
   "source": [
    "# Shortest Distance"
   ]
  },
  {
   "cell_type": "code",
   "execution_count": 170,
   "metadata": {},
   "outputs": [
    {
     "name": "stdout",
     "output_type": "stream",
     "text": [
      "The shortest distance is 1m.\n"
     ]
    }
   ],
   "source": [
    "print(f\"The shortest distance is {sorted(list(set(d)))[1]}m.\")"
   ]
  },
  {
   "cell_type": "markdown",
   "metadata": {},
   "source": [
    "Now we are printing the 20 shortest distances:"
   ]
  },
  {
   "cell_type": "code",
   "execution_count": 171,
   "metadata": {},
   "outputs": [],
   "source": [
    "shortest_dist = []\n",
    "i = 0\n",
    "while i <= 20: \n",
    "    i += 1\n",
    "    shortest_dist.append(sorted(list(set(d)))[i])"
   ]
  },
  {
   "cell_type": "code",
   "execution_count": 172,
   "metadata": {},
   "outputs": [
    {
     "name": "stdout",
     "output_type": "stream",
     "text": [
      "[1, 8.436, 9.237, 9.383, 9.439, 9.729, 15.943, 18.302, 18.347, 19.506999999999998, 20.442999999999998, 20.776, 22.659, 23.884999999999998, 24.293, 25.003, 25.489, 25.771, 31.702, 32.042, 38.221]\n"
     ]
    }
   ],
   "source": [
    "print(shortest_dist)"
   ]
  },
  {
   "cell_type": "markdown",
   "metadata": {},
   "source": [
    "# Error Analysis"
   ]
  },
  {
   "cell_type": "markdown",
   "metadata": {},
   "source": [
    "Some Nodes in the distance calculation were not reachable. We try identify these nodes."
   ]
  },
  {
   "cell_type": "code",
   "execution_count": 175,
   "metadata": {},
   "outputs": [],
   "source": [
    "#Failed distance calculations\n",
    "failed_dist = []\n",
    "for i in range (len(d)):\n",
    "    if d[i]==\" \":\n",
    "        failed_dist.append(i)"
   ]
  },
  {
   "cell_type": "code",
   "execution_count": 176,
   "metadata": {},
   "outputs": [],
   "source": [
    "#Failed_dist_tuples = []\n",
    "for i in failed_dist: \n",
    "    failed_dist_tuples.append(permutation_list[i])"
   ]
  },
  {
   "cell_type": "code",
   "execution_count": 177,
   "metadata": {},
   "outputs": [
    {
     "data": {
      "text/plain": [
       "(4143763628, 4207752452)"
      ]
     },
     "execution_count": 177,
     "metadata": {},
     "output_type": "execute_result"
    }
   ],
   "source": [
    "#First entry\n",
    "failed_dist_tuples[1]"
   ]
  },
  {
   "cell_type": "code",
   "execution_count": null,
   "metadata": {},
   "outputs": [],
   "source": []
  }
 ],
 "metadata": {
  "kernelspec": {
   "display_name": "Python 3",
   "language": "python",
   "name": "python3"
  },
  "language_info": {
   "codemirror_mode": {
    "name": "ipython",
    "version": 3
   },
   "file_extension": ".py",
   "mimetype": "text/x-python",
   "name": "python",
   "nbconvert_exporter": "python",
   "pygments_lexer": "ipython3",
   "version": "3.7.6"
  }
 },
 "nbformat": 4,
 "nbformat_minor": 4
}
