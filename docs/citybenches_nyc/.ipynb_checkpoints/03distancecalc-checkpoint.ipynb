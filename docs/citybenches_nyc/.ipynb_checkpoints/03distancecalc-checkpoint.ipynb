{
 "cells": [
  {
   "cell_type": "code",
   "execution_count": 1,
   "metadata": {},
   "outputs": [],
   "source": [
    "#Necessary packages\n",
    "import osmnx as ox\n",
    "import networkx as nx\n",
    "import geopandas \n",
    "import itertools\n",
    "import matplotlib.pyplot as plt\n",
    "import pandas as pd"
   ]
  },
  {
   "cell_type": "code",
   "execution_count": 3,
   "metadata": {},
   "outputs": [],
   "source": [
    "#Choosing a graph for Manhattan\n",
    "G = ox.graph_from_place('Manhattan, New York City', network_type = 'walk', simplify = False)"
   ]
  },
  {
   "cell_type": "code",
   "execution_count": 4,
   "metadata": {},
   "outputs": [],
   "source": [
    "addressm = pd.read_pickle(\"addressm.pkl\")"
   ]
  },
  {
   "cell_type": "code",
   "execution_count": 5,
   "metadata": {},
   "outputs": [],
   "source": [
    "Nodes = addressm['Node']"
   ]
  },
  {
   "cell_type": "code",
   "execution_count": 6,
   "metadata": {},
   "outputs": [],
   "source": [
    "permutations_object = itertools.permutations(Nodes,2)"
   ]
  },
  {
   "cell_type": "code",
   "execution_count": 7,
   "metadata": {},
   "outputs": [],
   "source": [
    "permutation_list = list(permutations_object)"
   ]
  },
  {
   "cell_type": "code",
   "execution_count": 11,
   "metadata": {},
   "outputs": [
    {
     "data": {
      "text/plain": [
       "25000"
      ]
     },
     "execution_count": 11,
     "metadata": {},
     "output_type": "execute_result"
    }
   ],
   "source": [
    "len(permutation_list[:25000])"
   ]
  },
  {
   "cell_type": "code",
   "execution_count": null,
   "metadata": {},
   "outputs": [],
   "source": [
    "distance25k = []\n",
    "counter = 0\n",
    "for i,j in permutation_list[:25000]:\n",
    "    try:\n",
    "        d = nx.shortest_path_length(G, i, j, weight = 'length')\n",
    "        counter += 1\n",
    "        print(counter/25000)\n",
    "        distance.append(d)\n",
    "    except:\n",
    "        distance.append(\" \")\n",
    "        pass"
   ]
  },
  {
   "cell_type": "code",
   "execution_count": null,
   "metadata": {},
   "outputs": [],
   "source": [
    "#Saving the result\n",
    "import pickle\n",
    "with open('distance25k.txt', 'wb') as fp:\n",
    "    pickle.dump(distance, fp)"
   ]
  },
  {
   "cell_type": "code",
   "execution_count": null,
   "metadata": {},
   "outputs": [],
   "source": [
    "distance50k = []\n",
    "counter = 0\n",
    "for i,j in permutation_list[25000:50000]:\n",
    "    try:\n",
    "        d = nx.shortest_path_length(G, i, j, weight = 'length')\n",
    "        counter += 1\n",
    "        print(counter/25000)\n",
    "        distance.append(d)\n",
    "    except:\n",
    "        distance.append(\" \")\n",
    "        pass"
   ]
  },
  {
   "cell_type": "code",
   "execution_count": null,
   "metadata": {},
   "outputs": [],
   "source": [
    "#Saving the result\n",
    "pickle\n",
    "with open('distance50k.txt', 'wb') as fp:\n",
    "    pickle.dump(distance, fp)"
   ]
  },
  {
   "cell_type": "code",
   "execution_count": null,
   "metadata": {},
   "outputs": [],
   "source": [
    "distance75k = []\n",
    "counter = 0\n",
    "for i,j in permutation_list[50000:75000]:\n",
    "    try:\n",
    "        d = nx.shortest_path_length(G, i, j, weight = 'length')\n",
    "        counter += 1\n",
    "        print(counter/25000)\n",
    "        distance.append(d)\n",
    "    except:\n",
    "        distance.append(\" \")\n",
    "        pass"
   ]
  },
  {
   "cell_type": "code",
   "execution_count": null,
   "metadata": {},
   "outputs": [],
   "source": [
    "#Saving the result\n",
    "with open('distance75k.txt', 'wb') as fp:\n",
    "    pickle.dump(distance, fp)"
   ]
  },
  {
   "cell_type": "code",
   "execution_count": null,
   "metadata": {},
   "outputs": [],
   "source": [
    "distance100k = []\n",
    "counter = 0\n",
    "for i,j in permutation_list[75000:10000]:\n",
    "    try:\n",
    "        d = nx.shortest_path_length(G, i, j, weight = 'length')\n",
    "        counter += 1\n",
    "        print(counter/25000)\n",
    "        distance.append(d)\n",
    "    except:\n",
    "        distance.append(\" \")\n",
    "        pass"
   ]
  },
  {
   "cell_type": "code",
   "execution_count": null,
   "metadata": {},
   "outputs": [],
   "source": [
    "#Saving the result\n",
    "with open('distance100k.txt', 'wb') as fp:\n",
    "    pickle.dump(distance, fp)"
   ]
  },
  {
   "cell_type": "code",
   "execution_count": null,
   "metadata": {},
   "outputs": [],
   "source": [
    "distance125k = []\n",
    "counter = 0\n",
    "for i,j in permutation_list[100000:125000]:\n",
    "    try:\n",
    "        d = nx.shortest_path_length(G, i, j, weight = 'length')\n",
    "        counter += 1\n",
    "        print(counter/25000)\n",
    "        distance.append(d)\n",
    "    except:\n",
    "        distance.append(\" \")\n",
    "        pass"
   ]
  },
  {
   "cell_type": "code",
   "execution_count": null,
   "metadata": {},
   "outputs": [],
   "source": [
    "#Saving the result\n",
    "pickle\n",
    "with open('distance125k.txt', 'wb') as fp:\n",
    "    pickle.dump(distance, fp)"
   ]
  },
  {
   "cell_type": "code",
   "execution_count": null,
   "metadata": {},
   "outputs": [],
   "source": [
    "distance150k = []\n",
    "counter = 0\n",
    "for i,j in permutation_list[125000:150000]:\n",
    "    try:\n",
    "        d = nx.shortest_path_length(G, i, j, weight = 'length')\n",
    "        counter += 1\n",
    "        print(counter/25000)\n",
    "        distance.append(d)\n",
    "    except:\n",
    "        distance.append(\" \")\n",
    "        pass"
   ]
  },
  {
   "cell_type": "code",
   "execution_count": null,
   "metadata": {},
   "outputs": [],
   "source": [
    "#Saving the result\n",
    "with open('distance150k.txt', 'wb') as fp:\n",
    "    pickle.dump(distance, fp)"
   ]
  },
  {
   "cell_type": "code",
   "execution_count": null,
   "metadata": {},
   "outputs": [],
   "source": [
    "distance175k = []\n",
    "counter = 0\n",
    "for i,j in permutation_list[150000:175000]:\n",
    "    try:\n",
    "        d = nx.shortest_path_length(G, i, j, weight = 'length')\n",
    "        counter += 1\n",
    "        print(counter/25000)\n",
    "        distance.append(d)\n",
    "    except:\n",
    "        distance.append(\" \")\n",
    "        pass"
   ]
  },
  {
   "cell_type": "code",
   "execution_count": null,
   "metadata": {},
   "outputs": [],
   "source": [
    "#Saving the result\n",
    "with open('distance175k.txt', 'wb') as fp:\n",
    "    pickle.dump(distance, fp)"
   ]
  },
  {
   "cell_type": "code",
   "execution_count": null,
   "metadata": {},
   "outputs": [],
   "source": [
    "distance200k = []\n",
    "counter = 0\n",
    "for i,j in permutation_list[175000:200000]:\n",
    "    try:\n",
    "        d = nx.shortest_path_length(G, i, j, weight = 'length')\n",
    "        counter += 1\n",
    "        print(counter/25000)\n",
    "        distance.append(d)\n",
    "    except:\n",
    "        distance.append(\" \")\n",
    "        pass"
   ]
  },
  {
   "cell_type": "code",
   "execution_count": null,
   "metadata": {},
   "outputs": [],
   "source": [
    "#Saving the result\n",
    "with open('distance200k.txt', 'wb') as fp:\n",
    "    pickle.dump(distance, fp)"
   ]
  },
  {
   "cell_type": "code",
   "execution_count": null,
   "metadata": {},
   "outputs": [],
   "source": [
    "distance225k = []\n",
    "counter = 0\n",
    "for i,j in permutation_list[200000:225000]:\n",
    "    try:\n",
    "        d = nx.shortest_path_length(G, i, j, weight = 'length')\n",
    "        counter += 1\n",
    "        print(counter/25000)\n",
    "        distance.append(d)\n",
    "    except:\n",
    "        distance.append(\" \")\n",
    "        pass"
   ]
  },
  {
   "cell_type": "code",
   "execution_count": null,
   "metadata": {},
   "outputs": [],
   "source": [
    "#Saving the result\n",
    "with open('distance225k.txt', 'wb') as fp:\n",
    "    pickle.dump(distance, fp)"
   ]
  },
  {
   "cell_type": "code",
   "execution_count": null,
   "metadata": {},
   "outputs": [],
   "source": [
    "distance225k = []\n",
    "counter = 0\n",
    "for i,j in permutation_list[225000:]:\n",
    "    try:\n",
    "        d = nx.shortest_path_length(G, i, j, weight = 'length')\n",
    "        counter += 1\n",
    "        print(counter/25000)\n",
    "        distance.append(d)\n",
    "    except:\n",
    "        distance.append(\" \")\n",
    "        pass"
   ]
  },
  {
   "cell_type": "code",
   "execution_count": null,
   "metadata": {},
   "outputs": [],
   "source": [
    "#Saving the result\n",
    "with open('distance250k.txt', 'wb') as fp:\n",
    "    pickle.dump(distance, fp)"
   ]
  },
  {
   "cell_type": "code",
   "execution_count": null,
   "metadata": {},
   "outputs": [],
   "source": []
  },
  {
   "cell_type": "code",
   "execution_count": null,
   "metadata": {},
   "outputs": [],
   "source": []
  },
  {
   "cell_type": "code",
   "execution_count": null,
   "metadata": {},
   "outputs": [],
   "source": []
  },
  {
   "cell_type": "code",
   "execution_count": null,
   "metadata": {},
   "outputs": [],
   "source": []
  }
 ],
 "metadata": {
  "kernelspec": {
   "display_name": "Python 3",
   "language": "python",
   "name": "python3"
  },
  "language_info": {
   "codemirror_mode": {
    "name": "ipython",
    "version": 3
   },
   "file_extension": ".py",
   "mimetype": "text/x-python",
   "name": "python",
   "nbconvert_exporter": "python",
   "pygments_lexer": "ipython3",
   "version": "3.7.6"
  }
 },
 "nbformat": 4,
 "nbformat_minor": 4
}
