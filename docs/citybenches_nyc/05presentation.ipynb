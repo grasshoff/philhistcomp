{
 "cells": [
  {
   "cell_type": "markdown",
   "metadata": {
    "slideshow": {
     "slide_type": "slide"
    }
   },
   "source": [
    "# City Benches in Manhattan\n",
    "\n",
    "## What is the shortest distance between City Benches in Manhattan?\n",
    "\n",
    "### Noah Nasarek, Manuel Dedio and Daria Zakharova"
   ]
  },
  {
   "cell_type": "code",
   "execution_count": 26,
   "metadata": {
    "slideshow": {
     "slide_type": "slide"
    }
   },
   "outputs": [],
   "source": [
    "#Necessary packages\n",
    "import pandas as pd\n",
    "import osmnx as ox\n",
    "import networkx as nx\n",
    "import pickle\n",
    "import geopandas \n",
    "import matplotlib.pyplot as plt"
   ]
  },
  {
   "cell_type": "markdown",
   "metadata": {
    "slideshow": {
     "slide_type": "slide"
    }
   },
   "source": [
    "\n",
    "## Data Import"
   ]
  },
  {
   "cell_type": "markdown",
   "metadata": {
    "slideshow": {
     "slide_type": "slide"
    }
   },
   "source": [
    "We import our raw data from https://www1.nyc.gov/html/dot/downloads/pdf/citybench-locations.pdf and convert it into an .xlsx using https://smallpdf.com/de/pdf-in-excel "
   ]
  },
  {
   "cell_type": "code",
   "execution_count": 27,
   "metadata": {
    "slideshow": {
     "slide_type": "slide"
    }
   },
   "outputs": [
    {
     "data": {
      "text/html": [
       "<div>\n",
       "<style scoped>\n",
       "    .dataframe tbody tr th:only-of-type {\n",
       "        vertical-align: middle;\n",
       "    }\n",
       "\n",
       "    .dataframe tbody tr th {\n",
       "        vertical-align: top;\n",
       "    }\n",
       "\n",
       "    .dataframe thead th {\n",
       "        text-align: right;\n",
       "    }\n",
       "</style>\n",
       "<table border=\"1\" class=\"dataframe\">\n",
       "  <thead>\n",
       "    <tr style=\"text-align: right;\">\n",
       "      <th></th>\n",
       "      <th>Bench\\nCount</th>\n",
       "      <th>Address</th>\n",
       "      <th>On Street</th>\n",
       "      <th>Cross Streets</th>\n",
       "      <th>Borough</th>\n",
       "      <th>Bench\\nType</th>\n",
       "      <th>Installation\\nDate</th>\n",
       "    </tr>\n",
       "  </thead>\n",
       "  <tbody>\n",
       "    <tr>\n",
       "      <th>0</th>\n",
       "      <td>1</td>\n",
       "      <td>540 West 145th Street</td>\n",
       "      <td>West 145th Street</td>\n",
       "      <td>Broadway and Amsterdam Avenue</td>\n",
       "      <td>Manhattan</td>\n",
       "      <td>backless</td>\n",
       "      <td>2012-05-17</td>\n",
       "    </tr>\n",
       "    <tr>\n",
       "      <th>1</th>\n",
       "      <td>2</td>\n",
       "      <td>110 East 149th Street</td>\n",
       "      <td>West 149th Street</td>\n",
       "      <td>Gerard Avenue River Avenue</td>\n",
       "      <td>Bronx</td>\n",
       "      <td>backless</td>\n",
       "      <td>2012-05-16</td>\n",
       "    </tr>\n",
       "    <tr>\n",
       "      <th>2</th>\n",
       "      <td>3</td>\n",
       "      <td>125 East 149th Street</td>\n",
       "      <td>East 149th Street</td>\n",
       "      <td>Gerard Avenue &amp; Walton Avenue</td>\n",
       "      <td>Bronx</td>\n",
       "      <td>backless</td>\n",
       "      <td>2012-05-16</td>\n",
       "    </tr>\n",
       "    <tr>\n",
       "      <th>3</th>\n",
       "      <td>4</td>\n",
       "      <td>360 East 149th Street</td>\n",
       "      <td>East 149th Street</td>\n",
       "      <td>Courtlandt and Melrose Avenues</td>\n",
       "      <td>Bronx</td>\n",
       "      <td>backless</td>\n",
       "      <td>2012-05-16</td>\n",
       "    </tr>\n",
       "    <tr>\n",
       "      <th>4</th>\n",
       "      <td>5</td>\n",
       "      <td>414 &amp; 416 East 149th Street</td>\n",
       "      <td>East 149th Street</td>\n",
       "      <td>Bergen and Third Avenues</td>\n",
       "      <td>Bronx</td>\n",
       "      <td>backless</td>\n",
       "      <td>2012-05-16</td>\n",
       "    </tr>\n",
       "    <tr>\n",
       "      <th>5</th>\n",
       "      <td>6</td>\n",
       "      <td>700 Southern Boulevard</td>\n",
       "      <td>Southern Boulevard</td>\n",
       "      <td>Leggett Avenue and East 156th Street</td>\n",
       "      <td>Bronx</td>\n",
       "      <td>backless</td>\n",
       "      <td>2012-05-16</td>\n",
       "    </tr>\n",
       "    <tr>\n",
       "      <th>6</th>\n",
       "      <td>7</td>\n",
       "      <td>302 Broadway</td>\n",
       "      <td>Broadway</td>\n",
       "      <td>Marcy Avenue and Rodney Street</td>\n",
       "      <td>Brooklyn</td>\n",
       "      <td>backless</td>\n",
       "      <td>2012-04-14</td>\n",
       "    </tr>\n",
       "    <tr>\n",
       "      <th>7</th>\n",
       "      <td>8</td>\n",
       "      <td>825 Broadway &amp; 829 Broadway</td>\n",
       "      <td>Broadway</td>\n",
       "      <td>Park Street and Ellery Street</td>\n",
       "      <td>Brooklyn</td>\n",
       "      <td>backless</td>\n",
       "      <td>2012-04-14</td>\n",
       "    </tr>\n",
       "    <tr>\n",
       "      <th>8</th>\n",
       "      <td>9</td>\n",
       "      <td>893 Broadway</td>\n",
       "      <td>Broadway</td>\n",
       "      <td>Arion Place and Belvedere Street</td>\n",
       "      <td>Brooklyn</td>\n",
       "      <td>backless</td>\n",
       "      <td>2012-04-14</td>\n",
       "    </tr>\n",
       "    <tr>\n",
       "      <th>9</th>\n",
       "      <td>10</td>\n",
       "      <td>57 Malcolm X Boulevard</td>\n",
       "      <td>Malcolm X Boulevard</td>\n",
       "      <td>Lafayette Avenue &amp; Van Buren Street</td>\n",
       "      <td>Brooklyn</td>\n",
       "      <td>backless</td>\n",
       "      <td>2013-12-13</td>\n",
       "    </tr>\n",
       "    <tr>\n",
       "      <th>10</th>\n",
       "      <td>11</td>\n",
       "      <td>96 Malcolm X Boulevard</td>\n",
       "      <td>Malcolm X Boulevard</td>\n",
       "      <td>Greene and Lexington Avenues</td>\n",
       "      <td>Brooklyn</td>\n",
       "      <td>backless</td>\n",
       "      <td>2012-05-04</td>\n",
       "    </tr>\n",
       "    <tr>\n",
       "      <th>11</th>\n",
       "      <td>12</td>\n",
       "      <td>190 Malcolm X Boulevard</td>\n",
       "      <td>Malcolm X Boulevard</td>\n",
       "      <td>Putnam Avenue and Madison Street</td>\n",
       "      <td>Brooklyn</td>\n",
       "      <td>backless</td>\n",
       "      <td>2012-04-30</td>\n",
       "    </tr>\n",
       "    <tr>\n",
       "      <th>12</th>\n",
       "      <td>13</td>\n",
       "      <td>191 &amp; 193 Malcolm X Boulevard</td>\n",
       "      <td>Malcolm X Boulevard</td>\n",
       "      <td>Putnam Avenue and Madison Street</td>\n",
       "      <td>Brooklyn</td>\n",
       "      <td>backless</td>\n",
       "      <td>2012-04-30</td>\n",
       "    </tr>\n",
       "    <tr>\n",
       "      <th>13</th>\n",
       "      <td>14</td>\n",
       "      <td>266 Malcolm X Boulevard</td>\n",
       "      <td>Malcolm X Boulevard</td>\n",
       "      <td>Halsey Street and Macon Street</td>\n",
       "      <td>Brooklyn</td>\n",
       "      <td>backless</td>\n",
       "      <td>2012-04-30</td>\n",
       "    </tr>\n",
       "    <tr>\n",
       "      <th>14</th>\n",
       "      <td>15</td>\n",
       "      <td>500 Macon Street</td>\n",
       "      <td>Malcolm X Boulevard</td>\n",
       "      <td>McDonough Street and Macon Street</td>\n",
       "      <td>Brooklyn</td>\n",
       "      <td>backless</td>\n",
       "      <td>2012-04-30</td>\n",
       "    </tr>\n",
       "    <tr>\n",
       "      <th>15</th>\n",
       "      <td>16</td>\n",
       "      <td>307 Malcolm X Boulevard</td>\n",
       "      <td>Malcolm X Boulevard</td>\n",
       "      <td>Bainbridge and Decatur Streets</td>\n",
       "      <td>Brooklyn</td>\n",
       "      <td>backless</td>\n",
       "      <td>2012-04-21</td>\n",
       "    </tr>\n",
       "    <tr>\n",
       "      <th>16</th>\n",
       "      <td>17</td>\n",
       "      <td>1700 Fulton Street</td>\n",
       "      <td>Utica Avenue</td>\n",
       "      <td>Atlantic Avenue and Fulton Street</td>\n",
       "      <td>Brooklyn</td>\n",
       "      <td>backless 2</td>\n",
       "      <td>2012-04-21</td>\n",
       "    </tr>\n",
       "    <tr>\n",
       "      <th>17</th>\n",
       "      <td>18</td>\n",
       "      <td>155 Utica Avenue</td>\n",
       "      <td>Utica Avenue</td>\n",
       "      <td>Prospect Place and St. Marks Avenue</td>\n",
       "      <td>Brooklyn</td>\n",
       "      <td>backless</td>\n",
       "      <td>2012-04-21</td>\n",
       "    </tr>\n",
       "    <tr>\n",
       "      <th>18</th>\n",
       "      <td>19</td>\n",
       "      <td>356 Utica Avenue</td>\n",
       "      <td>Utica Avenue</td>\n",
       "      <td>Carroll Street and Crown Streets</td>\n",
       "      <td>Brooklyn</td>\n",
       "      <td>backless</td>\n",
       "      <td>2012-04-21</td>\n",
       "    </tr>\n",
       "    <tr>\n",
       "      <th>19</th>\n",
       "      <td>20</td>\n",
       "      <td>341 Utica Avenue</td>\n",
       "      <td>Utica Avenue</td>\n",
       "      <td>Carroll Street and President Streets</td>\n",
       "      <td>Brooklyn</td>\n",
       "      <td>backless</td>\n",
       "      <td>2012-04-21</td>\n",
       "    </tr>\n",
       "  </tbody>\n",
       "</table>\n",
       "</div>"
      ],
      "text/plain": [
       "   Bench\\nCount                        Address            On Street  \\\n",
       "0             1          540 West 145th Street    West 145th Street   \n",
       "1             2          110 East 149th Street    West 149th Street   \n",
       "2             3          125 East 149th Street    East 149th Street   \n",
       "3             4          360 East 149th Street    East 149th Street   \n",
       "4             5    414 & 416 East 149th Street    East 149th Street   \n",
       "5             6         700 Southern Boulevard   Southern Boulevard   \n",
       "6             7                   302 Broadway             Broadway   \n",
       "7             8    825 Broadway & 829 Broadway             Broadway   \n",
       "8             9                   893 Broadway             Broadway   \n",
       "9            10         57 Malcolm X Boulevard  Malcolm X Boulevard   \n",
       "10           11         96 Malcolm X Boulevard  Malcolm X Boulevard   \n",
       "11           12        190 Malcolm X Boulevard  Malcolm X Boulevard   \n",
       "12           13  191 & 193 Malcolm X Boulevard  Malcolm X Boulevard   \n",
       "13           14        266 Malcolm X Boulevard  Malcolm X Boulevard   \n",
       "14           15               500 Macon Street  Malcolm X Boulevard   \n",
       "15           16        307 Malcolm X Boulevard  Malcolm X Boulevard   \n",
       "16           17             1700 Fulton Street         Utica Avenue   \n",
       "17           18               155 Utica Avenue         Utica Avenue   \n",
       "18           19               356 Utica Avenue         Utica Avenue   \n",
       "19           20               341 Utica Avenue         Utica Avenue   \n",
       "\n",
       "                           Cross Streets    Borough Bench\\nType  \\\n",
       "0          Broadway and Amsterdam Avenue  Manhattan    backless   \n",
       "1             Gerard Avenue River Avenue      Bronx    backless   \n",
       "2          Gerard Avenue & Walton Avenue      Bronx    backless   \n",
       "3         Courtlandt and Melrose Avenues      Bronx    backless   \n",
       "4               Bergen and Third Avenues      Bronx    backless   \n",
       "5   Leggett Avenue and East 156th Street      Bronx    backless   \n",
       "6         Marcy Avenue and Rodney Street   Brooklyn    backless   \n",
       "7          Park Street and Ellery Street   Brooklyn    backless   \n",
       "8       Arion Place and Belvedere Street   Brooklyn    backless   \n",
       "9    Lafayette Avenue & Van Buren Street   Brooklyn    backless   \n",
       "10          Greene and Lexington Avenues   Brooklyn    backless   \n",
       "11      Putnam Avenue and Madison Street   Brooklyn    backless   \n",
       "12      Putnam Avenue and Madison Street   Brooklyn    backless   \n",
       "13        Halsey Street and Macon Street   Brooklyn    backless   \n",
       "14     McDonough Street and Macon Street   Brooklyn    backless   \n",
       "15        Bainbridge and Decatur Streets   Brooklyn    backless   \n",
       "16     Atlantic Avenue and Fulton Street   Brooklyn  backless 2   \n",
       "17   Prospect Place and St. Marks Avenue   Brooklyn    backless   \n",
       "18      Carroll Street and Crown Streets   Brooklyn    backless   \n",
       "19  Carroll Street and President Streets   Brooklyn    backless   \n",
       "\n",
       "   Installation\\nDate  \n",
       "0          2012-05-17  \n",
       "1          2012-05-16  \n",
       "2          2012-05-16  \n",
       "3          2012-05-16  \n",
       "4          2012-05-16  \n",
       "5          2012-05-16  \n",
       "6          2012-04-14  \n",
       "7          2012-04-14  \n",
       "8          2012-04-14  \n",
       "9          2013-12-13  \n",
       "10         2012-05-04  \n",
       "11         2012-04-30  \n",
       "12         2012-04-30  \n",
       "13         2012-04-30  \n",
       "14         2012-04-30  \n",
       "15         2012-04-21  \n",
       "16         2012-04-21  \n",
       "17         2012-04-21  \n",
       "18         2012-04-21  \n",
       "19         2012-04-21  "
      ]
     },
     "execution_count": 27,
     "metadata": {},
     "output_type": "execute_result"
    }
   ],
   "source": [
    "df = pd.read_excel('citybenchlocationsv03.xlsx')\n",
    "df.head(20)"
   ]
  },
  {
   "cell_type": "markdown",
   "metadata": {
    "slideshow": {
     "slide_type": "slide"
    }
   },
   "source": [
    "## Data Wrangling"
   ]
  },
  {
   "cell_type": "markdown",
   "metadata": {
    "slideshow": {
     "slide_type": "slide"
    }
   },
   "source": [
    "The data after several rounds of Data Wrangling\n"
   ]
  },
  {
   "cell_type": "code",
   "execution_count": 33,
   "metadata": {
    "slideshow": {
     "slide_type": "slide"
    }
   },
   "outputs": [
    {
     "data": {
      "text/html": [
       "<div>\n",
       "<style scoped>\n",
       "    .dataframe tbody tr th:only-of-type {\n",
       "        vertical-align: middle;\n",
       "    }\n",
       "\n",
       "    .dataframe tbody tr th {\n",
       "        vertical-align: top;\n",
       "    }\n",
       "\n",
       "    .dataframe thead th {\n",
       "        text-align: right;\n",
       "    }\n",
       "</style>\n",
       "<table border=\"1\" class=\"dataframe\">\n",
       "  <thead>\n",
       "    <tr style=\"text-align: right;\">\n",
       "      <th></th>\n",
       "      <th>Address</th>\n",
       "      <th>Borough</th>\n",
       "      <th>Geocode</th>\n",
       "      <th>Node</th>\n",
       "    </tr>\n",
       "  </thead>\n",
       "  <tbody>\n",
       "    <tr>\n",
       "      <th>0</th>\n",
       "      <td>540 West 145th Street, New York City</td>\n",
       "      <td>Manhattan</td>\n",
       "      <td>(40.8260052, -73.949854)</td>\n",
       "      <td>561035361</td>\n",
       "    </tr>\n",
       "    <tr>\n",
       "      <th>56</th>\n",
       "      <td>145 &amp; 147 Madison Ave, New York City</td>\n",
       "      <td>Manhattan</td>\n",
       "      <td>(40.74619633333333, -73.983977)</td>\n",
       "      <td>3252586222</td>\n",
       "    </tr>\n",
       "    <tr>\n",
       "      <th>57</th>\n",
       "      <td>165 Madison Avenue, New York City</td>\n",
       "      <td>Manhattan</td>\n",
       "      <td>(40.746812750000004, -73.98327882871746)</td>\n",
       "      <td>42445903</td>\n",
       "    </tr>\n",
       "    <tr>\n",
       "      <th>58</th>\n",
       "      <td>191 Madison Avenue, New York City</td>\n",
       "      <td>Manhattan</td>\n",
       "      <td>(40.74802628571428, -73.98264385714285)</td>\n",
       "      <td>4960503208</td>\n",
       "    </tr>\n",
       "    <tr>\n",
       "      <th>59</th>\n",
       "      <td>199 Madison Avenue, New York City</td>\n",
       "      <td>Manhattan</td>\n",
       "      <td>(40.7482878, -73.9824103)</td>\n",
       "      <td>4960503208</td>\n",
       "    </tr>\n",
       "    <tr>\n",
       "      <th>60</th>\n",
       "      <td>227 Madison Avenue, New York City</td>\n",
       "      <td>Manhattan</td>\n",
       "      <td>(40.7598067, -73.9741741)</td>\n",
       "      <td>3977886242</td>\n",
       "    </tr>\n",
       "    <tr>\n",
       "      <th>88</th>\n",
       "      <td>175 East 96th Street, New York City</td>\n",
       "      <td>Manhattan</td>\n",
       "      <td>(40.785616, -73.9498645)</td>\n",
       "      <td>7325349531</td>\n",
       "    </tr>\n",
       "    <tr>\n",
       "      <th>91</th>\n",
       "      <td>201 West 106th Street, New York City</td>\n",
       "      <td>Manhattan</td>\n",
       "      <td>(40.8006923, -73.9659254)</td>\n",
       "      <td>4205830395</td>\n",
       "    </tr>\n",
       "    <tr>\n",
       "      <th>94</th>\n",
       "      <td>1020 Third Avenue, New York City</td>\n",
       "      <td>Manhattan</td>\n",
       "      <td>(40.812824, -73.923829)</td>\n",
       "      <td>7477281986</td>\n",
       "    </tr>\n",
       "    <tr>\n",
       "      <th>99</th>\n",
       "      <td>209 West 96th Street, New York City</td>\n",
       "      <td>Manhattan</td>\n",
       "      <td>(40.7946572, -73.97102558044648)</td>\n",
       "      <td>4205805396</td>\n",
       "    </tr>\n",
       "    <tr>\n",
       "      <th>100</th>\n",
       "      <td>411 Grand Street, New York City</td>\n",
       "      <td>Manhattan</td>\n",
       "      <td>(40.711920199999994, -73.95384408072891)</td>\n",
       "      <td>3630219671</td>\n",
       "    </tr>\n",
       "    <tr>\n",
       "      <th>101</th>\n",
       "      <td>411 Grand Street, New York City</td>\n",
       "      <td>Manhattan</td>\n",
       "      <td>(40.711920199999994, -73.95384408072891)</td>\n",
       "      <td>3630219671</td>\n",
       "    </tr>\n",
       "    <tr>\n",
       "      <th>102</th>\n",
       "      <td>109 West Houston Street, New York City</td>\n",
       "      <td>Manhattan</td>\n",
       "      <td>(40.72743495, -74.00073330000001)</td>\n",
       "      <td>5829880525</td>\n",
       "    </tr>\n",
       "    <tr>\n",
       "      <th>106</th>\n",
       "      <td>163 West 97th Street, New York City</td>\n",
       "      <td>Manhattan</td>\n",
       "      <td>(40.7945587, -73.9687567)</td>\n",
       "      <td>5669156315</td>\n",
       "    </tr>\n",
       "    <tr>\n",
       "      <th>107</th>\n",
       "      <td>163 West 97th Street, New York City</td>\n",
       "      <td>Manhattan</td>\n",
       "      <td>(40.7945587, -73.9687567)</td>\n",
       "      <td>5669156315</td>\n",
       "    </tr>\n",
       "    <tr>\n",
       "      <th>115</th>\n",
       "      <td>90 Bennett Avenue, New York City</td>\n",
       "      <td>Manhattan</td>\n",
       "      <td>(40.8531163, -73.9355226)</td>\n",
       "      <td>42445689</td>\n",
       "    </tr>\n",
       "    <tr>\n",
       "      <th>118</th>\n",
       "      <td>4961 Broadway, New York City</td>\n",
       "      <td>Manhattan</td>\n",
       "      <td>(40.8681188, -73.9204207)</td>\n",
       "      <td>5071822867</td>\n",
       "    </tr>\n",
       "    <tr>\n",
       "      <th>122</th>\n",
       "      <td>111 West 71st Street, New York City</td>\n",
       "      <td>Manhattan</td>\n",
       "      <td>(40.77706815, -73.97959553350846)</td>\n",
       "      <td>42437384</td>\n",
       "    </tr>\n",
       "    <tr>\n",
       "      <th>123</th>\n",
       "      <td>111 West 71st Street, New York City</td>\n",
       "      <td>Manhattan</td>\n",
       "      <td>(40.77706815, -73.97959553350846)</td>\n",
       "      <td>42437384</td>\n",
       "    </tr>\n",
       "    <tr>\n",
       "      <th>135</th>\n",
       "      <td>437 Lenox Avenue, New York City</td>\n",
       "      <td>Manhattan</td>\n",
       "      <td>(40.812104142857144, -73.94244528571429)</td>\n",
       "      <td>3099326124</td>\n",
       "    </tr>\n",
       "  </tbody>\n",
       "</table>\n",
       "</div>"
      ],
      "text/plain": [
       "                                    Address    Borough  \\\n",
       "0      540 West 145th Street, New York City  Manhattan   \n",
       "56     145 & 147 Madison Ave, New York City  Manhattan   \n",
       "57        165 Madison Avenue, New York City  Manhattan   \n",
       "58        191 Madison Avenue, New York City  Manhattan   \n",
       "59        199 Madison Avenue, New York City  Manhattan   \n",
       "60        227 Madison Avenue, New York City  Manhattan   \n",
       "88      175 East 96th Street, New York City  Manhattan   \n",
       "91     201 West 106th Street, New York City  Manhattan   \n",
       "94         1020 Third Avenue, New York City  Manhattan   \n",
       "99      209 West 96th Street, New York City  Manhattan   \n",
       "100         411 Grand Street, New York City  Manhattan   \n",
       "101         411 Grand Street, New York City  Manhattan   \n",
       "102  109 West Houston Street, New York City  Manhattan   \n",
       "106     163 West 97th Street, New York City  Manhattan   \n",
       "107     163 West 97th Street, New York City  Manhattan   \n",
       "115        90 Bennett Avenue, New York City  Manhattan   \n",
       "118            4961 Broadway, New York City  Manhattan   \n",
       "122     111 West 71st Street, New York City  Manhattan   \n",
       "123     111 West 71st Street, New York City  Manhattan   \n",
       "135         437 Lenox Avenue, New York City  Manhattan   \n",
       "\n",
       "                                      Geocode        Node  \n",
       "0                    (40.8260052, -73.949854)   561035361  \n",
       "56            (40.74619633333333, -73.983977)  3252586222  \n",
       "57   (40.746812750000004, -73.98327882871746)    42445903  \n",
       "58    (40.74802628571428, -73.98264385714285)  4960503208  \n",
       "59                  (40.7482878, -73.9824103)  4960503208  \n",
       "60                  (40.7598067, -73.9741741)  3977886242  \n",
       "88                   (40.785616, -73.9498645)  7325349531  \n",
       "91                  (40.8006923, -73.9659254)  4205830395  \n",
       "94                    (40.812824, -73.923829)  7477281986  \n",
       "99           (40.7946572, -73.97102558044648)  4205805396  \n",
       "100  (40.711920199999994, -73.95384408072891)  3630219671  \n",
       "101  (40.711920199999994, -73.95384408072891)  3630219671  \n",
       "102         (40.72743495, -74.00073330000001)  5829880525  \n",
       "106                 (40.7945587, -73.9687567)  5669156315  \n",
       "107                 (40.7945587, -73.9687567)  5669156315  \n",
       "115                 (40.8531163, -73.9355226)    42445689  \n",
       "118                 (40.8681188, -73.9204207)  5071822867  \n",
       "122         (40.77706815, -73.97959553350846)    42437384  \n",
       "123         (40.77706815, -73.97959553350846)    42437384  \n",
       "135  (40.812104142857144, -73.94244528571429)  3099326124  "
      ]
     },
     "execution_count": 33,
     "metadata": {},
     "output_type": "execute_result"
    }
   ],
   "source": [
    "addressm = pd.read_pickle(\"addressm.pkl\")\n",
    "addressm.head(20)"
   ]
  },
  {
   "cell_type": "markdown",
   "metadata": {
    "slideshow": {
     "slide_type": "slide"
    }
   },
   "source": [
    "## Distance Calculation"
   ]
  },
  {
   "cell_type": "markdown",
   "metadata": {
    "slideshow": {
     "slide_type": "slide"
    }
   },
   "source": [
    "We calculate the distance for every bench pair"
   ]
  },
  {
   "cell_type": "code",
   "execution_count": 34,
   "metadata": {
    "slideshow": {
     "slide_type": "slide"
    }
   },
   "outputs": [
    {
     "name": "stdout",
     "output_type": "stream",
     "text": [
      "The first 100 entries of the list: \n",
      " \n",
      " [9994.472000000002, 9925.326000000001, 9773.585000000001, 9773.585000000001, 8551.925999999994, 5455.073999999999, 3323.094000000002, 2902.405000000001, 4030.3600000000024, 14850.394000000015, 14850.394000000015, 12242.41100000001, 4066.8970000000027, 4066.8970000000027, 3402.928, 5466.083, 6296.718, 6296.718, 2258.3079999999995, 2227.524, 3327.741, 12235.783000000001, 12235.783000000001, 12328.36, 12328.36, 12721.303000000007, 12721.303000000007, 12305.416000000005, 12242.918000000009, 12242.918000000009, 12223.967000000004, 12223.967000000004, 14771.25600000001, 14750.004000000008, 14672.788000000002, 14559.203000000005, 14460.520000000013, 14479.474000000011, 14580.403000000013, 14580.403000000013, 14477.889000000012, 14384.918000000012, 14397.845000000014, 14395.584000000013, 7352.452000000001, 6404.790999999997, 13947.251000000002, 10119.563999999997, 3856.1220000000003, 10625.045000000004] [9994.472000000002, 9925.326000000001, 9773.585000000001, 9773.585000000001, 8551.925999999994, 5455.073999999999, 3323.094000000002, 2902.405000000001, 4030.3600000000024, 14850.394000000015, 14850.394000000015, 12242.41100000001, 4066.8970000000027, 4066.8970000000027, 3402.928, 5466.083, 6296.718, 6296.718, 2258.3079999999995, 2227.524, 3327.741, 12235.783000000001, 12235.783000000001, 12328.36, 12328.36, 12721.303000000007, 12721.303000000007, 12305.416000000005, 12242.918000000009, 12242.918000000009, 12223.967000000004, 12223.967000000004, 14771.25600000001, 14750.004000000008, 14672.788000000002, 14559.203000000005, 14460.520000000013, 14479.474000000011, 14580.403000000013, 14580.403000000013, 14477.889000000012, 14384.918000000012, 14397.845000000014, 14395.584000000013, 7352.452000000001, 6404.790999999997, 13947.251000000002, 10119.563999999997, 3856.1220000000003, 10625.045000000004]\n"
     ]
    }
   ],
   "source": [
    "with open(\"distance.txt\", \"rb\") as fp:\n",
    "    d = pickle.load(fp)\n",
    "print(f\"The first 100 entries of the list: \\n \\n {d[0:50]}\", d[:50])"
   ]
  },
  {
   "cell_type": "markdown",
   "metadata": {
    "slideshow": {
     "slide_type": "slide"
    }
   },
   "source": [
    "## Shortest Distance"
   ]
  },
  {
   "cell_type": "code",
   "execution_count": 35,
   "metadata": {
    "slideshow": {
     "slide_type": "slide"
    }
   },
   "outputs": [
    {
     "name": "stdout",
     "output_type": "stream",
     "text": [
      "The shortest distance is 1m.\n"
     ]
    }
   ],
   "source": [
    "print(f\"The shortest distance is {sorted(list(set(d)))[1]}m.\")"
   ]
  },
  {
   "cell_type": "code",
   "execution_count": 38,
   "metadata": {
    "slideshow": {
     "slide_type": "skip"
    }
   },
   "outputs": [],
   "source": [
    "shortest_dist = []\n",
    "i = 0\n",
    "while i <= 50: \n",
    "    i += 1\n",
    "    shortest_dist.append(sorted(list(set(d)))[i])"
   ]
  },
  {
   "cell_type": "code",
   "execution_count": 39,
   "metadata": {
    "slideshow": {
     "slide_type": "slide"
    }
   },
   "outputs": [
    {
     "name": "stdout",
     "output_type": "stream",
     "text": [
      "The 50 shortest distances are: \n",
      " [1, 8.436, 9.237, 9.383, 9.439, 9.729, 15.943, 18.302, 18.347, 19.506999999999998, 20.442999999999998, 20.776, 22.659, 23.884999999999998, 24.293, 25.003, 25.489, 25.771, 31.702, 32.042, 38.221, 39.783, 40.881, 41.208, 41.653, 42.257000000000005, 46.785, 47.004, 48.293, 48.509, 51.894, 52.608000000000004, 53.57599999999999, 53.576, 54.632000000000005, 54.661, 56.51899999999999, 56.519, 61.297000000000004, 61.532, 62.348, 68.304, 71.233, 71.904, 71.90400000000001, 72.134, 73.7, 75.727, 76.523, 77.93499999999999, 78.454]\n"
     ]
    }
   ],
   "source": [
    "print(\"The 50 shortest distances are: \\n\", shortest_dist)"
   ]
  },
  {
   "cell_type": "markdown",
   "metadata": {
    "slideshow": {
     "slide_type": "slide"
    }
   },
   "source": [
    "# Thank You!"
   ]
  }
 ],
 "metadata": {
  "celltoolbar": "Slideshow",
  "kernelspec": {
   "display_name": "Python 3",
   "language": "python",
   "name": "python3"
  },
  "language_info": {
   "codemirror_mode": {
    "name": "ipython",
    "version": 3
   },
   "file_extension": ".py",
   "mimetype": "text/x-python",
   "name": "python",
   "nbconvert_exporter": "python",
   "pygments_lexer": "ipython3",
   "version": "3.7.6"
  }
 },
 "nbformat": 4,
 "nbformat_minor": 4
}
