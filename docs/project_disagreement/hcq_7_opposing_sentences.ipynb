{
 "cells": [
  {
   "cell_type": "markdown",
   "metadata": {},
   "source": [
    "# Opposing sentences"
   ]
  },
  {
   "cell_type": "markdown",
   "metadata": {},
   "source": [
    "## Import libraries"
   ]
  },
  {
   "cell_type": "code",
   "execution_count": 128,
   "metadata": {},
   "outputs": [],
   "source": [
    "import pandas as pd\n",
    "import spacy\n",
    "from spacy.matcher import Matcher\n",
    "from spacy.matcher import PhraseMatcher\n",
    "from spacy.tokens import Span\n",
    "from spacy import displacy"
   ]
  },
  {
   "cell_type": "code",
   "execution_count": 129,
   "metadata": {},
   "outputs": [],
   "source": [
    "# Import English Library\n",
    "nlp = spacy.load(\"en_core_web_lg\")"
   ]
  },
  {
   "cell_type": "markdown",
   "metadata": {},
   "source": [
    "## Load dataframe"
   ]
  },
  {
   "cell_type": "code",
   "execution_count": 130,
   "metadata": {},
   "outputs": [
    {
     "data": {
      "text/html": [
       "<div>\n",
       "<style scoped>\n",
       "    .dataframe tbody tr th:only-of-type {\n",
       "        vertical-align: middle;\n",
       "    }\n",
       "\n",
       "    .dataframe tbody tr th {\n",
       "        vertical-align: top;\n",
       "    }\n",
       "\n",
       "    .dataframe thead th {\n",
       "        text-align: right;\n",
       "    }\n",
       "</style>\n",
       "<table border=\"1\" class=\"dataframe\">\n",
       "  <thead>\n",
       "    <tr style=\"text-align: right;\">\n",
       "      <th></th>\n",
       "      <th>Publication ID</th>\n",
       "      <th>title</th>\n",
       "      <th>abstract</th>\n",
       "      <th>abstract_clean</th>\n",
       "    </tr>\n",
       "  </thead>\n",
       "  <tbody>\n",
       "    <tr>\n",
       "      <th>0</th>\n",
       "      <td>pub.1126880632</td>\n",
       "      <td>COVID-19 and what pediatric rheumatologists sh...</td>\n",
       "      <td>On March 11th, 2020 the World Health Organizat...</td>\n",
       "      <td>On March 11th, 2020 the World Health Organizat...</td>\n",
       "    </tr>\n",
       "    <tr>\n",
       "      <th>1</th>\n",
       "      <td>pub.1127834352</td>\n",
       "      <td>Hydroxychloroquine or chloroquine with or with...</td>\n",
       "      <td>BACKGROUND: Hydroxychloroquine or chloroquine,...</td>\n",
       "      <td>BACKGROUND: Hydroxychloroquine or chloroquine,...</td>\n",
       "    </tr>\n",
       "    <tr>\n",
       "      <th>2</th>\n",
       "      <td>pub.1126667578</td>\n",
       "      <td>Hydroxychloroquine in patients mainly with mil...</td>\n",
       "      <td>Abstract Objectives To assess the efficacy and...</td>\n",
       "      <td>Abstract Objectives To assess the efficacy and...</td>\n",
       "    </tr>\n",
       "    <tr>\n",
       "      <th>3</th>\n",
       "      <td>pub.1125404383</td>\n",
       "      <td>Of chloroquine and COVID-19</td>\n",
       "      <td>Recent publications have brought attention to ...</td>\n",
       "      <td>Recent publications have brought attention to ...</td>\n",
       "    </tr>\n",
       "    <tr>\n",
       "      <th>4</th>\n",
       "      <td>pub.1127182972</td>\n",
       "      <td>An independent appraisal and re-analysis of hy...</td>\n",
       "      <td>A recent open-label study claimed that hydroxy...</td>\n",
       "      <td>A recent open-label study claimed that hydroxy...</td>\n",
       "    </tr>\n",
       "  </tbody>\n",
       "</table>\n",
       "</div>"
      ],
      "text/plain": [
       "   Publication ID                                              title  \\\n",
       "0  pub.1126880632  COVID-19 and what pediatric rheumatologists sh...   \n",
       "1  pub.1127834352  Hydroxychloroquine or chloroquine with or with...   \n",
       "2  pub.1126667578  Hydroxychloroquine in patients mainly with mil...   \n",
       "3  pub.1125404383                        Of chloroquine and COVID-19   \n",
       "4  pub.1127182972  An independent appraisal and re-analysis of hy...   \n",
       "\n",
       "                                            abstract  \\\n",
       "0  On March 11th, 2020 the World Health Organizat...   \n",
       "1  BACKGROUND: Hydroxychloroquine or chloroquine,...   \n",
       "2  Abstract Objectives To assess the efficacy and...   \n",
       "3  Recent publications have brought attention to ...   \n",
       "4  A recent open-label study claimed that hydroxy...   \n",
       "\n",
       "                                      abstract_clean  \n",
       "0  On March 11th, 2020 the World Health Organizat...  \n",
       "1  BACKGROUND: Hydroxychloroquine or chloroquine,...  \n",
       "2  Abstract Objectives To assess the efficacy and...  \n",
       "3  Recent publications have brought attention to ...  \n",
       "4  A recent open-label study claimed that hydroxy...  "
      ]
     },
     "execution_count": 130,
     "metadata": {},
     "output_type": "execute_result"
    }
   ],
   "source": [
    "df = pd.read_json(\"df_HCQ.json\")\n",
    "df.head()"
   ]
  },
  {
   "cell_type": "code",
   "execution_count": 131,
   "metadata": {},
   "outputs": [
    {
     "name": "stdout",
     "output_type": "stream",
     "text": [
      "<class 'pandas.core.frame.DataFrame'>\n",
      "Int64Index: 17 entries, 0 to 16\n",
      "Data columns (total 4 columns):\n",
      " #   Column          Non-Null Count  Dtype \n",
      "---  ------          --------------  ----- \n",
      " 0   Publication ID  17 non-null     object\n",
      " 1   title           17 non-null     object\n",
      " 2   abstract        17 non-null     object\n",
      " 3   abstract_clean  17 non-null     object\n",
      "dtypes: object(4)\n",
      "memory usage: 680.0+ bytes\n"
     ]
    }
   ],
   "source": [
    "df.info()"
   ]
  },
  {
   "cell_type": "markdown",
   "metadata": {},
   "source": [
    "## Reshape dataframe"
   ]
  },
  {
   "cell_type": "code",
   "execution_count": 132,
   "metadata": {},
   "outputs": [],
   "source": [
    "# Make new dataframe from 'df': df_HCQ\n",
    "df_HCQ = df[[\"Publication ID\", \"title\", \"abstract_clean\"]]"
   ]
  },
  {
   "cell_type": "code",
   "execution_count": 133,
   "metadata": {},
   "outputs": [],
   "source": [
    "# Add column 'doc' to 'df_HCQ'\n",
    "# 'df_HCQ[\"doc\"]' shall contain Doc-objects made from abstracts\n",
    "df_HCQ[\"doc\"] = df_HCQ[\"abstract_clean\"].apply(nlp)"
   ]
  },
  {
   "cell_type": "code",
   "execution_count": 134,
   "metadata": {},
   "outputs": [],
   "source": [
    "def get_sentences(doc):\n",
    "    sents_list = [sent for sent in doc.sents]\n",
    "    \n",
    "    return sents_list"
   ]
  },
  {
   "cell_type": "code",
   "execution_count": 135,
   "metadata": {},
   "outputs": [
    {
     "name": "stdout",
     "output_type": "stream",
     "text": [
      "<class 'pandas.core.frame.DataFrame'>\n",
      "Int64Index: 17 entries, 0 to 16\n",
      "Data columns (total 5 columns):\n",
      " #   Column          Non-Null Count  Dtype \n",
      "---  ------          --------------  ----- \n",
      " 0   Publication ID  17 non-null     object\n",
      " 1   title           17 non-null     object\n",
      " 2   abstract_clean  17 non-null     object\n",
      " 3   doc             17 non-null     object\n",
      " 4   sentences       17 non-null     object\n",
      "dtypes: object(5)\n",
      "memory usage: 816.0+ bytes\n"
     ]
    }
   ],
   "source": [
    "df_HCQ[\"sentences\"] = df_HCQ[\"doc\"].apply(get_sentences)\n",
    "df_HCQ.info()"
   ]
  },
  {
   "cell_type": "code",
   "execution_count": 136,
   "metadata": {},
   "outputs": [
    {
     "data": {
      "text/html": [
       "<div>\n",
       "<style scoped>\n",
       "    .dataframe tbody tr th:only-of-type {\n",
       "        vertical-align: middle;\n",
       "    }\n",
       "\n",
       "    .dataframe tbody tr th {\n",
       "        vertical-align: top;\n",
       "    }\n",
       "\n",
       "    .dataframe thead th {\n",
       "        text-align: right;\n",
       "    }\n",
       "</style>\n",
       "<table border=\"1\" class=\"dataframe\">\n",
       "  <thead>\n",
       "    <tr style=\"text-align: right;\">\n",
       "      <th></th>\n",
       "      <th>Publication ID</th>\n",
       "      <th>title</th>\n",
       "      <th>abstract_clean</th>\n",
       "      <th>doc</th>\n",
       "      <th>sentences</th>\n",
       "    </tr>\n",
       "  </thead>\n",
       "  <tbody>\n",
       "    <tr>\n",
       "      <th>0</th>\n",
       "      <td>pub.1126880632</td>\n",
       "      <td>COVID-19 and what pediatric rheumatologists sh...</td>\n",
       "      <td>On March 11th, 2020 the World Health Organizat...</td>\n",
       "      <td>(On, March, 11th, ,, 2020, the, World, Health,...</td>\n",
       "      <td>[(On, March, 11th, ,, 2020, the, World, Health...</td>\n",
       "    </tr>\n",
       "    <tr>\n",
       "      <th>1</th>\n",
       "      <td>pub.1127834352</td>\n",
       "      <td>Hydroxychloroquine or chloroquine with or with...</td>\n",
       "      <td>BACKGROUND: Hydroxychloroquine or chloroquine,...</td>\n",
       "      <td>(BACKGROUND, :, Hydroxychloroquine, or, chloro...</td>\n",
       "      <td>[(BACKGROUND, :), (Hydroxychloroquine, or, chl...</td>\n",
       "    </tr>\n",
       "    <tr>\n",
       "      <th>2</th>\n",
       "      <td>pub.1126667578</td>\n",
       "      <td>Hydroxychloroquine in patients mainly with mil...</td>\n",
       "      <td>Abstract Objectives To assess the efficacy and...</td>\n",
       "      <td>(Abstract, Objectives, To, assess, the, effica...</td>\n",
       "      <td>[(Abstract, Objectives, To, assess, the, effic...</td>\n",
       "    </tr>\n",
       "  </tbody>\n",
       "</table>\n",
       "</div>"
      ],
      "text/plain": [
       "   Publication ID                                              title  \\\n",
       "0  pub.1126880632  COVID-19 and what pediatric rheumatologists sh...   \n",
       "1  pub.1127834352  Hydroxychloroquine or chloroquine with or with...   \n",
       "2  pub.1126667578  Hydroxychloroquine in patients mainly with mil...   \n",
       "\n",
       "                                      abstract_clean  \\\n",
       "0  On March 11th, 2020 the World Health Organizat...   \n",
       "1  BACKGROUND: Hydroxychloroquine or chloroquine,...   \n",
       "2  Abstract Objectives To assess the efficacy and...   \n",
       "\n",
       "                                                 doc  \\\n",
       "0  (On, March, 11th, ,, 2020, the, World, Health,...   \n",
       "1  (BACKGROUND, :, Hydroxychloroquine, or, chloro...   \n",
       "2  (Abstract, Objectives, To, assess, the, effica...   \n",
       "\n",
       "                                           sentences  \n",
       "0  [(On, March, 11th, ,, 2020, the, World, Health...  \n",
       "1  [(BACKGROUND, :), (Hydroxychloroquine, or, chl...  \n",
       "2  [(Abstract, Objectives, To, assess, the, effic...  "
      ]
     },
     "execution_count": 136,
     "metadata": {},
     "output_type": "execute_result"
    }
   ],
   "source": [
    "df_HCQ.head(3)"
   ]
  },
  {
   "cell_type": "markdown",
   "metadata": {},
   "source": [
    "### Example abstracts"
   ]
  },
  {
   "cell_type": "code",
   "execution_count": 137,
   "metadata": {},
   "outputs": [
    {
     "name": "stdout",
     "output_type": "stream",
     "text": [
      "(0) Background Treatments are urgently needed to prevent respiratory failure and deaths from coronavirus disease 2019 (COVID-19).\n",
      "(1) Hydroxychloroquine (HCQ) has received worldwide attention because of positive results from small studies.\n",
      "(2) Methods\n",
      "(3) We used data collected from routine care of all adults in 4 French hospitals with documented SARS-CoV-2 pneumonia and requiring oxygen ≥ 2 L/min to emulate a target trial aimed at assessing the effectiveness of HCQ at 600 mg/day.\n",
      "(4) The composite primary endpoint was transfer to intensive care unit (ICU) within 7 days from inclusion and/or death from any cause.\n",
      "(5) Analyses were adjusted for confounding factors by inverse probability of treatment weighting.\n",
      "(6) Results\n",
      "(7) This study included 181 patients with SARS-CoV-2 pneumonia; 84 received HCQ within 48 hours of admission (HCQ group) and 97 did not (no-HCQ group).\n",
      "(8) Initial severity was well balanced between the groups.\n",
      "(9) In the weighted analysis, 20.2% patients in the HCQ group were transferred to the ICU or died within 7 days vs 22.1% in the no-HCQ group (16 vs 21 events, relative risk [RR] 0.91, 95% CI 0.47-1.80).\n",
      "(10) In the HCQ group, 2.8% of the patients died within 7 days vs 4.6% in the no-HCQ group (3 vs 4 events, RR 0.61, 95% CI 0.13-2.89), and 27.4% and 24.1%, respectively, developed acute respiratory distress syndrome within 7 days (24 vs 23 events, RR 1.14, 95% CI 0.65-2.00).\n",
      "(11) Eight patients receiving HCQ (9.5%) experienced electrocardiogram modifications requiring HCQ discontinuation.\n",
      "(12) Interpretation\n",
      "(13) These results do not support the use of HCQ in patients hospitalised for documented SARS-CoV-2-positive hypoxic pneumonia.\n"
     ]
    }
   ],
   "source": [
    "sentences_6 = df_HCQ[\"sentences\"].iloc[6]\n",
    "for i, sentence in enumerate(sentences_6):\n",
    "    print(f\"({i}) {sentence}\")"
   ]
  },
  {
   "cell_type": "code",
   "execution_count": 138,
   "metadata": {},
   "outputs": [
    {
     "name": "stdout",
     "output_type": "stream",
     "text": [
      "(0) The coronavirus disease 2019 (COVID-19) virus is spreading rapidly, and scientists are endeavoring to discover drugs for its efficacious treatment in China.\n",
      "(1) Chloroquine phosphate, an old drug for treatment of malaria, is shown to have apparent efficacy and acceptable safety against COVID-19 associated pneumonia in multicenter clinical trials conducted in China.\n",
      "(2) The drug is recommended to be included in the next version of the Guidelines for the Prevention, Diagnosis, and Treatment of Pneumonia Caused by COVID-19 issued by the National Health Commission of the People's Republic of China for treatment of COVID-19 infection in larger populations in the future.\n"
     ]
    }
   ],
   "source": [
    "sentences_14 = df_HCQ[\"sentences\"].iloc[14]\n",
    "for i, sentence in enumerate(sentences_14):\n",
    "    print(f\"({i}) {sentence}\")"
   ]
  },
  {
   "cell_type": "markdown",
   "metadata": {},
   "source": [
    "### Example of disagreement-sentences (from different abstracts)"
   ]
  },
  {
   "cell_type": "code",
   "execution_count": 139,
   "metadata": {},
   "outputs": [
    {
     "name": "stdout",
     "output_type": "stream",
     "text": [
      "(PRO) Chloroquine phosphate, an old drug for treatment of malaria, is shown to have apparent efficacy and acceptable safety against COVID-19 associated pneumonia in multicenter clinical trials conducted in China.\n",
      "\n",
      "\n",
      "(CON) These results do not support the use of HCQ in patients hospitalised for documented SARS-CoV-2-positive hypoxic pneumonia.\n"
     ]
    }
   ],
   "source": [
    "pro_example = sentences_14[1]\n",
    "con_example= sentences_6[-1] # also: sentences_6[15]; '[-1]' shall point out, that the disagreeing sentence is the last\n",
    "                             # sentence in the abstract\n",
    "\n",
    "print(f\"(PRO) {pro_example}\")\n",
    "print(\"\\n\")\n",
    "print(f\"(CON) {con_example}\")"
   ]
  },
  {
   "cell_type": "markdown",
   "metadata": {},
   "source": [
    "* The debated statement is a statement of causal relevancy. \"Chloroquine phosphate\"/\"HCQ\" is said to be effective against COVID-19 related pneumonia. AND it is safe enough to do no harm to patients. I.e. (Hydroxy)chloroquine is suitable for giving it to patients. So HCQ is said to heal patients that suffer form COVID-19 related pneumonia. Thus, the debated statement is this: (CR) \"Treatment with (Hydroxy)chloroquine ist causally relevant for healing COVID-19 related pneumonia\". If CR is true, then (Hydroxy)chloroquine could or should be used to treat COVID-19 related pneumonia. CR is the debated statement.\n",
    "* PRO claims that some body of evidence \"show[s]\" CR. (The body of evidence is not stated in PRO, but I suppose some evidence is assumed that is suitable for \"showing\" CR.) CON claims that some body of evidence (\"[t]hese results\") \"support[s]\" CR. (Let's ignore for a moment that there is a negation in CON). Both PRO and CON say that there is a relation between some body of evidence and CR. Let's call that relation \"support-relation\", or SUP(x,y) for short. PRO states that the support-relation obtains between some body of evidence and CR (SUP(E,CR)), whereas CON denies that this relation obtains (NOT SUP(E,CR)).\n",
    "* Claiming that the support-relation obtains between some body of evidence and CR means that one claims, that CR is true (or at least might well be true). But denying that the support-relation obtains is **not** to say that CR is false.\n",
    "* There is disagreement between PRO and CON. The disagreement is **not**: PRO states that CR is true while CON states that CR is NOT true. The disagreement rather seems to be: PRO states SUP(E,CR) while CON states NOT SUP(E,CR). It seems to be promising to search for expressions (verbs) that express SUP."
   ]
  },
  {
   "cell_type": "markdown",
   "metadata": {},
   "source": [
    "### Expression lists"
   ]
  },
  {
   "cell_type": "markdown",
   "metadata": {},
   "source": [
    "#### Text doc"
   ]
  },
  {
   "cell_type": "code",
   "execution_count": 140,
   "metadata": {},
   "outputs": [],
   "source": [
    "examples = [pro_example, con_example]"
   ]
  },
  {
   "cell_type": "code",
   "execution_count": 141,
   "metadata": {},
   "outputs": [],
   "source": [
    "examples_text = [example.text for example in examples]"
   ]
  },
  {
   "cell_type": "code",
   "execution_count": 142,
   "metadata": {},
   "outputs": [],
   "source": [
    "text = \"\"\n",
    "for sent in examples_text:\n",
    "    text += sent"
   ]
  },
  {
   "cell_type": "code",
   "execution_count": 143,
   "metadata": {},
   "outputs": [],
   "source": [
    "exemp = nlp(text)"
   ]
  },
  {
   "cell_type": "markdown",
   "metadata": {},
   "source": [
    "#### Verbs"
   ]
  },
  {
   "cell_type": "code",
   "execution_count": 144,
   "metadata": {},
   "outputs": [],
   "source": [
    "# Verb matcher\n",
    "matcher_verb = Matcher(nlp.vocab)\n",
    "pattern_verb = [{\"DEP\": \"ROOT\", \"POS\": \"VERB\"}]\n",
    "matcher_verb.add(\"VERB_ID\", None, pattern_verb)"
   ]
  },
  {
   "cell_type": "code",
   "execution_count": 145,
   "metadata": {},
   "outputs": [],
   "source": [
    "verb_list = []"
   ]
  },
  {
   "cell_type": "code",
   "execution_count": 146,
   "metadata": {},
   "outputs": [],
   "source": [
    "# Fill 'verb_list'\n",
    "for match_id, start, end in matcher_verb(exemp):\n",
    "    if exemp[start:end].lemma_ in verb_list:\n",
    "        continue\n",
    "    else:\n",
    "        verb_list.append(exemp[start:end].lemma_)"
   ]
  },
  {
   "cell_type": "code",
   "execution_count": 147,
   "metadata": {},
   "outputs": [
    {
     "data": {
      "text/plain": [
       "['show', 'support']"
      ]
     },
     "execution_count": 147,
     "metadata": {},
     "output_type": "execute_result"
    }
   ],
   "source": [
    "verb_list"
   ]
  },
  {
   "cell_type": "markdown",
   "metadata": {},
   "source": [
    "#### Statements"
   ]
  },
  {
   "cell_type": "code",
   "execution_count": 148,
   "metadata": {},
   "outputs": [],
   "source": [
    "statements = []"
   ]
  },
  {
   "cell_type": "code",
   "execution_count": 149,
   "metadata": {},
   "outputs": [],
   "source": [
    "# Fill 'statements'\n",
    "for example in examples:\n",
    "    for match_id, start, end in matcher_verb(example):\n",
    "        if example[end + 1:-1].text in statements:\n",
    "            continue\n",
    "        else:\n",
    "            statements.append(example[end + 1:-1].text)"
   ]
  },
  {
   "cell_type": "code",
   "execution_count": 150,
   "metadata": {},
   "outputs": [
    {
     "data": {
      "text/plain": [
       "['have apparent efficacy and acceptable safety against COVID-19 associated pneumonia in multicenter clinical trials conducted in China',\n",
       " 'use of HCQ in patients hospitalised for documented SARS-CoV-2-positive hypoxic pneumonia']"
      ]
     },
     "execution_count": 150,
     "metadata": {},
     "output_type": "execute_result"
    }
   ],
   "source": [
    "statements"
   ]
  },
  {
   "cell_type": "code",
   "execution_count": 151,
   "metadata": {},
   "outputs": [],
   "source": [
    "# Make docs from statements\n",
    "statements_docs = list(nlp.pipe(statements))"
   ]
  },
  {
   "cell_type": "code",
   "execution_count": 152,
   "metadata": {},
   "outputs": [],
   "source": [
    "# Statement matcher\n",
    "matcher_3 = PhraseMatcher(nlp.vocab)\n",
    "pattern_3 = statements_docs\n",
    "matcher_3.add(\"STATEMENT\", None, *pattern_3)"
   ]
  },
  {
   "cell_type": "markdown",
   "metadata": {},
   "source": [
    "#### Evidence"
   ]
  },
  {
   "cell_type": "code",
   "execution_count": 153,
   "metadata": {},
   "outputs": [],
   "source": [
    "#matcher_5 = Matcher(nlp.vocab)\n",
    "#pattern_5 = [{\"LEMMA\": {\"IN\": verb_list}}]\n",
    "#matcher_5.add(\"SUPPORT\", None, pattern_5)"
   ]
  },
  {
   "cell_type": "code",
   "execution_count": 154,
   "metadata": {},
   "outputs": [],
   "source": [
    "matcher_2 = Matcher(nlp.vocab)\n",
    "pattern_2 = [{\"POS\": \"NOUN\"}, \n",
    "             {\"POS\": \"AUX\", \"OP\": \"?\"}, \n",
    "             {\"DEP\": \"neg\", \"OP\": \"?\"}, \n",
    "             {\"LEMMA\": {\"IN\": verb_list}}\n",
    "]\n",
    "matcher_2.add(\"EVIDENCE_ID\", None, pattern_2)"
   ]
  },
  {
   "cell_type": "code",
   "execution_count": 155,
   "metadata": {},
   "outputs": [],
   "source": [
    "evidence_list = []"
   ]
  },
  {
   "cell_type": "code",
   "execution_count": 156,
   "metadata": {},
   "outputs": [],
   "source": [
    "for match_id, start, end in matcher_2(exemp):\n",
    "    if exemp[start - 1:start + 1].text in evidence_list:\n",
    "        continue\n",
    "    else:\n",
    "        evidence_list.append(exemp[start - 1:start +1].text)"
   ]
  },
  {
   "cell_type": "code",
   "execution_count": 157,
   "metadata": {},
   "outputs": [
    {
     "data": {
      "text/plain": [
       "['These results']"
      ]
     },
     "execution_count": 157,
     "metadata": {},
     "output_type": "execute_result"
    }
   ],
   "source": [
    "evidence_list"
   ]
  },
  {
   "cell_type": "markdown",
   "metadata": {},
   "source": [
    "#### Not Support"
   ]
  },
  {
   "cell_type": "code",
   "execution_count": 158,
   "metadata": {},
   "outputs": [],
   "source": [
    "# NOT_SUPPORT matcher\n",
    "matcher_notSupport = Matcher(nlp.vocab)\n",
    "pattern_notSupport = [{\"DEP\": \"neg\", \"OP\": \"+\"}, \n",
    "             {\"LEMMA\": {\"IN\": verb_list}}\n",
    "]\n",
    "matcher_notSupport.add(\"NOT_SUPPORT\", None, pattern_notSupport)"
   ]
  },
  {
   "cell_type": "code",
   "execution_count": 159,
   "metadata": {},
   "outputs": [],
   "source": [
    "notSupport_list = []"
   ]
  },
  {
   "cell_type": "code",
   "execution_count": 160,
   "metadata": {},
   "outputs": [],
   "source": [
    "# Not support list\n",
    "for match_id, start, end in matcher_notSupport(exemp):\n",
    "    if exemp[start - 1:end].text in notSupport_list:\n",
    "        continue\n",
    "    else:\n",
    "        notSupport_list.append(exemp[start - 1:end].text)"
   ]
  },
  {
   "cell_type": "code",
   "execution_count": 161,
   "metadata": {},
   "outputs": [
    {
     "data": {
      "text/plain": [
       "['do not support']"
      ]
     },
     "execution_count": 161,
     "metadata": {},
     "output_type": "execute_result"
    }
   ],
   "source": [
    "notSupport_list"
   ]
  },
  {
   "cell_type": "markdown",
   "metadata": {},
   "source": [
    "#### Support"
   ]
  },
  {
   "cell_type": "markdown",
   "metadata": {},
   "source": [
    "### Entity labelling"
   ]
  },
  {
   "cell_type": "code",
   "execution_count": 162,
   "metadata": {},
   "outputs": [],
   "source": [
    "# Entities\n",
    "exemp.ents = []"
   ]
  },
  {
   "cell_type": "markdown",
   "metadata": {},
   "source": [
    "#### Statement"
   ]
  },
  {
   "cell_type": "code",
   "execution_count": 163,
   "metadata": {},
   "outputs": [],
   "source": [
    "# Make entity and label 'STATEMENT'\n",
    "for match_id, start, end in matcher_3(exemp):\n",
    "    span_state = Span(exemp, start, end, label=\"STATEMENT\")\n",
    "    exemp.ents = list(exemp.ents) + [span_state]"
   ]
  },
  {
   "cell_type": "markdown",
   "metadata": {},
   "source": [
    "#### Evidence"
   ]
  },
  {
   "cell_type": "code",
   "execution_count": 164,
   "metadata": {},
   "outputs": [],
   "source": [
    "# Evidence matcher\n",
    "matcher_6 = PhraseMatcher(nlp.vocab)\n",
    "pattern_6 = list(nlp.pipe(evidence_list))\n",
    "matcher_6.add(\"EVIDENCE\", None, *pattern_6)"
   ]
  },
  {
   "cell_type": "code",
   "execution_count": 165,
   "metadata": {},
   "outputs": [],
   "source": [
    "# Make entity and label 'EVIDENCE'\n",
    "for match_id, start, end in matcher_6(exemp):\n",
    "    span_evidence = Span(exemp, start, end, label=\"EVIDENCE\")\n",
    "\n",
    "    exemp.ents = list(exemp.ents) + [span_evidence]"
   ]
  },
  {
   "cell_type": "markdown",
   "metadata": {},
   "source": [
    "#### Not-Support"
   ]
  },
  {
   "cell_type": "code",
   "execution_count": 166,
   "metadata": {},
   "outputs": [],
   "source": [
    "# Not-Support matcher\n",
    "matcher_7 = PhraseMatcher(nlp.vocab)\n",
    "pattern_7 = list(nlp.pipe(notSupport_list))\n",
    "matcher_7.add(\"NOT_SUPPORT\", None, *pattern_7)"
   ]
  },
  {
   "cell_type": "code",
   "execution_count": 167,
   "metadata": {},
   "outputs": [],
   "source": [
    "# Make entity and label 'NOT_SUPPORT'\n",
    "for match_id, start, end in matcher_7(exemp):\n",
    "    span_notSupport = Span(exemp, start, end, label=\"NOT_SUPPORT\")\n",
    "\n",
    "    exemp.ents = list(exemp.ents) + [span_notSupport]"
   ]
  },
  {
   "cell_type": "code",
   "execution_count": 168,
   "metadata": {},
   "outputs": [],
   "source": [
    "#for match_id, start, end in matcher_5(exemp):\n",
    "#    if exemp[start:end].text in support_list:\n",
    "#        continue\n",
    "#    else:\n",
    "#        support_list.append(exemp[start:end].text)"
   ]
  },
  {
   "cell_type": "markdown",
   "metadata": {},
   "source": [
    "### Disagreement - possibly"
   ]
  },
  {
   "cell_type": "code",
   "execution_count": 169,
   "metadata": {},
   "outputs": [],
   "source": [
    "# List of doc.sents: 'sents'\n",
    "sents = [sent for sent in exemp.sents]"
   ]
  },
  {
   "cell_type": "code",
   "execution_count": 170,
   "metadata": {},
   "outputs": [
    {
     "name": "stdout",
     "output_type": "stream",
     "text": [
      "==========\n",
      "\n",
      "(PRO):\n",
      "\n"
     ]
    },
    {
     "data": {
      "text/html": [
       "<span class=\"tex2jax_ignore\"><div class=\"entities\" style=\"line-height: 2.5; direction: ltr\">Chloroquine phosphate, an old drug for treatment of malaria, is shown to \n",
       "<mark class=\"entity\" style=\"background: #ddd; padding: 0.45em 0.6em; margin: 0 0.25em; line-height: 1; border-radius: 0.35em;\">\n",
       "    have apparent efficacy and acceptable safety against COVID-19 associated pneumonia in multicenter clinical trials conducted in China\n",
       "    <span style=\"font-size: 0.8em; font-weight: bold; line-height: 1; border-radius: 0.35em; text-transform: uppercase; vertical-align: middle; margin-left: 0.5rem\">STATEMENT</span>\n",
       "</mark>\n",
       ".</div></span>"
      ],
      "text/plain": [
       "<IPython.core.display.HTML object>"
      ]
     },
     "metadata": {},
     "output_type": "display_data"
    },
    {
     "name": "stdout",
     "output_type": "stream",
     "text": [
      "\n",
      "\n",
      "\n",
      "(CON):\n",
      "\n"
     ]
    },
    {
     "data": {
      "text/html": [
       "<span class=\"tex2jax_ignore\"><div class=\"entities\" style=\"line-height: 2.5; direction: ltr\">\n",
       "<mark class=\"entity\" style=\"background: #ddd; padding: 0.45em 0.6em; margin: 0 0.25em; line-height: 1; border-radius: 0.35em;\">\n",
       "    These results\n",
       "    <span style=\"font-size: 0.8em; font-weight: bold; line-height: 1; border-radius: 0.35em; text-transform: uppercase; vertical-align: middle; margin-left: 0.5rem\">EVIDENCE</span>\n",
       "</mark>\n",
       " \n",
       "<mark class=\"entity\" style=\"background: #ddd; padding: 0.45em 0.6em; margin: 0 0.25em; line-height: 1; border-radius: 0.35em;\">\n",
       "    do not support\n",
       "    <span style=\"font-size: 0.8em; font-weight: bold; line-height: 1; border-radius: 0.35em; text-transform: uppercase; vertical-align: middle; margin-left: 0.5rem\">NOT_SUPPORT</span>\n",
       "</mark>\n",
       " the \n",
       "<mark class=\"entity\" style=\"background: #ddd; padding: 0.45em 0.6em; margin: 0 0.25em; line-height: 1; border-radius: 0.35em;\">\n",
       "    use of HCQ in patients hospitalised for documented SARS-CoV-2-positive hypoxic pneumonia\n",
       "    <span style=\"font-size: 0.8em; font-weight: bold; line-height: 1; border-radius: 0.35em; text-transform: uppercase; vertical-align: middle; margin-left: 0.5rem\">STATEMENT</span>\n",
       "</mark>\n",
       ".</div></span>"
      ],
      "text/plain": [
       "<IPython.core.display.HTML object>"
      ]
     },
     "metadata": {},
     "output_type": "display_data"
    },
    {
     "name": "stdout",
     "output_type": "stream",
     "text": [
      "\n",
      "==========\n"
     ]
    }
   ],
   "source": [
    "# Do sent1 and sent2 disagree?\n",
    "for sent1 in sents:\n",
    "    for sent2 in sents:\n",
    "        # Compares two sentences. Are they different?\n",
    "        if sent1 != sent2:\n",
    "            \n",
    "            # Similarity of statements/causal hypotheses the sents express\n",
    "            similar = 0\n",
    "            for ent1 in sent1.ents:\n",
    "                if ent1.label_ == \"STATEMENT\":\n",
    "                    for ent2 in sent2.ents:\n",
    "                        if ent2.label_ == \"STATEMENT\":\n",
    "                            similar = ent1.similarity(ent2)\n",
    "                        else:\n",
    "                            continue\n",
    "                else:\n",
    "                    continue\n",
    "            \n",
    "            # Comparing whether sents support or do not support a statement\n",
    "            if similar >= 0.75:\n",
    "                for ent1 in sent1.ents:\n",
    "                    if ent1.label_ == \"NOT_SUPPORT\":\n",
    "                        for ent2 in sent2.ents:\n",
    "                            if ent2.label_ != \"NOT_SUPPORT\":\n",
    "                                #print(f\"(CON):\\n {sent1.text}\\n(PRO):\\n{sent2.text}\")\n",
    "                                print(\"==========\\n\")\n",
    "                                print(\"(PRO):\\n\")\n",
    "                                displacy.render(sent2, style=\"ent\", jupyter=True)\n",
    "                                print(\"\\n\\n\")\n",
    "                                print(\"(CON):\\n\")\n",
    "                                displacy.render(sent1, style=\"ent\", jupyter=True)\n",
    "                                print(\"\\n==========\")\n",
    "                        continue\n",
    "            else:\n",
    "                continue\n",
    "        else:\n",
    "            continue"
   ]
  }
 ],
 "metadata": {
  "kernelspec": {
   "display_name": "Python 3",
   "language": "python",
   "name": "python3"
  },
  "language_info": {
   "codemirror_mode": {
    "name": "ipython",
    "version": 3
   },
   "file_extension": ".py",
   "mimetype": "text/x-python",
   "name": "python",
   "nbconvert_exporter": "python",
   "pygments_lexer": "ipython3",
   "version": "3.7.6"
  }
 },
 "nbformat": 4,
 "nbformat_minor": 4
}
