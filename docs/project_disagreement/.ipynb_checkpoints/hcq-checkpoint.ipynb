{
 "cells": [
  {
   "cell_type": "markdown",
   "metadata": {},
   "source": [
    "# Current State of Disagreement-Projekt"
   ]
  },
  {
   "cell_type": "markdown",
   "metadata": {},
   "source": [
    "## 0 Import Libraries"
   ]
  },
  {
   "cell_type": "code",
   "execution_count": 1,
   "metadata": {},
   "outputs": [],
   "source": [
    "import pandas as pd\n",
    "import spacy\n",
    "from spacy.matcher import Matcher\n",
    "from spacy.pipeline import EntityRuler\n",
    "from spacy import displacy"
   ]
  },
  {
   "cell_type": "code",
   "execution_count": 2,
   "metadata": {},
   "outputs": [],
   "source": [
    "# Import English Library\n",
    "nlp = spacy.load(\"en_core_web_lg\")"
   ]
  },
  {
   "cell_type": "markdown",
   "metadata": {},
   "source": [
    "## 1 Outline"
   ]
  },
  {
   "cell_type": "markdown",
   "metadata": {},
   "source": [
    "(A) Abstracts -> sentences -> filtered sentences (sections 2 - 4)\n",
    "\n",
    "(B) Label entities (section 5)\n",
    "\n",
    "(C) Disagreement pairs (section 6)\n",
    " - Seperate affirmative sentences from negated sentences (6.1)\n",
    " - Assign sentences that show disagreement (6.2)\n",
    " \n",
    "*Basic idea:*\n",
    "\n",
    ">`\"The findings support the hypothesis that these drugs have efficacy in the treatment of COVID-19.\"`\n",
    "\n",
    ">`\"These results do not support the use of HCQ in patients hospitalised for documented SARS-CoV-2-positive hypoxic pneumonia.\"`\n",
    "\n",
    "|Sentence type|Noun (EVID/SCI)|Negation (NEG)|Verb (SUPP)|Statement (Span)|\n",
    "|-------------|---------------|--------------|-----------|----------------|\n",
    "|PRO          |`The findings` |              |`support`  |`the hypothesis that these drugs have efficacy in the treatment of COVID-19`|\n",
    "|CON          |`These results`|`[do] not`    |`support`  |`the use of HCQ in patients hospitalised for documented SARS-CoV-2-positive hypoxic pneumonia`|"
   ]
  },
  {
   "cell_type": "markdown",
   "metadata": {},
   "source": [
    "## 2 Load Dataframe"
   ]
  },
  {
   "cell_type": "raw",
   "metadata": {},
   "source": [
    "abstract_df = pd.read_json(\"data/df_HCQ.json\")[[\"Publication ID\", \"title\", \"abstract_clean\"]]\n",
    "abstract_df.head(3)"
   ]
  },
  {
   "cell_type": "code",
   "execution_count": 3,
   "metadata": {},
   "outputs": [
    {
     "data": {
      "text/html": [
       "<div>\n",
       "<style scoped>\n",
       "    .dataframe tbody tr th:only-of-type {\n",
       "        vertical-align: middle;\n",
       "    }\n",
       "\n",
       "    .dataframe tbody tr th {\n",
       "        vertical-align: top;\n",
       "    }\n",
       "\n",
       "    .dataframe thead th {\n",
       "        text-align: right;\n",
       "    }\n",
       "</style>\n",
       "<table border=\"1\" class=\"dataframe\">\n",
       "  <thead>\n",
       "    <tr style=\"text-align: right;\">\n",
       "      <th></th>\n",
       "      <th>Publication ID</th>\n",
       "      <th>title</th>\n",
       "      <th>abstract_clean</th>\n",
       "    </tr>\n",
       "  </thead>\n",
       "  <tbody>\n",
       "    <tr>\n",
       "      <th>0</th>\n",
       "      <td>pub.1126880632</td>\n",
       "      <td>COVID-19 and what pediatric rheumatologists sh...</td>\n",
       "      <td>On March 11th, 2020 the World Health Organizat...</td>\n",
       "    </tr>\n",
       "    <tr>\n",
       "      <th>1</th>\n",
       "      <td>pub.1127834352</td>\n",
       "      <td>Hydroxychloroquine or chloroquine with or with...</td>\n",
       "      <td>BACKGROUND: Hydroxychloroquine or chloroquine,...</td>\n",
       "    </tr>\n",
       "    <tr>\n",
       "      <th>2</th>\n",
       "      <td>pub.1126667578</td>\n",
       "      <td>Hydroxychloroquine in patients mainly with mil...</td>\n",
       "      <td>Abstract Objectives To assess the efficacy and...</td>\n",
       "    </tr>\n",
       "  </tbody>\n",
       "</table>\n",
       "</div>"
      ],
      "text/plain": [
       "   Publication ID                                              title  \\\n",
       "0  pub.1126880632  COVID-19 and what pediatric rheumatologists sh...   \n",
       "1  pub.1127834352  Hydroxychloroquine or chloroquine with or with...   \n",
       "2  pub.1126667578  Hydroxychloroquine in patients mainly with mil...   \n",
       "\n",
       "                                      abstract_clean  \n",
       "0  On March 11th, 2020 the World Health Organizat...  \n",
       "1  BACKGROUND: Hydroxychloroquine or chloroquine,...  \n",
       "2  Abstract Objectives To assess the efficacy and...  "
      ]
     },
     "execution_count": 3,
     "metadata": {},
     "output_type": "execute_result"
    }
   ],
   "source": [
    "abstract_df = pd.read_json(\"data/HCQ_clean_abstracts.json\")\n",
    "abstract_df.head(3)"
   ]
  },
  {
   "cell_type": "markdown",
   "metadata": {},
   "source": [
    "## 3 New Dataframe: From Abstracts to Sentences"
   ]
  },
  {
   "cell_type": "code",
   "execution_count": 5,
   "metadata": {},
   "outputs": [],
   "source": [
    "# Make a dataframe that\n",
    "## has a row for each sentence\n",
    "## assigns a unique id to each sentence\n",
    "## assigns the title of publication to each sentence\n",
    "def single_sentences(dataframe):            # this function is applied on a dataframe\n",
    "    data_list = []                          # create empty list-object: data_list\n",
    "      \n",
    "    for row_number in dataframe.index:      # for-loop iterates over index of all row numbers\n",
    "        sentence_number = 0                 # set counter\n",
    "        \n",
    "        for sentence in nlp(dataframe[\"abstract_clean\"].iloc[row_number]).sents:\n",
    "            \n",
    "            sentence_id = dataframe[\"Publication ID\"].iloc[row_number] + \"-\" + str(sentence_number)\n",
    "            \n",
    "            data_list.append([sentence_id, dataframe[\"title\"].iloc[row_number], sentence.text])\n",
    "            \n",
    "            sentence_number += 1\n",
    "            \n",
    "    new_dataframe = pd.DataFrame(data_list, columns=[\"sentence_id\", \"title\", \"sentence\"])\n",
    "    \n",
    "    return new_dataframe"
   ]
  },
  {
   "cell_type": "code",
   "execution_count": 5,
   "metadata": {},
   "outputs": [],
   "source": [
    "# Create a dataframe that contains in each row one single sentence\n",
    "# and its corresponding title and sentence ID as \n",
    "# its unique identifier: sentences_df\n",
    "sentences_df = single_sentences(abstract_df)"
   ]
  },
  {
   "cell_type": "code",
   "execution_count": 6,
   "metadata": {},
   "outputs": [
    {
     "name": "stdout",
     "output_type": "stream",
     "text": [
      "<class 'pandas.core.frame.DataFrame'>\n",
      "RangeIndex: 216 entries, 0 to 215\n",
      "Data columns (total 3 columns):\n",
      " #   Column       Non-Null Count  Dtype \n",
      "---  ------       --------------  ----- \n",
      " 0   sentence_id  216 non-null    object\n",
      " 1   title        216 non-null    object\n",
      " 2   sentence     216 non-null    object\n",
      "dtypes: object(3)\n",
      "memory usage: 5.2+ KB\n"
     ]
    }
   ],
   "source": [
    "sentences_df.info()"
   ]
  },
  {
   "cell_type": "code",
   "execution_count": 7,
   "metadata": {},
   "outputs": [
    {
     "data": {
      "text/html": [
       "<div>\n",
       "<style scoped>\n",
       "    .dataframe tbody tr th:only-of-type {\n",
       "        vertical-align: middle;\n",
       "    }\n",
       "\n",
       "    .dataframe tbody tr th {\n",
       "        vertical-align: top;\n",
       "    }\n",
       "\n",
       "    .dataframe thead th {\n",
       "        text-align: right;\n",
       "    }\n",
       "</style>\n",
       "<table border=\"1\" class=\"dataframe\">\n",
       "  <thead>\n",
       "    <tr style=\"text-align: right;\">\n",
       "      <th></th>\n",
       "      <th>sentence_id</th>\n",
       "      <th>title</th>\n",
       "      <th>sentence</th>\n",
       "    </tr>\n",
       "  </thead>\n",
       "  <tbody>\n",
       "    <tr>\n",
       "      <th>0</th>\n",
       "      <td>pub.1126880632-0</td>\n",
       "      <td>COVID-19 and what pediatric rheumatologists sh...</td>\n",
       "      <td>On March 11th, 2020 the World Health Organizat...</td>\n",
       "    </tr>\n",
       "    <tr>\n",
       "      <th>1</th>\n",
       "      <td>pub.1126880632-1</td>\n",
       "      <td>COVID-19 and what pediatric rheumatologists sh...</td>\n",
       "      <td>The infection, transmitted by 2019 novel coron...</td>\n",
       "    </tr>\n",
       "    <tr>\n",
       "      <th>2</th>\n",
       "      <td>pub.1126880632-2</td>\n",
       "      <td>COVID-19 and what pediatric rheumatologists sh...</td>\n",
       "      <td>Italy was early and severely involved, with a ...</td>\n",
       "    </tr>\n",
       "  </tbody>\n",
       "</table>\n",
       "</div>"
      ],
      "text/plain": [
       "        sentence_id                                              title  \\\n",
       "0  pub.1126880632-0  COVID-19 and what pediatric rheumatologists sh...   \n",
       "1  pub.1126880632-1  COVID-19 and what pediatric rheumatologists sh...   \n",
       "2  pub.1126880632-2  COVID-19 and what pediatric rheumatologists sh...   \n",
       "\n",
       "                                            sentence  \n",
       "0  On March 11th, 2020 the World Health Organizat...  \n",
       "1  The infection, transmitted by 2019 novel coron...  \n",
       "2  Italy was early and severely involved, with a ...  "
      ]
     },
     "execution_count": 7,
     "metadata": {},
     "output_type": "execute_result"
    }
   ],
   "source": [
    "sentences_df.head(3)"
   ]
  },
  {
   "cell_type": "code",
   "execution_count": 8,
   "metadata": {},
   "outputs": [],
   "source": [
    "# Make list of sentences (Doc-object) \n",
    "# from column 'sentence' of dataframe 'sentences_df':\n",
    "# doc_list\n",
    "doc_list = list(nlp.pipe(sentences_df[\"sentence\"].to_list()))"
   ]
  },
  {
   "cell_type": "code",
   "execution_count": 9,
   "metadata": {},
   "outputs": [
    {
     "data": {
      "text/plain": [
       "216"
      ]
     },
     "execution_count": 9,
     "metadata": {},
     "output_type": "execute_result"
    }
   ],
   "source": [
    "len(doc_list)"
   ]
  },
  {
   "cell_type": "markdown",
   "metadata": {},
   "source": [
    "## 4 Filter Sentences"
   ]
  },
  {
   "cell_type": "markdown",
   "metadata": {},
   "source": [
    "### 4.1 Filter by Verb"
   ]
  },
  {
   "cell_type": "markdown",
   "metadata": {},
   "source": [
    "**General Patterns:**\n",
    "\n",
    ">`[{\"POS\": \"VERB\", \"DEP\": \"ROOT\", \"LEMMA\": {\"IN\": verbs}}]`\n",
    "\n",
    "or\n",
    "\n",
    ">`[{\"POS\": \"VERB\", \"DEP\": \"xcomp\", \"LEMMA\": {\"IN\": verbs}}]`\n",
    "\n",
    "**Verbs that express a Support-Relation:**\n",
    "\n",
    "* confirm\n",
    "* find\n",
    "* indicate\n",
    "* reveal\n",
    "* show\n",
    "* suggest\n",
    "* support"
   ]
  },
  {
   "cell_type": "code",
   "execution_count": 10,
   "metadata": {},
   "outputs": [
    {
     "data": {
      "text/plain": [
       "'open clausal complement'"
      ]
     },
     "execution_count": 10,
     "metadata": {},
     "output_type": "execute_result"
    }
   ],
   "source": [
    "spacy.explain(\"xcomp\")"
   ]
  },
  {
   "cell_type": "code",
   "execution_count": 11,
   "metadata": {},
   "outputs": [],
   "source": [
    "# Make  verb_matcher\n",
    "verb_matcher = Matcher(nlp.vocab, validate=True)"
   ]
  },
  {
   "cell_type": "code",
   "execution_count": 12,
   "metadata": {},
   "outputs": [],
   "source": [
    "# List of verbs\n",
    "verbs = [\"find\", \"indicate\", \"reveal\", \"show\", \"suggest\", \"support\"]\n",
    "\n",
    "# Make patterns\n",
    "verb_pattern = [{\"POS\": \"VERB\", \"DEP\": \"ROOT\", \"LEMMA\": {\"IN\": verbs}}]\n",
    "confirm_pattern = [{\"POS\": \"VERB\", \"DEP\": \"xcomp\", \"LEMMA\": \"confirm\"}]"
   ]
  },
  {
   "cell_type": "code",
   "execution_count": 13,
   "metadata": {},
   "outputs": [],
   "source": [
    "# Add patterns to matcher\n",
    "verb_matcher.add(\"SUPPORT_VERB_ID\", None, verb_pattern, confirm_pattern)"
   ]
  },
  {
   "cell_type": "code",
   "execution_count": 14,
   "metadata": {},
   "outputs": [],
   "source": [
    "verb_filtered_docs = [doc for doc in doc_list if len(verb_matcher(doc)) > 0]"
   ]
  },
  {
   "cell_type": "markdown",
   "metadata": {},
   "source": [
    "### 4.2 Filter by Noun"
   ]
  },
  {
   "cell_type": "markdown",
   "metadata": {},
   "source": [
    "**General Pattern:**\n",
    "\n",
    ">`[{\"DEP\": \"nsubj\", \"LEMMA\": noun}]`\n",
    "\n",
    "**Nouns that indicate Evidence:**\n",
    "\n",
    "* analysis\n",
    "* evidence\n",
    "* finding\n",
    "* result\n",
    "* survey\n",
    "* trial\n",
    "\n",
    "**Pronoun, 1st person, plural:**\n",
    "\n",
    "* we (\"-PRON-\")"
   ]
  },
  {
   "cell_type": "code",
   "execution_count": 15,
   "metadata": {},
   "outputs": [],
   "source": [
    "# Make another matcher: 'noun_matcher'\n",
    "noun_matcher = Matcher(nlp.vocab, validate=True)"
   ]
  },
  {
   "cell_type": "code",
   "execution_count": 16,
   "metadata": {},
   "outputs": [],
   "source": [
    "# Make patterns to search for certain (evidence) nouns\n",
    "analysis_pattern = [{\"DEP\": \"nsubj\", \"LEMMA\": \"analysis\"}]\n",
    "evidence_pattern = [{\"DEP\": \"nsubj\", \"LEMMA\": \"evidence\"}]\n",
    "finding_pattern = [{\"DEP\": \"nsubj\", \"LEMMA\": \"finding\"}]\n",
    "\n",
    "result_pattern = [{\"DEP\": \"nsubj\", \"LEMMA\": \"result\"}]\n",
    "survey_pattern = [{\"DEP\": \"nsubj\", \"LEMMA\": \"survey\"}]\n",
    "trial_pattern = [{\"LEMMA\": \"trial\"}]\n",
    "\n",
    "# Make pattern to search for \"we\"\n",
    "we_pattern = [{\"DEP\": \"nsubj\", \"LEMMA\": \"-PRON-\"}]"
   ]
  },
  {
   "cell_type": "code",
   "execution_count": 17,
   "metadata": {},
   "outputs": [],
   "source": [
    "# Add Patterns to 'noun_matcher'\n",
    "noun_matcher.add(\"NOUN_ID\", None, analysis_pattern, evidence_pattern, finding_pattern, result_pattern, \n",
    "                     survey_pattern, trial_pattern, we_pattern)"
   ]
  },
  {
   "cell_type": "code",
   "execution_count": 18,
   "metadata": {},
   "outputs": [],
   "source": [
    "# Make a list of further filtered sentences: 'noun_filtered_docs'\n",
    "noun_filtered_docs = [doc for doc in verb_filtered_docs if len(noun_matcher(doc)) > 0]"
   ]
  },
  {
   "cell_type": "code",
   "execution_count": 19,
   "metadata": {},
   "outputs": [
    {
     "name": "stdout",
     "output_type": "stream",
     "text": [
      "Number of Sentences in 'doc_list': 216\n",
      "Number of Sentences in 'verb_filtered_docs': 15\n",
      "Number of Sentences in 'noun_filtered_docs': 12\n"
     ]
    }
   ],
   "source": [
    "print(f\"Number of Sentences in 'doc_list': {len(doc_list)}\")\n",
    "print(f\"Number of Sentences in 'verb_filtered_docs': {len(verb_filtered_docs)}\")\n",
    "print(f\"Number of Sentences in 'noun_filtered_docs': {len(noun_filtered_docs)}\")"
   ]
  },
  {
   "cell_type": "markdown",
   "metadata": {},
   "source": [
    "### 4.3 Filter Dataframe by Relevant Sentences"
   ]
  },
  {
   "cell_type": "code",
   "execution_count": 20,
   "metadata": {},
   "outputs": [],
   "source": [
    "# Filter dataframe 'sentences_df' in order to have an new dataframe ('filtered_sentences_df')\n",
    "# that it only contains sentences that are relevant, i.e. sentences that were matched both \n",
    "# by 'verb_matcher' and 'noun_matcher'.\n",
    "# In order to filter 'sentences_df' make a list of str-objects from 'noun_filtered_docs': filtered_strings\n",
    "filtered_strings = [doc.text for doc in noun_filtered_docs]"
   ]
  },
  {
   "cell_type": "code",
   "execution_count": 21,
   "metadata": {},
   "outputs": [],
   "source": [
    "# Filter 'sentences_df':\n",
    "# Take only those rows where sentence in column 'sentence' is a member of 'filtered_strings'\n",
    "# Store this filtered dataframe in 'filtered_sentences_df'\n",
    "filtered_sentences_df = sentences_df.loc[sentences_df[\"sentence\"].isin(filtered_strings)]"
   ]
  },
  {
   "cell_type": "code",
   "execution_count": 22,
   "metadata": {},
   "outputs": [],
   "source": [
    "# Make proper index for 'filtered_sentences_df'\n",
    "\n",
    "## Reset index\n",
    "filtered_sentences_df = filtered_sentences_df.reset_index()\n",
    "\n",
    "## Drop column 'index'\n",
    "filtered_sentences_df = filtered_sentences_df.drop(columns=[\"index\"])"
   ]
  },
  {
   "cell_type": "code",
   "execution_count": 23,
   "metadata": {},
   "outputs": [
    {
     "data": {
      "text/html": [
       "<div>\n",
       "<style scoped>\n",
       "    .dataframe tbody tr th:only-of-type {\n",
       "        vertical-align: middle;\n",
       "    }\n",
       "\n",
       "    .dataframe tbody tr th {\n",
       "        vertical-align: top;\n",
       "    }\n",
       "\n",
       "    .dataframe thead th {\n",
       "        text-align: right;\n",
       "    }\n",
       "</style>\n",
       "<table border=\"1\" class=\"dataframe\">\n",
       "  <thead>\n",
       "    <tr style=\"text-align: right;\">\n",
       "      <th></th>\n",
       "      <th>sentence_id</th>\n",
       "      <th>title</th>\n",
       "      <th>sentence</th>\n",
       "    </tr>\n",
       "  </thead>\n",
       "  <tbody>\n",
       "    <tr>\n",
       "      <th>0</th>\n",
       "      <td>pub.1127834352-20</td>\n",
       "      <td>Hydroxychloroquine or chloroquine with or with...</td>\n",
       "      <td>We were unable to confirm a benefit of hydroxy...</td>\n",
       "    </tr>\n",
       "    <tr>\n",
       "      <th>1</th>\n",
       "      <td>pub.1127182972-1</td>\n",
       "      <td>An independent appraisal and re-analysis of hy...</td>\n",
       "      <td>This re-analysis reveals severe limitations in...</td>\n",
       "    </tr>\n",
       "    <tr>\n",
       "      <th>2</th>\n",
       "      <td>pub.1126839717-12</td>\n",
       "      <td>Hydroxychloroquine Versus COVID-19: A Periodic...</td>\n",
       "      <td>The results of the meta-analysis on comparativ...</td>\n",
       "    </tr>\n",
       "    <tr>\n",
       "      <th>3</th>\n",
       "      <td>pub.1126839717-19</td>\n",
       "      <td>Hydroxychloroquine Versus COVID-19: A Periodic...</td>\n",
       "      <td>Meta-analysis indicated no significant prophyl...</td>\n",
       "    </tr>\n",
       "    <tr>\n",
       "      <th>4</th>\n",
       "      <td>pub.1126839717-21</td>\n",
       "      <td>Hydroxychloroquine Versus COVID-19: A Periodic...</td>\n",
       "      <td>This systematic review and meta-analysis showe...</td>\n",
       "    </tr>\n",
       "    <tr>\n",
       "      <th>5</th>\n",
       "      <td>pub.1126655433-13</td>\n",
       "      <td>No evidence of clinical efficacy of hydroxychl...</td>\n",
       "      <td>These results do not support the use of HCQ in...</td>\n",
       "    </tr>\n",
       "    <tr>\n",
       "      <th>6</th>\n",
       "      <td>pub.1126626949-14</td>\n",
       "      <td>Chloroquine diphosphate in two different dosag...</td>\n",
       "      <td>Interpretation Preliminary findings suggest th...</td>\n",
       "    </tr>\n",
       "    <tr>\n",
       "      <th>7</th>\n",
       "      <td>pub.1126596624-8</td>\n",
       "      <td>Rheumatologists’ perspective on coronavirus di...</td>\n",
       "      <td>Preliminary evidence suggests potential benefi...</td>\n",
       "    </tr>\n",
       "    <tr>\n",
       "      <th>8</th>\n",
       "      <td>pub.1127408847-18</td>\n",
       "      <td>Efficacy of chloroquine and hydroxychloroquine...</td>\n",
       "      <td>We found that COVID-19 infections are highly p...</td>\n",
       "    </tr>\n",
       "    <tr>\n",
       "      <th>9</th>\n",
       "      <td>pub.1127408847-21</td>\n",
       "      <td>Efficacy of chloroquine and hydroxychloroquine...</td>\n",
       "      <td>The findings support the hypothesis that these...</td>\n",
       "    </tr>\n",
       "    <tr>\n",
       "      <th>10</th>\n",
       "      <td>pub.1125793694-14</td>\n",
       "      <td>Hydroxychloroquine and azithromycin as a treat...</td>\n",
       "      <td>Despite its small sample size, our survey show...</td>\n",
       "    </tr>\n",
       "    <tr>\n",
       "      <th>11</th>\n",
       "      <td>pub.1124953197-1</td>\n",
       "      <td>Breakthrough: Chloroquine phosphate has shown ...</td>\n",
       "      <td>Chloroquine phosphate, an old drug for treatme...</td>\n",
       "    </tr>\n",
       "  </tbody>\n",
       "</table>\n",
       "</div>"
      ],
      "text/plain": [
       "          sentence_id                                              title  \\\n",
       "0   pub.1127834352-20  Hydroxychloroquine or chloroquine with or with...   \n",
       "1    pub.1127182972-1  An independent appraisal and re-analysis of hy...   \n",
       "2   pub.1126839717-12  Hydroxychloroquine Versus COVID-19: A Periodic...   \n",
       "3   pub.1126839717-19  Hydroxychloroquine Versus COVID-19: A Periodic...   \n",
       "4   pub.1126839717-21  Hydroxychloroquine Versus COVID-19: A Periodic...   \n",
       "5   pub.1126655433-13  No evidence of clinical efficacy of hydroxychl...   \n",
       "6   pub.1126626949-14  Chloroquine diphosphate in two different dosag...   \n",
       "7    pub.1126596624-8  Rheumatologists’ perspective on coronavirus di...   \n",
       "8   pub.1127408847-18  Efficacy of chloroquine and hydroxychloroquine...   \n",
       "9   pub.1127408847-21  Efficacy of chloroquine and hydroxychloroquine...   \n",
       "10  pub.1125793694-14  Hydroxychloroquine and azithromycin as a treat...   \n",
       "11   pub.1124953197-1  Breakthrough: Chloroquine phosphate has shown ...   \n",
       "\n",
       "                                             sentence  \n",
       "0   We were unable to confirm a benefit of hydroxy...  \n",
       "1   This re-analysis reveals severe limitations in...  \n",
       "2   The results of the meta-analysis on comparativ...  \n",
       "3   Meta-analysis indicated no significant prophyl...  \n",
       "4   This systematic review and meta-analysis showe...  \n",
       "5   These results do not support the use of HCQ in...  \n",
       "6   Interpretation Preliminary findings suggest th...  \n",
       "7   Preliminary evidence suggests potential benefi...  \n",
       "8   We found that COVID-19 infections are highly p...  \n",
       "9   The findings support the hypothesis that these...  \n",
       "10  Despite its small sample size, our survey show...  \n",
       "11  Chloroquine phosphate, an old drug for treatme...  "
      ]
     },
     "execution_count": 23,
     "metadata": {},
     "output_type": "execute_result"
    }
   ],
   "source": [
    "filtered_sentences_df"
   ]
  },
  {
   "cell_type": "markdown",
   "metadata": {},
   "source": [
    "## 5 Label Entities"
   ]
  },
  {
   "cell_type": "markdown",
   "metadata": {},
   "source": [
    "For the following see:\n",
    "\n",
    "[https://spacy.io/usage/rule-based-matching#entityruler](https://spacy.io/usage/rule-based-matching#entityruler)"
   ]
  },
  {
   "cell_type": "markdown",
   "metadata": {},
   "source": [
    "**Initialize EntityRuler**"
   ]
  },
  {
   "cell_type": "code",
   "execution_count": 24,
   "metadata": {},
   "outputs": [],
   "source": [
    "# Initialize spacy's EntityRuler: ruler\n",
    "ruler = EntityRuler(nlp, validate=True, overwrite_ents=True)"
   ]
  },
  {
   "cell_type": "markdown",
   "metadata": {},
   "source": [
    "**SUPPORT-Verbs**"
   ]
  },
  {
   "cell_type": "code",
   "execution_count": 25,
   "metadata": {},
   "outputs": [],
   "source": [
    "verb_patterns = [{\"label\": \"SUPP\", \"pattern\": [{\"POS\": \"VERB\", \"DEP\": \"ROOT\", \"LEMMA\": {\"IN\": [\"find\", \"indicate\", \"reveal\", \"show\", \"suggest\", \"support\"]}}]}, \n",
    "                 {\"label\": \"SUPP\", \"pattern\": [{\"POS\": \"VERB\", \"DEP\": \"xcomp\", \"LEMMA\": \"confirm\"}]}]"
   ]
  },
  {
   "cell_type": "markdown",
   "metadata": {},
   "source": [
    "**Nouns**"
   ]
  },
  {
   "cell_type": "code",
   "execution_count": 26,
   "metadata": {},
   "outputs": [],
   "source": [
    "evidence_patterns = [{'label': 'EVID', 'pattern': 'This re-analysis'},\n",
    "                     {'label': 'EVID', 'pattern': 'This systematic review and meta-analysis'},\n",
    "                     {'label': 'EVID', 'pattern': 'The results'},\n",
    "                     {'label': 'EVID', 'pattern': 'This systematic review and meta-analysis'},\n",
    "                     {'label': 'EVID', 'pattern': 'These results'},\n",
    "                     {'label': 'EVID', 'pattern': 'Interpretation Preliminary findings'},\n",
    "                     {'label': 'EVID', 'pattern': 'Preliminary evidence'},\n",
    "                     {'label': 'EVID', 'pattern': 'The findings'},\n",
    "                     {'label': 'EVID', 'pattern': 'our survey'}]"
   ]
  },
  {
   "cell_type": "code",
   "execution_count": 27,
   "metadata": {},
   "outputs": [],
   "source": [
    "trial_pattern = [{\"label\": \"EVID\", \"pattern\": \"multicenter clinical trials\"}]"
   ]
  },
  {
   "cell_type": "code",
   "execution_count": 28,
   "metadata": {},
   "outputs": [],
   "source": [
    "we_pattern = [{\"label\": \"SCI\", \"pattern\": \"We\"}]"
   ]
  },
  {
   "cell_type": "markdown",
   "metadata": {},
   "source": [
    "**Negations**"
   ]
  },
  {
   "cell_type": "code",
   "execution_count": 29,
   "metadata": {},
   "outputs": [],
   "source": [
    "negation_patterns = [{\"label\": \"NEG\", \"pattern\": [{\"LEMMA\": {\"IN\": [\"not\", \"no\", \"unable\"]}}]}]"
   ]
  },
  {
   "cell_type": "markdown",
   "metadata": {},
   "source": [
    "**Apply Ruler to Sentences**"
   ]
  },
  {
   "cell_type": "code",
   "execution_count": 30,
   "metadata": {},
   "outputs": [
    {
     "name": "stderr",
     "output_type": "stream",
     "text": [
      "C:\\Users\\Tobias_lokal\\anaconda3\\lib\\site-packages\\spacy\\pipeline\\entityruler.py:250: UserWarning: [W012] A Doc object you're adding to the PhraseMatcher for pattern 'EVID' is parsed and/or tagged, but to match on 'ORTH', you don't actually need this information. This means that creating the patterns is potentially much slower, because all pipeline components are applied. To only create tokenized Doc objects, try using `nlp.make_doc(text)` or process all texts as a stream using `list(nlp.tokenizer.pipe(all_texts))`.\n",
      "  self.phrase_matcher.add(label, patterns)\n",
      "C:\\Users\\Tobias_lokal\\anaconda3\\lib\\site-packages\\spacy\\pipeline\\entityruler.py:250: UserWarning: [W012] A Doc object you're adding to the PhraseMatcher for pattern 'SCI' is parsed and/or tagged, but to match on 'ORTH', you don't actually need this information. This means that creating the patterns is potentially much slower, because all pipeline components are applied. To only create tokenized Doc objects, try using `nlp.make_doc(text)` or process all texts as a stream using `list(nlp.tokenizer.pipe(all_texts))`.\n",
      "  self.phrase_matcher.add(label, patterns)\n"
     ]
    }
   ],
   "source": [
    "# Add patterns to ruler\n",
    "ruler.add_patterns(verb_patterns)\n",
    "ruler.add_patterns(evidence_patterns)\n",
    "ruler.add_patterns(trial_pattern)\n",
    "ruler.add_patterns(we_pattern)\n",
    "ruler.add_patterns(negation_patterns)"
   ]
  },
  {
   "cell_type": "code",
   "execution_count": 31,
   "metadata": {},
   "outputs": [],
   "source": [
    "# Add ruler to pipline of the nlp-object\n",
    "nlp.add_pipe(ruler)"
   ]
  },
  {
   "cell_type": "code",
   "execution_count": 32,
   "metadata": {},
   "outputs": [],
   "source": [
    "# Make list of Doc-objects from 'filtered_sentences_df[\"sentence\"]': docs\n",
    "docs = list(nlp.pipe(filtered_sentences_df[\"sentence\"].to_list()))"
   ]
  },
  {
   "cell_type": "code",
   "execution_count": 33,
   "metadata": {},
   "outputs": [
    {
     "data": {
      "text/html": [
       "<span class=\"tex2jax_ignore\"><div class=\"entities\" style=\"line-height: 2.5; direction: ltr\">\n",
       "<mark class=\"entity\" style=\"background: #ddd; padding: 0.45em 0.6em; margin: 0 0.25em; line-height: 1; border-radius: 0.35em;\">\n",
       "    These results\n",
       "    <span style=\"font-size: 0.8em; font-weight: bold; line-height: 1; border-radius: 0.35em; text-transform: uppercase; vertical-align: middle; margin-left: 0.5rem\">EVID</span>\n",
       "</mark>\n",
       " do \n",
       "<mark class=\"entity\" style=\"background: #ddd; padding: 0.45em 0.6em; margin: 0 0.25em; line-height: 1; border-radius: 0.35em;\">\n",
       "    not\n",
       "    <span style=\"font-size: 0.8em; font-weight: bold; line-height: 1; border-radius: 0.35em; text-transform: uppercase; vertical-align: middle; margin-left: 0.5rem\">NEG</span>\n",
       "</mark>\n",
       " \n",
       "<mark class=\"entity\" style=\"background: #ddd; padding: 0.45em 0.6em; margin: 0 0.25em; line-height: 1; border-radius: 0.35em;\">\n",
       "    support\n",
       "    <span style=\"font-size: 0.8em; font-weight: bold; line-height: 1; border-radius: 0.35em; text-transform: uppercase; vertical-align: middle; margin-left: 0.5rem\">SUPP</span>\n",
       "</mark>\n",
       " the use of HCQ in patients hospitalised for documented SARS-CoV-2-positive hypoxic pneumonia.</div></span>"
      ],
      "text/plain": [
       "<IPython.core.display.HTML object>"
      ]
     },
     "metadata": {},
     "output_type": "display_data"
    }
   ],
   "source": [
    "# Show an example: Sentence with Named Entities\n",
    "displacy.render(docs[5], style=\"ent\", jupyter=True)"
   ]
  },
  {
   "cell_type": "markdown",
   "metadata": {},
   "source": [
    "## 6 Disagreement Pairs"
   ]
  },
  {
   "cell_type": "markdown",
   "metadata": {},
   "source": [
    "### 6.1 Separating Sentences with Regard to Negation"
   ]
  },
  {
   "cell_type": "code",
   "execution_count": 34,
   "metadata": {},
   "outputs": [],
   "source": [
    "# Make 'negation_matcher'\n",
    "negation_matcher = Matcher(nlp.vocab, validate=True)"
   ]
  },
  {
   "cell_type": "code",
   "execution_count": 35,
   "metadata": {},
   "outputs": [],
   "source": [
    "# Negation Pattern\n",
    "negation_pattern = [{\"LEMMA\": {\"IN\": [\"not\", \"no\", \"unable\"]}}]"
   ]
  },
  {
   "cell_type": "code",
   "execution_count": 36,
   "metadata": {},
   "outputs": [],
   "source": [
    "# Add 'negation_pattern' to 'negation_matcher'\n",
    "negation_matcher.add(\"NEGATION_ID\", None, negation_pattern)"
   ]
  },
  {
   "cell_type": "code",
   "execution_count": 37,
   "metadata": {},
   "outputs": [],
   "source": [
    "# List of affirmative sentences: sents\n",
    "sents = []"
   ]
  },
  {
   "cell_type": "code",
   "execution_count": 38,
   "metadata": {},
   "outputs": [],
   "source": [
    "# List of negated sentences: negated_sents\n",
    "negated_sents = []"
   ]
  },
  {
   "cell_type": "code",
   "execution_count": 39,
   "metadata": {},
   "outputs": [],
   "source": [
    "# Define function which sorts sentences into two groups \n",
    "# depending on whether a sentence is affirmative or negated\n",
    "def negation_filter(sent_list):\n",
    "    for doc in sent_list:\n",
    "        if len(negation_matcher(doc)) > 0:\n",
    "            negated_sents.append(doc)\n",
    "        else:\n",
    "            sents.append(doc)"
   ]
  },
  {
   "cell_type": "code",
   "execution_count": 40,
   "metadata": {},
   "outputs": [],
   "source": [
    "# Sort sentences in 'docs'\n",
    "negation_filter(docs)"
   ]
  },
  {
   "cell_type": "markdown",
   "metadata": {},
   "source": [
    "### 6.2 Pairs of Disagreeing Sentences"
   ]
  },
  {
   "cell_type": "code",
   "execution_count": 41,
   "metadata": {},
   "outputs": [],
   "source": [
    "# Create 'span_matcher'\n",
    "# Purpose: Slice Doc-objects in 'sents' and 'negated_sents' into Span-objects\n",
    "# The Span-objects are needed to compute similarity\n",
    "span_matcher = Matcher(nlp.vocab, validate=True)\n",
    "\n",
    "span_pattern_1 = [{\"POS\": \"VERB\", \"DEP\": \"ROOT\", \"LEMMA\": {\"IN\": [\"find\", \"indicate\", \"reveal\", \"show\", \"suggest\", \"support\"]}}]\n",
    "span_pattern_2 = [{\"POS\": \"VERB\", \"DEP\": \"xcomp\", \"LEMMA\": \"confirm\"}]\n",
    "\n",
    "span_matcher.add(\"SPAN_ID\", None, span_pattern_1, span_pattern_2)"
   ]
  },
  {
   "cell_type": "code",
   "execution_count": 42,
   "metadata": {},
   "outputs": [],
   "source": [
    "# Define a function that creates pairs of disagreeing sentences and stores each pair in a list: disagreement_pairs()\n",
    "def disagreement_pairs(list_of_affirmative_sentences, list_of_negated_sentences):\n",
    "    \n",
    "    # List of pairs of disagreeing sentences: pairs_of_disagreeing_sentences\n",
    "    # This list shall be returned be the function\n",
    "    pairs_of_disagreeing_sentences = []\n",
    "    \n",
    "    # 1. Loop (\"outer loop\"): Iterate over all Doc-objects in 'list_of_affirmative_sentences'\n",
    "    for doc in list_of_affirmative_sentences:\n",
    "        # Slice Doc-object into Span-object with the help of 'span_matcher': span1\n",
    "        for match_id, start, end in span_matcher(doc):\n",
    "            span1 = doc[end:]\n",
    "         \n",
    "        # 2. Loop (\"inner loop\"): Iterate over all Doc-objects in 'list_of_negated_sentences'\n",
    "        for doc_neg in list_of_negated_sentences:\n",
    "            # Slice Doc-object into Span-object with the help of 'span_matcher': span2 \n",
    "            for match_id, start, end in span_matcher(doc_neg):\n",
    "                span2 = doc_neg[end + 1:]\n",
    "            \n",
    "            # If Span-object 1 and Span-object 2 have a certain degree of similarity\n",
    "            # then make a pair of the corresponding sentences and add the pair to \n",
    "            # the list 'pairs_of_disagreeing_sentences'\n",
    "            if span1.similarity(span2) >= 0.87:\n",
    "                pairs_of_disagreeing_sentences.append((doc, doc_neg))\n",
    "    \n",
    "    # Return the list of pairs which sentences show disagreement\n",
    "    return pairs_of_disagreeing_sentences"
   ]
  },
  {
   "cell_type": "code",
   "execution_count": 43,
   "metadata": {},
   "outputs": [],
   "source": [
    "# Make a list of pairs of disagreeing sentences from 'sents' and 'negated_sents': disagreementPairs\n",
    "disagreementPairs = disagreement_pairs(sents, negated_sents)"
   ]
  },
  {
   "cell_type": "code",
   "execution_count": 44,
   "metadata": {},
   "outputs": [
    {
     "name": "stdout",
     "output_type": "stream",
     "text": [
      "==========\n",
      "\n",
      "(PRO)\n",
      "\n"
     ]
    },
    {
     "data": {
      "text/html": [
       "<span class=\"tex2jax_ignore\"><div class=\"entities\" style=\"line-height: 2.5; direction: ltr\">\n",
       "<mark class=\"entity\" style=\"background: #ddd; padding: 0.45em 0.6em; margin: 0 0.25em; line-height: 1; border-radius: 0.35em;\">\n",
       "    The findings\n",
       "    <span style=\"font-size: 0.8em; font-weight: bold; line-height: 1; border-radius: 0.35em; text-transform: uppercase; vertical-align: middle; margin-left: 0.5rem\">EVID</span>\n",
       "</mark>\n",
       " \n",
       "<mark class=\"entity\" style=\"background: #ddd; padding: 0.45em 0.6em; margin: 0 0.25em; line-height: 1; border-radius: 0.35em;\">\n",
       "    support\n",
       "    <span style=\"font-size: 0.8em; font-weight: bold; line-height: 1; border-radius: 0.35em; text-transform: uppercase; vertical-align: middle; margin-left: 0.5rem\">SUPP</span>\n",
       "</mark>\n",
       " the hypothesis that these drugs have efficacy in the treatment of COVID-19.</div></span>"
      ],
      "text/plain": [
       "<IPython.core.display.HTML object>"
      ]
     },
     "metadata": {},
     "output_type": "display_data"
    },
    {
     "name": "stdout",
     "output_type": "stream",
     "text": [
      "\n",
      "(CON)\n",
      "\n"
     ]
    },
    {
     "data": {
      "text/html": [
       "<span class=\"tex2jax_ignore\"><div class=\"entities\" style=\"line-height: 2.5; direction: ltr\">\n",
       "<mark class=\"entity\" style=\"background: #ddd; padding: 0.45em 0.6em; margin: 0 0.25em; line-height: 1; border-radius: 0.35em;\">\n",
       "    Interpretation Preliminary findings\n",
       "    <span style=\"font-size: 0.8em; font-weight: bold; line-height: 1; border-radius: 0.35em; text-transform: uppercase; vertical-align: middle; margin-left: 0.5rem\">EVID</span>\n",
       "</mark>\n",
       " \n",
       "<mark class=\"entity\" style=\"background: #ddd; padding: 0.45em 0.6em; margin: 0 0.25em; line-height: 1; border-radius: 0.35em;\">\n",
       "    suggest\n",
       "    <span style=\"font-size: 0.8em; font-weight: bold; line-height: 1; border-radius: 0.35em; text-transform: uppercase; vertical-align: middle; margin-left: 0.5rem\">SUPP</span>\n",
       "</mark>\n",
       " that the higher \n",
       "<mark class=\"entity\" style=\"background: #7aecec; padding: 0.45em 0.6em; margin: 0 0.25em; line-height: 1; border-radius: 0.35em;\">\n",
       "    CQ\n",
       "    <span style=\"font-size: 0.8em; font-weight: bold; line-height: 1; border-radius: 0.35em; text-transform: uppercase; vertical-align: middle; margin-left: 0.5rem\">ORG</span>\n",
       "</mark>\n",
       " dosage (\n",
       "<mark class=\"entity\" style=\"background: #bfe1d9; padding: 0.45em 0.6em; margin: 0 0.25em; line-height: 1; border-radius: 0.35em;\">\n",
       "    10-day\n",
       "    <span style=\"font-size: 0.8em; font-weight: bold; line-height: 1; border-radius: 0.35em; text-transform: uppercase; vertical-align: middle; margin-left: 0.5rem\">DATE</span>\n",
       "</mark>\n",
       " regimen) should \n",
       "<mark class=\"entity\" style=\"background: #ddd; padding: 0.45em 0.6em; margin: 0 0.25em; line-height: 1; border-radius: 0.35em;\">\n",
       "    not\n",
       "    <span style=\"font-size: 0.8em; font-weight: bold; line-height: 1; border-radius: 0.35em; text-transform: uppercase; vertical-align: middle; margin-left: 0.5rem\">NEG</span>\n",
       "</mark>\n",
       " be recommended for COVID-19 treatment because of its potential safety hazards.</div></span>"
      ],
      "text/plain": [
       "<IPython.core.display.HTML object>"
      ]
     },
     "metadata": {},
     "output_type": "display_data"
    },
    {
     "name": "stdout",
     "output_type": "stream",
     "text": [
      "\n",
      "\n",
      "==========\n",
      "\n",
      "(PRO)\n",
      "\n"
     ]
    },
    {
     "data": {
      "text/html": [
       "<span class=\"tex2jax_ignore\"><div class=\"entities\" style=\"line-height: 2.5; direction: ltr\">Despite its small sample size, \n",
       "<mark class=\"entity\" style=\"background: #ddd; padding: 0.45em 0.6em; margin: 0 0.25em; line-height: 1; border-radius: 0.35em;\">\n",
       "    our survey\n",
       "    <span style=\"font-size: 0.8em; font-weight: bold; line-height: 1; border-radius: 0.35em; text-transform: uppercase; vertical-align: middle; margin-left: 0.5rem\">EVID</span>\n",
       "</mark>\n",
       " \n",
       "<mark class=\"entity\" style=\"background: #ddd; padding: 0.45em 0.6em; margin: 0 0.25em; line-height: 1; border-radius: 0.35em;\">\n",
       "    shows\n",
       "    <span style=\"font-size: 0.8em; font-weight: bold; line-height: 1; border-radius: 0.35em; text-transform: uppercase; vertical-align: middle; margin-left: 0.5rem\">SUPP</span>\n",
       "</mark>\n",
       " that hydroxychloroquine treatment is significantly associated with viral load reduction/disappearance in COVID-19 patients and its effect is reinforced by azithromycin.</div></span>"
      ],
      "text/plain": [
       "<IPython.core.display.HTML object>"
      ]
     },
     "metadata": {},
     "output_type": "display_data"
    },
    {
     "name": "stdout",
     "output_type": "stream",
     "text": [
      "\n",
      "(CON)\n",
      "\n"
     ]
    },
    {
     "data": {
      "text/html": [
       "<span class=\"tex2jax_ignore\"><div class=\"entities\" style=\"line-height: 2.5; direction: ltr\">\n",
       "<mark class=\"entity\" style=\"background: #ddd; padding: 0.45em 0.6em; margin: 0 0.25em; line-height: 1; border-radius: 0.35em;\">\n",
       "    We\n",
       "    <span style=\"font-size: 0.8em; font-weight: bold; line-height: 1; border-radius: 0.35em; text-transform: uppercase; vertical-align: middle; margin-left: 0.5rem\">SCI</span>\n",
       "</mark>\n",
       " were \n",
       "<mark class=\"entity\" style=\"background: #ddd; padding: 0.45em 0.6em; margin: 0 0.25em; line-height: 1; border-radius: 0.35em;\">\n",
       "    unable\n",
       "    <span style=\"font-size: 0.8em; font-weight: bold; line-height: 1; border-radius: 0.35em; text-transform: uppercase; vertical-align: middle; margin-left: 0.5rem\">NEG</span>\n",
       "</mark>\n",
       " to \n",
       "<mark class=\"entity\" style=\"background: #ddd; padding: 0.45em 0.6em; margin: 0 0.25em; line-height: 1; border-radius: 0.35em;\">\n",
       "    confirm\n",
       "    <span style=\"font-size: 0.8em; font-weight: bold; line-height: 1; border-radius: 0.35em; text-transform: uppercase; vertical-align: middle; margin-left: 0.5rem\">SUPP</span>\n",
       "</mark>\n",
       " a benefit of hydroxychloroquine or chloroquine, when used alone or with a macrolide, on in-hospital outcomes for COVID-19.</div></span>"
      ],
      "text/plain": [
       "<IPython.core.display.HTML object>"
      ]
     },
     "metadata": {},
     "output_type": "display_data"
    },
    {
     "name": "stdout",
     "output_type": "stream",
     "text": [
      "\n",
      "\n",
      "==========\n",
      "\n",
      "(PRO)\n",
      "\n"
     ]
    },
    {
     "data": {
      "text/html": [
       "<span class=\"tex2jax_ignore\"><div class=\"entities\" style=\"line-height: 2.5; direction: ltr\">Despite its small sample size, \n",
       "<mark class=\"entity\" style=\"background: #ddd; padding: 0.45em 0.6em; margin: 0 0.25em; line-height: 1; border-radius: 0.35em;\">\n",
       "    our survey\n",
       "    <span style=\"font-size: 0.8em; font-weight: bold; line-height: 1; border-radius: 0.35em; text-transform: uppercase; vertical-align: middle; margin-left: 0.5rem\">EVID</span>\n",
       "</mark>\n",
       " \n",
       "<mark class=\"entity\" style=\"background: #ddd; padding: 0.45em 0.6em; margin: 0 0.25em; line-height: 1; border-radius: 0.35em;\">\n",
       "    shows\n",
       "    <span style=\"font-size: 0.8em; font-weight: bold; line-height: 1; border-radius: 0.35em; text-transform: uppercase; vertical-align: middle; margin-left: 0.5rem\">SUPP</span>\n",
       "</mark>\n",
       " that hydroxychloroquine treatment is significantly associated with viral load reduction/disappearance in COVID-19 patients and its effect is reinforced by azithromycin.</div></span>"
      ],
      "text/plain": [
       "<IPython.core.display.HTML object>"
      ]
     },
     "metadata": {},
     "output_type": "display_data"
    },
    {
     "name": "stdout",
     "output_type": "stream",
     "text": [
      "\n",
      "(CON)\n",
      "\n"
     ]
    },
    {
     "data": {
      "text/html": [
       "<span class=\"tex2jax_ignore\"><div class=\"entities\" style=\"line-height: 2.5; direction: ltr\">\n",
       "<mark class=\"entity\" style=\"background: #ddd; padding: 0.45em 0.6em; margin: 0 0.25em; line-height: 1; border-radius: 0.35em;\">\n",
       "    This systematic review and meta-analysis\n",
       "    <span style=\"font-size: 0.8em; font-weight: bold; line-height: 1; border-radius: 0.35em; text-transform: uppercase; vertical-align: middle; margin-left: 0.5rem\">EVID</span>\n",
       "</mark>\n",
       " \n",
       "<mark class=\"entity\" style=\"background: #ddd; padding: 0.45em 0.6em; margin: 0 0.25em; line-height: 1; border-radius: 0.35em;\">\n",
       "    showed\n",
       "    <span style=\"font-size: 0.8em; font-weight: bold; line-height: 1; border-radius: 0.35em; text-transform: uppercase; vertical-align: middle; margin-left: 0.5rem\">SUPP</span>\n",
       "</mark>\n",
       " \n",
       "<mark class=\"entity\" style=\"background: #ddd; padding: 0.45em 0.6em; margin: 0 0.25em; line-height: 1; border-radius: 0.35em;\">\n",
       "    no\n",
       "    <span style=\"font-size: 0.8em; font-weight: bold; line-height: 1; border-radius: 0.35em; text-transform: uppercase; vertical-align: middle; margin-left: 0.5rem\">NEG</span>\n",
       "</mark>\n",
       " clinical benefits regarding HCQ treatment with/without azithromycin for COVID-19 patients.</div></span>"
      ],
      "text/plain": [
       "<IPython.core.display.HTML object>"
      ]
     },
     "metadata": {},
     "output_type": "display_data"
    },
    {
     "name": "stdout",
     "output_type": "stream",
     "text": [
      "\n",
      "\n"
     ]
    }
   ],
   "source": [
    "# Show pairs of disagreeing sentences with highlighted entities\n",
    "for (doc, doc_neg) in disagreementPairs[2:5]:\n",
    "    print(\"==========\\n\")\n",
    "    print(\"(PRO)\\n\")\n",
    "    displacy.render(doc, style=\"ent\", jupyter=True)\n",
    "    print(\"\\n(CON)\\n\")\n",
    "    displacy.render(doc_neg, style=\"ent\", jupyter=True)\n",
    "    print(\"\\n\")"
   ]
  },
  {
   "cell_type": "code",
   "execution_count": 45,
   "metadata": {},
   "outputs": [
    {
     "data": {
      "text/plain": [
       "This re-analysis reveals severe limitations in the methodology of this study, including ambiguous inclusion/exclusion of participant data and inconsistent analysis techniques, and yielded nonsignificant differences between control and treatment groups across any treatment days."
      ]
     },
     "execution_count": 45,
     "metadata": {},
     "output_type": "execute_result"
    }
   ],
   "source": [
    "sents[0]"
   ]
  },
  {
   "cell_type": "code",
   "execution_count": null,
   "metadata": {},
   "outputs": [],
   "source": []
  }
 ],
 "metadata": {
  "kernelspec": {
   "display_name": "Python 3",
   "language": "python",
   "name": "python3"
  },
  "language_info": {
   "codemirror_mode": {
    "name": "ipython",
    "version": 3
   },
   "file_extension": ".py",
   "mimetype": "text/x-python",
   "name": "python",
   "nbconvert_exporter": "python",
   "pygments_lexer": "ipython3",
   "version": "3.7.6"
  }
 },
 "nbformat": 4,
 "nbformat_minor": 4
}
