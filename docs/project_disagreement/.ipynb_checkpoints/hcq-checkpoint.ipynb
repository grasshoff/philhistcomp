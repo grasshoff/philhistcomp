{
 "cells": [
  {
   "cell_type": "code",
   "execution_count": 3,
   "metadata": {},
   "outputs": [],
   "source": [
    "import tika\n",
    "tika.initVM()\n",
    "from tika import parser\n",
    "\n",
    "# borba-2020.pdf\n",
    "borba_parsed = parser.from_file(\"pdf/borba-2020.pdf\")\n",
    "borba_meta = borba_parsed[\"metadata\"]\n",
    "borba_content = borba_parsed[\"content\"]"
   ]
  },
  {
   "cell_type": "code",
   "execution_count": 5,
   "metadata": {},
   "outputs": [],
   "source": [
    "# chen-2020.pdf\n",
    "chen_parsed = parser.from_file(\"pdf/chen-2020.pdf\")\n",
    "chen_meta = chen_parsed[\"metadata\"]\n",
    "chen_content = chen_parsed[\"content\"]"
   ]
  },
  {
   "cell_type": "code",
   "execution_count": 12,
   "metadata": {},
   "outputs": [],
   "source": [
    "# esposito-2020.pdf\n",
    "esposito_parsed = parser.from_file(\"pdf/esposito-2020.pdf\")\n",
    "esposito_meta = esposito_parsed[\"metadata\"]\n",
    "esposito_content = esposito_parsed[\"content\"]"
   ]
  },
  {
   "cell_type": "code",
   "execution_count": 14,
   "metadata": {},
   "outputs": [],
   "source": [
    "# ferner-2020.pdf\n",
    "ferner_parsed = parser.from_file(\"pdf/ferner-2020.pdf\")\n",
    "ferner_meta = ferner_parsed[\"metadata\"]\n",
    "ferner_content = ferner_parsed[\"content\"]"
   ]
  },
  {
   "cell_type": "code",
   "execution_count": 17,
   "metadata": {},
   "outputs": [],
   "source": [
    "# gao-2020.pdf\n",
    "gao_parsed = parser.from_file(\"pdf/gao-2020.pdf\")\n",
    "gao_meta = gao_parsed[\"metadata\"]\n",
    "gao_content = gao_parsed[\"content\"]"
   ]
  },
  {
   "cell_type": "code",
   "execution_count": 20,
   "metadata": {},
   "outputs": [],
   "source": [
    "# gautret-2020.pdf\n",
    "gautret_parsed = parser.from_file(\"pdf/gautret-2020.pdf\")\n",
    "gautret_meta = gautret_parsed[\"metadata\"]\n",
    "gautret_content = gautret_parsed[\"content\"]"
   ]
  },
  {
   "cell_type": "code",
   "execution_count": 24,
   "metadata": {},
   "outputs": [],
   "source": [
    "# hu-2020.pdf\n",
    "hu_parsed = parser.from_file(\"pdf/hu-2020.pdf\")\n",
    "hu_meta = hu_parsed[\"metadata\"]\n",
    "hu_content = hu_parsed[\"content\"]"
   ]
  },
  {
   "cell_type": "code",
   "execution_count": 28,
   "metadata": {},
   "outputs": [],
   "source": [
    "# ingraham-2020.pdf\n",
    "ingraham_parsed = parser.from_file(\"pdf/ingraham-2020.pdf\")\n",
    "ingraham_meta = ingraham_parsed[\"metadata\"]\n",
    "ingraham_content = ingraham_parsed[\"content\"]"
   ]
  },
  {
   "cell_type": "code",
   "execution_count": 31,
   "metadata": {},
   "outputs": [],
   "source": [
    "# intson-2020.pdf\n",
    "intson_parsed = parser.from_file(\"pdf/intson-2020.pdf\")\n",
    "intson_meta = intson_parsed[\"metadata\"]\n",
    "intson_content = intson_parsed[\"content\"]"
   ]
  },
  {
   "cell_type": "code",
   "execution_count": 34,
   "metadata": {},
   "outputs": [],
   "source": [
    "# licciardi-2020.pdf\n",
    "licciardi_parsed = parser.from_file(\"pdf/licciardi-2020.pdf\")\n",
    "licciardi_meta = licciardi_parsed[\"metadata\"]\n",
    "licciardi_content = licciardi_parsed[\"content\"]"
   ]
  },
  {
   "cell_type": "code",
   "execution_count": 38,
   "metadata": {},
   "outputs": [],
   "source": [
    "# mahevas-2020.pdf\n",
    "mahevas_parsed = parser.from_file(\"pdf/mahevas-2020.pdf\")\n",
    "mahevas_meta = mahevas_parsed[\"metadata\"]\n",
    "mahevas_content = mahevas_parsed[\"content\"]"
   ]
  },
  {
   "cell_type": "code",
   "execution_count": 41,
   "metadata": {},
   "outputs": [],
   "source": [
    "# meo-2020.pdf\n",
    "meo_parsed = parser.from_file(\"pdf/meo-2020.pdf\")\n",
    "meo_meta = meo_parsed[\"metadata\"]\n",
    "meo_content = meo_parsed[\"content\"]"
   ]
  },
  {
   "cell_type": "code",
   "execution_count": 44,
   "metadata": {},
   "outputs": [],
   "source": [
    "# misra-2020.pdf\n",
    "misra_parsed = parser.from_file(\"pdf/misra-2020.pdf\")\n",
    "misra_meta = misra_parsed[\"metadata\"]\n",
    "misra_content = misra_parsed[\"content\"]"
   ]
  },
  {
   "cell_type": "code",
   "execution_count": 47,
   "metadata": {},
   "outputs": [],
   "source": [
    "# molina-2020.pdf\n",
    "molina_parsed = parser.from_file(\"pdf/molina-2020.pdf\")\n",
    "molina_meta = molina_parsed[\"metadata\"]\n",
    "molina_content = molina_parsed[\"content\"]"
   ]
  },
  {
   "cell_type": "code",
   "execution_count": 51,
   "metadata": {},
   "outputs": [],
   "source": [
    "# shamshirian-2020.pdf\n",
    "shamshirian_parsed = parser.from_file(\"pdf/shamshirian-2020.pdf\")\n",
    "shamshirian_meta = shamshirian_parsed[\"metadata\"]\n",
    "shamshirian_content = shamshirian_parsed[\"content\"]"
   ]
  },
  {
   "cell_type": "code",
   "execution_count": 55,
   "metadata": {},
   "outputs": [],
   "source": [
    "# sun-2020.pdf\n",
    "sun_parsed = parser.from_file(\"pdf/sun-2020.pdf\")\n",
    "sun_meta = sun_parsed[\"metadata\"]\n",
    "sun_content = sun_parsed[\"content\"]"
   ]
  },
  {
   "cell_type": "code",
   "execution_count": 58,
   "metadata": {},
   "outputs": [],
   "source": [
    "# tang-2020.pdf\n",
    "tang_parsed = parser.from_file(\"pdf/tang-2020.pdf\")\n",
    "tang_meta = tang_parsed[\"metadata\"]\n",
    "tang_content = tang_parsed[\"content\"]"
   ]
  },
  {
   "cell_type": "code",
   "execution_count": 61,
   "metadata": {},
   "outputs": [],
   "source": [
    "# touret-2020.pdf\n",
    "touret_parsed = parser.from_file(\"pdf/touret-2020.pdf\")\n",
    "touret_meta = touret_parsed[\"metadata\"]\n",
    "touret_content = touret_parsed[\"content\"]"
   ]
  }
 ],
 "metadata": {
  "kernelspec": {
   "display_name": "Python 3",
   "language": "python",
   "name": "python3"
  },
  "language_info": {
   "codemirror_mode": {
    "name": "ipython",
    "version": 3
   },
   "file_extension": ".py",
   "mimetype": "text/x-python",
   "name": "python",
   "nbconvert_exporter": "python",
   "pygments_lexer": "ipython3",
   "version": "3.7.6"
  }
 },
 "nbformat": 4,
 "nbformat_minor": 4
}
