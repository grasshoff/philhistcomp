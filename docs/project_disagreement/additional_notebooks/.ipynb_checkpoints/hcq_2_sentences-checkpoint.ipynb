{
 "cells": [
  {
   "cell_type": "markdown",
   "metadata": {},
   "source": [
    "# 2 Sentences"
   ]
  },
  {
   "cell_type": "markdown",
   "metadata": {},
   "source": [
    "## 0 Import Libraries"
   ]
  },
  {
   "cell_type": "code",
   "execution_count": 1,
   "metadata": {},
   "outputs": [],
   "source": [
    "import pandas as pd\n",
    "import spacy"
   ]
  },
  {
   "cell_type": "code",
   "execution_count": 2,
   "metadata": {},
   "outputs": [],
   "source": [
    "# Import English Library\n",
    "nlp = spacy.load(\"en_core_web_lg\", disable=[\"ner\"])"
   ]
  },
  {
   "cell_type": "markdown",
   "metadata": {},
   "source": [
    "## 1 Load Dataframe"
   ]
  },
  {
   "cell_type": "code",
   "execution_count": 3,
   "metadata": {},
   "outputs": [
    {
     "data": {
      "text/html": [
       "<div>\n",
       "<style scoped>\n",
       "    .dataframe tbody tr th:only-of-type {\n",
       "        vertical-align: middle;\n",
       "    }\n",
       "\n",
       "    .dataframe tbody tr th {\n",
       "        vertical-align: top;\n",
       "    }\n",
       "\n",
       "    .dataframe thead th {\n",
       "        text-align: right;\n",
       "    }\n",
       "</style>\n",
       "<table border=\"1\" class=\"dataframe\">\n",
       "  <thead>\n",
       "    <tr style=\"text-align: right;\">\n",
       "      <th></th>\n",
       "      <th>Publication ID</th>\n",
       "      <th>title</th>\n",
       "      <th>abstract_clean</th>\n",
       "    </tr>\n",
       "  </thead>\n",
       "  <tbody>\n",
       "    <tr>\n",
       "      <th>0</th>\n",
       "      <td>pub.1126880632</td>\n",
       "      <td>COVID-19 and what pediatric rheumatologists sh...</td>\n",
       "      <td>On March 11th, 2020 the World Health Organizat...</td>\n",
       "    </tr>\n",
       "    <tr>\n",
       "      <th>1</th>\n",
       "      <td>pub.1127834352</td>\n",
       "      <td>Hydroxychloroquine or chloroquine with or with...</td>\n",
       "      <td>BACKGROUND: Hydroxychloroquine or chloroquine,...</td>\n",
       "    </tr>\n",
       "    <tr>\n",
       "      <th>2</th>\n",
       "      <td>pub.1126667578</td>\n",
       "      <td>Hydroxychloroquine in patients mainly with mil...</td>\n",
       "      <td>Abstract Objectives To assess the efficacy and...</td>\n",
       "    </tr>\n",
       "  </tbody>\n",
       "</table>\n",
       "</div>"
      ],
      "text/plain": [
       "   Publication ID                                              title  \\\n",
       "0  pub.1126880632  COVID-19 and what pediatric rheumatologists sh...   \n",
       "1  pub.1127834352  Hydroxychloroquine or chloroquine with or with...   \n",
       "2  pub.1126667578  Hydroxychloroquine in patients mainly with mil...   \n",
       "\n",
       "                                      abstract_clean  \n",
       "0  On March 11th, 2020 the World Health Organizat...  \n",
       "1  BACKGROUND: Hydroxychloroquine or chloroquine,...  \n",
       "2  Abstract Objectives To assess the efficacy and...  "
      ]
     },
     "execution_count": 3,
     "metadata": {},
     "output_type": "execute_result"
    }
   ],
   "source": [
    "abstract_df = pd.read_json(\"../data/HCQ_clean_abstracts.json\")\n",
    "abstract_df.head(3)"
   ]
  },
  {
   "cell_type": "markdown",
   "metadata": {},
   "source": [
    "## 2 New Dataframe: From Abstracts to Sentences"
   ]
  },
  {
   "cell_type": "code",
   "execution_count": 4,
   "metadata": {},
   "outputs": [
    {
     "data": {
      "text/plain": [
       "Int64Index([0, 1, 2, 3, 4, 5, 6, 7, 8, 9, 10, 11, 12, 13, 14, 15, 16], dtype='int64')"
      ]
     },
     "execution_count": 4,
     "metadata": {},
     "output_type": "execute_result"
    }
   ],
   "source": [
    "# Show index of 'abstract_df' (these are the row numbers)\n",
    "abstract_df.index"
   ]
  },
  {
   "cell_type": "code",
   "execution_count": 5,
   "metadata": {},
   "outputs": [],
   "source": [
    "# Make a dataframe that\n",
    "## has a row for each sentence\n",
    "## assigns a unique id to each sentence\n",
    "## assigns the title of publication to each sentence\n",
    "\n",
    "def single_sentences(dataframe):            # this function is applied on a dataframe\n",
    "    data_list = []                          # create empty list-object: data_list\n",
    "      \n",
    "    for row_number in dataframe.index:      # for-loop iterates over index of all row numbers\n",
    "        sentence_number = 0                 # set counter\n",
    "        \n",
    "        for sentence in nlp(dataframe[\"abstract_clean\"].iloc[row_number]).sents:                    # for-loop iterates over\n",
    "                                                                                                    # all sentences in the\n",
    "                                                                                                    # nlp-object's 'sents'-\n",
    "                                                                                                    # attribute\n",
    "            \n",
    "            sentence_id = dataframe[\"Publication ID\"].iloc[row_number] + \"-\" + str(sentence_number) # Make sentence ID from\n",
    "                                                                                                    # Publication ID and\n",
    "                                                                                                    # sentence number\n",
    "            \n",
    "            data_list.append([sentence_id, dataframe[\"title\"].iloc[row_number], sentence.text])\n",
    "            \n",
    "            \n",
    "            sentence_number += 1                                                                    # increase counter\n",
    "                                                                                                    # ('sentence_number')\n",
    "                                                                                                    # by 1\n",
    "            \n",
    "    new_dataframe = pd.DataFrame(data_list, columns=[\"sentence_id\", \"title\", \"sentence\"])           # Make new dataframe\n",
    "                                                                                                    # from 'data_list'\n",
    "    \n",
    "    return new_dataframe"
   ]
  },
  {
   "cell_type": "code",
   "execution_count": 6,
   "metadata": {},
   "outputs": [],
   "source": [
    "# Create a dataframe that contains in each row one single sentence\n",
    "# and its corresponding title and sentence ID as \n",
    "# its unique identifier: sentences_df\n",
    "sentences_df = single_sentences(abstract_df)"
   ]
  },
  {
   "cell_type": "code",
   "execution_count": 7,
   "metadata": {},
   "outputs": [
    {
     "name": "stdout",
     "output_type": "stream",
     "text": [
      "<class 'pandas.core.frame.DataFrame'>\n",
      "RangeIndex: 216 entries, 0 to 215\n",
      "Data columns (total 3 columns):\n",
      " #   Column       Non-Null Count  Dtype \n",
      "---  ------       --------------  ----- \n",
      " 0   sentence_id  216 non-null    object\n",
      " 1   title        216 non-null    object\n",
      " 2   sentence     216 non-null    object\n",
      "dtypes: object(3)\n",
      "memory usage: 5.2+ KB\n"
     ]
    }
   ],
   "source": [
    "sentences_df.info()"
   ]
  },
  {
   "cell_type": "code",
   "execution_count": 8,
   "metadata": {},
   "outputs": [
    {
     "data": {
      "text/html": [
       "<div>\n",
       "<style scoped>\n",
       "    .dataframe tbody tr th:only-of-type {\n",
       "        vertical-align: middle;\n",
       "    }\n",
       "\n",
       "    .dataframe tbody tr th {\n",
       "        vertical-align: top;\n",
       "    }\n",
       "\n",
       "    .dataframe thead th {\n",
       "        text-align: right;\n",
       "    }\n",
       "</style>\n",
       "<table border=\"1\" class=\"dataframe\">\n",
       "  <thead>\n",
       "    <tr style=\"text-align: right;\">\n",
       "      <th></th>\n",
       "      <th>sentence_id</th>\n",
       "      <th>title</th>\n",
       "      <th>sentence</th>\n",
       "    </tr>\n",
       "  </thead>\n",
       "  <tbody>\n",
       "    <tr>\n",
       "      <th>0</th>\n",
       "      <td>pub.1126880632-0</td>\n",
       "      <td>COVID-19 and what pediatric rheumatologists sh...</td>\n",
       "      <td>On March 11th, 2020 the World Health Organizat...</td>\n",
       "    </tr>\n",
       "    <tr>\n",
       "      <th>1</th>\n",
       "      <td>pub.1126880632-1</td>\n",
       "      <td>COVID-19 and what pediatric rheumatologists sh...</td>\n",
       "      <td>The infection, transmitted by 2019 novel coron...</td>\n",
       "    </tr>\n",
       "    <tr>\n",
       "      <th>2</th>\n",
       "      <td>pub.1126880632-2</td>\n",
       "      <td>COVID-19 and what pediatric rheumatologists sh...</td>\n",
       "      <td>Italy was early and severely involved, with a ...</td>\n",
       "    </tr>\n",
       "    <tr>\n",
       "      <th>3</th>\n",
       "      <td>pub.1126880632-3</td>\n",
       "      <td>COVID-19 and what pediatric rheumatologists sh...</td>\n",
       "      <td>Person-to-person spread mainly occurs via resp...</td>\n",
       "    </tr>\n",
       "    <tr>\n",
       "      <th>4</th>\n",
       "      <td>pub.1126880632-4</td>\n",
       "      <td>COVID-19 and what pediatric rheumatologists sh...</td>\n",
       "      <td>The median incubation period is 5 days.</td>\n",
       "    </tr>\n",
       "  </tbody>\n",
       "</table>\n",
       "</div>"
      ],
      "text/plain": [
       "        sentence_id                                              title  \\\n",
       "0  pub.1126880632-0  COVID-19 and what pediatric rheumatologists sh...   \n",
       "1  pub.1126880632-1  COVID-19 and what pediatric rheumatologists sh...   \n",
       "2  pub.1126880632-2  COVID-19 and what pediatric rheumatologists sh...   \n",
       "3  pub.1126880632-3  COVID-19 and what pediatric rheumatologists sh...   \n",
       "4  pub.1126880632-4  COVID-19 and what pediatric rheumatologists sh...   \n",
       "\n",
       "                                            sentence  \n",
       "0  On March 11th, 2020 the World Health Organizat...  \n",
       "1  The infection, transmitted by 2019 novel coron...  \n",
       "2  Italy was early and severely involved, with a ...  \n",
       "3  Person-to-person spread mainly occurs via resp...  \n",
       "4            The median incubation period is 5 days.  "
      ]
     },
     "execution_count": 8,
     "metadata": {},
     "output_type": "execute_result"
    }
   ],
   "source": [
    "sentences_df.head()"
   ]
  },
  {
   "cell_type": "code",
   "execution_count": 9,
   "metadata": {},
   "outputs": [],
   "source": [
    "# Save 'sentences_df' as .json-file: 'HCQ_sentences.json'\n",
    "sentences_df.to_json(\"../data/HCQ_sentences.json\")"
   ]
  },
  {
   "cell_type": "markdown",
   "metadata": {},
   "source": [
    "## 3 Labeling Sentences Manually"
   ]
  },
  {
   "cell_type": "code",
   "execution_count": 10,
   "metadata": {},
   "outputs": [],
   "source": [
    "# Load 'sentences_df' again\n",
    "sentences_df = pd.read_json(\"../data/HCQ_sentences.json\")"
   ]
  },
  {
   "cell_type": "code",
   "execution_count": 11,
   "metadata": {},
   "outputs": [
    {
     "data": {
      "text/html": [
       "<div>\n",
       "<style scoped>\n",
       "    .dataframe tbody tr th:only-of-type {\n",
       "        vertical-align: middle;\n",
       "    }\n",
       "\n",
       "    .dataframe tbody tr th {\n",
       "        vertical-align: top;\n",
       "    }\n",
       "\n",
       "    .dataframe thead th {\n",
       "        text-align: right;\n",
       "    }\n",
       "</style>\n",
       "<table border=\"1\" class=\"dataframe\">\n",
       "  <thead>\n",
       "    <tr style=\"text-align: right;\">\n",
       "      <th></th>\n",
       "      <th>sentence_id</th>\n",
       "      <th>title</th>\n",
       "      <th>sentence</th>\n",
       "    </tr>\n",
       "  </thead>\n",
       "  <tbody>\n",
       "    <tr>\n",
       "      <th>0</th>\n",
       "      <td>pub.1126880632-0</td>\n",
       "      <td>COVID-19 and what pediatric rheumatologists sh...</td>\n",
       "      <td>On March 11th, 2020 the World Health Organizat...</td>\n",
       "    </tr>\n",
       "    <tr>\n",
       "      <th>1</th>\n",
       "      <td>pub.1126880632-1</td>\n",
       "      <td>COVID-19 and what pediatric rheumatologists sh...</td>\n",
       "      <td>The infection, transmitted by 2019 novel coron...</td>\n",
       "    </tr>\n",
       "    <tr>\n",
       "      <th>2</th>\n",
       "      <td>pub.1126880632-2</td>\n",
       "      <td>COVID-19 and what pediatric rheumatologists sh...</td>\n",
       "      <td>Italy was early and severely involved, with a ...</td>\n",
       "    </tr>\n",
       "    <tr>\n",
       "      <th>3</th>\n",
       "      <td>pub.1126880632-3</td>\n",
       "      <td>COVID-19 and what pediatric rheumatologists sh...</td>\n",
       "      <td>Person-to-person spread mainly occurs via resp...</td>\n",
       "    </tr>\n",
       "    <tr>\n",
       "      <th>4</th>\n",
       "      <td>pub.1126880632-4</td>\n",
       "      <td>COVID-19 and what pediatric rheumatologists sh...</td>\n",
       "      <td>The median incubation period is 5 days.</td>\n",
       "    </tr>\n",
       "  </tbody>\n",
       "</table>\n",
       "</div>"
      ],
      "text/plain": [
       "        sentence_id                                              title  \\\n",
       "0  pub.1126880632-0  COVID-19 and what pediatric rheumatologists sh...   \n",
       "1  pub.1126880632-1  COVID-19 and what pediatric rheumatologists sh...   \n",
       "2  pub.1126880632-2  COVID-19 and what pediatric rheumatologists sh...   \n",
       "3  pub.1126880632-3  COVID-19 and what pediatric rheumatologists sh...   \n",
       "4  pub.1126880632-4  COVID-19 and what pediatric rheumatologists sh...   \n",
       "\n",
       "                                            sentence  \n",
       "0  On March 11th, 2020 the World Health Organizat...  \n",
       "1  The infection, transmitted by 2019 novel coron...  \n",
       "2  Italy was early and severely involved, with a ...  \n",
       "3  Person-to-person spread mainly occurs via resp...  \n",
       "4            The median incubation period is 5 days.  "
      ]
     },
     "execution_count": 11,
     "metadata": {},
     "output_type": "execute_result"
    }
   ],
   "source": [
    "sentences_df.head()"
   ]
  },
  {
   "cell_type": "markdown",
   "metadata": {},
   "source": [
    "**For the following steps see:** \n",
    "Youtube: \"Intro to NLP with spaCy (3): Detecting programming languages | Episode 3: Evaluation\"\n",
    "\n",
    "[https://youtu.be/4V0JDdohxAk](https://youtu.be/4V0JDdohxAk)"
   ]
  },
  {
   "cell_type": "code",
   "execution_count": 12,
   "metadata": {},
   "outputs": [],
   "source": [
    "# Export column 'sentence' of dataframe 'sentences_df' as Excel spread sheet\n",
    "sentences_df[\"sentence\"].to_excel(\"../labeling/sentences_to_be_labeled.xlsx\")"
   ]
  }
 ],
 "metadata": {
  "kernelspec": {
   "display_name": "Python 3",
   "language": "python",
   "name": "python3"
  },
  "language_info": {
   "codemirror_mode": {
    "name": "ipython",
    "version": 3
   },
   "file_extension": ".py",
   "mimetype": "text/x-python",
   "name": "python",
   "nbconvert_exporter": "python",
   "pygments_lexer": "ipython3",
   "version": "3.7.6"
  }
 },
 "nbformat": 4,
 "nbformat_minor": 4
}
