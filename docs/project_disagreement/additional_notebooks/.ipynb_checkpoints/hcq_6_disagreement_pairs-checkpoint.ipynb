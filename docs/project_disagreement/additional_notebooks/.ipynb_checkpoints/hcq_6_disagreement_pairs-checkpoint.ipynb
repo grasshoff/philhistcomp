{
 "cells": [
  {
   "cell_type": "markdown",
   "metadata": {},
   "source": [
    "# 6 Disagreement Pairs"
   ]
  },
  {
   "cell_type": "markdown",
   "metadata": {},
   "source": [
    "## 0 Import Libraries"
   ]
  },
  {
   "cell_type": "code",
   "execution_count": 1,
   "metadata": {},
   "outputs": [],
   "source": [
    "import pandas as pd\n",
    "import spacy\n",
    "from spacy.matcher import Matcher\n",
    "from spacy.pipeline import EntityRuler\n",
    "from spacy import displacy\n",
    "import numpy as np\n",
    "from sklearn.metrics import confusion_matrix, classification_report"
   ]
  },
  {
   "cell_type": "code",
   "execution_count": 2,
   "metadata": {},
   "outputs": [],
   "source": [
    "# Import English Library\n",
    "nlp = spacy.load(\"en_core_web_lg\", disable=[\"ner\"])"
   ]
  },
  {
   "cell_type": "markdown",
   "metadata": {},
   "source": [
    "## 1 Load Dataframe"
   ]
  },
  {
   "cell_type": "code",
   "execution_count": 3,
   "metadata": {},
   "outputs": [],
   "source": [
    "# Load sentences dataframe from 'HCQ_sentences.json': sentences_df\n",
    "sentences_df = pd.read_json(\"../data/HCQ_sentences.json\")"
   ]
  },
  {
   "cell_type": "code",
   "execution_count": 4,
   "metadata": {},
   "outputs": [
    {
     "data": {
      "text/html": [
       "<div>\n",
       "<style scoped>\n",
       "    .dataframe tbody tr th:only-of-type {\n",
       "        vertical-align: middle;\n",
       "    }\n",
       "\n",
       "    .dataframe tbody tr th {\n",
       "        vertical-align: top;\n",
       "    }\n",
       "\n",
       "    .dataframe thead th {\n",
       "        text-align: right;\n",
       "    }\n",
       "</style>\n",
       "<table border=\"1\" class=\"dataframe\">\n",
       "  <thead>\n",
       "    <tr style=\"text-align: right;\">\n",
       "      <th></th>\n",
       "      <th>sentence_id</th>\n",
       "      <th>title</th>\n",
       "      <th>sentence</th>\n",
       "    </tr>\n",
       "  </thead>\n",
       "  <tbody>\n",
       "    <tr>\n",
       "      <th>0</th>\n",
       "      <td>pub.1126880632-0</td>\n",
       "      <td>COVID-19 and what pediatric rheumatologists sh...</td>\n",
       "      <td>On March 11th, 2020 the World Health Organizat...</td>\n",
       "    </tr>\n",
       "    <tr>\n",
       "      <th>1</th>\n",
       "      <td>pub.1126880632-1</td>\n",
       "      <td>COVID-19 and what pediatric rheumatologists sh...</td>\n",
       "      <td>The infection, transmitted by 2019 novel coron...</td>\n",
       "    </tr>\n",
       "    <tr>\n",
       "      <th>2</th>\n",
       "      <td>pub.1126880632-2</td>\n",
       "      <td>COVID-19 and what pediatric rheumatologists sh...</td>\n",
       "      <td>Italy was early and severely involved, with a ...</td>\n",
       "    </tr>\n",
       "  </tbody>\n",
       "</table>\n",
       "</div>"
      ],
      "text/plain": [
       "        sentence_id                                              title  \\\n",
       "0  pub.1126880632-0  COVID-19 and what pediatric rheumatologists sh...   \n",
       "1  pub.1126880632-1  COVID-19 and what pediatric rheumatologists sh...   \n",
       "2  pub.1126880632-2  COVID-19 and what pediatric rheumatologists sh...   \n",
       "\n",
       "                                            sentence  \n",
       "0  On March 11th, 2020 the World Health Organizat...  \n",
       "1  The infection, transmitted by 2019 novel coron...  \n",
       "2  Italy was early and severely involved, with a ...  "
      ]
     },
     "execution_count": 4,
     "metadata": {},
     "output_type": "execute_result"
    }
   ],
   "source": [
    "sentences_df.head(3)"
   ]
  },
  {
   "cell_type": "markdown",
   "metadata": {},
   "source": [
    "## 2 Verb Filtered Sentences"
   ]
  },
  {
   "cell_type": "code",
   "execution_count": 5,
   "metadata": {},
   "outputs": [],
   "source": [
    "# Make list of sentences (Doc-object) \n",
    "# from column 'sentence' of dataframe 'sentences_df': doc_list\n",
    "doc_list = list(nlp.pipe(sentences_df[\"sentence\"].to_list()))"
   ]
  },
  {
   "cell_type": "code",
   "execution_count": 6,
   "metadata": {},
   "outputs": [],
   "source": [
    "# Make matcher: 'verb_matcher_2'\n",
    "verb_matcher_2 = Matcher(nlp.vocab, validate=True)"
   ]
  },
  {
   "cell_type": "code",
   "execution_count": 7,
   "metadata": {},
   "outputs": [],
   "source": [
    "# Make search pattern for 'verb_matcher_2': support_verbs_pattern\n",
    "support_verbs_pattern = [{\"POS\": \"VERB\", \"DEP\": \"ROOT\", \"LEMMA\": {\"IN\": ['reveal', 'show', 'suggest', 'support']}}]"
   ]
  },
  {
   "cell_type": "code",
   "execution_count": 8,
   "metadata": {},
   "outputs": [],
   "source": [
    "# Make additional search pattern for 'verb_matcher_2': confirm_pattern\n",
    "confirm_pattern = [{\"POS\": \"VERB\", \"DEP\": \"xcomp\", \"LEMMA\": \"confirm\"}]"
   ]
  },
  {
   "cell_type": "code",
   "execution_count": 9,
   "metadata": {},
   "outputs": [],
   "source": [
    "# Add 'support_verbs_pattern' and 'confirm_pattern' to 'verb_matcher_2'\n",
    "verb_matcher_2.add(\"VERB_ID\", None, support_verbs_pattern, confirm_pattern)"
   ]
  },
  {
   "cell_type": "code",
   "execution_count": 10,
   "metadata": {},
   "outputs": [],
   "source": [
    "# Filter Doc-objects (sentences) in 'doc_list' and add the selected Docs to a list: verb_filtered_sentences_2\n",
    "verb_filtered_sentences_2 = [doc for doc in doc_list if len(verb_matcher_2(doc)) > 0] "
   ]
  },
  {
   "cell_type": "code",
   "execution_count": 11,
   "metadata": {},
   "outputs": [
    {
     "name": "stdout",
     "output_type": "stream",
     "text": [
      "(0) We were unable to confirm a benefit of hydroxychloroquine or chloroquine, when used alone or with a macrolide, on in-hospital outcomes for COVID-19.\n",
      "(1) This work was supported by the Emergent Projects of National Science and Technology (2020YFC0844500), National Natural Science Foundation of China (81970020, 81770025), National Key Research and Development Program of China (2016YFC0901104), Shanghai Municipal Key Clinical Specialty (shslczdzk02202, shslczdzk01103), National Innovative Research Team of High-level Local Universities in Shanghai, Shanghai Key Discipline for Respiratory Diseases (2017ZZ02014), National Major Scientific and Technological Special Project for Significant New Drugs Development (2017ZX09304007), Key Projects in the National Science and Technology Pillar Program during the Thirteenth Five-year Plan Period (2018ZX09206005-004, 2017ZX10202202-005-004, 2017ZX10203201-008).\n",
      "(2) This re-analysis reveals severe limitations in the methodology of this study, including ambiguous inclusion/exclusion of participant data and inconsistent analysis techniques, and yielded nonsignificant differences between control and treatment groups across any treatment days.\n",
      "(3) This systematic review and meta-analysis showed no clinical benefits regarding HCQ treatment with/without azithromycin for COVID-19 patients.\n",
      "(4) These results do not support the use of HCQ in patients hospitalised for documented SARS-CoV-2-positive hypoxic pneumonia.\n",
      "(5) Interpretation Preliminary findings suggest that the higher CQ dosage (10-day regimen) should not be recommended for COVID-19 treatment because of its potential safety hazards.\n",
      "(6) Preliminary evidence suggests potential benefit with chloroquine or hydroxychloroquine.\n",
      "(7) Current international society recommendations suggest that patients with rheumatic diseases on immunosuppressive therapy should not stop glucocorticoids during COVID-19 infection, although minimum possible doses may be used.\n",
      "(8) The findings support the hypothesis that these drugs have efficacy in the treatment of COVID-19.\n",
      "(9) Despite its small sample size, our survey shows that hydroxychloroquine treatment is significantly associated with viral load reduction/disappearance in COVID-19 patients and its effect is reinforced by azithromycin.\n",
      "(10) Chloroquine phosphate, an old drug for treatment of malaria, is shown to have apparent efficacy and acceptable safety against COVID-19 associated pneumonia in multicenter clinical trials conducted in China.\n"
     ]
    }
   ],
   "source": [
    "# Print each enumerated verb filtered sentence\n",
    "for sentence_number, sentence in enumerate(verb_filtered_sentences_2):\n",
    "    print(f\"({sentence_number}) {sentence}\")"
   ]
  },
  {
   "cell_type": "markdown",
   "metadata": {},
   "source": [
    "## 3 Noun Filtered Sentences"
   ]
  },
  {
   "cell_type": "code",
   "execution_count": 12,
   "metadata": {},
   "outputs": [],
   "source": [
    "# Make a matcher 'noun_matcher_2'\n",
    "noun_matcher_2 = Matcher(nlp.vocab, validate=True)"
   ]
  },
  {
   "cell_type": "code",
   "execution_count": 13,
   "metadata": {},
   "outputs": [],
   "source": [
    "# EVIDENCE-noun patterns for 'noun_matcher_2'\n",
    "analysis_pattern = [{\"POS\": \"NOUN\", \"DEP\": \"nsubj\", \"LEMMA\": \"analysis\"}]\n",
    "evidence_pattern = [{\"POS\": \"NOUN\", \"DEP\": \"nsubj\", \"LEMMA\": \"evidence\"}]\n",
    "finding_pattern = [{\"POS\": \"NOUN\", \"DEP\": \"nsubj\", \"LEMMA\": \"finding\"}]\n",
    "\n",
    "result_pattern = [{\"POS\": \"NOUN\", \"DEP\": \"nsubj\", \"LEMMA\": \"result\"}]\n",
    "survey_pattern = [{\"POS\": \"NOUN\", \"DEP\": \"nsubj\", \"LEMMA\": \"survey\"}]"
   ]
  },
  {
   "cell_type": "code",
   "execution_count": 14,
   "metadata": {},
   "outputs": [],
   "source": [
    "# Additional search pattern for 'noun_matcher_2': 'trial_pattern'\n",
    "trial_pattern = [{\"POS\": \"NOUN\", \"DEP\": \"pobj\", \"LEMMA\": \"trial\"}]"
   ]
  },
  {
   "cell_type": "code",
   "execution_count": 15,
   "metadata": {},
   "outputs": [],
   "source": [
    "# Additional search pattern for 'noun_matcher_2': 'we_pattern'\n",
    "we_pattern = [{\"POS\": \"PRON\", \"DEP\": \"nsubj\", \"LEMMA\": \"-PRON-\"}]"
   ]
  },
  {
   "cell_type": "code",
   "execution_count": 16,
   "metadata": {},
   "outputs": [],
   "source": [
    "# Add search patterns to 'noun_matcher_2'\n",
    "noun_matcher_2.add(\"NOUN_ID\", None, \n",
    "                   analysis_pattern, \n",
    "                   evidence_pattern, \n",
    "                   finding_pattern, \n",
    "                   result_pattern, \n",
    "                   survey_pattern, \n",
    "                   trial_pattern, \n",
    "                   we_pattern)"
   ]
  },
  {
   "cell_type": "code",
   "execution_count": 17,
   "metadata": {},
   "outputs": [],
   "source": [
    "# Filter Doc-objects (sentences) in 'verb_filtered_sentences_2' and add the selected Docs to a list: \n",
    "# noun_filtered_sentences_2\n",
    "noun_filtered_sentences_2 = [doc.text for doc in verb_filtered_sentences_2 if len(noun_matcher_2(doc)) > 0] "
   ]
  },
  {
   "cell_type": "code",
   "execution_count": 18,
   "metadata": {},
   "outputs": [
    {
     "name": "stdout",
     "output_type": "stream",
     "text": [
      "(0) We were unable to confirm a benefit of hydroxychloroquine or chloroquine, when used alone or with a macrolide, on in-hospital outcomes for COVID-19.\n",
      "(1) This re-analysis reveals severe limitations in the methodology of this study, including ambiguous inclusion/exclusion of participant data and inconsistent analysis techniques, and yielded nonsignificant differences between control and treatment groups across any treatment days.\n",
      "(2) This systematic review and meta-analysis showed no clinical benefits regarding HCQ treatment with/without azithromycin for COVID-19 patients.\n",
      "(3) These results do not support the use of HCQ in patients hospitalised for documented SARS-CoV-2-positive hypoxic pneumonia.\n",
      "(4) Interpretation Preliminary findings suggest that the higher CQ dosage (10-day regimen) should not be recommended for COVID-19 treatment because of its potential safety hazards.\n",
      "(5) Preliminary evidence suggests potential benefit with chloroquine or hydroxychloroquine.\n",
      "(6) The findings support the hypothesis that these drugs have efficacy in the treatment of COVID-19.\n",
      "(7) Despite its small sample size, our survey shows that hydroxychloroquine treatment is significantly associated with viral load reduction/disappearance in COVID-19 patients and its effect is reinforced by azithromycin.\n",
      "(8) Chloroquine phosphate, an old drug for treatment of malaria, is shown to have apparent efficacy and acceptable safety against COVID-19 associated pneumonia in multicenter clinical trials conducted in China.\n"
     ]
    }
   ],
   "source": [
    "# Print each enumerated noun filtered sentence\n",
    "for sentence_number, sentence in enumerate(noun_filtered_sentences_2):\n",
    "    print(f\"({sentence_number}) {sentence}\")"
   ]
  },
  {
   "cell_type": "code",
   "execution_count": 19,
   "metadata": {},
   "outputs": [
    {
     "name": "stdout",
     "output_type": "stream",
     "text": [
      "Number of sentences in 'doc_list': 216\n",
      "Number of sentences in 'verb_filtered_sentences_2': 11\n",
      "Number of sentences in 'noun_filtered_sentences_2': 9\n"
     ]
    }
   ],
   "source": [
    "# Show number of item in 'doc_list'/'verb_filtered_sentences_2'/'noun_filtered_sentences_1' using 'len()'\n",
    "print(f\"Number of sentences in 'doc_list': {len(doc_list)}\")\n",
    "print(f\"Number of sentences in 'verb_filtered_sentences_2': {len(verb_filtered_sentences_2)}\")\n",
    "print(f\"Number of sentences in 'noun_filtered_sentences_2': {len(noun_filtered_sentences_2)}\")"
   ]
  },
  {
   "cell_type": "markdown",
   "metadata": {},
   "source": [
    "## 4 Label Entities"
   ]
  },
  {
   "cell_type": "markdown",
   "metadata": {},
   "source": [
    "For the following see:\n",
    "\n",
    "[https://spacy.io/usage/rule-based-matching#entityruler](https://spacy.io/usage/rule-based-matching#entityruler)"
   ]
  },
  {
   "cell_type": "markdown",
   "metadata": {},
   "source": [
    "**EntityRuler**"
   ]
  },
  {
   "cell_type": "code",
   "execution_count": 20,
   "metadata": {},
   "outputs": [],
   "source": [
    "# Initialize spacy's EntityRuler: ruler\n",
    "ruler = EntityRuler(nlp, validate=True)"
   ]
  },
  {
   "cell_type": "code",
   "execution_count": 21,
   "metadata": {},
   "outputs": [],
   "source": [
    "# Add 'ruler' to pipline of 'nlp'\n",
    "nlp.add_pipe(ruler)"
   ]
  },
  {
   "cell_type": "markdown",
   "metadata": {},
   "source": [
    "**SUPPORT-verbs**"
   ]
  },
  {
   "cell_type": "code",
   "execution_count": 22,
   "metadata": {},
   "outputs": [],
   "source": [
    "# Pattern for Entity \"SUPP\" (SUPPORT-verb): verb_patterns\n",
    "verb_patterns = [{\"label\": \"SUPP\", \"pattern\": [{\"POS\": \"VERB\", \"DEP\": \"ROOT\", \"LEMMA\": {\"IN\": ['reveal', 'show', 'suggest', 'support']}}]}, \n",
    "                 {\"label\": \"SUPP\", \"pattern\": [{\"POS\": \"VERB\", \"DEP\": \"xcomp\", \"LEMMA\": \"confirm\"}]}]"
   ]
  },
  {
   "cell_type": "markdown",
   "metadata": {},
   "source": [
    "**EVIDENCE-nouns**"
   ]
  },
  {
   "cell_type": "code",
   "execution_count": 23,
   "metadata": {},
   "outputs": [],
   "source": [
    "# Pattern for Entity \"EVID\" (EVIDENCE-noun) : evidence_patterns\n",
    "evidence_patterns = [{'label': 'EVID', 'pattern': 'This re-analysis'},\n",
    "                     {'label': 'EVID', 'pattern': 'This systematic review and meta-analysis'},\n",
    "                     {'label': 'EVID', 'pattern': 'These results'},\n",
    "                     {'label': 'EVID', 'pattern': 'Interpretation Preliminary findings'},\n",
    "                     {'label': 'EVID', 'pattern': 'Preliminary evidence'},\n",
    "                     {'label': 'EVID', 'pattern': 'The findings'},\n",
    "                     {'label': 'EVID', 'pattern': 'our survey'},\n",
    "                     {\"label\": \"EVID\", \"pattern\": \"multicenter clinical trials\"}]"
   ]
  },
  {
   "cell_type": "code",
   "execution_count": 24,
   "metadata": {},
   "outputs": [],
   "source": [
    "# Pattern for Entity \"SCI\" (scientists): we_label_pattern\n",
    "we_label_pattern = [{\"label\": \"SCI\", \"pattern\": \"We\"}]"
   ]
  },
  {
   "cell_type": "markdown",
   "metadata": {},
   "source": [
    "**Negations**"
   ]
  },
  {
   "cell_type": "code",
   "execution_count": 25,
   "metadata": {},
   "outputs": [],
   "source": [
    "# Pattern for Entity \"NEG\" (negation): negation_patterns\n",
    "negation_patterns = [{\"label\": \"NEG\", \"pattern\": [{\"LEMMA\": {\"IN\": [\"not\", \"no\", \"unable\"]}}]}]"
   ]
  },
  {
   "cell_type": "markdown",
   "metadata": {},
   "source": [
    "**Apply \"ruler\" to Sentences**"
   ]
  },
  {
   "cell_type": "code",
   "execution_count": 26,
   "metadata": {},
   "outputs": [
    {
     "name": "stderr",
     "output_type": "stream",
     "text": [
      "C:\\Users\\Tobias_lokal\\anaconda3\\lib\\site-packages\\spacy\\pipeline\\entityruler.py:250: UserWarning: [W012] A Doc object you're adding to the PhraseMatcher for pattern 'EVID' is parsed and/or tagged, but to match on 'ORTH', you don't actually need this information. This means that creating the patterns is potentially much slower, because all pipeline components are applied. To only create tokenized Doc objects, try using `nlp.make_doc(text)` or process all texts as a stream using `list(nlp.tokenizer.pipe(all_texts))`.\n",
      "  self.phrase_matcher.add(label, patterns)\n",
      "C:\\Users\\Tobias_lokal\\anaconda3\\lib\\site-packages\\spacy\\pipeline\\entityruler.py:250: UserWarning: [W012] A Doc object you're adding to the PhraseMatcher for pattern 'SCI' is parsed and/or tagged, but to match on 'ORTH', you don't actually need this information. This means that creating the patterns is potentially much slower, because all pipeline components are applied. To only create tokenized Doc objects, try using `nlp.make_doc(text)` or process all texts as a stream using `list(nlp.tokenizer.pipe(all_texts))`.\n",
      "  self.phrase_matcher.add(label, patterns)\n"
     ]
    }
   ],
   "source": [
    "# Add patterns to 'ruler'\n",
    "ruler.add_patterns(verb_patterns)\n",
    "ruler.add_patterns(evidence_patterns)\n",
    "ruler.add_patterns(we_label_pattern)\n",
    "ruler.add_patterns(negation_patterns)"
   ]
  },
  {
   "cell_type": "code",
   "execution_count": 27,
   "metadata": {},
   "outputs": [],
   "source": [
    "# Convert strings in 'noun_filtered_sentences_2' into Doc-objects with labeled named entities\n",
    "# make a list of these Docs: disagreement_sentences_5\n",
    "disagreement_sentences_5 = list(nlp.pipe(noun_filtered_sentences_2))"
   ]
  },
  {
   "cell_type": "markdown",
   "metadata": {},
   "source": [
    "## 5 Separate Sentences with Regard to Negation"
   ]
  },
  {
   "cell_type": "code",
   "execution_count": 28,
   "metadata": {},
   "outputs": [],
   "source": [
    "# Make 'negation_matcher'\n",
    "negation_matcher = Matcher(nlp.vocab, validate=True)"
   ]
  },
  {
   "cell_type": "code",
   "execution_count": 29,
   "metadata": {},
   "outputs": [],
   "source": [
    "# Negation Pattern\n",
    "negation_pattern = [{\"LEMMA\": {\"IN\": [\"not\", \"no\", \"unable\"]}}]"
   ]
  },
  {
   "cell_type": "code",
   "execution_count": 30,
   "metadata": {},
   "outputs": [],
   "source": [
    "# Add 'negation_pattern' to 'negation_matcher'\n",
    "negation_matcher.add(\"NEGATION_ID\", None, negation_pattern)"
   ]
  },
  {
   "cell_type": "code",
   "execution_count": 31,
   "metadata": {},
   "outputs": [],
   "source": [
    "# List of affirmative sentences: sents\n",
    "sents = []"
   ]
  },
  {
   "cell_type": "code",
   "execution_count": 32,
   "metadata": {},
   "outputs": [],
   "source": [
    "# List of negated sentences: negated_sents\n",
    "negated_sents = []"
   ]
  },
  {
   "cell_type": "code",
   "execution_count": 33,
   "metadata": {},
   "outputs": [],
   "source": [
    "# Define a function that seperates Docs from a list according to whether there occurs a negation in a Doc or not:\n",
    "# negation_filter()\n",
    "def negation_filter(sent_list):\n",
    "    for doc in sent_list:\n",
    "        if len(negation_matcher(doc)) > 0:\n",
    "            negated_sents.append(doc)\n",
    "        else:\n",
    "            sents.append(doc)"
   ]
  },
  {
   "cell_type": "code",
   "execution_count": 34,
   "metadata": {},
   "outputs": [],
   "source": [
    "# Apply 'negation_filter()' to 'disagreement_sentences_5'. Docs of 'disagreement_sentences_5' will be either stored in \n",
    "# 'sents' or 'negated_sents'\n",
    "negation_filter(disagreement_sentences_5)"
   ]
  },
  {
   "cell_type": "markdown",
   "metadata": {},
   "source": [
    "**sents**"
   ]
  },
  {
   "cell_type": "code",
   "execution_count": 35,
   "metadata": {},
   "outputs": [
    {
     "name": "stdout",
     "output_type": "stream",
     "text": [
      "(0)\n"
     ]
    },
    {
     "data": {
      "text/html": [
       "<span class=\"tex2jax_ignore\"><div class=\"entities\" style=\"line-height: 2.5; direction: ltr\">\n",
       "<mark class=\"entity\" style=\"background: #ddd; padding: 0.45em 0.6em; margin: 0 0.25em; line-height: 1; border-radius: 0.35em;\">\n",
       "    This re-analysis\n",
       "    <span style=\"font-size: 0.8em; font-weight: bold; line-height: 1; border-radius: 0.35em; text-transform: uppercase; vertical-align: middle; margin-left: 0.5rem\">EVID</span>\n",
       "</mark>\n",
       " \n",
       "<mark class=\"entity\" style=\"background: #ddd; padding: 0.45em 0.6em; margin: 0 0.25em; line-height: 1; border-radius: 0.35em;\">\n",
       "    reveals\n",
       "    <span style=\"font-size: 0.8em; font-weight: bold; line-height: 1; border-radius: 0.35em; text-transform: uppercase; vertical-align: middle; margin-left: 0.5rem\">SUPP</span>\n",
       "</mark>\n",
       " severe limitations in the methodology of this study, including ambiguous inclusion/exclusion of participant data and inconsistent analysis techniques, and yielded nonsignificant differences between control and treatment groups across any treatment days.</div></span>"
      ],
      "text/plain": [
       "<IPython.core.display.HTML object>"
      ]
     },
     "metadata": {},
     "output_type": "display_data"
    },
    {
     "name": "stdout",
     "output_type": "stream",
     "text": [
      "----------------------------------------------------------------------\n",
      "\n",
      "(1)\n"
     ]
    },
    {
     "data": {
      "text/html": [
       "<span class=\"tex2jax_ignore\"><div class=\"entities\" style=\"line-height: 2.5; direction: ltr\">\n",
       "<mark class=\"entity\" style=\"background: #ddd; padding: 0.45em 0.6em; margin: 0 0.25em; line-height: 1; border-radius: 0.35em;\">\n",
       "    Preliminary evidence\n",
       "    <span style=\"font-size: 0.8em; font-weight: bold; line-height: 1; border-radius: 0.35em; text-transform: uppercase; vertical-align: middle; margin-left: 0.5rem\">EVID</span>\n",
       "</mark>\n",
       " \n",
       "<mark class=\"entity\" style=\"background: #ddd; padding: 0.45em 0.6em; margin: 0 0.25em; line-height: 1; border-radius: 0.35em;\">\n",
       "    suggests\n",
       "    <span style=\"font-size: 0.8em; font-weight: bold; line-height: 1; border-radius: 0.35em; text-transform: uppercase; vertical-align: middle; margin-left: 0.5rem\">SUPP</span>\n",
       "</mark>\n",
       " potential benefit with chloroquine or hydroxychloroquine.</div></span>"
      ],
      "text/plain": [
       "<IPython.core.display.HTML object>"
      ]
     },
     "metadata": {},
     "output_type": "display_data"
    },
    {
     "name": "stdout",
     "output_type": "stream",
     "text": [
      "----------------------------------------------------------------------\n",
      "\n",
      "(2)\n"
     ]
    },
    {
     "data": {
      "text/html": [
       "<span class=\"tex2jax_ignore\"><div class=\"entities\" style=\"line-height: 2.5; direction: ltr\">\n",
       "<mark class=\"entity\" style=\"background: #ddd; padding: 0.45em 0.6em; margin: 0 0.25em; line-height: 1; border-radius: 0.35em;\">\n",
       "    The findings\n",
       "    <span style=\"font-size: 0.8em; font-weight: bold; line-height: 1; border-radius: 0.35em; text-transform: uppercase; vertical-align: middle; margin-left: 0.5rem\">EVID</span>\n",
       "</mark>\n",
       " \n",
       "<mark class=\"entity\" style=\"background: #ddd; padding: 0.45em 0.6em; margin: 0 0.25em; line-height: 1; border-radius: 0.35em;\">\n",
       "    support\n",
       "    <span style=\"font-size: 0.8em; font-weight: bold; line-height: 1; border-radius: 0.35em; text-transform: uppercase; vertical-align: middle; margin-left: 0.5rem\">SUPP</span>\n",
       "</mark>\n",
       " the hypothesis that these drugs have efficacy in the treatment of COVID-19.</div></span>"
      ],
      "text/plain": [
       "<IPython.core.display.HTML object>"
      ]
     },
     "metadata": {},
     "output_type": "display_data"
    },
    {
     "name": "stdout",
     "output_type": "stream",
     "text": [
      "----------------------------------------------------------------------\n",
      "\n",
      "(3)\n"
     ]
    },
    {
     "data": {
      "text/html": [
       "<span class=\"tex2jax_ignore\"><div class=\"entities\" style=\"line-height: 2.5; direction: ltr\">Despite its small sample size, \n",
       "<mark class=\"entity\" style=\"background: #ddd; padding: 0.45em 0.6em; margin: 0 0.25em; line-height: 1; border-radius: 0.35em;\">\n",
       "    our survey\n",
       "    <span style=\"font-size: 0.8em; font-weight: bold; line-height: 1; border-radius: 0.35em; text-transform: uppercase; vertical-align: middle; margin-left: 0.5rem\">EVID</span>\n",
       "</mark>\n",
       " \n",
       "<mark class=\"entity\" style=\"background: #ddd; padding: 0.45em 0.6em; margin: 0 0.25em; line-height: 1; border-radius: 0.35em;\">\n",
       "    shows\n",
       "    <span style=\"font-size: 0.8em; font-weight: bold; line-height: 1; border-radius: 0.35em; text-transform: uppercase; vertical-align: middle; margin-left: 0.5rem\">SUPP</span>\n",
       "</mark>\n",
       " that hydroxychloroquine treatment is significantly associated with viral load reduction/disappearance in COVID-19 patients and its effect is reinforced by azithromycin.</div></span>"
      ],
      "text/plain": [
       "<IPython.core.display.HTML object>"
      ]
     },
     "metadata": {},
     "output_type": "display_data"
    },
    {
     "name": "stdout",
     "output_type": "stream",
     "text": [
      "----------------------------------------------------------------------\n",
      "\n",
      "(4)\n"
     ]
    },
    {
     "data": {
      "text/html": [
       "<span class=\"tex2jax_ignore\"><div class=\"entities\" style=\"line-height: 2.5; direction: ltr\">Chloroquine phosphate, an old drug for treatment of malaria, is \n",
       "<mark class=\"entity\" style=\"background: #ddd; padding: 0.45em 0.6em; margin: 0 0.25em; line-height: 1; border-radius: 0.35em;\">\n",
       "    shown\n",
       "    <span style=\"font-size: 0.8em; font-weight: bold; line-height: 1; border-radius: 0.35em; text-transform: uppercase; vertical-align: middle; margin-left: 0.5rem\">SUPP</span>\n",
       "</mark>\n",
       " to have apparent efficacy and acceptable safety against COVID-19 associated pneumonia in \n",
       "<mark class=\"entity\" style=\"background: #ddd; padding: 0.45em 0.6em; margin: 0 0.25em; line-height: 1; border-radius: 0.35em;\">\n",
       "    multicenter clinical trials\n",
       "    <span style=\"font-size: 0.8em; font-weight: bold; line-height: 1; border-radius: 0.35em; text-transform: uppercase; vertical-align: middle; margin-left: 0.5rem\">EVID</span>\n",
       "</mark>\n",
       " conducted in China.</div></span>"
      ],
      "text/plain": [
       "<IPython.core.display.HTML object>"
      ]
     },
     "metadata": {},
     "output_type": "display_data"
    },
    {
     "name": "stdout",
     "output_type": "stream",
     "text": [
      "----------------------------------------------------------------------\n",
      "\n"
     ]
    }
   ],
   "source": [
    "# Show with running number the items of enumerated list 'sents'\n",
    "# Highlight labeled entities ('SUPP': SUPPORT-verb; 'EVID': EVIDENCE-noun/'SCI': group of scientists; 'NEG': negation)\n",
    "for sentence_number, sentence in enumerate(sents):\n",
    "    print(f\"({sentence_number})\")\n",
    "    displacy.render(sentence, style=\"ent\", jupyter=True)\n",
    "    print(\"----------------------------------------------------------------------\\n\")"
   ]
  },
  {
   "cell_type": "markdown",
   "metadata": {},
   "source": [
    "**negated_sents**"
   ]
  },
  {
   "cell_type": "code",
   "execution_count": 36,
   "metadata": {},
   "outputs": [
    {
     "name": "stdout",
     "output_type": "stream",
     "text": [
      "(0)\n"
     ]
    },
    {
     "data": {
      "text/html": [
       "<span class=\"tex2jax_ignore\"><div class=\"entities\" style=\"line-height: 2.5; direction: ltr\">\n",
       "<mark class=\"entity\" style=\"background: #ddd; padding: 0.45em 0.6em; margin: 0 0.25em; line-height: 1; border-radius: 0.35em;\">\n",
       "    We\n",
       "    <span style=\"font-size: 0.8em; font-weight: bold; line-height: 1; border-radius: 0.35em; text-transform: uppercase; vertical-align: middle; margin-left: 0.5rem\">SCI</span>\n",
       "</mark>\n",
       " were \n",
       "<mark class=\"entity\" style=\"background: #ddd; padding: 0.45em 0.6em; margin: 0 0.25em; line-height: 1; border-radius: 0.35em;\">\n",
       "    unable\n",
       "    <span style=\"font-size: 0.8em; font-weight: bold; line-height: 1; border-radius: 0.35em; text-transform: uppercase; vertical-align: middle; margin-left: 0.5rem\">NEG</span>\n",
       "</mark>\n",
       " to \n",
       "<mark class=\"entity\" style=\"background: #ddd; padding: 0.45em 0.6em; margin: 0 0.25em; line-height: 1; border-radius: 0.35em;\">\n",
       "    confirm\n",
       "    <span style=\"font-size: 0.8em; font-weight: bold; line-height: 1; border-radius: 0.35em; text-transform: uppercase; vertical-align: middle; margin-left: 0.5rem\">SUPP</span>\n",
       "</mark>\n",
       " a benefit of hydroxychloroquine or chloroquine, when used alone or with a macrolide, on in-hospital outcomes for COVID-19.</div></span>"
      ],
      "text/plain": [
       "<IPython.core.display.HTML object>"
      ]
     },
     "metadata": {},
     "output_type": "display_data"
    },
    {
     "name": "stdout",
     "output_type": "stream",
     "text": [
      "----------------------------------------------------------------------\n",
      "\n",
      "(1)\n"
     ]
    },
    {
     "data": {
      "text/html": [
       "<span class=\"tex2jax_ignore\"><div class=\"entities\" style=\"line-height: 2.5; direction: ltr\">\n",
       "<mark class=\"entity\" style=\"background: #ddd; padding: 0.45em 0.6em; margin: 0 0.25em; line-height: 1; border-radius: 0.35em;\">\n",
       "    This systematic review and meta-analysis\n",
       "    <span style=\"font-size: 0.8em; font-weight: bold; line-height: 1; border-radius: 0.35em; text-transform: uppercase; vertical-align: middle; margin-left: 0.5rem\">EVID</span>\n",
       "</mark>\n",
       " \n",
       "<mark class=\"entity\" style=\"background: #ddd; padding: 0.45em 0.6em; margin: 0 0.25em; line-height: 1; border-radius: 0.35em;\">\n",
       "    showed\n",
       "    <span style=\"font-size: 0.8em; font-weight: bold; line-height: 1; border-radius: 0.35em; text-transform: uppercase; vertical-align: middle; margin-left: 0.5rem\">SUPP</span>\n",
       "</mark>\n",
       " \n",
       "<mark class=\"entity\" style=\"background: #ddd; padding: 0.45em 0.6em; margin: 0 0.25em; line-height: 1; border-radius: 0.35em;\">\n",
       "    no\n",
       "    <span style=\"font-size: 0.8em; font-weight: bold; line-height: 1; border-radius: 0.35em; text-transform: uppercase; vertical-align: middle; margin-left: 0.5rem\">NEG</span>\n",
       "</mark>\n",
       " clinical benefits regarding HCQ treatment with/without azithromycin for COVID-19 patients.</div></span>"
      ],
      "text/plain": [
       "<IPython.core.display.HTML object>"
      ]
     },
     "metadata": {},
     "output_type": "display_data"
    },
    {
     "name": "stdout",
     "output_type": "stream",
     "text": [
      "----------------------------------------------------------------------\n",
      "\n",
      "(2)\n"
     ]
    },
    {
     "data": {
      "text/html": [
       "<span class=\"tex2jax_ignore\"><div class=\"entities\" style=\"line-height: 2.5; direction: ltr\">\n",
       "<mark class=\"entity\" style=\"background: #ddd; padding: 0.45em 0.6em; margin: 0 0.25em; line-height: 1; border-radius: 0.35em;\">\n",
       "    These results\n",
       "    <span style=\"font-size: 0.8em; font-weight: bold; line-height: 1; border-radius: 0.35em; text-transform: uppercase; vertical-align: middle; margin-left: 0.5rem\">EVID</span>\n",
       "</mark>\n",
       " do \n",
       "<mark class=\"entity\" style=\"background: #ddd; padding: 0.45em 0.6em; margin: 0 0.25em; line-height: 1; border-radius: 0.35em;\">\n",
       "    not\n",
       "    <span style=\"font-size: 0.8em; font-weight: bold; line-height: 1; border-radius: 0.35em; text-transform: uppercase; vertical-align: middle; margin-left: 0.5rem\">NEG</span>\n",
       "</mark>\n",
       " \n",
       "<mark class=\"entity\" style=\"background: #ddd; padding: 0.45em 0.6em; margin: 0 0.25em; line-height: 1; border-radius: 0.35em;\">\n",
       "    support\n",
       "    <span style=\"font-size: 0.8em; font-weight: bold; line-height: 1; border-radius: 0.35em; text-transform: uppercase; vertical-align: middle; margin-left: 0.5rem\">SUPP</span>\n",
       "</mark>\n",
       " the use of HCQ in patients hospitalised for documented SARS-CoV-2-positive hypoxic pneumonia.</div></span>"
      ],
      "text/plain": [
       "<IPython.core.display.HTML object>"
      ]
     },
     "metadata": {},
     "output_type": "display_data"
    },
    {
     "name": "stdout",
     "output_type": "stream",
     "text": [
      "----------------------------------------------------------------------\n",
      "\n",
      "(3)\n"
     ]
    },
    {
     "data": {
      "text/html": [
       "<span class=\"tex2jax_ignore\"><div class=\"entities\" style=\"line-height: 2.5; direction: ltr\">\n",
       "<mark class=\"entity\" style=\"background: #ddd; padding: 0.45em 0.6em; margin: 0 0.25em; line-height: 1; border-radius: 0.35em;\">\n",
       "    Interpretation Preliminary findings\n",
       "    <span style=\"font-size: 0.8em; font-weight: bold; line-height: 1; border-radius: 0.35em; text-transform: uppercase; vertical-align: middle; margin-left: 0.5rem\">EVID</span>\n",
       "</mark>\n",
       " \n",
       "<mark class=\"entity\" style=\"background: #ddd; padding: 0.45em 0.6em; margin: 0 0.25em; line-height: 1; border-radius: 0.35em;\">\n",
       "    suggest\n",
       "    <span style=\"font-size: 0.8em; font-weight: bold; line-height: 1; border-radius: 0.35em; text-transform: uppercase; vertical-align: middle; margin-left: 0.5rem\">SUPP</span>\n",
       "</mark>\n",
       " that the higher CQ dosage (10-day regimen) should \n",
       "<mark class=\"entity\" style=\"background: #ddd; padding: 0.45em 0.6em; margin: 0 0.25em; line-height: 1; border-radius: 0.35em;\">\n",
       "    not\n",
       "    <span style=\"font-size: 0.8em; font-weight: bold; line-height: 1; border-radius: 0.35em; text-transform: uppercase; vertical-align: middle; margin-left: 0.5rem\">NEG</span>\n",
       "</mark>\n",
       " be recommended for COVID-19 treatment because of its potential safety hazards.</div></span>"
      ],
      "text/plain": [
       "<IPython.core.display.HTML object>"
      ]
     },
     "metadata": {},
     "output_type": "display_data"
    },
    {
     "name": "stdout",
     "output_type": "stream",
     "text": [
      "----------------------------------------------------------------------\n",
      "\n"
     ]
    }
   ],
   "source": [
    "# Show with running number the items of enumerated list 'negated_sents'\n",
    "# Highlight labeled entities ('SUPP': SUPPORT-verb; 'EVID': EVIDENCE-noun/'SCI': group of scientists; 'NEG': negation)\n",
    "for sentence_number, sentence in enumerate(negated_sents):\n",
    "    print(f\"({sentence_number})\")\n",
    "    displacy.render(sentence, style=\"ent\", jupyter=True)\n",
    "    print(\"----------------------------------------------------------------------\\n\")"
   ]
  },
  {
   "cell_type": "code",
   "execution_count": 37,
   "metadata": {},
   "outputs": [
    {
     "data": {
      "text/plain": [
       "5"
      ]
     },
     "execution_count": 37,
     "metadata": {},
     "output_type": "execute_result"
    }
   ],
   "source": [
    "# Number of sentences in 'sents'\n",
    "len(sents)"
   ]
  },
  {
   "cell_type": "code",
   "execution_count": 38,
   "metadata": {},
   "outputs": [
    {
     "data": {
      "text/plain": [
       "4"
      ]
     },
     "execution_count": 38,
     "metadata": {},
     "output_type": "execute_result"
    }
   ],
   "source": [
    "# Number of sentences in 'negated_sents'\n",
    "len(negated_sents)"
   ]
  },
  {
   "cell_type": "markdown",
   "metadata": {},
   "source": [
    "## 6 Disagreement Pairs"
   ]
  },
  {
   "cell_type": "markdown",
   "metadata": {},
   "source": [
    "### 6.1 Preparing Evaluation"
   ]
  },
  {
   "cell_type": "markdown",
   "metadata": {},
   "source": [
    "#### 6.1.1 Make Sentence Pairs for Labeling"
   ]
  },
  {
   "cell_type": "code",
   "execution_count": 39,
   "metadata": {},
   "outputs": [],
   "source": [
    "# Define a function that makes a dataframe - preparation for labeling sentence pairs: label_sentence_pairs()\n",
    "# Purpose: pairs of sentences are to be labeled with regard to whether they show disagreement or not\n",
    "def label_sentence_pairs(list_of_affirmative_sentences, list_of_negated_sentences):\n",
    "    sentence_pairs_list = []\n",
    "    \n",
    "    # Combine each sentence of 'list_of_affirmative_sentences' with each sentence of 'list_of_negated_sentences';\n",
    "    # add a default label ('0')\n",
    "    for doc in list_of_affirmative_sentences:\n",
    "        for doc_neg in list_of_negated_sentences:\n",
    "            sentence_pairs_list.append([0, doc.text, doc_neg.text])\n",
    "            \n",
    "    return pd.DataFrame(sentence_pairs_list, columns=[\"label\", \"affirmative sentence\", \"negated sentence\"])"
   ]
  },
  {
   "cell_type": "code",
   "execution_count": 40,
   "metadata": {},
   "outputs": [],
   "source": [
    "# Make dataframe by passing 'sents' and 'negated_sents' to function 'label_sentence_pairs()': sentence_pairs_df\n",
    "# Each sentence of 'sents' is combined with every sentence of 'negated_sents'\n",
    "sentence_pairs_df = label_sentence_pairs(sents, negated_sents)"
   ]
  },
  {
   "cell_type": "code",
   "execution_count": 41,
   "metadata": {},
   "outputs": [
    {
     "data": {
      "text/html": [
       "<div>\n",
       "<style scoped>\n",
       "    .dataframe tbody tr th:only-of-type {\n",
       "        vertical-align: middle;\n",
       "    }\n",
       "\n",
       "    .dataframe tbody tr th {\n",
       "        vertical-align: top;\n",
       "    }\n",
       "\n",
       "    .dataframe thead th {\n",
       "        text-align: right;\n",
       "    }\n",
       "</style>\n",
       "<table border=\"1\" class=\"dataframe\">\n",
       "  <thead>\n",
       "    <tr style=\"text-align: right;\">\n",
       "      <th></th>\n",
       "      <th>label</th>\n",
       "      <th>affirmative sentence</th>\n",
       "      <th>negated sentence</th>\n",
       "    </tr>\n",
       "  </thead>\n",
       "  <tbody>\n",
       "    <tr>\n",
       "      <th>0</th>\n",
       "      <td>0</td>\n",
       "      <td>This re-analysis reveals severe limitations in...</td>\n",
       "      <td>We were unable to confirm a benefit of hydroxy...</td>\n",
       "    </tr>\n",
       "    <tr>\n",
       "      <th>1</th>\n",
       "      <td>0</td>\n",
       "      <td>This re-analysis reveals severe limitations in...</td>\n",
       "      <td>This systematic review and meta-analysis showe...</td>\n",
       "    </tr>\n",
       "    <tr>\n",
       "      <th>2</th>\n",
       "      <td>0</td>\n",
       "      <td>This re-analysis reveals severe limitations in...</td>\n",
       "      <td>These results do not support the use of HCQ in...</td>\n",
       "    </tr>\n",
       "    <tr>\n",
       "      <th>3</th>\n",
       "      <td>0</td>\n",
       "      <td>This re-analysis reveals severe limitations in...</td>\n",
       "      <td>Interpretation Preliminary findings suggest th...</td>\n",
       "    </tr>\n",
       "    <tr>\n",
       "      <th>4</th>\n",
       "      <td>0</td>\n",
       "      <td>Preliminary evidence suggests potential benefi...</td>\n",
       "      <td>We were unable to confirm a benefit of hydroxy...</td>\n",
       "    </tr>\n",
       "    <tr>\n",
       "      <th>5</th>\n",
       "      <td>0</td>\n",
       "      <td>Preliminary evidence suggests potential benefi...</td>\n",
       "      <td>This systematic review and meta-analysis showe...</td>\n",
       "    </tr>\n",
       "    <tr>\n",
       "      <th>6</th>\n",
       "      <td>0</td>\n",
       "      <td>Preliminary evidence suggests potential benefi...</td>\n",
       "      <td>These results do not support the use of HCQ in...</td>\n",
       "    </tr>\n",
       "    <tr>\n",
       "      <th>7</th>\n",
       "      <td>0</td>\n",
       "      <td>Preliminary evidence suggests potential benefi...</td>\n",
       "      <td>Interpretation Preliminary findings suggest th...</td>\n",
       "    </tr>\n",
       "    <tr>\n",
       "      <th>8</th>\n",
       "      <td>0</td>\n",
       "      <td>The findings support the hypothesis that these...</td>\n",
       "      <td>We were unable to confirm a benefit of hydroxy...</td>\n",
       "    </tr>\n",
       "    <tr>\n",
       "      <th>9</th>\n",
       "      <td>0</td>\n",
       "      <td>The findings support the hypothesis that these...</td>\n",
       "      <td>This systematic review and meta-analysis showe...</td>\n",
       "    </tr>\n",
       "    <tr>\n",
       "      <th>10</th>\n",
       "      <td>0</td>\n",
       "      <td>The findings support the hypothesis that these...</td>\n",
       "      <td>These results do not support the use of HCQ in...</td>\n",
       "    </tr>\n",
       "    <tr>\n",
       "      <th>11</th>\n",
       "      <td>0</td>\n",
       "      <td>The findings support the hypothesis that these...</td>\n",
       "      <td>Interpretation Preliminary findings suggest th...</td>\n",
       "    </tr>\n",
       "    <tr>\n",
       "      <th>12</th>\n",
       "      <td>0</td>\n",
       "      <td>Despite its small sample size, our survey show...</td>\n",
       "      <td>We were unable to confirm a benefit of hydroxy...</td>\n",
       "    </tr>\n",
       "    <tr>\n",
       "      <th>13</th>\n",
       "      <td>0</td>\n",
       "      <td>Despite its small sample size, our survey show...</td>\n",
       "      <td>This systematic review and meta-analysis showe...</td>\n",
       "    </tr>\n",
       "    <tr>\n",
       "      <th>14</th>\n",
       "      <td>0</td>\n",
       "      <td>Despite its small sample size, our survey show...</td>\n",
       "      <td>These results do not support the use of HCQ in...</td>\n",
       "    </tr>\n",
       "    <tr>\n",
       "      <th>15</th>\n",
       "      <td>0</td>\n",
       "      <td>Despite its small sample size, our survey show...</td>\n",
       "      <td>Interpretation Preliminary findings suggest th...</td>\n",
       "    </tr>\n",
       "    <tr>\n",
       "      <th>16</th>\n",
       "      <td>0</td>\n",
       "      <td>Chloroquine phosphate, an old drug for treatme...</td>\n",
       "      <td>We were unable to confirm a benefit of hydroxy...</td>\n",
       "    </tr>\n",
       "    <tr>\n",
       "      <th>17</th>\n",
       "      <td>0</td>\n",
       "      <td>Chloroquine phosphate, an old drug for treatme...</td>\n",
       "      <td>This systematic review and meta-analysis showe...</td>\n",
       "    </tr>\n",
       "    <tr>\n",
       "      <th>18</th>\n",
       "      <td>0</td>\n",
       "      <td>Chloroquine phosphate, an old drug for treatme...</td>\n",
       "      <td>These results do not support the use of HCQ in...</td>\n",
       "    </tr>\n",
       "    <tr>\n",
       "      <th>19</th>\n",
       "      <td>0</td>\n",
       "      <td>Chloroquine phosphate, an old drug for treatme...</td>\n",
       "      <td>Interpretation Preliminary findings suggest th...</td>\n",
       "    </tr>\n",
       "  </tbody>\n",
       "</table>\n",
       "</div>"
      ],
      "text/plain": [
       "    label                               affirmative sentence  \\\n",
       "0       0  This re-analysis reveals severe limitations in...   \n",
       "1       0  This re-analysis reveals severe limitations in...   \n",
       "2       0  This re-analysis reveals severe limitations in...   \n",
       "3       0  This re-analysis reveals severe limitations in...   \n",
       "4       0  Preliminary evidence suggests potential benefi...   \n",
       "5       0  Preliminary evidence suggests potential benefi...   \n",
       "6       0  Preliminary evidence suggests potential benefi...   \n",
       "7       0  Preliminary evidence suggests potential benefi...   \n",
       "8       0  The findings support the hypothesis that these...   \n",
       "9       0  The findings support the hypothesis that these...   \n",
       "10      0  The findings support the hypothesis that these...   \n",
       "11      0  The findings support the hypothesis that these...   \n",
       "12      0  Despite its small sample size, our survey show...   \n",
       "13      0  Despite its small sample size, our survey show...   \n",
       "14      0  Despite its small sample size, our survey show...   \n",
       "15      0  Despite its small sample size, our survey show...   \n",
       "16      0  Chloroquine phosphate, an old drug for treatme...   \n",
       "17      0  Chloroquine phosphate, an old drug for treatme...   \n",
       "18      0  Chloroquine phosphate, an old drug for treatme...   \n",
       "19      0  Chloroquine phosphate, an old drug for treatme...   \n",
       "\n",
       "                                     negated sentence  \n",
       "0   We were unable to confirm a benefit of hydroxy...  \n",
       "1   This systematic review and meta-analysis showe...  \n",
       "2   These results do not support the use of HCQ in...  \n",
       "3   Interpretation Preliminary findings suggest th...  \n",
       "4   We were unable to confirm a benefit of hydroxy...  \n",
       "5   This systematic review and meta-analysis showe...  \n",
       "6   These results do not support the use of HCQ in...  \n",
       "7   Interpretation Preliminary findings suggest th...  \n",
       "8   We were unable to confirm a benefit of hydroxy...  \n",
       "9   This systematic review and meta-analysis showe...  \n",
       "10  These results do not support the use of HCQ in...  \n",
       "11  Interpretation Preliminary findings suggest th...  \n",
       "12  We were unable to confirm a benefit of hydroxy...  \n",
       "13  This systematic review and meta-analysis showe...  \n",
       "14  These results do not support the use of HCQ in...  \n",
       "15  Interpretation Preliminary findings suggest th...  \n",
       "16  We were unable to confirm a benefit of hydroxy...  \n",
       "17  This systematic review and meta-analysis showe...  \n",
       "18  These results do not support the use of HCQ in...  \n",
       "19  Interpretation Preliminary findings suggest th...  "
      ]
     },
     "execution_count": 41,
     "metadata": {},
     "output_type": "execute_result"
    }
   ],
   "source": [
    "# Show dataframe 'sentence_pairs_df'\n",
    "sentence_pairs_df"
   ]
  },
  {
   "cell_type": "code",
   "execution_count": 42,
   "metadata": {},
   "outputs": [],
   "source": [
    "# Export 'sentence_pairs_df' as an Excel spread sheet\n",
    "sentence_pairs_df.to_excel(\"../labeling/sentence_pairs_to_label.xlsx\", index=False)"
   ]
  },
  {
   "cell_type": "code",
   "execution_count": 43,
   "metadata": {},
   "outputs": [],
   "source": [
    "# Import table with labeled sentence pairs as a dataframe: df_labeled_pairs\n",
    "df_labeled_pairs = pd.read_excel(\"../labeling/sentence_pairs_labeled.xlsx\")"
   ]
  },
  {
   "cell_type": "code",
   "execution_count": 44,
   "metadata": {},
   "outputs": [],
   "source": [
    "# Rearrange columns of 'df_labeled_pairs'\n",
    "df_labeled_pairs = df_labeled_pairs[[\"affirmative sentence\", \"negated sentence\", \"label\"]]"
   ]
  },
  {
   "cell_type": "code",
   "execution_count": 45,
   "metadata": {},
   "outputs": [
    {
     "data": {
      "text/html": [
       "<div>\n",
       "<style scoped>\n",
       "    .dataframe tbody tr th:only-of-type {\n",
       "        vertical-align: middle;\n",
       "    }\n",
       "\n",
       "    .dataframe tbody tr th {\n",
       "        vertical-align: top;\n",
       "    }\n",
       "\n",
       "    .dataframe thead th {\n",
       "        text-align: right;\n",
       "    }\n",
       "</style>\n",
       "<table border=\"1\" class=\"dataframe\">\n",
       "  <thead>\n",
       "    <tr style=\"text-align: right;\">\n",
       "      <th></th>\n",
       "      <th>affirmative sentence</th>\n",
       "      <th>negated sentence</th>\n",
       "      <th>label</th>\n",
       "    </tr>\n",
       "  </thead>\n",
       "  <tbody>\n",
       "    <tr>\n",
       "      <th>6</th>\n",
       "      <td>Preliminary evidence suggests potential benefi...</td>\n",
       "      <td>These results do not support the use of HCQ in...</td>\n",
       "      <td>1</td>\n",
       "    </tr>\n",
       "    <tr>\n",
       "      <th>7</th>\n",
       "      <td>Preliminary evidence suggests potential benefi...</td>\n",
       "      <td>Interpretation Preliminary findings suggest th...</td>\n",
       "      <td>0</td>\n",
       "    </tr>\n",
       "    <tr>\n",
       "      <th>8</th>\n",
       "      <td>The findings support the hypothesis that these...</td>\n",
       "      <td>We were unable to confirm a benefit of hydroxy...</td>\n",
       "      <td>1</td>\n",
       "    </tr>\n",
       "    <tr>\n",
       "      <th>9</th>\n",
       "      <td>The findings support the hypothesis that these...</td>\n",
       "      <td>This systematic review and meta-analysis showe...</td>\n",
       "      <td>1</td>\n",
       "    </tr>\n",
       "    <tr>\n",
       "      <th>10</th>\n",
       "      <td>The findings support the hypothesis that these...</td>\n",
       "      <td>These results do not support the use of HCQ in...</td>\n",
       "      <td>1</td>\n",
       "    </tr>\n",
       "    <tr>\n",
       "      <th>11</th>\n",
       "      <td>The findings support the hypothesis that these...</td>\n",
       "      <td>Interpretation Preliminary findings suggest th...</td>\n",
       "      <td>0</td>\n",
       "    </tr>\n",
       "  </tbody>\n",
       "</table>\n",
       "</div>"
      ],
      "text/plain": [
       "                                 affirmative sentence  \\\n",
       "6   Preliminary evidence suggests potential benefi...   \n",
       "7   Preliminary evidence suggests potential benefi...   \n",
       "8   The findings support the hypothesis that these...   \n",
       "9   The findings support the hypothesis that these...   \n",
       "10  The findings support the hypothesis that these...   \n",
       "11  The findings support the hypothesis that these...   \n",
       "\n",
       "                                     negated sentence  label  \n",
       "6   These results do not support the use of HCQ in...      1  \n",
       "7   Interpretation Preliminary findings suggest th...      0  \n",
       "8   We were unable to confirm a benefit of hydroxy...      1  \n",
       "9   This systematic review and meta-analysis showe...      1  \n",
       "10  These results do not support the use of HCQ in...      1  \n",
       "11  Interpretation Preliminary findings suggest th...      0  "
      ]
     },
     "execution_count": 45,
     "metadata": {},
     "output_type": "execute_result"
    }
   ],
   "source": [
    "# Show rows 6 till 11 of 'df_labeled_pairs'\n",
    "df_labeled_pairs.iloc[6:12]"
   ]
  },
  {
   "cell_type": "markdown",
   "metadata": {},
   "source": [
    "#### 6.1.2 Span Similarity"
   ]
  },
  {
   "cell_type": "code",
   "execution_count": 46,
   "metadata": {},
   "outputs": [],
   "source": [
    "# Make and configure Matcher: span_matcher\n",
    "# 'span_matcher' is used in the following function 'span_similarity()'\n",
    "# Purpose: spot the token after which a Doc is to be cut into two parts. The second part is the Span of interest\n",
    "span_matcher = Matcher(nlp.vocab, validate=True)\n",
    "\n",
    "span_pattern_1 = [{\"POS\": \"VERB\", \"DEP\": \"ROOT\", \"LEMMA\": {\"IN\": ['reveal', 'show', 'suggest', 'support']}}]\n",
    "span_pattern_2 = [{\"POS\": \"VERB\", \"DEP\": \"xcomp\", \"LEMMA\": \"confirm\"}]\n",
    "\n",
    "span_matcher.add(\"SPAN_ID\", None, span_pattern_1, span_pattern_2)"
   ]
  },
  {
   "cell_type": "code",
   "execution_count": 47,
   "metadata": {},
   "outputs": [],
   "source": [
    "# Define function that comptutes the Span Similarity for each sentence pair: span_similarity()\n",
    "# Takes a dataframe (df) as argument; returns a dict that contains the similiratiy values\n",
    "def span_similarity(df):\n",
    "    # Similarity values list\n",
    "    span_sim = []\n",
    "    \n",
    "    # Doc lists\n",
    "    aff_list = list(nlp.pipe(df[\"affirmative sentence\"]))\n",
    "    neg_list = list(nlp.pipe(df[\"negated sentence\"]))\n",
    "    \n",
    "    # Span lists\n",
    "    aff_spans = []\n",
    "    neg_spans = []\n",
    "    \n",
    "    for doc in aff_list:\n",
    "        for match_id, start, end in span_matcher(doc):\n",
    "            aff_spans.append(doc[end:])\n",
    "            \n",
    "    for doc_neg in neg_list:\n",
    "        for match_id, start, end in span_matcher(doc_neg):\n",
    "            neg_spans.append(doc_neg[end + 1:])\n",
    "        \n",
    "    for i in range(len(df)):\n",
    "        span_sim.append(aff_spans[i].similarity(neg_spans[i]))\n",
    "        \n",
    "    return {\"span_similarity\": span_sim}"
   ]
  },
  {
   "cell_type": "code",
   "execution_count": 48,
   "metadata": {},
   "outputs": [],
   "source": [
    "# Create dictionary: 'span_simil'\n",
    "span_simil = span_similarity(df_labeled_pairs)"
   ]
  },
  {
   "cell_type": "code",
   "execution_count": 49,
   "metadata": {},
   "outputs": [],
   "source": [
    "# Add new column 'span similarity' to dataframe 'df_labeled_pairs'\n",
    "df_labeled_pairs[\"span similarity\"] = pd.DataFrame(span_simil)"
   ]
  },
  {
   "cell_type": "code",
   "execution_count": 50,
   "metadata": {},
   "outputs": [
    {
     "data": {
      "text/html": [
       "<div>\n",
       "<style scoped>\n",
       "    .dataframe tbody tr th:only-of-type {\n",
       "        vertical-align: middle;\n",
       "    }\n",
       "\n",
       "    .dataframe tbody tr th {\n",
       "        vertical-align: top;\n",
       "    }\n",
       "\n",
       "    .dataframe thead th {\n",
       "        text-align: right;\n",
       "    }\n",
       "</style>\n",
       "<table border=\"1\" class=\"dataframe\">\n",
       "  <thead>\n",
       "    <tr style=\"text-align: right;\">\n",
       "      <th></th>\n",
       "      <th>affirmative sentence</th>\n",
       "      <th>negated sentence</th>\n",
       "      <th>label</th>\n",
       "      <th>span similarity</th>\n",
       "    </tr>\n",
       "  </thead>\n",
       "  <tbody>\n",
       "    <tr>\n",
       "      <th>6</th>\n",
       "      <td>Preliminary evidence suggests potential benefi...</td>\n",
       "      <td>These results do not support the use of HCQ in...</td>\n",
       "      <td>1</td>\n",
       "      <td>0.693680</td>\n",
       "    </tr>\n",
       "    <tr>\n",
       "      <th>7</th>\n",
       "      <td>Preliminary evidence suggests potential benefi...</td>\n",
       "      <td>Interpretation Preliminary findings suggest th...</td>\n",
       "      <td>0</td>\n",
       "      <td>0.828888</td>\n",
       "    </tr>\n",
       "    <tr>\n",
       "      <th>8</th>\n",
       "      <td>The findings support the hypothesis that these...</td>\n",
       "      <td>We were unable to confirm a benefit of hydroxy...</td>\n",
       "      <td>1</td>\n",
       "      <td>0.870841</td>\n",
       "    </tr>\n",
       "    <tr>\n",
       "      <th>9</th>\n",
       "      <td>The findings support the hypothesis that these...</td>\n",
       "      <td>This systematic review and meta-analysis showe...</td>\n",
       "      <td>1</td>\n",
       "      <td>0.836503</td>\n",
       "    </tr>\n",
       "    <tr>\n",
       "      <th>10</th>\n",
       "      <td>The findings support the hypothesis that these...</td>\n",
       "      <td>These results do not support the use of HCQ in...</td>\n",
       "      <td>1</td>\n",
       "      <td>0.761835</td>\n",
       "    </tr>\n",
       "    <tr>\n",
       "      <th>11</th>\n",
       "      <td>The findings support the hypothesis that these...</td>\n",
       "      <td>Interpretation Preliminary findings suggest th...</td>\n",
       "      <td>0</td>\n",
       "      <td>0.889206</td>\n",
       "    </tr>\n",
       "  </tbody>\n",
       "</table>\n",
       "</div>"
      ],
      "text/plain": [
       "                                 affirmative sentence  \\\n",
       "6   Preliminary evidence suggests potential benefi...   \n",
       "7   Preliminary evidence suggests potential benefi...   \n",
       "8   The findings support the hypothesis that these...   \n",
       "9   The findings support the hypothesis that these...   \n",
       "10  The findings support the hypothesis that these...   \n",
       "11  The findings support the hypothesis that these...   \n",
       "\n",
       "                                     negated sentence  label  span similarity  \n",
       "6   These results do not support the use of HCQ in...      1         0.693680  \n",
       "7   Interpretation Preliminary findings suggest th...      0         0.828888  \n",
       "8   We were unable to confirm a benefit of hydroxy...      1         0.870841  \n",
       "9   This systematic review and meta-analysis showe...      1         0.836503  \n",
       "10  These results do not support the use of HCQ in...      1         0.761835  \n",
       "11  Interpretation Preliminary findings suggest th...      0         0.889206  "
      ]
     },
     "execution_count": 50,
     "metadata": {},
     "output_type": "execute_result"
    }
   ],
   "source": [
    "# Show rows 6 till 11 of 'df_labeled_pairs'\n",
    "df_labeled_pairs.iloc[6:12]"
   ]
  },
  {
   "cell_type": "code",
   "execution_count": 51,
   "metadata": {},
   "outputs": [],
   "source": [
    "# Which span similarity values do disagreement pairs (labeled as \"1\") have?\n",
    "# Select rows where pairs are labeled as \"1\" and sort rows with regard to span similarity in descending order\n",
    "df_sorted_1 = df_labeled_pairs.loc[df_labeled_pairs[\"label\"] == 1].sort_values(\"span similarity\")"
   ]
  },
  {
   "cell_type": "code",
   "execution_count": 52,
   "metadata": {},
   "outputs": [
    {
     "data": {
      "text/html": [
       "<div>\n",
       "<style scoped>\n",
       "    .dataframe tbody tr th:only-of-type {\n",
       "        vertical-align: middle;\n",
       "    }\n",
       "\n",
       "    .dataframe tbody tr th {\n",
       "        vertical-align: top;\n",
       "    }\n",
       "\n",
       "    .dataframe thead th {\n",
       "        text-align: right;\n",
       "    }\n",
       "</style>\n",
       "<table border=\"1\" class=\"dataframe\">\n",
       "  <thead>\n",
       "    <tr style=\"text-align: right;\">\n",
       "      <th></th>\n",
       "      <th>affirmative sentence</th>\n",
       "      <th>negated sentence</th>\n",
       "      <th>label</th>\n",
       "      <th>span similarity</th>\n",
       "    </tr>\n",
       "  </thead>\n",
       "  <tbody>\n",
       "    <tr>\n",
       "      <th>6</th>\n",
       "      <td>Preliminary evidence suggests potential benefi...</td>\n",
       "      <td>These results do not support the use of HCQ in...</td>\n",
       "      <td>1</td>\n",
       "      <td>0.693680</td>\n",
       "    </tr>\n",
       "    <tr>\n",
       "      <th>10</th>\n",
       "      <td>The findings support the hypothesis that these...</td>\n",
       "      <td>These results do not support the use of HCQ in...</td>\n",
       "      <td>1</td>\n",
       "      <td>0.761835</td>\n",
       "    </tr>\n",
       "    <tr>\n",
       "      <th>18</th>\n",
       "      <td>Chloroquine phosphate, an old drug for treatme...</td>\n",
       "      <td>These results do not support the use of HCQ in...</td>\n",
       "      <td>1</td>\n",
       "      <td>0.818420</td>\n",
       "    </tr>\n",
       "    <tr>\n",
       "      <th>5</th>\n",
       "      <td>Preliminary evidence suggests potential benefi...</td>\n",
       "      <td>This systematic review and meta-analysis showe...</td>\n",
       "      <td>1</td>\n",
       "      <td>0.830467</td>\n",
       "    </tr>\n",
       "    <tr>\n",
       "      <th>9</th>\n",
       "      <td>The findings support the hypothesis that these...</td>\n",
       "      <td>This systematic review and meta-analysis showe...</td>\n",
       "      <td>1</td>\n",
       "      <td>0.836503</td>\n",
       "    </tr>\n",
       "    <tr>\n",
       "      <th>16</th>\n",
       "      <td>Chloroquine phosphate, an old drug for treatme...</td>\n",
       "      <td>We were unable to confirm a benefit of hydroxy...</td>\n",
       "      <td>1</td>\n",
       "      <td>0.840745</td>\n",
       "    </tr>\n",
       "    <tr>\n",
       "      <th>19</th>\n",
       "      <td>Chloroquine phosphate, an old drug for treatme...</td>\n",
       "      <td>Interpretation Preliminary findings suggest th...</td>\n",
       "      <td>1</td>\n",
       "      <td>0.853145</td>\n",
       "    </tr>\n",
       "    <tr>\n",
       "      <th>17</th>\n",
       "      <td>Chloroquine phosphate, an old drug for treatme...</td>\n",
       "      <td>This systematic review and meta-analysis showe...</td>\n",
       "      <td>1</td>\n",
       "      <td>0.858759</td>\n",
       "    </tr>\n",
       "    <tr>\n",
       "      <th>8</th>\n",
       "      <td>The findings support the hypothesis that these...</td>\n",
       "      <td>We were unable to confirm a benefit of hydroxy...</td>\n",
       "      <td>1</td>\n",
       "      <td>0.870841</td>\n",
       "    </tr>\n",
       "    <tr>\n",
       "      <th>13</th>\n",
       "      <td>Despite its small sample size, our survey show...</td>\n",
       "      <td>This systematic review and meta-analysis showe...</td>\n",
       "      <td>1</td>\n",
       "      <td>0.872061</td>\n",
       "    </tr>\n",
       "    <tr>\n",
       "      <th>12</th>\n",
       "      <td>Despite its small sample size, our survey show...</td>\n",
       "      <td>We were unable to confirm a benefit of hydroxy...</td>\n",
       "      <td>1</td>\n",
       "      <td>0.880366</td>\n",
       "    </tr>\n",
       "    <tr>\n",
       "      <th>4</th>\n",
       "      <td>Preliminary evidence suggests potential benefi...</td>\n",
       "      <td>We were unable to confirm a benefit of hydroxy...</td>\n",
       "      <td>1</td>\n",
       "      <td>0.882067</td>\n",
       "    </tr>\n",
       "  </tbody>\n",
       "</table>\n",
       "</div>"
      ],
      "text/plain": [
       "                                 affirmative sentence  \\\n",
       "6   Preliminary evidence suggests potential benefi...   \n",
       "10  The findings support the hypothesis that these...   \n",
       "18  Chloroquine phosphate, an old drug for treatme...   \n",
       "5   Preliminary evidence suggests potential benefi...   \n",
       "9   The findings support the hypothesis that these...   \n",
       "16  Chloroquine phosphate, an old drug for treatme...   \n",
       "19  Chloroquine phosphate, an old drug for treatme...   \n",
       "17  Chloroquine phosphate, an old drug for treatme...   \n",
       "8   The findings support the hypothesis that these...   \n",
       "13  Despite its small sample size, our survey show...   \n",
       "12  Despite its small sample size, our survey show...   \n",
       "4   Preliminary evidence suggests potential benefi...   \n",
       "\n",
       "                                     negated sentence  label  span similarity  \n",
       "6   These results do not support the use of HCQ in...      1         0.693680  \n",
       "10  These results do not support the use of HCQ in...      1         0.761835  \n",
       "18  These results do not support the use of HCQ in...      1         0.818420  \n",
       "5   This systematic review and meta-analysis showe...      1         0.830467  \n",
       "9   This systematic review and meta-analysis showe...      1         0.836503  \n",
       "16  We were unable to confirm a benefit of hydroxy...      1         0.840745  \n",
       "19  Interpretation Preliminary findings suggest th...      1         0.853145  \n",
       "17  This systematic review and meta-analysis showe...      1         0.858759  \n",
       "8   We were unable to confirm a benefit of hydroxy...      1         0.870841  \n",
       "13  This systematic review and meta-analysis showe...      1         0.872061  \n",
       "12  We were unable to confirm a benefit of hydroxy...      1         0.880366  \n",
       "4   We were unable to confirm a benefit of hydroxy...      1         0.882067  "
      ]
     },
     "execution_count": 52,
     "metadata": {},
     "output_type": "execute_result"
    }
   ],
   "source": [
    "# Show 'df_sorted_1'\n",
    "df_sorted_1"
   ]
  },
  {
   "cell_type": "code",
   "execution_count": 53,
   "metadata": {},
   "outputs": [
    {
     "data": {
      "text/plain": [
       "0.8332407027482986"
      ]
     },
     "execution_count": 53,
     "metadata": {},
     "output_type": "execute_result"
    }
   ],
   "source": [
    "# Show average span similarity of disagreement sentences (sentences labeled as \"1\")\n",
    "df_sorted_1[\"span similarity\"].mean()"
   ]
  },
  {
   "cell_type": "code",
   "execution_count": 54,
   "metadata": {},
   "outputs": [],
   "source": [
    "# Which span similarity values do non disagreement pairs (labeled as \"0\") have?\n",
    "# Select rows where pairs are labeled as \"0\" and sort rows with regard to span similarity in descending order\n",
    "df_sorted_0 = df_labeled_pairs.loc[df_labeled_pairs[\"label\"] == 0].sort_values(\"span similarity\")"
   ]
  },
  {
   "cell_type": "code",
   "execution_count": 55,
   "metadata": {},
   "outputs": [
    {
     "data": {
      "text/html": [
       "<div>\n",
       "<style scoped>\n",
       "    .dataframe tbody tr th:only-of-type {\n",
       "        vertical-align: middle;\n",
       "    }\n",
       "\n",
       "    .dataframe tbody tr th {\n",
       "        vertical-align: top;\n",
       "    }\n",
       "\n",
       "    .dataframe thead th {\n",
       "        text-align: right;\n",
       "    }\n",
       "</style>\n",
       "<table border=\"1\" class=\"dataframe\">\n",
       "  <thead>\n",
       "    <tr style=\"text-align: right;\">\n",
       "      <th></th>\n",
       "      <th>affirmative sentence</th>\n",
       "      <th>negated sentence</th>\n",
       "      <th>label</th>\n",
       "      <th>span similarity</th>\n",
       "    </tr>\n",
       "  </thead>\n",
       "  <tbody>\n",
       "    <tr>\n",
       "      <th>2</th>\n",
       "      <td>This re-analysis reveals severe limitations in...</td>\n",
       "      <td>These results do not support the use of HCQ in...</td>\n",
       "      <td>0</td>\n",
       "      <td>0.726318</td>\n",
       "    </tr>\n",
       "    <tr>\n",
       "      <th>14</th>\n",
       "      <td>Despite its small sample size, our survey show...</td>\n",
       "      <td>These results do not support the use of HCQ in...</td>\n",
       "      <td>0</td>\n",
       "      <td>0.780333</td>\n",
       "    </tr>\n",
       "    <tr>\n",
       "      <th>1</th>\n",
       "      <td>This re-analysis reveals severe limitations in...</td>\n",
       "      <td>This systematic review and meta-analysis showe...</td>\n",
       "      <td>0</td>\n",
       "      <td>0.828638</td>\n",
       "    </tr>\n",
       "    <tr>\n",
       "      <th>7</th>\n",
       "      <td>Preliminary evidence suggests potential benefi...</td>\n",
       "      <td>Interpretation Preliminary findings suggest th...</td>\n",
       "      <td>0</td>\n",
       "      <td>0.828888</td>\n",
       "    </tr>\n",
       "    <tr>\n",
       "      <th>3</th>\n",
       "      <td>This re-analysis reveals severe limitations in...</td>\n",
       "      <td>Interpretation Preliminary findings suggest th...</td>\n",
       "      <td>0</td>\n",
       "      <td>0.861157</td>\n",
       "    </tr>\n",
       "    <tr>\n",
       "      <th>0</th>\n",
       "      <td>This re-analysis reveals severe limitations in...</td>\n",
       "      <td>We were unable to confirm a benefit of hydroxy...</td>\n",
       "      <td>0</td>\n",
       "      <td>0.863716</td>\n",
       "    </tr>\n",
       "    <tr>\n",
       "      <th>15</th>\n",
       "      <td>Despite its small sample size, our survey show...</td>\n",
       "      <td>Interpretation Preliminary findings suggest th...</td>\n",
       "      <td>0</td>\n",
       "      <td>0.885565</td>\n",
       "    </tr>\n",
       "    <tr>\n",
       "      <th>11</th>\n",
       "      <td>The findings support the hypothesis that these...</td>\n",
       "      <td>Interpretation Preliminary findings suggest th...</td>\n",
       "      <td>0</td>\n",
       "      <td>0.889206</td>\n",
       "    </tr>\n",
       "  </tbody>\n",
       "</table>\n",
       "</div>"
      ],
      "text/plain": [
       "                                 affirmative sentence  \\\n",
       "2   This re-analysis reveals severe limitations in...   \n",
       "14  Despite its small sample size, our survey show...   \n",
       "1   This re-analysis reveals severe limitations in...   \n",
       "7   Preliminary evidence suggests potential benefi...   \n",
       "3   This re-analysis reveals severe limitations in...   \n",
       "0   This re-analysis reveals severe limitations in...   \n",
       "15  Despite its small sample size, our survey show...   \n",
       "11  The findings support the hypothesis that these...   \n",
       "\n",
       "                                     negated sentence  label  span similarity  \n",
       "2   These results do not support the use of HCQ in...      0         0.726318  \n",
       "14  These results do not support the use of HCQ in...      0         0.780333  \n",
       "1   This systematic review and meta-analysis showe...      0         0.828638  \n",
       "7   Interpretation Preliminary findings suggest th...      0         0.828888  \n",
       "3   Interpretation Preliminary findings suggest th...      0         0.861157  \n",
       "0   We were unable to confirm a benefit of hydroxy...      0         0.863716  \n",
       "15  Interpretation Preliminary findings suggest th...      0         0.885565  \n",
       "11  Interpretation Preliminary findings suggest th...      0         0.889206  "
      ]
     },
     "execution_count": 55,
     "metadata": {},
     "output_type": "execute_result"
    }
   ],
   "source": [
    "# Show 'df_sorted_0'\n",
    "df_sorted_0"
   ]
  },
  {
   "cell_type": "code",
   "execution_count": 56,
   "metadata": {},
   "outputs": [
    {
     "data": {
      "text/plain": [
       "0.8329775184392929"
      ]
     },
     "execution_count": 56,
     "metadata": {},
     "output_type": "execute_result"
    }
   ],
   "source": [
    "# Show average span similarity of non disagreement sentences (sentences labeled as \"0\")\n",
    "df_sorted_0[\"span similarity\"].mean()"
   ]
  },
  {
   "cell_type": "markdown",
   "metadata": {},
   "source": [
    "**Example: how values in column \"prediction\" are generated**"
   ]
  },
  {
   "cell_type": "code",
   "execution_count": 57,
   "metadata": {},
   "outputs": [],
   "source": [
    "# Add column 'prediction' to 'df_labeled_pairs'\n",
    "# Prediction is based on span similarity value, here as an example \"0.84\"\n",
    "df_labeled_pairs = df_labeled_pairs.assign(prediction=lambda df: df[\"span similarity\"] >= 0.84)"
   ]
  },
  {
   "cell_type": "code",
   "execution_count": 58,
   "metadata": {},
   "outputs": [],
   "source": [
    "# Rearrange columns\n",
    "df_labeled_pairs = df_labeled_pairs[[\"affirmative sentence\", \"negated sentence\", \"span similarity\", \"label\", \"prediction\"]]"
   ]
  },
  {
   "cell_type": "code",
   "execution_count": 59,
   "metadata": {},
   "outputs": [
    {
     "data": {
      "text/html": [
       "<div>\n",
       "<style scoped>\n",
       "    .dataframe tbody tr th:only-of-type {\n",
       "        vertical-align: middle;\n",
       "    }\n",
       "\n",
       "    .dataframe tbody tr th {\n",
       "        vertical-align: top;\n",
       "    }\n",
       "\n",
       "    .dataframe thead th {\n",
       "        text-align: right;\n",
       "    }\n",
       "</style>\n",
       "<table border=\"1\" class=\"dataframe\">\n",
       "  <thead>\n",
       "    <tr style=\"text-align: right;\">\n",
       "      <th></th>\n",
       "      <th>affirmative sentence</th>\n",
       "      <th>negated sentence</th>\n",
       "      <th>span similarity</th>\n",
       "      <th>label</th>\n",
       "      <th>prediction</th>\n",
       "    </tr>\n",
       "  </thead>\n",
       "  <tbody>\n",
       "    <tr>\n",
       "      <th>0</th>\n",
       "      <td>This re-analysis reveals severe limitations in...</td>\n",
       "      <td>We were unable to confirm a benefit of hydroxy...</td>\n",
       "      <td>0.863716</td>\n",
       "      <td>0</td>\n",
       "      <td>True</td>\n",
       "    </tr>\n",
       "    <tr>\n",
       "      <th>1</th>\n",
       "      <td>This re-analysis reveals severe limitations in...</td>\n",
       "      <td>This systematic review and meta-analysis showe...</td>\n",
       "      <td>0.828638</td>\n",
       "      <td>0</td>\n",
       "      <td>False</td>\n",
       "    </tr>\n",
       "    <tr>\n",
       "      <th>2</th>\n",
       "      <td>This re-analysis reveals severe limitations in...</td>\n",
       "      <td>These results do not support the use of HCQ in...</td>\n",
       "      <td>0.726318</td>\n",
       "      <td>0</td>\n",
       "      <td>False</td>\n",
       "    </tr>\n",
       "    <tr>\n",
       "      <th>3</th>\n",
       "      <td>This re-analysis reveals severe limitations in...</td>\n",
       "      <td>Interpretation Preliminary findings suggest th...</td>\n",
       "      <td>0.861157</td>\n",
       "      <td>0</td>\n",
       "      <td>True</td>\n",
       "    </tr>\n",
       "    <tr>\n",
       "      <th>4</th>\n",
       "      <td>Preliminary evidence suggests potential benefi...</td>\n",
       "      <td>We were unable to confirm a benefit of hydroxy...</td>\n",
       "      <td>0.882067</td>\n",
       "      <td>1</td>\n",
       "      <td>True</td>\n",
       "    </tr>\n",
       "  </tbody>\n",
       "</table>\n",
       "</div>"
      ],
      "text/plain": [
       "                                affirmative sentence  \\\n",
       "0  This re-analysis reveals severe limitations in...   \n",
       "1  This re-analysis reveals severe limitations in...   \n",
       "2  This re-analysis reveals severe limitations in...   \n",
       "3  This re-analysis reveals severe limitations in...   \n",
       "4  Preliminary evidence suggests potential benefi...   \n",
       "\n",
       "                                    negated sentence  span similarity  label  \\\n",
       "0  We were unable to confirm a benefit of hydroxy...         0.863716      0   \n",
       "1  This systematic review and meta-analysis showe...         0.828638      0   \n",
       "2  These results do not support the use of HCQ in...         0.726318      0   \n",
       "3  Interpretation Preliminary findings suggest th...         0.861157      0   \n",
       "4  We were unable to confirm a benefit of hydroxy...         0.882067      1   \n",
       "\n",
       "   prediction  \n",
       "0        True  \n",
       "1       False  \n",
       "2       False  \n",
       "3        True  \n",
       "4        True  "
      ]
     },
     "execution_count": 59,
     "metadata": {},
     "output_type": "execute_result"
    }
   ],
   "source": [
    "# Show first five rows of 'df_labeled_pairs'\n",
    "df_labeled_pairs.head()"
   ]
  },
  {
   "cell_type": "code",
   "execution_count": 60,
   "metadata": {},
   "outputs": [],
   "source": [
    "# In column 'prediction': convert \"True\" into \"1\" and \"False\" into \"0\"\n",
    "df_labeled_pairs = df_labeled_pairs.assign(prediction=lambda df: df[\"prediction\"].astype(np.int8))"
   ]
  },
  {
   "cell_type": "code",
   "execution_count": 61,
   "metadata": {},
   "outputs": [
    {
     "data": {
      "text/html": [
       "<div>\n",
       "<style scoped>\n",
       "    .dataframe tbody tr th:only-of-type {\n",
       "        vertical-align: middle;\n",
       "    }\n",
       "\n",
       "    .dataframe tbody tr th {\n",
       "        vertical-align: top;\n",
       "    }\n",
       "\n",
       "    .dataframe thead th {\n",
       "        text-align: right;\n",
       "    }\n",
       "</style>\n",
       "<table border=\"1\" class=\"dataframe\">\n",
       "  <thead>\n",
       "    <tr style=\"text-align: right;\">\n",
       "      <th></th>\n",
       "      <th>affirmative sentence</th>\n",
       "      <th>negated sentence</th>\n",
       "      <th>span similarity</th>\n",
       "      <th>label</th>\n",
       "      <th>prediction</th>\n",
       "    </tr>\n",
       "  </thead>\n",
       "  <tbody>\n",
       "    <tr>\n",
       "      <th>0</th>\n",
       "      <td>This re-analysis reveals severe limitations in...</td>\n",
       "      <td>We were unable to confirm a benefit of hydroxy...</td>\n",
       "      <td>0.863716</td>\n",
       "      <td>0</td>\n",
       "      <td>1</td>\n",
       "    </tr>\n",
       "    <tr>\n",
       "      <th>1</th>\n",
       "      <td>This re-analysis reveals severe limitations in...</td>\n",
       "      <td>This systematic review and meta-analysis showe...</td>\n",
       "      <td>0.828638</td>\n",
       "      <td>0</td>\n",
       "      <td>0</td>\n",
       "    </tr>\n",
       "    <tr>\n",
       "      <th>2</th>\n",
       "      <td>This re-analysis reveals severe limitations in...</td>\n",
       "      <td>These results do not support the use of HCQ in...</td>\n",
       "      <td>0.726318</td>\n",
       "      <td>0</td>\n",
       "      <td>0</td>\n",
       "    </tr>\n",
       "    <tr>\n",
       "      <th>3</th>\n",
       "      <td>This re-analysis reveals severe limitations in...</td>\n",
       "      <td>Interpretation Preliminary findings suggest th...</td>\n",
       "      <td>0.861157</td>\n",
       "      <td>0</td>\n",
       "      <td>1</td>\n",
       "    </tr>\n",
       "    <tr>\n",
       "      <th>4</th>\n",
       "      <td>Preliminary evidence suggests potential benefi...</td>\n",
       "      <td>We were unable to confirm a benefit of hydroxy...</td>\n",
       "      <td>0.882067</td>\n",
       "      <td>1</td>\n",
       "      <td>1</td>\n",
       "    </tr>\n",
       "  </tbody>\n",
       "</table>\n",
       "</div>"
      ],
      "text/plain": [
       "                                affirmative sentence  \\\n",
       "0  This re-analysis reveals severe limitations in...   \n",
       "1  This re-analysis reveals severe limitations in...   \n",
       "2  This re-analysis reveals severe limitations in...   \n",
       "3  This re-analysis reveals severe limitations in...   \n",
       "4  Preliminary evidence suggests potential benefi...   \n",
       "\n",
       "                                    negated sentence  span similarity  label  \\\n",
       "0  We were unable to confirm a benefit of hydroxy...         0.863716      0   \n",
       "1  This systematic review and meta-analysis showe...         0.828638      0   \n",
       "2  These results do not support the use of HCQ in...         0.726318      0   \n",
       "3  Interpretation Preliminary findings suggest th...         0.861157      0   \n",
       "4  We were unable to confirm a benefit of hydroxy...         0.882067      1   \n",
       "\n",
       "   prediction  \n",
       "0           1  \n",
       "1           0  \n",
       "2           0  \n",
       "3           1  \n",
       "4           1  "
      ]
     },
     "execution_count": 61,
     "metadata": {},
     "output_type": "execute_result"
    }
   ],
   "source": [
    "# Show first five rows of 'df_labeled_pairs'\n",
    "df_labeled_pairs.head()"
   ]
  },
  {
   "cell_type": "markdown",
   "metadata": {},
   "source": [
    "### 6.2 Evaluation"
   ]
  },
  {
   "cell_type": "code",
   "execution_count": 62,
   "metadata": {},
   "outputs": [
    {
     "data": {
      "text/plain": [
       "0.693679928779602"
      ]
     },
     "execution_count": 62,
     "metadata": {},
     "output_type": "execute_result"
    }
   ],
   "source": [
    "# Smallest span similarity value\n",
    "df_labeled_pairs[\"span similarity\"].min()"
   ]
  },
  {
   "cell_type": "code",
   "execution_count": 63,
   "metadata": {},
   "outputs": [
    {
     "data": {
      "text/plain": [
       "0.8892055749893188"
      ]
     },
     "execution_count": 63,
     "metadata": {},
     "output_type": "execute_result"
    }
   ],
   "source": [
    "# Largest span similarity value\n",
    "df_labeled_pairs[\"span similarity\"].max()"
   ]
  },
  {
   "cell_type": "code",
   "execution_count": 64,
   "metadata": {},
   "outputs": [
    {
     "data": {
      "text/plain": [
       "0.8331354290246964"
      ]
     },
     "execution_count": 64,
     "metadata": {},
     "output_type": "execute_result"
    }
   ],
   "source": [
    "# Average span similarity of sentence pairs\n",
    "df_labeled_pairs[\"span similarity\"].mean()"
   ]
  },
  {
   "cell_type": "code",
   "execution_count": 65,
   "metadata": {},
   "outputs": [
    {
     "data": {
      "text/plain": [
       "0.8332407027482986"
      ]
     },
     "execution_count": 65,
     "metadata": {},
     "output_type": "execute_result"
    }
   ],
   "source": [
    "# Average span similarity of disagreement sentences (sentences labeled as \"1\")\n",
    "df_sorted_1[\"span similarity\"].mean()"
   ]
  },
  {
   "cell_type": "code",
   "execution_count": 66,
   "metadata": {},
   "outputs": [
    {
     "data": {
      "text/plain": [
       "0.8329775184392929"
      ]
     },
     "execution_count": 66,
     "metadata": {},
     "output_type": "execute_result"
    }
   ],
   "source": [
    "# Average span similarity of non disagreement sentences (sentences labeled as \"0\")\n",
    "df_sorted_0[\"span similarity\"].mean()"
   ]
  },
  {
   "cell_type": "markdown",
   "metadata": {},
   "source": [
    "#### 6.2.1 Confusion Matrix"
   ]
  },
  {
   "cell_type": "code",
   "execution_count": 67,
   "metadata": {},
   "outputs": [
    {
     "name": "stdout",
     "output_type": "stream",
     "text": [
      "Similarity value: 0.69\n",
      "[[ 0  8]\n",
      " [ 0 12]]\n",
      "------------------------------------------------------------\n",
      "\n",
      "Similarity value: 0.7\n",
      "[[ 0  8]\n",
      " [ 1 11]]\n",
      "------------------------------------------------------------\n",
      "\n",
      "Similarity value: 0.71\n",
      "[[ 0  8]\n",
      " [ 1 11]]\n",
      "------------------------------------------------------------\n",
      "\n",
      "Similarity value: 0.72\n",
      "[[ 0  8]\n",
      " [ 1 11]]\n",
      "------------------------------------------------------------\n",
      "\n",
      "Similarity value: 0.73\n",
      "[[ 1  7]\n",
      " [ 1 11]]\n",
      "------------------------------------------------------------\n",
      "\n",
      "Similarity value: 0.74\n",
      "[[ 1  7]\n",
      " [ 1 11]]\n",
      "------------------------------------------------------------\n",
      "\n",
      "Similarity value: 0.75\n",
      "[[ 1  7]\n",
      " [ 1 11]]\n",
      "------------------------------------------------------------\n",
      "\n",
      "Similarity value: 0.76\n",
      "[[ 1  7]\n",
      " [ 1 11]]\n",
      "------------------------------------------------------------\n",
      "\n",
      "Similarity value: 0.77\n",
      "[[ 1  7]\n",
      " [ 2 10]]\n",
      "------------------------------------------------------------\n",
      "\n",
      "Similarity value: 0.78\n",
      "[[ 1  7]\n",
      " [ 2 10]]\n",
      "------------------------------------------------------------\n",
      "\n",
      "Similarity value: 0.79\n",
      "[[ 2  6]\n",
      " [ 2 10]]\n",
      "------------------------------------------------------------\n",
      "\n",
      "Similarity value: 0.8\n",
      "[[ 2  6]\n",
      " [ 2 10]]\n",
      "------------------------------------------------------------\n",
      "\n",
      "Similarity value: 0.81\n",
      "[[ 2  6]\n",
      " [ 2 10]]\n",
      "------------------------------------------------------------\n",
      "\n",
      "Similarity value: 0.8200000000000001\n",
      "[[2 6]\n",
      " [3 9]]\n",
      "------------------------------------------------------------\n",
      "\n",
      "Similarity value: 0.8300000000000001\n",
      "[[4 4]\n",
      " [3 9]]\n",
      "------------------------------------------------------------\n",
      "\n",
      "Similarity value: 0.8400000000000001\n",
      "[[4 4]\n",
      " [5 7]]\n",
      "------------------------------------------------------------\n",
      "\n",
      "Similarity value: 0.8500000000000001\n",
      "[[4 4]\n",
      " [6 6]]\n",
      "------------------------------------------------------------\n",
      "\n",
      "Similarity value: 0.8600000000000001\n",
      "[[4 4]\n",
      " [8 4]]\n",
      "------------------------------------------------------------\n",
      "\n",
      "Similarity value: 0.8700000000000001\n",
      "[[6 2]\n",
      " [8 4]]\n",
      "------------------------------------------------------------\n",
      "\n",
      "Similarity value: 0.8800000000000001\n",
      "[[ 6  2]\n",
      " [10  2]]\n",
      "------------------------------------------------------------\n",
      "\n",
      "Similarity value: 0.8900000000000001\n",
      "[[ 8  0]\n",
      " [12  0]]\n",
      "------------------------------------------------------------\n",
      "\n"
     ]
    }
   ],
   "source": [
    "# Make confusion matrices for each value of span similarity that is in the intervall [0.69, 0.9]\n",
    "# You get from one value to the next higher value by adding 0.01\n",
    "similarity_value = 0.69\n",
    "\n",
    "while similarity_value < 0.9:\n",
    "    df_labeled_pairs = df_labeled_pairs.assign(prediction=lambda df: df[\"span similarity\"] >= similarity_value)\n",
    "    df_labeled_pairs = df_labeled_pairs.assign(prediction=lambda df: df[\"prediction\"].astype(np.int8))\n",
    "    \n",
    "    print(f\"Similarity value: {similarity_value}\")\n",
    "    print(confusion_matrix(df_labeled_pairs[\"label\"], df_labeled_pairs[\"prediction\"]))\n",
    "    print(\"------------------------------------------------------------\\n\")\n",
    "    \n",
    "    similarity_value += 0.01"
   ]
  },
  {
   "cell_type": "code",
   "execution_count": 68,
   "metadata": {},
   "outputs": [
    {
     "name": "stdout",
     "output_type": "stream",
     "text": [
      "Similarity value: 0.8332407027482986\n",
      "[[4 4]\n",
      " [4 8]]\n"
     ]
    }
   ],
   "source": [
    "# Confusion Matrix when threshold is average span similarity of disagreement pairs (pairs labeled as \"1\")\n",
    "df_labeled_pairs = df_labeled_pairs.assign(prediction=lambda df: df[\"span similarity\"] >= df_sorted_1[\"span similarity\"].mean())\n",
    "df_labeled_pairs = df_labeled_pairs.assign(prediction=lambda df: df[\"prediction\"].astype(np.int8))\n",
    "\n",
    "print(f\"Similarity value: {df_sorted_1['span similarity'].mean()}\")\n",
    "print(confusion_matrix(df_labeled_pairs[\"label\"], df_labeled_pairs[\"prediction\"]))"
   ]
  },
  {
   "cell_type": "code",
   "execution_count": 69,
   "metadata": {},
   "outputs": [
    {
     "name": "stdout",
     "output_type": "stream",
     "text": [
      "Similarity value: 0.8331354290246964\n",
      "[[4 4]\n",
      " [4 8]]\n"
     ]
    }
   ],
   "source": [
    "# Confusion Matrix when threshold is average span similarity of all sentence pairs\n",
    "df_labeled_pairs = df_labeled_pairs.assign(prediction=lambda df: df[\"span similarity\"] >= df_labeled_pairs[\"span similarity\"].mean())\n",
    "df_labeled_pairs = df_labeled_pairs.assign(prediction=lambda df: df[\"prediction\"].astype(np.int8))\n",
    "\n",
    "print(f\"Similarity value: {df_labeled_pairs['span similarity'].mean()}\")\n",
    "print(confusion_matrix(df_labeled_pairs[\"label\"], df_labeled_pairs[\"prediction\"]))"
   ]
  },
  {
   "cell_type": "code",
   "execution_count": 70,
   "metadata": {},
   "outputs": [
    {
     "name": "stdout",
     "output_type": "stream",
     "text": [
      "Similarity value: 0.8329775184392929\n",
      "[[4 4]\n",
      " [4 8]]\n"
     ]
    }
   ],
   "source": [
    "# Confusion Matrix when threshold is average span similarity of non disagreement pairs (pairs labeled as \"0\")\n",
    "df_labeled_pairs = df_labeled_pairs.assign(prediction=lambda df: df[\"span similarity\"] >= df_sorted_0[\"span similarity\"].mean())\n",
    "df_labeled_pairs = df_labeled_pairs.assign(prediction=lambda df: df[\"prediction\"].astype(np.int8))\n",
    "\n",
    "print(f\"Similarity value: {df_sorted_0['span similarity'].mean()}\")\n",
    "print(confusion_matrix(df_labeled_pairs[\"label\"], df_labeled_pairs[\"prediction\"]))"
   ]
  },
  {
   "cell_type": "code",
   "execution_count": 71,
   "metadata": {},
   "outputs": [],
   "source": [
    "# Values from confusion matrices, divided by category\n",
    "sim_value = [0.69, 0.7, 0.71, 0.72, 0.73, 0.74, 0.75, 0.76, 0.77, 0.78, 0.79, 0.8, 0.81, 0.82, 0.83, 0.84, 0.85, 0.86, 0.87, 0.88, 0.89, 0.8332407027482986, 0.8331354290246964, 0.8329775184392929]\n",
    "\n",
    "correct_0 = [0, 0, 0, 0, 1, 1, 1, 1, 1, 1, 2, 2, 2, 2, 4, 4, 4, 4, 6, 6, 8, 4, 4, 4]\n",
    "\n",
    "false_pos = [8, 8, 8, 8, 7, 7, 7, 7, 7, 7, 6, 6, 6, 6, 4, 4, 4, 4, 2, 2, 0, 4, 4, 4]\n",
    "\n",
    "false_neg = [0, 1, 1, 1, 1, 1, 1, 1, 2, 2, 2, 2, 2, 3, 3, 5, 6, 8, 8, 10, 12, 4, 4, 4]\n",
    "\n",
    "correct_1 = [12, 11, 11, 11, 11, 11, 11, 11, 10, 10, 10, 10, 10, 9, 9, 7, 6, 4, 4, 2, 0, 8, 8, 8]"
   ]
  },
  {
   "cell_type": "code",
   "execution_count": 72,
   "metadata": {},
   "outputs": [],
   "source": [
    "# Dictionary categorizing values from confusion matrices: confusionMatrix_dict_1\n",
    "confusionMatrix_dict_1 = {\"similarity value\": sim_value, \"0/0\": correct_0, \"0/1\": false_pos, \"1/0\": false_neg, \"1/1\":correct_1}"
   ]
  },
  {
   "cell_type": "code",
   "execution_count": 73,
   "metadata": {},
   "outputs": [],
   "source": [
    "# Make dataframe from 'confusionMatrix_dict_1': confusionMatrix_df_1\n",
    "confusionMatrix_df_1 = pd.DataFrame(confusionMatrix_dict_1)"
   ]
  },
  {
   "cell_type": "code",
   "execution_count": 74,
   "metadata": {},
   "outputs": [],
   "source": [
    "# Column \"correct\": Sum of values from \"0/0\" and \"1/1\" \n",
    "confusionMatrix_df_1[\"correct\"] = confusionMatrix_df_1[\"0/0\"] + confusionMatrix_df_1[\"1/1\"]"
   ]
  },
  {
   "cell_type": "code",
   "execution_count": 75,
   "metadata": {},
   "outputs": [],
   "source": [
    "# Column \"mistakes\": Sum of values from \"0/1\" (false positives) and \"1/0\" (false negatives)\n",
    "confusionMatrix_df_1[\"mistakes\"] = confusionMatrix_df_1[\"0/1\"] + confusionMatrix_df_1[\"1/0\"]"
   ]
  },
  {
   "cell_type": "code",
   "execution_count": 76,
   "metadata": {},
   "outputs": [
    {
     "data": {
      "text/html": [
       "<div>\n",
       "<style scoped>\n",
       "    .dataframe tbody tr th:only-of-type {\n",
       "        vertical-align: middle;\n",
       "    }\n",
       "\n",
       "    .dataframe tbody tr th {\n",
       "        vertical-align: top;\n",
       "    }\n",
       "\n",
       "    .dataframe thead th {\n",
       "        text-align: right;\n",
       "    }\n",
       "</style>\n",
       "<table border=\"1\" class=\"dataframe\">\n",
       "  <thead>\n",
       "    <tr style=\"text-align: right;\">\n",
       "      <th></th>\n",
       "      <th>similarity value</th>\n",
       "      <th>0/0</th>\n",
       "      <th>0/1</th>\n",
       "      <th>1/0</th>\n",
       "      <th>1/1</th>\n",
       "      <th>correct</th>\n",
       "      <th>mistakes</th>\n",
       "    </tr>\n",
       "  </thead>\n",
       "  <tbody>\n",
       "    <tr>\n",
       "      <th>0</th>\n",
       "      <td>0.690000</td>\n",
       "      <td>0</td>\n",
       "      <td>8</td>\n",
       "      <td>0</td>\n",
       "      <td>12</td>\n",
       "      <td>12</td>\n",
       "      <td>8</td>\n",
       "    </tr>\n",
       "    <tr>\n",
       "      <th>1</th>\n",
       "      <td>0.700000</td>\n",
       "      <td>0</td>\n",
       "      <td>8</td>\n",
       "      <td>1</td>\n",
       "      <td>11</td>\n",
       "      <td>11</td>\n",
       "      <td>9</td>\n",
       "    </tr>\n",
       "    <tr>\n",
       "      <th>2</th>\n",
       "      <td>0.710000</td>\n",
       "      <td>0</td>\n",
       "      <td>8</td>\n",
       "      <td>1</td>\n",
       "      <td>11</td>\n",
       "      <td>11</td>\n",
       "      <td>9</td>\n",
       "    </tr>\n",
       "    <tr>\n",
       "      <th>3</th>\n",
       "      <td>0.720000</td>\n",
       "      <td>0</td>\n",
       "      <td>8</td>\n",
       "      <td>1</td>\n",
       "      <td>11</td>\n",
       "      <td>11</td>\n",
       "      <td>9</td>\n",
       "    </tr>\n",
       "    <tr>\n",
       "      <th>4</th>\n",
       "      <td>0.730000</td>\n",
       "      <td>1</td>\n",
       "      <td>7</td>\n",
       "      <td>1</td>\n",
       "      <td>11</td>\n",
       "      <td>12</td>\n",
       "      <td>8</td>\n",
       "    </tr>\n",
       "    <tr>\n",
       "      <th>5</th>\n",
       "      <td>0.740000</td>\n",
       "      <td>1</td>\n",
       "      <td>7</td>\n",
       "      <td>1</td>\n",
       "      <td>11</td>\n",
       "      <td>12</td>\n",
       "      <td>8</td>\n",
       "    </tr>\n",
       "    <tr>\n",
       "      <th>6</th>\n",
       "      <td>0.750000</td>\n",
       "      <td>1</td>\n",
       "      <td>7</td>\n",
       "      <td>1</td>\n",
       "      <td>11</td>\n",
       "      <td>12</td>\n",
       "      <td>8</td>\n",
       "    </tr>\n",
       "    <tr>\n",
       "      <th>7</th>\n",
       "      <td>0.760000</td>\n",
       "      <td>1</td>\n",
       "      <td>7</td>\n",
       "      <td>1</td>\n",
       "      <td>11</td>\n",
       "      <td>12</td>\n",
       "      <td>8</td>\n",
       "    </tr>\n",
       "    <tr>\n",
       "      <th>8</th>\n",
       "      <td>0.770000</td>\n",
       "      <td>1</td>\n",
       "      <td>7</td>\n",
       "      <td>2</td>\n",
       "      <td>10</td>\n",
       "      <td>11</td>\n",
       "      <td>9</td>\n",
       "    </tr>\n",
       "    <tr>\n",
       "      <th>9</th>\n",
       "      <td>0.780000</td>\n",
       "      <td>1</td>\n",
       "      <td>7</td>\n",
       "      <td>2</td>\n",
       "      <td>10</td>\n",
       "      <td>11</td>\n",
       "      <td>9</td>\n",
       "    </tr>\n",
       "    <tr>\n",
       "      <th>10</th>\n",
       "      <td>0.790000</td>\n",
       "      <td>2</td>\n",
       "      <td>6</td>\n",
       "      <td>2</td>\n",
       "      <td>10</td>\n",
       "      <td>12</td>\n",
       "      <td>8</td>\n",
       "    </tr>\n",
       "    <tr>\n",
       "      <th>11</th>\n",
       "      <td>0.800000</td>\n",
       "      <td>2</td>\n",
       "      <td>6</td>\n",
       "      <td>2</td>\n",
       "      <td>10</td>\n",
       "      <td>12</td>\n",
       "      <td>8</td>\n",
       "    </tr>\n",
       "    <tr>\n",
       "      <th>12</th>\n",
       "      <td>0.810000</td>\n",
       "      <td>2</td>\n",
       "      <td>6</td>\n",
       "      <td>2</td>\n",
       "      <td>10</td>\n",
       "      <td>12</td>\n",
       "      <td>8</td>\n",
       "    </tr>\n",
       "    <tr>\n",
       "      <th>13</th>\n",
       "      <td>0.820000</td>\n",
       "      <td>2</td>\n",
       "      <td>6</td>\n",
       "      <td>3</td>\n",
       "      <td>9</td>\n",
       "      <td>11</td>\n",
       "      <td>9</td>\n",
       "    </tr>\n",
       "    <tr>\n",
       "      <th>14</th>\n",
       "      <td>0.830000</td>\n",
       "      <td>4</td>\n",
       "      <td>4</td>\n",
       "      <td>3</td>\n",
       "      <td>9</td>\n",
       "      <td>13</td>\n",
       "      <td>7</td>\n",
       "    </tr>\n",
       "    <tr>\n",
       "      <th>15</th>\n",
       "      <td>0.840000</td>\n",
       "      <td>4</td>\n",
       "      <td>4</td>\n",
       "      <td>5</td>\n",
       "      <td>7</td>\n",
       "      <td>11</td>\n",
       "      <td>9</td>\n",
       "    </tr>\n",
       "    <tr>\n",
       "      <th>16</th>\n",
       "      <td>0.850000</td>\n",
       "      <td>4</td>\n",
       "      <td>4</td>\n",
       "      <td>6</td>\n",
       "      <td>6</td>\n",
       "      <td>10</td>\n",
       "      <td>10</td>\n",
       "    </tr>\n",
       "    <tr>\n",
       "      <th>17</th>\n",
       "      <td>0.860000</td>\n",
       "      <td>4</td>\n",
       "      <td>4</td>\n",
       "      <td>8</td>\n",
       "      <td>4</td>\n",
       "      <td>8</td>\n",
       "      <td>12</td>\n",
       "    </tr>\n",
       "    <tr>\n",
       "      <th>18</th>\n",
       "      <td>0.870000</td>\n",
       "      <td>6</td>\n",
       "      <td>2</td>\n",
       "      <td>8</td>\n",
       "      <td>4</td>\n",
       "      <td>10</td>\n",
       "      <td>10</td>\n",
       "    </tr>\n",
       "    <tr>\n",
       "      <th>19</th>\n",
       "      <td>0.880000</td>\n",
       "      <td>6</td>\n",
       "      <td>2</td>\n",
       "      <td>10</td>\n",
       "      <td>2</td>\n",
       "      <td>8</td>\n",
       "      <td>12</td>\n",
       "    </tr>\n",
       "    <tr>\n",
       "      <th>20</th>\n",
       "      <td>0.890000</td>\n",
       "      <td>8</td>\n",
       "      <td>0</td>\n",
       "      <td>12</td>\n",
       "      <td>0</td>\n",
       "      <td>8</td>\n",
       "      <td>12</td>\n",
       "    </tr>\n",
       "    <tr>\n",
       "      <th>21</th>\n",
       "      <td>0.833241</td>\n",
       "      <td>4</td>\n",
       "      <td>4</td>\n",
       "      <td>4</td>\n",
       "      <td>8</td>\n",
       "      <td>12</td>\n",
       "      <td>8</td>\n",
       "    </tr>\n",
       "    <tr>\n",
       "      <th>22</th>\n",
       "      <td>0.833135</td>\n",
       "      <td>4</td>\n",
       "      <td>4</td>\n",
       "      <td>4</td>\n",
       "      <td>8</td>\n",
       "      <td>12</td>\n",
       "      <td>8</td>\n",
       "    </tr>\n",
       "    <tr>\n",
       "      <th>23</th>\n",
       "      <td>0.832978</td>\n",
       "      <td>4</td>\n",
       "      <td>4</td>\n",
       "      <td>4</td>\n",
       "      <td>8</td>\n",
       "      <td>12</td>\n",
       "      <td>8</td>\n",
       "    </tr>\n",
       "  </tbody>\n",
       "</table>\n",
       "</div>"
      ],
      "text/plain": [
       "    similarity value  0/0  0/1  1/0  1/1  correct  mistakes\n",
       "0           0.690000    0    8    0   12       12         8\n",
       "1           0.700000    0    8    1   11       11         9\n",
       "2           0.710000    0    8    1   11       11         9\n",
       "3           0.720000    0    8    1   11       11         9\n",
       "4           0.730000    1    7    1   11       12         8\n",
       "5           0.740000    1    7    1   11       12         8\n",
       "6           0.750000    1    7    1   11       12         8\n",
       "7           0.760000    1    7    1   11       12         8\n",
       "8           0.770000    1    7    2   10       11         9\n",
       "9           0.780000    1    7    2   10       11         9\n",
       "10          0.790000    2    6    2   10       12         8\n",
       "11          0.800000    2    6    2   10       12         8\n",
       "12          0.810000    2    6    2   10       12         8\n",
       "13          0.820000    2    6    3    9       11         9\n",
       "14          0.830000    4    4    3    9       13         7\n",
       "15          0.840000    4    4    5    7       11         9\n",
       "16          0.850000    4    4    6    6       10        10\n",
       "17          0.860000    4    4    8    4        8        12\n",
       "18          0.870000    6    2    8    4       10        10\n",
       "19          0.880000    6    2   10    2        8        12\n",
       "20          0.890000    8    0   12    0        8        12\n",
       "21          0.833241    4    4    4    8       12         8\n",
       "22          0.833135    4    4    4    8       12         8\n",
       "23          0.832978    4    4    4    8       12         8"
      ]
     },
     "execution_count": 76,
     "metadata": {},
     "output_type": "execute_result"
    }
   ],
   "source": [
    "# Dataframe 'confusionMatrix_df_1'\n",
    "confusionMatrix_df_1"
   ]
  },
  {
   "cell_type": "code",
   "execution_count": 77,
   "metadata": {},
   "outputs": [],
   "source": [
    "# Order rows after values in column \"correct\" in descending order (high to low)\n",
    "confusionMatrix_df_1 = confusionMatrix_df_1.sort_values(\"correct\", ascending=False)"
   ]
  },
  {
   "cell_type": "code",
   "execution_count": 78,
   "metadata": {},
   "outputs": [
    {
     "data": {
      "text/html": [
       "<div>\n",
       "<style scoped>\n",
       "    .dataframe tbody tr th:only-of-type {\n",
       "        vertical-align: middle;\n",
       "    }\n",
       "\n",
       "    .dataframe tbody tr th {\n",
       "        vertical-align: top;\n",
       "    }\n",
       "\n",
       "    .dataframe thead th {\n",
       "        text-align: right;\n",
       "    }\n",
       "</style>\n",
       "<table border=\"1\" class=\"dataframe\">\n",
       "  <thead>\n",
       "    <tr style=\"text-align: right;\">\n",
       "      <th></th>\n",
       "      <th>similarity value</th>\n",
       "      <th>0/0</th>\n",
       "      <th>0/1</th>\n",
       "      <th>1/0</th>\n",
       "      <th>1/1</th>\n",
       "      <th>correct</th>\n",
       "      <th>mistakes</th>\n",
       "    </tr>\n",
       "  </thead>\n",
       "  <tbody>\n",
       "    <tr>\n",
       "      <th>14</th>\n",
       "      <td>0.830000</td>\n",
       "      <td>4</td>\n",
       "      <td>4</td>\n",
       "      <td>3</td>\n",
       "      <td>9</td>\n",
       "      <td>13</td>\n",
       "      <td>7</td>\n",
       "    </tr>\n",
       "    <tr>\n",
       "      <th>0</th>\n",
       "      <td>0.690000</td>\n",
       "      <td>0</td>\n",
       "      <td>8</td>\n",
       "      <td>0</td>\n",
       "      <td>12</td>\n",
       "      <td>12</td>\n",
       "      <td>8</td>\n",
       "    </tr>\n",
       "    <tr>\n",
       "      <th>7</th>\n",
       "      <td>0.760000</td>\n",
       "      <td>1</td>\n",
       "      <td>7</td>\n",
       "      <td>1</td>\n",
       "      <td>11</td>\n",
       "      <td>12</td>\n",
       "      <td>8</td>\n",
       "    </tr>\n",
       "    <tr>\n",
       "      <th>22</th>\n",
       "      <td>0.833135</td>\n",
       "      <td>4</td>\n",
       "      <td>4</td>\n",
       "      <td>4</td>\n",
       "      <td>8</td>\n",
       "      <td>12</td>\n",
       "      <td>8</td>\n",
       "    </tr>\n",
       "    <tr>\n",
       "      <th>21</th>\n",
       "      <td>0.833241</td>\n",
       "      <td>4</td>\n",
       "      <td>4</td>\n",
       "      <td>4</td>\n",
       "      <td>8</td>\n",
       "      <td>12</td>\n",
       "      <td>8</td>\n",
       "    </tr>\n",
       "  </tbody>\n",
       "</table>\n",
       "</div>"
      ],
      "text/plain": [
       "    similarity value  0/0  0/1  1/0  1/1  correct  mistakes\n",
       "14          0.830000    4    4    3    9       13         7\n",
       "0           0.690000    0    8    0   12       12         8\n",
       "7           0.760000    1    7    1   11       12         8\n",
       "22          0.833135    4    4    4    8       12         8\n",
       "21          0.833241    4    4    4    8       12         8"
      ]
     },
     "execution_count": 78,
     "metadata": {},
     "output_type": "execute_result"
    }
   ],
   "source": [
    "# First five rows of ordered 'confusionMatrix_df_1'\n",
    "confusionMatrix_df_1.head()"
   ]
  },
  {
   "cell_type": "markdown",
   "metadata": {},
   "source": [
    "#### 6.2.2 Classification Report"
   ]
  },
  {
   "cell_type": "code",
   "execution_count": 79,
   "metadata": {},
   "outputs": [
    {
     "name": "stdout",
     "output_type": "stream",
     "text": [
      "Similarity value: 0.69\n",
      "\n",
      "              precision    recall  f1-score   support\n",
      "\n",
      "           0       0.00      0.00      0.00         8\n",
      "           1       0.60      1.00      0.75        12\n",
      "\n",
      "    accuracy                           0.60        20\n",
      "   macro avg       0.30      0.50      0.37        20\n",
      "weighted avg       0.36      0.60      0.45        20\n",
      "\n",
      "------------------------------------------------------------\n",
      "\n",
      "Similarity value: 0.7\n",
      "\n",
      "              precision    recall  f1-score   support\n",
      "\n",
      "           0       0.00      0.00      0.00         8\n",
      "           1       0.58      0.92      0.71        12\n",
      "\n",
      "    accuracy                           0.55        20\n",
      "   macro avg       0.29      0.46      0.35        20\n",
      "weighted avg       0.35      0.55      0.43        20\n",
      "\n",
      "------------------------------------------------------------\n",
      "\n",
      "Similarity value: 0.71\n",
      "\n",
      "              precision    recall  f1-score   support\n",
      "\n",
      "           0       0.00      0.00      0.00         8\n",
      "           1       0.58      0.92      0.71        12\n",
      "\n",
      "    accuracy                           0.55        20\n",
      "   macro avg       0.29      0.46      0.35        20\n",
      "weighted avg       0.35      0.55      0.43        20\n",
      "\n",
      "------------------------------------------------------------\n",
      "\n",
      "Similarity value: 0.72\n",
      "\n",
      "              precision    recall  f1-score   support\n",
      "\n",
      "           0       0.00      0.00      0.00         8\n",
      "           1       0.58      0.92      0.71        12\n",
      "\n",
      "    accuracy                           0.55        20\n",
      "   macro avg       0.29      0.46      0.35        20\n",
      "weighted avg       0.35      0.55      0.43        20\n",
      "\n",
      "------------------------------------------------------------\n",
      "\n",
      "Similarity value: 0.73\n",
      "\n",
      "              precision    recall  f1-score   support\n",
      "\n",
      "           0       0.50      0.12      0.20         8\n",
      "           1       0.61      0.92      0.73        12\n",
      "\n",
      "    accuracy                           0.60        20\n",
      "   macro avg       0.56      0.52      0.47        20\n",
      "weighted avg       0.57      0.60      0.52        20\n",
      "\n",
      "------------------------------------------------------------\n",
      "\n",
      "Similarity value: 0.74\n",
      "\n",
      "              precision    recall  f1-score   support\n",
      "\n",
      "           0       0.50      0.12      0.20         8\n",
      "           1       0.61      0.92      0.73        12\n",
      "\n",
      "    accuracy                           0.60        20\n",
      "   macro avg       0.56      0.52      0.47        20\n",
      "weighted avg       0.57      0.60      0.52        20\n",
      "\n",
      "------------------------------------------------------------\n",
      "\n",
      "Similarity value: 0.75\n",
      "\n",
      "              precision    recall  f1-score   support\n",
      "\n",
      "           0       0.50      0.12      0.20         8\n",
      "           1       0.61      0.92      0.73        12\n",
      "\n",
      "    accuracy                           0.60        20\n",
      "   macro avg       0.56      0.52      0.47        20\n",
      "weighted avg       0.57      0.60      0.52        20\n",
      "\n",
      "------------------------------------------------------------\n",
      "\n",
      "Similarity value: 0.76\n",
      "\n",
      "              precision    recall  f1-score   support\n",
      "\n",
      "           0       0.50      0.12      0.20         8\n",
      "           1       0.61      0.92      0.73        12\n",
      "\n",
      "    accuracy                           0.60        20\n",
      "   macro avg       0.56      0.52      0.47        20\n",
      "weighted avg       0.57      0.60      0.52        20\n",
      "\n",
      "------------------------------------------------------------\n",
      "\n",
      "Similarity value: 0.77\n"
     ]
    },
    {
     "name": "stderr",
     "output_type": "stream",
     "text": [
      "C:\\Users\\Tobias_lokal\\anaconda3\\lib\\site-packages\\sklearn\\metrics\\_classification.py:1272: UndefinedMetricWarning: Precision and F-score are ill-defined and being set to 0.0 in labels with no predicted samples. Use `zero_division` parameter to control this behavior.\n",
      "  _warn_prf(average, modifier, msg_start, len(result))\n"
     ]
    },
    {
     "name": "stdout",
     "output_type": "stream",
     "text": [
      "\n",
      "              precision    recall  f1-score   support\n",
      "\n",
      "           0       0.33      0.12      0.18         8\n",
      "           1       0.59      0.83      0.69        12\n",
      "\n",
      "    accuracy                           0.55        20\n",
      "   macro avg       0.46      0.48      0.44        20\n",
      "weighted avg       0.49      0.55      0.49        20\n",
      "\n",
      "------------------------------------------------------------\n",
      "\n",
      "Similarity value: 0.78\n",
      "\n",
      "              precision    recall  f1-score   support\n",
      "\n",
      "           0       0.33      0.12      0.18         8\n",
      "           1       0.59      0.83      0.69        12\n",
      "\n",
      "    accuracy                           0.55        20\n",
      "   macro avg       0.46      0.48      0.44        20\n",
      "weighted avg       0.49      0.55      0.49        20\n",
      "\n",
      "------------------------------------------------------------\n",
      "\n",
      "Similarity value: 0.79\n",
      "\n",
      "              precision    recall  f1-score   support\n",
      "\n",
      "           0       0.50      0.25      0.33         8\n",
      "           1       0.62      0.83      0.71        12\n",
      "\n",
      "    accuracy                           0.60        20\n",
      "   macro avg       0.56      0.54      0.52        20\n",
      "weighted avg       0.57      0.60      0.56        20\n",
      "\n",
      "------------------------------------------------------------\n",
      "\n",
      "Similarity value: 0.8\n",
      "\n",
      "              precision    recall  f1-score   support\n",
      "\n",
      "           0       0.50      0.25      0.33         8\n",
      "           1       0.62      0.83      0.71        12\n",
      "\n",
      "    accuracy                           0.60        20\n",
      "   macro avg       0.56      0.54      0.52        20\n",
      "weighted avg       0.57      0.60      0.56        20\n",
      "\n",
      "------------------------------------------------------------\n",
      "\n",
      "Similarity value: 0.81\n",
      "\n",
      "              precision    recall  f1-score   support\n",
      "\n",
      "           0       0.50      0.25      0.33         8\n",
      "           1       0.62      0.83      0.71        12\n",
      "\n",
      "    accuracy                           0.60        20\n",
      "   macro avg       0.56      0.54      0.52        20\n",
      "weighted avg       0.57      0.60      0.56        20\n",
      "\n",
      "------------------------------------------------------------\n",
      "\n",
      "Similarity value: 0.8200000000000001\n",
      "\n",
      "              precision    recall  f1-score   support\n",
      "\n",
      "           0       0.40      0.25      0.31         8\n",
      "           1       0.60      0.75      0.67        12\n",
      "\n",
      "    accuracy                           0.55        20\n",
      "   macro avg       0.50      0.50      0.49        20\n",
      "weighted avg       0.52      0.55      0.52        20\n",
      "\n",
      "------------------------------------------------------------\n",
      "\n",
      "Similarity value: 0.8300000000000001\n",
      "\n",
      "              precision    recall  f1-score   support\n",
      "\n",
      "           0       0.57      0.50      0.53         8\n",
      "           1       0.69      0.75      0.72        12\n",
      "\n",
      "    accuracy                           0.65        20\n",
      "   macro avg       0.63      0.62      0.63        20\n",
      "weighted avg       0.64      0.65      0.65        20\n",
      "\n",
      "------------------------------------------------------------\n",
      "\n",
      "Similarity value: 0.8400000000000001\n",
      "\n",
      "              precision    recall  f1-score   support\n",
      "\n",
      "           0       0.44      0.50      0.47         8\n",
      "           1       0.64      0.58      0.61        12\n",
      "\n",
      "    accuracy                           0.55        20\n",
      "   macro avg       0.54      0.54      0.54        20\n",
      "weighted avg       0.56      0.55      0.55        20\n",
      "\n",
      "------------------------------------------------------------\n",
      "\n",
      "Similarity value: 0.8500000000000001\n",
      "\n",
      "              precision    recall  f1-score   support\n",
      "\n",
      "           0       0.40      0.50      0.44         8\n",
      "           1       0.60      0.50      0.55        12\n",
      "\n",
      "    accuracy                           0.50        20\n",
      "   macro avg       0.50      0.50      0.49        20\n",
      "weighted avg       0.52      0.50      0.51        20\n",
      "\n",
      "------------------------------------------------------------\n",
      "\n",
      "Similarity value: 0.8600000000000001\n",
      "\n",
      "              precision    recall  f1-score   support\n",
      "\n",
      "           0       0.33      0.50      0.40         8\n",
      "           1       0.50      0.33      0.40        12\n",
      "\n",
      "    accuracy                           0.40        20\n",
      "   macro avg       0.42      0.42      0.40        20\n",
      "weighted avg       0.43      0.40      0.40        20\n",
      "\n",
      "------------------------------------------------------------\n",
      "\n",
      "Similarity value: 0.8700000000000001\n",
      "\n",
      "              precision    recall  f1-score   support\n",
      "\n",
      "           0       0.43      0.75      0.55         8\n",
      "           1       0.67      0.33      0.44        12\n",
      "\n",
      "    accuracy                           0.50        20\n",
      "   macro avg       0.55      0.54      0.49        20\n",
      "weighted avg       0.57      0.50      0.48        20\n",
      "\n",
      "------------------------------------------------------------\n",
      "\n",
      "Similarity value: 0.8800000000000001\n",
      "\n",
      "              precision    recall  f1-score   support\n",
      "\n",
      "           0       0.38      0.75      0.50         8\n",
      "           1       0.50      0.17      0.25        12\n",
      "\n",
      "    accuracy                           0.40        20\n",
      "   macro avg       0.44      0.46      0.38        20\n",
      "weighted avg       0.45      0.40      0.35        20\n",
      "\n",
      "------------------------------------------------------------\n",
      "\n",
      "Similarity value: 0.8900000000000001\n",
      "\n",
      "              precision    recall  f1-score   support\n",
      "\n",
      "           0       0.40      1.00      0.57         8\n",
      "           1       0.00      0.00      0.00        12\n",
      "\n",
      "    accuracy                           0.40        20\n",
      "   macro avg       0.20      0.50      0.29        20\n",
      "weighted avg       0.16      0.40      0.23        20\n",
      "\n",
      "------------------------------------------------------------\n",
      "\n"
     ]
    }
   ],
   "source": [
    "# Make a classification report for each value of span similarity that is in the intervall [0.69, 0.9]\n",
    "# You get from one value to the next higher value by adding 0.01\n",
    "similarity_value = 0.69\n",
    "\n",
    "while similarity_value < 0.9:\n",
    "    df_labeled_pairs = df_labeled_pairs.assign(prediction=lambda df: df[\"span similarity\"] >= similarity_value)\n",
    "    df_labeled_pairs = df_labeled_pairs.assign(prediction=lambda df: df[\"prediction\"].astype(np.int8))\n",
    "    \n",
    "    print(f\"Similarity value: {similarity_value}\\n\")\n",
    "    print(classification_report(df_labeled_pairs[\"label\"], df_labeled_pairs[\"prediction\"]))\n",
    "    print(\"------------------------------------------------------------\\n\")\n",
    "    \n",
    "    similarity_value += 0.01"
   ]
  },
  {
   "cell_type": "code",
   "execution_count": 80,
   "metadata": {},
   "outputs": [
    {
     "name": "stdout",
     "output_type": "stream",
     "text": [
      "Similarity value: 0.8332407027482986\n",
      "\n",
      "              precision    recall  f1-score   support\n",
      "\n",
      "           0       0.50      0.50      0.50         8\n",
      "           1       0.67      0.67      0.67        12\n",
      "\n",
      "    accuracy                           0.60        20\n",
      "   macro avg       0.58      0.58      0.58        20\n",
      "weighted avg       0.60      0.60      0.60        20\n",
      "\n"
     ]
    }
   ],
   "source": [
    "# Classification report when threshold is average span similarity of disagreement pairs (pairs labeled as \"1\")\n",
    "df_labeled_pairs = df_labeled_pairs.assign(prediction=lambda df: df[\"span similarity\"] >= df_sorted_1[\"span similarity\"].mean())\n",
    "df_labeled_pairs = df_labeled_pairs.assign(prediction=lambda df: df[\"prediction\"].astype(np.int8))\n",
    "\n",
    "print(f\"Similarity value: {df_sorted_1['span similarity'].mean()}\\n\")\n",
    "print(classification_report(df_labeled_pairs[\"label\"], df_labeled_pairs[\"prediction\"]))"
   ]
  },
  {
   "cell_type": "code",
   "execution_count": 81,
   "metadata": {},
   "outputs": [
    {
     "name": "stdout",
     "output_type": "stream",
     "text": [
      "Similarity value: 0.8331354290246964\n",
      "\n",
      "              precision    recall  f1-score   support\n",
      "\n",
      "           0       0.50      0.50      0.50         8\n",
      "           1       0.67      0.67      0.67        12\n",
      "\n",
      "    accuracy                           0.60        20\n",
      "   macro avg       0.58      0.58      0.58        20\n",
      "weighted avg       0.60      0.60      0.60        20\n",
      "\n"
     ]
    }
   ],
   "source": [
    "# Classification report when threshold is average span similarity of all sentence pairs\n",
    "df_labeled_pairs = df_labeled_pairs.assign(prediction=lambda df: df[\"span similarity\"] >= df_labeled_pairs[\"span similarity\"].mean())\n",
    "df_labeled_pairs = df_labeled_pairs.assign(prediction=lambda df: df[\"prediction\"].astype(np.int8))\n",
    "\n",
    "print(f\"Similarity value: {df_labeled_pairs['span similarity'].mean()}\\n\")\n",
    "print(classification_report(df_labeled_pairs[\"label\"], df_labeled_pairs[\"prediction\"]))"
   ]
  },
  {
   "cell_type": "code",
   "execution_count": 82,
   "metadata": {},
   "outputs": [
    {
     "name": "stdout",
     "output_type": "stream",
     "text": [
      "Similarity value: 0.8329775184392929\n",
      "\n",
      "              precision    recall  f1-score   support\n",
      "\n",
      "           0       0.50      0.50      0.50         8\n",
      "           1       0.67      0.67      0.67        12\n",
      "\n",
      "    accuracy                           0.60        20\n",
      "   macro avg       0.58      0.58      0.58        20\n",
      "weighted avg       0.60      0.60      0.60        20\n",
      "\n"
     ]
    }
   ],
   "source": [
    "# Classification report when threshold is average span similarity of non disagreement pairs (pairs labeled as \"0\")\n",
    "df_labeled_pairs = df_labeled_pairs.assign(prediction=lambda df: df[\"span similarity\"] >= df_sorted_0[\"span similarity\"].mean())\n",
    "df_labeled_pairs = df_labeled_pairs.assign(prediction=lambda df: df[\"prediction\"].astype(np.int8))\n",
    "\n",
    "print(f\"Similarity value: {df_sorted_0['span similarity'].mean()}\\n\")\n",
    "print(classification_report(df_labeled_pairs[\"label\"], df_labeled_pairs[\"prediction\"]))"
   ]
  },
  {
   "cell_type": "code",
   "execution_count": 83,
   "metadata": {},
   "outputs": [],
   "source": [
    "# Sort values of classification reports by category; store values in lists\n",
    "sim_val = [0.69, 0.7, 0.71, 0.72, 0.73, 0.74, 0.75, 0.76, 0.77, 0.78, 0.79, 0.8, 0.81, 0.82, 0.83, 0.84, 0.85, 0.86, 0.87, 0.88, 0.89, 0.8332407027482986, 0.8331354290246964, 0.8329775184392929]\n",
    "\n",
    "prec0 = [0.00, 0.00, 0.00, 0.00, 0.50, 0.50, 0.50, 0.50, 0.33, 0.33, 0.50, 0.50, 0.50, 0.40, 0.57, 0.44, 0.40, 0.33, 0.43, 0.38, 0.40, 0.50, 0.50, 0.50]\n",
    "\n",
    "rec0 = [0.00, 0.00, 0.00, 0.00, 0.12, 0.12, 0.12, 0.12, 0.12, 0.12, 0.25, 0.25, 0.25, 0.25, 0.50, 0.50, 0.50, 0.50, 0.75, 0.75, 1.00, 0.50, 0.50, 0.50]\n",
    "\n",
    "prec1 = [0.60, 0.58, 0.58, 0.58, 0.61, 0.61, 0.61, 0.61, 0.59, 0.59, 0.62, 0.62, 0.62, 0.60, 0.69, 0.64, 0.60, 0.50, 0.67, 0.50, 0.00, 0.67, 0.67, 0.67]\n",
    "\n",
    "rec1 = [1.00, 0.92, 0.92, 0.92, 0.92, 0.92, 0.92, 0.92, 0.83, 0.83, 0.83, 0.83, 0.83, 0.75, 0.75, 0.58, 0.50, 0.33, 0.33, 0.17, 0.00, 0.67, 0.67, 0.67]\n",
    "\n",
    "acc = [0.60, 0.55, 0.55, 0.55, 0.60, 0.60, 0.60, 0.60, 0.55, 0.55, 0.60, 0.60, 0.60, 0.55, 0.65, 0.55, 0.50, 0.40, 0.50, 0.40, 0.40, 0.60, 0.60, 0.60]"
   ]
  },
  {
   "cell_type": "code",
   "execution_count": 84,
   "metadata": {},
   "outputs": [],
   "source": [
    "# Make dictionary and assign one list of values to one category name: classificationReport_dict_1\n",
    "classificationReport_dict_1 = {\"similarity value\": sim_val,\n",
    "                               \"precision 0\": prec0,\n",
    "                               \"recall 0\": rec0,\n",
    "                               \"precision 1\": prec1,\n",
    "                               \"recall 1\": rec1,\n",
    "                               \"accuracy\": acc}"
   ]
  },
  {
   "cell_type": "code",
   "execution_count": 85,
   "metadata": {},
   "outputs": [],
   "source": [
    "# Make dataframe from dictionary 'classificationReport_dict_1': classificationReport_df_1\n",
    "classificationReport_df_1 = pd.DataFrame(classificationReport_dict_1)"
   ]
  },
  {
   "cell_type": "code",
   "execution_count": 86,
   "metadata": {},
   "outputs": [],
   "source": [
    "# Column \"total\": Values are computed by adding values of the columns \"precision 0\", \"recall 0\", \"precision 1\", \"recall 1\" and \"accuracy\"\n",
    "classificationReport_df_1[\"total\"] = classificationReport_df_1[\"precision 0\"] + classificationReport_df_1[\"recall 0\"] + classificationReport_df_1[\"precision 1\"] + classificationReport_df_1[\"recall 1\"] + classificationReport_df_1[\"accuracy\"]"
   ]
  },
  {
   "cell_type": "code",
   "execution_count": 87,
   "metadata": {},
   "outputs": [
    {
     "data": {
      "text/html": [
       "<div>\n",
       "<style scoped>\n",
       "    .dataframe tbody tr th:only-of-type {\n",
       "        vertical-align: middle;\n",
       "    }\n",
       "\n",
       "    .dataframe tbody tr th {\n",
       "        vertical-align: top;\n",
       "    }\n",
       "\n",
       "    .dataframe thead th {\n",
       "        text-align: right;\n",
       "    }\n",
       "</style>\n",
       "<table border=\"1\" class=\"dataframe\">\n",
       "  <thead>\n",
       "    <tr style=\"text-align: right;\">\n",
       "      <th></th>\n",
       "      <th>similarity value</th>\n",
       "      <th>precision 0</th>\n",
       "      <th>recall 0</th>\n",
       "      <th>precision 1</th>\n",
       "      <th>recall 1</th>\n",
       "      <th>accuracy</th>\n",
       "      <th>total</th>\n",
       "    </tr>\n",
       "  </thead>\n",
       "  <tbody>\n",
       "    <tr>\n",
       "      <th>14</th>\n",
       "      <td>0.830000</td>\n",
       "      <td>0.57</td>\n",
       "      <td>0.50</td>\n",
       "      <td>0.69</td>\n",
       "      <td>0.75</td>\n",
       "      <td>0.65</td>\n",
       "      <td>3.16</td>\n",
       "    </tr>\n",
       "    <tr>\n",
       "      <th>23</th>\n",
       "      <td>0.832978</td>\n",
       "      <td>0.50</td>\n",
       "      <td>0.50</td>\n",
       "      <td>0.67</td>\n",
       "      <td>0.67</td>\n",
       "      <td>0.60</td>\n",
       "      <td>2.94</td>\n",
       "    </tr>\n",
       "    <tr>\n",
       "      <th>22</th>\n",
       "      <td>0.833135</td>\n",
       "      <td>0.50</td>\n",
       "      <td>0.50</td>\n",
       "      <td>0.67</td>\n",
       "      <td>0.67</td>\n",
       "      <td>0.60</td>\n",
       "      <td>2.94</td>\n",
       "    </tr>\n",
       "    <tr>\n",
       "      <th>21</th>\n",
       "      <td>0.833241</td>\n",
       "      <td>0.50</td>\n",
       "      <td>0.50</td>\n",
       "      <td>0.67</td>\n",
       "      <td>0.67</td>\n",
       "      <td>0.60</td>\n",
       "      <td>2.94</td>\n",
       "    </tr>\n",
       "    <tr>\n",
       "      <th>10</th>\n",
       "      <td>0.790000</td>\n",
       "      <td>0.50</td>\n",
       "      <td>0.25</td>\n",
       "      <td>0.62</td>\n",
       "      <td>0.83</td>\n",
       "      <td>0.60</td>\n",
       "      <td>2.80</td>\n",
       "    </tr>\n",
       "    <tr>\n",
       "      <th>11</th>\n",
       "      <td>0.800000</td>\n",
       "      <td>0.50</td>\n",
       "      <td>0.25</td>\n",
       "      <td>0.62</td>\n",
       "      <td>0.83</td>\n",
       "      <td>0.60</td>\n",
       "      <td>2.80</td>\n",
       "    </tr>\n",
       "    <tr>\n",
       "      <th>12</th>\n",
       "      <td>0.810000</td>\n",
       "      <td>0.50</td>\n",
       "      <td>0.25</td>\n",
       "      <td>0.62</td>\n",
       "      <td>0.83</td>\n",
       "      <td>0.60</td>\n",
       "      <td>2.80</td>\n",
       "    </tr>\n",
       "    <tr>\n",
       "      <th>7</th>\n",
       "      <td>0.760000</td>\n",
       "      <td>0.50</td>\n",
       "      <td>0.12</td>\n",
       "      <td>0.61</td>\n",
       "      <td>0.92</td>\n",
       "      <td>0.60</td>\n",
       "      <td>2.75</td>\n",
       "    </tr>\n",
       "    <tr>\n",
       "      <th>5</th>\n",
       "      <td>0.740000</td>\n",
       "      <td>0.50</td>\n",
       "      <td>0.12</td>\n",
       "      <td>0.61</td>\n",
       "      <td>0.92</td>\n",
       "      <td>0.60</td>\n",
       "      <td>2.75</td>\n",
       "    </tr>\n",
       "    <tr>\n",
       "      <th>4</th>\n",
       "      <td>0.730000</td>\n",
       "      <td>0.50</td>\n",
       "      <td>0.12</td>\n",
       "      <td>0.61</td>\n",
       "      <td>0.92</td>\n",
       "      <td>0.60</td>\n",
       "      <td>2.75</td>\n",
       "    </tr>\n",
       "    <tr>\n",
       "      <th>6</th>\n",
       "      <td>0.750000</td>\n",
       "      <td>0.50</td>\n",
       "      <td>0.12</td>\n",
       "      <td>0.61</td>\n",
       "      <td>0.92</td>\n",
       "      <td>0.60</td>\n",
       "      <td>2.75</td>\n",
       "    </tr>\n",
       "    <tr>\n",
       "      <th>15</th>\n",
       "      <td>0.840000</td>\n",
       "      <td>0.44</td>\n",
       "      <td>0.50</td>\n",
       "      <td>0.64</td>\n",
       "      <td>0.58</td>\n",
       "      <td>0.55</td>\n",
       "      <td>2.71</td>\n",
       "    </tr>\n",
       "    <tr>\n",
       "      <th>18</th>\n",
       "      <td>0.870000</td>\n",
       "      <td>0.43</td>\n",
       "      <td>0.75</td>\n",
       "      <td>0.67</td>\n",
       "      <td>0.33</td>\n",
       "      <td>0.50</td>\n",
       "      <td>2.68</td>\n",
       "    </tr>\n",
       "    <tr>\n",
       "      <th>13</th>\n",
       "      <td>0.820000</td>\n",
       "      <td>0.40</td>\n",
       "      <td>0.25</td>\n",
       "      <td>0.60</td>\n",
       "      <td>0.75</td>\n",
       "      <td>0.55</td>\n",
       "      <td>2.55</td>\n",
       "    </tr>\n",
       "    <tr>\n",
       "      <th>16</th>\n",
       "      <td>0.850000</td>\n",
       "      <td>0.40</td>\n",
       "      <td>0.50</td>\n",
       "      <td>0.60</td>\n",
       "      <td>0.50</td>\n",
       "      <td>0.50</td>\n",
       "      <td>2.50</td>\n",
       "    </tr>\n",
       "    <tr>\n",
       "      <th>9</th>\n",
       "      <td>0.780000</td>\n",
       "      <td>0.33</td>\n",
       "      <td>0.12</td>\n",
       "      <td>0.59</td>\n",
       "      <td>0.83</td>\n",
       "      <td>0.55</td>\n",
       "      <td>2.42</td>\n",
       "    </tr>\n",
       "    <tr>\n",
       "      <th>8</th>\n",
       "      <td>0.770000</td>\n",
       "      <td>0.33</td>\n",
       "      <td>0.12</td>\n",
       "      <td>0.59</td>\n",
       "      <td>0.83</td>\n",
       "      <td>0.55</td>\n",
       "      <td>2.42</td>\n",
       "    </tr>\n",
       "    <tr>\n",
       "      <th>0</th>\n",
       "      <td>0.690000</td>\n",
       "      <td>0.00</td>\n",
       "      <td>0.00</td>\n",
       "      <td>0.60</td>\n",
       "      <td>1.00</td>\n",
       "      <td>0.60</td>\n",
       "      <td>2.20</td>\n",
       "    </tr>\n",
       "    <tr>\n",
       "      <th>19</th>\n",
       "      <td>0.880000</td>\n",
       "      <td>0.38</td>\n",
       "      <td>0.75</td>\n",
       "      <td>0.50</td>\n",
       "      <td>0.17</td>\n",
       "      <td>0.40</td>\n",
       "      <td>2.20</td>\n",
       "    </tr>\n",
       "    <tr>\n",
       "      <th>17</th>\n",
       "      <td>0.860000</td>\n",
       "      <td>0.33</td>\n",
       "      <td>0.50</td>\n",
       "      <td>0.50</td>\n",
       "      <td>0.33</td>\n",
       "      <td>0.40</td>\n",
       "      <td>2.06</td>\n",
       "    </tr>\n",
       "    <tr>\n",
       "      <th>1</th>\n",
       "      <td>0.700000</td>\n",
       "      <td>0.00</td>\n",
       "      <td>0.00</td>\n",
       "      <td>0.58</td>\n",
       "      <td>0.92</td>\n",
       "      <td>0.55</td>\n",
       "      <td>2.05</td>\n",
       "    </tr>\n",
       "    <tr>\n",
       "      <th>3</th>\n",
       "      <td>0.720000</td>\n",
       "      <td>0.00</td>\n",
       "      <td>0.00</td>\n",
       "      <td>0.58</td>\n",
       "      <td>0.92</td>\n",
       "      <td>0.55</td>\n",
       "      <td>2.05</td>\n",
       "    </tr>\n",
       "    <tr>\n",
       "      <th>2</th>\n",
       "      <td>0.710000</td>\n",
       "      <td>0.00</td>\n",
       "      <td>0.00</td>\n",
       "      <td>0.58</td>\n",
       "      <td>0.92</td>\n",
       "      <td>0.55</td>\n",
       "      <td>2.05</td>\n",
       "    </tr>\n",
       "    <tr>\n",
       "      <th>20</th>\n",
       "      <td>0.890000</td>\n",
       "      <td>0.40</td>\n",
       "      <td>1.00</td>\n",
       "      <td>0.00</td>\n",
       "      <td>0.00</td>\n",
       "      <td>0.40</td>\n",
       "      <td>1.80</td>\n",
       "    </tr>\n",
       "  </tbody>\n",
       "</table>\n",
       "</div>"
      ],
      "text/plain": [
       "    similarity value  precision 0  recall 0  precision 1  recall 1  accuracy  \\\n",
       "14          0.830000         0.57      0.50         0.69      0.75      0.65   \n",
       "23          0.832978         0.50      0.50         0.67      0.67      0.60   \n",
       "22          0.833135         0.50      0.50         0.67      0.67      0.60   \n",
       "21          0.833241         0.50      0.50         0.67      0.67      0.60   \n",
       "10          0.790000         0.50      0.25         0.62      0.83      0.60   \n",
       "11          0.800000         0.50      0.25         0.62      0.83      0.60   \n",
       "12          0.810000         0.50      0.25         0.62      0.83      0.60   \n",
       "7           0.760000         0.50      0.12         0.61      0.92      0.60   \n",
       "5           0.740000         0.50      0.12         0.61      0.92      0.60   \n",
       "4           0.730000         0.50      0.12         0.61      0.92      0.60   \n",
       "6           0.750000         0.50      0.12         0.61      0.92      0.60   \n",
       "15          0.840000         0.44      0.50         0.64      0.58      0.55   \n",
       "18          0.870000         0.43      0.75         0.67      0.33      0.50   \n",
       "13          0.820000         0.40      0.25         0.60      0.75      0.55   \n",
       "16          0.850000         0.40      0.50         0.60      0.50      0.50   \n",
       "9           0.780000         0.33      0.12         0.59      0.83      0.55   \n",
       "8           0.770000         0.33      0.12         0.59      0.83      0.55   \n",
       "0           0.690000         0.00      0.00         0.60      1.00      0.60   \n",
       "19          0.880000         0.38      0.75         0.50      0.17      0.40   \n",
       "17          0.860000         0.33      0.50         0.50      0.33      0.40   \n",
       "1           0.700000         0.00      0.00         0.58      0.92      0.55   \n",
       "3           0.720000         0.00      0.00         0.58      0.92      0.55   \n",
       "2           0.710000         0.00      0.00         0.58      0.92      0.55   \n",
       "20          0.890000         0.40      1.00         0.00      0.00      0.40   \n",
       "\n",
       "    total  \n",
       "14   3.16  \n",
       "23   2.94  \n",
       "22   2.94  \n",
       "21   2.94  \n",
       "10   2.80  \n",
       "11   2.80  \n",
       "12   2.80  \n",
       "7    2.75  \n",
       "5    2.75  \n",
       "4    2.75  \n",
       "6    2.75  \n",
       "15   2.71  \n",
       "18   2.68  \n",
       "13   2.55  \n",
       "16   2.50  \n",
       "9    2.42  \n",
       "8    2.42  \n",
       "0    2.20  \n",
       "19   2.20  \n",
       "17   2.06  \n",
       "1    2.05  \n",
       "3    2.05  \n",
       "2    2.05  \n",
       "20   1.80  "
      ]
     },
     "execution_count": 87,
     "metadata": {},
     "output_type": "execute_result"
    }
   ],
   "source": [
    "# Order rows of 'classificationReport_df_1' by values in column \"total\"\n",
    "# values are ordered from high to low (descending order)\n",
    "classificationReport_df_1 = classificationReport_df_1.sort_values(\"total\", ascending=False)\n",
    "classificationReport_df_1"
   ]
  },
  {
   "cell_type": "markdown",
   "metadata": {},
   "source": [
    "### 6.3 Display Disagreement Pairs"
   ]
  },
  {
   "cell_type": "code",
   "execution_count": 88,
   "metadata": {},
   "outputs": [],
   "source": [
    "# Define a function that creates pairs of disagreeing sentences and stores each pair in a list: disagreement_pairs()\n",
    "def disagreement_pairs(list_of_affirmative_sentences, list_of_negated_sentences):\n",
    "    \n",
    "    # List of pairs of disagreeing sentences: pairs_of_disagreeing_sentences\n",
    "    # This list shall be returned be the function\n",
    "    pairs_of_disagreeing_sentences = []\n",
    "    \n",
    "    # 1. Loop (\"outer loop\"): Iterate over all Doc-objects in 'list_of_affirmative_sentences'\n",
    "    for doc in list_of_affirmative_sentences:\n",
    "        # Slice Doc-object into Span-object with the help of 'span_matcher': span1\n",
    "        for match_id, start, end in span_matcher(doc):\n",
    "            span1 = doc[end:]\n",
    "         \n",
    "        # 2. Loop (\"inner loop\"): Iterate over all Doc-objects in 'list_of_negated_sentences'\n",
    "        for doc_neg in list_of_negated_sentences:\n",
    "            # Slice Doc-object into Span-object with the help of 'span_matcher': span2 \n",
    "            for match_id, start, end in span_matcher(doc_neg):\n",
    "                span2 = doc_neg[end + 1:]\n",
    "            \n",
    "            # If Span-object 1 and Span-object 2 have a certain degree of similarity\n",
    "            # then make a pair of the corresponding sentences and add the pair to \n",
    "            # the list 'pairs_of_disagreeing_sentences'\n",
    "            if span1.similarity(span2) >= 0.83:\n",
    "                pairs_of_disagreeing_sentences.append((doc, doc_neg))\n",
    "    \n",
    "    # Return the list of pairs which sentences show disagreement\n",
    "    return pairs_of_disagreeing_sentences"
   ]
  },
  {
   "cell_type": "code",
   "execution_count": 89,
   "metadata": {},
   "outputs": [],
   "source": [
    "# Make a list of pairs of disagreeing sentences from 'sents' and 'negated_sents': disagreementPairs\n",
    "disagreementPairs = disagreement_pairs(sents, negated_sents)"
   ]
  },
  {
   "cell_type": "code",
   "execution_count": 90,
   "metadata": {},
   "outputs": [
    {
     "name": "stdout",
     "output_type": "stream",
     "text": [
      "==========\n",
      "\n",
      "(PRO)\n",
      "\n"
     ]
    },
    {
     "data": {
      "text/html": [
       "<span class=\"tex2jax_ignore\"><div class=\"entities\" style=\"line-height: 2.5; direction: ltr\">\n",
       "<mark class=\"entity\" style=\"background: #ddd; padding: 0.45em 0.6em; margin: 0 0.25em; line-height: 1; border-radius: 0.35em;\">\n",
       "    This re-analysis\n",
       "    <span style=\"font-size: 0.8em; font-weight: bold; line-height: 1; border-radius: 0.35em; text-transform: uppercase; vertical-align: middle; margin-left: 0.5rem\">EVID</span>\n",
       "</mark>\n",
       " \n",
       "<mark class=\"entity\" style=\"background: #ddd; padding: 0.45em 0.6em; margin: 0 0.25em; line-height: 1; border-radius: 0.35em;\">\n",
       "    reveals\n",
       "    <span style=\"font-size: 0.8em; font-weight: bold; line-height: 1; border-radius: 0.35em; text-transform: uppercase; vertical-align: middle; margin-left: 0.5rem\">SUPP</span>\n",
       "</mark>\n",
       " severe limitations in the methodology of this study, including ambiguous inclusion/exclusion of participant data and inconsistent analysis techniques, and yielded nonsignificant differences between control and treatment groups across any treatment days.</div></span>"
      ],
      "text/plain": [
       "<IPython.core.display.HTML object>"
      ]
     },
     "metadata": {},
     "output_type": "display_data"
    },
    {
     "name": "stdout",
     "output_type": "stream",
     "text": [
      "\n",
      "(CON)\n",
      "\n"
     ]
    },
    {
     "data": {
      "text/html": [
       "<span class=\"tex2jax_ignore\"><div class=\"entities\" style=\"line-height: 2.5; direction: ltr\">\n",
       "<mark class=\"entity\" style=\"background: #ddd; padding: 0.45em 0.6em; margin: 0 0.25em; line-height: 1; border-radius: 0.35em;\">\n",
       "    We\n",
       "    <span style=\"font-size: 0.8em; font-weight: bold; line-height: 1; border-radius: 0.35em; text-transform: uppercase; vertical-align: middle; margin-left: 0.5rem\">SCI</span>\n",
       "</mark>\n",
       " were \n",
       "<mark class=\"entity\" style=\"background: #ddd; padding: 0.45em 0.6em; margin: 0 0.25em; line-height: 1; border-radius: 0.35em;\">\n",
       "    unable\n",
       "    <span style=\"font-size: 0.8em; font-weight: bold; line-height: 1; border-radius: 0.35em; text-transform: uppercase; vertical-align: middle; margin-left: 0.5rem\">NEG</span>\n",
       "</mark>\n",
       " to \n",
       "<mark class=\"entity\" style=\"background: #ddd; padding: 0.45em 0.6em; margin: 0 0.25em; line-height: 1; border-radius: 0.35em;\">\n",
       "    confirm\n",
       "    <span style=\"font-size: 0.8em; font-weight: bold; line-height: 1; border-radius: 0.35em; text-transform: uppercase; vertical-align: middle; margin-left: 0.5rem\">SUPP</span>\n",
       "</mark>\n",
       " a benefit of hydroxychloroquine or chloroquine, when used alone or with a macrolide, on in-hospital outcomes for COVID-19.</div></span>"
      ],
      "text/plain": [
       "<IPython.core.display.HTML object>"
      ]
     },
     "metadata": {},
     "output_type": "display_data"
    },
    {
     "name": "stdout",
     "output_type": "stream",
     "text": [
      "\n",
      "\n",
      "==========\n",
      "\n",
      "(PRO)\n",
      "\n"
     ]
    },
    {
     "data": {
      "text/html": [
       "<span class=\"tex2jax_ignore\"><div class=\"entities\" style=\"line-height: 2.5; direction: ltr\">\n",
       "<mark class=\"entity\" style=\"background: #ddd; padding: 0.45em 0.6em; margin: 0 0.25em; line-height: 1; border-radius: 0.35em;\">\n",
       "    This re-analysis\n",
       "    <span style=\"font-size: 0.8em; font-weight: bold; line-height: 1; border-radius: 0.35em; text-transform: uppercase; vertical-align: middle; margin-left: 0.5rem\">EVID</span>\n",
       "</mark>\n",
       " \n",
       "<mark class=\"entity\" style=\"background: #ddd; padding: 0.45em 0.6em; margin: 0 0.25em; line-height: 1; border-radius: 0.35em;\">\n",
       "    reveals\n",
       "    <span style=\"font-size: 0.8em; font-weight: bold; line-height: 1; border-radius: 0.35em; text-transform: uppercase; vertical-align: middle; margin-left: 0.5rem\">SUPP</span>\n",
       "</mark>\n",
       " severe limitations in the methodology of this study, including ambiguous inclusion/exclusion of participant data and inconsistent analysis techniques, and yielded nonsignificant differences between control and treatment groups across any treatment days.</div></span>"
      ],
      "text/plain": [
       "<IPython.core.display.HTML object>"
      ]
     },
     "metadata": {},
     "output_type": "display_data"
    },
    {
     "name": "stdout",
     "output_type": "stream",
     "text": [
      "\n",
      "(CON)\n",
      "\n"
     ]
    },
    {
     "data": {
      "text/html": [
       "<span class=\"tex2jax_ignore\"><div class=\"entities\" style=\"line-height: 2.5; direction: ltr\">\n",
       "<mark class=\"entity\" style=\"background: #ddd; padding: 0.45em 0.6em; margin: 0 0.25em; line-height: 1; border-radius: 0.35em;\">\n",
       "    Interpretation Preliminary findings\n",
       "    <span style=\"font-size: 0.8em; font-weight: bold; line-height: 1; border-radius: 0.35em; text-transform: uppercase; vertical-align: middle; margin-left: 0.5rem\">EVID</span>\n",
       "</mark>\n",
       " \n",
       "<mark class=\"entity\" style=\"background: #ddd; padding: 0.45em 0.6em; margin: 0 0.25em; line-height: 1; border-radius: 0.35em;\">\n",
       "    suggest\n",
       "    <span style=\"font-size: 0.8em; font-weight: bold; line-height: 1; border-radius: 0.35em; text-transform: uppercase; vertical-align: middle; margin-left: 0.5rem\">SUPP</span>\n",
       "</mark>\n",
       " that the higher CQ dosage (10-day regimen) should \n",
       "<mark class=\"entity\" style=\"background: #ddd; padding: 0.45em 0.6em; margin: 0 0.25em; line-height: 1; border-radius: 0.35em;\">\n",
       "    not\n",
       "    <span style=\"font-size: 0.8em; font-weight: bold; line-height: 1; border-radius: 0.35em; text-transform: uppercase; vertical-align: middle; margin-left: 0.5rem\">NEG</span>\n",
       "</mark>\n",
       " be recommended for COVID-19 treatment because of its potential safety hazards.</div></span>"
      ],
      "text/plain": [
       "<IPython.core.display.HTML object>"
      ]
     },
     "metadata": {},
     "output_type": "display_data"
    },
    {
     "name": "stdout",
     "output_type": "stream",
     "text": [
      "\n",
      "\n",
      "==========\n",
      "\n",
      "(PRO)\n",
      "\n"
     ]
    },
    {
     "data": {
      "text/html": [
       "<span class=\"tex2jax_ignore\"><div class=\"entities\" style=\"line-height: 2.5; direction: ltr\">\n",
       "<mark class=\"entity\" style=\"background: #ddd; padding: 0.45em 0.6em; margin: 0 0.25em; line-height: 1; border-radius: 0.35em;\">\n",
       "    Preliminary evidence\n",
       "    <span style=\"font-size: 0.8em; font-weight: bold; line-height: 1; border-radius: 0.35em; text-transform: uppercase; vertical-align: middle; margin-left: 0.5rem\">EVID</span>\n",
       "</mark>\n",
       " \n",
       "<mark class=\"entity\" style=\"background: #ddd; padding: 0.45em 0.6em; margin: 0 0.25em; line-height: 1; border-radius: 0.35em;\">\n",
       "    suggests\n",
       "    <span style=\"font-size: 0.8em; font-weight: bold; line-height: 1; border-radius: 0.35em; text-transform: uppercase; vertical-align: middle; margin-left: 0.5rem\">SUPP</span>\n",
       "</mark>\n",
       " potential benefit with chloroquine or hydroxychloroquine.</div></span>"
      ],
      "text/plain": [
       "<IPython.core.display.HTML object>"
      ]
     },
     "metadata": {},
     "output_type": "display_data"
    },
    {
     "name": "stdout",
     "output_type": "stream",
     "text": [
      "\n",
      "(CON)\n",
      "\n"
     ]
    },
    {
     "data": {
      "text/html": [
       "<span class=\"tex2jax_ignore\"><div class=\"entities\" style=\"line-height: 2.5; direction: ltr\">\n",
       "<mark class=\"entity\" style=\"background: #ddd; padding: 0.45em 0.6em; margin: 0 0.25em; line-height: 1; border-radius: 0.35em;\">\n",
       "    We\n",
       "    <span style=\"font-size: 0.8em; font-weight: bold; line-height: 1; border-radius: 0.35em; text-transform: uppercase; vertical-align: middle; margin-left: 0.5rem\">SCI</span>\n",
       "</mark>\n",
       " were \n",
       "<mark class=\"entity\" style=\"background: #ddd; padding: 0.45em 0.6em; margin: 0 0.25em; line-height: 1; border-radius: 0.35em;\">\n",
       "    unable\n",
       "    <span style=\"font-size: 0.8em; font-weight: bold; line-height: 1; border-radius: 0.35em; text-transform: uppercase; vertical-align: middle; margin-left: 0.5rem\">NEG</span>\n",
       "</mark>\n",
       " to \n",
       "<mark class=\"entity\" style=\"background: #ddd; padding: 0.45em 0.6em; margin: 0 0.25em; line-height: 1; border-radius: 0.35em;\">\n",
       "    confirm\n",
       "    <span style=\"font-size: 0.8em; font-weight: bold; line-height: 1; border-radius: 0.35em; text-transform: uppercase; vertical-align: middle; margin-left: 0.5rem\">SUPP</span>\n",
       "</mark>\n",
       " a benefit of hydroxychloroquine or chloroquine, when used alone or with a macrolide, on in-hospital outcomes for COVID-19.</div></span>"
      ],
      "text/plain": [
       "<IPython.core.display.HTML object>"
      ]
     },
     "metadata": {},
     "output_type": "display_data"
    },
    {
     "name": "stdout",
     "output_type": "stream",
     "text": [
      "\n",
      "\n",
      "==========\n",
      "\n",
      "(PRO)\n",
      "\n"
     ]
    },
    {
     "data": {
      "text/html": [
       "<span class=\"tex2jax_ignore\"><div class=\"entities\" style=\"line-height: 2.5; direction: ltr\">\n",
       "<mark class=\"entity\" style=\"background: #ddd; padding: 0.45em 0.6em; margin: 0 0.25em; line-height: 1; border-radius: 0.35em;\">\n",
       "    Preliminary evidence\n",
       "    <span style=\"font-size: 0.8em; font-weight: bold; line-height: 1; border-radius: 0.35em; text-transform: uppercase; vertical-align: middle; margin-left: 0.5rem\">EVID</span>\n",
       "</mark>\n",
       " \n",
       "<mark class=\"entity\" style=\"background: #ddd; padding: 0.45em 0.6em; margin: 0 0.25em; line-height: 1; border-radius: 0.35em;\">\n",
       "    suggests\n",
       "    <span style=\"font-size: 0.8em; font-weight: bold; line-height: 1; border-radius: 0.35em; text-transform: uppercase; vertical-align: middle; margin-left: 0.5rem\">SUPP</span>\n",
       "</mark>\n",
       " potential benefit with chloroquine or hydroxychloroquine.</div></span>"
      ],
      "text/plain": [
       "<IPython.core.display.HTML object>"
      ]
     },
     "metadata": {},
     "output_type": "display_data"
    },
    {
     "name": "stdout",
     "output_type": "stream",
     "text": [
      "\n",
      "(CON)\n",
      "\n"
     ]
    },
    {
     "data": {
      "text/html": [
       "<span class=\"tex2jax_ignore\"><div class=\"entities\" style=\"line-height: 2.5; direction: ltr\">\n",
       "<mark class=\"entity\" style=\"background: #ddd; padding: 0.45em 0.6em; margin: 0 0.25em; line-height: 1; border-radius: 0.35em;\">\n",
       "    This systematic review and meta-analysis\n",
       "    <span style=\"font-size: 0.8em; font-weight: bold; line-height: 1; border-radius: 0.35em; text-transform: uppercase; vertical-align: middle; margin-left: 0.5rem\">EVID</span>\n",
       "</mark>\n",
       " \n",
       "<mark class=\"entity\" style=\"background: #ddd; padding: 0.45em 0.6em; margin: 0 0.25em; line-height: 1; border-radius: 0.35em;\">\n",
       "    showed\n",
       "    <span style=\"font-size: 0.8em; font-weight: bold; line-height: 1; border-radius: 0.35em; text-transform: uppercase; vertical-align: middle; margin-left: 0.5rem\">SUPP</span>\n",
       "</mark>\n",
       " \n",
       "<mark class=\"entity\" style=\"background: #ddd; padding: 0.45em 0.6em; margin: 0 0.25em; line-height: 1; border-radius: 0.35em;\">\n",
       "    no\n",
       "    <span style=\"font-size: 0.8em; font-weight: bold; line-height: 1; border-radius: 0.35em; text-transform: uppercase; vertical-align: middle; margin-left: 0.5rem\">NEG</span>\n",
       "</mark>\n",
       " clinical benefits regarding HCQ treatment with/without azithromycin for COVID-19 patients.</div></span>"
      ],
      "text/plain": [
       "<IPython.core.display.HTML object>"
      ]
     },
     "metadata": {},
     "output_type": "display_data"
    },
    {
     "name": "stdout",
     "output_type": "stream",
     "text": [
      "\n",
      "\n",
      "==========\n",
      "\n",
      "(PRO)\n",
      "\n"
     ]
    },
    {
     "data": {
      "text/html": [
       "<span class=\"tex2jax_ignore\"><div class=\"entities\" style=\"line-height: 2.5; direction: ltr\">\n",
       "<mark class=\"entity\" style=\"background: #ddd; padding: 0.45em 0.6em; margin: 0 0.25em; line-height: 1; border-radius: 0.35em;\">\n",
       "    The findings\n",
       "    <span style=\"font-size: 0.8em; font-weight: bold; line-height: 1; border-radius: 0.35em; text-transform: uppercase; vertical-align: middle; margin-left: 0.5rem\">EVID</span>\n",
       "</mark>\n",
       " \n",
       "<mark class=\"entity\" style=\"background: #ddd; padding: 0.45em 0.6em; margin: 0 0.25em; line-height: 1; border-radius: 0.35em;\">\n",
       "    support\n",
       "    <span style=\"font-size: 0.8em; font-weight: bold; line-height: 1; border-radius: 0.35em; text-transform: uppercase; vertical-align: middle; margin-left: 0.5rem\">SUPP</span>\n",
       "</mark>\n",
       " the hypothesis that these drugs have efficacy in the treatment of COVID-19.</div></span>"
      ],
      "text/plain": [
       "<IPython.core.display.HTML object>"
      ]
     },
     "metadata": {},
     "output_type": "display_data"
    },
    {
     "name": "stdout",
     "output_type": "stream",
     "text": [
      "\n",
      "(CON)\n",
      "\n"
     ]
    },
    {
     "data": {
      "text/html": [
       "<span class=\"tex2jax_ignore\"><div class=\"entities\" style=\"line-height: 2.5; direction: ltr\">\n",
       "<mark class=\"entity\" style=\"background: #ddd; padding: 0.45em 0.6em; margin: 0 0.25em; line-height: 1; border-radius: 0.35em;\">\n",
       "    We\n",
       "    <span style=\"font-size: 0.8em; font-weight: bold; line-height: 1; border-radius: 0.35em; text-transform: uppercase; vertical-align: middle; margin-left: 0.5rem\">SCI</span>\n",
       "</mark>\n",
       " were \n",
       "<mark class=\"entity\" style=\"background: #ddd; padding: 0.45em 0.6em; margin: 0 0.25em; line-height: 1; border-radius: 0.35em;\">\n",
       "    unable\n",
       "    <span style=\"font-size: 0.8em; font-weight: bold; line-height: 1; border-radius: 0.35em; text-transform: uppercase; vertical-align: middle; margin-left: 0.5rem\">NEG</span>\n",
       "</mark>\n",
       " to \n",
       "<mark class=\"entity\" style=\"background: #ddd; padding: 0.45em 0.6em; margin: 0 0.25em; line-height: 1; border-radius: 0.35em;\">\n",
       "    confirm\n",
       "    <span style=\"font-size: 0.8em; font-weight: bold; line-height: 1; border-radius: 0.35em; text-transform: uppercase; vertical-align: middle; margin-left: 0.5rem\">SUPP</span>\n",
       "</mark>\n",
       " a benefit of hydroxychloroquine or chloroquine, when used alone or with a macrolide, on in-hospital outcomes for COVID-19.</div></span>"
      ],
      "text/plain": [
       "<IPython.core.display.HTML object>"
      ]
     },
     "metadata": {},
     "output_type": "display_data"
    },
    {
     "name": "stdout",
     "output_type": "stream",
     "text": [
      "\n",
      "\n",
      "==========\n",
      "\n",
      "(PRO)\n",
      "\n"
     ]
    },
    {
     "data": {
      "text/html": [
       "<span class=\"tex2jax_ignore\"><div class=\"entities\" style=\"line-height: 2.5; direction: ltr\">\n",
       "<mark class=\"entity\" style=\"background: #ddd; padding: 0.45em 0.6em; margin: 0 0.25em; line-height: 1; border-radius: 0.35em;\">\n",
       "    The findings\n",
       "    <span style=\"font-size: 0.8em; font-weight: bold; line-height: 1; border-radius: 0.35em; text-transform: uppercase; vertical-align: middle; margin-left: 0.5rem\">EVID</span>\n",
       "</mark>\n",
       " \n",
       "<mark class=\"entity\" style=\"background: #ddd; padding: 0.45em 0.6em; margin: 0 0.25em; line-height: 1; border-radius: 0.35em;\">\n",
       "    support\n",
       "    <span style=\"font-size: 0.8em; font-weight: bold; line-height: 1; border-radius: 0.35em; text-transform: uppercase; vertical-align: middle; margin-left: 0.5rem\">SUPP</span>\n",
       "</mark>\n",
       " the hypothesis that these drugs have efficacy in the treatment of COVID-19.</div></span>"
      ],
      "text/plain": [
       "<IPython.core.display.HTML object>"
      ]
     },
     "metadata": {},
     "output_type": "display_data"
    },
    {
     "name": "stdout",
     "output_type": "stream",
     "text": [
      "\n",
      "(CON)\n",
      "\n"
     ]
    },
    {
     "data": {
      "text/html": [
       "<span class=\"tex2jax_ignore\"><div class=\"entities\" style=\"line-height: 2.5; direction: ltr\">\n",
       "<mark class=\"entity\" style=\"background: #ddd; padding: 0.45em 0.6em; margin: 0 0.25em; line-height: 1; border-radius: 0.35em;\">\n",
       "    This systematic review and meta-analysis\n",
       "    <span style=\"font-size: 0.8em; font-weight: bold; line-height: 1; border-radius: 0.35em; text-transform: uppercase; vertical-align: middle; margin-left: 0.5rem\">EVID</span>\n",
       "</mark>\n",
       " \n",
       "<mark class=\"entity\" style=\"background: #ddd; padding: 0.45em 0.6em; margin: 0 0.25em; line-height: 1; border-radius: 0.35em;\">\n",
       "    showed\n",
       "    <span style=\"font-size: 0.8em; font-weight: bold; line-height: 1; border-radius: 0.35em; text-transform: uppercase; vertical-align: middle; margin-left: 0.5rem\">SUPP</span>\n",
       "</mark>\n",
       " \n",
       "<mark class=\"entity\" style=\"background: #ddd; padding: 0.45em 0.6em; margin: 0 0.25em; line-height: 1; border-radius: 0.35em;\">\n",
       "    no\n",
       "    <span style=\"font-size: 0.8em; font-weight: bold; line-height: 1; border-radius: 0.35em; text-transform: uppercase; vertical-align: middle; margin-left: 0.5rem\">NEG</span>\n",
       "</mark>\n",
       " clinical benefits regarding HCQ treatment with/without azithromycin for COVID-19 patients.</div></span>"
      ],
      "text/plain": [
       "<IPython.core.display.HTML object>"
      ]
     },
     "metadata": {},
     "output_type": "display_data"
    },
    {
     "name": "stdout",
     "output_type": "stream",
     "text": [
      "\n",
      "\n",
      "==========\n",
      "\n",
      "(PRO)\n",
      "\n"
     ]
    },
    {
     "data": {
      "text/html": [
       "<span class=\"tex2jax_ignore\"><div class=\"entities\" style=\"line-height: 2.5; direction: ltr\">\n",
       "<mark class=\"entity\" style=\"background: #ddd; padding: 0.45em 0.6em; margin: 0 0.25em; line-height: 1; border-radius: 0.35em;\">\n",
       "    The findings\n",
       "    <span style=\"font-size: 0.8em; font-weight: bold; line-height: 1; border-radius: 0.35em; text-transform: uppercase; vertical-align: middle; margin-left: 0.5rem\">EVID</span>\n",
       "</mark>\n",
       " \n",
       "<mark class=\"entity\" style=\"background: #ddd; padding: 0.45em 0.6em; margin: 0 0.25em; line-height: 1; border-radius: 0.35em;\">\n",
       "    support\n",
       "    <span style=\"font-size: 0.8em; font-weight: bold; line-height: 1; border-radius: 0.35em; text-transform: uppercase; vertical-align: middle; margin-left: 0.5rem\">SUPP</span>\n",
       "</mark>\n",
       " the hypothesis that these drugs have efficacy in the treatment of COVID-19.</div></span>"
      ],
      "text/plain": [
       "<IPython.core.display.HTML object>"
      ]
     },
     "metadata": {},
     "output_type": "display_data"
    },
    {
     "name": "stdout",
     "output_type": "stream",
     "text": [
      "\n",
      "(CON)\n",
      "\n"
     ]
    },
    {
     "data": {
      "text/html": [
       "<span class=\"tex2jax_ignore\"><div class=\"entities\" style=\"line-height: 2.5; direction: ltr\">\n",
       "<mark class=\"entity\" style=\"background: #ddd; padding: 0.45em 0.6em; margin: 0 0.25em; line-height: 1; border-radius: 0.35em;\">\n",
       "    Interpretation Preliminary findings\n",
       "    <span style=\"font-size: 0.8em; font-weight: bold; line-height: 1; border-radius: 0.35em; text-transform: uppercase; vertical-align: middle; margin-left: 0.5rem\">EVID</span>\n",
       "</mark>\n",
       " \n",
       "<mark class=\"entity\" style=\"background: #ddd; padding: 0.45em 0.6em; margin: 0 0.25em; line-height: 1; border-radius: 0.35em;\">\n",
       "    suggest\n",
       "    <span style=\"font-size: 0.8em; font-weight: bold; line-height: 1; border-radius: 0.35em; text-transform: uppercase; vertical-align: middle; margin-left: 0.5rem\">SUPP</span>\n",
       "</mark>\n",
       " that the higher CQ dosage (10-day regimen) should \n",
       "<mark class=\"entity\" style=\"background: #ddd; padding: 0.45em 0.6em; margin: 0 0.25em; line-height: 1; border-radius: 0.35em;\">\n",
       "    not\n",
       "    <span style=\"font-size: 0.8em; font-weight: bold; line-height: 1; border-radius: 0.35em; text-transform: uppercase; vertical-align: middle; margin-left: 0.5rem\">NEG</span>\n",
       "</mark>\n",
       " be recommended for COVID-19 treatment because of its potential safety hazards.</div></span>"
      ],
      "text/plain": [
       "<IPython.core.display.HTML object>"
      ]
     },
     "metadata": {},
     "output_type": "display_data"
    },
    {
     "name": "stdout",
     "output_type": "stream",
     "text": [
      "\n",
      "\n",
      "==========\n",
      "\n",
      "(PRO)\n",
      "\n"
     ]
    },
    {
     "data": {
      "text/html": [
       "<span class=\"tex2jax_ignore\"><div class=\"entities\" style=\"line-height: 2.5; direction: ltr\">Despite its small sample size, \n",
       "<mark class=\"entity\" style=\"background: #ddd; padding: 0.45em 0.6em; margin: 0 0.25em; line-height: 1; border-radius: 0.35em;\">\n",
       "    our survey\n",
       "    <span style=\"font-size: 0.8em; font-weight: bold; line-height: 1; border-radius: 0.35em; text-transform: uppercase; vertical-align: middle; margin-left: 0.5rem\">EVID</span>\n",
       "</mark>\n",
       " \n",
       "<mark class=\"entity\" style=\"background: #ddd; padding: 0.45em 0.6em; margin: 0 0.25em; line-height: 1; border-radius: 0.35em;\">\n",
       "    shows\n",
       "    <span style=\"font-size: 0.8em; font-weight: bold; line-height: 1; border-radius: 0.35em; text-transform: uppercase; vertical-align: middle; margin-left: 0.5rem\">SUPP</span>\n",
       "</mark>\n",
       " that hydroxychloroquine treatment is significantly associated with viral load reduction/disappearance in COVID-19 patients and its effect is reinforced by azithromycin.</div></span>"
      ],
      "text/plain": [
       "<IPython.core.display.HTML object>"
      ]
     },
     "metadata": {},
     "output_type": "display_data"
    },
    {
     "name": "stdout",
     "output_type": "stream",
     "text": [
      "\n",
      "(CON)\n",
      "\n"
     ]
    },
    {
     "data": {
      "text/html": [
       "<span class=\"tex2jax_ignore\"><div class=\"entities\" style=\"line-height: 2.5; direction: ltr\">\n",
       "<mark class=\"entity\" style=\"background: #ddd; padding: 0.45em 0.6em; margin: 0 0.25em; line-height: 1; border-radius: 0.35em;\">\n",
       "    We\n",
       "    <span style=\"font-size: 0.8em; font-weight: bold; line-height: 1; border-radius: 0.35em; text-transform: uppercase; vertical-align: middle; margin-left: 0.5rem\">SCI</span>\n",
       "</mark>\n",
       " were \n",
       "<mark class=\"entity\" style=\"background: #ddd; padding: 0.45em 0.6em; margin: 0 0.25em; line-height: 1; border-radius: 0.35em;\">\n",
       "    unable\n",
       "    <span style=\"font-size: 0.8em; font-weight: bold; line-height: 1; border-radius: 0.35em; text-transform: uppercase; vertical-align: middle; margin-left: 0.5rem\">NEG</span>\n",
       "</mark>\n",
       " to \n",
       "<mark class=\"entity\" style=\"background: #ddd; padding: 0.45em 0.6em; margin: 0 0.25em; line-height: 1; border-radius: 0.35em;\">\n",
       "    confirm\n",
       "    <span style=\"font-size: 0.8em; font-weight: bold; line-height: 1; border-radius: 0.35em; text-transform: uppercase; vertical-align: middle; margin-left: 0.5rem\">SUPP</span>\n",
       "</mark>\n",
       " a benefit of hydroxychloroquine or chloroquine, when used alone or with a macrolide, on in-hospital outcomes for COVID-19.</div></span>"
      ],
      "text/plain": [
       "<IPython.core.display.HTML object>"
      ]
     },
     "metadata": {},
     "output_type": "display_data"
    },
    {
     "name": "stdout",
     "output_type": "stream",
     "text": [
      "\n",
      "\n",
      "==========\n",
      "\n",
      "(PRO)\n",
      "\n"
     ]
    },
    {
     "data": {
      "text/html": [
       "<span class=\"tex2jax_ignore\"><div class=\"entities\" style=\"line-height: 2.5; direction: ltr\">Despite its small sample size, \n",
       "<mark class=\"entity\" style=\"background: #ddd; padding: 0.45em 0.6em; margin: 0 0.25em; line-height: 1; border-radius: 0.35em;\">\n",
       "    our survey\n",
       "    <span style=\"font-size: 0.8em; font-weight: bold; line-height: 1; border-radius: 0.35em; text-transform: uppercase; vertical-align: middle; margin-left: 0.5rem\">EVID</span>\n",
       "</mark>\n",
       " \n",
       "<mark class=\"entity\" style=\"background: #ddd; padding: 0.45em 0.6em; margin: 0 0.25em; line-height: 1; border-radius: 0.35em;\">\n",
       "    shows\n",
       "    <span style=\"font-size: 0.8em; font-weight: bold; line-height: 1; border-radius: 0.35em; text-transform: uppercase; vertical-align: middle; margin-left: 0.5rem\">SUPP</span>\n",
       "</mark>\n",
       " that hydroxychloroquine treatment is significantly associated with viral load reduction/disappearance in COVID-19 patients and its effect is reinforced by azithromycin.</div></span>"
      ],
      "text/plain": [
       "<IPython.core.display.HTML object>"
      ]
     },
     "metadata": {},
     "output_type": "display_data"
    },
    {
     "name": "stdout",
     "output_type": "stream",
     "text": [
      "\n",
      "(CON)\n",
      "\n"
     ]
    },
    {
     "data": {
      "text/html": [
       "<span class=\"tex2jax_ignore\"><div class=\"entities\" style=\"line-height: 2.5; direction: ltr\">\n",
       "<mark class=\"entity\" style=\"background: #ddd; padding: 0.45em 0.6em; margin: 0 0.25em; line-height: 1; border-radius: 0.35em;\">\n",
       "    This systematic review and meta-analysis\n",
       "    <span style=\"font-size: 0.8em; font-weight: bold; line-height: 1; border-radius: 0.35em; text-transform: uppercase; vertical-align: middle; margin-left: 0.5rem\">EVID</span>\n",
       "</mark>\n",
       " \n",
       "<mark class=\"entity\" style=\"background: #ddd; padding: 0.45em 0.6em; margin: 0 0.25em; line-height: 1; border-radius: 0.35em;\">\n",
       "    showed\n",
       "    <span style=\"font-size: 0.8em; font-weight: bold; line-height: 1; border-radius: 0.35em; text-transform: uppercase; vertical-align: middle; margin-left: 0.5rem\">SUPP</span>\n",
       "</mark>\n",
       " \n",
       "<mark class=\"entity\" style=\"background: #ddd; padding: 0.45em 0.6em; margin: 0 0.25em; line-height: 1; border-radius: 0.35em;\">\n",
       "    no\n",
       "    <span style=\"font-size: 0.8em; font-weight: bold; line-height: 1; border-radius: 0.35em; text-transform: uppercase; vertical-align: middle; margin-left: 0.5rem\">NEG</span>\n",
       "</mark>\n",
       " clinical benefits regarding HCQ treatment with/without azithromycin for COVID-19 patients.</div></span>"
      ],
      "text/plain": [
       "<IPython.core.display.HTML object>"
      ]
     },
     "metadata": {},
     "output_type": "display_data"
    },
    {
     "name": "stdout",
     "output_type": "stream",
     "text": [
      "\n",
      "\n",
      "==========\n",
      "\n",
      "(PRO)\n",
      "\n"
     ]
    },
    {
     "data": {
      "text/html": [
       "<span class=\"tex2jax_ignore\"><div class=\"entities\" style=\"line-height: 2.5; direction: ltr\">Despite its small sample size, \n",
       "<mark class=\"entity\" style=\"background: #ddd; padding: 0.45em 0.6em; margin: 0 0.25em; line-height: 1; border-radius: 0.35em;\">\n",
       "    our survey\n",
       "    <span style=\"font-size: 0.8em; font-weight: bold; line-height: 1; border-radius: 0.35em; text-transform: uppercase; vertical-align: middle; margin-left: 0.5rem\">EVID</span>\n",
       "</mark>\n",
       " \n",
       "<mark class=\"entity\" style=\"background: #ddd; padding: 0.45em 0.6em; margin: 0 0.25em; line-height: 1; border-radius: 0.35em;\">\n",
       "    shows\n",
       "    <span style=\"font-size: 0.8em; font-weight: bold; line-height: 1; border-radius: 0.35em; text-transform: uppercase; vertical-align: middle; margin-left: 0.5rem\">SUPP</span>\n",
       "</mark>\n",
       " that hydroxychloroquine treatment is significantly associated with viral load reduction/disappearance in COVID-19 patients and its effect is reinforced by azithromycin.</div></span>"
      ],
      "text/plain": [
       "<IPython.core.display.HTML object>"
      ]
     },
     "metadata": {},
     "output_type": "display_data"
    },
    {
     "name": "stdout",
     "output_type": "stream",
     "text": [
      "\n",
      "(CON)\n",
      "\n"
     ]
    },
    {
     "data": {
      "text/html": [
       "<span class=\"tex2jax_ignore\"><div class=\"entities\" style=\"line-height: 2.5; direction: ltr\">\n",
       "<mark class=\"entity\" style=\"background: #ddd; padding: 0.45em 0.6em; margin: 0 0.25em; line-height: 1; border-radius: 0.35em;\">\n",
       "    Interpretation Preliminary findings\n",
       "    <span style=\"font-size: 0.8em; font-weight: bold; line-height: 1; border-radius: 0.35em; text-transform: uppercase; vertical-align: middle; margin-left: 0.5rem\">EVID</span>\n",
       "</mark>\n",
       " \n",
       "<mark class=\"entity\" style=\"background: #ddd; padding: 0.45em 0.6em; margin: 0 0.25em; line-height: 1; border-radius: 0.35em;\">\n",
       "    suggest\n",
       "    <span style=\"font-size: 0.8em; font-weight: bold; line-height: 1; border-radius: 0.35em; text-transform: uppercase; vertical-align: middle; margin-left: 0.5rem\">SUPP</span>\n",
       "</mark>\n",
       " that the higher CQ dosage (10-day regimen) should \n",
       "<mark class=\"entity\" style=\"background: #ddd; padding: 0.45em 0.6em; margin: 0 0.25em; line-height: 1; border-radius: 0.35em;\">\n",
       "    not\n",
       "    <span style=\"font-size: 0.8em; font-weight: bold; line-height: 1; border-radius: 0.35em; text-transform: uppercase; vertical-align: middle; margin-left: 0.5rem\">NEG</span>\n",
       "</mark>\n",
       " be recommended for COVID-19 treatment because of its potential safety hazards.</div></span>"
      ],
      "text/plain": [
       "<IPython.core.display.HTML object>"
      ]
     },
     "metadata": {},
     "output_type": "display_data"
    },
    {
     "name": "stdout",
     "output_type": "stream",
     "text": [
      "\n",
      "\n",
      "==========\n",
      "\n",
      "(PRO)\n",
      "\n"
     ]
    },
    {
     "data": {
      "text/html": [
       "<span class=\"tex2jax_ignore\"><div class=\"entities\" style=\"line-height: 2.5; direction: ltr\">Chloroquine phosphate, an old drug for treatment of malaria, is \n",
       "<mark class=\"entity\" style=\"background: #ddd; padding: 0.45em 0.6em; margin: 0 0.25em; line-height: 1; border-radius: 0.35em;\">\n",
       "    shown\n",
       "    <span style=\"font-size: 0.8em; font-weight: bold; line-height: 1; border-radius: 0.35em; text-transform: uppercase; vertical-align: middle; margin-left: 0.5rem\">SUPP</span>\n",
       "</mark>\n",
       " to have apparent efficacy and acceptable safety against COVID-19 associated pneumonia in \n",
       "<mark class=\"entity\" style=\"background: #ddd; padding: 0.45em 0.6em; margin: 0 0.25em; line-height: 1; border-radius: 0.35em;\">\n",
       "    multicenter clinical trials\n",
       "    <span style=\"font-size: 0.8em; font-weight: bold; line-height: 1; border-radius: 0.35em; text-transform: uppercase; vertical-align: middle; margin-left: 0.5rem\">EVID</span>\n",
       "</mark>\n",
       " conducted in China.</div></span>"
      ],
      "text/plain": [
       "<IPython.core.display.HTML object>"
      ]
     },
     "metadata": {},
     "output_type": "display_data"
    },
    {
     "name": "stdout",
     "output_type": "stream",
     "text": [
      "\n",
      "(CON)\n",
      "\n"
     ]
    },
    {
     "data": {
      "text/html": [
       "<span class=\"tex2jax_ignore\"><div class=\"entities\" style=\"line-height: 2.5; direction: ltr\">\n",
       "<mark class=\"entity\" style=\"background: #ddd; padding: 0.45em 0.6em; margin: 0 0.25em; line-height: 1; border-radius: 0.35em;\">\n",
       "    We\n",
       "    <span style=\"font-size: 0.8em; font-weight: bold; line-height: 1; border-radius: 0.35em; text-transform: uppercase; vertical-align: middle; margin-left: 0.5rem\">SCI</span>\n",
       "</mark>\n",
       " were \n",
       "<mark class=\"entity\" style=\"background: #ddd; padding: 0.45em 0.6em; margin: 0 0.25em; line-height: 1; border-radius: 0.35em;\">\n",
       "    unable\n",
       "    <span style=\"font-size: 0.8em; font-weight: bold; line-height: 1; border-radius: 0.35em; text-transform: uppercase; vertical-align: middle; margin-left: 0.5rem\">NEG</span>\n",
       "</mark>\n",
       " to \n",
       "<mark class=\"entity\" style=\"background: #ddd; padding: 0.45em 0.6em; margin: 0 0.25em; line-height: 1; border-radius: 0.35em;\">\n",
       "    confirm\n",
       "    <span style=\"font-size: 0.8em; font-weight: bold; line-height: 1; border-radius: 0.35em; text-transform: uppercase; vertical-align: middle; margin-left: 0.5rem\">SUPP</span>\n",
       "</mark>\n",
       " a benefit of hydroxychloroquine or chloroquine, when used alone or with a macrolide, on in-hospital outcomes for COVID-19.</div></span>"
      ],
      "text/plain": [
       "<IPython.core.display.HTML object>"
      ]
     },
     "metadata": {},
     "output_type": "display_data"
    },
    {
     "name": "stdout",
     "output_type": "stream",
     "text": [
      "\n",
      "\n",
      "==========\n",
      "\n",
      "(PRO)\n",
      "\n"
     ]
    },
    {
     "data": {
      "text/html": [
       "<span class=\"tex2jax_ignore\"><div class=\"entities\" style=\"line-height: 2.5; direction: ltr\">Chloroquine phosphate, an old drug for treatment of malaria, is \n",
       "<mark class=\"entity\" style=\"background: #ddd; padding: 0.45em 0.6em; margin: 0 0.25em; line-height: 1; border-radius: 0.35em;\">\n",
       "    shown\n",
       "    <span style=\"font-size: 0.8em; font-weight: bold; line-height: 1; border-radius: 0.35em; text-transform: uppercase; vertical-align: middle; margin-left: 0.5rem\">SUPP</span>\n",
       "</mark>\n",
       " to have apparent efficacy and acceptable safety against COVID-19 associated pneumonia in \n",
       "<mark class=\"entity\" style=\"background: #ddd; padding: 0.45em 0.6em; margin: 0 0.25em; line-height: 1; border-radius: 0.35em;\">\n",
       "    multicenter clinical trials\n",
       "    <span style=\"font-size: 0.8em; font-weight: bold; line-height: 1; border-radius: 0.35em; text-transform: uppercase; vertical-align: middle; margin-left: 0.5rem\">EVID</span>\n",
       "</mark>\n",
       " conducted in China.</div></span>"
      ],
      "text/plain": [
       "<IPython.core.display.HTML object>"
      ]
     },
     "metadata": {},
     "output_type": "display_data"
    },
    {
     "name": "stdout",
     "output_type": "stream",
     "text": [
      "\n",
      "(CON)\n",
      "\n"
     ]
    },
    {
     "data": {
      "text/html": [
       "<span class=\"tex2jax_ignore\"><div class=\"entities\" style=\"line-height: 2.5; direction: ltr\">\n",
       "<mark class=\"entity\" style=\"background: #ddd; padding: 0.45em 0.6em; margin: 0 0.25em; line-height: 1; border-radius: 0.35em;\">\n",
       "    This systematic review and meta-analysis\n",
       "    <span style=\"font-size: 0.8em; font-weight: bold; line-height: 1; border-radius: 0.35em; text-transform: uppercase; vertical-align: middle; margin-left: 0.5rem\">EVID</span>\n",
       "</mark>\n",
       " \n",
       "<mark class=\"entity\" style=\"background: #ddd; padding: 0.45em 0.6em; margin: 0 0.25em; line-height: 1; border-radius: 0.35em;\">\n",
       "    showed\n",
       "    <span style=\"font-size: 0.8em; font-weight: bold; line-height: 1; border-radius: 0.35em; text-transform: uppercase; vertical-align: middle; margin-left: 0.5rem\">SUPP</span>\n",
       "</mark>\n",
       " \n",
       "<mark class=\"entity\" style=\"background: #ddd; padding: 0.45em 0.6em; margin: 0 0.25em; line-height: 1; border-radius: 0.35em;\">\n",
       "    no\n",
       "    <span style=\"font-size: 0.8em; font-weight: bold; line-height: 1; border-radius: 0.35em; text-transform: uppercase; vertical-align: middle; margin-left: 0.5rem\">NEG</span>\n",
       "</mark>\n",
       " clinical benefits regarding HCQ treatment with/without azithromycin for COVID-19 patients.</div></span>"
      ],
      "text/plain": [
       "<IPython.core.display.HTML object>"
      ]
     },
     "metadata": {},
     "output_type": "display_data"
    },
    {
     "name": "stdout",
     "output_type": "stream",
     "text": [
      "\n",
      "\n",
      "==========\n",
      "\n",
      "(PRO)\n",
      "\n"
     ]
    },
    {
     "data": {
      "text/html": [
       "<span class=\"tex2jax_ignore\"><div class=\"entities\" style=\"line-height: 2.5; direction: ltr\">Chloroquine phosphate, an old drug for treatment of malaria, is \n",
       "<mark class=\"entity\" style=\"background: #ddd; padding: 0.45em 0.6em; margin: 0 0.25em; line-height: 1; border-radius: 0.35em;\">\n",
       "    shown\n",
       "    <span style=\"font-size: 0.8em; font-weight: bold; line-height: 1; border-radius: 0.35em; text-transform: uppercase; vertical-align: middle; margin-left: 0.5rem\">SUPP</span>\n",
       "</mark>\n",
       " to have apparent efficacy and acceptable safety against COVID-19 associated pneumonia in \n",
       "<mark class=\"entity\" style=\"background: #ddd; padding: 0.45em 0.6em; margin: 0 0.25em; line-height: 1; border-radius: 0.35em;\">\n",
       "    multicenter clinical trials\n",
       "    <span style=\"font-size: 0.8em; font-weight: bold; line-height: 1; border-radius: 0.35em; text-transform: uppercase; vertical-align: middle; margin-left: 0.5rem\">EVID</span>\n",
       "</mark>\n",
       " conducted in China.</div></span>"
      ],
      "text/plain": [
       "<IPython.core.display.HTML object>"
      ]
     },
     "metadata": {},
     "output_type": "display_data"
    },
    {
     "name": "stdout",
     "output_type": "stream",
     "text": [
      "\n",
      "(CON)\n",
      "\n"
     ]
    },
    {
     "data": {
      "text/html": [
       "<span class=\"tex2jax_ignore\"><div class=\"entities\" style=\"line-height: 2.5; direction: ltr\">\n",
       "<mark class=\"entity\" style=\"background: #ddd; padding: 0.45em 0.6em; margin: 0 0.25em; line-height: 1; border-radius: 0.35em;\">\n",
       "    Interpretation Preliminary findings\n",
       "    <span style=\"font-size: 0.8em; font-weight: bold; line-height: 1; border-radius: 0.35em; text-transform: uppercase; vertical-align: middle; margin-left: 0.5rem\">EVID</span>\n",
       "</mark>\n",
       " \n",
       "<mark class=\"entity\" style=\"background: #ddd; padding: 0.45em 0.6em; margin: 0 0.25em; line-height: 1; border-radius: 0.35em;\">\n",
       "    suggest\n",
       "    <span style=\"font-size: 0.8em; font-weight: bold; line-height: 1; border-radius: 0.35em; text-transform: uppercase; vertical-align: middle; margin-left: 0.5rem\">SUPP</span>\n",
       "</mark>\n",
       " that the higher CQ dosage (10-day regimen) should \n",
       "<mark class=\"entity\" style=\"background: #ddd; padding: 0.45em 0.6em; margin: 0 0.25em; line-height: 1; border-radius: 0.35em;\">\n",
       "    not\n",
       "    <span style=\"font-size: 0.8em; font-weight: bold; line-height: 1; border-radius: 0.35em; text-transform: uppercase; vertical-align: middle; margin-left: 0.5rem\">NEG</span>\n",
       "</mark>\n",
       " be recommended for COVID-19 treatment because of its potential safety hazards.</div></span>"
      ],
      "text/plain": [
       "<IPython.core.display.HTML object>"
      ]
     },
     "metadata": {},
     "output_type": "display_data"
    },
    {
     "name": "stdout",
     "output_type": "stream",
     "text": [
      "\n",
      "\n"
     ]
    }
   ],
   "source": [
    "# Show pairs of disagreeing sentences with highlighted entities\n",
    "for (doc, doc_neg) in disagreementPairs:\n",
    "    print(\"==========\\n\")\n",
    "    print(\"(PRO)\\n\")\n",
    "    displacy.render(doc, style=\"ent\", jupyter=True)\n",
    "    print(\"\\n(CON)\\n\")\n",
    "    displacy.render(doc_neg, style=\"ent\", jupyter=True)\n",
    "    print(\"\\n\")"
   ]
  }
 ],
 "metadata": {
  "kernelspec": {
   "display_name": "Python 3",
   "language": "python",
   "name": "python3"
  },
  "language_info": {
   "codemirror_mode": {
    "name": "ipython",
    "version": 3
   },
   "file_extension": ".py",
   "mimetype": "text/x-python",
   "name": "python",
   "nbconvert_exporter": "python",
   "pygments_lexer": "ipython3",
   "version": "3.7.6"
  }
 },
 "nbformat": 4,
 "nbformat_minor": 4
}
