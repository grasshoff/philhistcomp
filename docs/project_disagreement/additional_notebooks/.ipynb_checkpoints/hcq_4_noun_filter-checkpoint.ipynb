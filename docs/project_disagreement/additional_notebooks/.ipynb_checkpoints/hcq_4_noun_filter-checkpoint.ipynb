{
 "cells": [
  {
   "cell_type": "markdown",
   "metadata": {},
   "source": [
    "# 4 Noun Filter"
   ]
  },
  {
   "cell_type": "markdown",
   "metadata": {},
   "source": [
    "## 0 Import Libraries"
   ]
  },
  {
   "cell_type": "code",
   "execution_count": 1,
   "metadata": {},
   "outputs": [],
   "source": [
    "import pandas as pd\n",
    "import spacy\n",
    "from spacy.matcher import Matcher\n",
    "import numpy as np\n",
    "from sklearn.metrics import confusion_matrix, classification_report"
   ]
  },
  {
   "cell_type": "code",
   "execution_count": 2,
   "metadata": {},
   "outputs": [],
   "source": [
    "# Import English Library\n",
    "nlp = spacy.load(\"en_core_web_lg\", disable=[\"ner\"])"
   ]
  },
  {
   "cell_type": "markdown",
   "metadata": {},
   "source": [
    "## 1 Load Dataframe"
   ]
  },
  {
   "cell_type": "code",
   "execution_count": 3,
   "metadata": {},
   "outputs": [],
   "source": [
    "# Load sentences dataframe from 'HCQ_sentences.json': sentences_df\n",
    "sentences_df = pd.read_json(\"../data/HCQ_sentences.json\")"
   ]
  },
  {
   "cell_type": "code",
   "execution_count": 4,
   "metadata": {},
   "outputs": [
    {
     "data": {
      "text/html": [
       "<div>\n",
       "<style scoped>\n",
       "    .dataframe tbody tr th:only-of-type {\n",
       "        vertical-align: middle;\n",
       "    }\n",
       "\n",
       "    .dataframe tbody tr th {\n",
       "        vertical-align: top;\n",
       "    }\n",
       "\n",
       "    .dataframe thead th {\n",
       "        text-align: right;\n",
       "    }\n",
       "</style>\n",
       "<table border=\"1\" class=\"dataframe\">\n",
       "  <thead>\n",
       "    <tr style=\"text-align: right;\">\n",
       "      <th></th>\n",
       "      <th>sentence_id</th>\n",
       "      <th>title</th>\n",
       "      <th>sentence</th>\n",
       "    </tr>\n",
       "  </thead>\n",
       "  <tbody>\n",
       "    <tr>\n",
       "      <th>0</th>\n",
       "      <td>pub.1126880632-0</td>\n",
       "      <td>COVID-19 and what pediatric rheumatologists sh...</td>\n",
       "      <td>On March 11th, 2020 the World Health Organizat...</td>\n",
       "    </tr>\n",
       "    <tr>\n",
       "      <th>1</th>\n",
       "      <td>pub.1126880632-1</td>\n",
       "      <td>COVID-19 and what pediatric rheumatologists sh...</td>\n",
       "      <td>The infection, transmitted by 2019 novel coron...</td>\n",
       "    </tr>\n",
       "    <tr>\n",
       "      <th>2</th>\n",
       "      <td>pub.1126880632-2</td>\n",
       "      <td>COVID-19 and what pediatric rheumatologists sh...</td>\n",
       "      <td>Italy was early and severely involved, with a ...</td>\n",
       "    </tr>\n",
       "  </tbody>\n",
       "</table>\n",
       "</div>"
      ],
      "text/plain": [
       "        sentence_id                                              title  \\\n",
       "0  pub.1126880632-0  COVID-19 and what pediatric rheumatologists sh...   \n",
       "1  pub.1126880632-1  COVID-19 and what pediatric rheumatologists sh...   \n",
       "2  pub.1126880632-2  COVID-19 and what pediatric rheumatologists sh...   \n",
       "\n",
       "                                            sentence  \n",
       "0  On March 11th, 2020 the World Health Organizat...  \n",
       "1  The infection, transmitted by 2019 novel coron...  \n",
       "2  Italy was early and severely involved, with a ...  "
      ]
     },
     "execution_count": 4,
     "metadata": {},
     "output_type": "execute_result"
    }
   ],
   "source": [
    "sentences_df.head(3)"
   ]
  },
  {
   "cell_type": "markdown",
   "metadata": {},
   "source": [
    "## 2 Verb Filtered Sentences"
   ]
  },
  {
   "cell_type": "code",
   "execution_count": 5,
   "metadata": {},
   "outputs": [],
   "source": [
    "# Make list of sentences (Doc-object) \n",
    "# from column 'sentence' of dataframe 'sentences_df': doc_list\n",
    "doc_list = list(nlp.pipe(sentences_df[\"sentence\"].to_list()))"
   ]
  },
  {
   "cell_type": "code",
   "execution_count": 6,
   "metadata": {},
   "outputs": [],
   "source": [
    "# Make matcher: 'verb_matcher_2'\n",
    "verb_matcher_2 = Matcher(nlp.vocab, validate=True)"
   ]
  },
  {
   "cell_type": "code",
   "execution_count": 7,
   "metadata": {},
   "outputs": [],
   "source": [
    "# Make search pattern for 'verb_matcher_2': support_verbs_pattern\n",
    "support_verbs_pattern = [{\"POS\": \"VERB\", \"DEP\": \"ROOT\", \"LEMMA\": {\"IN\": ['reveal', 'show', 'suggest', 'support']}}]"
   ]
  },
  {
   "cell_type": "code",
   "execution_count": 8,
   "metadata": {},
   "outputs": [],
   "source": [
    "# Make additional search pattern for 'verb_matcher_2': confirm_pattern\n",
    "confirm_pattern = [{\"POS\": \"VERB\", \"DEP\": \"xcomp\", \"LEMMA\": \"confirm\"}]"
   ]
  },
  {
   "cell_type": "code",
   "execution_count": 9,
   "metadata": {},
   "outputs": [],
   "source": [
    "# Add 'support_verbs_pattern' and 'confirm_pattern' to 'verb_matcher_2'\n",
    "verb_matcher_2.add(\"VERB_ID\", None, support_verbs_pattern, confirm_pattern)"
   ]
  },
  {
   "cell_type": "code",
   "execution_count": 10,
   "metadata": {},
   "outputs": [],
   "source": [
    "# Filter Doc-objects (sentences) in 'doc_list' and add the selected Docs to a list: verb_filtered_sentences_2\n",
    "verb_filtered_sentences_2 = [doc for doc in doc_list if len(verb_matcher_2(doc)) > 0] "
   ]
  },
  {
   "cell_type": "code",
   "execution_count": 11,
   "metadata": {},
   "outputs": [
    {
     "name": "stdout",
     "output_type": "stream",
     "text": [
      "(0) We were unable to confirm a benefit of hydroxychloroquine or chloroquine, when used alone or with a macrolide, on in-hospital outcomes for COVID-19.\n",
      "(1) This work was supported by the Emergent Projects of National Science and Technology (2020YFC0844500), National Natural Science Foundation of China (81970020, 81770025), National Key Research and Development Program of China (2016YFC0901104), Shanghai Municipal Key Clinical Specialty (shslczdzk02202, shslczdzk01103), National Innovative Research Team of High-level Local Universities in Shanghai, Shanghai Key Discipline for Respiratory Diseases (2017ZZ02014), National Major Scientific and Technological Special Project for Significant New Drugs Development (2017ZX09304007), Key Projects in the National Science and Technology Pillar Program during the Thirteenth Five-year Plan Period (2018ZX09206005-004, 2017ZX10202202-005-004, 2017ZX10203201-008).\n",
      "(2) This re-analysis reveals severe limitations in the methodology of this study, including ambiguous inclusion/exclusion of participant data and inconsistent analysis techniques, and yielded nonsignificant differences between control and treatment groups across any treatment days.\n",
      "(3) This systematic review and meta-analysis showed no clinical benefits regarding HCQ treatment with/without azithromycin for COVID-19 patients.\n",
      "(4) These results do not support the use of HCQ in patients hospitalised for documented SARS-CoV-2-positive hypoxic pneumonia.\n",
      "(5) Interpretation Preliminary findings suggest that the higher CQ dosage (10-day regimen) should not be recommended for COVID-19 treatment because of its potential safety hazards.\n",
      "(6) Preliminary evidence suggests potential benefit with chloroquine or hydroxychloroquine.\n",
      "(7) Current international society recommendations suggest that patients with rheumatic diseases on immunosuppressive therapy should not stop glucocorticoids during COVID-19 infection, although minimum possible doses may be used.\n",
      "(8) The findings support the hypothesis that these drugs have efficacy in the treatment of COVID-19.\n",
      "(9) Despite its small sample size, our survey shows that hydroxychloroquine treatment is significantly associated with viral load reduction/disappearance in COVID-19 patients and its effect is reinforced by azithromycin.\n",
      "(10) Chloroquine phosphate, an old drug for treatment of malaria, is shown to have apparent efficacy and acceptable safety against COVID-19 associated pneumonia in multicenter clinical trials conducted in China.\n"
     ]
    }
   ],
   "source": [
    "# Print each enumerated verb filtered sentence\n",
    "for sentence_number, sentence in enumerate(verb_filtered_sentences_2):\n",
    "    print(f\"({sentence_number}) {sentence}\")"
   ]
  },
  {
   "cell_type": "code",
   "execution_count": 12,
   "metadata": {},
   "outputs": [
    {
     "name": "stdout",
     "output_type": "stream",
     "text": [
      "Number of sentences in 'doc_list': 216\n",
      "Number of sentences in 'verb_filtered_sentences_2': 11\n"
     ]
    }
   ],
   "source": [
    "# Show number of item in 'doc_list'/'verb_filtered_sentences_2' using 'len()'\n",
    "print(f\"Number of sentences in 'doc_list': {len(doc_list)}\")\n",
    "print(f\"Number of sentences in 'verb_filtered_sentences_2': {len(verb_filtered_sentences_2)}\")"
   ]
  },
  {
   "cell_type": "markdown",
   "metadata": {},
   "source": [
    "## 3 Noun Filter"
   ]
  },
  {
   "cell_type": "markdown",
   "metadata": {},
   "source": [
    "### 3.1 An Initial Search Pattern"
   ]
  },
  {
   "cell_type": "code",
   "execution_count": 13,
   "metadata": {},
   "outputs": [],
   "source": [
    "# Make Doc-object from one example sentence of 'sentences_df' (Sentence ID: pub.1126655433-13): doc\n",
    "doc = nlp(\"These results do not support the use of HCQ in patients hospitalised for documented SARS-CoV-2-positive hypoxic pneumonia.\")"
   ]
  },
  {
   "cell_type": "code",
   "execution_count": 14,
   "metadata": {},
   "outputs": [
    {
     "name": "stdout",
     "output_type": "stream",
     "text": [
      "These DET\n",
      "results NOUN\n",
      "do AUX\n",
      "not PART\n",
      "support VERB\n",
      "the DET\n",
      "use NOUN\n",
      "of ADP\n",
      "HCQ PROPN\n",
      "in ADP\n",
      "patients NOUN\n",
      "hospitalised VERB\n",
      "for ADP\n",
      "documented VERB\n",
      "SARS PROPN\n",
      "- PUNCT\n",
      "CoV-2-positive NOUN\n",
      "hypoxic ADJ\n",
      "pneumonia NOUN\n",
      ". PUNCT\n"
     ]
    }
   ],
   "source": [
    "# Part-of-Speech (POS) tags for tokens in 'doc'\n",
    "for token in doc:\n",
    "    print(token.text, token.pos_)"
   ]
  },
  {
   "cell_type": "code",
   "execution_count": 15,
   "metadata": {},
   "outputs": [
    {
     "name": "stdout",
     "output_type": "stream",
     "text": [
      "['results', 'use', 'patients', 'CoV-2-positive', 'pneumonia']\n"
     ]
    }
   ],
   "source": [
    "# Make and show list of nouns in 'doc': pos_noun\n",
    "pos_noun = []\n",
    "\n",
    "for token in doc:\n",
    "    if token.pos_ == \"NOUN\":\n",
    "        pos_noun.append(token.text)\n",
    "        \n",
    "print(pos_noun)"
   ]
  },
  {
   "cell_type": "code",
   "execution_count": 16,
   "metadata": {},
   "outputs": [
    {
     "name": "stdout",
     "output_type": "stream",
     "text": [
      "These DET det\n",
      "results NOUN nsubj\n",
      "do AUX aux\n",
      "not PART neg\n",
      "support VERB ROOT\n",
      "the DET det\n",
      "use NOUN dobj\n",
      "of ADP prep\n",
      "HCQ PROPN pobj\n",
      "in ADP prep\n",
      "patients NOUN pobj\n",
      "hospitalised VERB acl\n",
      "for ADP prep\n",
      "documented VERB amod\n",
      "SARS PROPN nmod\n",
      "- PUNCT punct\n",
      "CoV-2-positive NOUN nmod\n",
      "hypoxic ADJ amod\n",
      "pneumonia NOUN pobj\n",
      ". PUNCT punct\n"
     ]
    }
   ],
   "source": [
    "# Dependencies (DEP) for tokens in 'doc'\n",
    "for token in doc:\n",
    "    print(token.text, token.pos_, token.dep_)"
   ]
  },
  {
   "cell_type": "code",
   "execution_count": 17,
   "metadata": {},
   "outputs": [
    {
     "data": {
      "text/plain": [
       "'nominal subject'"
      ]
     },
     "execution_count": 17,
     "metadata": {},
     "output_type": "execute_result"
    }
   ],
   "source": [
    "spacy.explain(\"nsubj\")"
   ]
  },
  {
   "cell_type": "code",
   "execution_count": 18,
   "metadata": {},
   "outputs": [
    {
     "name": "stdout",
     "output_type": "stream",
     "text": [
      "['results']\n"
     ]
    }
   ],
   "source": [
    "# Make and show list of nouns in 'doc' that are the nominal subject of 'doc' \n",
    "pos_dep_noun = []\n",
    "\n",
    "for token in doc:\n",
    "    if token.pos_ == \"NOUN\":\n",
    "        if token.dep_ == \"nsubj\":\n",
    "            pos_dep_noun.append(token.text)\n",
    "        \n",
    "print(pos_dep_noun)"
   ]
  },
  {
   "cell_type": "code",
   "execution_count": 19,
   "metadata": {},
   "outputs": [],
   "source": [
    "# Initial search pattern to find EVIDENCE-nouns:'initial_search_pattern_noun'\n",
    "initial_search_pattern_noun = [{\"POS\": \"NOUN\", \"DEP\": \"nsubj\"}]"
   ]
  },
  {
   "cell_type": "code",
   "execution_count": 20,
   "metadata": {},
   "outputs": [],
   "source": [
    "# Make a matcher to test 'initial_search_pattern_noun' on 'doc': 'test_matcher_noun'\n",
    "test_matcher_noun = Matcher(nlp.vocab, validate=True)"
   ]
  },
  {
   "cell_type": "code",
   "execution_count": 21,
   "metadata": {},
   "outputs": [],
   "source": [
    "# Add pattern 'initial_search_pattern_noun' to matcher 'test_matcher_noun'\n",
    "test_matcher_noun.add(\"TEST_ID\", None, initial_search_pattern_noun)"
   ]
  },
  {
   "cell_type": "code",
   "execution_count": 22,
   "metadata": {},
   "outputs": [
    {
     "name": "stdout",
     "output_type": "stream",
     "text": [
      "results\n"
     ]
    }
   ],
   "source": [
    "# Apply 'test_matcher_noun' on 'doc'\n",
    "for match_id, start, end in test_matcher_noun(doc):\n",
    "    print(doc[start:end].text)"
   ]
  },
  {
   "cell_type": "markdown",
   "metadata": {},
   "source": [
    "### 3.2 List of EVIDENCE-nouns"
   ]
  },
  {
   "cell_type": "code",
   "execution_count": 23,
   "metadata": {},
   "outputs": [],
   "source": [
    "# Make a new matcher: initial_search_matcher_noun\n",
    "initial_search_matcher_noun = Matcher(nlp.vocab, validate=True)"
   ]
  },
  {
   "cell_type": "code",
   "execution_count": 24,
   "metadata": {},
   "outputs": [],
   "source": [
    "# Initial search pattern to find EVIDENCE-nouns:'initial_search_pattern_noun'\n",
    "initial_search_pattern_noun = [{\"POS\": \"NOUN\", \"DEP\": \"nsubj\"}]"
   ]
  },
  {
   "cell_type": "code",
   "execution_count": 25,
   "metadata": {},
   "outputs": [],
   "source": [
    "# Add pattern 'initial_search_pattern_noun' to matcher 'initial_search_matcher_noun'\n",
    "initial_search_matcher_noun.add(\"INITIAL_SEARCH_ID\", None, initial_search_pattern_noun)"
   ]
  },
  {
   "cell_type": "code",
   "execution_count": 26,
   "metadata": {},
   "outputs": [],
   "source": [
    "# Define function 'match_noun_nsubj()'\n",
    "def match_noun_nsubj(Doc_list):\n",
    "    lemma_noun = set()     # Make set 'lemma_noun'\n",
    "    \n",
    "    for Doc in Doc_list:          # First loop: iterate over all Doc-objects in Doc_list\n",
    "        for match_id, start, end in initial_search_matcher_noun(Doc):    # Second loop: iterate over all tuples in the list\n",
    "                                                                         # which is created by 'initial_search_matcher_noun\n",
    "                                                                         #(Doc)'\n",
    "                \n",
    "            lemma_noun.add(Doc[start:end].lemma_)                    # For Doc-object at hand: Slice it by means of start \n",
    "                                                                     # index and end index, get basic form (lemma) of\n",
    "                                                                     # token(s) in that slice and add this lemma to \n",
    "                                                                     #'lemma_noun'\n",
    "            \n",
    "    return sorted(list(lemma_noun), key=str.lower)                   # Convert set 'lemma_noun' into a list, sort items in\n",
    "                                                                     # it alphabetically and return the result"
   ]
  },
  {
   "cell_type": "code",
   "execution_count": 27,
   "metadata": {},
   "outputs": [],
   "source": [
    "noun_nsubj_lemma = match_noun_nsubj(verb_filtered_sentences_2)"
   ]
  },
  {
   "cell_type": "code",
   "execution_count": 28,
   "metadata": {},
   "outputs": [
    {
     "name": "stdout",
     "output_type": "stream",
     "text": [
      "['analysis', 'drug', 'evidence', 'finding', 'patient', 'recommendation', 'result', 'survey']\n"
     ]
    }
   ],
   "source": [
    "print(noun_nsubj_lemma)"
   ]
  },
  {
   "cell_type": "markdown",
   "metadata": {},
   "source": [
    "**Aid to help selecting nouns manually**"
   ]
  },
  {
   "cell_type": "code",
   "execution_count": 29,
   "metadata": {},
   "outputs": [],
   "source": [
    "# Make generator form 'noun_nsubj_lemma': noun_generator\n",
    "noun_generator = (noun for noun in noun_nsubj_lemma)"
   ]
  },
  {
   "cell_type": "code",
   "execution_count": 30,
   "metadata": {},
   "outputs": [
    {
     "name": "stdout",
     "output_type": "stream",
     "text": [
      "noun_to_prove: analysis\n",
      "Sentences found with 'analysis' in it: \n",
      "----------------------------------------\n",
      "\n",
      "(0) This re-analysis reveals severe limitations in the methodology of this study, including ambiguous inclusion/exclusion of participant data and inconsistent analysis techniques, and yielded nonsignificant differences between control and treatment groups across any treatment days.\n",
      "(1) This systematic review and meta-analysis showed no clinical benefits regarding HCQ treatment with/without azithromycin for COVID-19 patients.\n"
     ]
    }
   ],
   "source": [
    "# Next item of 'noun_generator': noun_to_prove\n",
    "noun_to_prove = next(noun_generator)\n",
    "\n",
    "# Show current 'noun_to_prove'\n",
    "print(f\"noun_to_prove: {noun_to_prove}\")\n",
    "\n",
    "# Make empty list: found_sentences\n",
    "found_sentences_1 = []\n",
    "\n",
    "for doc in verb_filtered_sentences_2:     # Iterate over all Doc-objects in 'verb_filtered_sentences_2'\n",
    "    for match_id, start, end in initial_search_matcher_noun(doc):     # Iterate over all matches (tuples) for the current \n",
    "                                                                      # Doc\n",
    "            \n",
    "        if doc[start:end].lemma_ == noun_to_prove:                    # If the lemma of the matched Span is equal to the \n",
    "                                                                      # current 'noun_to_prove':\n",
    "                \n",
    "            if doc not in found_sentences_1:                          # Check if the Doc is not already in \n",
    "                                                                      # 'found_sentences_1' if it is not:\n",
    "                                                                 \n",
    "                found_sentences_1.append(doc)                         # Add the current Doc to the list 'found_sentences'\n",
    "                    \n",
    "                    \n",
    "print(f\"Sentences found with '{noun_to_prove}' in it: \")\n",
    "print(\"----------------------------------------\\n\")\n",
    "\n",
    "# Show each found Doc(sentence) with its respective index number \n",
    "for sentence_number, sentence in enumerate(found_sentences_1):\n",
    "    print(f\"({sentence_number}) {sentence}\")"
   ]
  },
  {
   "cell_type": "raw",
   "metadata": {},
   "source": [
    "['analysis', 'drug', 'evidence', 'finding', 'patient', 'recommendation', 'result', 'survey']"
   ]
  },
  {
   "cell_type": "code",
   "execution_count": 31,
   "metadata": {},
   "outputs": [],
   "source": [
    "#selected_nouns = []"
   ]
  },
  {
   "cell_type": "code",
   "execution_count": 32,
   "metadata": {},
   "outputs": [],
   "source": [
    "#selected_nouns.append(noun_to_prove)"
   ]
  },
  {
   "cell_type": "code",
   "execution_count": 33,
   "metadata": {},
   "outputs": [],
   "source": [
    "#print(selected_nouns)"
   ]
  },
  {
   "cell_type": "markdown",
   "metadata": {},
   "source": [
    "```python\n",
    "selected_nouns = ['analysis', 'evidence', 'finding', 'result', 'survey']\n",
    "```\n",
    "\n",
    "5 EVIDENCE-nouns:\n",
    "* analysis\n",
    "* evidence\n",
    "* finding\n",
    "* result\n",
    "* survey"
   ]
  },
  {
   "cell_type": "markdown",
   "metadata": {},
   "source": [
    "### 3.3 A First Noun Filter"
   ]
  },
  {
   "cell_type": "code",
   "execution_count": 34,
   "metadata": {},
   "outputs": [],
   "source": [
    "# Make matcher 'noun_matcher_1'\n",
    "noun_matcher_1 = Matcher(nlp.vocab, validate=True)"
   ]
  },
  {
   "cell_type": "code",
   "execution_count": 35,
   "metadata": {},
   "outputs": [],
   "source": [
    "# Make search patterns for 'noun_matcher_1'\n",
    "analysis_pattern = [{\"POS\": \"NOUN\", \"DEP\": \"nsubj\", \"LEMMA\": \"analysis\"}]\n",
    "evidence_pattern = [{\"POS\": \"NOUN\", \"DEP\": \"nsubj\", \"LEMMA\": \"evidence\"}]\n",
    "finding_pattern = [{\"POS\": \"NOUN\", \"DEP\": \"nsubj\", \"LEMMA\": \"finding\"}]\n",
    "\n",
    "result_pattern = [{\"POS\": \"NOUN\", \"DEP\": \"nsubj\", \"LEMMA\": \"result\"}]\n",
    "survey_pattern = [{\"POS\": \"NOUN\", \"DEP\": \"nsubj\", \"LEMMA\": \"survey\"}]"
   ]
  },
  {
   "cell_type": "code",
   "execution_count": 36,
   "metadata": {},
   "outputs": [],
   "source": [
    "# Add search patterns to 'noun_matcher_1'\n",
    "noun_matcher_1.add(\"NOUN_ID\", None, analysis_pattern, evidence_pattern, finding_pattern, result_pattern, survey_pattern)"
   ]
  },
  {
   "cell_type": "code",
   "execution_count": 37,
   "metadata": {},
   "outputs": [],
   "source": [
    "# Filter Doc-objects (sentences) in 'verb_filtered_sentences_2' and add the selected Docs to a list: \n",
    "# noun_filtered_sentences_1\n",
    "noun_filtered_sentences_1 = [doc for doc in verb_filtered_sentences_2 if len(noun_matcher_1(doc)) > 0] "
   ]
  },
  {
   "cell_type": "code",
   "execution_count": 38,
   "metadata": {},
   "outputs": [
    {
     "name": "stdout",
     "output_type": "stream",
     "text": [
      "(0) This re-analysis reveals severe limitations in the methodology of this study, including ambiguous inclusion/exclusion of participant data and inconsistent analysis techniques, and yielded nonsignificant differences between control and treatment groups across any treatment days.\n",
      "(1) This systematic review and meta-analysis showed no clinical benefits regarding HCQ treatment with/without azithromycin for COVID-19 patients.\n",
      "(2) These results do not support the use of HCQ in patients hospitalised for documented SARS-CoV-2-positive hypoxic pneumonia.\n",
      "(3) Interpretation Preliminary findings suggest that the higher CQ dosage (10-day regimen) should not be recommended for COVID-19 treatment because of its potential safety hazards.\n",
      "(4) Preliminary evidence suggests potential benefit with chloroquine or hydroxychloroquine.\n",
      "(5) The findings support the hypothesis that these drugs have efficacy in the treatment of COVID-19.\n",
      "(6) Despite its small sample size, our survey shows that hydroxychloroquine treatment is significantly associated with viral load reduction/disappearance in COVID-19 patients and its effect is reinforced by azithromycin.\n"
     ]
    }
   ],
   "source": [
    "# Print each enumerated noun filtered sentence\n",
    "for sentence_number, sentence in enumerate(noun_filtered_sentences_1):\n",
    "    print(f\"({sentence_number}) {sentence}\")"
   ]
  },
  {
   "cell_type": "code",
   "execution_count": 39,
   "metadata": {},
   "outputs": [
    {
     "name": "stdout",
     "output_type": "stream",
     "text": [
      "Number of sentences in 'doc_list': 216\n",
      "Number of sentences in 'verb_filtered_sentences_2': 11\n",
      "Number of sentences in 'noun_filtered_sentences_1': 7\n"
     ]
    }
   ],
   "source": [
    "# Show number of item in 'doc_list'/'verb_filtered_sentences_2'/'noun_filtered_sentences_1' using 'len()'\n",
    "print(f\"Number of sentences in 'doc_list': {len(doc_list)}\")\n",
    "print(f\"Number of sentences in 'verb_filtered_sentences_2': {len(verb_filtered_sentences_2)}\")\n",
    "print(f\"Number of sentences in 'noun_filtered_sentences_1': {len(noun_filtered_sentences_1)}\")"
   ]
  },
  {
   "cell_type": "markdown",
   "metadata": {},
   "source": [
    "### 3.4 Evaluation I"
   ]
  },
  {
   "cell_type": "markdown",
   "metadata": {},
   "source": [
    "**For the following steps see:** \n",
    "Youtube: [\"Intro to NLP with spaCy (3): Detecting programming languages | Episode 3: Evaluation\"](https://youtu.be/4V0JDdohxAk)"
   ]
  },
  {
   "cell_type": "markdown",
   "metadata": {},
   "source": [
    "#### 3.4.1 Measuring Device"
   ]
  },
  {
   "cell_type": "code",
   "execution_count": 40,
   "metadata": {},
   "outputs": [],
   "source": [
    "# Load 'sentences_labeled.xlsx' as a dataframe: measuring_df_3\n",
    "measuring_df_3 = pd.read_excel(\"../labeling/sentences_labeled.xlsx\")"
   ]
  },
  {
   "cell_type": "code",
   "execution_count": 41,
   "metadata": {},
   "outputs": [],
   "source": [
    "# Make list that is the similar to 'noun_filtered_sentences_1' exept that it contains strings instead of Docs \n",
    "noun_filtered_strings_1 = [doc.text for doc in noun_filtered_sentences_1]"
   ]
  },
  {
   "cell_type": "code",
   "execution_count": 42,
   "metadata": {},
   "outputs": [],
   "source": [
    "# Define function 'compare_sentences()': It returns a boolean ('True'/'False') depending on whether the assertion that \n",
    "# a sentence (string) is in 'noun_filtered_strings_1' is true or false\n",
    "def compare_sentences(sentence):\n",
    "    return sentence in noun_filtered_strings_1"
   ]
  },
  {
   "cell_type": "code",
   "execution_count": 43,
   "metadata": {},
   "outputs": [],
   "source": [
    "# Make new column by applying 'compare_sentences()' on each row of 'measuring_df_3[\"sentence\"]': prediction\n",
    "measuring_df_3[\"prediction\"] = measuring_df_3[\"sentence\"].apply(compare_sentences)"
   ]
  },
  {
   "cell_type": "code",
   "execution_count": 44,
   "metadata": {},
   "outputs": [
    {
     "data": {
      "text/html": [
       "<div>\n",
       "<style scoped>\n",
       "    .dataframe tbody tr th:only-of-type {\n",
       "        vertical-align: middle;\n",
       "    }\n",
       "\n",
       "    .dataframe tbody tr th {\n",
       "        vertical-align: top;\n",
       "    }\n",
       "\n",
       "    .dataframe thead th {\n",
       "        text-align: right;\n",
       "    }\n",
       "</style>\n",
       "<table border=\"1\" class=\"dataframe\">\n",
       "  <thead>\n",
       "    <tr style=\"text-align: right;\">\n",
       "      <th></th>\n",
       "      <th>label</th>\n",
       "      <th>sentence</th>\n",
       "      <th>prediction</th>\n",
       "    </tr>\n",
       "  </thead>\n",
       "  <tbody>\n",
       "    <tr>\n",
       "      <th>71</th>\n",
       "      <td>0</td>\n",
       "      <td>Proposals should be directed to the correspond...</td>\n",
       "      <td>False</td>\n",
       "    </tr>\n",
       "    <tr>\n",
       "      <th>72</th>\n",
       "      <td>0</td>\n",
       "      <td>Recent publications have brought attention to ...</td>\n",
       "      <td>False</td>\n",
       "    </tr>\n",
       "    <tr>\n",
       "      <th>73</th>\n",
       "      <td>0</td>\n",
       "      <td>The scientific community should consider this ...</td>\n",
       "      <td>False</td>\n",
       "    </tr>\n",
       "    <tr>\n",
       "      <th>74</th>\n",
       "      <td>0</td>\n",
       "      <td>A recent open-label study claimed that hydroxy...</td>\n",
       "      <td>False</td>\n",
       "    </tr>\n",
       "    <tr>\n",
       "      <th>75</th>\n",
       "      <td>1</td>\n",
       "      <td>This re-analysis reveals severe limitations in...</td>\n",
       "      <td>True</td>\n",
       "    </tr>\n",
       "  </tbody>\n",
       "</table>\n",
       "</div>"
      ],
      "text/plain": [
       "    label                                           sentence  prediction\n",
       "71      0  Proposals should be directed to the correspond...       False\n",
       "72      0  Recent publications have brought attention to ...       False\n",
       "73      0  The scientific community should consider this ...       False\n",
       "74      0  A recent open-label study claimed that hydroxy...       False\n",
       "75      1  This re-analysis reveals severe limitations in...        True"
      ]
     },
     "execution_count": 44,
     "metadata": {},
     "output_type": "execute_result"
    }
   ],
   "source": [
    "# Show rows no. 71-75 of 'measuring_df_3'\n",
    "measuring_df_3.iloc[71:76]"
   ]
  },
  {
   "cell_type": "code",
   "execution_count": 45,
   "metadata": {},
   "outputs": [],
   "source": [
    "# Make column 'prediction' in such a way that booleans ('True'/'False') are turned into '1'/'0'\n",
    "measuring_df_3 = measuring_df_3.assign(prediction=lambda df: df[\"prediction\"].astype(np.int8))"
   ]
  },
  {
   "cell_type": "code",
   "execution_count": 46,
   "metadata": {},
   "outputs": [
    {
     "data": {
      "text/html": [
       "<div>\n",
       "<style scoped>\n",
       "    .dataframe tbody tr th:only-of-type {\n",
       "        vertical-align: middle;\n",
       "    }\n",
       "\n",
       "    .dataframe tbody tr th {\n",
       "        vertical-align: top;\n",
       "    }\n",
       "\n",
       "    .dataframe thead th {\n",
       "        text-align: right;\n",
       "    }\n",
       "</style>\n",
       "<table border=\"1\" class=\"dataframe\">\n",
       "  <thead>\n",
       "    <tr style=\"text-align: right;\">\n",
       "      <th></th>\n",
       "      <th>label</th>\n",
       "      <th>sentence</th>\n",
       "      <th>prediction</th>\n",
       "    </tr>\n",
       "  </thead>\n",
       "  <tbody>\n",
       "    <tr>\n",
       "      <th>71</th>\n",
       "      <td>0</td>\n",
       "      <td>Proposals should be directed to the correspond...</td>\n",
       "      <td>0</td>\n",
       "    </tr>\n",
       "    <tr>\n",
       "      <th>72</th>\n",
       "      <td>0</td>\n",
       "      <td>Recent publications have brought attention to ...</td>\n",
       "      <td>0</td>\n",
       "    </tr>\n",
       "    <tr>\n",
       "      <th>73</th>\n",
       "      <td>0</td>\n",
       "      <td>The scientific community should consider this ...</td>\n",
       "      <td>0</td>\n",
       "    </tr>\n",
       "    <tr>\n",
       "      <th>74</th>\n",
       "      <td>0</td>\n",
       "      <td>A recent open-label study claimed that hydroxy...</td>\n",
       "      <td>0</td>\n",
       "    </tr>\n",
       "    <tr>\n",
       "      <th>75</th>\n",
       "      <td>1</td>\n",
       "      <td>This re-analysis reveals severe limitations in...</td>\n",
       "      <td>1</td>\n",
       "    </tr>\n",
       "  </tbody>\n",
       "</table>\n",
       "</div>"
      ],
      "text/plain": [
       "    label                                           sentence  prediction\n",
       "71      0  Proposals should be directed to the correspond...           0\n",
       "72      0  Recent publications have brought attention to ...           0\n",
       "73      0  The scientific community should consider this ...           0\n",
       "74      0  A recent open-label study claimed that hydroxy...           0\n",
       "75      1  This re-analysis reveals severe limitations in...           1"
      ]
     },
     "execution_count": 46,
     "metadata": {},
     "output_type": "execute_result"
    }
   ],
   "source": [
    "# Show rows no. 71-75 of 'measuring_df_3'\n",
    "measuring_df_3.iloc[71:76]"
   ]
  },
  {
   "cell_type": "code",
   "execution_count": 47,
   "metadata": {},
   "outputs": [],
   "source": [
    "# Rearrange position of columns\n",
    "measuring_df_3 = measuring_df_3[[\"sentence\", \"label\", \"prediction\"]]"
   ]
  },
  {
   "cell_type": "code",
   "execution_count": 48,
   "metadata": {},
   "outputs": [
    {
     "data": {
      "text/html": [
       "<div>\n",
       "<style scoped>\n",
       "    .dataframe tbody tr th:only-of-type {\n",
       "        vertical-align: middle;\n",
       "    }\n",
       "\n",
       "    .dataframe tbody tr th {\n",
       "        vertical-align: top;\n",
       "    }\n",
       "\n",
       "    .dataframe thead th {\n",
       "        text-align: right;\n",
       "    }\n",
       "</style>\n",
       "<table border=\"1\" class=\"dataframe\">\n",
       "  <thead>\n",
       "    <tr style=\"text-align: right;\">\n",
       "      <th></th>\n",
       "      <th>sentence</th>\n",
       "      <th>label</th>\n",
       "      <th>prediction</th>\n",
       "    </tr>\n",
       "  </thead>\n",
       "  <tbody>\n",
       "    <tr>\n",
       "      <th>71</th>\n",
       "      <td>Proposals should be directed to the correspond...</td>\n",
       "      <td>0</td>\n",
       "      <td>0</td>\n",
       "    </tr>\n",
       "    <tr>\n",
       "      <th>72</th>\n",
       "      <td>Recent publications have brought attention to ...</td>\n",
       "      <td>0</td>\n",
       "      <td>0</td>\n",
       "    </tr>\n",
       "    <tr>\n",
       "      <th>73</th>\n",
       "      <td>The scientific community should consider this ...</td>\n",
       "      <td>0</td>\n",
       "      <td>0</td>\n",
       "    </tr>\n",
       "    <tr>\n",
       "      <th>74</th>\n",
       "      <td>A recent open-label study claimed that hydroxy...</td>\n",
       "      <td>0</td>\n",
       "      <td>0</td>\n",
       "    </tr>\n",
       "    <tr>\n",
       "      <th>75</th>\n",
       "      <td>This re-analysis reveals severe limitations in...</td>\n",
       "      <td>1</td>\n",
       "      <td>1</td>\n",
       "    </tr>\n",
       "  </tbody>\n",
       "</table>\n",
       "</div>"
      ],
      "text/plain": [
       "                                             sentence  label  prediction\n",
       "71  Proposals should be directed to the correspond...      0           0\n",
       "72  Recent publications have brought attention to ...      0           0\n",
       "73  The scientific community should consider this ...      0           0\n",
       "74  A recent open-label study claimed that hydroxy...      0           0\n",
       "75  This re-analysis reveals severe limitations in...      1           1"
      ]
     },
     "execution_count": 48,
     "metadata": {},
     "output_type": "execute_result"
    }
   ],
   "source": [
    "measuring_df_3.iloc[71:76]"
   ]
  },
  {
   "cell_type": "markdown",
   "metadata": {},
   "source": [
    "#### 3.4.2 Metrics"
   ]
  },
  {
   "cell_type": "markdown",
   "metadata": {},
   "source": [
    "**Confusion Matrix**"
   ]
  },
  {
   "cell_type": "code",
   "execution_count": 49,
   "metadata": {},
   "outputs": [
    {
     "data": {
      "text/plain": [
       "array([[202,   0],\n",
       "       [  7,   7]], dtype=int64)"
      ]
     },
     "execution_count": 49,
     "metadata": {},
     "output_type": "execute_result"
    }
   ],
   "source": [
    "# Make confusion matrix from 'measuring_df_3[\"label\"]' and 'measuring_df_3[\"prediction\"]'\n",
    "confusion_matrix(measuring_df_3[\"label\"], measuring_df_3[\"prediction\"])"
   ]
  },
  {
   "cell_type": "markdown",
   "metadata": {},
   "source": [
    "**Classification Report**"
   ]
  },
  {
   "cell_type": "code",
   "execution_count": 50,
   "metadata": {},
   "outputs": [
    {
     "name": "stdout",
     "output_type": "stream",
     "text": [
      "              precision    recall  f1-score   support\n",
      "\n",
      "           0       0.97      1.00      0.98       202\n",
      "           1       1.00      0.50      0.67        14\n",
      "\n",
      "    accuracy                           0.97       216\n",
      "   macro avg       0.98      0.75      0.82       216\n",
      "weighted avg       0.97      0.97      0.96       216\n",
      "\n"
     ]
    }
   ],
   "source": [
    "# Make classification report from 'measuring_df_3[\"label\"]' and 'measuring_df_3[\"prediction\"]' and show it on screen\n",
    "print(classification_report(measuring_df_3[\"label\"], measuring_df_3[\"prediction\"]))"
   ]
  },
  {
   "cell_type": "markdown",
   "metadata": {},
   "source": [
    "#### 3.4.3 Mistakes"
   ]
  },
  {
   "cell_type": "markdown",
   "metadata": {},
   "source": [
    "**False Positives**"
   ]
  },
  {
   "cell_type": "code",
   "execution_count": 51,
   "metadata": {},
   "outputs": [],
   "source": [
    "false_positives = measuring_df_3.loc[measuring_df_3[\"prediction\"] == 1].loc[measuring_df_3[\"label\"] == 0, [\"sentence\"]]"
   ]
  },
  {
   "cell_type": "code",
   "execution_count": 52,
   "metadata": {},
   "outputs": [],
   "source": [
    "for sentence_number, sentence in enumerate(false_positives[\"sentence\"].to_list()):\n",
    "    print(f\"({sentence_number}) {sentence}\")"
   ]
  },
  {
   "cell_type": "markdown",
   "metadata": {},
   "source": [
    "**False Negatives**"
   ]
  },
  {
   "cell_type": "code",
   "execution_count": 53,
   "metadata": {},
   "outputs": [],
   "source": [
    "false_negatives = measuring_df_3.loc[measuring_df_3[\"prediction\"] == 0].loc[measuring_df_3[\"label\"] == 1, [\"sentence\"]]"
   ]
  },
  {
   "cell_type": "code",
   "execution_count": 54,
   "metadata": {},
   "outputs": [
    {
     "name": "stdout",
     "output_type": "stream",
     "text": [
      "(0) We were unable to confirm a benefit of hydroxychloroquine or chloroquine, when used alone or with a macrolide, on in-hospital outcomes for COVID-19.\n",
      "(1) The administration of HCQ did not result in a significantly higher negative conversion probability than SOC alone in patients mainly hospitalized with persistent mild to moderate COVID-19.\n",
      "(2) Adverse events were higher in HCQ recipients than in HCQ non-recipients.\n",
      "(3) Although mortality rate was not significantly different between cases and controls, frequency of adverse effects was substantially higher in HCQ regimen group.\n",
      "(4) Use of these drugs is premature and potentially harmful\n",
      "(5) Among patients with COVID-19, the use of HCQ could significantly shorten TTCR and promote the absorption of pneumonia.\n",
      "(6) Chloroquine phosphate, an old drug for treatment of malaria, is shown to have apparent efficacy and acceptable safety against COVID-19 associated pneumonia in multicenter clinical trials conducted in China.\n"
     ]
    }
   ],
   "source": [
    "for sentence_number, sentence in enumerate(false_negatives[\"sentence\"].to_list()):\n",
    "    print(f\"({sentence_number}) {sentence}\")"
   ]
  },
  {
   "cell_type": "markdown",
   "metadata": {},
   "source": [
    "## 4 Noun Filter: Refinements"
   ]
  },
  {
   "cell_type": "code",
   "execution_count": 55,
   "metadata": {},
   "outputs": [],
   "source": [
    "# Make a Doc of one sentence we want the noun filter to find: doc3\n",
    "doc3 = nlp(\"We were unable to confirm a benefit of hydroxychloroquine or chloroquine, when used alone or with a macrolide, on in-hospital outcomes for COVID-19.\")"
   ]
  },
  {
   "cell_type": "code",
   "execution_count": 56,
   "metadata": {},
   "outputs": [
    {
     "name": "stdout",
     "output_type": "stream",
     "text": [
      "We PRON nsubj -PRON-\n",
      "were AUX ROOT be\n",
      "unable ADJ acomp unable\n",
      "to PART aux to\n",
      "confirm VERB xcomp confirm\n",
      "a DET det a\n",
      "benefit NOUN dobj benefit\n",
      "of ADP prep of\n",
      "hydroxychloroquine NOUN pobj hydroxychloroquine\n",
      "or CCONJ cc or\n",
      "chloroquine NOUN conj chloroquine\n",
      ", PUNCT punct ,\n",
      "when ADV advmod when\n",
      "used VERB advcl use\n",
      "alone ADV advmod alone\n",
      "or CCONJ cc or\n",
      "with ADP conj with\n",
      "a DET det a\n",
      "macrolide NOUN pobj macrolide\n",
      ", PUNCT punct ,\n",
      "on ADP prep on\n",
      "in ADP nmod in\n",
      "- PUNCT punct -\n",
      "hospital NOUN pobj hospital\n",
      "outcomes NOUN pobj outcome\n",
      "for ADP prep for\n",
      "COVID-19 PROPN pobj COVID-19\n",
      ". PUNCT punct .\n"
     ]
    }
   ],
   "source": [
    "# Show linguistic features of 'doc3'\n",
    "for token in doc3:\n",
    "    print(token.text, token.pos_, token.dep_, token.lemma_)"
   ]
  },
  {
   "cell_type": "code",
   "execution_count": 57,
   "metadata": {},
   "outputs": [
    {
     "data": {
      "text/plain": [
       "'pronoun'"
      ]
     },
     "execution_count": 57,
     "metadata": {},
     "output_type": "execute_result"
    }
   ],
   "source": [
    "spacy.explain(\"PRON\")"
   ]
  },
  {
   "cell_type": "code",
   "execution_count": 58,
   "metadata": {},
   "outputs": [],
   "source": [
    "# Make additional search pattern: we_pattern\n",
    "we_pattern = [{\"POS\": \"PRON\", \"DEP\": \"nsubj\", \"LEMMA\": \"-PRON-\"}]"
   ]
  },
  {
   "cell_type": "code",
   "execution_count": 59,
   "metadata": {},
   "outputs": [],
   "source": [
    "# Make a Doc of another sentence we want the noun filter to find: doc4\n",
    "doc4 = nlp(\"Chloroquine phosphate, an old drug for treatment of malaria, is shown to have apparent efficacy and acceptable safety against COVID-19 associated pneumonia in multicenter clinical trials conducted in China.\")"
   ]
  },
  {
   "cell_type": "code",
   "execution_count": 60,
   "metadata": {},
   "outputs": [
    {
     "name": "stdout",
     "output_type": "stream",
     "text": [
      "Chloroquine ADJ compound chloroquine\n",
      "phosphate NOUN nsubjpass phosphate\n",
      ", PUNCT punct ,\n",
      "an DET det an\n",
      "old ADJ amod old\n",
      "drug NOUN appos drug\n",
      "for ADP prep for\n",
      "treatment NOUN pobj treatment\n",
      "of ADP prep of\n",
      "malaria NOUN pobj malaria\n",
      ", PUNCT punct ,\n",
      "is AUX auxpass be\n",
      "shown VERB ROOT show\n",
      "to PART aux to\n",
      "have AUX xcomp have\n",
      "apparent ADJ amod apparent\n",
      "efficacy NOUN dobj efficacy\n",
      "and CCONJ cc and\n",
      "acceptable ADJ amod acceptable\n",
      "safety NOUN conj safety\n",
      "against ADP prep against\n",
      "COVID-19 PROPN nummod COVID-19\n",
      "associated VERB amod associate\n",
      "pneumonia NOUN pobj pneumonia\n",
      "in ADP prep in\n",
      "multicenter ADJ amod multicenter\n",
      "clinical ADJ amod clinical\n",
      "trials NOUN pobj trial\n",
      "conducted VERB acl conduct\n",
      "in ADP prep in\n",
      "China PROPN pobj China\n",
      ". PUNCT punct .\n"
     ]
    }
   ],
   "source": [
    "# Show linguistic features of 'doc4'\n",
    "for token in doc4:\n",
    "    print(token.text, token.pos_, token.dep_, token.lemma_)"
   ]
  },
  {
   "cell_type": "code",
   "execution_count": 62,
   "metadata": {},
   "outputs": [],
   "source": [
    "# Make additional search pattern: trial_pattern\n",
    "trial_pattern = [{\"POS\": \"NOUN\", \"DEP\": \"pobj\", \"LEMMA\": \"trial\"}]"
   ]
  },
  {
   "cell_type": "code",
   "execution_count": 61,
   "metadata": {},
   "outputs": [],
   "source": [
    "# Rearrange the sentence structure of 'doc4': doc4_1\n",
    "doc4_1 = nlp(\"Multicenter clinical trials conducted in China show that chloroquine phosphate has apparent efficacy and acceptable safety against COVID-19 associated pneumonia.\")"
   ]
  },
  {
   "cell_type": "code",
   "execution_count": 80,
   "metadata": {},
   "outputs": [
    {
     "name": "stdout",
     "output_type": "stream",
     "text": [
      "Multicenter ADJ amod multicenter\n",
      "clinical ADJ amod clinical\n",
      "trials NOUN nsubj trial\n",
      "conducted VERB acl conduct\n",
      "in ADP prep in\n",
      "China PROPN pobj China\n",
      "show VERB ROOT show\n",
      "that SCONJ mark that\n",
      "chloroquine NOUN compound chloroquine\n",
      "phosphate NOUN nsubj phosphate\n",
      "has AUX ccomp have\n",
      "apparent ADJ amod apparent\n",
      "efficacy NOUN dobj efficacy\n",
      "and CCONJ cc and\n",
      "acceptable ADJ amod acceptable\n",
      "safety NOUN conj safety\n",
      "against ADP prep against\n",
      "COVID-19 PROPN nummod COVID-19\n",
      "associated VERB amod associate\n",
      "pneumonia NOUN pobj pneumonia\n",
      ". PUNCT punct .\n"
     ]
    }
   ],
   "source": [
    "for token in doc4_1:\n",
    "    print(token.text, token.pos_, token.dep_, token.lemma_)"
   ]
  },
  {
   "cell_type": "code",
   "execution_count": 81,
   "metadata": {},
   "outputs": [
    {
     "name": "stdout",
     "output_type": "stream",
     "text": [
      "[show]\n"
     ]
    }
   ],
   "source": [
    "doc4_1_pos_dep = []\n",
    "\n",
    "for token in doc4_1:\n",
    "    if token.pos_ == \"VERB\":\n",
    "        if token.dep_ == \"ROOT\":\n",
    "            doc4_1_pos_dep.append(token)\n",
    "            \n",
    "print(doc4_1_pos_dep)"
   ]
  },
  {
   "cell_type": "code",
   "execution_count": 82,
   "metadata": {},
   "outputs": [
    {
     "name": "stdout",
     "output_type": "stream",
     "text": [
      "[trials, phosphate]\n"
     ]
    }
   ],
   "source": [
    "doc4_1_noun_nsubj = []\n",
    "\n",
    "for token in doc4_1:\n",
    "    if token.pos_ == \"NOUN\":\n",
    "        if token.dep_ == \"nsubj\":\n",
    "            doc4_1_noun_nsubj.append(token)\n",
    "            \n",
    "print(doc4_1_noun_nsubj)"
   ]
  },
  {
   "cell_type": "code",
   "execution_count": 63,
   "metadata": {},
   "outputs": [],
   "source": [
    "# Make a new noun matcher 'noun_matcher_2'\n",
    "noun_matcher_2 = Matcher(nlp.vocab, validate=True)"
   ]
  },
  {
   "cell_type": "code",
   "execution_count": 64,
   "metadata": {},
   "outputs": [],
   "source": [
    "# Repeat search patterns for 'noun_matcher_2'\n",
    "analysis_pattern = [{\"POS\": \"NOUN\", \"DEP\": \"nsubj\", \"LEMMA\": \"analysis\"}]\n",
    "evidence_pattern = [{\"POS\": \"NOUN\", \"DEP\": \"nsubj\", \"LEMMA\": \"evidence\"}]\n",
    "finding_pattern = [{\"POS\": \"NOUN\", \"DEP\": \"nsubj\", \"LEMMA\": \"finding\"}]\n",
    "\n",
    "result_pattern = [{\"POS\": \"NOUN\", \"DEP\": \"nsubj\", \"LEMMA\": \"result\"}]\n",
    "survey_pattern = [{\"POS\": \"NOUN\", \"DEP\": \"nsubj\", \"LEMMA\": \"survey\"}]"
   ]
  },
  {
   "cell_type": "code",
   "execution_count": 65,
   "metadata": {},
   "outputs": [],
   "source": [
    "# Repeat 'trial_pattern' for 'noun_matcher_2'\n",
    "trial_pattern = [{\"POS\": \"NOUN\", \"DEP\": \"pobj\", \"LEMMA\": \"trial\"}]"
   ]
  },
  {
   "cell_type": "code",
   "execution_count": 66,
   "metadata": {},
   "outputs": [],
   "source": [
    "# Repeat 'we_pattern' for 'noun_matcher_2'\n",
    "we_pattern = [{\"POS\": \"PRON\", \"DEP\": \"nsubj\", \"LEMMA\": \"-PRON-\"}]"
   ]
  },
  {
   "cell_type": "code",
   "execution_count": 67,
   "metadata": {},
   "outputs": [],
   "source": [
    "# Add search patterns to 'noun_matcher_2'\n",
    "noun_matcher_2.add(\"NOUN_ID\", None, \n",
    "                   analysis_pattern, \n",
    "                   evidence_pattern, \n",
    "                   finding_pattern, \n",
    "                   result_pattern, \n",
    "                   survey_pattern, \n",
    "                   trial_pattern, \n",
    "                   we_pattern)"
   ]
  },
  {
   "cell_type": "code",
   "execution_count": 68,
   "metadata": {},
   "outputs": [],
   "source": [
    "# Filter Doc-objects (sentences) in 'verb_filtered_sentences_2' and add the selected Docs to a list: \n",
    "# noun_filtered_sentences_2\n",
    "noun_filtered_sentences_2 = [doc for doc in verb_filtered_sentences_2 if len(noun_matcher_2(doc)) > 0] "
   ]
  },
  {
   "cell_type": "code",
   "execution_count": 69,
   "metadata": {},
   "outputs": [
    {
     "name": "stdout",
     "output_type": "stream",
     "text": [
      "(0) We were unable to confirm a benefit of hydroxychloroquine or chloroquine, when used alone or with a macrolide, on in-hospital outcomes for COVID-19.\n",
      "(1) This re-analysis reveals severe limitations in the methodology of this study, including ambiguous inclusion/exclusion of participant data and inconsistent analysis techniques, and yielded nonsignificant differences between control and treatment groups across any treatment days.\n",
      "(2) This systematic review and meta-analysis showed no clinical benefits regarding HCQ treatment with/without azithromycin for COVID-19 patients.\n",
      "(3) These results do not support the use of HCQ in patients hospitalised for documented SARS-CoV-2-positive hypoxic pneumonia.\n",
      "(4) Interpretation Preliminary findings suggest that the higher CQ dosage (10-day regimen) should not be recommended for COVID-19 treatment because of its potential safety hazards.\n",
      "(5) Preliminary evidence suggests potential benefit with chloroquine or hydroxychloroquine.\n",
      "(6) The findings support the hypothesis that these drugs have efficacy in the treatment of COVID-19.\n",
      "(7) Despite its small sample size, our survey shows that hydroxychloroquine treatment is significantly associated with viral load reduction/disappearance in COVID-19 patients and its effect is reinforced by azithromycin.\n",
      "(8) Chloroquine phosphate, an old drug for treatment of malaria, is shown to have apparent efficacy and acceptable safety against COVID-19 associated pneumonia in multicenter clinical trials conducted in China.\n"
     ]
    }
   ],
   "source": [
    "# Print each enumerated noun filtered sentence\n",
    "for sentence_number, sentence in enumerate(noun_filtered_sentences_2):\n",
    "    print(f\"({sentence_number}) {sentence}\")"
   ]
  },
  {
   "cell_type": "code",
   "execution_count": 70,
   "metadata": {},
   "outputs": [
    {
     "name": "stdout",
     "output_type": "stream",
     "text": [
      "Number of sentences in 'doc_list': 216\n",
      "Number of sentences in 'verb_filtered_sentences_2': 11\n",
      "Number of sentences in 'noun_filtered_sentences_2': 9\n"
     ]
    }
   ],
   "source": [
    "# Show number of item in 'doc_list'/'verb_filtered_sentences_2'/'noun_filtered_sentences_1' using 'len()'\n",
    "print(f\"Number of sentences in 'doc_list': {len(doc_list)}\")\n",
    "print(f\"Number of sentences in 'verb_filtered_sentences_2': {len(verb_filtered_sentences_2)}\")\n",
    "print(f\"Number of sentences in 'noun_filtered_sentences_2': {len(noun_filtered_sentences_2)}\")"
   ]
  },
  {
   "cell_type": "markdown",
   "metadata": {},
   "source": [
    "## 5 Evaluation II"
   ]
  },
  {
   "cell_type": "markdown",
   "metadata": {},
   "source": [
    "**Measuring Device**"
   ]
  },
  {
   "cell_type": "code",
   "execution_count": 71,
   "metadata": {},
   "outputs": [],
   "source": [
    "# Load 'sentences_labeled.xlsx' as a dataframe: measuring_df_4\n",
    "measuring_df_4 = pd.read_excel(\"../labeling/sentences_labeled.xlsx\")"
   ]
  },
  {
   "cell_type": "code",
   "execution_count": 72,
   "metadata": {},
   "outputs": [],
   "source": [
    "# Make list that is the similar to 'noun_filtered_sentences_2' exept that it contains strings instead of Docs \n",
    "noun_filtered_strings_2 = [doc.text for doc in noun_filtered_sentences_2]"
   ]
  },
  {
   "cell_type": "code",
   "execution_count": 73,
   "metadata": {},
   "outputs": [],
   "source": [
    "# Define function 'compare_sentences()': It returns a boolean ('True'/'False') depending on whether the assertion that \n",
    "# a sentence (string) is in 'noun_filtered_strings_2' is true or false\n",
    "def compare_sentences(sentence):\n",
    "    return sentence in noun_filtered_strings_2"
   ]
  },
  {
   "cell_type": "code",
   "execution_count": 74,
   "metadata": {},
   "outputs": [],
   "source": [
    "# Make new column by applying 'compare_sentences()' on each row of 'measuring_df_4[\"sentence\"]': prediction\n",
    "measuring_df_4[\"prediction\"] = measuring_df_4[\"sentence\"].apply(compare_sentences)"
   ]
  },
  {
   "cell_type": "code",
   "execution_count": 75,
   "metadata": {},
   "outputs": [],
   "source": [
    "# Make column 'prediction' in such a way that booleans ('True'/'False') are turned into '1'/'0'\n",
    "measuring_df_4 = measuring_df_4.assign(prediction=lambda df: df[\"prediction\"].astype(np.int8))"
   ]
  },
  {
   "cell_type": "code",
   "execution_count": 76,
   "metadata": {},
   "outputs": [],
   "source": [
    "# Rearrange position of columns\n",
    "measuring_df_4 = measuring_df_4[[\"sentence\", \"label\", \"prediction\"]]"
   ]
  },
  {
   "cell_type": "code",
   "execution_count": 77,
   "metadata": {},
   "outputs": [
    {
     "data": {
      "text/html": [
       "<div>\n",
       "<style scoped>\n",
       "    .dataframe tbody tr th:only-of-type {\n",
       "        vertical-align: middle;\n",
       "    }\n",
       "\n",
       "    .dataframe tbody tr th {\n",
       "        vertical-align: top;\n",
       "    }\n",
       "\n",
       "    .dataframe thead th {\n",
       "        text-align: right;\n",
       "    }\n",
       "</style>\n",
       "<table border=\"1\" class=\"dataframe\">\n",
       "  <thead>\n",
       "    <tr style=\"text-align: right;\">\n",
       "      <th></th>\n",
       "      <th>sentence</th>\n",
       "      <th>label</th>\n",
       "      <th>prediction</th>\n",
       "    </tr>\n",
       "  </thead>\n",
       "  <tbody>\n",
       "    <tr>\n",
       "      <th>71</th>\n",
       "      <td>Proposals should be directed to the correspond...</td>\n",
       "      <td>0</td>\n",
       "      <td>0</td>\n",
       "    </tr>\n",
       "    <tr>\n",
       "      <th>72</th>\n",
       "      <td>Recent publications have brought attention to ...</td>\n",
       "      <td>0</td>\n",
       "      <td>0</td>\n",
       "    </tr>\n",
       "    <tr>\n",
       "      <th>73</th>\n",
       "      <td>The scientific community should consider this ...</td>\n",
       "      <td>0</td>\n",
       "      <td>0</td>\n",
       "    </tr>\n",
       "    <tr>\n",
       "      <th>74</th>\n",
       "      <td>A recent open-label study claimed that hydroxy...</td>\n",
       "      <td>0</td>\n",
       "      <td>0</td>\n",
       "    </tr>\n",
       "    <tr>\n",
       "      <th>75</th>\n",
       "      <td>This re-analysis reveals severe limitations in...</td>\n",
       "      <td>1</td>\n",
       "      <td>1</td>\n",
       "    </tr>\n",
       "  </tbody>\n",
       "</table>\n",
       "</div>"
      ],
      "text/plain": [
       "                                             sentence  label  prediction\n",
       "71  Proposals should be directed to the correspond...      0           0\n",
       "72  Recent publications have brought attention to ...      0           0\n",
       "73  The scientific community should consider this ...      0           0\n",
       "74  A recent open-label study claimed that hydroxy...      0           0\n",
       "75  This re-analysis reveals severe limitations in...      1           1"
      ]
     },
     "execution_count": 77,
     "metadata": {},
     "output_type": "execute_result"
    }
   ],
   "source": [
    "measuring_df_4.iloc[71:76]"
   ]
  },
  {
   "cell_type": "markdown",
   "metadata": {},
   "source": [
    "**Confusion Matrix**"
   ]
  },
  {
   "cell_type": "code",
   "execution_count": 78,
   "metadata": {},
   "outputs": [
    {
     "data": {
      "text/plain": [
       "array([[202,   0],\n",
       "       [  5,   9]], dtype=int64)"
      ]
     },
     "execution_count": 78,
     "metadata": {},
     "output_type": "execute_result"
    }
   ],
   "source": [
    "# Make confusion matrix from 'measuring_df_4[\"label\"]' and 'measuring_df_4[\"prediction\"]'\n",
    "confusion_matrix(measuring_df_4[\"label\"], measuring_df_4[\"prediction\"])"
   ]
  },
  {
   "cell_type": "markdown",
   "metadata": {},
   "source": [
    "**Classification Report**"
   ]
  },
  {
   "cell_type": "code",
   "execution_count": 79,
   "metadata": {},
   "outputs": [
    {
     "name": "stdout",
     "output_type": "stream",
     "text": [
      "              precision    recall  f1-score   support\n",
      "\n",
      "           0       0.98      1.00      0.99       202\n",
      "           1       1.00      0.64      0.78        14\n",
      "\n",
      "    accuracy                           0.98       216\n",
      "   macro avg       0.99      0.82      0.89       216\n",
      "weighted avg       0.98      0.98      0.97       216\n",
      "\n"
     ]
    }
   ],
   "source": [
    "# Make classification report from 'measuring_df_4[\"label\"]' and 'measuring_df_4[\"prediction\"]' and show it on screen\n",
    "print(classification_report(measuring_df_4[\"label\"], measuring_df_4[\"prediction\"]))"
   ]
  }
 ],
 "metadata": {
  "kernelspec": {
   "display_name": "Python 3",
   "language": "python",
   "name": "python3"
  },
  "language_info": {
   "codemirror_mode": {
    "name": "ipython",
    "version": 3
   },
   "file_extension": ".py",
   "mimetype": "text/x-python",
   "name": "python",
   "nbconvert_exporter": "python",
   "pygments_lexer": "ipython3",
   "version": "3.7.6"
  }
 },
 "nbformat": 4,
 "nbformat_minor": 4
}
