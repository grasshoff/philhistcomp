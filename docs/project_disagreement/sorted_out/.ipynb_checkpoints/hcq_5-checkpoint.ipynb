{
 "cells": [
  {
   "cell_type": "markdown",
   "metadata": {},
   "source": [
    "## Import Libraries"
   ]
  },
  {
   "cell_type": "code",
   "execution_count": 1,
   "metadata": {},
   "outputs": [],
   "source": [
    "import pandas as pd\n",
    "import spacy"
   ]
  },
  {
   "cell_type": "code",
   "execution_count": 2,
   "metadata": {},
   "outputs": [],
   "source": [
    "# Import English Library\n",
    "nlp = spacy.load(\"en_core_web_sm\")"
   ]
  },
  {
   "cell_type": "markdown",
   "metadata": {},
   "source": [
    "## Loading dataframe"
   ]
  },
  {
   "cell_type": "code",
   "execution_count": 3,
   "metadata": {},
   "outputs": [
    {
     "data": {
      "text/html": [
       "<div>\n",
       "<style scoped>\n",
       "    .dataframe tbody tr th:only-of-type {\n",
       "        vertical-align: middle;\n",
       "    }\n",
       "\n",
       "    .dataframe tbody tr th {\n",
       "        vertical-align: top;\n",
       "    }\n",
       "\n",
       "    .dataframe thead th {\n",
       "        text-align: right;\n",
       "    }\n",
       "</style>\n",
       "<table border=\"1\" class=\"dataframe\">\n",
       "  <thead>\n",
       "    <tr style=\"text-align: right;\">\n",
       "      <th></th>\n",
       "      <th>Publication ID</th>\n",
       "      <th>title</th>\n",
       "      <th>abstract</th>\n",
       "      <th>abstract_clean</th>\n",
       "    </tr>\n",
       "  </thead>\n",
       "  <tbody>\n",
       "    <tr>\n",
       "      <th>0</th>\n",
       "      <td>pub.1126880632</td>\n",
       "      <td>COVID-19 and what pediatric rheumatologists sh...</td>\n",
       "      <td>On March 11th, 2020 the World Health Organizat...</td>\n",
       "      <td>On March 11th, 2020 the World Health Organizat...</td>\n",
       "    </tr>\n",
       "    <tr>\n",
       "      <th>1</th>\n",
       "      <td>pub.1127834352</td>\n",
       "      <td>Hydroxychloroquine or chloroquine with or with...</td>\n",
       "      <td>BACKGROUND: Hydroxychloroquine or chloroquine,...</td>\n",
       "      <td>BACKGROUND: Hydroxychloroquine or chloroquine,...</td>\n",
       "    </tr>\n",
       "    <tr>\n",
       "      <th>2</th>\n",
       "      <td>pub.1126667578</td>\n",
       "      <td>Hydroxychloroquine in patients mainly with mil...</td>\n",
       "      <td>Abstract Objectives To assess the efficacy and...</td>\n",
       "      <td>Abstract Objectives To assess the efficacy and...</td>\n",
       "    </tr>\n",
       "    <tr>\n",
       "      <th>3</th>\n",
       "      <td>pub.1125404383</td>\n",
       "      <td>Of chloroquine and COVID-19</td>\n",
       "      <td>Recent publications have brought attention to ...</td>\n",
       "      <td>Recent publications have brought attention to ...</td>\n",
       "    </tr>\n",
       "    <tr>\n",
       "      <th>4</th>\n",
       "      <td>pub.1127182972</td>\n",
       "      <td>An independent appraisal and re-analysis of hy...</td>\n",
       "      <td>A recent open-label study claimed that hydroxy...</td>\n",
       "      <td>A recent open-label study claimed that hydroxy...</td>\n",
       "    </tr>\n",
       "  </tbody>\n",
       "</table>\n",
       "</div>"
      ],
      "text/plain": [
       "   Publication ID                                              title  \\\n",
       "0  pub.1126880632  COVID-19 and what pediatric rheumatologists sh...   \n",
       "1  pub.1127834352  Hydroxychloroquine or chloroquine with or with...   \n",
       "2  pub.1126667578  Hydroxychloroquine in patients mainly with mil...   \n",
       "3  pub.1125404383                        Of chloroquine and COVID-19   \n",
       "4  pub.1127182972  An independent appraisal and re-analysis of hy...   \n",
       "\n",
       "                                            abstract  \\\n",
       "0  On March 11th, 2020 the World Health Organizat...   \n",
       "1  BACKGROUND: Hydroxychloroquine or chloroquine,...   \n",
       "2  Abstract Objectives To assess the efficacy and...   \n",
       "3  Recent publications have brought attention to ...   \n",
       "4  A recent open-label study claimed that hydroxy...   \n",
       "\n",
       "                                      abstract_clean  \n",
       "0  On March 11th, 2020 the World Health Organizat...  \n",
       "1  BACKGROUND: Hydroxychloroquine or chloroquine,...  \n",
       "2  Abstract Objectives To assess the efficacy and...  \n",
       "3  Recent publications have brought attention to ...  \n",
       "4  A recent open-label study claimed that hydroxy...  "
      ]
     },
     "execution_count": 3,
     "metadata": {},
     "output_type": "execute_result"
    }
   ],
   "source": [
    "df = pd.read_json(\"df_HCQ.json\")\n",
    "df.head()"
   ]
  },
  {
   "cell_type": "code",
   "execution_count": 4,
   "metadata": {},
   "outputs": [
    {
     "name": "stdout",
     "output_type": "stream",
     "text": [
      "<class 'pandas.core.frame.DataFrame'>\n",
      "Int64Index: 17 entries, 0 to 16\n",
      "Data columns (total 4 columns):\n",
      " #   Column          Non-Null Count  Dtype \n",
      "---  ------          --------------  ----- \n",
      " 0   Publication ID  17 non-null     object\n",
      " 1   title           17 non-null     object\n",
      " 2   abstract        17 non-null     object\n",
      " 3   abstract_clean  17 non-null     object\n",
      "dtypes: object(4)\n",
      "memory usage: 680.0+ bytes\n"
     ]
    }
   ],
   "source": [
    "df.info()"
   ]
  },
  {
   "cell_type": "markdown",
   "metadata": {},
   "source": [
    "## Reshaping dataframe"
   ]
  },
  {
   "cell_type": "code",
   "execution_count": 5,
   "metadata": {},
   "outputs": [],
   "source": [
    "# Make new dataframe from 'df': df_HCQ\n",
    "df_HCQ = df[[\"Publication ID\", \"title\", \"abstract_clean\"]]"
   ]
  },
  {
   "cell_type": "code",
   "execution_count": 6,
   "metadata": {},
   "outputs": [],
   "source": [
    "# Add column 'doc' to 'df_HCQ'\n",
    "# 'df_HCQ[\"doc\"]' shall contain Doc-objects made from abstracts\n",
    "df_HCQ[\"doc\"] = df_HCQ[\"abstract_clean\"].apply(nlp)"
   ]
  },
  {
   "cell_type": "code",
   "execution_count": 7,
   "metadata": {},
   "outputs": [
    {
     "data": {
      "text/html": [
       "<div>\n",
       "<style scoped>\n",
       "    .dataframe tbody tr th:only-of-type {\n",
       "        vertical-align: middle;\n",
       "    }\n",
       "\n",
       "    .dataframe tbody tr th {\n",
       "        vertical-align: top;\n",
       "    }\n",
       "\n",
       "    .dataframe thead th {\n",
       "        text-align: right;\n",
       "    }\n",
       "</style>\n",
       "<table border=\"1\" class=\"dataframe\">\n",
       "  <thead>\n",
       "    <tr style=\"text-align: right;\">\n",
       "      <th></th>\n",
       "      <th>Publication ID</th>\n",
       "      <th>title</th>\n",
       "      <th>abstract_clean</th>\n",
       "      <th>doc</th>\n",
       "    </tr>\n",
       "  </thead>\n",
       "  <tbody>\n",
       "    <tr>\n",
       "      <th>0</th>\n",
       "      <td>pub.1126880632</td>\n",
       "      <td>COVID-19 and what pediatric rheumatologists sh...</td>\n",
       "      <td>On March 11th, 2020 the World Health Organizat...</td>\n",
       "      <td>(On, March, 11th, ,, 2020, the, World, Health,...</td>\n",
       "    </tr>\n",
       "    <tr>\n",
       "      <th>1</th>\n",
       "      <td>pub.1127834352</td>\n",
       "      <td>Hydroxychloroquine or chloroquine with or with...</td>\n",
       "      <td>BACKGROUND: Hydroxychloroquine or chloroquine,...</td>\n",
       "      <td>(BACKGROUND, :, Hydroxychloroquine, or, chloro...</td>\n",
       "    </tr>\n",
       "    <tr>\n",
       "      <th>2</th>\n",
       "      <td>pub.1126667578</td>\n",
       "      <td>Hydroxychloroquine in patients mainly with mil...</td>\n",
       "      <td>Abstract Objectives To assess the efficacy and...</td>\n",
       "      <td>(Abstract, Objectives, To, assess, the, effica...</td>\n",
       "    </tr>\n",
       "    <tr>\n",
       "      <th>3</th>\n",
       "      <td>pub.1125404383</td>\n",
       "      <td>Of chloroquine and COVID-19</td>\n",
       "      <td>Recent publications have brought attention to ...</td>\n",
       "      <td>(Recent, publications, have, brought, attentio...</td>\n",
       "    </tr>\n",
       "    <tr>\n",
       "      <th>4</th>\n",
       "      <td>pub.1127182972</td>\n",
       "      <td>An independent appraisal and re-analysis of hy...</td>\n",
       "      <td>A recent open-label study claimed that hydroxy...</td>\n",
       "      <td>(A, recent, open, -, label, study, claimed, th...</td>\n",
       "    </tr>\n",
       "  </tbody>\n",
       "</table>\n",
       "</div>"
      ],
      "text/plain": [
       "   Publication ID                                              title  \\\n",
       "0  pub.1126880632  COVID-19 and what pediatric rheumatologists sh...   \n",
       "1  pub.1127834352  Hydroxychloroquine or chloroquine with or with...   \n",
       "2  pub.1126667578  Hydroxychloroquine in patients mainly with mil...   \n",
       "3  pub.1125404383                        Of chloroquine and COVID-19   \n",
       "4  pub.1127182972  An independent appraisal and re-analysis of hy...   \n",
       "\n",
       "                                      abstract_clean  \\\n",
       "0  On March 11th, 2020 the World Health Organizat...   \n",
       "1  BACKGROUND: Hydroxychloroquine or chloroquine,...   \n",
       "2  Abstract Objectives To assess the efficacy and...   \n",
       "3  Recent publications have brought attention to ...   \n",
       "4  A recent open-label study claimed that hydroxy...   \n",
       "\n",
       "                                                 doc  \n",
       "0  (On, March, 11th, ,, 2020, the, World, Health,...  \n",
       "1  (BACKGROUND, :, Hydroxychloroquine, or, chloro...  \n",
       "2  (Abstract, Objectives, To, assess, the, effica...  \n",
       "3  (Recent, publications, have, brought, attentio...  \n",
       "4  (A, recent, open, -, label, study, claimed, th...  "
      ]
     },
     "execution_count": 7,
     "metadata": {},
     "output_type": "execute_result"
    }
   ],
   "source": [
    "df_HCQ.head()"
   ]
  },
  {
   "cell_type": "markdown",
   "metadata": {},
   "source": [
    "## Example sentences that indicate disagreement"
   ]
  },
  {
   "cell_type": "markdown",
   "metadata": {},
   "source": [
    "### Disagreement in a single abstract"
   ]
  },
  {
   "cell_type": "code",
   "execution_count": 8,
   "metadata": {},
   "outputs": [
    {
     "data": {
      "text/plain": [
       "Background Treatments are urgently needed to prevent respiratory failure and deaths from coronavirus disease 2019 (COVID-19). Hydroxychloroquine (HCQ) has received worldwide attention because of positive results from small studies. Methods We used data collected from routine care of all adults in 4 French hospitals with documented SARS-CoV-2 pneumonia and requiring oxygen ≥ 2 L/min to emulate a target trial aimed at assessing the effectiveness of HCQ at 600 mg/day. The composite primary endpoint was transfer to intensive care unit (ICU) within 7 days from inclusion and/or death from any cause. Analyses were adjusted for confounding factors by inverse probability of treatment weighting. Results This study included 181 patients with SARS-CoV-2 pneumonia; 84 received HCQ within 48 hours of admission (HCQ group) and 97 did not (no-HCQ group). Initial severity was well balanced between the groups. In the weighted analysis, 20.2% patients in the HCQ group were transferred to the ICU or died within 7 days vs 22.1% in the no-HCQ group (16 vs 21 events, relative risk [RR] 0.91, 95% CI 0.47-1.80). In the HCQ group, 2.8% of the patients died within 7 days vs 4.6% in the no-HCQ group (3 vs 4 events, RR 0.61, 95% CI 0.13-2.89), and 27.4% and 24.1%, respectively, developed acute respiratory distress syndrome within 7 days (24 vs 23 events, RR 1.14, 95% CI 0.65-2.00). Eight patients receiving HCQ (9.5%) experienced electrocardiogram modifications requiring HCQ discontinuation. Interpretation These results do not support the use of HCQ in patients hospitalised for documented SARS-CoV-2-positive hypoxic pneumonia."
      ]
     },
     "execution_count": 8,
     "metadata": {},
     "output_type": "execute_result"
    }
   ],
   "source": [
    "# Doc-object of example abstract: doc_6\n",
    "doc_6 = df_HCQ[\"doc\"].iloc[6]\n",
    "doc_6"
   ]
  },
  {
   "cell_type": "code",
   "execution_count": 9,
   "metadata": {},
   "outputs": [
    {
     "name": "stdout",
     "output_type": "stream",
     "text": [
      "PRO:  Hydroxychloroquine (HCQ) has received worldwide attention because of positive results from small studies.\n",
      "[...]\n",
      "CON:  These results do not support the use of HCQ in patients hospitalised for documented SARS-CoV-2-positive hypoxic pneumonia.\n"
     ]
    }
   ],
   "source": [
    "sent_6 = [sent for sent in doc_6.sents]\n",
    "print(\"PRO: \", sent_6[1].text)\n",
    "print(\"[...]\")\n",
    "print(\"CON: \", sent_6[-1].text)"
   ]
  },
  {
   "cell_type": "code",
   "execution_count": 10,
   "metadata": {},
   "outputs": [
    {
     "name": "stdout",
     "output_type": "stream",
     "text": [
      "PRO:  A recent open-label study claimed that hydroxychloroquine and azithromycin represent promising new options for the treatment of SARS-CoV-2.\n",
      "\n",
      "\n",
      "CON:  This re-analysis reveals severe limitations in the methodology of this study, including ambiguous inclusion/exclusion of participant data and inconsistent analysis techniques, and yielded nonsignificant differences between control and treatment groups across any treatment days.\n"
     ]
    }
   ],
   "source": [
    "# Second example doc: doc_4\n",
    "doc_4 = df_HCQ[\"doc\"].iloc[4]\n",
    "sent_4 = [sent for sent in doc_4.sents]\n",
    "print(\"PRO: \", sent_4[0].text)\n",
    "print(\"\\n\")\n",
    "print(\"CON: \", sent_4[-1].text)"
   ]
  },
  {
   "cell_type": "markdown",
   "metadata": {},
   "source": [
    "### Disagreement between different abstracts"
   ]
  },
  {
   "cell_type": "code",
   "execution_count": 11,
   "metadata": {},
   "outputs": [],
   "source": [
    "# Make further example doc-objects\n",
    "doc_1 = df_HCQ[\"doc\"].iloc[1]\n",
    "sent_1 = [sent for sent in doc_1.sents]\n",
    "\n",
    "doc_5 = df_HCQ[\"doc\"].iloc[5]\n",
    "sent_5 = [sent for sent in doc_5.sents]\n",
    "\n",
    "doc_9 = df_HCQ[\"doc\"].iloc[9]\n",
    "sent_9 = [sent for sent in doc_9.sents]\n",
    "\n",
    "doc_10 = df_HCQ[\"doc\"].iloc[10]\n",
    "sent_10 = [sent for sent in doc_10.sents]\n",
    "\n",
    "doc_13 = df_HCQ[\"doc\"].iloc[13]\n",
    "sent_13 = [sent for sent in doc_13.sents]\n",
    "\n",
    "doc_14 = df_HCQ[\"doc\"].iloc[14]\n",
    "sent_14 = [sent for sent in doc_14.sents]"
   ]
  },
  {
   "cell_type": "markdown",
   "metadata": {},
   "source": [
    "#### \"CON\"-sentences (examples)"
   ]
  },
  {
   "cell_type": "code",
   "execution_count": 12,
   "metadata": {},
   "outputs": [
    {
     "name": "stdout",
     "output_type": "stream",
     "text": [
      "We were unable to confirm a benefit of hydroxychloroquine or chloroquine, when used alone or with a macrolide, on in-hospital outcomes for COVID-19.\n",
      "\n",
      "\n",
      "This systematic review and meta-analysis not only showed no clinical benefits regarding HCQ treatment with/without azithromycin for COVID-19 patients, but according to multiple sensitivity analysis, the higher mortality rates were observed for both HCQ and HCQ+AZM regimen groups, especially in the latter.\n",
      "Also, frequency of adverse effects was higher in HCQ regimen group.\n",
      "\n",
      "\n",
      "Use of these drugs is premature and potentially harmful\n"
     ]
    }
   ],
   "source": [
    "print(sent_1[-4].text)\n",
    "# print(sent_1[-3].text)\n",
    "print(\"\\n\")\n",
    "print(sent_5[-3].text)\n",
    "print(sent_5[-2].text)\n",
    "print(\"\\n\")\n",
    "print(sent_9[0].text)"
   ]
  },
  {
   "cell_type": "markdown",
   "metadata": {},
   "source": [
    "#### \"PRO\"-sentences (examples)"
   ]
  },
  {
   "cell_type": "code",
   "execution_count": 13,
   "metadata": {},
   "outputs": [
    {
     "name": "stdout",
     "output_type": "stream",
     "text": [
      "Despite its small sample size our survey shows that hydroxychloroquine treatment is significantly associated with viral load reduction/disappearance in COVID-19 patients and its effect is reinforced by azithromycin.\n",
      "\n",
      "\n",
      "Chloroquine phosphate, an old drug for treatment of malaria, is shown to have apparent efficacy and acceptable safety against COVID-19 associated pneumonia in multicenter clinical trials conducted in China.\n",
      "The drug is recommended to be included in the next version of the Guidelines for the Prevention, Diagnosis, and Treatment of Pneumonia Caused by COVID-19 issued by the National Health Commission of the People's Republic of China for treatment of COVID-19 infection in larger populations in the future.\n"
     ]
    }
   ],
   "source": [
    "print(sent_13[-1].text)\n",
    "print(\"\\n\")\n",
    "print(sent_14[2].text)\n",
    "print(sent_14[3].text)"
   ]
  },
  {
   "cell_type": "markdown",
   "metadata": {},
   "source": [
    "#### Assignment of \"PRO\"- and \"CON\"-sentences"
   ]
  },
  {
   "cell_type": "code",
   "execution_count": 14,
   "metadata": {},
   "outputs": [
    {
     "name": "stdout",
     "output_type": "stream",
     "text": [
      "PRO:  Despite its small sample size our survey shows that hydroxychloroquine treatment is significantly associated with viral load reduction/disappearance in COVID-19 patients and its effect is reinforced by azithromycin.\n",
      "\n",
      "\n",
      "CON:  This systematic review and meta-analysis not only showed no clinical benefits regarding HCQ treatment with/without azithromycin for COVID-19 patients, but according to multiple sensitivity analysis, the higher mortality rates were observed for both HCQ and HCQ+AZM regimen groups, especially in the latter.\n",
      "\n",
      "\n",
      "CON:  We were unable to confirm a benefit of hydroxychloroquine or chloroquine, when used alone or with a macrolide, on in-hospital outcomes for COVID-19.\n",
      "\n",
      "\n",
      "CON:  This re-analysis reveals severe limitations in the methodology of this study, including ambiguous inclusion/exclusion of participant data and inconsistent analysis techniques, and yielded nonsignificant differences between control and treatment groups across any treatment days.\n"
     ]
    }
   ],
   "source": [
    "# Assingment 1\n",
    "print(\"PRO: \", sent_13[-1].text)\n",
    "print(\"\\n\")\n",
    "print(\"CON: \", sent_5[-3].text)\n",
    "print(\"\\n\")\n",
    "print(\"CON: \", sent_1[-4].text)\n",
    "print(\"\\n\")\n",
    "print(\"CON: \", sent_4[-1].text)"
   ]
  },
  {
   "cell_type": "code",
   "execution_count": 15,
   "metadata": {},
   "outputs": [
    {
     "name": "stdout",
     "output_type": "stream",
     "text": [
      "PRO:  Chloroquine phosphate, an old drug for treatment of malaria, is shown to have apparent efficacy and acceptable safety against COVID-19 associated pneumonia in multicenter clinical trials conducted in China.\n",
      "\n",
      "\n",
      "CON:  These results do not support the use of HCQ in patients hospitalised for documented SARS-CoV-2-positive hypoxic pneumonia.\n"
     ]
    }
   ],
   "source": [
    "# Assignment 2\n",
    "print(\"PRO: \", sent_14[2].text)\n",
    "print(\"\\n\")\n",
    "print(\"CON: \", sent_6[-1].text)"
   ]
  }
 ],
 "metadata": {
  "kernelspec": {
   "display_name": "Python 3",
   "language": "python",
   "name": "python3"
  },
  "language_info": {
   "codemirror_mode": {
    "name": "ipython",
    "version": 3
   },
   "file_extension": ".py",
   "mimetype": "text/x-python",
   "name": "python",
   "nbconvert_exporter": "python",
   "pygments_lexer": "ipython3",
   "version": "3.7.6"
  }
 },
 "nbformat": 4,
 "nbformat_minor": 4
}
