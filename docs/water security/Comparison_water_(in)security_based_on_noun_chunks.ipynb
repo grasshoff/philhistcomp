{
 "cells": [
  {
   "cell_type": "markdown",
   "metadata": {},
   "source": [
    "# Libraries, data"
   ]
  },
  {
   "cell_type": "code",
   "execution_count": 2,
   "metadata": {},
   "outputs": [],
   "source": [
    "import pandas as pd\n",
    "import spacy\n",
    "import re\n",
    "from spacy import displacy\n",
    "from spacy.matcher import Matcher"
   ]
  },
  {
   "cell_type": "code",
   "execution_count": 3,
   "metadata": {},
   "outputs": [],
   "source": [
    "import warnings\n",
    "warnings.filterwarnings('ignore')"
   ]
  },
  {
   "cell_type": "code",
   "execution_count": 4,
   "metadata": {},
   "outputs": [],
   "source": [
    "# Import English library\n",
    "nlp = spacy.load('en_core_web_lg')"
   ]
  },
  {
   "cell_type": "code",
   "execution_count": 5,
   "metadata": {},
   "outputs": [],
   "source": [
    "dfWater=pd.read_json(\"dfwaterpub.json\")[[\"title\",\"abstract\"]]"
   ]
  },
  {
   "cell_type": "markdown",
   "metadata": {},
   "source": [
    "# Data preparation"
   ]
  },
  {
   "cell_type": "code",
   "execution_count": 6,
   "metadata": {},
   "outputs": [],
   "source": [
    "dfWater=dfWater.dropna(subset=[\"abstract\"])"
   ]
  },
  {
   "cell_type": "code",
   "execution_count": 7,
   "metadata": {},
   "outputs": [],
   "source": [
    "dfWater[\"doc\"]=dfWater[\"abstract\"].apply(nlp)"
   ]
  },
  {
   "cell_type": "code",
   "execution_count": 8,
   "metadata": {},
   "outputs": [],
   "source": [
    "df=dfWater\n",
    "a=df.iloc[2].abstract\n",
    "exemplar=nlp(a)"
   ]
  },
  {
   "cell_type": "code",
   "execution_count": 9,
   "metadata": {},
   "outputs": [],
   "source": [
    "allsentences=[]\n",
    "for i in range (2880):\n",
    "    a=df.iloc[i].abstract\n",
    "    b=nlp(a)\n",
    "    for s in b.sents:\n",
    "        allsentences.append(s)"
   ]
  },
  {
   "cell_type": "code",
   "execution_count": 10,
   "metadata": {},
   "outputs": [
    {
     "data": {
      "text/plain": [
       "23176"
      ]
     },
     "execution_count": 10,
     "metadata": {},
     "output_type": "execute_result"
    }
   ],
   "source": [
    "len(allsentences)"
   ]
  },
  {
   "cell_type": "markdown",
   "metadata": {},
   "source": [
    "# Causal hypothesis\n",
    "\n",
    "Water security and water insecurity aren't used as concepts with the opposite meaning. Water security is related to more technical terms, water insecurity is related to social terms."
   ]
  },
  {
   "cell_type": "markdown",
   "metadata": {},
   "source": [
    "## training data\n",
    "\n",
    "- prepare matching function for sentences, output in format JSONL"
   ]
  },
  {
   "cell_type": "markdown",
   "metadata": {},
   "source": [
    "# Method\n",
    "\n",
    "Spacy and the noun_chunks function are used. \n",
    "\"You can think of noun chunks as a noun plus the words describing the noun.\" https://spacy.io/usage/linguistic-features\n",
    "Which words describe water security, which words describe water insecruity?"
   ]
  },
  {
   "cell_type": "code",
   "execution_count": null,
   "metadata": {},
   "outputs": [],
   "source": [
    "#import warnings\n",
    "#warnings.filterwarnings('ignore')\n",
    "dict={}\n",
    "noun_list=[]\n",
    "key_term=\"water security\"\n",
    "for sent in allsentences:\n",
    "    chunks=list(sent.noun_chunks)\n",
    "    for noun in chunks:\n",
    "        if str(noun) in noun_list:\n",
    "            #very important to reduce duration of program\n",
    "            None\n",
    "        else:\n",
    "            noun_list.append(str(noun))\n",
    "            sim=noun.similarity(nlp(key_term))\n",
    "            dict[str(noun)]=[sim]"
   ]
  },
  {
   "cell_type": "code",
   "execution_count": null,
   "metadata": {},
   "outputs": [],
   "source": [
    "dict"
   ]
  },
  {
   "cell_type": "code",
   "execution_count": null,
   "metadata": {},
   "outputs": [],
   "source": [
    "key_term=\"water insecurity\"\n",
    "noun_list=[]\n",
    "for sent in allsentences:\n",
    "    chunks=list(sent.noun_chunks)\n",
    "    for noun in chunks:\n",
    "        if str(noun) in noun_list:\n",
    "            None\n",
    "        else:\n",
    "            noun_list.append(str(noun))\n",
    "            sim=noun.similarity(nlp(key_term))\n",
    "            difference=(dict[str(noun)][0] - sim)\n",
    "            dict[str(noun)].append(sim)\n",
    "            dict[str(noun)].append(difference)"
   ]
  },
  {
   "cell_type": "markdown",
   "metadata": {},
   "source": [
    "# The 100 words which describe water security and water insecurity the most\n",
    "\n",
    "The words with the highest similarity to the key words. The words which include security/insecurity are sorted out. Obviously \"security\" describes \"water security\" well but that is not interesting for the research study."
   ]
  },
  {
   "cell_type": "code",
   "execution_count": null,
   "metadata": {},
   "outputs": [],
   "source": [
    "list=[]\n",
    "security_100=[]\n",
    "insecurity_100=[]\n",
    "for key in dict:\n",
    "    list.append([key, dict[key][0], dict[key][1]])\n",
    "    \n",
    "list.sort(key=lambda x:x[1], reverse=True)\n",
    "k=0\n",
    "while len(security_100) < 100:\n",
    "    if re.search(r\"-?[Ss]ecur\", list[k][0]):\n",
    "        k+=1\n",
    "    else:\n",
    "        security_100.append([str(list[k][0]),list[k][1]])\n",
    "        k+=1\n",
    "        \n",
    "list.sort(key=lambda x:x[2], reverse=True)\n",
    "k=0\n",
    "while len(insecurity_100) < 100:\n",
    "    if re.search(r\"-?[Ii]nsecur\", str(list[k][0])):\n",
    "        k+=1\n",
    "    else:\n",
    "        insecurity_100.append([str(list[k][0]),list[k][2]])\n",
    "        k+=1"
   ]
  },
  {
   "cell_type": "code",
   "execution_count": null,
   "metadata": {},
   "outputs": [],
   "source": [
    "security_100"
   ]
  },
  {
   "cell_type": "code",
   "execution_count": null,
   "metadata": {},
   "outputs": [],
   "source": [
    "insecurity_100"
   ]
  },
  {
   "cell_type": "markdown",
   "metadata": {},
   "source": [
    "### Result\n",
    "\n",
    "#### water security:\n",
    "water safety,\n",
    "water systems,\n",
    "water (resources) protection,\n",
    "water policy,\n",
    "water infrastructure,\n",
    "water access,\n",
    "water management,\n",
    "\n",
    "#### water insecurity:\n",
    "**water poverty**\n",
    "water scarcity,\n",
    "water vulnerability,\n",
    "water crisis,\n",
    "water conflicts,\n",
    "water shortage,\n",
    "water mismanagment,\n",
    "**water inequality**\n",
    "\n",
    "\n",
    "\n",
    "### The method gets applied again. The describing words get sorted out. "
   ]
  },
  {
   "cell_type": "code",
   "execution_count": null,
   "metadata": {},
   "outputs": [],
   "source": [
    "new_security_100=[]\n",
    "new_insecurity_100=[]\n",
    "list.sort(key=lambda x:x[1], reverse=True)\n",
    "k=0\n",
    "while len(new_security_100) < 100:\n",
    "    x=list[k][0]\n",
    "    if re.search(r\"-?[Ss]ecur\", x) or re.search(r\"-?[Ss]afe\", x) or re.search(r\"-?[Pp]rotect\", x) or re.search(r\"-?[Pp]policy\", x) or re.search(r\"-?[Ii]nfrastr\", x) or re.search(r\"-?[Aa]cce\", x) or re.search(r\"-?[Mm]anage\", x):\n",
    "        k+=1\n",
    "    else:\n",
    "        new_security_100.append([str(list[k][0]),x])\n",
    "        k+=1\n",
    "        \n",
    "list.sort(key=lambda x:x[2], reverse=True)\n",
    "k=0\n",
    "while len(new_insecurity_100) < 100:\n",
    "    x=list[k][0]\n",
    "    if re.search(r\"-?[Ii]nsecur\", x) or re.search(r\"-?[Pp]overt\", x) or re.search(r\"-?[Ss]carc\", x) or re.search(r\"-?[Vv]ulnerab\", x) or re.search(r\"-?[Cc]ris[ei]s\", x) or re.search(r\"-?[Cc]onflict\", x) or re.search(r\"-?[Ss]hortage\", x) or re.search(r\"-?[Mm]ismanagem\", x) or re.search(r\"-?[Ii]nequal\", x): \n",
    "        k+=1\n",
    "    else:\n",
    "        new_insecurity_100.append([str(list[k][0]),list[k][2]])\n",
    "        k+=1"
   ]
  },
  {
   "cell_type": "code",
   "execution_count": null,
   "metadata": {},
   "outputs": [],
   "source": [
    "new_security_100\n",
    "new_insecurity_100"
   ]
  },
  {
   "cell_type": "markdown",
   "metadata": {},
   "source": [
    "### The method does not carry out useful results. A different method get applied: The similarity of a term with the term \"water security\" gets compared with the similarity of the term with the word \"water insecurity\". The output are two lists which show which words describe one of our key words considerably well but not the other."
   ]
  },
  {
   "cell_type": "code",
   "execution_count": null,
   "metadata": {},
   "outputs": [],
   "source": [
    "interval_start=1.4\n",
    "interval_end=0.2\n",
    "\n",
    "moresimilartosecurity=[]\n",
    "moresimilartoinsecurity=[]\n",
    "x=0 #security\n",
    "y=0 #insecurity \n",
    "\n",
    "for key in dict:\n",
    "    if re.search(r\"-?[Ii]nsecur\", str(key)):\n",
    "        y+=1\n",
    "    elif re.search(r\"-?[Ss]ecur\", str(key)):\n",
    "        x+=1\n",
    "    else:\n",
    "        a=dict[key][2]\n",
    "        if interval_start > a > interval_end:\n",
    "            moresimilartosecurity.append([key, a, dict[key][0]])\n",
    "            #key=word, a=difference, dict[..]=similarity value\n",
    "        elif -interval_start < a < -interval_end:\n",
    "            moresimilartoinsecurity.append([key, a, dict[key][1]])"
   ]
  },
  {
   "cell_type": "code",
   "execution_count": null,
   "metadata": {},
   "outputs": [],
   "source": [
    "moresimilartosecurity.sort(key=lambda x:x[1], reverse=True)\n",
    "for e in moresimilartosecurity:\n",
    "    print(e)"
   ]
  },
  {
   "cell_type": "code",
   "execution_count": null,
   "metadata": {},
   "outputs": [],
   "source": [
    "moresimilartoinsecurity.sort(key=lambda x:x[1])\n",
    "for e in moresimilartoinsecurity:\n",
    "    print(e)"
   ]
  },
  {
   "cell_type": "code",
   "execution_count": null,
   "metadata": {},
   "outputs": [],
   "source": [
    "moresimilartosecurity.sort(key=lambda x:x[1], reverse=True)\n",
    "for e in moresimilartosecurity:\n",
    "    if e[2]>0.6:\n",
    "        print(e)"
   ]
  },
  {
   "cell_type": "code",
   "execution_count": null,
   "metadata": {},
   "outputs": [],
   "source": [
    "moresimilartoinsecurity.sort(key=lambda x:x[1])\n",
    "for e in moresimilartoinsecurity:\n",
    "    if e[2]>0.6:\n",
    "        print(e)"
   ]
  },
  {
   "cell_type": "code",
   "execution_count": null,
   "metadata": {},
   "outputs": [],
   "source": [
    "moresimilartoinsecurity.sort(key=lambda x:x[1])\n",
    "for e in moresimilartoinsecurity:\n",
    "    if e[1]==\"water and water infrastructure\":\n",
    "        print(e)"
   ]
  },
  {
   "cell_type": "code",
   "execution_count": null,
   "metadata": {},
   "outputs": [],
   "source": []
  }
 ],
 "metadata": {
  "kernelspec": {
   "display_name": "Python 3",
   "language": "python",
   "name": "python3"
  },
  "language_info": {
   "codemirror_mode": {
    "name": "ipython",
    "version": 3
   },
   "file_extension": ".py",
   "mimetype": "text/x-python",
   "name": "python",
   "nbconvert_exporter": "python",
   "pygments_lexer": "ipython3",
   "version": "3.7.3"
  }
 },
 "nbformat": 4,
 "nbformat_minor": 4
}
