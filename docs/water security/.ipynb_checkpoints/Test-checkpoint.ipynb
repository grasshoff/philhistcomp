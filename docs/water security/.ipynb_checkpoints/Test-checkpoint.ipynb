{
 "cells": [
  {
   "cell_type": "code",
   "execution_count": 2,
   "metadata": {},
   "outputs": [],
   "source": [
    "import pandas as pd\n",
    "from bs4 import BeautifulSoup\n",
    "import requests\n",
    "import json "
   ]
  },
  {
   "cell_type": "code",
   "execution_count": 3,
   "metadata": {},
   "outputs": [],
   "source": [
    "dfWS=pd.read_excel(\"water security.xlsx\",skiprows=[0])"
   ]
  },
  {
   "cell_type": "raw",
   "metadata": {},
   "source": [
    "dfWS.reset_index(inplace=True)"
   ]
  },
  {
   "cell_type": "code",
   "execution_count": 4,
   "metadata": {},
   "outputs": [],
   "source": [
    "dfWS.head(4)\n",
    "# testcase\n",
    "#\n",
    "dfWS=dfWS[:10]"
   ]
  },
  {
   "cell_type": "code",
   "execution_count": 5,
   "metadata": {},
   "outputs": [
    {
     "data": {
      "text/plain": [
       "10"
      ]
     },
     "execution_count": 5,
     "metadata": {},
     "output_type": "execute_result"
    }
   ],
   "source": [
    "len(dfWSd)"
   ]
  },
  {
   "cell_type": "code",
   "execution_count": 18,
   "metadata": {},
   "outputs": [
    {
     "data": {
      "text/plain": [
       "Index(['Rank', 'Publication ID', 'DOI', 'PMID', 'PMCID', 'Title',\n",
       "       'Source title', 'Anthology title', 'Publisher', 'MeSH terms',\n",
       "       'Publication Date', 'PubYear', 'Volume', 'Issue', 'Pagination',\n",
       "       'Open Access', 'Publication Type', 'Authors', 'Corresponding Author',\n",
       "       'Authors Affiliations', 'Research Organizations - standardized',\n",
       "       'GRID IDs', 'City of Research organization',\n",
       "       'State of Research organization', 'Country of Research organization',\n",
       "       'Funder', 'Funder Group', 'Funder Country', 'UIDs of supporting grants',\n",
       "       'Supporting Grants', 'Times cited', 'Recent citations', 'RCR', 'FCR',\n",
       "       'Altmetric', 'Source Linkout', 'Dimensions URL',\n",
       "       'FOR (ANZSRC) Categories', 'RCDC Categories', 'HRCS HC Categories',\n",
       "       'HRCS RAC Categories', 'ICRP Cancer Types', 'ICRP CSO Categories',\n",
       "       'Units of Assessment', 'Sustainable Development Goals'],\n",
       "      dtype='object')"
      ]
     },
     "execution_count": 18,
     "metadata": {},
     "output_type": "execute_result"
    }
   ],
   "source": [
    "dfWSd.keys()"
   ]
  },
  {
   "cell_type": "markdown",
   "metadata": {},
   "source": [
    "# Webseiten auswerten"
   ]
  },
  {
   "cell_type": "code",
   "execution_count": 19,
   "metadata": {},
   "outputs": [],
   "source": [
    "pubkeys=[\n",
    "    'title',\n",
    "    'aff_org_name',\n",
    "#    'affiliations_json',\n",
    "#    'author_list',\n",
    "     'researcher_dim_id',\n",
    "     'researcher_dim_count',\n",
    "     'journal_title',\n",
    "     'language',\n",
    "     'abstract',\n",
    "     'open_access',\n",
    "     'publisher',\n",
    "#     'pub_class',\n",
    "#    'aff_city_geonames_ids',\n",
    "     'aff_city_name',\n",
    "     'aff_country_name',\n",
    "#     'aff_org_id',\n",
    "     'doi',\n",
    "#     'id',\n",
    "     'pub_date',\n",
    "     'pub_year',\n",
    "     'times_cited',\n",
    "     'altmetric_id',\n",
    "     'altmetric',\n",
    "#     'score',\n",
    "#     'affiliations_details',\n",
    "     'authors_full',\n",
    " #    'journal'\n",
    "        ]"
   ]
  },
  {
   "cell_type": "code",
   "execution_count": 20,
   "metadata": {},
   "outputs": [],
   "source": [
    "## get html pages from dimension\n",
    "def gethtml(x):\n",
    "    html=\"\"\n",
    "    url=x[\"Dimensions URL\"]\n",
    "    if url!=None:\n",
    "        html = requests.get(url).content\n",
    "    return(html)\n",
    "## create a soup column\n",
    "def getsoup(x):\n",
    "    html=x[\"htmldimension\"]\n",
    "    return(BeautifulSoup(html,\"html\"))\n",
    "## create a dict column\n",
    "def getdimdict(x):\n",
    "    s=x[\"soup\"]\n",
    "    datadoc=s.find(\"div\")\n",
    "    d=\"\"\n",
    "    if datadoc==None:\n",
    "        attr=\"\"\n",
    "    else:\n",
    "        attr=datadoc.get(\"data-doc\")\n",
    "        if attr:\n",
    "            d=json.loads(attr)\n",
    "    return(d)\n",
    "def makedic(x):\n",
    "    dicpub=dict()\n",
    "    for i in pubkeys:\n",
    "        v=x.get(i)\n",
    "        dicpub[i]=v\n",
    "    return(dicpub)"
   ]
  },
  {
   "cell_type": "code",
   "execution_count": 21,
   "metadata": {},
   "outputs": [],
   "source": [
    "dfWSd[\"htmldimension\"]=dfWSd.apply(lambda x: gethtml(x),axis=1)"
   ]
  },
  {
   "cell_type": "code",
   "execution_count": 22,
   "metadata": {},
   "outputs": [],
   "source": [
    "dfWSd[\"soup\"]=dfWSd.apply(lambda x:getsoup(x),axis=1)"
   ]
  },
  {
   "cell_type": "code",
   "execution_count": 23,
   "metadata": {},
   "outputs": [],
   "source": [
    "dfWSd[\"dimdict\"]=dfWSd.apply(lambda x:getdimdict(x),axis=1)"
   ]
  },
  {
   "cell_type": "code",
   "execution_count": 24,
   "metadata": {},
   "outputs": [],
   "source": [
    "dfWSd[\"seldict\"]=dfWSd[\"dimdict\"].apply(makedic)"
   ]
  },
  {
   "cell_type": "code",
   "execution_count": 25,
   "metadata": {},
   "outputs": [],
   "source": [
    "lidi=[]\n",
    "def newpub(x):\n",
    "    di=dict()\n",
    "    d=x[\"seldict\"]\n",
    "    di[\"DOI\"]=x[\"DOI\"]\n",
    "    di[\"title\"]=x[\"Title\"]\n",
    "    di[\"authors\"]=d[\"authors_full\"]\n",
    "    di[\"publisher\"]=d[\"publisher\"]\n",
    "    di[\"source\"]=x[\"Source title\"]\n",
    "    di[\"aff_org_name\"]=d[\"aff_org_name\"]\n",
    "    di[\"aff_country\"]=d[\"aff_country_name\"]\n",
    "    di[\"pub_date\"]=d[\"pub_date\"]\n",
    "#    di[\"month\"]=x[\"month\"]\n",
    "#    di[\"day\"]=x[\"day\"]\n",
    "    di[\"abstract\"]=d[\"abstract\"]\n",
    "    di[\"openaccess\"]=d[\"open_access\"]\n",
    "    di[\"di_URL\"]=x[\"Dimensions URL\"]\n",
    "    lidi.append(di)"
   ]
  },
  {
   "cell_type": "code",
   "execution_count": 26,
   "metadata": {},
   "outputs": [
    {
     "data": {
      "text/html": [
       "<div>\n",
       "<style scoped>\n",
       "    .dataframe tbody tr th:only-of-type {\n",
       "        vertical-align: middle;\n",
       "    }\n",
       "\n",
       "    .dataframe tbody tr th {\n",
       "        vertical-align: top;\n",
       "    }\n",
       "\n",
       "    .dataframe thead th {\n",
       "        text-align: right;\n",
       "    }\n",
       "</style>\n",
       "<table border=\"1\" class=\"dataframe\">\n",
       "  <thead>\n",
       "    <tr style=\"text-align: right;\">\n",
       "      <th></th>\n",
       "      <th>DOI</th>\n",
       "      <th>title</th>\n",
       "      <th>authors</th>\n",
       "      <th>publisher</th>\n",
       "      <th>source</th>\n",
       "      <th>aff_org_name</th>\n",
       "      <th>aff_country</th>\n",
       "      <th>pub_date</th>\n",
       "      <th>abstract</th>\n",
       "      <th>openaccess</th>\n",
       "      <th>di_URL</th>\n",
       "    </tr>\n",
       "  </thead>\n",
       "  <tbody>\n",
       "    <tr>\n",
       "      <th>0</th>\n",
       "      <td>10.1186/s40779-020-00251-x</td>\n",
       "      <td>Role of adjunctive treatment strategies in COV...</td>\n",
       "      <td>[Xinni Xu, Yew Kwang Ong, De Yun Wang]</td>\n",
       "      <td>None</td>\n",
       "      <td>Military Medical Research</td>\n",
       "      <td>[National University of Singapore, Department ...</td>\n",
       "      <td>[Singapore]</td>\n",
       "      <td>2020-12</td>\n",
       "      <td>The coronavirus disease (COVID-19) pandemic ha...</td>\n",
       "      <td>True</td>\n",
       "      <td>https://app.dimensions.ai/details/publication/...</td>\n",
       "    </tr>\n",
       "    <tr>\n",
       "      <th>1</th>\n",
       "      <td>10.1186/s13037-020-00245-7</td>\n",
       "      <td>Successful COVID-19 rescue therapy by extra-co...</td>\n",
       "      <td>[Michael S. Firstenberg, Philip F. Stahel, Jen...</td>\n",
       "      <td>Springer Nature</td>\n",
       "      <td>Patient Safety in Surgery</td>\n",
       "      <td>[The Medical Center of Aurora, Rocky Vista Uni...</td>\n",
       "      <td>[United States]</td>\n",
       "      <td>2020-12</td>\n",
       "      <td>Background: The value of extracorporeal membra...</td>\n",
       "      <td>True</td>\n",
       "      <td>https://app.dimensions.ai/details/publication/...</td>\n",
       "    </tr>\n",
       "    <tr>\n",
       "      <th>2</th>\n",
       "      <td>10.1186/s13613-020-00661-z</td>\n",
       "      <td>Therapeutic strategies for critically ill pati...</td>\n",
       "      <td>[Lei Li, Ranran Li, Zhixiong Wu, Xianghong Yan...</td>\n",
       "      <td>Springer Nature</td>\n",
       "      <td>Annals of Intensive Care</td>\n",
       "      <td>[Huadong Hospital, Shanghai Jiao Tong Universi...</td>\n",
       "      <td>[China]</td>\n",
       "      <td>2020-12</td>\n",
       "      <td>Since the 2019 novel coronavirus disease (COVI...</td>\n",
       "      <td>True</td>\n",
       "      <td>https://app.dimensions.ai/details/publication/...</td>\n",
       "    </tr>\n",
       "  </tbody>\n",
       "</table>\n",
       "</div>"
      ],
      "text/plain": [
       "                          DOI  \\\n",
       "0  10.1186/s40779-020-00251-x   \n",
       "1  10.1186/s13037-020-00245-7   \n",
       "2  10.1186/s13613-020-00661-z   \n",
       "\n",
       "                                               title  \\\n",
       "0  Role of adjunctive treatment strategies in COV...   \n",
       "1  Successful COVID-19 rescue therapy by extra-co...   \n",
       "2  Therapeutic strategies for critically ill pati...   \n",
       "\n",
       "                                             authors        publisher  \\\n",
       "0             [Xinni Xu, Yew Kwang Ong, De Yun Wang]             None   \n",
       "1  [Michael S. Firstenberg, Philip F. Stahel, Jen...  Springer Nature   \n",
       "2  [Lei Li, Ranran Li, Zhixiong Wu, Xianghong Yan...  Springer Nature   \n",
       "\n",
       "                      source  \\\n",
       "0  Military Medical Research   \n",
       "1  Patient Safety in Surgery   \n",
       "2   Annals of Intensive Care   \n",
       "\n",
       "                                        aff_org_name      aff_country  \\\n",
       "0  [National University of Singapore, Department ...      [Singapore]   \n",
       "1  [The Medical Center of Aurora, Rocky Vista Uni...  [United States]   \n",
       "2  [Huadong Hospital, Shanghai Jiao Tong Universi...          [China]   \n",
       "\n",
       "  pub_date                                           abstract  openaccess  \\\n",
       "0  2020-12  The coronavirus disease (COVID-19) pandemic ha...        True   \n",
       "1  2020-12  Background: The value of extracorporeal membra...        True   \n",
       "2  2020-12  Since the 2019 novel coronavirus disease (COVI...        True   \n",
       "\n",
       "                                              di_URL  \n",
       "0  https://app.dimensions.ai/details/publication/...  \n",
       "1  https://app.dimensions.ai/details/publication/...  \n",
       "2  https://app.dimensions.ai/details/publication/...  "
      ]
     },
     "execution_count": 26,
     "metadata": {},
     "output_type": "execute_result"
    }
   ],
   "source": [
    "dfWSd.apply(lambda x:newpub(x),axis=1)\n",
    "dfRemLit=pd.DataFrame(lidi)\n",
    "dfRemLit.head(3)"
   ]
  },
  {
   "cell_type": "code",
   "execution_count": 27,
   "metadata": {},
   "outputs": [],
   "source": [
    "dfRemLit.to_json(\"dfRemLit.json\")"
   ]
  }
 ],
 "metadata": {
  "kernelspec": {
   "display_name": "Python 3",
   "language": "python",
   "name": "python3"
  },
  "language_info": {
   "codemirror_mode": {
    "name": "ipython",
    "version": 3
   },
   "file_extension": ".py",
   "mimetype": "text/x-python",
   "name": "python",
   "nbconvert_exporter": "python",
   "pygments_lexer": "ipython3",
   "version": "3.7.3"
  }
 },
 "nbformat": 4,
 "nbformat_minor": 4
}
