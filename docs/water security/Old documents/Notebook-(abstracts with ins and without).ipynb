{
 "cells": [
  {
   "cell_type": "markdown",
   "metadata": {},
   "source": [
    "# Project Water (In)Security\n",
    "\n",
    "PT\n",
    "Eigentlich zwei Hypothesen zu klären:\n",
    "Unterschiedlicher Gebrauch von water security and insecurity.\n",
    "Unterschiedliche Themen von Abstracts die water insecurity erwähnen und welche nicht. "
   ]
  },
  {
   "cell_type": "markdown",
   "metadata": {},
   "source": [
    "# Libraries"
   ]
  },
  {
   "cell_type": "code",
   "execution_count": 2,
   "metadata": {},
   "outputs": [],
   "source": [
    "import pandas as pd\n",
    "import re\n",
    "import spacy"
   ]
  },
  {
   "cell_type": "code",
   "execution_count": 7,
   "metadata": {},
   "outputs": [],
   "source": [
    "datawater=pd.read_json(\"dfwaterpub.json\")\n",
    "alldf=datawater[[\"PMID\",\"title\",\"abstract\"]]"
   ]
  },
  {
   "cell_type": "code",
   "execution_count": 22,
   "metadata": {},
   "outputs": [
    {
     "name": "stdout",
     "output_type": "stream",
     "text": [
      "S: 2121 and INS: 169 and S&INS: 146 and without: 443.\n",
      "Liste der Abstracts nur mit insecurity :[10, 17, 35, 39, 45, 59, 62, 97, 105, 176, 180, 206, 213, 218, 225, 229, 233, 254, 314, 324, 345, 357, 380, 390, 396, 404, 421, 427, 435, 447, 464, 466, 475, 490, 502, 526, 555, 556, 589, 597, 609, 617, 637, 688, 715, 725, 737, 778, 787, 803, 864, 868, 873, 879, 891, 902, 937, 961, 1032, 1033, 1048, 1053, 1076, 1080, 1083, 1092, 1230, 1234, 1235, 1282, 1291, 1292, 1302, 1304, 1323, 1325, 1349, 1449, 1462, 1489, 1538, 1554, 1556, 1581, 1592, 1620, 1701, 1725, 1747, 1748, 1783, 1808, 1810, 1812, 1832, 1836, 1846, 1905, 1972, 2022, 2027, 2113, 2142, 2146, 2148, 2168, 2170, 2178, 2180, 2183, 2184, 2185, 2210, 2231, 2234, 2250, 2261, 2266, 2269, 2288, 2297, 2314, 2327, 2345, 2368, 2375, 2377, 2378, 2379, 2384, 2386, 2401, 2404, 2414, 2427, 2441, 2469, 2470, 2480, 2482, 2484, 2500, 2503, 2504, 2511, 2512, 2540, 2541, 2544, 2545, 2547, 2553, 2623, 2637, 2664, 2671, 2677, 2696, 2724, 2730, 2779, 2795, 2801, 2821, 2825, 2827, 2852, 2861, 2879]\n",
      "Liste der Abstracts  mit insecurity und security:[8, 55, 56, 57, 60, 63, 70, 96, 132, 165, 166, 169, 201, 207, 252, 262, 272, 295, 300, 317, 327, 329, 359, 382, 405, 406, 407, 491, 492, 513, 523, 525, 550, 554, 560, 598, 628, 636, 643, 647, 648, 649, 702, 723, 776, 783, 788, 789, 794, 812, 824, 835, 846, 857, 874, 936, 946, 962, 964, 966, 992, 1025, 1039, 1068, 1079, 1109, 1129, 1144, 1171, 1227, 1271, 1281, 1286, 1294, 1321, 1368, 1379, 1403, 1495, 1545, 1565, 1573, 1586, 1621, 1639, 1640, 1668, 1717, 1779, 1807, 1924, 1971, 1984, 2011, 2046, 2074, 2079, 2090, 2101, 2104, 2107, 2127, 2131, 2139, 2143, 2177, 2212, 2223, 2225, 2286, 2296, 2301, 2322, 2325, 2342, 2343, 2344, 2346, 2373, 2376, 2380, 2382, 2383, 2400, 2415, 2416, 2431, 2445, 2452, 2495, 2519, 2520, 2536, 2555, 2575, 2622, 2625, 2632, 2654, 2672, 2690, 2748, 2796, 2822, 2831, 2832]\n"
     ]
    }
   ],
   "source": [
    "noabstract_list=[]\n",
    "notitle_list=[]\n",
    "\n",
    "security_count=0\n",
    "security_list=[]\n",
    "insecurity_count=0\n",
    "insecurity_list=[]\n",
    "both_count=0\n",
    "both_list=[]\n",
    "only_title_list=[]\n",
    "\n",
    "no_count=0\n",
    "no_list=[]\n",
    "for i in range(2890):\n",
    "    abstr=alldf[\"abstract\"].iloc[i]\n",
    "    if abstr==None or abstr==\" \":\n",
    "        None\n",
    "    else:\n",
    "        if (re.search(r\"-?[Ii]nsecurit\", abstr) or re.search(r\"-?INSECURIT\", abstr)) and not re.search(r\"[ -][Ss]ecurit\", abstr) and not re.search(r\" SECUR\", abstr):\n",
    "            insecurity_list.append(i)\n",
    "            insecurity_count+=1\n",
    "        elif (re.search(r\"[ -][Ss]ecurit\", abstr) or re.search(r\"-?SECURIT\", abstr) or re.search(r\"water\\n\\security\", abstr)) and not re.search(r\"-?[Ii]nsecurit\", abstr) and not re.search(r\"INSECURIT\", abstr):\n",
    "            security_list.append(i)\n",
    "            security_count+=1\n",
    "        elif (re.search(r\"-?[Ii]nsecurit\", abstr) or re.search(r\"-?INSECURIT\", abstr)) and (re.search(r\"[ -][Ss]ecurit\", abstr) or re.search(r\" SECURIT\", abstr)):\n",
    "            both_list.append(i)\n",
    "            both_count+=1        \n",
    "        else:\n",
    "            no_list.append(i)\n",
    "            no_count+=1\n",
    "print(\"S: \"+str(security_count)+\" and INS: \"+str(insecurity_count)+\" and S&INS: \"+str(both_count)+\" and without: \"+str(no_count)+\".\")\n",
    "print(\"Liste der Abstracts nur mit insecurity :\"+str(insecurity_list))\n",
    "print(\"Liste der Abstracts  mit insecurity und security:\"+str(both_list))"
   ]
  },
  {
   "cell_type": "code",
   "execution_count": 26,
   "metadata": {},
   "outputs": [
    {
     "data": {
      "text/plain": [
       "'Despite decades of donor support for the water sector, many small island developing states (SIDS) have failed to make acceptable levels of progress toward achievement of water-related millennium development goals and reduction of water-related risks. At least three distinct policy paradigms have at different times been regarded as best practice for responding to water insecurity throughout the world. Yet, while the water management literature points to the need for a paradigm shift toward improved governance approaches, there has been little critical examination of whether the assumptions implicit within these theoretical paradigms are applicable to SIDS contexts. This study reviews the water management, governance, and island studies literatures to identify the ways in which the unique historical, geographical, and economic contexts of SIDS limit or enable the applicability of these paradigms. The analysis shows that each paradigm has a different underlying conceptualization of governance, and how institutions can regulate social–ecological relations for achieving water security. The conceptualizations of governance under the adaptive management paradigm seem to most closely reflect the complexity of governance in SIDS, and may therefore hold the most potential for addressing water insecurity. However, the analysis also highlights the need for further research to test the application of adaptive management in a way that can also cater for the unique socio-political relations that affect the outcomes of governance in SIDS. WIREs Water 2016, 3:181–193. doi: 10.1002/wat2.1129 This article is categorized under:'"
      ]
     },
     "execution_count": 26,
     "metadata": {},
     "output_type": "execute_result"
    }
   ],
   "source": [
    "abstr=alldf[\"abstract\"].iloc[649]\n",
    "abstr"
   ]
  },
  {
   "cell_type": "markdown",
   "metadata": {},
   "source": [
    "# Process"
   ]
  },
  {
   "cell_type": "code",
   "execution_count": 5,
   "metadata": {},
   "outputs": [],
   "source": [
    "from spacy.lang.en import English\n"
   ]
  }
 ],
 "metadata": {
  "kernelspec": {
   "display_name": "Python 3",
   "language": "python",
   "name": "python3"
  },
  "language_info": {
   "codemirror_mode": {
    "name": "ipython",
    "version": 3
   },
   "file_extension": ".py",
   "mimetype": "text/x-python",
   "name": "python",
   "nbconvert_exporter": "python",
   "pygments_lexer": "ipython3",
   "version": "3.7.3"
  }
 },
 "nbformat": 4,
 "nbformat_minor": 4
}
