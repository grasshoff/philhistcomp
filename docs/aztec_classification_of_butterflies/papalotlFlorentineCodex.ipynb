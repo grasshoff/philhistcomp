{
 "cells": [
  {
   "cell_type": "markdown",
   "metadata": {},
   "source": [
    "# The butterflies of the Florentine Codex"
   ]
  },
  {
   "cell_type": "code",
   "execution_count": 21,
   "metadata": {},
   "outputs": [],
   "source": [
    "import pandas as pd\n",
    "import re\n",
    "import spacy\n",
    "\n",
    "from spacy.matcher import PhraseMatcher\n",
    "from spacy.matcher import Matcher\n",
    "from spacy import displacy\n",
    "\n",
    "from spacy.tokens import Span"
   ]
  },
  {
   "cell_type": "code",
   "execution_count": 22,
   "metadata": {},
   "outputs": [],
   "source": [
    "papalotl = open('papalotl.txt')\n",
    "butterflies = papalotl.read()"
   ]
  },
  {
   "cell_type": "code",
   "execution_count": 23,
   "metadata": {},
   "outputs": [],
   "source": [
    "from spacy.lang.en import English\n",
    "\n",
    "raw_text = butterflies\n",
    "nlp = English()\n",
    "nlp.add_pipe(nlp.create_pipe('sentencizer'))\n",
    "doc = nlp(raw_text)\n",
    "sentences = [sent.string.strip() for sent in doc.sents]"
   ]
  },
  {
   "cell_type": "code",
   "execution_count": 24,
   "metadata": {},
   "outputs": [],
   "source": [
    "# Get rid of newlines\n",
    "sentences = [item.replace('\\n', \" \") for item in sentences]"
   ]
  },
  {
   "cell_type": "code",
   "execution_count": 25,
   "metadata": {},
   "outputs": [
    {
     "data": {
      "text/html": [
       "<div>\n",
       "<style scoped>\n",
       "    .dataframe tbody tr th:only-of-type {\n",
       "        vertical-align: middle;\n",
       "    }\n",
       "\n",
       "    .dataframe tbody tr th {\n",
       "        vertical-align: top;\n",
       "    }\n",
       "\n",
       "    .dataframe thead th {\n",
       "        text-align: right;\n",
       "    }\n",
       "</style>\n",
       "<table border=\"1\" class=\"dataframe\">\n",
       "  <thead>\n",
       "    <tr style=\"text-align: right;\">\n",
       "      <th></th>\n",
       "      <th>Butterflies</th>\n",
       "    </tr>\n",
       "  </thead>\n",
       "  <tbody>\n",
       "    <tr>\n",
       "      <th>1</th>\n",
       "      <td>lt is fuzzy, like fat; winged.</td>\n",
       "    </tr>\n",
       "    <tr>\n",
       "      <th>2</th>\n",
       "      <td>Its wings are twofold.</td>\n",
       "    </tr>\n",
       "    <tr>\n",
       "      <th>3</th>\n",
       "      <td>It has arms, it has legs, it has antennae.</td>\n",
       "    </tr>\n",
       "    <tr>\n",
       "      <th>4</th>\n",
       "      <td>lt is a flyer, a constant flyer, a flutterer, ...</td>\n",
       "    </tr>\n",
       "  </tbody>\n",
       "</table>\n",
       "</div>"
      ],
      "text/plain": [
       "                                         Butterflies\n",
       "1                     lt is fuzzy, like fat; winged.\n",
       "2                             Its wings are twofold.\n",
       "3         It has arms, it has legs, it has antennae.\n",
       "4  lt is a flyer, a constant flyer, a flutterer, ..."
      ]
     },
     "execution_count": 25,
     "metadata": {},
     "output_type": "execute_result"
    }
   ],
   "source": [
    "df = pd.DataFrame(sentences)\n",
    "df.rename(columns={0: \"Butterflies\"})[1:5]"
   ]
  },
  {
   "cell_type": "code",
   "execution_count": 26,
   "metadata": {},
   "outputs": [],
   "source": [
    "nlp = spacy.load('en_core_web_lg')"
   ]
  },
  {
   "cell_type": "code",
   "execution_count": 27,
   "metadata": {},
   "outputs": [],
   "source": [
    "doc = nlp(butterflies)"
   ]
  },
  {
   "cell_type": "code",
   "execution_count": 28,
   "metadata": {},
   "outputs": [],
   "source": [
    "matcher = PhraseMatcher(nlp.vocab)\n",
    "papalotl = nlp(butterflies)\n",
    "phrase_list = ['abdomen', 'neck', 'wings', 'arms', 'legs', 'antennae']\n",
    "phrase_patterns = [nlp(text) for text in phrase_list]\n",
    "matcher.add('mariposa', None, *phrase_patterns)\n",
    "found_matches = matcher(papalotl)"
   ]
  },
  {
   "cell_type": "code",
   "execution_count": 29,
   "metadata": {},
   "outputs": [
    {
     "name": "stdout",
     "output_type": "stream",
     "text": [
      "15 16 abdomen\n",
      "20 21 neck\n",
      "34 35 wings\n",
      "40 41 arms\n",
      "44 45 legs\n",
      "48 49 antennae\n",
      "85 86 wings\n",
      "234 235 wings\n",
      "369 370 wings\n",
      "516 517 wings\n"
     ]
    }
   ],
   "source": [
    "for match_id, start, end in found_matches:\n",
    "    string_id = nlp.vocab.strings[match_id]\n",
    "    span = papalotl[start:end]\n",
    "    print(start, end, span.text)"
   ]
  },
  {
   "cell_type": "code",
   "execution_count": 30,
   "metadata": {},
   "outputs": [],
   "source": [
    "def show_ents(doc):\n",
    "    if doc.ents: \n",
    "        for ent in doc.ents:\n",
    "            print(ent.text+' - '+ent.label_)\n",
    "    else:\n",
    "        print('No entity found')"
   ]
  },
  {
   "cell_type": "code",
   "execution_count": 31,
   "metadata": {},
   "outputs": [],
   "source": [
    "ORGAN = doc.vocab.strings['ORGAN']"
   ]
  },
  {
   "cell_type": "code",
   "execution_count": 32,
   "metadata": {},
   "outputs": [],
   "source": [
    "new_ent = Span(doc, 15, 16, label=ORGAN)\n",
    "new_ent1 = Span(doc, 20, 21, label=ORGAN) \n",
    "new_ent2 = Span(doc, 34, 35, label=ORGAN) \n",
    "new_ent3 = Span(doc, 40, 41, label=ORGAN) \n",
    "new_ent4 = Span(doc, 44, 45, label=ORGAN) \n",
    "new_ent5 = Span(doc, 48, 49, label=ORGAN) \n",
    "new_ent6 = Span(doc, 85, 86, label=ORGAN) \n",
    "new_ent7 = Span(doc, 234, 235, label=ORGAN) \n",
    "new_ent8 = Span(doc, 369, 370, label=ORGAN) \n",
    "new_ent9 = Span(doc, 516, 517, label=ORGAN) "
   ]
  },
  {
   "cell_type": "code",
   "execution_count": 33,
   "metadata": {},
   "outputs": [],
   "source": [
    "doc.ents = list(doc.ents)+[new_ent]+[new_ent1]+[new_ent2]+[new_ent3]+[new_ent4]+[new_ent5]+[new_ent6]+[new_ent7]+[new_ent8]+[new_ent9]"
   ]
  },
  {
   "cell_type": "code",
   "execution_count": 34,
   "metadata": {},
   "outputs": [
    {
     "name": "stdout",
     "output_type": "stream",
     "text": [
      "abdomen - ORGAN\n",
      "neck - ORGAN\n",
      "wings - ORGAN\n",
      "arms - ORGAN\n",
      "legs - ORGAN\n",
      "antennae - ORGAN\n",
      "wings - ORGAN\n",
      "XICALPAPALOTL - ORG\n",
      "XICALTECONPAPALOTL - ORG\n",
      "XICALTECON - PERSON\n",
      "xicalli - PERSON\n",
      "TLILPAPALOTL - PERSON\n",
      "wings - ORGAN\n",
      "TLECOCOZPAPALOTL - ORG\n",
      "quappachpapalotl - PERSON\n",
      "lts - PERSON\n",
      "IZTAC PAPALOTL\n",
      " - PRODUCT\n",
      "CHIAN PAPALOTL - PRODUCT\n",
      "wings - ORGAN\n",
      "TEXOPAPALOTL\n",
      " - LAW\n",
      "XOCHIPAPALOTL - PERSON\n",
      "UAPPAPALOTL - PERSON\n",
      "wings - ORGAN\n"
     ]
    }
   ],
   "source": [
    "show_ents(doc)"
   ]
  },
  {
   "cell_type": "code",
   "execution_count": 41,
   "metadata": {},
   "outputs": [],
   "source": [
    "colors = {'ORGAN': 'purple'}\n",
    "options = {'ents': ['ORGAN'], 'colors': colors}"
   ]
  },
  {
   "cell_type": "code",
   "execution_count": 42,
   "metadata": {},
   "outputs": [
    {
     "data": {
      "text/html": [
       "<span class=\"tex2jax_ignore\"><div class=\"entities\" style=\"line-height: 2.5; direction: ltr\">BUTTERFLY</br>Whatever the kind of butterfly, it is long and straight, the \n",
       "<mark class=\"entity\" style=\"background: purple; padding: 0.45em 0.6em; margin: 0 0.25em; line-height: 1; border-radius: 0.35em;\">\n",
       "    abdomen\n",
       "    <span style=\"font-size: 0.8em; font-weight: bold; line-height: 1; border-radius: 0.35em; text-transform: uppercase; vertical-align: middle; margin-left: 0.5rem\">ORGAN</span>\n",
       "</mark>\n",
       " is slender, the \n",
       "<mark class=\"entity\" style=\"background: purple; padding: 0.45em 0.6em; margin: 0 0.25em; line-height: 1; border-radius: 0.35em;\">\n",
       "    neck\n",
       "    <span style=\"font-size: 0.8em; font-weight: bold; line-height: 1; border-radius: 0.35em; text-transform: uppercase; vertical-align: middle; margin-left: 0.5rem\">ORGAN</span>\n",
       "</mark>\n",
       " is constricted. lt is fuzzy, like fat; winged. Its \n",
       "<mark class=\"entity\" style=\"background: purple; padding: 0.45em 0.6em; margin: 0 0.25em; line-height: 1; border-radius: 0.35em;\">\n",
       "    wings\n",
       "    <span style=\"font-size: 0.8em; font-weight: bold; line-height: 1; border-radius: 0.35em; text-transform: uppercase; vertical-align: middle; margin-left: 0.5rem\">ORGAN</span>\n",
       "</mark>\n",
       " are twofold. It has \n",
       "<mark class=\"entity\" style=\"background: purple; padding: 0.45em 0.6em; margin: 0 0.25em; line-height: 1; border-radius: 0.35em;\">\n",
       "    arms\n",
       "    <span style=\"font-size: 0.8em; font-weight: bold; line-height: 1; border-radius: 0.35em; text-transform: uppercase; vertical-align: middle; margin-left: 0.5rem\">ORGAN</span>\n",
       "</mark>\n",
       ", it has \n",
       "<mark class=\"entity\" style=\"background: purple; padding: 0.45em 0.6em; margin: 0 0.25em; line-height: 1; border-radius: 0.35em;\">\n",
       "    legs\n",
       "    <span style=\"font-size: 0.8em; font-weight: bold; line-height: 1; border-radius: 0.35em; text-transform: uppercase; vertical-align: middle; margin-left: 0.5rem\">ORGAN</span>\n",
       "</mark>\n",
       ", it has \n",
       "<mark class=\"entity\" style=\"background: purple; padding: 0.45em 0.6em; margin: 0 0.25em; line-height: 1; border-radius: 0.35em;\">\n",
       "    antennae\n",
       "    <span style=\"font-size: 0.8em; font-weight: bold; line-height: 1; border-radius: 0.35em; text-transform: uppercase; vertical-align: middle; margin-left: 0.5rem\">ORGAN</span>\n",
       "</mark>\n",
       ". lt is a flyer, a constant flyer, a flutterer, a sucker of the different flowers, and a sucker of liquid. It is fuzzy. It trembles, it beats its \n",
       "<mark class=\"entity\" style=\"background: purple; padding: 0.45em 0.6em; margin: 0 0.25em; line-height: 1; border-radius: 0.35em;\">\n",
       "    wings\n",
       "    <span style=\"font-size: 0.8em; font-weight: bold; line-height: 1; border-radius: 0.35em; text-transform: uppercase; vertical-align: middle; margin-left: 0.5rem\">ORGAN</span>\n",
       "</mark>\n",
       " together, it constantly flies. It sucks, it sucks liquid. It is not solid. There are many kinds of butterflies.</br></br>XICALPAPALOTL OR XICALTECONPAPALOTL. OR XICALTECON</br>It is somewhat large. Its name comes from xicalli [gourd bowl] and papalotl [butterfly ], because it is yellow, it is quite yellow, it is fuzzy . And it is painted with black; it is varicolored. So it is very beautiful, coveted, desirable, constantly desirable, constantly required. It is fragile. It yellows, it becomcs painted, it becomes varicolored. It breeds, it becomes firm, it develops; it flies constantly.</br></br>TLILPAPALOTL</br>It is similar to - also just the same as - the xicalpapalotl, but black flecked with white. Thus its \n",
       "<mark class=\"entity\" style=\"background: purple; padding: 0.45em 0.6em; margin: 0 0.25em; line-height: 1; border-radius: 0.35em;\">\n",
       "    wings\n",
       "    <span style=\"font-size: 0.8em; font-weight: bold; line-height: 1; border-radius: 0.35em; text-transform: uppercase; vertical-align: middle; margin-left: 0.5rem\">ORGAN</span>\n",
       "</mark>\n",
       " are varicolored.</br></br>TLECOCOZPAPALOTL</br>Its name is also quappachpapalotl. It is called &quot;fireyellow&quot; because it glows, it glistens a little. lts body is a little fiery, but it is smoky, tawny. It glows, glistens, glistens constantly. It is tawny, smoky, smoky yellow. It becomes smoky yellow; it turns smoky yellow.</br></br>IZTAC PAPALOTL\n",
       "Some are a little large, some average, some quite small. They are not really white, only as whitish, only as pale as they are yellow.</br></br>CHIAN PAPALOTL.</br>It is somewhat similar to the xicalpapalotl, because it is painted as if sprinkled with chia, flecked everywhere on its body; and its \n",
       "<mark class=\"entity\" style=\"background: purple; padding: 0.45em 0.6em; margin: 0 0.25em; line-height: 1; border-radius: 0.35em;\">\n",
       "    wings\n",
       "    <span style=\"font-size: 0.8em; font-weight: bold; line-height: 1; border-radius: 0.35em; text-transform: uppercase; vertical-align: middle; margin-left: 0.5rem\">ORGAN</span>\n",
       "</mark>\n",
       " are painted, painted with a chia design.</br></br>TEXOPAPALOTL\n",
       "Some are large, some tiny; they are not uniform. Its name comes from texotli [light blue]. But it is not really a blue; it is just so rather pale, just so pallid,</br>just so yellow as to be livid. It is just a light blue hue. It takes on a light blue hue; it becomes blue-brown.</br></br>XOCHIPAPALOTL</br>Some are large, some small. Many kinds of colors are on them, that they are varicolored, much like flowers, of very intricate design, and truly sought after truly wonderful. They are o intricate design, sought after, flower-like.</br></br>UAPPAPALOTL</br>It is of average size; its \n",
       "<mark class=\"entity\" style=\"background: purple; padding: 0.45em 0.6em; margin: 0 0.25em; line-height: 1; border-radius: 0.35em;\">\n",
       "    wings\n",
       "    <span style=\"font-size: 0.8em; font-weight: bold; line-height: 1; border-radius: 0.35em; text-transform: uppercase; vertical-align: middle; margin-left: 0.5rem\">ORGAN</span>\n",
       "</mark>\n",
       " are painted chili-red. It is also beautiful, also wonderful. Amaranth leaves or foliage are also called uappapalotl when the amaranth leaves already become mature, ripe. Then they are named uappapalotl, because they become yellow or chili-red.</div></span>"
      ],
      "text/plain": [
       "<IPython.core.display.HTML object>"
      ]
     },
     "metadata": {},
     "output_type": "display_data"
    }
   ],
   "source": [
    "displacy.render(doc, style='ent', options=options)"
   ]
  },
  {
   "cell_type": "code",
   "execution_count": 44,
   "metadata": {},
   "outputs": [
    {
     "data": {
      "text/plain": [
       "'C:\\\\Users\\\\User'"
      ]
     },
     "execution_count": 44,
     "metadata": {},
     "output_type": "execute_result"
    }
   ],
   "source": [
    "pwd"
   ]
  },
  {
   "cell_type": "code",
   "execution_count": null,
   "metadata": {},
   "outputs": [],
   "source": []
  },
  {
   "cell_type": "code",
   "execution_count": null,
   "metadata": {},
   "outputs": [],
   "source": []
  },
  {
   "cell_type": "code",
   "execution_count": null,
   "metadata": {},
   "outputs": [],
   "source": []
  },
  {
   "cell_type": "code",
   "execution_count": null,
   "metadata": {},
   "outputs": [],
   "source": []
  },
  {
   "cell_type": "code",
   "execution_count": null,
   "metadata": {},
   "outputs": [],
   "source": []
  }
 ],
 "metadata": {
  "kernelspec": {
   "display_name": "Python 3",
   "language": "python",
   "name": "python3"
  },
  "language_info": {
   "codemirror_mode": {
    "name": "ipython",
    "version": 3
   },
   "file_extension": ".py",
   "mimetype": "text/x-python",
   "name": "python",
   "nbconvert_exporter": "python",
   "pygments_lexer": "ipython3",
   "version": "3.7.1"
  }
 },
 "nbformat": 4,
 "nbformat_minor": 2
}
