{
 "cells": [
  {
   "cell_type": "markdown",
   "metadata": {},
   "source": [
    "## \"Nurse hate thread\" - The pandemic's female Other "
   ]
  },
  {
   "cell_type": "markdown",
   "metadata": {},
   "source": [
    "### Creating DataFrame"
   ]
  },
  {
   "cell_type": "code",
   "execution_count": 1,
   "metadata": {},
   "outputs": [],
   "source": [
    "from scrape_resultat import nurse_text\n",
    "import numpy as np"
   ]
  },
  {
   "cell_type": "code",
   "execution_count": 2,
   "metadata": {},
   "outputs": [],
   "source": [
    "import pandas as pd\n",
    "import re "
   ]
  },
  {
   "cell_type": "code",
   "execution_count": 3,
   "metadata": {},
   "outputs": [],
   "source": [
    "df = pd.DataFrame(nurse_text) "
   ]
  },
  {
   "cell_type": "code",
   "execution_count": 4,
   "metadata": {},
   "outputs": [],
   "source": [
    "# creating dataframe from list\n",
    "lst_col = 'comments'\n",
    "\n",
    "alle = pd.DataFrame({\n",
    "      col:np.repeat(df[col].values, df[lst_col].str.len())\n",
    "      for col in df.columns.drop(lst_col)}\n",
    "    ).assign(**{lst_col:np.concatenate(df[lst_col].values)})[df.columns]"
   ]
  },
  {
   "cell_type": "code",
   "execution_count": 5,
   "metadata": {},
   "outputs": [],
   "source": [
    "alle['number'] = alle[\"comments\"].str.extract(\"(\\d{9})\", expand=False)"
   ]
  },
  {
   "cell_type": "code",
   "execution_count": 18,
   "metadata": {},
   "outputs": [],
   "source": [
    "alle['comments'] = [re.sub('(>{0,2}\\d{9}>{0,2})', ' ', i) for i in alle.comments]"
   ]
  },
  {
   "cell_type": "code",
   "execution_count": 19,
   "metadata": {},
   "outputs": [],
   "source": [
    "alle['comments'] = [i.replace('∖n ', ' ').replace('∖n', ' ') for i in alle.comments]"
   ]
  },
  {
   "cell_type": "code",
   "execution_count": 22,
   "metadata": {},
   "outputs": [
    {
     "data": {
      "text/html": [
       "<div>\n",
       "<style scoped>\n",
       "    .dataframe tbody tr th:only-of-type {\n",
       "        vertical-align: middle;\n",
       "    }\n",
       "\n",
       "    .dataframe tbody tr th {\n",
       "        vertical-align: top;\n",
       "    }\n",
       "\n",
       "    .dataframe thead th {\n",
       "        text-align: right;\n",
       "    }\n",
       "</style>\n",
       "<table border=\"1\" class=\"dataframe\">\n",
       "  <thead>\n",
       "    <tr style=\"text-align: right;\">\n",
       "      <th></th>\n",
       "      <th>title</th>\n",
       "      <th>comments</th>\n",
       "      <th>number</th>\n",
       "    </tr>\n",
       "  </thead>\n",
       "  <tbody>\n",
       "    <tr>\n",
       "      <th>0</th>\n",
       "      <td>NURSE HEROS</td>\n",
       "      <td>\\n                    Did everyone just sudden...</td>\n",
       "      <td>NaN</td>\n",
       "    </tr>\n",
       "    <tr>\n",
       "      <th>1</th>\n",
       "      <td>* QUESTION * Do you agree with this nurse, to ...</td>\n",
       "      <td>\\n                    /pol/ : do you agree wit...</td>\n",
       "      <td>NaN</td>\n",
       "    </tr>\n",
       "    <tr>\n",
       "      <th>2</th>\n",
       "      <td>* QUESTION * Do you agree with this nurse, to ...</td>\n",
       "      <td>why does she dislike the white areas of Georg...</td>\n",
       "      <td>NaN</td>\n",
       "    </tr>\n",
       "    <tr>\n",
       "      <th>3</th>\n",
       "      <td>* QUESTION * Do you agree with this nurse, to ...</td>\n",
       "      <td>As a Nurse, shouldn't she be trying to provid...</td>\n",
       "      <td>NaN</td>\n",
       "    </tr>\n",
       "    <tr>\n",
       "      <th>4</th>\n",
       "      <td>* QUESTION * Do you agree with this nurse, to ...</td>\n",
       "      <td>Summa Cum Laude and she still can't speak pro...</td>\n",
       "      <td>NaN</td>\n",
       "    </tr>\n",
       "    <tr>\n",
       "      <th>5</th>\n",
       "      <td>* QUESTION * Do you agree with this nurse, to ...</td>\n",
       "      <td>makes ya think why they don't and only do it...</td>\n",
       "      <td>259578216</td>\n",
       "    </tr>\n",
       "    <tr>\n",
       "      <th>6</th>\n",
       "      <td>* QUESTION * Do you agree with this nurse, to ...</td>\n",
       "      <td>Shes a nigger psycho, she has a mindless imp...</td>\n",
       "      <td>259578345</td>\n",
       "    </tr>\n",
       "    <tr>\n",
       "      <th>7</th>\n",
       "      <td>* QUESTION * Do you agree with this nurse, to ...</td>\n",
       "      <td>It can’t even form a complete sentence. It c...</td>\n",
       "      <td>259578216</td>\n",
       "    </tr>\n",
       "    <tr>\n",
       "      <th>8</th>\n",
       "      <td>* QUESTION * Do you agree with this nurse, to ...</td>\n",
       "      <td>it's latin, retard</td>\n",
       "      <td>259578613</td>\n",
       "    </tr>\n",
       "    <tr>\n",
       "      <th>9</th>\n",
       "      <td>* QUESTION * Do you agree with this nurse, to ...</td>\n",
       "      <td>lol hate to brake it to ya honey but sav and...</td>\n",
       "      <td>259578216</td>\n",
       "    </tr>\n",
       "  </tbody>\n",
       "</table>\n",
       "</div>"
      ],
      "text/plain": [
       "                                               title  \\\n",
       "0                                        NURSE HEROS   \n",
       "1  * QUESTION * Do you agree with this nurse, to ...   \n",
       "2  * QUESTION * Do you agree with this nurse, to ...   \n",
       "3  * QUESTION * Do you agree with this nurse, to ...   \n",
       "4  * QUESTION * Do you agree with this nurse, to ...   \n",
       "5  * QUESTION * Do you agree with this nurse, to ...   \n",
       "6  * QUESTION * Do you agree with this nurse, to ...   \n",
       "7  * QUESTION * Do you agree with this nurse, to ...   \n",
       "8  * QUESTION * Do you agree with this nurse, to ...   \n",
       "9  * QUESTION * Do you agree with this nurse, to ...   \n",
       "\n",
       "                                            comments     number  \n",
       "0  \\n                    Did everyone just sudden...        NaN  \n",
       "1  \\n                    /pol/ : do you agree wit...        NaN  \n",
       "2   why does she dislike the white areas of Georg...        NaN  \n",
       "3   As a Nurse, shouldn't she be trying to provid...        NaN  \n",
       "4   Summa Cum Laude and she still can't speak pro...        NaN  \n",
       "5    makes ya think why they don't and only do it...  259578216  \n",
       "6    Shes a nigger psycho, she has a mindless imp...  259578345  \n",
       "7    It can’t even form a complete sentence. It c...  259578216  \n",
       "8                                it's latin, retard   259578613  \n",
       "9    lol hate to brake it to ya honey but sav and...  259578216  "
      ]
     },
     "execution_count": 22,
     "metadata": {},
     "output_type": "execute_result"
    }
   ],
   "source": [
    "alle[:10]"
   ]
  },
  {
   "cell_type": "markdown",
   "metadata": {},
   "source": [
    "### Sentences with SpaCy"
   ]
  },
  {
   "cell_type": "code",
   "execution_count": 9,
   "metadata": {},
   "outputs": [],
   "source": [
    "import spacy"
   ]
  },
  {
   "cell_type": "code",
   "execution_count": 10,
   "metadata": {},
   "outputs": [],
   "source": [
    "nlp = spacy.load('en_core_web_sm')"
   ]
  },
  {
   "cell_type": "code",
   "execution_count": 14,
   "metadata": {},
   "outputs": [],
   "source": [
    "nurse = nlp(alle ['comments'][0])"
   ]
  },
  {
   "cell_type": "code",
   "execution_count": 16,
   "metadata": {},
   "outputs": [],
   "source": [
    "doc = nurse"
   ]
  },
  {
   "cell_type": "code",
   "execution_count": 17,
   "metadata": {},
   "outputs": [
    {
     "name": "stdout",
     "output_type": "stream",
     "text": [
      "\n",
      "                     SPACE  \n",
      "                    \n",
      "Did AUX aux do\n",
      "everyone PRON nsubj everyone\n",
      "just ADV advmod just\n",
      "suddenly ADV advmod suddenly\n",
      "forget VERB ROOT forget\n",
      "there ADV advmod there\n",
      "Nurse PROPN compound Nurse\n",
      "Superheros PROPN npadvmod Superheros\n",
      "? PUNCT punct ?\n",
      "It PRON nsubj -PRON-\n",
      "'s AUX ROOT be\n",
      "really ADV advmod really\n",
      "hilarious ADJ acomp hilarious\n",
      "how ADV advmod how\n",
      "fast ADV advmod fast\n",
      "the DET det the\n",
      "media NOUN nsubj media\n",
      "moves NOUN ccomp move\n",
      ". PUNCT punct .\n",
      "\n",
      "\n",
      " SPACE  \n",
      "\n",
      "\n",
      "2 NUM nummod 2\n",
      "- SYM punct -\n",
      "3 NUM nummod 3\n",
      "weeks NOUN npadvmod week\n",
      "ago ADV advmod ago\n",
      "all DET nsubj all\n",
      "I PRON nsubj -PRON-\n",
      "saw VERB relcl see\n",
      "was AUX ROOT be\n",
      "FB NOUN compound fb\n",
      "posts NOUN attr post\n",
      "about ADP prep about\n",
      "our DET poss -PRON-\n",
      "essential ADJ amod essential\n",
      "worker NOUN pobj worker\n",
      "\" PUNCT punct \"\n",
      "heros PROPN appos heros\n",
      "\" PUNCT punct \"\n",
      ". PUNCT punct .\n",
      "Now ADV advmod now\n",
      "its DET poss -PRON-\n",
      "all DET advmod all\n",
      "about ADP ROOT about\n",
      "Fent PROPN compound Fent\n",
      "Floyd PROPN pobj Floyd\n",
      "and CCONJ cc and\n",
      "BLM PROPN conj BLM\n",
      ". PUNCT punct .\n",
      "                SPACE                 \n"
     ]
    }
   ],
   "source": [
    "for token in doc:\n",
    "    print(token, token.pos_, token.dep_, token.lemma_)"
   ]
  },
  {
   "cell_type": "code",
   "execution_count": null,
   "metadata": {},
   "outputs": [],
   "source": []
  }
 ],
 "metadata": {
  "kernelspec": {
   "display_name": "Python 3",
   "language": "python",
   "name": "python3"
  },
  "language_info": {
   "codemirror_mode": {
    "name": "ipython",
    "version": 3
   },
   "file_extension": ".py",
   "mimetype": "text/x-python",
   "name": "python",
   "nbconvert_exporter": "python",
   "pygments_lexer": "ipython3",
   "version": "3.7.6"
  }
 },
 "nbformat": 4,
 "nbformat_minor": 4
}
