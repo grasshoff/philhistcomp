{
 "cells": [
  {
   "cell_type": "markdown",
   "metadata": {},
   "source": [
    "# The female non-heroes in online \"nurse hate threads\""
   ]
  },
  {
   "cell_type": "markdown",
   "metadata": {},
   "source": [
    "## Research question\n",
    "Which attributes are used to define female nurses negatively as non-heroes in the discourse on /pol/ (4chan.org)?"
   ]
  },
  {
   "cell_type": "markdown",
   "metadata": {},
   "source": [
    "## 1. Creating DataFrame"
   ]
  },
  {
   "cell_type": "code",
   "execution_count": 1,
   "metadata": {},
   "outputs": [],
   "source": [
    "from scrape_resultat import nurse_text\n",
    "import numpy as np"
   ]
  },
  {
   "cell_type": "code",
   "execution_count": 2,
   "metadata": {},
   "outputs": [],
   "source": [
    "import pandas as pd\n",
    "import re "
   ]
  },
  {
   "cell_type": "code",
   "execution_count": 3,
   "metadata": {},
   "outputs": [
    {
     "data": {
      "text/plain": [
       "116"
      ]
     },
     "execution_count": 3,
     "metadata": {},
     "output_type": "execute_result"
    }
   ],
   "source": [
    "df = pd.DataFrame(nurse_text) \n",
    "len(df)"
   ]
  },
  {
   "cell_type": "code",
   "execution_count": 4,
   "metadata": {},
   "outputs": [
    {
     "data": {
      "text/html": [
       "<div>\n",
       "<style scoped>\n",
       "    .dataframe tbody tr th:only-of-type {\n",
       "        vertical-align: middle;\n",
       "    }\n",
       "\n",
       "    .dataframe tbody tr th {\n",
       "        vertical-align: top;\n",
       "    }\n",
       "\n",
       "    .dataframe thead th {\n",
       "        text-align: right;\n",
       "    }\n",
       "</style>\n",
       "<table border=\"1\" class=\"dataframe\">\n",
       "  <thead>\n",
       "    <tr style=\"text-align: right;\">\n",
       "      <th></th>\n",
       "      <th>title</th>\n",
       "      <th>comments</th>\n",
       "    </tr>\n",
       "  </thead>\n",
       "  <tbody>\n",
       "    <tr>\n",
       "      <th>0</th>\n",
       "      <td>NURSE HEROS</td>\n",
       "      <td>[\\n                    Did everyone just sudde...</td>\n",
       "    </tr>\n",
       "    <tr>\n",
       "      <th>1</th>\n",
       "      <td>* QUESTION * Do you agree with this nurse, to ...</td>\n",
       "      <td>[\\n                    /pol/ : do you agree wi...</td>\n",
       "    </tr>\n",
       "    <tr>\n",
       "      <th>2</th>\n",
       "      <td>White American Nurse Kills 89 patients in Hosp...</td>\n",
       "      <td>[\\nhttps://www.bbc.com/news/world-europe-48539...</td>\n",
       "    </tr>\n",
       "    <tr>\n",
       "      <th>3</th>\n",
       "      <td>Why does this NY nurse have an Irish accent &amp; ...</td>\n",
       "      <td>[\\nhttps://youtu.be/EsqdBz-_noQ?t=229 ,  &gt;&gt;258...</td>\n",
       "    </tr>\n",
       "    <tr>\n",
       "      <th>4</th>\n",
       "      <td>Nurse/Healthcare worker hate thread</td>\n",
       "      <td>[\\n                    IM SUPPOSED TO BE THE S...</td>\n",
       "    </tr>\n",
       "    <tr>\n",
       "      <th>...</th>\n",
       "      <td>...</td>\n",
       "      <td>...</td>\n",
       "    </tr>\n",
       "    <tr>\n",
       "      <th>111</th>\n",
       "      <td>How a Wuhan nurse recovered from the coronavir...</td>\n",
       "      <td>[\\n&gt;recovered from the coronavirus\\n&gt;still wea...</td>\n",
       "    </tr>\n",
       "    <tr>\n",
       "      <th>112</th>\n",
       "      <td>Yo my names Laquanta. I'll be your nurse for t...</td>\n",
       "      <td>[\\n&gt;You let me know if you need anythang\\n\\n\\n...</td>\n",
       "    </tr>\n",
       "    <tr>\n",
       "      <th>113</th>\n",
       "      <td>The Nurse Pill - #PumpANurse</td>\n",
       "      <td>[\\n                    Most women whom work at...</td>\n",
       "    </tr>\n",
       "    <tr>\n",
       "      <th>114</th>\n",
       "      <td>90K INFECTED EXPOSED BY NURSE</td>\n",
       "      <td>[\\n                    CHINESE GOVERNMENT LIED...</td>\n",
       "    </tr>\n",
       "    <tr>\n",
       "      <th>115</th>\n",
       "      <td>Nurse in Wuhan states around 90,000 people are...</td>\n",
       "      <td>[\\nhttps://www.youtube.com/watch?v=yQflXs0jZ9w...</td>\n",
       "    </tr>\n",
       "  </tbody>\n",
       "</table>\n",
       "<p>116 rows × 2 columns</p>\n",
       "</div>"
      ],
      "text/plain": [
       "                                                 title  \\\n",
       "0                                          NURSE HEROS   \n",
       "1    * QUESTION * Do you agree with this nurse, to ...   \n",
       "2    White American Nurse Kills 89 patients in Hosp...   \n",
       "3    Why does this NY nurse have an Irish accent & ...   \n",
       "4                  Nurse/Healthcare worker hate thread   \n",
       "..                                                 ...   \n",
       "111  How a Wuhan nurse recovered from the coronavir...   \n",
       "112  Yo my names Laquanta. I'll be your nurse for t...   \n",
       "113                       The Nurse Pill - #PumpANurse   \n",
       "114                      90K INFECTED EXPOSED BY NURSE   \n",
       "115  Nurse in Wuhan states around 90,000 people are...   \n",
       "\n",
       "                                              comments  \n",
       "0    [\\n                    Did everyone just sudde...  \n",
       "1    [\\n                    /pol/ : do you agree wi...  \n",
       "2    [\\nhttps://www.bbc.com/news/world-europe-48539...  \n",
       "3    [\\nhttps://youtu.be/EsqdBz-_noQ?t=229 ,  >>258...  \n",
       "4    [\\n                    IM SUPPOSED TO BE THE S...  \n",
       "..                                                 ...  \n",
       "111  [\\n>recovered from the coronavirus\\n>still wea...  \n",
       "112  [\\n>You let me know if you need anythang\\n\\n\\n...  \n",
       "113  [\\n                    Most women whom work at...  \n",
       "114  [\\n                    CHINESE GOVERNMENT LIED...  \n",
       "115  [\\nhttps://www.youtube.com/watch?v=yQflXs0jZ9w...  \n",
       "\n",
       "[116 rows x 2 columns]"
      ]
     },
     "execution_count": 4,
     "metadata": {},
     "output_type": "execute_result"
    }
   ],
   "source": [
    "df.head(200)"
   ]
  },
  {
   "cell_type": "code",
   "execution_count": 5,
   "metadata": {},
   "outputs": [],
   "source": [
    "def cleancomment(x):\n",
    "    l=x[0].strip()\n",
    "    a1=re.sub(r\"\\n \",\" \",l)\n",
    "    a2=re.sub(r\"\\n\",\" \",a1)\n",
    "    a3=re.sub('(>{0,2}\\d{9}>{0,2})', ' ', a2)\n",
    "    return(a3)"
   ]
  },
  {
   "cell_type": "code",
   "execution_count": 6,
   "metadata": {},
   "outputs": [],
   "source": [
    "df[\"clean\"]=df[\"comments\"].apply(cleancomment)"
   ]
  },
  {
   "cell_type": "code",
   "execution_count": 7,
   "metadata": {},
   "outputs": [
    {
     "data": {
      "text/html": [
       "<div>\n",
       "<style scoped>\n",
       "    .dataframe tbody tr th:only-of-type {\n",
       "        vertical-align: middle;\n",
       "    }\n",
       "\n",
       "    .dataframe tbody tr th {\n",
       "        vertical-align: top;\n",
       "    }\n",
       "\n",
       "    .dataframe thead th {\n",
       "        text-align: right;\n",
       "    }\n",
       "</style>\n",
       "<table border=\"1\" class=\"dataframe\">\n",
       "  <thead>\n",
       "    <tr style=\"text-align: right;\">\n",
       "      <th></th>\n",
       "      <th>title</th>\n",
       "      <th>comments</th>\n",
       "      <th>clean</th>\n",
       "    </tr>\n",
       "  </thead>\n",
       "  <tbody>\n",
       "    <tr>\n",
       "      <th>0</th>\n",
       "      <td>NURSE HEROS</td>\n",
       "      <td>[\\n                    Did everyone just sudde...</td>\n",
       "      <td>Did everyone just suddenly forget there Nurse ...</td>\n",
       "    </tr>\n",
       "    <tr>\n",
       "      <th>1</th>\n",
       "      <td>* QUESTION * Do you agree with this nurse, to ...</td>\n",
       "      <td>[\\n                    /pol/ : do you agree wi...</td>\n",
       "      <td>/pol/ : do you agree with this Nurse ?? should...</td>\n",
       "    </tr>\n",
       "    <tr>\n",
       "      <th>2</th>\n",
       "      <td>White American Nurse Kills 89 patients in Hosp...</td>\n",
       "      <td>[\\nhttps://www.bbc.com/news/world-europe-48539...</td>\n",
       "      <td>https://www.bbc.com/news/world-europe-48539894</td>\n",
       "    </tr>\n",
       "  </tbody>\n",
       "</table>\n",
       "</div>"
      ],
      "text/plain": [
       "                                               title  \\\n",
       "0                                        NURSE HEROS   \n",
       "1  * QUESTION * Do you agree with this nurse, to ...   \n",
       "2  White American Nurse Kills 89 patients in Hosp...   \n",
       "\n",
       "                                            comments  \\\n",
       "0  [\\n                    Did everyone just sudde...   \n",
       "1  [\\n                    /pol/ : do you agree wi...   \n",
       "2  [\\nhttps://www.bbc.com/news/world-europe-48539...   \n",
       "\n",
       "                                               clean  \n",
       "0  Did everyone just suddenly forget there Nurse ...  \n",
       "1  /pol/ : do you agree with this Nurse ?? should...  \n",
       "2     https://www.bbc.com/news/world-europe-48539894  "
      ]
     },
     "execution_count": 7,
     "metadata": {},
     "output_type": "execute_result"
    }
   ],
   "source": [
    "df.head(3)"
   ]
  },
  {
   "cell_type": "markdown",
   "metadata": {},
   "source": [
    "## 2. Preparing NLP"
   ]
  },
  {
   "cell_type": "code",
   "execution_count": 8,
   "metadata": {},
   "outputs": [],
   "source": [
    "import spacy"
   ]
  },
  {
   "cell_type": "code",
   "execution_count": 9,
   "metadata": {},
   "outputs": [],
   "source": [
    "nlp = spacy.load(\"en_core_web_sm\")"
   ]
  },
  {
   "cell_type": "code",
   "execution_count": 10,
   "metadata": {},
   "outputs": [
    {
     "data": {
      "text/plain": [
       "21                                                      \n",
       "36     Not all superheroes wear capes.......but I sti...\n",
       "103    \"BROOKLYN, NY - - A 94 year old World War II v...\n",
       "98     Coronavirus: 'Fit and healthy' nurse, 36, figh...\n",
       "86     https://www.dailymail.co.uk/news/article-81785...\n",
       "63     https://www.is.fi/ulkomaat/art- 6032.html  Bri...\n",
       "27     an actual hero blowing the whistle:   https://...\n",
       "66                                                      \n",
       "64                     Heroes. Every single one of them.\n",
       "49     <iframe width=\"560\" height=\"315\" src=\"https://...\n",
       "94                                                      \n",
       "48                                  I feed you.  /thread\n",
       "Name: clean, dtype: object"
      ]
     },
     "execution_count": 10,
     "metadata": {},
     "output_type": "execute_result"
    }
   ],
   "source": [
    "dfsample=df[\"clean\"].sample(frac=0.1)\n",
    "dfsample"
   ]
  },
  {
   "cell_type": "markdown",
   "metadata": {},
   "source": [
    "### Ten representative examples"
   ]
  },
  {
   "cell_type": "code",
   "execution_count": 11,
   "metadata": {},
   "outputs": [
    {
     "data": {
      "text/plain": [
       "'why are men the only ones willing to die for their nation?  now she will ethot for 100k a year...   https://twitter.com/CBSNews/status/  3'"
      ]
     },
     "execution_count": 11,
     "metadata": {},
     "output_type": "execute_result"
    }
   ],
   "source": [
    "post87=df[\"clean\"].iloc[87]\n",
    "post87"
   ]
  },
  {
   "cell_type": "code",
   "execution_count": 12,
   "metadata": {},
   "outputs": [
    {
     "data": {
      "text/plain": [
       "\"ok /pol/, let's talk nurses.  This is a collection of women and faggots who weren't smart enough to become doctors and now suddenly are national heroes. A piece of shit out of my asshole could become a nurse.  fucking retards\""
      ]
     },
     "execution_count": 12,
     "metadata": {},
     "output_type": "execute_result"
    }
   ],
   "source": [
    "# exemB\n",
    "post23=df[\"clean\"].iloc[23]\n",
    "post23"
   ]
  },
  {
   "cell_type": "code",
   "execution_count": 13,
   "metadata": {},
   "outputs": [
    {
     "data": {
      "text/plain": [
       "\"AAHAHAHAHHAHAHA  Let's be clear, all nurses as a class deserve severe punishment for being shameless tik tok dancers, but this is a good start. https://www.dailydot.com/irl/tiktok-jeanette-mckenna-death/ >Jeanette McKenna, 53, passed away from what her co-workers suspect to be the coronavirus. She was recently seen dancing with a 102-year-old patient on TikTok.  If you are a nurse you are a piece of shit.\""
      ]
     },
     "execution_count": 13,
     "metadata": {},
     "output_type": "execute_result"
    }
   ],
   "source": [
    "# exemC\n",
    "post10=df[\"clean\"].iloc[10]\n",
    "post10"
   ]
  },
  {
   "cell_type": "code",
   "execution_count": 14,
   "metadata": {},
   "outputs": [
    {
     "data": {
      "text/plain": [
       "'How do we solve the nurse problem?'"
      ]
     },
     "execution_count": 14,
     "metadata": {},
     "output_type": "execute_result"
    }
   ],
   "source": [
    "post20=df[\"clean\"].iloc[20]\n",
    "post20"
   ]
  },
  {
   "cell_type": "code",
   "execution_count": 15,
   "metadata": {},
   "outputs": [
    {
     "data": {
      "text/plain": [
       "'How do nurses have so much time to take selfies, tiktoks, and make huge posts while they apparently have \"hospitals overflowed\"?  There was already a few posts of people walking into ER and it being dead empty and its apparent they have time to make choreographed videos so what\\'s actually going on here?'"
      ]
     },
     "execution_count": 15,
     "metadata": {},
     "output_type": "execute_result"
    }
   ],
   "source": [
    "post71=df[\"clean\"].iloc[71]\n",
    "post71"
   ]
  },
  {
   "cell_type": "code",
   "execution_count": 16,
   "metadata": {},
   "outputs": [
    {
     "data": {
      "text/plain": [
       "'These stupid coal burning thots are dancing around while simultaneously wasting PPE and telling everyone to stay at home because the hospitals look like a war zone'"
      ]
     },
     "execution_count": 16,
     "metadata": {},
     "output_type": "execute_result"
    }
   ],
   "source": [
    "post61=df[\"clean\"].iloc[61]\n",
    "post61"
   ]
  },
  {
   "cell_type": "code",
   "execution_count": 17,
   "metadata": {},
   "outputs": [
    {
     "data": {
      "text/plain": [
       "'Was talking with my sister who is a career nurse. Very good at her job and dedicated to her craft.  We were talking about the nurse tiktok videos and how they negatively affect public perceptions of this whole situation and she should probably advise her staff to stop it or keep it private. I told her some people (meaning females) are too emotionally immature to handle praise and hero worship. She then had this to say.  Pic related'"
      ]
     },
     "execution_count": 17,
     "metadata": {},
     "output_type": "execute_result"
    }
   ],
   "source": [
    "# exemD\n",
    "post80=df[\"clean\"].iloc[80]\n",
    "post80"
   ]
  },
  {
   "cell_type": "code",
   "execution_count": 18,
   "metadata": {},
   "outputs": [
    {
     "data": {
      "text/plain": [
       "'CANT YOU SEE NURSES ARE OVERWORKED?!?!?!?! GIVE NURSES A PAY RAISE THEY ARE SUPERHEROES IN DISGUISE!!!!!!!!!!'"
      ]
     },
     "execution_count": 18,
     "metadata": {},
     "output_type": "execute_result"
    }
   ],
   "source": [
    "post55=df[\"clean\"].iloc[55]\n",
    "post55"
   ]
  },
  {
   "cell_type": "code",
   "execution_count": 19,
   "metadata": {},
   "outputs": [
    {
     "data": {
      "text/plain": [
       "\"Every other thread is some anti-nurse topic. Nurses are necessary, without them hospitals don't function. They do 90% of the work inpatients need and are a wealth of knowledge. If you've every been hospitalized for any length of time you already know this. Is it because /pol/ is filled with real life incels or is it Chinese shills?\""
      ]
     },
     "execution_count": 19,
     "metadata": {},
     "output_type": "execute_result"
    }
   ],
   "source": [
    "post72=df[\"clean\"].iloc[72]\n",
    "post72"
   ]
  },
  {
   "cell_type": "code",
   "execution_count": 20,
   "metadata": {},
   "outputs": [
    {
     "data": {
      "text/plain": [
       "'Most women whom work at hospitals with any job are feminen, nuturing, of decent intellect (for a woman) and lonely (to the point of suicide). Their genes are valuable european genes that we should replicate. We need to snatch nurses for our european loyalist gene pool and turn them in to stay at home mums for >4 children so that they dont work for the state, we collapse the welfare state, produce white babies and prevent the nurse from dealing with negroes and other abominations STDs and can opener accidents. #pumpanurse'"
      ]
     },
     "execution_count": 20,
     "metadata": {},
     "output_type": "execute_result"
    }
   ],
   "source": [
    "# exemA\n",
    "post113=df[\"clean\"].iloc[113]\n",
    "post113"
   ]
  },
  {
   "cell_type": "markdown",
   "metadata": {},
   "source": [
    "## 3. Example analysis"
   ]
  },
  {
   "cell_type": "code",
   "execution_count": 21,
   "metadata": {},
   "outputs": [],
   "source": [
    "from operator import itemgetter"
   ]
  },
  {
   "cell_type": "markdown",
   "metadata": {},
   "source": [
    "### **Thread A**: Sexualized gene pools"
   ]
  },
  {
   "cell_type": "code",
   "execution_count": 22,
   "metadata": {},
   "outputs": [
    {
     "data": {
      "text/plain": [
       "Most women whom work at hospitals with any job are feminen, nuturing, of decent intellect (for a woman) and lonely (to the point of suicide). Their genes are valuable european genes that we should replicate. We need to snatch nurses for our european loyalist gene pool and turn them in to stay at home mums for >4 children so that they dont work for the state, we collapse the welfare state, produce white babies and prevent the nurse from dealing with negroes and other abominations STDs and can opener accidents. #pumpanurse"
      ]
     },
     "execution_count": 22,
     "metadata": {},
     "output_type": "execute_result"
    }
   ],
   "source": [
    "post113=nlp(df[\"clean\"].iloc[113])\n",
    "post113"
   ]
  },
  {
   "cell_type": "code",
   "execution_count": 23,
   "metadata": {},
   "outputs": [
    {
     "name": "stdout",
     "output_type": "stream",
     "text": [
      " Sent. 0 = Most women whom work at hospitals with any job are feminen, nuturing, of decent intellect (for a woman) and lonely (to the point of suicide).\n",
      " Sent. 1 = Their genes are valuable european genes that we should replicate.\n",
      " Sent. 2 = We need to snatch nurses for our european loyalist gene pool and turn them in to stay at home mums for >4 children so that they dont work for the state, we collapse the welfare state, produce white babies and prevent the nurse from dealing with negroes and other abominations STDs and can opener accidents.\n",
      " Sent. 3 = #pumpanurse\n"
     ]
    }
   ],
   "source": [
    "for i,sent in enumerate(post113.sents):\n",
    "    print(f\" Sent. {i} = {sent}\") "
   ]
  },
  {
   "cell_type": "code",
   "execution_count": 24,
   "metadata": {},
   "outputs": [
    {
     "name": "stdout",
     "output_type": "stream",
     "text": [
      "We need to snatch nurses for our european loyalist gene pool and turn them in to stay at home mums for >4 children so that they dont work for the state, we collapse the welfare state, produce white babies and prevent the nurse from dealing with negroes and other abominations STDs and can opener accidents.\n"
     ]
    }
   ],
   "source": [
    "sentences=[s for s in post113.sents]\n",
    "s=sentences[2].text\n",
    "doca=nlp(s)\n",
    "print(doca)"
   ]
  },
  {
   "cell_type": "code",
   "execution_count": 25,
   "metadata": {},
   "outputs": [
    {
     "name": "stdout",
     "output_type": "stream",
     "text": [
      "Most women\n",
      "whom\n",
      "hospitals\n",
      "any job\n",
      "feminen\n",
      "decent intellect\n",
      "a woman\n",
      "the point\n",
      "suicide\n",
      "Their genes\n",
      "valuable european genes\n",
      "we\n",
      "We\n",
      "nurses\n",
      "our european loyalist gene pool\n",
      "them\n",
      "home mums\n",
      ">4 children\n",
      "they\n",
      "the state\n",
      "we\n",
      "the welfare state\n",
      "white babies\n",
      "the nurse\n",
      "negroes\n",
      "other abominations STDs\n",
      "accidents\n",
      "#pumpanurse\n"
     ]
    }
   ],
   "source": [
    "for chunk in post113.noun_chunks:\n",
    "    print (chunk)"
   ]
  },
  {
   "cell_type": "code",
   "execution_count": 26,
   "metadata": {},
   "outputs": [],
   "source": [
    "adjectives = []\n",
    "for token in post113:\n",
    "    if token.pos_ == \"ADJ\":\n",
    "            adjectives.append(token)"
   ]
  },
  {
   "cell_type": "code",
   "execution_count": 27,
   "metadata": {},
   "outputs": [
    {
     "data": {
      "text/plain": [
       "[Most, nuturing, decent, lonely, valuable, european, european, white, other]"
      ]
     },
     "execution_count": 27,
     "metadata": {},
     "output_type": "execute_result"
    }
   ],
   "source": [
    "adjectives"
   ]
  },
  {
   "cell_type": "markdown",
   "metadata": {},
   "source": [
    "#### Overview of comments in thread"
   ]
  },
  {
   "cell_type": "code",
   "execution_count": 28,
   "metadata": {},
   "outputs": [
    {
     "data": {
      "text/html": [
       "<div>\n",
       "<style scoped>\n",
       "    .dataframe tbody tr th:only-of-type {\n",
       "        vertical-align: middle;\n",
       "    }\n",
       "\n",
       "    .dataframe tbody tr th {\n",
       "        vertical-align: top;\n",
       "    }\n",
       "\n",
       "    .dataframe thead th {\n",
       "        text-align: right;\n",
       "    }\n",
       "</style>\n",
       "<table border=\"1\" class=\"dataframe\">\n",
       "  <thead>\n",
       "    <tr style=\"text-align: right;\">\n",
       "      <th></th>\n",
       "      <th>all comments</th>\n",
       "    </tr>\n",
       "  </thead>\n",
       "  <tbody>\n",
       "    <tr>\n",
       "      <th>0</th>\n",
       "      <td>\\n                    Most women whom work at ...</td>\n",
       "    </tr>\n",
       "    <tr>\n",
       "      <th>1</th>\n",
       "      <td>Kike..</td>\n",
       "    </tr>\n",
       "    <tr>\n",
       "      <th>2</th>\n",
       "      <td>&gt;&gt;241875495I can get behind this, just tone d...</td>\n",
       "    </tr>\n",
       "    <tr>\n",
       "      <th>3</th>\n",
       "      <td>&gt;&gt;241875495You cant turn a hoe into a housewi...</td>\n",
       "    </tr>\n",
       "    <tr>\n",
       "      <th>4</th>\n",
       "      <td>&gt;&gt;241875495&gt;feminen, nuturing, of decent inte...</td>\n",
       "    </tr>\n",
       "    <tr>\n",
       "      <th>5</th>\n",
       "      <td>Most nurses chain smoke disgusting cigarettes...</td>\n",
       "    </tr>\n",
       "    <tr>\n",
       "      <th>6</th>\n",
       "      <td>&gt;&gt;241875495&gt;femininenurses are some of the ro...</td>\n",
       "    </tr>\n",
       "    <tr>\n",
       "      <th>7</th>\n",
       "      <td>Are you fucking retarded?They are all emotion...</td>\n",
       "    </tr>\n",
       "    <tr>\n",
       "      <th>8</th>\n",
       "      <td>&gt;&gt;241875495I can get behind this classic fetish</td>\n",
       "    </tr>\n",
       "    <tr>\n",
       "      <th>9</th>\n",
       "      <td>&gt;&gt;241876088Good one, soft cock. I dont know w...</td>\n",
       "    </tr>\n",
       "    <tr>\n",
       "      <th>10</th>\n",
       "      <td>&gt;&gt;241875495I'm training to be a male nurse, m...</td>\n",
       "    </tr>\n",
       "    <tr>\n",
       "      <th>11</th>\n",
       "      <td>&gt;&gt;241875678schizophrenia? what made you think...</td>\n",
       "    </tr>\n",
       "    <tr>\n",
       "      <th>12</th>\n",
       "      <td>&gt;&gt;241875937Maybe in the USA. Over here they o...</td>\n",
       "    </tr>\n",
       "    <tr>\n",
       "      <th>13</th>\n",
       "      <td>they are all whores lusting for doctor cock. ...</td>\n",
       "    </tr>\n",
       "  </tbody>\n",
       "</table>\n",
       "</div>"
      ],
      "text/plain": [
       "                                         all comments\n",
       "0   \\n                    Most women whom work at ...\n",
       "1                                             Kike.. \n",
       "2    >>241875495I can get behind this, just tone d...\n",
       "3    >>241875495You cant turn a hoe into a housewi...\n",
       "4    >>241875495>feminen, nuturing, of decent inte...\n",
       "5    Most nurses chain smoke disgusting cigarettes...\n",
       "6    >>241875495>femininenurses are some of the ro...\n",
       "7    Are you fucking retarded?They are all emotion...\n",
       "8    >>241875495I can get behind this classic fetish \n",
       "9    >>241876088Good one, soft cock. I dont know w...\n",
       "10   >>241875495I'm training to be a male nurse, m...\n",
       "11   >>241875678schizophrenia? what made you think...\n",
       "12   >>241875937Maybe in the USA. Over here they o...\n",
       "13   they are all whores lusting for doctor cock. ..."
      ]
     },
     "execution_count": 28,
     "metadata": {},
     "output_type": "execute_result"
    }
   ],
   "source": [
    "all_comments = pd.DataFrame.from_dict(df[\"comments\"])\n",
    "post = itemgetter(113)(df[\"comments\"])\n",
    "df1 = pd.DataFrame.from_dict(post)\n",
    "df_comments_a = df1.rename(columns = {0: \"all comments\"})\n",
    "df_comments_a"
   ]
  },
  {
   "cell_type": "code",
   "execution_count": 64,
   "metadata": {},
   "outputs": [
    {
     "data": {
      "text/plain": [
       "all comments    Most women whom work at hospitals with any job...\n",
       "dtype: object"
      ]
     },
     "execution_count": 64,
     "metadata": {},
     "output_type": "execute_result"
    }
   ],
   "source": [
    "'''\n",
    "df_clean_a = df_comments_a.apply(cleancomment)\n",
    "df_clean_a\n",
    "'''"
   ]
  },
  {
   "cell_type": "code",
   "execution_count": 29,
   "metadata": {},
   "outputs": [],
   "source": [
    "df2 = df_comments_a.apply(lambda col: col.drop_duplicates().reset_index(drop=True))\n",
    "df[\"all comments\"] = df2[\"all comments\"]"
   ]
  },
  {
   "cell_type": "code",
   "execution_count": 30,
   "metadata": {},
   "outputs": [
    {
     "data": {
      "text/plain": [
       " >>241875495You cant turn a hoe into a housewife. "
      ]
     },
     "execution_count": 30,
     "metadata": {},
     "output_type": "execute_result"
    }
   ],
   "source": [
    "coma3 = nlp(df[\"all comments\"].iloc[3])\n",
    "coma3"
   ]
  },
  {
   "cell_type": "code",
   "execution_count": 31,
   "metadata": {},
   "outputs": [
    {
     "data": {
      "text/plain": [
       " Most nurses chain smoke disgusting cigarettes, are overweight, sleep deprived, on a crazy schedule, and lusting after doctor cock. 0/10 would never recommend "
      ]
     },
     "execution_count": 31,
     "metadata": {},
     "output_type": "execute_result"
    }
   ],
   "source": [
    "coma5 = nlp(df[\"all comments\"].iloc[5])\n",
    "coma5"
   ]
  },
  {
   "cell_type": "code",
   "execution_count": 32,
   "metadata": {},
   "outputs": [
    {
     "data": {
      "text/plain": [
       " >>241875495>femininenurses are some of the roughest, most aggressive women there are. they need to be>nurturinglel. nurses are bitches>decent intellectaverage at best. they have better work ethic than they have big brains>lonelynurses are way more likely to be sloots or be in relationships from my experiencesunless shit is turned on its head in australia, your premise is flase "
      ]
     },
     "execution_count": 32,
     "metadata": {},
     "output_type": "execute_result"
    }
   ],
   "source": [
    "coma6 = nlp(df[\"all comments\"].iloc[6])\n",
    "coma6"
   ]
  },
  {
   "cell_type": "code",
   "execution_count": 33,
   "metadata": {},
   "outputs": [
    {
     "data": {
      "text/plain": [
       " >>241875495I can get behind this classic fetish "
      ]
     },
     "execution_count": 33,
     "metadata": {},
     "output_type": "execute_result"
    }
   ],
   "source": [
    "comA8 = nlp(df[\"all comments\"].iloc[8])\n",
    "comA8"
   ]
  },
  {
   "cell_type": "code",
   "execution_count": 34,
   "metadata": {},
   "outputs": [
    {
     "data": {
      "text/plain": [
       " Are you fucking retarded?They are all emotional wrecks from the suffering they see all day long over decades. "
      ]
     },
     "execution_count": 34,
     "metadata": {},
     "output_type": "execute_result"
    }
   ],
   "source": [
    "coma7 = nlp(df[\"all comments\"].iloc[7])\n",
    "coma7"
   ]
  },
  {
   "cell_type": "markdown",
   "metadata": {},
   "source": [
    "### **Thread B**: Incapability and attention "
   ]
  },
  {
   "cell_type": "code",
   "execution_count": 35,
   "metadata": {},
   "outputs": [
    {
     "data": {
      "text/plain": [
       "ok /pol/, let's talk nurses.  This is a collection of women and faggots who weren't smart enough to become doctors and now suddenly are national heroes. A piece of shit out of my asshole could become a nurse.  fucking retards"
      ]
     },
     "execution_count": 35,
     "metadata": {},
     "output_type": "execute_result"
    }
   ],
   "source": [
    "post23=nlp(df[\"clean\"].iloc[23])\n",
    "post23"
   ]
  },
  {
   "cell_type": "code",
   "execution_count": 36,
   "metadata": {},
   "outputs": [
    {
     "name": "stdout",
     "output_type": "stream",
     "text": [
      " Sent. 0 = ok /pol/, let's talk nurses.  \n",
      " Sent. 1 = This is a collection of women and faggots who weren't smart enough to become doctors and now suddenly are national heroes.\n",
      " Sent. 2 = A piece of shit out of my asshole could become a nurse.  \n",
      " Sent. 3 = fucking retards\n"
     ]
    }
   ],
   "source": [
    "for i, sent in enumerate(post23.sents):\n",
    "    print(f\" Sent. {i} = {sent}\") "
   ]
  },
  {
   "cell_type": "code",
   "execution_count": 37,
   "metadata": {},
   "outputs": [
    {
     "name": "stdout",
     "output_type": "stream",
     "text": [
      "'s\n",
      "nurses\n",
      "a collection\n",
      "women\n",
      "faggots\n",
      "who\n",
      "doctors\n",
      "national heroes\n",
      "A piece\n",
      "shit\n",
      "my asshole\n",
      "a nurse\n",
      "fucking retards\n"
     ]
    }
   ],
   "source": [
    "for chunk in post23.noun_chunks:\n",
    "    print (chunk)"
   ]
  },
  {
   "cell_type": "markdown",
   "metadata": {},
   "source": [
    "#### Comments in thread"
   ]
  },
  {
   "cell_type": "code",
   "execution_count": 38,
   "metadata": {},
   "outputs": [
    {
     "data": {
      "text/html": [
       "<div>\n",
       "<style scoped>\n",
       "    .dataframe tbody tr th:only-of-type {\n",
       "        vertical-align: middle;\n",
       "    }\n",
       "\n",
       "    .dataframe tbody tr th {\n",
       "        vertical-align: top;\n",
       "    }\n",
       "\n",
       "    .dataframe thead th {\n",
       "        text-align: right;\n",
       "    }\n",
       "</style>\n",
       "<table border=\"1\" class=\"dataframe\">\n",
       "  <thead>\n",
       "    <tr style=\"text-align: right;\">\n",
       "      <th></th>\n",
       "      <th>all comments</th>\n",
       "    </tr>\n",
       "  </thead>\n",
       "  <tbody>\n",
       "    <tr>\n",
       "      <th>0</th>\n",
       "      <td>\\n                    ok /pol/, let's talk nur...</td>\n",
       "    </tr>\n",
       "    <tr>\n",
       "      <th>1</th>\n",
       "      <td>daily reminder for the mentally handicapped s...</td>\n",
       "    </tr>\n",
       "    <tr>\n",
       "      <th>2</th>\n",
       "      <td>How dare these dancing cunts have any joy in ...</td>\n",
       "    </tr>\n",
       "    <tr>\n",
       "      <th>3</th>\n",
       "      <td>&gt;&gt;255922483How do they have time for this shit?</td>\n",
       "    </tr>\n",
       "    <tr>\n",
       "      <th>4</th>\n",
       "      <td>&gt;&gt;255922483My sister is a nurse. A very intel...</td>\n",
       "    </tr>\n",
       "    <tr>\n",
       "      <th>...</th>\n",
       "      <td>...</td>\n",
       "    </tr>\n",
       "    <tr>\n",
       "      <th>304</th>\n",
       "      <td>&gt;&gt;255922483Why are all nurses fat and pitiful...</td>\n",
       "    </tr>\n",
       "    <tr>\n",
       "      <th>305</th>\n",
       "      <td>&gt;&gt;255938622&gt;&gt;255938724fucking sexist misogyni...</td>\n",
       "    </tr>\n",
       "    <tr>\n",
       "      <th>306</th>\n",
       "      <td>&gt;&gt;255931586the people are bitching about thes...</td>\n",
       "    </tr>\n",
       "    <tr>\n",
       "      <th>307</th>\n",
       "      <td>&gt;&gt;255924307That’s just women in the work plac...</td>\n",
       "    </tr>\n",
       "    <tr>\n",
       "      <th>308</th>\n",
       "      <td>&gt;&gt;255922483Even if you think they're brainles...</td>\n",
       "    </tr>\n",
       "  </tbody>\n",
       "</table>\n",
       "<p>309 rows × 1 columns</p>\n",
       "</div>"
      ],
      "text/plain": [
       "                                          all comments\n",
       "0    \\n                    ok /pol/, let's talk nur...\n",
       "1     daily reminder for the mentally handicapped s...\n",
       "2     How dare these dancing cunts have any joy in ...\n",
       "3     >>255922483How do they have time for this shit? \n",
       "4     >>255922483My sister is a nurse. A very intel...\n",
       "..                                                 ...\n",
       "304   >>255922483Why are all nurses fat and pitiful...\n",
       "305   >>255938622>>255938724fucking sexist misogyni...\n",
       "306   >>255931586the people are bitching about thes...\n",
       "307   >>255924307That’s just women in the work plac...\n",
       "308   >>255922483Even if you think they're brainles...\n",
       "\n",
       "[309 rows x 1 columns]"
      ]
     },
     "execution_count": 38,
     "metadata": {},
     "output_type": "execute_result"
    }
   ],
   "source": [
    "post = itemgetter(23)(df[\"comments\"])\n",
    "df1 = pd.DataFrame.from_dict(post)\n",
    "df_comments_b = df1.rename(columns = {0: \"all comments\"})\n",
    "df_comments_b"
   ]
  },
  {
   "cell_type": "code",
   "execution_count": 39,
   "metadata": {},
   "outputs": [],
   "source": [
    "dfb = df_comments_b.apply(lambda col: col.drop_duplicates().reset_index(drop=True))\n",
    "df[\"all comments\"] = dfb[\"all comments\"] "
   ]
  },
  {
   "cell_type": "code",
   "execution_count": 40,
   "metadata": {},
   "outputs": [
    {
     "data": {
      "text/plain": [
       "232     >>255937871The FDA also is a joke and at faul...\n",
       "243     >>255936581>waaa I have to wear PPE and move ...\n",
       "294                                  >>255936926*chucks \n",
       "237     >>255938330it's pretty easy to track downhttp...\n",
       "124     >>255922483This is now a white nationalist in...\n",
       "179                                                 Ugh \n",
       "282     >>255941290Yep, your point? I didn't coin the...\n",
       "299     >>255938622>>255938724fucking sexist misogyni...\n",
       "247                                     >>255927243simp \n",
       "236     >>255938187Sorry I'm not part of your social ...\n",
       "Name: all comments, dtype: object"
      ]
     },
     "execution_count": 40,
     "metadata": {},
     "output_type": "execute_result"
    }
   ],
   "source": [
    "commentsbsample=dfb[\"all comments\"].sample(n=10)\n",
    "commentsbsample"
   ]
  },
  {
   "cell_type": "code",
   "execution_count": 41,
   "metadata": {},
   "outputs": [
    {
     "data": {
      "text/plain": [
       " How dare these dancing cunts have any joy in their lives, I'm disgusted, now l will boycott all hospitals. "
      ]
     },
     "execution_count": 41,
     "metadata": {},
     "output_type": "execute_result"
    }
   ],
   "source": [
    "comB2=nlp(df[\"all comments\"].iloc[2])\n",
    "comB2"
   ]
  },
  {
   "cell_type": "code",
   "execution_count": 42,
   "metadata": {},
   "outputs": [
    {
     "data": {
      "text/plain": [
       " >>255922483My sister is a nurse. A very intelligent woman. She also told me that a lot of nurses are scum of the Earth and frequently bully each other and throw themselves at the senior male doctors. "
      ]
     },
     "execution_count": 42,
     "metadata": {},
     "output_type": "execute_result"
    }
   ],
   "source": [
    "comb4=nlp(df[\"all comments\"].iloc[4])\n",
    "comb4"
   ]
  },
  {
   "cell_type": "code",
   "execution_count": 43,
   "metadata": {},
   "outputs": [
    {
     "data": {
      "text/plain": [
       " >>255924426The good, kind hearted nurses get bullied out of the profession. The ones that remain largely don't give a shit, just want glory and fuck their way up the profession if they can.When my dad was dying in hospital last year, I almost told one of them off for being such a cunt. When my dad eventually died, one of my other sisters gave them a load of shit for being so terrible. "
      ]
     },
     "execution_count": 43,
     "metadata": {},
     "output_type": "execute_result"
    }
   ],
   "source": [
    "comb7=nlp(df[\"all comments\"].iloc[7])\n",
    "comb7"
   ]
  },
  {
   "cell_type": "code",
   "execution_count": 44,
   "metadata": {},
   "outputs": [
    {
     "data": {
      "text/plain": [
       " Some of those cunts just become nurses because the status attention and get well paid. Not because they really want to be nurses. Women just want attention and would do anything to get it, you can bet that most of them are really stupid that doesnt even now how to apply an IV at first try "
      ]
     },
     "execution_count": 44,
     "metadata": {},
     "output_type": "execute_result"
    }
   ],
   "source": [
    "comb10=nlp(df[\"all comments\"].iloc[10])\n",
    "comb10"
   ]
  },
  {
   "cell_type": "markdown",
   "metadata": {},
   "source": [
    "### Thread C: Necessity and heroism"
   ]
  },
  {
   "cell_type": "code",
   "execution_count": 45,
   "metadata": {},
   "outputs": [
    {
     "data": {
      "text/plain": [
       "Every other thread is some anti-nurse topic. Nurses are necessary, without them hospitals don't function. They do 90% of the work inpatients need and are a wealth of knowledge. If you've every been hospitalized for any length of time you already know this. Is it because /pol/ is filled with real life incels or is it Chinese shills?"
      ]
     },
     "execution_count": 45,
     "metadata": {},
     "output_type": "execute_result"
    }
   ],
   "source": [
    "post72=nlp(df[\"clean\"].iloc[72])\n",
    "post72"
   ]
  },
  {
   "cell_type": "code",
   "execution_count": 46,
   "metadata": {},
   "outputs": [
    {
     "name": "stdout",
     "output_type": "stream",
     "text": [
      " Sent. 0 = Every other thread is some anti-nurse topic.\n",
      " Sent. 1 = Nurses are necessary, without them hospitals don't function.\n",
      " Sent. 2 = They do 90% of the work inpatients need and are a wealth of knowledge.\n",
      " Sent. 3 = If you've every been hospitalized for any length of time you already know this.\n",
      " Sent. 4 = Is it because /pol/ is filled with real life incels or is it Chinese shills?\n"
     ]
    }
   ],
   "source": [
    "for i, sent in enumerate(post72.sents):\n",
    "    print(f\" Sent. {i} = {sent}\") "
   ]
  },
  {
   "cell_type": "code",
   "execution_count": 47,
   "metadata": {},
   "outputs": [
    {
     "name": "stdout",
     "output_type": "stream",
     "text": [
      "Every other thread\n",
      "some anti-nurse topic\n",
      "Nurses\n",
      "them\n",
      "hospitals\n",
      "They\n",
      "90%\n",
      "the work inpatients\n",
      "a wealth\n",
      "knowledge\n",
      "you\n",
      "any length\n",
      "time\n",
      "you\n",
      "it\n",
      "real life incels\n",
      "it\n",
      "Chinese shills\n"
     ]
    }
   ],
   "source": [
    "for chunk in post72.noun_chunks:\n",
    "    print (chunk)"
   ]
  },
  {
   "cell_type": "code",
   "execution_count": 48,
   "metadata": {},
   "outputs": [
    {
     "data": {
      "text/html": [
       "<div>\n",
       "<style scoped>\n",
       "    .dataframe tbody tr th:only-of-type {\n",
       "        vertical-align: middle;\n",
       "    }\n",
       "\n",
       "    .dataframe tbody tr th {\n",
       "        vertical-align: top;\n",
       "    }\n",
       "\n",
       "    .dataframe thead th {\n",
       "        text-align: right;\n",
       "    }\n",
       "</style>\n",
       "<table border=\"1\" class=\"dataframe\">\n",
       "  <thead>\n",
       "    <tr style=\"text-align: right;\">\n",
       "      <th></th>\n",
       "      <th>all comments</th>\n",
       "    </tr>\n",
       "  </thead>\n",
       "  <tbody>\n",
       "    <tr>\n",
       "      <th>0</th>\n",
       "      <td>\\n                    Every other thread is so...</td>\n",
       "    </tr>\n",
       "    <tr>\n",
       "      <th>1</th>\n",
       "      <td>&gt;&gt;252756982we don't need nurses doing dance v...</td>\n",
       "    </tr>\n",
       "    <tr>\n",
       "      <th>2</th>\n",
       "      <td>Nurses and doctors are unironically heroes ri...</td>\n",
       "    </tr>\n",
       "    <tr>\n",
       "      <th>3</th>\n",
       "      <td>nurses are sluts in peace timenow that they h...</td>\n",
       "    </tr>\n",
       "    <tr>\n",
       "      <th>4</th>\n",
       "      <td>&gt;&gt;252757174 I didn't swear oaths, and I won't...</td>\n",
       "    </tr>\n",
       "    <tr>\n",
       "      <th>5</th>\n",
       "      <td>&gt;&gt;252756982Nurses do an important job, but th...</td>\n",
       "    </tr>\n",
       "    <tr>\n",
       "      <th>6</th>\n",
       "      <td>&gt;&gt;252756982Yes, yes. I love how now that nurs...</td>\n",
       "    </tr>\n",
       "    <tr>\n",
       "      <th>7</th>\n",
       "      <td>&gt;&gt;252757544You're right. I knew nursing schoo...</td>\n",
       "    </tr>\n",
       "    <tr>\n",
       "      <th>8</th>\n",
       "      <td>&gt;&gt;252757726&gt;ICU nursingThat is literally wher...</td>\n",
       "    </tr>\n",
       "    <tr>\n",
       "      <th>9</th>\n",
       "      <td>&gt;&gt;252757174You're right, and nurses do 10x th...</td>\n",
       "    </tr>\n",
       "    <tr>\n",
       "      <th>10</th>\n",
       "      <td>&gt;&gt;252757128&gt;Nurses take 5 minutes to make a l...</td>\n",
       "    </tr>\n",
       "    <tr>\n",
       "      <th>11</th>\n",
       "      <td>&gt;&gt;252757820It's certainly possible. Not at an...</td>\n",
       "    </tr>\n",
       "    <tr>\n",
       "      <th>12</th>\n",
       "      <td>Actually nurses aides do the work. Nurses are...</td>\n",
       "    </tr>\n",
       "    <tr>\n",
       "      <th>13</th>\n",
       "      <td>&gt;&gt;252756982&gt;Someone does job they agreed to d...</td>\n",
       "    </tr>\n",
       "    <tr>\n",
       "      <th>14</th>\n",
       "      <td>&gt;&gt;252756982Chinese shills and Antifa.</td>\n",
       "    </tr>\n",
       "    <tr>\n",
       "      <th>15</th>\n",
       "      <td>&gt;&gt;252756982They are the anti-vaccination coro...</td>\n",
       "    </tr>\n",
       "    <tr>\n",
       "      <th>16</th>\n",
       "      <td>&gt;&gt;252756982NURSE CURSE</td>\n",
       "    </tr>\n",
       "    <tr>\n",
       "      <th>17</th>\n",
       "      <td>&gt;&gt;252756982Nurses in Australia are probably t...</td>\n",
       "    </tr>\n",
       "    <tr>\n",
       "      <th>18</th>\n",
       "      <td>&gt;&gt;252756982Is Chang trying to do his best Duk...</td>\n",
       "    </tr>\n",
       "    <tr>\n",
       "      <th>19</th>\n",
       "      <td>Like a McDonalds worker nurses can easily be ...</td>\n",
       "    </tr>\n",
       "    <tr>\n",
       "      <th>20</th>\n",
       "      <td>&gt;&gt;252758833120/hour*</td>\n",
       "    </tr>\n",
       "    <tr>\n",
       "      <th>21</th>\n",
       "      <td>&gt;&gt;252758488You can be anti-microchipping-huma...</td>\n",
       "    </tr>\n",
       "    <tr>\n",
       "      <th>22</th>\n",
       "      <td>&gt;&gt;252756982&gt;Go to hospital&gt;Wait 12 hours in t...</td>\n",
       "    </tr>\n",
       "    <tr>\n",
       "      <th>23</th>\n",
       "      <td>&gt;&gt;252758833lol, be a nurse then if it's so go...</td>\n",
       "    </tr>\n",
       "    <tr>\n",
       "      <th>24</th>\n",
       "      <td>&gt;&gt;252756982Chinks of Hazzard</td>\n",
       "    </tr>\n",
       "    <tr>\n",
       "      <th>25</th>\n",
       "      <td>&gt;&gt;252756982Kikes frequent the board to sow di...</td>\n",
       "    </tr>\n",
       "    <tr>\n",
       "      <th>26</th>\n",
       "      <td>&gt;&gt;252758071This is not a time for fun fuckhea...</td>\n",
       "    </tr>\n",
       "    <tr>\n",
       "      <th>27</th>\n",
       "      <td>&gt;&gt;252760502Not really, but that's also not th...</td>\n",
       "    </tr>\n",
       "    <tr>\n",
       "      <th>28</th>\n",
       "      <td>&gt;&gt;252756982Shut up dumb bitch</td>\n",
       "    </tr>\n",
       "    <tr>\n",
       "      <th>29</th>\n",
       "      <td>&gt;&gt;252756982its a natural reaction to all the ...</td>\n",
       "    </tr>\n",
       "    <tr>\n",
       "      <th>30</th>\n",
       "      <td>&gt;&gt;252757544It's really fucked up. The best nu...</td>\n",
       "    </tr>\n",
       "    <tr>\n",
       "      <th>31</th>\n",
       "      <td>&gt;&gt;252758071&gt;NO FUN! ONLY WORK!Yeah exactly. S...</td>\n",
       "    </tr>\n",
       "    <tr>\n",
       "      <th>32</th>\n",
       "      <td>&gt;&gt;252757726&gt;ICU nursingOh you mean where most...</td>\n",
       "    </tr>\n",
       "    <tr>\n",
       "      <th>33</th>\n",
       "      <td>&gt;&gt;252756982&gt;Every other thread is some anti-n...</td>\n",
       "    </tr>\n",
       "    <tr>\n",
       "      <th>34</th>\n",
       "      <td>&gt;&gt;252756982Nurses should die in a fire, selfi...</td>\n",
       "    </tr>\n",
       "    <tr>\n",
       "      <th>35</th>\n",
       "      <td>&gt;&gt;252759393There’s constant demand for nurses...</td>\n",
       "    </tr>\n",
       "    <tr>\n",
       "      <th>36</th>\n",
       "      <td>&gt;&gt;252761233&gt;he didn’t count the nigger farms ...</td>\n",
       "    </tr>\n",
       "    <tr>\n",
       "      <th>37</th>\n",
       "      <td>&gt;&gt;252759393We have a bureaucratic bloated hea...</td>\n",
       "    </tr>\n",
       "  </tbody>\n",
       "</table>\n",
       "</div>"
      ],
      "text/plain": [
       "                                         all comments\n",
       "0   \\n                    Every other thread is so...\n",
       "1    >>252756982we don't need nurses doing dance v...\n",
       "2    Nurses and doctors are unironically heroes ri...\n",
       "3    nurses are sluts in peace timenow that they h...\n",
       "4    >>252757174 I didn't swear oaths, and I won't...\n",
       "5    >>252756982Nurses do an important job, but th...\n",
       "6    >>252756982Yes, yes. I love how now that nurs...\n",
       "7    >>252757544You're right. I knew nursing schoo...\n",
       "8    >>252757726>ICU nursingThat is literally wher...\n",
       "9    >>252757174You're right, and nurses do 10x th...\n",
       "10   >>252757128>Nurses take 5 minutes to make a l...\n",
       "11   >>252757820It's certainly possible. Not at an...\n",
       "12   Actually nurses aides do the work. Nurses are...\n",
       "13   >>252756982>Someone does job they agreed to d...\n",
       "14             >>252756982Chinese shills and Antifa. \n",
       "15   >>252756982They are the anti-vaccination coro...\n",
       "16                            >>252756982NURSE CURSE \n",
       "17   >>252756982Nurses in Australia are probably t...\n",
       "18   >>252756982Is Chang trying to do his best Duk...\n",
       "19   Like a McDonalds worker nurses can easily be ...\n",
       "20                              >>252758833120/hour* \n",
       "21   >>252758488You can be anti-microchipping-huma...\n",
       "22   >>252756982>Go to hospital>Wait 12 hours in t...\n",
       "23   >>252758833lol, be a nurse then if it's so go...\n",
       "24                      >>252756982Chinks of Hazzard \n",
       "25   >>252756982Kikes frequent the board to sow di...\n",
       "26   >>252758071This is not a time for fun fuckhea...\n",
       "27   >>252760502Not really, but that's also not th...\n",
       "28                     >>252756982Shut up dumb bitch \n",
       "29   >>252756982its a natural reaction to all the ...\n",
       "30   >>252757544It's really fucked up. The best nu...\n",
       "31   >>252758071>NO FUN! ONLY WORK!Yeah exactly. S...\n",
       "32   >>252757726>ICU nursingOh you mean where most...\n",
       "33   >>252756982>Every other thread is some anti-n...\n",
       "34   >>252756982Nurses should die in a fire, selfi...\n",
       "35   >>252759393There’s constant demand for nurses...\n",
       "36   >>252761233>he didn’t count the nigger farms ...\n",
       "37   >>252759393We have a bureaucratic bloated hea..."
      ]
     },
     "execution_count": 48,
     "metadata": {},
     "output_type": "execute_result"
    }
   ],
   "source": [
    "all_comments = pd.DataFrame.from_dict(df[\"comments\"])\n",
    "post = itemgetter(72)(df[\"comments\"])\n",
    "df1 = pd.DataFrame.from_dict(post)\n",
    "df_comments_c = df1.rename(columns = {0: \"all comments\"})\n",
    "df_comments_c"
   ]
  },
  {
   "cell_type": "code",
   "execution_count": 49,
   "metadata": {},
   "outputs": [],
   "source": [
    "dfc = df_comments_c.apply(lambda col: col.drop_duplicates().reset_index(drop=True))\n",
    "df[\"all comments\"] = dfc[\"all comments\"] "
   ]
  },
  {
   "cell_type": "code",
   "execution_count": 50,
   "metadata": {},
   "outputs": [
    {
     "data": {
      "text/plain": [
       " Nurses and doctors are unironically heroes right now. Risking their lives to save other lives. Definition of heroism. I'll get shit for this post but it's absolute truth. "
      ]
     },
     "execution_count": 50,
     "metadata": {},
     "output_type": "execute_result"
    }
   ],
   "source": [
    "comc2 = nlp(df[\"all comments\"].iloc[2])\n",
    "comc2"
   ]
  },
  {
   "cell_type": "code",
   "execution_count": 51,
   "metadata": {},
   "outputs": [
    {
     "data": {
      "text/plain": [
       " >>252756982Nurses do an important job, but they are self congratulatory attention whores who think they're as smart as doctors, and it's exhausting. "
      ]
     },
     "execution_count": 51,
     "metadata": {},
     "output_type": "execute_result"
    }
   ],
   "source": [
    "comc5 = nlp(df[\"all comments\"].iloc[5])\n",
    "comc5"
   ]
  },
  {
   "cell_type": "code",
   "execution_count": 52,
   "metadata": {},
   "outputs": [
    {
     "data": {
      "text/plain": [
       " >>252756982Nurses should die in a fire, selfish useless thots that would literally kill you if a doctor told them to do it "
      ]
     },
     "execution_count": 52,
     "metadata": {},
     "output_type": "execute_result"
    }
   ],
   "source": [
    "comc34 = nlp(df[\"all comments\"].iloc[34])\n",
    "comc34"
   ]
  },
  {
   "cell_type": "code",
   "execution_count": 53,
   "metadata": {},
   "outputs": [
    {
     "data": {
      "text/plain": [
       " >>252759393There’s constant demand for nurses because our societies are constantly growing fatter, older, and sicker. Once the boomers die off and wine aunts an hero demand for nurses will collapse. "
      ]
     },
     "execution_count": 53,
     "metadata": {},
     "output_type": "execute_result"
    }
   ],
   "source": [
    "comc35 = nlp(df[\"all comments\"].iloc[35])\n",
    "comc35"
   ]
  }
 ],
 "metadata": {
  "kernelspec": {
   "display_name": "Python 3",
   "language": "python",
   "name": "python3"
  },
  "language_info": {
   "codemirror_mode": {
    "name": "ipython",
    "version": 3
   },
   "file_extension": ".py",
   "mimetype": "text/x-python",
   "name": "python",
   "nbconvert_exporter": "python",
   "pygments_lexer": "ipython3",
   "version": "3.7.6"
  }
 },
 "nbformat": 4,
 "nbformat_minor": 4
}
